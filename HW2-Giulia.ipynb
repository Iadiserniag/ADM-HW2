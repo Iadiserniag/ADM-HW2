{
 "cells": [
  {
   "cell_type": "markdown",
   "id": "094692ca-ba6a-4c2c-8670-355ef78dd473",
   "metadata": {
    "tags": []
   },
   "source": [
    "# Research Questions"
   ]
  },
  {
   "cell_type": "code",
   "execution_count": 1,
   "id": "3c7d42a7-22dd-4443-ac9a-812f32cd5da3",
   "metadata": {},
   "outputs": [],
   "source": [
    "# import all packages\n",
    "\n",
    "import pandas as pd\n",
    "import numpy as np\n",
    "import math\n",
    "from matplotlib import pyplot as plt\n",
    "import scipy.stats"
   ]
  },
  {
   "cell_type": "markdown",
   "id": "d0279dcc-2143-46bb-85f4-55d2bf7a45d2",
   "metadata": {},
   "source": [
    "## RQ1)\n",
    "After collecting information, the Data Scientists have to know what dataset they are dealing with, so let's start with an Exploratory Data Analysis (EDA). What can you say about our datasets? Please summarise its main characteristics with visual and tabular methods."
   ]
  },
  {
   "cell_type": "code",
   "execution_count": 11,
   "id": "6d5e8a09-a1b5-41c8-9441-605b8d14302f",
   "metadata": {},
   "outputs": [],
   "source": [
    "# import the dataset df_instagram_profiles\n",
    "\n",
    "df_instagram_profiles = pd.read_csv(\"~/instagram_profiles.csv\", delimiter = \"\\t\")"
   ]
  },
  {
   "cell_type": "markdown",
   "id": "ddfe1039-4003-4d51-972d-5e57583968a1",
   "metadata": {
    "tags": []
   },
   "source": [
    "* #### Dataset df_instagram_profiles description\n",
    "  * profile_id --> float\n",
    "  * profile_name --> string\n",
    "  * firstname_lastname --> string\n",
    "  * description --> string\n",
    "  * following --> float\n",
    "  * followers --> float\n",
    "  * n_posts --> float\n",
    "  * url --> string\n",
    "  * cts --> time\n",
    "  * is_business_account --> categorial variable bool {False, True}"
   ]
  },
  {
   "cell_type": "code",
   "execution_count": 18,
   "id": "aee313d8-bdf2-4da6-a01b-0005bd14c959",
   "metadata": {},
   "outputs": [
    {
     "data": {
      "text/html": [
       "<div>\n",
       "<style scoped>\n",
       "    .dataframe tbody tr th:only-of-type {\n",
       "        vertical-align: middle;\n",
       "    }\n",
       "\n",
       "    .dataframe tbody tr th {\n",
       "        vertical-align: top;\n",
       "    }\n",
       "\n",
       "    .dataframe thead th {\n",
       "        text-align: right;\n",
       "    }\n",
       "</style>\n",
       "<table border=\"1\" class=\"dataframe\">\n",
       "  <thead>\n",
       "    <tr style=\"text-align: right;\">\n",
       "      <th></th>\n",
       "      <th>following</th>\n",
       "      <th>followers</th>\n",
       "      <th>n_posts</th>\n",
       "    </tr>\n",
       "  </thead>\n",
       "  <tbody>\n",
       "    <tr>\n",
       "      <th>count</th>\n",
       "      <td>3452771</td>\n",
       "      <td>3452771</td>\n",
       "      <td>3452771</td>\n",
       "    </tr>\n",
       "    <tr>\n",
       "      <th>mean</th>\n",
       "      <td>1406</td>\n",
       "      <td>4740</td>\n",
       "      <td>410</td>\n",
       "    </tr>\n",
       "    <tr>\n",
       "      <th>std</th>\n",
       "      <td>8113</td>\n",
       "      <td>193909</td>\n",
       "      <td>1042</td>\n",
       "    </tr>\n",
       "    <tr>\n",
       "      <th>min</th>\n",
       "      <td>0</td>\n",
       "      <td>0</td>\n",
       "      <td>0</td>\n",
       "    </tr>\n",
       "    <tr>\n",
       "      <th>25%</th>\n",
       "      <td>356</td>\n",
       "      <td>159</td>\n",
       "      <td>22</td>\n",
       "    </tr>\n",
       "    <tr>\n",
       "      <th>50%</th>\n",
       "      <td>754</td>\n",
       "      <td>406</td>\n",
       "      <td>120</td>\n",
       "    </tr>\n",
       "    <tr>\n",
       "      <th>75%</th>\n",
       "      <td>1573</td>\n",
       "      <td>974</td>\n",
       "      <td>420</td>\n",
       "    </tr>\n",
       "    <tr>\n",
       "      <th>max</th>\n",
       "      <td>4191080</td>\n",
       "      <td>285457645</td>\n",
       "      <td>183730</td>\n",
       "    </tr>\n",
       "  </tbody>\n",
       "</table>\n",
       "</div>"
      ],
      "text/plain": [
       "      following  followers  n_posts\n",
       "count   3452771    3452771  3452771\n",
       "mean       1406       4740      410\n",
       "std        8113     193909     1042\n",
       "min           0          0        0\n",
       "25%         356        159       22\n",
       "50%         754        406      120\n",
       "75%        1573        974      420\n",
       "max     4191080  285457645   183730"
      ]
     },
     "execution_count": 18,
     "metadata": {},
     "output_type": "execute_result"
    }
   ],
   "source": [
    "# Numerical data description\n",
    "\n",
    "df_instagram_profiles['sid'] = df_instagram_profiles['sid'].astype(str)\n",
    "df_instagram_profiles['profile_id'] = df_instagram_profiles['profile_id'].astype(str)\n",
    "df_instagram_profiles = df_instagram_profiles.astype({'following': 'int', 'followers': 'int', 'n_posts': 'int'}, errors = 'ignore')\n",
    "\n",
    "df_instagram_profiles.describe().apply(lambda s: s.apply('{0:.0f}'.format))"
   ]
  },
  {
   "cell_type": "code",
   "execution_count": 111,
   "id": "a8552397-ba29-4921-b26c-8e3cf492b756",
   "metadata": {},
   "outputs": [
    {
     "data": {
      "text/plain": [
       "Text(0.5, 1.05, 'Count of followers')"
      ]
     },
     "execution_count": 111,
     "metadata": {},
     "output_type": "execute_result"
    },
    {
     "data": {
      "image/png": "[encoded data removed]",
      "text/plain": [
       "<Figure size 432x288 with 1 Axes>"
      ]
     },
     "metadata": {
      "needs_background": "light"
     },
     "output_type": "display_data"
    }
   ],
   "source": [
    "# histograms\n",
    "\n",
    "# number of followers\n",
    "followers = df_instagram_profiles['followers']\n",
    "\n",
    "followers.plot(kind = 'hist', color = 'red', bins = 30, logy = True, ec = 'black')\n",
    "plt.xlabel(\"followers\", labelpad = 14)\n",
    "plt.ylabel(\"Count\", labelpad = 14)\n",
    "plt.title(\"Count of followers\", y = 1.05)"
   ]
  },
  {
   "cell_type": "code",
   "execution_count": 116,
   "id": "f7e0cecb-67dc-456d-8465-b83d5f106b07",
   "metadata": {},
   "outputs": [
    {
     "data": {
      "text/plain": [
       "Text(0.5, 1.05, 'Count of following')"
      ]
     },
     "execution_count": 116,
     "metadata": {},
     "output_type": "execute_result"
    },
    {
     "data": {
      "image/png": "[encoded data removed]",
      "text/plain": [
       "<Figure size 432x288 with 1 Axes>"
      ]
     },
     "metadata": {
      "needs_background": "light"
     },
     "output_type": "display_data"
    }
   ],
   "source": [
    "# number of following\n",
    "\n",
    "following = df_instagram_profiles['following']\n",
    "\n",
    "following.plot(kind = 'hist', color = 'orange', bins = 30, logy = True, ec = 'black')\n",
    "plt.xlabel(\"following\", labelpad = 14)\n",
    "plt.ylabel(\"Count\", labelpad = 14)\n",
    "plt.title(\"Count of following\", y = 1.05)\n",
    "\n",
    "# Despite the log transformation, the data is still strongly skewed to the left"
   ]
  },
  {
   "cell_type": "code",
   "execution_count": 110,
   "id": "51294d50-4846-4070-9dfa-bee2ce91c13a",
   "metadata": {},
   "outputs": [
    {
     "data": {
      "text/plain": [
       "Text(0.5, 1.05, 'Number of posts per Instagram account')"
      ]
     },
     "execution_count": 110,
     "metadata": {},
     "output_type": "execute_result"
    },
    {
     "data": {
      "image/png": "[encoded data removed]",
      "text/plain": [
       "<Figure size 432x288 with 1 Axes>"
      ]
     },
     "metadata": {
      "needs_background": "light"
     },
     "output_type": "display_data"
    }
   ],
   "source": [
    "# number of posts\n",
    "\n",
    "n_posts = df_instagram_profiles['n_posts']\n",
    "\n",
    "n_posts.plot(kind = 'hist', color = 'purple', bins = 30, logy = True, ec = 'black')\n",
    "plt.xlabel(\"n_posts\", labelpad = 14)\n",
    "plt.ylabel(\"Count\", labelpad = 14)\n",
    "plt.title(\"Number of posts per Instagram account\", y = 1.05)"
   ]
  },
  {
   "cell_type": "code",
   "execution_count": 163,
   "id": "fed0ecbe-6e91-4ac9-9981-57d96c1b02d7",
   "metadata": {},
   "outputs": [
    {
     "data": {
      "text/html": [
       "<div>\n",
       "<style scoped>\n",
       "    .dataframe tbody tr th:only-of-type {\n",
       "        vertical-align: middle;\n",
       "    }\n",
       "\n",
       "    .dataframe tbody tr th {\n",
       "        vertical-align: top;\n",
       "    }\n",
       "\n",
       "    .dataframe thead th {\n",
       "        text-align: right;\n",
       "    }\n",
       "</style>\n",
       "<table border=\"1\" class=\"dataframe\">\n",
       "  <thead>\n",
       "    <tr style=\"text-align: right;\">\n",
       "      <th></th>\n",
       "      <th>sid</th>\n",
       "      <th>profile_id</th>\n",
       "      <th>profile_name</th>\n",
       "      <th>firstname_lastname</th>\n",
       "      <th>following</th>\n",
       "      <th>followers</th>\n",
       "      <th>n_posts</th>\n",
       "      <th>cts</th>\n",
       "      <th>is_business_account</th>\n",
       "    </tr>\n",
       "  </thead>\n",
       "  <tbody>\n",
       "    <tr>\n",
       "      <th>count</th>\n",
       "      <td>3130712</td>\n",
       "      <td>3130712.00000</td>\n",
       "      <td>3130712</td>\n",
       "      <td>3130712</td>\n",
       "      <td>3130712.00000</td>\n",
       "      <td>3130712.00000</td>\n",
       "      <td>3130712.00000</td>\n",
       "      <td>3130712</td>\n",
       "      <td>3130712</td>\n",
       "    </tr>\n",
       "    <tr>\n",
       "      <th>unique</th>\n",
       "      <td>3130712</td>\n",
       "      <td>NaN</td>\n",
       "      <td>3130198</td>\n",
       "      <td>2631446</td>\n",
       "      <td>NaN</td>\n",
       "      <td>NaN</td>\n",
       "      <td>NaN</td>\n",
       "      <td>3125856</td>\n",
       "      <td>2</td>\n",
       "    </tr>\n",
       "    <tr>\n",
       "      <th>top</th>\n",
       "      <td>4184446</td>\n",
       "      <td>NaN</td>\n",
       "      <td>severnieparki</td>\n",
       "      <td>Sarah</td>\n",
       "      <td>NaN</td>\n",
       "      <td>NaN</td>\n",
       "      <td>NaN</td>\n",
       "      <td>2019-07-11 08:55:58.527 -0400</td>\n",
       "      <td>False</td>\n",
       "    </tr>\n",
       "    <tr>\n",
       "      <th>freq</th>\n",
       "      <td>1</td>\n",
       "      <td>NaN</td>\n",
       "      <td>4</td>\n",
       "      <td>1943</td>\n",
       "      <td>NaN</td>\n",
       "      <td>NaN</td>\n",
       "      <td>NaN</td>\n",
       "      <td>4</td>\n",
       "      <td>2353131</td>\n",
       "    </tr>\n",
       "    <tr>\n",
       "      <th>mean</th>\n",
       "      <td>NaN</td>\n",
       "      <td>3150131064.49193</td>\n",
       "      <td>NaN</td>\n",
       "      <td>NaN</td>\n",
       "      <td>1426.60581</td>\n",
       "      <td>3916.17963</td>\n",
       "      <td>402.61814</td>\n",
       "      <td>NaN</td>\n",
       "      <td>NaN</td>\n",
       "    </tr>\n",
       "    <tr>\n",
       "      <th>std</th>\n",
       "      <td>NaN</td>\n",
       "      <td>50978745464.20139</td>\n",
       "      <td>NaN</td>\n",
       "      <td>NaN</td>\n",
       "      <td>8287.95290</td>\n",
       "      <td>86862.69128</td>\n",
       "      <td>1005.49892</td>\n",
       "      <td>NaN</td>\n",
       "      <td>NaN</td>\n",
       "    </tr>\n",
       "    <tr>\n",
       "      <th>min</th>\n",
       "      <td>NaN</td>\n",
       "      <td>4.00000</td>\n",
       "      <td>NaN</td>\n",
       "      <td>NaN</td>\n",
       "      <td>0.00000</td>\n",
       "      <td>0.00000</td>\n",
       "      <td>0.00000</td>\n",
       "      <td>NaN</td>\n",
       "      <td>NaN</td>\n",
       "    </tr>\n",
       "    <tr>\n",
       "      <th>25%</th>\n",
       "      <td>NaN</td>\n",
       "      <td>274860333.00000</td>\n",
       "      <td>NaN</td>\n",
       "      <td>NaN</td>\n",
       "      <td>365.00000</td>\n",
       "      <td>165.00000</td>\n",
       "      <td>24.00000</td>\n",
       "      <td>NaN</td>\n",
       "      <td>NaN</td>\n",
       "    </tr>\n",
       "    <tr>\n",
       "      <th>50%</th>\n",
       "      <td>NaN</td>\n",
       "      <td>1687535342.00000</td>\n",
       "      <td>NaN</td>\n",
       "      <td>NaN</td>\n",
       "      <td>768.00000</td>\n",
       "      <td>409.00000</td>\n",
       "      <td>122.00000</td>\n",
       "      <td>NaN</td>\n",
       "      <td>NaN</td>\n",
       "    </tr>\n",
       "    <tr>\n",
       "      <th>75%</th>\n",
       "      <td>NaN</td>\n",
       "      <td>5605473867.50000</td>\n",
       "      <td>NaN</td>\n",
       "      <td>NaN</td>\n",
       "      <td>1603.00000</td>\n",
       "      <td>967.00000</td>\n",
       "      <td>419.00000</td>\n",
       "      <td>NaN</td>\n",
       "      <td>NaN</td>\n",
       "    </tr>\n",
       "    <tr>\n",
       "      <th>max</th>\n",
       "      <td>NaN</td>\n",
       "      <td>90010129721363.00000</td>\n",
       "      <td>NaN</td>\n",
       "      <td>NaN</td>\n",
       "      <td>4191080.00000</td>\n",
       "      <td>29542143.00000</td>\n",
       "      <td>183730.00000</td>\n",
       "      <td>NaN</td>\n",
       "      <td>NaN</td>\n",
       "    </tr>\n",
       "  </tbody>\n",
       "</table>\n",
       "</div>"
      ],
      "text/plain": [
       "            sid           profile_id   profile_name firstname_lastname  \\\n",
       "count   3130712        3130712.00000        3130712            3130712   \n",
       "unique  3130712                  NaN        3130198            2631446   \n",
       "top     4184446                  NaN  severnieparki              Sarah   \n",
       "freq          1                  NaN              4               1943   \n",
       "mean        NaN     3150131064.49193            NaN                NaN   \n",
       "std         NaN    50978745464.20139            NaN                NaN   \n",
       "min         NaN              4.00000            NaN                NaN   \n",
       "25%         NaN      274860333.00000            NaN                NaN   \n",
       "50%         NaN     1687535342.00000            NaN                NaN   \n",
       "75%         NaN     5605473867.50000            NaN                NaN   \n",
       "max         NaN 90010129721363.00000            NaN                NaN   \n",
       "\n",
       "           following      followers       n_posts  \\\n",
       "count  3130712.00000  3130712.00000 3130712.00000   \n",
       "unique           NaN            NaN           NaN   \n",
       "top              NaN            NaN           NaN   \n",
       "freq             NaN            NaN           NaN   \n",
       "mean      1426.60581     3916.17963     402.61814   \n",
       "std       8287.95290    86862.69128    1005.49892   \n",
       "min          0.00000        0.00000       0.00000   \n",
       "25%        365.00000      165.00000      24.00000   \n",
       "50%        768.00000      409.00000     122.00000   \n",
       "75%       1603.00000      967.00000     419.00000   \n",
       "max    4191080.00000 29542143.00000  183730.00000   \n",
       "\n",
       "                                  cts is_business_account  \n",
       "count                         3130712             3130712  \n",
       "unique                        3125856                   2  \n",
       "top     2019-07-11 08:55:58.527 -0400               False  \n",
       "freq                                4             2353131  \n",
       "mean                              NaN                 NaN  \n",
       "std                               NaN                 NaN  \n",
       "min                               NaN                 NaN  \n",
       "25%                               NaN                 NaN  \n",
       "50%                               NaN                 NaN  \n",
       "75%                               NaN                 NaN  \n",
       "max                               NaN                 NaN  "
      ]
     },
     "execution_count": 163,
     "metadata": {},
     "output_type": "execute_result"
    }
   ],
   "source": [
    "# Categorical data description\n",
    "\n",
    "df_instagram_profiles.describe(include = 'all')\n",
    "\n",
    "# most common name is Sarah\n"
   ]
  },
  {
   "cell_type": "code",
   "execution_count": 114,
   "id": "a286220d-f20e-4172-9bac-8b659b66205c",
   "metadata": {},
   "outputs": [
    {
     "data": {
      "text/plain": [
       "Text(0.5, 1.05, 'Count of business accounts')"
      ]
     },
     "execution_count": 114,
     "metadata": {},
     "output_type": "execute_result"
    },
    {
     "data": {
      "image/png": "[encoded data removed]",
      "text/plain": [
       "<Figure size 432x288 with 1 Axes>"
      ]
     },
     "metadata": {
      "needs_background": "light"
     },
     "output_type": "display_data"
    }
   ],
   "source": [
    "# is_business_account\n",
    "\n",
    "is_business_account = df_instagram_profiles['is_business_account']\n",
    "count = is_business_account.value_counts()\n",
    "\n",
    "count.plot(kind = 'bar', color = 'orange', ec = 'purple')\n",
    "plt.xlabel(\"is_business_account\", labelpad = 14)\n",
    "plt.ylabel(\"Count\", labelpad = 14)\n",
    "plt.title(\"Count of business accounts\", y = 1.05)"
   ]
  },
  {
   "cell_type": "code",
   "execution_count": 2,
   "id": "f5407029-cae8-4d9d-bb59-6a339a089227",
   "metadata": {},
   "outputs": [],
   "source": [
    "# import the dataset df_instagram_locations\n",
    "\n",
    "df_instagram_locations = pd.read_csv(\"~/instagram_locations.csv\", delimiter = \"\\t\")"
   ]
  },
  {
   "cell_type": "markdown",
   "id": "13ebd3a2-3648-47bb-b50e-bf588ebdaa2c",
   "metadata": {},
   "source": [
    "#### Dataset df_instagram_profiles description\n",
    "\n",
    "* sid --> string\n",
    "* id  --> string\n",
    "* name (location's name) --> string\n",
    "* street --> string\n",
    "* zip (code) --> string\n",
    "* city --> string\n",
    "* region --> string\n",
    "* cd (country code) --> string\n",
    "* phone --> string\n",
    "* aj_exact_city_match --> bool {False, True}\n",
    "* blurb (description of the place) --> string\n",
    "* dir_city_name --> string\n",
    "* dir_city_slug --> string\n",
    "* dir_country_id --> string\n",
    "* dir_country_name --> string\n",
    "* lat (latitute) --> float\n",
    "* lng (longitute) --> float\n",
    "* primary_alias_on_fb --> string\n",
    "* slug --> string\n",
    "* website --> string\n",
    "* cts --> string"
   ]
  },
  {
   "cell_type": "code",
   "execution_count": 4,
   "id": "81c6b739-d58a-403c-ab88-2f3391e17513",
   "metadata": {},
   "outputs": [
    {
     "data": {
      "text/html": [
       "<div>\n",
       "<style scoped>\n",
       "    .dataframe tbody tr th:only-of-type {\n",
       "        vertical-align: middle;\n",
       "    }\n",
       "\n",
       "    .dataframe tbody tr th {\n",
       "        vertical-align: top;\n",
       "    }\n",
       "\n",
       "    .dataframe thead th {\n",
       "        text-align: right;\n",
       "    }\n",
       "</style>\n",
       "<table border=\"1\" class=\"dataframe\">\n",
       "  <thead>\n",
       "    <tr style=\"text-align: right;\">\n",
       "      <th></th>\n",
       "      <th>lat</th>\n",
       "      <th>lng</th>\n",
       "    </tr>\n",
       "  </thead>\n",
       "  <tbody>\n",
       "    <tr>\n",
       "      <th>count</th>\n",
       "      <td>1016495.00000</td>\n",
       "      <td>1016495.00000</td>\n",
       "    </tr>\n",
       "    <tr>\n",
       "      <th>mean</th>\n",
       "      <td>-15.29215</td>\n",
       "      <td>34.21718</td>\n",
       "    </tr>\n",
       "    <tr>\n",
       "      <th>std</th>\n",
       "      <td>76.15085</td>\n",
       "      <td>22.01081</td>\n",
       "    </tr>\n",
       "    <tr>\n",
       "      <th>min</th>\n",
       "      <td>-179.98300</td>\n",
       "      <td>-90.00000</td>\n",
       "    </tr>\n",
       "    <tr>\n",
       "      <th>25%</th>\n",
       "      <td>-80.15575</td>\n",
       "      <td>29.97555</td>\n",
       "    </tr>\n",
       "    <tr>\n",
       "      <th>50%</th>\n",
       "      <td>-2.45000</td>\n",
       "      <td>40.67820</td>\n",
       "    </tr>\n",
       "    <tr>\n",
       "      <th>75%</th>\n",
       "      <td>30.71740</td>\n",
       "      <td>48.84722</td>\n",
       "    </tr>\n",
       "    <tr>\n",
       "      <th>max</th>\n",
       "      <td>179.99412</td>\n",
       "      <td>89.99870</td>\n",
       "    </tr>\n",
       "  </tbody>\n",
       "</table>\n",
       "</div>"
      ],
      "text/plain": [
       "                lat           lng\n",
       "count 1016495.00000 1016495.00000\n",
       "mean      -15.29215      34.21718\n",
       "std        76.15085      22.01081\n",
       "min      -179.98300     -90.00000\n",
       "25%       -80.15575      29.97555\n",
       "50%        -2.45000      40.67820\n",
       "75%        30.71740      48.84722\n",
       "max       179.99412      89.99870"
      ]
     },
     "execution_count": 4,
     "metadata": {},
     "output_type": "execute_result"
    }
   ],
   "source": [
    "# Numerical data description\n",
    "\n",
    "pd.set_option('display.float_format', lambda x: '%.5f' % x)\n",
    "\n",
    "df_instagram_locations['sid'] = df_instagram_locations['sid'].astype(str)\n",
    "df_instagram_locations['id'] = df_instagram_locations['id'].astype(str)\n",
    "\n",
    "df_instagram_locations.describe()"
   ]
  },
  {
   "cell_type": "code",
   "execution_count": 9,
   "id": "e9e6df4e-9c34-4c46-83d9-459f9e942e38",
   "metadata": {},
   "outputs": [
    {
     "data": {
      "text/plain": [
       "Text(0.5, 1.05, 'Latitude distribution')"
      ]
     },
     "execution_count": 9,
     "metadata": {},
     "output_type": "execute_result"
    },
    {
     "data": {
      "image/png": "[encoded data removed]",
      "text/plain": [
       "<Figure size 432x288 with 1 Axes>"
      ]
     },
     "metadata": {
      "needs_background": "light"
     },
     "output_type": "display_data"
    }
   ],
   "source": [
    "# histograms\n",
    "\n",
    "# latitude\n",
    "latitude = df_instagram_locations['lat']\n",
    "\n",
    "latitude.plot(kind = 'hist', color = 'red', bins = 20, ec = 'black')\n",
    "plt.xlabel(\"latitude\", labelpad = 14)\n",
    "plt.ylabel(\"Count\", labelpad = 14)\n",
    "plt.title(\"Latitude distribution\", y = 1.05)"
   ]
  },
  {
   "cell_type": "code",
   "execution_count": 14,
   "id": "b3f0f446-c1f3-4ff0-9b15-12eb02712133",
   "metadata": {},
   "outputs": [
    {
     "data": {
      "text/plain": [
       "37.6156"
      ]
     },
     "execution_count": 14,
     "metadata": {},
     "output_type": "execute_result"
    }
   ],
   "source": [
    "# most common latitude\n",
    "latitude.value_counts().idxmax()"
   ]
  },
  {
   "cell_type": "code",
   "execution_count": 15,
   "id": "96df151c-af0e-45c6-b967-792110c045a5",
   "metadata": {},
   "outputs": [
    {
     "data": {
      "text/plain": [
       "Text(0.5, 1.05, 'Longitude distribution')"
      ]
     },
     "execution_count": 15,
     "metadata": {},
     "output_type": "execute_result"
    },
    {
     "data": {
      "image/png": "[encoded data removed]",
      "text/plain": [
       "<Figure size 432x288 with 1 Axes>"
      ]
     },
     "metadata": {
      "needs_background": "light"
     },
     "output_type": "display_data"
    }
   ],
   "source": [
    "# histograms\n",
    "\n",
    "# longitude\n",
    "longitude = df_instagram_locations['lng']\n",
    "\n",
    "longitude.plot(kind = 'hist', color = 'blue', bins = 25, ec = 'black')\n",
    "plt.xlabel(\"longitude\", labelpad = 14)\n",
    "plt.ylabel(\"Count\", labelpad = 14)\n",
    "plt.title(\"Longitude distribution\", y = 1.05)"
   ]
  },
  {
   "cell_type": "code",
   "execution_count": 16,
   "id": "7b69e65c-da5d-4141-8357-2d25395d898a",
   "metadata": {},
   "outputs": [
    {
     "data": {
      "text/plain": [
       "55.7522"
      ]
     },
     "execution_count": 16,
     "metadata": {},
     "output_type": "execute_result"
    }
   ],
   "source": [
    "# most common longitude\n",
    "longitude.value_counts().idxmax()"
   ]
  },
  {
   "cell_type": "markdown",
   "id": "c1e46ed7-d35c-458c-b783-8cccba1f87a0",
   "metadata": {},
   "source": [
    "Looking at the most common longitude and latitude, the country is Iran"
   ]
  },
  {
   "cell_type": "code",
   "execution_count": 159,
   "id": "808d0fe3-5e07-449a-80e4-bb2434b96658",
   "metadata": {},
   "outputs": [
    {
     "data": {
      "text/html": [
       "<div>\n",
       "<style scoped>\n",
       "    .dataframe tbody tr th:only-of-type {\n",
       "        vertical-align: middle;\n",
       "    }\n",
       "\n",
       "    .dataframe tbody tr th {\n",
       "        vertical-align: top;\n",
       "    }\n",
       "\n",
       "    .dataframe thead th {\n",
       "        text-align: right;\n",
       "    }\n",
       "</style>\n",
       "<table border=\"1\" class=\"dataframe\">\n",
       "  <thead>\n",
       "    <tr style=\"text-align: right;\">\n",
       "      <th></th>\n",
       "      <th>sid</th>\n",
       "      <th>id</th>\n",
       "      <th>name</th>\n",
       "      <th>street</th>\n",
       "      <th>zip</th>\n",
       "      <th>city</th>\n",
       "      <th>region</th>\n",
       "      <th>cd</th>\n",
       "      <th>phone</th>\n",
       "      <th>aj_exact_city_match</th>\n",
       "      <th>...</th>\n",
       "      <th>dir_city_name</th>\n",
       "      <th>dir_city_slug</th>\n",
       "      <th>dir_country_id</th>\n",
       "      <th>dir_country_name</th>\n",
       "      <th>lat</th>\n",
       "      <th>lng</th>\n",
       "      <th>primary_alias_on_fb</th>\n",
       "      <th>slug</th>\n",
       "      <th>website</th>\n",
       "      <th>cts</th>\n",
       "    </tr>\n",
       "  </thead>\n",
       "  <tbody>\n",
       "    <tr>\n",
       "      <th>count</th>\n",
       "      <td>1022658</td>\n",
       "      <td>1022658</td>\n",
       "      <td>1022658</td>\n",
       "      <td>715704</td>\n",
       "      <td>715579</td>\n",
       "      <td>937166</td>\n",
       "      <td>1760</td>\n",
       "      <td>939010</td>\n",
       "      <td>601688</td>\n",
       "      <td>1000510</td>\n",
       "      <td>...</td>\n",
       "      <td>495698</td>\n",
       "      <td>495221</td>\n",
       "      <td>495628</td>\n",
       "      <td>495698</td>\n",
       "      <td>1016495.00000</td>\n",
       "      <td>1016495.00000</td>\n",
       "      <td>425531</td>\n",
       "      <td>941668</td>\n",
       "      <td>623262</td>\n",
       "      <td>1022658</td>\n",
       "    </tr>\n",
       "    <tr>\n",
       "      <th>unique</th>\n",
       "      <td>1022658</td>\n",
       "      <td>1022658</td>\n",
       "      <td>935776</td>\n",
       "      <td>656262</td>\n",
       "      <td>181474</td>\n",
       "      <td>118541</td>\n",
       "      <td>1743</td>\n",
       "      <td>245</td>\n",
       "      <td>577305</td>\n",
       "      <td>2</td>\n",
       "      <td>...</td>\n",
       "      <td>114996</td>\n",
       "      <td>114426</td>\n",
       "      <td>234</td>\n",
       "      <td>235</td>\n",
       "      <td>NaN</td>\n",
       "      <td>NaN</td>\n",
       "      <td>425486</td>\n",
       "      <td>833398</td>\n",
       "      <td>583671</td>\n",
       "      <td>1022298</td>\n",
       "    </tr>\n",
       "    <tr>\n",
       "      <th>top</th>\n",
       "      <td>719981</td>\n",
       "      <td>110296492939207</td>\n",
       "      <td>Starbucks</td>\n",
       "      <td></td>\n",
       "      <td>10001</td>\n",
       "      <td>New York, New York</td>\n",
       "      <td>Eastern Province</td>\n",
       "      <td>US</td>\n",
       "      <td>+44 345 748 4950</td>\n",
       "      <td>False</td>\n",
       "      <td>...</td>\n",
       "      <td>Hells Kitchen, Manhattan</td>\n",
       "      <td>hells-kitchen-manhattan</td>\n",
       "      <td>US</td>\n",
       "      <td>United States</td>\n",
       "      <td>NaN</td>\n",
       "      <td>NaN</td>\n",
       "      <td>pandpnewcastle</td>\n",
       "      <td>-</td>\n",
       "      <td>http://www.starbucks.com/</td>\n",
       "      <td>2019-05-25 23:54:48.969</td>\n",
       "    </tr>\n",
       "    <tr>\n",
       "      <th>freq</th>\n",
       "      <td>1</td>\n",
       "      <td>1</td>\n",
       "      <td>1097</td>\n",
       "      <td>1652</td>\n",
       "      <td>1649</td>\n",
       "      <td>29954</td>\n",
       "      <td>4</td>\n",
       "      <td>331424</td>\n",
       "      <td>178</td>\n",
       "      <td>907651</td>\n",
       "      <td>...</td>\n",
       "      <td>1326</td>\n",
       "      <td>1326</td>\n",
       "      <td>170983</td>\n",
       "      <td>170983</td>\n",
       "      <td>NaN</td>\n",
       "      <td>NaN</td>\n",
       "      <td>2</td>\n",
       "      <td>6588</td>\n",
       "      <td>297</td>\n",
       "      <td>2</td>\n",
       "    </tr>\n",
       "    <tr>\n",
       "      <th>mean</th>\n",
       "      <td>NaN</td>\n",
       "      <td>NaN</td>\n",
       "      <td>NaN</td>\n",
       "      <td>NaN</td>\n",
       "      <td>NaN</td>\n",
       "      <td>NaN</td>\n",
       "      <td>NaN</td>\n",
       "      <td>NaN</td>\n",
       "      <td>NaN</td>\n",
       "      <td>NaN</td>\n",
       "      <td>...</td>\n",
       "      <td>NaN</td>\n",
       "      <td>NaN</td>\n",
       "      <td>NaN</td>\n",
       "      <td>NaN</td>\n",
       "      <td>-15.29215</td>\n",
       "      <td>34.21718</td>\n",
       "      <td>NaN</td>\n",
       "      <td>NaN</td>\n",
       "      <td>NaN</td>\n",
       "      <td>NaN</td>\n",
       "    </tr>\n",
       "    <tr>\n",
       "      <th>std</th>\n",
       "      <td>NaN</td>\n",
       "      <td>NaN</td>\n",
       "      <td>NaN</td>\n",
       "      <td>NaN</td>\n",
       "      <td>NaN</td>\n",
       "      <td>NaN</td>\n",
       "      <td>NaN</td>\n",
       "      <td>NaN</td>\n",
       "      <td>NaN</td>\n",
       "      <td>NaN</td>\n",
       "      <td>...</td>\n",
       "      <td>NaN</td>\n",
       "      <td>NaN</td>\n",
       "      <td>NaN</td>\n",
       "      <td>NaN</td>\n",
       "      <td>76.15085</td>\n",
       "      <td>22.01081</td>\n",
       "      <td>NaN</td>\n",
       "      <td>NaN</td>\n",
       "      <td>NaN</td>\n",
       "      <td>NaN</td>\n",
       "    </tr>\n",
       "    <tr>\n",
       "      <th>min</th>\n",
       "      <td>NaN</td>\n",
       "      <td>NaN</td>\n",
       "      <td>NaN</td>\n",
       "      <td>NaN</td>\n",
       "      <td>NaN</td>\n",
       "      <td>NaN</td>\n",
       "      <td>NaN</td>\n",
       "      <td>NaN</td>\n",
       "      <td>NaN</td>\n",
       "      <td>NaN</td>\n",
       "      <td>...</td>\n",
       "      <td>NaN</td>\n",
       "      <td>NaN</td>\n",
       "      <td>NaN</td>\n",
       "      <td>NaN</td>\n",
       "      <td>-179.98300</td>\n",
       "      <td>-90.00000</td>\n",
       "      <td>NaN</td>\n",
       "      <td>NaN</td>\n",
       "      <td>NaN</td>\n",
       "      <td>NaN</td>\n",
       "    </tr>\n",
       "    <tr>\n",
       "      <th>25%</th>\n",
       "      <td>NaN</td>\n",
       "      <td>NaN</td>\n",
       "      <td>NaN</td>\n",
       "      <td>NaN</td>\n",
       "      <td>NaN</td>\n",
       "      <td>NaN</td>\n",
       "      <td>NaN</td>\n",
       "      <td>NaN</td>\n",
       "      <td>NaN</td>\n",
       "      <td>NaN</td>\n",
       "      <td>...</td>\n",
       "      <td>NaN</td>\n",
       "      <td>NaN</td>\n",
       "      <td>NaN</td>\n",
       "      <td>NaN</td>\n",
       "      <td>-80.15575</td>\n",
       "      <td>29.97555</td>\n",
       "      <td>NaN</td>\n",
       "      <td>NaN</td>\n",
       "      <td>NaN</td>\n",
       "      <td>NaN</td>\n",
       "    </tr>\n",
       "    <tr>\n",
       "      <th>50%</th>\n",
       "      <td>NaN</td>\n",
       "      <td>NaN</td>\n",
       "      <td>NaN</td>\n",
       "      <td>NaN</td>\n",
       "      <td>NaN</td>\n",
       "      <td>NaN</td>\n",
       "      <td>NaN</td>\n",
       "      <td>NaN</td>\n",
       "      <td>NaN</td>\n",
       "      <td>NaN</td>\n",
       "      <td>...</td>\n",
       "      <td>NaN</td>\n",
       "      <td>NaN</td>\n",
       "      <td>NaN</td>\n",
       "      <td>NaN</td>\n",
       "      <td>-2.45000</td>\n",
       "      <td>40.67820</td>\n",
       "      <td>NaN</td>\n",
       "      <td>NaN</td>\n",
       "      <td>NaN</td>\n",
       "      <td>NaN</td>\n",
       "    </tr>\n",
       "    <tr>\n",
       "      <th>75%</th>\n",
       "      <td>NaN</td>\n",
       "      <td>NaN</td>\n",
       "      <td>NaN</td>\n",
       "      <td>NaN</td>\n",
       "      <td>NaN</td>\n",
       "      <td>NaN</td>\n",
       "      <td>NaN</td>\n",
       "      <td>NaN</td>\n",
       "      <td>NaN</td>\n",
       "      <td>NaN</td>\n",
       "      <td>...</td>\n",
       "      <td>NaN</td>\n",
       "      <td>NaN</td>\n",
       "      <td>NaN</td>\n",
       "      <td>NaN</td>\n",
       "      <td>30.71740</td>\n",
       "      <td>48.84722</td>\n",
       "      <td>NaN</td>\n",
       "      <td>NaN</td>\n",
       "      <td>NaN</td>\n",
       "      <td>NaN</td>\n",
       "    </tr>\n",
       "    <tr>\n",
       "      <th>max</th>\n",
       "      <td>NaN</td>\n",
       "      <td>NaN</td>\n",
       "      <td>NaN</td>\n",
       "      <td>NaN</td>\n",
       "      <td>NaN</td>\n",
       "      <td>NaN</td>\n",
       "      <td>NaN</td>\n",
       "      <td>NaN</td>\n",
       "      <td>NaN</td>\n",
       "      <td>NaN</td>\n",
       "      <td>...</td>\n",
       "      <td>NaN</td>\n",
       "      <td>NaN</td>\n",
       "      <td>NaN</td>\n",
       "      <td>NaN</td>\n",
       "      <td>179.99412</td>\n",
       "      <td>89.99870</td>\n",
       "      <td>NaN</td>\n",
       "      <td>NaN</td>\n",
       "      <td>NaN</td>\n",
       "      <td>NaN</td>\n",
       "    </tr>\n",
       "  </tbody>\n",
       "</table>\n",
       "<p>11 rows × 23 columns</p>\n",
       "</div>"
      ],
      "text/plain": [
       "            sid               id       name  street     zip  \\\n",
       "count   1022658          1022658    1022658  715704  715579   \n",
       "unique  1022658          1022658     935776  656262  181474   \n",
       "top      719981  110296492939207  Starbucks           10001   \n",
       "freq          1                1       1097    1652    1649   \n",
       "mean        NaN              NaN        NaN     NaN     NaN   \n",
       "std         NaN              NaN        NaN     NaN     NaN   \n",
       "min         NaN              NaN        NaN     NaN     NaN   \n",
       "25%         NaN              NaN        NaN     NaN     NaN   \n",
       "50%         NaN              NaN        NaN     NaN     NaN   \n",
       "75%         NaN              NaN        NaN     NaN     NaN   \n",
       "max         NaN              NaN        NaN     NaN     NaN   \n",
       "\n",
       "                      city            region      cd             phone  \\\n",
       "count               937166              1760  939010            601688   \n",
       "unique              118541              1743     245            577305   \n",
       "top     New York, New York  Eastern Province      US  +44 345 748 4950   \n",
       "freq                 29954                 4  331424               178   \n",
       "mean                   NaN               NaN     NaN               NaN   \n",
       "std                    NaN               NaN     NaN               NaN   \n",
       "min                    NaN               NaN     NaN               NaN   \n",
       "25%                    NaN               NaN     NaN               NaN   \n",
       "50%                    NaN               NaN     NaN               NaN   \n",
       "75%                    NaN               NaN     NaN               NaN   \n",
       "max                    NaN               NaN     NaN               NaN   \n",
       "\n",
       "       aj_exact_city_match  ...             dir_city_name  \\\n",
       "count              1000510  ...                    495698   \n",
       "unique                   2  ...                    114996   \n",
       "top                  False  ...  Hells Kitchen, Manhattan   \n",
       "freq                907651  ...                      1326   \n",
       "mean                   NaN  ...                       NaN   \n",
       "std                    NaN  ...                       NaN   \n",
       "min                    NaN  ...                       NaN   \n",
       "25%                    NaN  ...                       NaN   \n",
       "50%                    NaN  ...                       NaN   \n",
       "75%                    NaN  ...                       NaN   \n",
       "max                    NaN  ...                       NaN   \n",
       "\n",
       "                  dir_city_slug dir_country_id dir_country_name           lat  \\\n",
       "count                    495221         495628           495698 1016495.00000   \n",
       "unique                   114426            234              235           NaN   \n",
       "top     hells-kitchen-manhattan             US    United States           NaN   \n",
       "freq                       1326         170983           170983           NaN   \n",
       "mean                        NaN            NaN              NaN     -15.29215   \n",
       "std                         NaN            NaN              NaN      76.15085   \n",
       "min                         NaN            NaN              NaN    -179.98300   \n",
       "25%                         NaN            NaN              NaN     -80.15575   \n",
       "50%                         NaN            NaN              NaN      -2.45000   \n",
       "75%                         NaN            NaN              NaN      30.71740   \n",
       "max                         NaN            NaN              NaN     179.99412   \n",
       "\n",
       "                 lng primary_alias_on_fb    slug                    website  \\\n",
       "count  1016495.00000              425531  941668                     623262   \n",
       "unique           NaN              425486  833398                     583671   \n",
       "top              NaN      pandpnewcastle       -  http://www.starbucks.com/   \n",
       "freq             NaN                   2    6588                        297   \n",
       "mean        34.21718                 NaN     NaN                        NaN   \n",
       "std         22.01081                 NaN     NaN                        NaN   \n",
       "min        -90.00000                 NaN     NaN                        NaN   \n",
       "25%         29.97555                 NaN     NaN                        NaN   \n",
       "50%         40.67820                 NaN     NaN                        NaN   \n",
       "75%         48.84722                 NaN     NaN                        NaN   \n",
       "max         89.99870                 NaN     NaN                        NaN   \n",
       "\n",
       "                            cts  \n",
       "count                   1022658  \n",
       "unique                  1022298  \n",
       "top     2019-05-25 23:54:48.969  \n",
       "freq                          2  \n",
       "mean                        NaN  \n",
       "std                         NaN  \n",
       "min                         NaN  \n",
       "25%                         NaN  \n",
       "50%                         NaN  \n",
       "75%                         NaN  \n",
       "max                         NaN  \n",
       "\n",
       "[11 rows x 23 columns]"
      ]
     },
     "execution_count": 159,
     "metadata": {},
     "output_type": "execute_result"
    }
   ],
   "source": [
    "# Categorical data description\n",
    "\n",
    "df_instagram_locations.describe(include = 'all')\n",
    "\n",
    "# most commong location name is Starbucks\n",
    "# most common city is New York\n",
    "# most common region is eastern province\n",
    "# most common country code is US\n",
    "# most common website is http://www.starbucks.com/\n",
    "# most common ct is 2019-05-25 23:54:48.969\n"
   ]
  },
  {
   "cell_type": "code",
   "execution_count": 161,
   "id": "2a3b4013-d22c-4346-b84e-a52680460c4b",
   "metadata": {},
   "outputs": [
    {
     "data": {
      "text/plain": [
       "Text(0.5, 1.05, 'Count of aj_exact_city_match')"
      ]
     },
     "execution_count": 161,
     "metadata": {},
     "output_type": "execute_result"
    },
    {
     "data": {
      "image/png": "[encoded data removed]",
      "text/plain": [
       "<Figure size 432x288 with 1 Axes>"
      ]
     },
     "metadata": {
      "needs_background": "light"
     },
     "output_type": "display_data"
    }
   ],
   "source": [
    "# aj_exact_city_match\n",
    "\n",
    "aj_exact_city_match = df_instagram_locations['aj_exact_city_match']\n",
    "count = aj_exact_city_match.value_counts()\n",
    "\n",
    "count.plot(kind = 'bar', color = 'orange', ec = 'black')\n",
    "plt.xlabel(\"aj_exact_city_match\", labelpad = 14)\n",
    "plt.ylabel(\"Count\", labelpad = 14)\n",
    "plt.title(\"Count of aj_exact_city_match\", y = 1.05)"
   ]
  },
  {
   "cell_type": "markdown",
   "id": "74411db5-2d7e-4565-bb4a-bf6407368707",
   "metadata": {
    "tags": []
   },
   "source": [
    "## RQ2)\n",
    "Let's explore the dataset by finding simple insights regarding the profile and posts."
   ]
  },
  {
   "cell_type": "code",
   "execution_count": 3,
   "id": "78fa9af4-0392-4e0d-ae0a-d48045496fd0",
   "metadata": {},
   "outputs": [
    {
     "data": {
      "text/plain": [
       "4509586"
      ]
     },
     "execution_count": 3,
     "metadata": {},
     "output_type": "execute_result"
    }
   ],
   "source": [
    "df_instagram_profiles.shape[0] # no. rows = 4,509,586"
   ]
  },
  {
   "cell_type": "code",
   "execution_count": 12,
   "id": "3da9cdc1-a39c-42b2-8eed-c41b3154633e",
   "metadata": {},
   "outputs": [
    {
     "data": {
      "text/plain": [
       "sid                          0\n",
       "profile_id               32447\n",
       "profile_name                 0\n",
       "firstname_lastname      288465\n",
       "description            2055996\n",
       "following              1056815\n",
       "followers              1056815\n",
       "n_posts                1056815\n",
       "url                    3639312\n",
       "cts                     438488\n",
       "is_business_account    1064263\n",
       "dtype: int64"
      ]
     },
     "execution_count": 12,
     "metadata": {},
     "output_type": "execute_result"
    }
   ],
   "source": [
    "# Deal with missing values\n",
    "df_instagram_profiles.isna().sum() \n",
    "\n",
    "# firstname_lastname,\n",
    "# description,\n",
    "# following,\n",
    "# followers,\n",
    "# n_posts,\n",
    "# url and\n",
    "# is_business_account have missing values NaN"
   ]
  },
  {
   "cell_type": "code",
   "execution_count": 20,
   "id": "09d9e0ee-f8d5-4448-a963-396c8189659c",
   "metadata": {},
   "outputs": [
    {
     "data": {
      "text/plain": [
       "9"
      ]
     },
     "execution_count": 20,
     "metadata": {},
     "output_type": "execute_result"
    }
   ],
   "source": [
    "# remove the columns that are not useful for our purposes\n",
    "\n",
    "df_instagram_profiles_RQ2 = df_instagram_profiles.drop(['description', 'url'], axis = 1)\n",
    "df_instagram_profiles_RQ2.shape[1]"
   ]
  },
  {
   "cell_type": "code",
   "execution_count": 21,
   "id": "c2b53f40-ec97-4301-a52c-5ad1836d39e1",
   "metadata": {},
   "outputs": [],
   "source": [
    "# Replace is_business_account missing rows with 'False' values\n",
    "\n",
    "df_instagram_profiles_RQ2.is_business_account.fillna(False, inplace = True)"
   ]
  },
  {
   "cell_type": "code",
   "execution_count": 22,
   "id": "5881bb4d-ed6f-40aa-9b08-c340467776d5",
   "metadata": {},
   "outputs": [
    {
     "data": {
      "text/plain": [
       "3135298"
      ]
     },
     "execution_count": 22,
     "metadata": {},
     "output_type": "execute_result"
    }
   ],
   "source": [
    "# remove all remaining rows containing missing values as they are not useful for our purposes\n",
    "\n",
    "df_instagram_profiles_RQ2.dropna(axis = 0, how = 'any', inplace = True)\n",
    "df_instagram_profiles_RQ2.shape[0] # no. rows = 3,130,712"
   ]
  },
  {
   "cell_type": "code",
   "execution_count": 9,
   "id": "e31c1f92-5479-4050-8a01-63b7abddefd1",
   "metadata": {},
   "outputs": [
    {
     "data": {
      "text/plain": [
       "sid                    0\n",
       "profile_id             0\n",
       "profile_name           0\n",
       "firstname_lastname     0\n",
       "following              0\n",
       "followers              0\n",
       "n_posts                0\n",
       "cts                    0\n",
       "is_business_account    0\n",
       "dtype: int64"
      ]
     },
     "execution_count": 9,
     "metadata": {},
     "output_type": "execute_result"
    }
   ],
   "source": [
    "df_instagram_profiles_RQ2.isna().sum()"
   ]
  },
  {
   "cell_type": "markdown",
   "id": "7aae84c6-385b-41bb-b5f5-97a84b42db8b",
   "metadata": {
    "tags": []
   },
   "source": [
    "##### a) Plot the number of posts for each profile in descending order"
   ]
  },
  {
   "cell_type": "code",
   "execution_count": 23,
   "id": "e43d49d9-153b-4017-a08b-68f6cd8606c0",
   "metadata": {},
   "outputs": [],
   "source": [
    "df_instagram_profiles_RQ2.sort_values(by = 'n_posts', ascending = False, inplace = True)"
   ]
  },
  {
   "cell_type": "code",
   "execution_count": 27,
   "id": "ab7cbe7a-dffa-4eb6-b6ed-87db0c9ecf92",
   "metadata": {},
   "outputs": [
    {
     "data": {
      "text/plain": [
       "3990313    183730\n",
       "2571453    142428\n",
       "4338921    126340\n",
       "3942129    125220\n",
       "4219642    117262\n",
       "            ...  \n",
       "2548300         0\n",
       "714068          0\n",
       "3264886         0\n",
       "3264882         0\n",
       "3239264         0\n",
       "Name: n_posts, Length: 3135298, dtype: int64"
      ]
     },
     "execution_count": 27,
     "metadata": {},
     "output_type": "execute_result"
    }
   ],
   "source": [
    "df_instagram_profiles_RQ2.n_posts.astype(int)"
   ]
  },
  {
   "cell_type": "code",
   "execution_count": 12,
   "id": "45d48b49-736e-4420-865c-58e47f3da57e",
   "metadata": {},
   "outputs": [
    {
     "data": {
      "text/plain": [
       "Text(0.5, 1.05, 'Number of posts sorted')"
      ]
     },
     "execution_count": 12,
     "metadata": {},
     "output_type": "execute_result"
    },
    {
     "data": {
      "image/png": "[encoded data removed]",
      "text/plain": [
       "<Figure size 432x288 with 1 Axes>"
      ]
     },
     "metadata": {
      "needs_background": "light"
     },
     "output_type": "display_data"
    }
   ],
   "source": [
    "# log transformation histogram\n",
    "\n",
    "n_posts_sorted = df_instagram_profiles_RQ2['n_posts']\n",
    "\n",
    "n_posts_sorted.plot(kind = 'hist', color = 'blue', bins = 30, ec = 'black', logy = True)\n",
    "plt.xlabel(\"n_posts\", labelpad = 14)\n",
    "plt.ylabel(\"Count\", labelpad = 14)\n",
    "plt.title(\"Number of posts sorted\", y = 1.05)"
   ]
  },
  {
   "cell_type": "markdown",
   "id": "322d1f26-ff14-4db4-aaa9-3a2a7464e29e",
   "metadata": {},
   "source": [
    "##### b) What posts have the highest number of \"likes\"?"
   ]
  },
  {
   "cell_type": "code",
   "execution_count": 2,
   "id": "0d870a62-2064-49b1-830b-cbb3c3457d44",
   "metadata": {},
   "outputs": [],
   "source": [
    "# import the instagram_posts.csv dataset (only the columns that we need for this excercise)\n",
    "\n",
    "fields = [\"numbr_likes\", \"number_comments\"]\n",
    "df_instagram_posts_RQ2_1 = pd.read_csv(\"~/instagram_posts.csv\", delimiter = \"\\t\", usecols = fields)"
   ]
  },
  {
   "cell_type": "code",
   "execution_count": 19,
   "id": "11406e4b-558e-4905-baa9-91ba27f072cf",
   "metadata": {},
   "outputs": [
    {
     "data": {
      "text/plain": [
       "42710197"
      ]
     },
     "execution_count": 19,
     "metadata": {},
     "output_type": "execute_result"
    }
   ],
   "source": [
    "df_instagram_posts_RQ2_1.shape[0] # no. of rows = 42,710,197"
   ]
  },
  {
   "cell_type": "code",
   "execution_count": 4,
   "id": "4ce40ef8-e180-40c0-a4f5-2fae597264f5",
   "metadata": {},
   "outputs": [
    {
     "data": {
      "text/plain": [
       "numbr_likes        36\n",
       "number_comments    36\n",
       "dtype: int64"
      ]
     },
     "execution_count": 4,
     "metadata": {},
     "output_type": "execute_result"
    }
   ],
   "source": [
    "df_instagram_posts_RQ2_1.isna().sum() # only 36 posts have NaN values (we can ignore them)"
   ]
  },
  {
   "cell_type": "code",
   "execution_count": 3,
   "id": "d334f6d9-94b0-491b-897c-4ba033c76aae",
   "metadata": {},
   "outputs": [],
   "source": [
    "# delete the NaN values\n",
    "\n",
    "df_instagram_posts_RQ2_1.dropna(axis = 0, how = 'any', inplace = True)"
   ]
  },
  {
   "cell_type": "code",
   "execution_count": 4,
   "id": "686ac0ca-4a15-4fb0-9180-42ce53bd26b6",
   "metadata": {},
   "outputs": [],
   "source": [
    "# transform float to integer number\n",
    "\n",
    "df_instagram_posts_RQ2_1 = df_instagram_posts_RQ2_1.astype({'numbr_likes': 'int', 'number_comments': 'int'}, errors = 'ignore')"
   ]
  },
  {
   "cell_type": "code",
   "execution_count": 23,
   "id": "27389727-5729-4389-bf87-a496429c7962",
   "metadata": {},
   "outputs": [],
   "source": [
    "most_likes = df_instagram_posts_RQ2_1.sort_values(by = 'numbr_likes', ascending = False).head(10)"
   ]
  },
  {
   "cell_type": "code",
   "execution_count": 26,
   "id": "9f6cd52b-870c-4a54-9061-d61cab66f271",
   "metadata": {},
   "outputs": [
    {
     "data": {
      "text/html": [
       "<div>\n",
       "<style scoped>\n",
       "    .dataframe tbody tr th:only-of-type {\n",
       "        vertical-align: middle;\n",
       "    }\n",
       "\n",
       "    .dataframe tbody tr th {\n",
       "        vertical-align: top;\n",
       "    }\n",
       "\n",
       "    .dataframe thead th {\n",
       "        text-align: right;\n",
       "    }\n",
       "</style>\n",
       "<table border=\"1\" class=\"dataframe\">\n",
       "  <thead>\n",
       "    <tr style=\"text-align: right;\">\n",
       "      <th></th>\n",
       "      <th>numbr_likes</th>\n",
       "      <th>number_comments</th>\n",
       "    </tr>\n",
       "  </thead>\n",
       "  <tbody>\n",
       "    <tr>\n",
       "      <th>19624085</th>\n",
       "      <td>8822952</td>\n",
       "      <td>165886</td>\n",
       "    </tr>\n",
       "    <tr>\n",
       "      <th>19623988</th>\n",
       "      <td>5447066</td>\n",
       "      <td>25303</td>\n",
       "    </tr>\n",
       "    <tr>\n",
       "      <th>19624082</th>\n",
       "      <td>5116398</td>\n",
       "      <td>40608</td>\n",
       "    </tr>\n",
       "    <tr>\n",
       "      <th>19623986</th>\n",
       "      <td>4271466</td>\n",
       "      <td>30770</td>\n",
       "    </tr>\n",
       "    <tr>\n",
       "      <th>39701024</th>\n",
       "      <td>4264745</td>\n",
       "      <td>18691</td>\n",
       "    </tr>\n",
       "    <tr>\n",
       "      <th>6293907</th>\n",
       "      <td>3586546</td>\n",
       "      <td>15405</td>\n",
       "    </tr>\n",
       "    <tr>\n",
       "      <th>19624086</th>\n",
       "      <td>3558599</td>\n",
       "      <td>15715</td>\n",
       "    </tr>\n",
       "    <tr>\n",
       "      <th>19802016</th>\n",
       "      <td>3533326</td>\n",
       "      <td>59475</td>\n",
       "    </tr>\n",
       "    <tr>\n",
       "      <th>30850564</th>\n",
       "      <td>3340297</td>\n",
       "      <td>149489</td>\n",
       "    </tr>\n",
       "    <tr>\n",
       "      <th>39812576</th>\n",
       "      <td>3311246</td>\n",
       "      <td>64318</td>\n",
       "    </tr>\n",
       "  </tbody>\n",
       "</table>\n",
       "</div>"
      ],
      "text/plain": [
       "          numbr_likes  number_comments\n",
       "19624085      8822952           165886\n",
       "19623988      5447066            25303\n",
       "19624082      5116398            40608\n",
       "19623986      4271466            30770\n",
       "39701024      4264745            18691\n",
       "6293907       3586546            15405\n",
       "19624086      3558599            15715\n",
       "19802016      3533326            59475\n",
       "30850564      3340297           149489\n",
       "39812576      3311246            64318"
      ]
     },
     "execution_count": 26,
     "metadata": {},
     "output_type": "execute_result"
    }
   ],
   "source": [
    "most_likes # 165,886"
   ]
  },
  {
   "cell_type": "markdown",
   "id": "cdb48081-b6e0-43af-b1e5-920ba59fd11c",
   "metadata": {},
   "source": [
    "##### c) What posts have the most and the least number of comments?"
   ]
  },
  {
   "cell_type": "code",
   "execution_count": 25,
   "id": "f87f7a6c-2bb4-4d7d-98cd-f6c9537f6912",
   "metadata": {},
   "outputs": [
    {
     "data": {
      "text/html": [
       "<div>\n",
       "<style scoped>\n",
       "    .dataframe tbody tr th:only-of-type {\n",
       "        vertical-align: middle;\n",
       "    }\n",
       "\n",
       "    .dataframe tbody tr th {\n",
       "        vertical-align: top;\n",
       "    }\n",
       "\n",
       "    .dataframe thead th {\n",
       "        text-align: right;\n",
       "    }\n",
       "</style>\n",
       "<table border=\"1\" class=\"dataframe\">\n",
       "  <thead>\n",
       "    <tr style=\"text-align: right;\">\n",
       "      <th></th>\n",
       "      <th>numbr_likes</th>\n",
       "      <th>number_comments</th>\n",
       "    </tr>\n",
       "  </thead>\n",
       "  <tbody>\n",
       "    <tr>\n",
       "      <th>41873060</th>\n",
       "      <td>38871</td>\n",
       "      <td>488953</td>\n",
       "    </tr>\n",
       "    <tr>\n",
       "      <th>12164781</th>\n",
       "      <td>81523</td>\n",
       "      <td>313997</td>\n",
       "    </tr>\n",
       "    <tr>\n",
       "      <th>33261751</th>\n",
       "      <td>54507</td>\n",
       "      <td>257488</td>\n",
       "    </tr>\n",
       "    <tr>\n",
       "      <th>11149127</th>\n",
       "      <td>331703</td>\n",
       "      <td>214365</td>\n",
       "    </tr>\n",
       "    <tr>\n",
       "      <th>9383817</th>\n",
       "      <td>23515</td>\n",
       "      <td>189888</td>\n",
       "    </tr>\n",
       "    <tr>\n",
       "      <th>5427268</th>\n",
       "      <td>129258</td>\n",
       "      <td>180635</td>\n",
       "    </tr>\n",
       "    <tr>\n",
       "      <th>25257169</th>\n",
       "      <td>684861</td>\n",
       "      <td>173988</td>\n",
       "    </tr>\n",
       "    <tr>\n",
       "      <th>6220011</th>\n",
       "      <td>2224495</td>\n",
       "      <td>170836</td>\n",
       "    </tr>\n",
       "    <tr>\n",
       "      <th>31689573</th>\n",
       "      <td>226336</td>\n",
       "      <td>166919</td>\n",
       "    </tr>\n",
       "    <tr>\n",
       "      <th>14257307</th>\n",
       "      <td>169791</td>\n",
       "      <td>166198</td>\n",
       "    </tr>\n",
       "  </tbody>\n",
       "</table>\n",
       "</div>"
      ],
      "text/plain": [
       "          numbr_likes  number_comments\n",
       "41873060        38871           488953\n",
       "12164781        81523           313997\n",
       "33261751        54507           257488\n",
       "11149127       331703           214365\n",
       "9383817         23515           189888\n",
       "5427268        129258           180635\n",
       "25257169       684861           173988\n",
       "6220011       2224495           170836\n",
       "31689573       226336           166919\n",
       "14257307       169791           166198"
      ]
     },
     "execution_count": 25,
     "metadata": {},
     "output_type": "execute_result"
    }
   ],
   "source": [
    "most_comments = df_instagram_posts_RQ2_1.sort_values(by = 'number_comments', ascending = False).head(10)\n",
    "most_comments # 488,953"
   ]
  },
  {
   "cell_type": "code",
   "execution_count": 15,
   "id": "24b85c87-3b8a-4e89-86d4-25027e5a18bd",
   "metadata": {},
   "outputs": [
    {
     "data": {
      "text/html": [
       "<div>\n",
       "<style scoped>\n",
       "    .dataframe tbody tr th:only-of-type {\n",
       "        vertical-align: middle;\n",
       "    }\n",
       "\n",
       "    .dataframe tbody tr th {\n",
       "        vertical-align: top;\n",
       "    }\n",
       "\n",
       "    .dataframe thead th {\n",
       "        text-align: right;\n",
       "    }\n",
       "</style>\n",
       "<table border=\"1\" class=\"dataframe\">\n",
       "  <thead>\n",
       "    <tr style=\"text-align: right;\">\n",
       "      <th></th>\n",
       "      <th>post_id</th>\n",
       "      <th>numbr_likes</th>\n",
       "      <th>number_comments</th>\n",
       "    </tr>\n",
       "  </thead>\n",
       "  <tbody>\n",
       "    <tr>\n",
       "      <th>0</th>\n",
       "      <td>BXdjjUlgcgq</td>\n",
       "      <td>80</td>\n",
       "      <td>0</td>\n",
       "    </tr>\n",
       "    <tr>\n",
       "      <th>709</th>\n",
       "      <td>Bx-2z8Hhk1j</td>\n",
       "      <td>29</td>\n",
       "      <td>0</td>\n",
       "    </tr>\n",
       "    <tr>\n",
       "      <th>289</th>\n",
       "      <td>Bxr-ibHps7V</td>\n",
       "      <td>25</td>\n",
       "      <td>0</td>\n",
       "    </tr>\n",
       "    <tr>\n",
       "      <th>712</th>\n",
       "      <td>Bx5mknNBLCG</td>\n",
       "      <td>35</td>\n",
       "      <td>0</td>\n",
       "    </tr>\n",
       "    <tr>\n",
       "      <th>713</th>\n",
       "      <td>Bx3TT5TB3Tu</td>\n",
       "      <td>188</td>\n",
       "      <td>0</td>\n",
       "    </tr>\n",
       "    <tr>\n",
       "      <th>286</th>\n",
       "      <td>Bxztf_xlzLh</td>\n",
       "      <td>15</td>\n",
       "      <td>0</td>\n",
       "    </tr>\n",
       "    <tr>\n",
       "      <th>714</th>\n",
       "      <td>Bx0fZxkh-_4</td>\n",
       "      <td>134</td>\n",
       "      <td>0</td>\n",
       "    </tr>\n",
       "    <tr>\n",
       "      <th>284</th>\n",
       "      <td>Bx65tHPJH2S</td>\n",
       "      <td>18</td>\n",
       "      <td>0</td>\n",
       "    </tr>\n",
       "    <tr>\n",
       "      <th>283</th>\n",
       "      <td>ByA02DAl8SZ</td>\n",
       "      <td>19</td>\n",
       "      <td>0</td>\n",
       "    </tr>\n",
       "    <tr>\n",
       "      <th>282</th>\n",
       "      <td>ByCqFD-ASgn</td>\n",
       "      <td>9</td>\n",
       "      <td>0</td>\n",
       "    </tr>\n",
       "  </tbody>\n",
       "</table>\n",
       "</div>"
      ],
      "text/plain": [
       "         post_id  numbr_likes  number_comments\n",
       "0    BXdjjUlgcgq           80                0\n",
       "709  Bx-2z8Hhk1j           29                0\n",
       "289  Bxr-ibHps7V           25                0\n",
       "712  Bx5mknNBLCG           35                0\n",
       "713  Bx3TT5TB3Tu          188                0\n",
       "286  Bxztf_xlzLh           15                0\n",
       "714  Bx0fZxkh-_4          134                0\n",
       "284  Bx65tHPJH2S           18                0\n",
       "283  ByA02DAl8SZ           19                0\n",
       "282  ByCqFD-ASgn            9                0"
      ]
     },
     "execution_count": 15,
     "metadata": {},
     "output_type": "execute_result"
    }
   ],
   "source": [
    "least_comments = df_instagram_posts_RQ2_1.sort_values(by = 'number_comments', ascending = True).head(10)\n",
    "least_comments"
   ]
  },
  {
   "cell_type": "markdown",
   "id": "9daf2878-f844-4226-a5a6-c09683326b7a",
   "metadata": {
    "tags": []
   },
   "source": [
    "##### d) How many posts include tagged locations, and how many do not? Show it using an appropriate chart and comment your results."
   ]
  },
  {
   "cell_type": "code",
   "execution_count": 2,
   "id": "ecb7f743-1f30-4c95-8ee0-dcfee3ee97dc",
   "metadata": {},
   "outputs": [],
   "source": [
    "# import the instagram_posts.csv dataset (only the columns that we need for this excercise)\n",
    "\n",
    "fields = [\"post_id\", \"location_id\"]\n",
    "df_instagram_posts_RQ2_3 = pd.read_csv(\"~/instagram_posts.csv\", delimiter = \"\\t\", usecols = fields)"
   ]
  },
  {
   "cell_type": "code",
   "execution_count": 23,
   "id": "97f70326-c7b0-44aa-abf1-081903c0a53f",
   "metadata": {},
   "outputs": [
    {
     "name": "stdout",
     "output_type": "stream",
     "text": [
      "The number of posts     containing tagged locations is: 29737425\n",
      "The number of posts not containing tagged locations is: 12972772\n"
     ]
    }
   ],
   "source": [
    "# includes tagged locations means location_name not Nan\n",
    "\n",
    "count_tagged_location = df_instagram_posts_RQ2_3.loc[df_instagram_posts_RQ2_3['location_id'].notna()].shape[0] # 29,737,425\n",
    "count_no_tagged_location = len(df_instagram_posts_RQ2_3) - count_tagged_location # 12,972,772\n",
    "\n",
    "print(\"The number of posts     containing tagged locations is:\", count_tagged_location)\n",
    "print(\"The number of posts not containing tagged locations is:\", count_no_tagged_location)"
   ]
  },
  {
   "cell_type": "code",
   "execution_count": 112,
   "id": "4b8c7ea0-8d5e-4304-9f62-b532821d2049",
   "metadata": {},
   "outputs": [
    {
     "data": {
      "text/plain": [
       "Text(0.5, 1.05, 'Count of tagged & no-tagged locations')"
      ]
     },
     "execution_count": 112,
     "metadata": {},
     "output_type": "execute_result"
    },
    {
     "data": {
      "image/png": "[encoded data removed]",
      "text/plain": [
       "<Figure size 432x288 with 1 Axes>"
      ]
     },
     "metadata": {
      "needs_background": "light"
     },
     "output_type": "display_data"
    }
   ],
   "source": [
    "# plot\n",
    "\n",
    "df_instagram_posts_RQ2_3['check'] = np.where(df_instagram_posts_RQ2_3['location_id'].notna(), True, False)\n",
    "\n",
    "check = df_instagram_posts_RQ2_3['check']\n",
    "count = check.value_counts()\n",
    "\n",
    "count.plot(kind = 'bar', color = 'purple', ec = 'black')\n",
    "plt.xlabel(\"check\", labelpad = 14)\n",
    "plt.ylabel(\"Count\", labelpad = 14)\n",
    "plt.title(\"Count of tagged & no-tagged locations\", y = 1.05)"
   ]
  },
  {
   "cell_type": "markdown",
   "id": "8276991c-3ba3-4922-99e7-52999987d59a",
   "metadata": {},
   "source": [
    "##### e) How many posts include only photos? How many also have videos?"
   ]
  },
  {
   "cell_type": "code",
   "execution_count": 2,
   "id": "391b73bf-5e32-4f62-9f57-d16f42250bf1",
   "metadata": {},
   "outputs": [],
   "source": [
    "# import instagram_posts.cvs (post_id & post_type)\n",
    "\n",
    "fields = [\"post_id\", \"post_type\"]\n",
    "df_instagram_posts_RQ2_2 = pd.read_csv(\"~/instagram_posts.csv\", delimiter = \"\\t\", usecols = fields)"
   ]
  },
  {
   "cell_type": "code",
   "execution_count": 141,
   "id": "e1528e52-716b-4907-aedf-1c18265cdc48",
   "metadata": {},
   "outputs": [
    {
     "name": "stdout",
     "output_type": "stream",
     "text": [
      "The number of posts that include only photos is 41534486\n"
     ]
    }
   ],
   "source": [
    "# l1: list containing only post_type == 1 (only photos)\n",
    "l1 = [1]\n",
    "\n",
    "print(\"The number of posts that include only photos is\", df_instagram_posts_RQ2_2.loc[df_instagram_posts_RQ2_2['post_type'].isin(l1)].shape[0]) # 41,534,486"
   ]
  },
  {
   "cell_type": "code",
   "execution_count": 143,
   "id": "6e5386fb-a08c-45e3-93bb-a2ce695af8fb",
   "metadata": {},
   "outputs": [
    {
     "name": "stdout",
     "output_type": "stream",
     "text": [
      "The number of posts that include both photos and videos is 40943\n"
     ]
    }
   ],
   "source": [
    "# l1: list containing only post_type == 3 (photos and video)\n",
    "l2 = [3]\n",
    "\n",
    "print(\"The number of posts that include both photos and videos is\", df_instagram_posts_RQ2_2.loc[df_instagram_posts_RQ2_2['post_type'].isin(l2)].shape[0]) # 40,943"
   ]
  },
  {
   "cell_type": "markdown",
   "id": "2eb477db-d62b-4548-8ec2-57cb1de57562",
   "metadata": {},
   "source": [
    "##### f) What's the percentage of business accounts vs non-business? What can you interpret regarding that percentage?"
   ]
  },
  {
   "cell_type": "code",
   "execution_count": 138,
   "id": "e700839e-8cd9-4c65-b952-8580a601d8db",
   "metadata": {},
   "outputs": [
    {
     "name": "stdout",
     "output_type": "stream",
     "text": [
      "Percentage of business accounts: 18.97%\n",
      "Percentage of non-business accounts: 81.03%\n"
     ]
    }
   ],
   "source": [
    "# Percentage of business accounts & non-business accounts\n",
    "\n",
    "import os\n",
    "\n",
    "count_business_accounts = df_instagram_profiles.loc[df_instagram_profiles['is_business_account'] == True].shape[0]\n",
    "percentage_business_accounts = count_business_accounts/len(df_instagram_profiles)\n",
    "\n",
    "a = \"Percentage of business accounts: \" + '{0:.2%}'.format(percentage_business_accounts)\n",
    "b = \"Percentage of non-business accounts: \" + '{0:.2%}'.format(1 - percentage_business_accounts)\n",
    "\n",
    "print(os.linesep.join([a, b])) # 18.97%"
   ]
  },
  {
   "cell_type": "code",
   "execution_count": 65,
   "id": "adb44907-49bf-4304-bc4d-189b029cf8f9",
   "metadata": {},
   "outputs": [
    {
     "data": {
      "text/plain": [
       "Text(0.5, 1.05, 'Count of business accounts')"
      ]
     },
     "execution_count": 65,
     "metadata": {},
     "output_type": "execute_result"
    },
    {
     "data": {
      "image/png": "[encoded data removed]",
      "text/plain": [
       "<Figure size 432x288 with 1 Axes>"
      ]
     },
     "metadata": {
      "needs_background": "light"
     },
     "output_type": "display_data"
    }
   ],
   "source": [
    "# plot of percentage of business & non-business accounts\n",
    "\n",
    "is_business_account = df_instagram_profiles['is_business_account']\n",
    "count = is_business_account.value_counts()\n",
    "\n",
    "count.plot(kind = 'bar', color = 'red', ec = 'purple')\n",
    "plt.xlabel(\"is_business_account\", labelpad = 14)\n",
    "plt.ylabel(\"Count\", labelpad = 14)\n",
    "plt.title(\"Count of business accounts\", y = 1.05)"
   ]
  },
  {
   "cell_type": "markdown",
   "id": "242d585e-92fc-46ac-8605-f69579beba48",
   "metadata": {},
   "source": [
    "## RQ3"
   ]
  },
  {
   "cell_type": "markdown",
   "id": "171ad3b8-1228-4cee-af65-2521d165fde9",
   "metadata": {},
   "source": [
    "##### a) What is the most common time in which users publish their posts?"
   ]
  },
  {
   "cell_type": "code",
   "execution_count": 5,
   "id": "8b482494-c5a8-4e7f-8dcb-51b2952af6e6",
   "metadata": {},
   "outputs": [],
   "source": [
    "# import the instagram_posts.csv dataset (only the columns that we need for this excercise)\n",
    "\n",
    "fields = [\"profile_id\", \"cts\"]\n",
    "df_instagram_posts_RQ3 = pd.read_csv(\"~/instagram_posts.csv\", delimiter = \"\\t\", usecols = fields)"
   ]
  },
  {
   "cell_type": "code",
   "execution_count": 6,
   "id": "eb442183-cc57-42ce-827c-619fe1c8ca4c",
   "metadata": {},
   "outputs": [],
   "source": [
    "# Divide dataset into chunks of 5,000,000 rows\n",
    "\n",
    "chunk_list = []\n",
    "for i in range(0, len(df_instagram_posts_RQ3), 5000000):\n",
    "    chunk = df_instagram_posts_RQ3[i:i+5000000]\n",
    "    chunk_list.append(chunk)"
   ]
  },
  {
   "cell_type": "code",
   "execution_count": 7,
   "id": "6545df11-f19b-48aa-99be-a4f85d89ea8b",
   "metadata": {},
   "outputs": [],
   "source": [
    "# convert string (object type) to datetime\n",
    "# Then, get only time from cts (we are not interested in the dates but only in the time)\n",
    "\n",
    "chunk_list_new = []\n",
    "for chunk in chunk_list:\n",
    "    chunk_copy = chunk.copy()\n",
    "    chunk_copy['cts_time'] = pd.to_datetime(chunk['cts']).dt.time\n",
    "    chunk_copy['hour'] = pd.to_datetime(chunk['cts']).dt.hour\n",
    "    chunk_list_new.append(chunk_copy)"
   ]
  },
  {
   "cell_type": "code",
   "execution_count": 7,
   "id": "661a9797-bbac-45cb-be35-886130657887",
   "metadata": {},
   "outputs": [],
   "source": [
    "# group by cts_time\n",
    "\n",
    "chunk_list_new1 = []\n",
    "for chunk in chunk_list_new:\n",
    "    chunk  = chunk.groupby('cts_time').size().reset_index(name='counts')\n",
    "    chunk_list_new1.append(chunk)"
   ]
  },
  {
   "cell_type": "code",
   "execution_count": 8,
   "id": "075773af-a816-4229-97f6-99ba50a9aa18",
   "metadata": {},
   "outputs": [],
   "source": [
    "# group by hour\n",
    "\n",
    "chunk_list_new2 = []\n",
    "for chunk in chunk_list_new:\n",
    "    chunk  = chunk.groupby('hour').size().reset_index(name='counts')\n",
    "    chunk_list_new2.append(chunk)"
   ]
  },
  {
   "cell_type": "code",
   "execution_count": 20,
   "id": "6beb27ad-98de-4a46-89d1-c0f4c8098b8d",
   "metadata": {},
   "outputs": [],
   "source": [
    "# Concatenate chunks, group by cts_time (and hour) and add up counts\n",
    "\n",
    "data  = pd.concat(chunk_list_new1).groupby(['cts_time']).sum().reset_index()\n",
    "data2 = pd.concat(chunk_list_new2).groupby(['hour']).sum().reset_index()\n",
    "data2.hour = data2.hour.astype(int)"
   ]
  },
  {
   "cell_type": "code",
   "execution_count": 14,
   "id": "3fba7418-0c16-4e5a-8a77-36a1031fe9d3",
   "metadata": {},
   "outputs": [
    {
     "data": {
      "text/html": [
       "<div>\n",
       "<style scoped>\n",
       "    .dataframe tbody tr th:only-of-type {\n",
       "        vertical-align: middle;\n",
       "    }\n",
       "\n",
       "    .dataframe tbody tr th {\n",
       "        vertical-align: top;\n",
       "    }\n",
       "\n",
       "    .dataframe thead th {\n",
       "        text-align: right;\n",
       "    }\n",
       "</style>\n",
       "<table border=\"1\" class=\"dataframe\">\n",
       "  <thead>\n",
       "    <tr style=\"text-align: right;\">\n",
       "      <th></th>\n",
       "      <th>cts_time</th>\n",
       "      <th>counts</th>\n",
       "    </tr>\n",
       "  </thead>\n",
       "  <tbody>\n",
       "    <tr>\n",
       "      <th>75609</th>\n",
       "      <td>21:00:09</td>\n",
       "      <td>928</td>\n",
       "    </tr>\n",
       "  </tbody>\n",
       "</table>\n",
       "</div>"
      ],
      "text/plain": [
       "       cts_time  counts\n",
       "75609  21:00:09     928"
      ]
     },
     "execution_count": 14,
     "metadata": {},
     "output_type": "execute_result"
    }
   ],
   "source": [
    "# the most common time(s) in which users publish their posts\n",
    "\n",
    "count = data.counts.value_counts(ascending = True).values[0]\n",
    "data.sort_values(by = 'counts', ascending = False).head(count) # 21:00:09"
   ]
  },
  {
   "cell_type": "code",
   "execution_count": 21,
   "id": "779228f0-02f1-4bad-bd81-7733d9e7ef85",
   "metadata": {},
   "outputs": [
    {
     "name": "stdout",
     "output_type": "stream",
     "text": [
      "The average number of times each cts_time is present in the dataset: 487\n",
      "The median  number of times each cts_time is present in the dataset: 494\n",
      "The maximum number of times each cts_time is present in the dataset: 928\n",
      "The minimum number of times each cts_time is present in the dataset: 223\n"
     ]
    }
   ],
   "source": [
    "print(\"The average number of times each cts_time is present in the dataset:\", int(np.mean(data.counts)))\n",
    "print(\"The median  number of times each cts_time is present in the dataset:\", int(np.median(data.counts))) \n",
    "print(\"The maximum number of times each cts_time is present in the dataset:\", int(np.max(data.counts)))\n",
    "print(\"The minimum number of times each cts_time is present in the dataset:\", int(np.min(data.counts)))"
   ]
  },
  {
   "cell_type": "code",
   "execution_count": 21,
   "id": "47e00fe5-8f23-4888-a5ac-25972fdd0ab3",
   "metadata": {},
   "outputs": [
    {
     "data": {
      "text/html": [
       "<div>\n",
       "<style scoped>\n",
       "    .dataframe tbody tr th:only-of-type {\n",
       "        vertical-align: middle;\n",
       "    }\n",
       "\n",
       "    .dataframe tbody tr th {\n",
       "        vertical-align: top;\n",
       "    }\n",
       "\n",
       "    .dataframe thead th {\n",
       "        text-align: right;\n",
       "    }\n",
       "</style>\n",
       "<table border=\"1\" class=\"dataframe\">\n",
       "  <thead>\n",
       "    <tr style=\"text-align: right;\">\n",
       "      <th></th>\n",
       "      <th>hour</th>\n",
       "      <th>counts</th>\n",
       "    </tr>\n",
       "  </thead>\n",
       "  <tbody>\n",
       "    <tr>\n",
       "      <th>19</th>\n",
       "      <td>19</td>\n",
       "      <td>2499758</td>\n",
       "    </tr>\n",
       "  </tbody>\n",
       "</table>\n",
       "</div>"
      ],
      "text/plain": [
       "    hour   counts\n",
       "19    19  2499758"
      ]
     },
     "execution_count": 21,
     "metadata": {},
     "output_type": "execute_result"
    }
   ],
   "source": [
    "# the most common hour(s) in which users publish their posts\n",
    "\n",
    "count2 = data2.counts.value_counts(ascending = True).values[0]\n",
    "data2.sort_values(by = 'counts', ascending = False).head(count2) # 21:00:09"
   ]
  },
  {
   "cell_type": "code",
   "execution_count": 25,
   "id": "c673820e-b144-434b-af1b-8e4af42ff30e",
   "metadata": {},
   "outputs": [
    {
     "name": "stdout",
     "output_type": "stream",
     "text": [
      "The average number of times each hour is present in the dataset: 1779452\n",
      "The median  number of times each hour is present in the dataset: 1779408\n",
      "The maximum number of times each hour is present in the dataset: 2499758\n",
      "The minimum number of times each hour is present in the dataset: 1011923\n",
      "People post 29% more in the time slot (19:00-19:59) wrt the other time slots\n"
     ]
    }
   ],
   "source": [
    "print(\"The average number of times each hour is present in the dataset:\", int(np.mean(data2.counts)))\n",
    "print(\"The median  number of times each hour is present in the dataset:\", int(np.median(data2.counts))) \n",
    "print(\"The maximum number of times each hour is present in the dataset:\", int(np.max(data2.counts)))\n",
    "print(\"The minimum number of times each hour is present in the dataset:\", int(np.min(data2.counts)))\n",
    "print(\"People post 29% more in the time slot (19:00-19:59) wrt the other time slots\")"
   ]
  },
  {
   "cell_type": "markdown",
   "id": "b87f57d8-b699-4173-a982-350a4d2e8b03",
   "metadata": {},
   "source": [
    "##### b) Create a function that receives a time intervals list as a parameter and returns a plot with the number of posts for each given interval."
   ]
  },
  {
   "cell_type": "code",
   "execution_count": 36,
   "id": "5bb5f90c-adb2-4978-b642-91e7975264d1",
   "metadata": {},
   "outputs": [],
   "source": [
    "chunk_list_new2 = []\n",
    "for chunk in chunk_list:\n",
    "    chunk_copy = chunk.copy()\n",
    "    chunk_copy['cts_time'] = pd.to_datetime(chunk['cts']).dt.hour\n",
    "    chunk_list_new2.append(chunk_copy)"
   ]
  },
  {
   "cell_type": "code",
   "execution_count": 47,
   "id": "2f8eace0-fea9-4afb-8b62-1a6a98718ded",
   "metadata": {},
   "outputs": [],
   "source": [
    "# concatenate the chunks\n",
    "\n",
    "data2 = pd.concat(chunk_list_new2)"
   ]
  },
  {
   "cell_type": "code",
   "execution_count": 59,
   "id": "681e601f-7913-4568-8c27-7b68da3c58ff",
   "metadata": {},
   "outputs": [],
   "source": [
    "def time_intervals(data, time, time_intervals_list):\n",
    "    \n",
    "    time_results = {}\n",
    "    for slot in time_intervals_list:\n",
    "        result = len(data[(time >= slot[0]) &\n",
    "                                  (time <= slot[1])])\n",
    "        time_results[str(slot)] = result\n",
    "    \n",
    "    plt.bar(list(time_results.keys()), time_results.values(), color = 'blue', ec = 'black', width = 0.8)\n",
    "    plt.xlabel(\"time slots\", labelpad = 14)\n",
    "    plt.ylabel(\"Count\", labelpad = 14)\n",
    "    plt.title(\"The number of posts for each given interval\", y = 1.05)\n",
    "    plt.show() "
   ]
  },
  {
   "cell_type": "markdown",
   "id": "18afc2e7-e5e4-4312-8fd3-a152eb1fb20f",
   "metadata": {},
   "source": [
    "##### c) Use the function that you created in the previous literal to plot the number of posts between the following time intervals."
   ]
  },
  {
   "cell_type": "code",
   "execution_count": 31,
   "id": "d8c5b1b2-5abf-4493-a0d1-66fda3086dff",
   "metadata": {},
   "outputs": [],
   "source": [
    "slots = [(6, 10), (11, 13), (14, 16), (17, 19), (20, 23), (0, 2), (3, 5)]"
   ]
  },
  {
   "cell_type": "code",
   "execution_count": 46,
   "id": "a80854fd-4ec9-4d7a-bbb1-53f930105fb6",
   "metadata": {},
   "outputs": [
    {
     "data": {
      "image/png": "[encoded data removed]",
      "text/plain": [
       "<Figure size 432x288 with 1 Axes>"
      ]
     },
     "metadata": {
      "needs_background": "light"
     },
     "output_type": "display_data"
    }
   ],
   "source": [
    "time_intervals(data2, data2.cts_time, slots)"
   ]
  },
  {
   "cell_type": "markdown",
   "id": "7e084dc2-c023-4c4c-80d9-2690f6319105",
   "metadata": {},
   "source": [
    "## RQ8)\n",
    "\n",
    "Every decision you take in a data-based environment should be reinforced with charts, statistical tests and analysis methods to check whether a hypothesis is correct or not."
   ]
  },
  {
   "cell_type": "markdown",
   "id": "e3b0f7ee-896a-4b62-9a8a-d1a4bc1bc2d7",
   "metadata": {},
   "source": [
    "##### a) Does more “likes” also mean more comments? Plot a scatter plot of “likes” vs comments for posts."
   ]
  },
  {
   "cell_type": "code",
   "execution_count": 8,
   "id": "0c9a0dc9-ad23-403d-891b-e7c2bc0454e9",
   "metadata": {
    "tags": []
   },
   "outputs": [],
   "source": [
    "# dataset containing the instagram_posts's numbr_likes and number_comments columns\n",
    "\n",
    "df_instagram_posts_RQ8_1 = df_instagram_posts_RQ2_1"
   ]
  },
  {
   "cell_type": "code",
   "execution_count": 13,
   "id": "279bd850-3abc-46c2-977c-5525e01033c6",
   "metadata": {},
   "outputs": [],
   "source": [
    "# dataset containing the instagram_posts's \n",
    "\n",
    "df_instagram_posts_RQ8_2 = pd.concat(chunk_list_new)[['hour']]"
   ]
  },
  {
   "cell_type": "code",
   "execution_count": 9,
   "id": "d2e5ec5d-39b3-4a26-b614-e72c31c0f14e",
   "metadata": {},
   "outputs": [
    {
     "data": {
      "text/plain": [
       "Text(0.5, 1.05, 'Scatterplot of number of likes against number of comments')"
      ]
     },
     "execution_count": 9,
     "metadata": {},
     "output_type": "execute_result"
    },
    {
     "data": {
      "image/png": "[encoded data removed]",
      "text/plain": [
       "<Figure size 432x288 with 1 Axes>"
      ]
     },
     "metadata": {
      "needs_background": "light"
     },
     "output_type": "display_data"
    }
   ],
   "source": [
    "# sample scatterplot \n",
    "\n",
    "sample_RQ8 = df_instagram_posts_RQ8_1.head(100000)\n",
    "\n",
    "plt.scatter(sample_RQ8['numbr_likes'], sample_RQ8['number_comments'])\n",
    "plt.xlabel(\"number of likes\", labelpad = 14)\n",
    "plt.ylabel(\"number of comments\", labelpad = 14)\n",
    "plt.title(\"Scatterplot of number of likes against number of comments\", y = 1.05)\n",
    "\n",
    "# the plot is squashed by the outliers"
   ]
  },
  {
   "cell_type": "code",
   "execution_count": 69,
   "id": "a666defc-bd92-4be2-b8e3-f733b313a8e2",
   "metadata": {},
   "outputs": [
    {
     "name": "stdout",
     "output_type": "stream",
     "text": [
      "The maximum number of likes is: 3586546\n",
      "The minimum number of likes is: 0\n",
      "The mean    number of likes is: 279\n",
      "The median  number of likes is: 46\n"
     ]
    }
   ],
   "source": [
    "print(\"The maximum number of likes is:\", int(max(df_instagram_posts_RQ8['numbr_likes'])))\n",
    "print(\"The minimum number of likes is:\", int(min(df_instagram_posts_RQ8['numbr_likes'])))\n",
    "print(\"The mean    number of likes is:\", int(np.mean(df_instagram_posts_RQ8['numbr_likes']))) # mean is influenced\n",
    "print(\"The median  number of likes is:\", int(np.median(df_instagram_posts_RQ8['numbr_likes'])))"
   ]
  },
  {
   "cell_type": "code",
   "execution_count": 68,
   "id": "416c00de-ebdd-46ce-9d0f-df8eeb80ec81",
   "metadata": {},
   "outputs": [
    {
     "data": {
      "image/png": "[encoded data removed]",
      "text/plain": [
       "<Figure size 432x288 with 1 Axes>"
      ]
     },
     "metadata": {
      "needs_background": "light"
     },
     "output_type": "display_data"
    }
   ],
   "source": [
    "plt.boxplot(df_instagram_posts_RQ8['numbr_likes']);"
   ]
  },
  {
   "cell_type": "code",
   "execution_count": 64,
   "id": "1ca2d292-c4a7-4a64-bccc-6774fc3d518d",
   "metadata": {},
   "outputs": [
    {
     "name": "stdout",
     "output_type": "stream",
     "text": [
      "The maximum number of comments is: 189888\n",
      "The minimum number of comments is: 0\n",
      "The mean    number of comments is: 7\n",
      "The median  number of comments is: 1\n"
     ]
    }
   ],
   "source": [
    "print(\"The maximum number of comments is:\", int(max(df_instagram_posts_RQ8['number_comments'])))\n",
    "print(\"The minimum number of comments is:\", int(min(df_instagram_posts_RQ8['number_comments'])))\n",
    "print(\"The mean    number of comments is:\", int(np.mean(df_instagram_posts_RQ8['number_comments']))) # mean is influenced\n",
    "print(\"The median  number of comments is:\", int(np.median(df_instagram_posts_RQ8['number_comments'])))"
   ]
  },
  {
   "cell_type": "code",
   "execution_count": 66,
   "id": "33df492f-dc6b-494f-b547-bab7f3af26c0",
   "metadata": {},
   "outputs": [
    {
     "data": {
      "image/png": "[encoded data removed]",
      "text/plain": [
       "<Figure size 432x288 with 1 Axes>"
      ]
     },
     "metadata": {
      "needs_background": "light"
     },
     "output_type": "display_data"
    }
   ],
   "source": [
    "plt.boxplot(df_instagram_posts_RQ8['number_comments']); # the box plots are very squashed => there are many outliers"
   ]
  },
  {
   "cell_type": "markdown",
   "id": "6e2217ff-f608-40ff-93f8-6672bf394af8",
   "metadata": {},
   "source": [
    "##### b) Can you find any significant relationship between the time a user publishes a post and the number of comments and “likes”? Use an appropriate statistical test or technique and support your choice"
   ]
  },
  {
   "cell_type": "code",
   "execution_count": 15,
   "id": "80bbb182-cfa4-49a2-8892-159ba05345e0",
   "metadata": {},
   "outputs": [],
   "source": [
    "# Let's work in chunks\n",
    "\n",
    "chunk_list_RQ8_1 = []\n",
    "for i in range(0, len(df_instagram_posts_RQ8_1), 5000000):\n",
    "    chunk = df_instagram_posts_RQ8_1[i:i+5000000]\n",
    "    chunk_list_RQ8_1.append(chunk)\n",
    "    \n",
    "chunk_list_RQ8_2 = []\n",
    "for i in range(0, len(df_instagram_posts_RQ8_2), 5000000):\n",
    "    chunk = df_instagram_posts_RQ8_2[i:i+5000000]\n",
    "    chunk_list_RQ8_2.append(chunk)"
   ]
  },
  {
   "cell_type": "code",
   "execution_count": 20,
   "id": "b6decd46-1484-41e5-a62a-2af898e6ac76",
   "metadata": {},
   "outputs": [],
   "source": [
    "chunk_list_RQ8_3 = []\n",
    "for i in range(0, len(df_instagram_posts_RQ8_2), 5000000):\n",
    "    chunk = pd.concat([df_instagram_posts_RQ8_2[i:i+5000000], df_instagram_posts_RQ8_1[i:i+5000000]], axis = 1)\n",
    "    chunk_list_RQ8_3.append(chunk)"
   ]
  },
  {
   "cell_type": "code",
   "execution_count": 27,
   "id": "0b28aed2-b95e-4aeb-a8f1-d92e281ce057",
   "metadata": {},
   "outputs": [],
   "source": [
    "# Let's group our dataset by hour and compute the average number of likes and comments\n",
    "\n",
    "df_instagram_posts_RQ8_grouped = pd.concat(chunk_list_RQ8_3).groupby('hour', as_index=False).mean()\n",
    "df_instagram_posts_RQ8_grouped.hour = df_instagram_posts_RQ8_grouped.hour.astype(int)"
   ]
  },
  {
   "cell_type": "code",
   "execution_count": 28,
   "id": "fa10136f-be6a-4d92-a816-0df591b526c6",
   "metadata": {},
   "outputs": [
    {
     "name": "stdout",
     "output_type": "stream",
     "text": [
      "The correlation coefficient is:                      hour  numbr_likes  number_comments\n",
      "hour             1.000000     0.514339         0.279257\n",
      "numbr_likes      0.514339     1.000000         0.804829\n",
      "number_comments  0.279257     0.804829         1.000000\n"
     ]
    }
   ],
   "source": [
    "# Let's look at the correlation between the three variables\n",
    "\n",
    "print(\"The correlation coefficient is:\", df_instagram_posts_RQ8_grouped.corr())\n",
    "\n",
    "# 43.4% moderate (positive) correlation => implying that \n",
    "# if a post has a high (low) number of comments it will likely have a high (low) number of likes"
   ]
  },
  {
   "cell_type": "markdown",
   "id": "6c872df4-08bd-4184-a7f1-8474ee4f228b",
   "metadata": {},
   "source": [
    "##### Correlation results comments\n",
    "\n",
    "hour and numbr_likes have a moderate-strong positive correlation (51.4%)\n",
    "hour and number_comments have a weak-moderate positive correlation (27.9%)\n",
    "The time in which you post is more correlated to the number of likes wrt the number of comments a post gets.\n",
    "We can also see that the number of likes and the number of comments are strongly correlated."
   ]
  },
  {
   "cell_type": "code",
   "execution_count": 29,
   "id": "33beb152-d364-45f8-92a6-6528f0a1406b",
   "metadata": {},
   "outputs": [],
   "source": [
    "# Simple linear regression\n",
    "# time ~ number_likes\n",
    "# time ~ number_comments\n",
    "\n",
    "number_likes = df_instagram_posts_RQ8_grouped.numbr_likes\n",
    "number_comments = df_instagram_posts_RQ8_grouped.number_comments\n",
    "time = df_instagram_posts_RQ8_grouped.hour\n",
    "\n",
    "result = scipy.stats.linregress(number_likes, time)\n",
    "result2 = scipy.stats.linregress(number_comments, time)"
   ]
  },
  {
   "cell_type": "code",
   "execution_count": 30,
   "id": "b511082d-5b3c-4158-bc92-f0627c97615a",
   "metadata": {},
   "outputs": [
    {
     "name": "stdout",
     "output_type": "stream",
     "text": [
      "The p-value for model 1 is: 0.010129899606811663\n",
      "the p-value for model 2 is: 0.18633045092180706\n"
     ]
    }
   ],
   "source": [
    "print(\"The p-value for model 1 is:\", result.pvalue)\n",
    "print(\"the p-value for model 2 is:\", result2.pvalue) # p-value == 0.0 implying that number_comments is statistically significant in predicting number_likes and viceversa \n",
    "\n",
    "# the number of likes is significant while the number of comments is not"
   ]
  },
  {
   "cell_type": "markdown",
   "id": "1964e4f5-d1cd-444f-8b7b-8a53399b5c59",
   "metadata": {},
   "source": [
    "##### <b>Linear Regression comments</b>\n",
    "\n",
    "According to the p-value for the two models, there seems to be a <b>significant relationship between the time a user posts and the number of likes the post gets</b>. In fact, the p-value = 0.01 < 0.05. On the contrary, there is no significant relationship between the time a user posts and the number of comments as the p-value = 0.19 > 0.05. \n",
    "We can also point out that the correlation between time and number_likes is approximately twice as big as the correlation between time and number_comments."
   ]
  },
  {
   "cell_type": "markdown",
   "id": "1c1045cc-19a0-41cd-a44c-8a2847bd9a3f",
   "metadata": {},
   "source": [
    "## Bonus Points"
   ]
  },
  {
   "cell_type": "markdown",
   "id": "1512cfc6-8e0f-4b54-a9ff-7e5da30163d2",
   "metadata": {},
   "source": [
    "##### a) Sort the users in terms of number of followers and divide them into two groups: for the first group, take only the top 10% regarding \"followers\", and for the second one, take the rest. Now compare the mean of time intervals between posts for the two categories. Do you notice something relevant?"
   ]
  },
  {
   "cell_type": "code",
   "execution_count": 40,
   "id": "0e2fcccb-3213-4419-aa4a-749718c55a04",
   "metadata": {},
   "outputs": [],
   "source": [
    "# First let's divide instagram_profile.csv into two subsets (10% top followers and the rest)\n",
    "\n",
    "df_instagram_profiles_bp = df_instagram_profiles.copy()\n",
    "\n",
    "top10_followers = df_instagram_profiles_bp.sort_values(by = 'followers', ascending = False).head(int(0.1*len(df_instagram_profiles_bp)))"
   ]
  },
  {
   "cell_type": "code",
   "execution_count": 41,
   "id": "783f1d1c-d141-4fcf-b571-65344d382f3a",
   "metadata": {},
   "outputs": [],
   "source": [
    "rest_followers = df_instagram_profiles_bp.sort_values(by = 'followers', ascending = False)\n",
    "\n",
    "rest_followers = rest_followers.iloc[len(top10_followers):]"
   ]
  },
  {
   "cell_type": "code",
   "execution_count": 42,
   "id": "5851e81a-189c-4f91-be8a-7656a4117109",
   "metadata": {},
   "outputs": [],
   "source": [
    "# get instagram_posts dataset and group by profile id and average across hour (time)\n",
    "\n",
    "chunk_list_new3 = []\n",
    "for chunk in chunk_list_new:\n",
    "    chunk = chunk.groupby('profile_id', as_index=False)['hour'].agg({'hours_sum': 'sum'})\n",
    "    chunk_list_new3.append(chunk)\n",
    "    \n",
    "data3 = pd.concat(chunk_list_new3).groupby('profile_id', as_index=False)['hours_sum'].sum()"
   ]
  },
  {
   "cell_type": "code",
   "execution_count": 43,
   "id": "5c4ab67b-a370-427d-b02a-a94712b71116",
   "metadata": {},
   "outputs": [],
   "source": [
    "# get instagram_posts dataset and group by profile id and average across hour (time)\n",
    "\n",
    "chunk_list_new4 = []\n",
    "for chunk in chunk_list_new:\n",
    "    chunk = chunk.groupby('profile_id', as_index=False)['profile_id'].agg({'profile_id_count': 'count'})\n",
    "    chunk_list_new4.append(chunk)\n",
    "    \n",
    "data4 = pd.concat(chunk_list_new4).groupby('profile_id', as_index=False)['profile_id_count'].sum()"
   ]
  },
  {
   "cell_type": "code",
   "execution_count": 44,
   "id": "b3aca387-5438-4a66-a4bb-904b6efa3b52",
   "metadata": {},
   "outputs": [],
   "source": [
    "# Concatenate the datasets \n",
    "\n",
    "df_bp_1 = pd.concat([data3, data4['profile_id_count']], axis = 1)"
   ]
  },
  {
   "cell_type": "code",
   "execution_count": 45,
   "id": "fd678726-57aa-402c-9ed2-c284451b986c",
   "metadata": {},
   "outputs": [],
   "source": [
    "# Create a new column containing the average hour \n",
    "\n",
    "df_bp_1['average_hour'] = df_bp_1['hours_sum']/df_bp_1['profile_id_count']"
   ]
  },
  {
   "cell_type": "markdown",
   "id": "48dd830c-51dc-4f7f-a0d8-8e4d970b4bea",
   "metadata": {},
   "source": [
    "##### Time interval distribution regarding the top 10% users with the highest number of followers"
   ]
  },
  {
   "cell_type": "code",
   "execution_count": 47,
   "id": "1c0ea894-cd4d-454a-bbc7-c46667d67871",
   "metadata": {},
   "outputs": [],
   "source": [
    "# Let's start with top10 followers\n",
    "\n",
    "top10_followers.isna().sum() \n",
    "top10_followers.dropna(subset = ['profile_id'], inplace = True)"
   ]
  },
  {
   "cell_type": "code",
   "execution_count": 49,
   "id": "64e88feb-fcbb-45ae-9f32-4bd57b667a89",
   "metadata": {},
   "outputs": [],
   "source": [
    "# keep only profile ids that are in both datasets\n",
    "\n",
    "top10_followers_merged = pd.merge(top10_followers, df_bp_1, on='profile_id', how='inner')"
   ]
  },
  {
   "cell_type": "code",
   "execution_count": 60,
   "id": "6fec5a8d-0bf6-448d-8d29-c050dcb21527",
   "metadata": {},
   "outputs": [
    {
     "data": {
      "image/png": "[encoded data removed]",
      "text/plain": [
       "<Figure size 432x288 with 1 Axes>"
      ]
     },
     "metadata": {
      "needs_background": "light"
     },
     "output_type": "display_data"
    }
   ],
   "source": [
    "time_intervals(top10_followers_merged, top10_followers_merged.average_hour, slots)"
   ]
  },
  {
   "cell_type": "markdown",
   "id": "43d2bb9c-8156-4912-9bd9-448b735a327e",
   "metadata": {},
   "source": [
    "##### Time interval distribution regarding the remaining 90% of users"
   ]
  },
  {
   "cell_type": "code",
   "execution_count": 48,
   "id": "d07355d9-e2c5-48cf-b6d9-95e3433436e9",
   "metadata": {},
   "outputs": [],
   "source": [
    "# Rest 90% of profile ids\n",
    "\n",
    "rest_followers.dropna(subset = ['profile_id'], inplace = True)\n",
    "\n",
    "# keep only profile ids that are in both datasets\n",
    "\n",
    "rest_followers_merged = pd.merge(rest_followers, d3, on='profile_id', how='inner')"
   ]
  },
  {
   "cell_type": "code",
   "execution_count": 63,
   "id": "7de21908-7ca9-4494-8dc9-ae247ab68bbf",
   "metadata": {},
   "outputs": [
    {
     "data": {
      "image/png": "[encoded data removed]",
      "text/plain": [
       "<Figure size 432x288 with 1 Axes>"
      ]
     },
     "metadata": {
      "needs_background": "light"
     },
     "output_type": "display_data"
    }
   ],
   "source": [
    "time_intervals(rest_followers_merged, rest_followers_merged.average_hour, slots)"
   ]
  },
  {
   "cell_type": "markdown",
   "id": "00a289b4-8cb7-4acd-9b57-d48b060c9877",
   "metadata": {},
   "source": [
    "##### Conclusions\n",
    "\n",
    "It can clearly be seen that the distribution of the time intervals for the bottom 90% Instagram users in terms of number of followers (rest_followers) is similar to the one obtained in question RQ3. This could be explained by the fact that the majority (90%) of the dataset used in questin RQ3 is also present in rest_followers.\n",
    "\n",
    "While the distribution of the time intervals for the top 10% Instagram users (top10_followers) is very different wrt the one obtained in question RQ3. The histogram is far more skewed to the left, implying that the most followed users tend to post earlier in the day (6 AM - 4 PM) and especially in the 2PM-4PM slot instead of in the evening (5PM-11PM) like the majority of the sampled Instagram users.\n",
    "So, if you want to be more successful on Instagram, you should post in the morning and early afternoon!"
   ]
  }
 ],
 "metadata": {
  "kernelspec": {
   "display_name": "conda_python3",
   "language": "python",
   "name": "conda_python3"
  },
  "language_info": {
   "codemirror_mode": {
    "name": "ipython",
    "version": 3
   },
   "file_extension": ".py",
   "mimetype": "text/x-python",
   "name": "python",
   "nbconvert_exporter": "python",
   "pygments_lexer": "ipython3",
   "version": "3.8.12"
  }
 },
 "nbformat": 4,
 "nbformat_minor": 5
}
