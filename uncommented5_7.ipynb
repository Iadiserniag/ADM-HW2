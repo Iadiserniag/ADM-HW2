{
 "cells": [
  {
   "cell_type": "code",
   "execution_count": null,
   "id": "a91b09e1",
   "metadata": {},
   "outputs": [],
   "source": [
    "import numpy as np\n",
    "import pandas as pd\n",
    "import matplotlib.pyplot as plt"
   ]
  },
  {
   "cell_type": "code",
   "execution_count": 6,
   "id": "020d3881",
   "metadata": {},
   "outputs": [],
   "source": [
    "\n",
    "dloc = pd.read_csv('https://adm2022.s3.amazonaws.com/instagram_locations.zip', delimiter='\\t')"
   ]
  },
  {
   "cell_type": "code",
   "execution_count": 10,
   "id": "90643a9c",
   "metadata": {},
   "outputs": [
    {
     "name": "stdout",
     "output_type": "stream",
     "text": [
      "      sid               id                                name street  zip  \\\n",
      "0  719981  110296492939207  Playa de Daimuz - Valencia, España    NaN  NaN   \n",
      "\n",
      "  city region   cd phone aj_exact_city_match  ... dir_city_name dir_city_slug  \\\n",
      "0  NaN    NaN  NaN   NaN               False  ...           NaN           NaN   \n",
      "\n",
      "  dir_country_id dir_country_name       lat        lng primary_alias_on_fb  \\\n",
      "0            NaN              NaN -0.139475  38.974391         daimuzplaya   \n",
      "\n",
      "                              slug                               website  \\\n",
      "0  playa-de-daimuz-valencia-espana  https://es.wikipedia.org/wiki/Daimuz   \n",
      "\n",
      "                       cts  \n",
      "0  2019-05-29 01:21:29.987  \n",
      "\n",
      "[1 rows x 23 columns]\n",
      "1022658\n"
     ]
    }
   ],
   "source": [
    "print(dloc.head(1))\n",
    "print(len(dloc))"
   ]
  },
  {
   "cell_type": "code",
   "execution_count": null,
   "id": "9717b3c6",
   "metadata": {},
   "outputs": [],
   "source": [
    "fields=['profile_id','location_id','post_type','numbr_likes','number_comments']\n",
    "field=['profile_id']\n",
    "fiel1=['number_comments','cts']\n",
    "dpost=pd.read_csv('~/instagram_posts.csv',sep='\\t',usecols=fiel1)"
   ]
  },
  {
   "cell_type": "code",
   "execution_count": null,
   "id": "c91814a0",
   "metadata": {},
   "outputs": [],
   "source": [
    "#es7 p 1\n",
    "field7=['profile_id','numbr_likes']\n",
    "dpost7=pd.read_csv('~/instagram_posts.csv',sep='\\t',usecols=field7)"
   ]
  },
  {
   "cell_type": "code",
   "execution_count": 12,
   "id": "c425e14e",
   "metadata": {},
   "outputs": [
    {
     "name": "stdout",
     "output_type": "stream",
     "text": [
      "      profile_id  numbr_likes\n",
      "31  8.492416e+09        119.0\n",
      "32  1.012018e+09          3.0\n"
     ]
    }
   ],
   "source": [
    "print(dpost7[31:33])"
   ]
  },
  {
   "cell_type": "code",
   "execution_count": 25,
   "id": "88573657",
   "metadata": {},
   "outputs": [
    {
     "data": {
      "text/plain": [
       "0    2.237948e+09\n",
       "1    5.579335e+09\n",
       "2    3.134296e+08\n",
       "3    1.837593e+09\n",
       "4    1.131527e+09\n",
       "5    1.626239e+07\n",
       "6    3.567387e+07\n",
       "7    8.408734e+08\n",
       "8    3.299940e+05\n",
       "9    3.607965e+08\n",
       "Name: profile_id, dtype: float64"
      ]
     },
     "execution_count": 25,
     "metadata": {},
     "output_type": "execute_result"
    }
   ],
   "source": [
    "dpost7['profile_id'].head(10)"
   ]
  },
  {
   "cell_type": "code",
   "execution_count": 26,
   "id": "77714526",
   "metadata": {},
   "outputs": [
    {
     "data": {
      "text/plain": [
       "2237947779.0"
      ]
     },
     "execution_count": 26,
     "metadata": {},
     "output_type": "execute_result"
    }
   ],
   "source": [
    "dpost7['profile_id'][0]"
   ]
  },
  {
   "cell_type": "code",
   "execution_count": 13,
   "id": "b31f0109",
   "metadata": {},
   "outputs": [
    {
     "data": {
      "text/plain": [
       "42710197"
      ]
     },
     "execution_count": 13,
     "metadata": {},
     "output_type": "execute_result"
    }
   ],
   "source": [
    "len(dpost7)"
   ]
  },
  {
   "cell_type": "code",
   "execution_count": null,
   "id": "cb64d8cc",
   "metadata": {},
   "outputs": [],
   "source": [
    "dp = pd.read_csv('https://adm2022.s3.amazonaws.com/instagram_profiles.zip', delimiter='\\t')"
   ]
  },
  {
   "cell_type": "code",
   "execution_count": 11,
   "id": "5a958acc",
   "metadata": {},
   "outputs": [
    {
     "data": {
      "text/html": [
       "<div>\n",
       "<style scoped>\n",
       "    .dataframe tbody tr th:only-of-type {\n",
       "        vertical-align: middle;\n",
       "    }\n",
       "\n",
       "    .dataframe tbody tr th {\n",
       "        vertical-align: top;\n",
       "    }\n",
       "\n",
       "    .dataframe thead th {\n",
       "        text-align: right;\n",
       "    }\n",
       "</style>\n",
       "<table border=\"1\" class=\"dataframe\">\n",
       "  <thead>\n",
       "    <tr style=\"text-align: right;\">\n",
       "      <th></th>\n",
       "      <th>followers</th>\n",
       "      <th>profile_id</th>\n",
       "    </tr>\n",
       "  </thead>\n",
       "  <tbody>\n",
       "    <tr>\n",
       "      <th>0</th>\n",
       "      <td>146.0</td>\n",
       "      <td>4.721050e+09</td>\n",
       "    </tr>\n",
       "    <tr>\n",
       "      <th>1</th>\n",
       "      <td>1145.0</td>\n",
       "      <td>5.905830e+08</td>\n",
       "    </tr>\n",
       "    <tr>\n",
       "      <th>2</th>\n",
       "      <td>324.0</td>\n",
       "      <td>1.074147e+09</td>\n",
       "    </tr>\n",
       "    <tr>\n",
       "      <th>3</th>\n",
       "      <td>NaN</td>\n",
       "      <td>1.472039e+09</td>\n",
       "    </tr>\n",
       "    <tr>\n",
       "      <th>4</th>\n",
       "      <td>NaN</td>\n",
       "      <td>3.531421e+09</td>\n",
       "    </tr>\n",
       "    <tr>\n",
       "      <th>...</th>\n",
       "      <td>...</td>\n",
       "      <td>...</td>\n",
       "    </tr>\n",
       "    <tr>\n",
       "      <th>4509581</th>\n",
       "      <td>481.0</td>\n",
       "      <td>1.418322e+09</td>\n",
       "    </tr>\n",
       "    <tr>\n",
       "      <th>4509582</th>\n",
       "      <td>NaN</td>\n",
       "      <td>1.340704e+07</td>\n",
       "    </tr>\n",
       "    <tr>\n",
       "      <th>4509583</th>\n",
       "      <td>NaN</td>\n",
       "      <td>6.007354e+09</td>\n",
       "    </tr>\n",
       "    <tr>\n",
       "      <th>4509584</th>\n",
       "      <td>153.0</td>\n",
       "      <td>2.338990e+07</td>\n",
       "    </tr>\n",
       "    <tr>\n",
       "      <th>4509585</th>\n",
       "      <td>NaN</td>\n",
       "      <td>2.088094e+09</td>\n",
       "    </tr>\n",
       "  </tbody>\n",
       "</table>\n",
       "<p>4509586 rows × 2 columns</p>\n",
       "</div>"
      ],
      "text/plain": [
       "         followers    profile_id\n",
       "0            146.0  4.721050e+09\n",
       "1           1145.0  5.905830e+08\n",
       "2            324.0  1.074147e+09\n",
       "3              NaN  1.472039e+09\n",
       "4              NaN  3.531421e+09\n",
       "...            ...           ...\n",
       "4509581      481.0  1.418322e+09\n",
       "4509582        NaN  1.340704e+07\n",
       "4509583        NaN  6.007354e+09\n",
       "4509584      153.0  2.338990e+07\n",
       "4509585        NaN  2.088094e+09\n",
       "\n",
       "[4509586 rows x 2 columns]"
      ]
     },
     "execution_count": 11,
     "metadata": {},
     "output_type": "execute_result"
    }
   ],
   "source": [
    "\n",
    "folid=dp[['followers','profile_id']]\n",
    "folid"
   ]
  },
  {
   "cell_type": "code",
   "execution_count": 27,
   "id": "1675ad66",
   "metadata": {},
   "outputs": [
    {
     "ename": "MemoryError",
     "evalue": "Unable to allocate 625. GiB for an array with shape (83845221157,) and data type int64",
     "output_type": "error",
     "traceback": [
      "\u001b[0;31m---------------------------------------------------------------------------\u001b[0m",
      "\u001b[0;31mMemoryError\u001b[0m                               Traceback (most recent call last)",
      "\u001b[0;32m/tmp/ipykernel_13700/1008973160.py\u001b[0m in \u001b[0;36m<cell line: 1>\u001b[0;34m()\u001b[0m\n\u001b[0;32m----> 1\u001b[0;31m \u001b[0mpd\u001b[0m\u001b[0;34m.\u001b[0m\u001b[0mmerge\u001b[0m\u001b[0;34m(\u001b[0m\u001b[0mleft\u001b[0m\u001b[0;34m=\u001b[0m\u001b[0mfolid\u001b[0m\u001b[0;34m,\u001b[0m \u001b[0mright\u001b[0m\u001b[0;34m=\u001b[0m\u001b[0mdpost7\u001b[0m\u001b[0;34m,\u001b[0m \u001b[0mon\u001b[0m\u001b[0;34m=\u001b[0m\u001b[0;34m'profile_id'\u001b[0m\u001b[0;34m)\u001b[0m\u001b[0;34m\u001b[0m\u001b[0;34m\u001b[0m\u001b[0m\n\u001b[0m",
      "\u001b[0;32m~/anaconda3/envs/python3/lib/python3.8/site-packages/pandas/core/reshape/merge.py\u001b[0m in \u001b[0;36mmerge\u001b[0;34m(left, right, how, on, left_on, right_on, left_index, right_index, sort, suffixes, copy, indicator, validate)\u001b[0m\n\u001b[1;32m    119\u001b[0m         \u001b[0mvalidate\u001b[0m\u001b[0;34m=\u001b[0m\u001b[0mvalidate\u001b[0m\u001b[0;34m,\u001b[0m\u001b[0;34m\u001b[0m\u001b[0;34m\u001b[0m\u001b[0m\n\u001b[1;32m    120\u001b[0m     )\n\u001b[0;32m--> 121\u001b[0;31m     \u001b[0;32mreturn\u001b[0m \u001b[0mop\u001b[0m\u001b[0;34m.\u001b[0m\u001b[0mget_result\u001b[0m\u001b[0;34m(\u001b[0m\u001b[0;34m)\u001b[0m\u001b[0;34m\u001b[0m\u001b[0;34m\u001b[0m\u001b[0m\n\u001b[0m\u001b[1;32m    122\u001b[0m \u001b[0;34m\u001b[0m\u001b[0m\n\u001b[1;32m    123\u001b[0m \u001b[0;34m\u001b[0m\u001b[0m\n",
      "\u001b[0;32m~/anaconda3/envs/python3/lib/python3.8/site-packages/pandas/core/reshape/merge.py\u001b[0m in \u001b[0;36mget_result\u001b[0;34m(self)\u001b[0m\n\u001b[1;32m    713\u001b[0m             \u001b[0mself\u001b[0m\u001b[0;34m.\u001b[0m\u001b[0mleft\u001b[0m\u001b[0;34m,\u001b[0m \u001b[0mself\u001b[0m\u001b[0;34m.\u001b[0m\u001b[0mright\u001b[0m \u001b[0;34m=\u001b[0m \u001b[0mself\u001b[0m\u001b[0;34m.\u001b[0m\u001b[0m_indicator_pre_merge\u001b[0m\u001b[0;34m(\u001b[0m\u001b[0mself\u001b[0m\u001b[0;34m.\u001b[0m\u001b[0mleft\u001b[0m\u001b[0;34m,\u001b[0m \u001b[0mself\u001b[0m\u001b[0;34m.\u001b[0m\u001b[0mright\u001b[0m\u001b[0;34m)\u001b[0m\u001b[0;34m\u001b[0m\u001b[0;34m\u001b[0m\u001b[0m\n\u001b[1;32m    714\u001b[0m \u001b[0;34m\u001b[0m\u001b[0m\n\u001b[0;32m--> 715\u001b[0;31m         \u001b[0mjoin_index\u001b[0m\u001b[0;34m,\u001b[0m \u001b[0mleft_indexer\u001b[0m\u001b[0;34m,\u001b[0m \u001b[0mright_indexer\u001b[0m \u001b[0;34m=\u001b[0m \u001b[0mself\u001b[0m\u001b[0;34m.\u001b[0m\u001b[0m_get_join_info\u001b[0m\u001b[0;34m(\u001b[0m\u001b[0;34m)\u001b[0m\u001b[0;34m\u001b[0m\u001b[0;34m\u001b[0m\u001b[0m\n\u001b[0m\u001b[1;32m    716\u001b[0m \u001b[0;34m\u001b[0m\u001b[0m\n\u001b[1;32m    717\u001b[0m         llabels, rlabels = _items_overlap_with_suffix(\n",
      "\u001b[0;32m~/anaconda3/envs/python3/lib/python3.8/site-packages/pandas/core/reshape/merge.py\u001b[0m in \u001b[0;36m_get_join_info\u001b[0;34m(self)\u001b[0m\n\u001b[1;32m    964\u001b[0m             )\n\u001b[1;32m    965\u001b[0m         \u001b[0;32melse\u001b[0m\u001b[0;34m:\u001b[0m\u001b[0;34m\u001b[0m\u001b[0;34m\u001b[0m\u001b[0m\n\u001b[0;32m--> 966\u001b[0;31m             \u001b[0;34m(\u001b[0m\u001b[0mleft_indexer\u001b[0m\u001b[0;34m,\u001b[0m \u001b[0mright_indexer\u001b[0m\u001b[0;34m)\u001b[0m \u001b[0;34m=\u001b[0m \u001b[0mself\u001b[0m\u001b[0;34m.\u001b[0m\u001b[0m_get_join_indexers\u001b[0m\u001b[0;34m(\u001b[0m\u001b[0;34m)\u001b[0m\u001b[0;34m\u001b[0m\u001b[0;34m\u001b[0m\u001b[0m\n\u001b[0m\u001b[1;32m    967\u001b[0m \u001b[0;34m\u001b[0m\u001b[0m\n\u001b[1;32m    968\u001b[0m             \u001b[0;32mif\u001b[0m \u001b[0mself\u001b[0m\u001b[0;34m.\u001b[0m\u001b[0mright_index\u001b[0m\u001b[0;34m:\u001b[0m\u001b[0;34m\u001b[0m\u001b[0;34m\u001b[0m\u001b[0m\n",
      "\u001b[0;32m~/anaconda3/envs/python3/lib/python3.8/site-packages/pandas/core/reshape/merge.py\u001b[0m in \u001b[0;36m_get_join_indexers\u001b[0;34m(self)\u001b[0m\n\u001b[1;32m    938\u001b[0m         \u001b[0;34m\"\"\"return the join indexers\"\"\"\u001b[0m\u001b[0;34m\u001b[0m\u001b[0;34m\u001b[0m\u001b[0m\n\u001b[1;32m    939\u001b[0m         \u001b[0;31m# Both returned ndarrays are np.intp\u001b[0m\u001b[0;34m\u001b[0m\u001b[0;34m\u001b[0m\u001b[0;34m\u001b[0m\u001b[0m\n\u001b[0;32m--> 940\u001b[0;31m         return get_join_indexers(\n\u001b[0m\u001b[1;32m    941\u001b[0m             \u001b[0mself\u001b[0m\u001b[0;34m.\u001b[0m\u001b[0mleft_join_keys\u001b[0m\u001b[0;34m,\u001b[0m \u001b[0mself\u001b[0m\u001b[0;34m.\u001b[0m\u001b[0mright_join_keys\u001b[0m\u001b[0;34m,\u001b[0m \u001b[0msort\u001b[0m\u001b[0;34m=\u001b[0m\u001b[0mself\u001b[0m\u001b[0;34m.\u001b[0m\u001b[0msort\u001b[0m\u001b[0;34m,\u001b[0m \u001b[0mhow\u001b[0m\u001b[0;34m=\u001b[0m\u001b[0mself\u001b[0m\u001b[0;34m.\u001b[0m\u001b[0mhow\u001b[0m\u001b[0;34m\u001b[0m\u001b[0;34m\u001b[0m\u001b[0m\n\u001b[1;32m    942\u001b[0m         )\n",
      "\u001b[0;32m~/anaconda3/envs/python3/lib/python3.8/site-packages/pandas/core/reshape/merge.py\u001b[0m in \u001b[0;36mget_join_indexers\u001b[0;34m(left_keys, right_keys, sort, how, **kwargs)\u001b[0m\n\u001b[1;32m   1504\u001b[0m \u001b[0;34m\u001b[0m\u001b[0m\n\u001b[1;32m   1505\u001b[0m     \u001b[0;31m# error: Cannot call function of unknown type\u001b[0m\u001b[0;34m\u001b[0m\u001b[0;34m\u001b[0m\u001b[0;34m\u001b[0m\u001b[0m\n\u001b[0;32m-> 1506\u001b[0;31m     \u001b[0;32mreturn\u001b[0m \u001b[0mjoin_func\u001b[0m\u001b[0;34m(\u001b[0m\u001b[0mlkey\u001b[0m\u001b[0;34m,\u001b[0m \u001b[0mrkey\u001b[0m\u001b[0;34m,\u001b[0m \u001b[0mcount\u001b[0m\u001b[0;34m,\u001b[0m \u001b[0;34m**\u001b[0m\u001b[0mkwargs\u001b[0m\u001b[0;34m)\u001b[0m  \u001b[0;31m# type: ignore[operator]\u001b[0m\u001b[0;34m\u001b[0m\u001b[0;34m\u001b[0m\u001b[0m\n\u001b[0m\u001b[1;32m   1507\u001b[0m \u001b[0;34m\u001b[0m\u001b[0m\n\u001b[1;32m   1508\u001b[0m \u001b[0;34m\u001b[0m\u001b[0m\n",
      "\u001b[0;32m~/anaconda3/envs/python3/lib/python3.8/site-packages/pandas/_libs/join.pyx\u001b[0m in \u001b[0;36mpandas._libs.join.inner_join\u001b[0;34m()\u001b[0m\n",
      "\u001b[0;31mMemoryError\u001b[0m: Unable to allocate 625. GiB for an array with shape (83845221157,) and data type int64"
     ]
    }
   ],
   "source": [
    "pd.merge(left=folid, right=dpost7, on='profile_id')"
   ]
  },
  {
   "cell_type": "code",
   "execution_count": null,
   "id": "a6d5ac4a",
   "metadata": {},
   "outputs": [],
   "source": [
    "df7_1=pd.DataFrame(columns=['followers','numbr_likes'])\n",
    "        "
   ]
  },
  {
   "cell_type": "code",
   "execution_count": null,
   "id": "01dfc9c0",
   "metadata": {},
   "outputs": [],
   "source": [
    "for i in range(len(folid)):\n",
    "    if folid['profile_id'][i] in list(dpost7['profile_id'])==True:\n",
    "        x=folid['profile_id'][i]\n",
    "        n=dpost7['profile_id'][x]\n",
    "        df7_1=df7_1.append({'followers':folid['followers'][i],'numbr_likes':dpost['numbr_likes'][n]})"
   ]
  },
  {
   "cell_type": "code",
   "execution_count": null,
   "id": "8b0cdd8f",
   "metadata": {},
   "outputs": [],
   "source": [
    "df7_1"
   ]
  },
  {
   "cell_type": "code",
   "execution_count": 22,
   "id": "faa5401a",
   "metadata": {},
   "outputs": [
    {
     "data": {
      "text/html": [
       "<div>\n",
       "<style scoped>\n",
       "    .dataframe tbody tr th:only-of-type {\n",
       "        vertical-align: middle;\n",
       "    }\n",
       "\n",
       "    .dataframe tbody tr th {\n",
       "        vertical-align: top;\n",
       "    }\n",
       "\n",
       "    .dataframe thead th {\n",
       "        text-align: right;\n",
       "    }\n",
       "</style>\n",
       "<table border=\"1\" class=\"dataframe\">\n",
       "  <thead>\n",
       "    <tr style=\"text-align: right;\">\n",
       "      <th></th>\n",
       "      <th>sid</th>\n",
       "      <th>profile_id</th>\n",
       "      <th>profile_name</th>\n",
       "      <th>firstname_lastname</th>\n",
       "      <th>description</th>\n",
       "      <th>following</th>\n",
       "      <th>followers</th>\n",
       "      <th>n_posts</th>\n",
       "      <th>url</th>\n",
       "      <th>cts</th>\n",
       "      <th>is_business_account</th>\n",
       "    </tr>\n",
       "  </thead>\n",
       "  <tbody>\n",
       "    <tr>\n",
       "      <th>2880218</th>\n",
       "      <td>336492</td>\n",
       "      <td>25025320.0</td>\n",
       "      <td>instagram</td>\n",
       "      <td>Instagram</td>\n",
       "      <td>Bringing you closer to the people and things y...</td>\n",
       "      <td>226.0</td>\n",
       "      <td>285457645.0</td>\n",
       "      <td>5760.0</td>\n",
       "      <td>help.instagram.com</td>\n",
       "      <td>NaN</td>\n",
       "      <td>False</td>\n",
       "    </tr>\n",
       "  </tbody>\n",
       "</table>\n",
       "</div>"
      ],
      "text/plain": [
       "            sid  profile_id profile_name firstname_lastname  \\\n",
       "2880218  336492  25025320.0    instagram          Instagram   \n",
       "\n",
       "                                               description  following  \\\n",
       "2880218  Bringing you closer to the people and things y...      226.0   \n",
       "\n",
       "           followers  n_posts                 url  cts is_business_account  \n",
       "2880218  285457645.0   5760.0  help.instagram.com  NaN               False  "
      ]
     },
     "execution_count": 22,
     "metadata": {},
     "output_type": "execute_result"
    }
   ],
   "source": [
    "#most influential user\n",
    "dp[dp.followers == 285457645.0] \n",
    "    "
   ]
  },
  {
   "cell_type": "code",
   "execution_count": null,
   "id": "40ba0f55",
   "metadata": {},
   "outputs": [],
   "source": []
  },
  {
   "cell_type": "code",
   "execution_count": 23,
   "id": "55f8485f",
   "metadata": {},
   "outputs": [
    {
     "data": {
      "text/plain": [
       "4509586"
      ]
     },
     "execution_count": 23,
     "metadata": {},
     "output_type": "execute_result"
    }
   ],
   "source": [
    "dp.shape\n",
    "\n",
    "dp.describe()\n",
    "\n",
    "len(followers)"
   ]
  },
  {
   "cell_type": "code",
   "execution_count": 24,
   "id": "5aa5f5c4",
   "metadata": {},
   "outputs": [
    {
     "data": {
      "text/plain": [
       "2880218    285457645.0\n",
       "2582507     65269440.0\n",
       "3820939     35339708.0\n",
       "701965      30689316.0\n",
       "2414951     30246783.0\n",
       "2785241     29542143.0\n",
       "333193      29176804.0\n",
       "3934581     29042823.0\n",
       "1311970     26476004.0\n",
       "1703764     26252169.0\n",
       "Name: followers, dtype: float64"
      ]
     },
     "execution_count": 24,
     "metadata": {},
     "output_type": "execute_result"
    }
   ],
   "source": [
    "x=followers.sort_values(ascending=False)\n",
    "x[:10]"
   ]
  },
  {
   "cell_type": "code",
   "execution_count": 25,
   "id": "6becef04",
   "metadata": {},
   "outputs": [
    {
     "data": {
      "text/plain": [
       "2880218    285457645.0\n",
       "2582507     65269440.0\n",
       "3820939     35339708.0\n",
       "701965      30689316.0\n",
       "2414951     30246783.0\n",
       "2785241     29542143.0\n",
       "333193      29176804.0\n",
       "3934581     29042823.0\n",
       "1311970     26476004.0\n",
       "1703764     26252169.0\n",
       "Name: followers, dtype: float64"
      ]
     },
     "execution_count": 25,
     "metadata": {},
     "output_type": "execute_result"
    }
   ],
   "source": [
    "followers.nlargest(10)"
   ]
  },
  {
   "cell_type": "code",
   "execution_count": 6,
   "id": "e31f707e",
   "metadata": {},
   "outputs": [
    {
     "data": {
      "text/html": [
       "<div>\n",
       "<style scoped>\n",
       "    .dataframe tbody tr th:only-of-type {\n",
       "        vertical-align: middle;\n",
       "    }\n",
       "\n",
       "    .dataframe tbody tr th {\n",
       "        vertical-align: top;\n",
       "    }\n",
       "\n",
       "    .dataframe thead th {\n",
       "        text-align: right;\n",
       "    }\n",
       "</style>\n",
       "<table border=\"1\" class=\"dataframe\">\n",
       "  <thead>\n",
       "    <tr style=\"text-align: right;\">\n",
       "      <th></th>\n",
       "      <th>sid</th>\n",
       "      <th>profile_id</th>\n",
       "      <th>profile_name</th>\n",
       "      <th>firstname_lastname</th>\n",
       "      <th>description</th>\n",
       "      <th>following</th>\n",
       "      <th>followers</th>\n",
       "      <th>n_posts</th>\n",
       "      <th>url</th>\n",
       "      <th>cts</th>\n",
       "      <th>is_business_account</th>\n",
       "    </tr>\n",
       "  </thead>\n",
       "  <tbody>\n",
       "    <tr>\n",
       "      <th>2880218</th>\n",
       "      <td>336492</td>\n",
       "      <td>2.502532e+07</td>\n",
       "      <td>instagram</td>\n",
       "      <td>Instagram</td>\n",
       "      <td>Bringing you closer to the people and things y...</td>\n",
       "      <td>226.0</td>\n",
       "      <td>285457645.0</td>\n",
       "      <td>5760.0</td>\n",
       "      <td>help.instagram.com</td>\n",
       "      <td>NaN</td>\n",
       "      <td>False</td>\n",
       "    </tr>\n",
       "    <tr>\n",
       "      <th>2582507</th>\n",
       "      <td>371414</td>\n",
       "      <td>3.416684e+06</td>\n",
       "      <td>victoriassecret</td>\n",
       "      <td>Victoria's Secret</td>\n",
       "      <td>Confidence is sexy. #wearitdaily</td>\n",
       "      <td>549.0</td>\n",
       "      <td>65269440.0</td>\n",
       "      <td>7355.0</td>\n",
       "      <td>like2b.uy/victoriassecret</td>\n",
       "      <td>NaN</td>\n",
       "      <td>True</td>\n",
       "    </tr>\n",
       "    <tr>\n",
       "      <th>3820939</th>\n",
       "      <td>337097</td>\n",
       "      <td>2.082449e+07</td>\n",
       "      <td>nba</td>\n",
       "      <td>NBA</td>\n",
       "      <td>30 teams, 1 🏆\\n👟: @nbakicks \\n📽: @nbahistory \\...</td>\n",
       "      <td>817.0</td>\n",
       "      <td>35339708.0</td>\n",
       "      <td>28816.0</td>\n",
       "      <td>nba.app.link/js6X7SVaxT</td>\n",
       "      <td>NaN</td>\n",
       "      <td>True</td>\n",
       "    </tr>\n",
       "    <tr>\n",
       "      <th>701965</th>\n",
       "      <td>330376</td>\n",
       "      <td>1.876191e+08</td>\n",
       "      <td>louisvuitton</td>\n",
       "      <td>Louis Vuitton Official</td>\n",
       "      <td>The official Instagram account of Louis Vuitton.</td>\n",
       "      <td>5.0</td>\n",
       "      <td>30689316.0</td>\n",
       "      <td>3352.0</td>\n",
       "      <td>on.louisvuitton.com/Like2Buy</td>\n",
       "      <td>NaN</td>\n",
       "      <td>True</td>\n",
       "    </tr>\n",
       "    <tr>\n",
       "      <th>2414951</th>\n",
       "      <td>292359</td>\n",
       "      <td>2.125507e+09</td>\n",
       "      <td>buzzfeedtasty</td>\n",
       "      <td>Tasty</td>\n",
       "      <td>Recipes that will make you say \"oh yes!\"\\n👇 Cl...</td>\n",
       "      <td>298.0</td>\n",
       "      <td>30246783.0</td>\n",
       "      <td>2791.0</td>\n",
       "      <td>tasty.co/linkinbio</td>\n",
       "      <td>NaN</td>\n",
       "      <td>True</td>\n",
       "    </tr>\n",
       "    <tr>\n",
       "      <th>2785241</th>\n",
       "      <td>3437294</td>\n",
       "      <td>4.968651e+08</td>\n",
       "      <td>andresiniesta8</td>\n",
       "      <td>Andres Iniesta</td>\n",
       "      <td>Andres Iniesta Official Instagram Account, \\nB...</td>\n",
       "      <td>151.0</td>\n",
       "      <td>29542143.0</td>\n",
       "      <td>990.0</td>\n",
       "      <td>mikakus.com</td>\n",
       "      <td>2019-05-08 23:54:35.377 -0400</td>\n",
       "      <td>False</td>\n",
       "    </tr>\n",
       "    <tr>\n",
       "      <th>333193</th>\n",
       "      <td>158690</td>\n",
       "      <td>2.341008e+07</td>\n",
       "      <td>hm</td>\n",
       "      <td>H&amp;M</td>\n",
       "      <td>Welcome to #HM! Follow us at @HM_Man @HM_Kids ...</td>\n",
       "      <td>403.0</td>\n",
       "      <td>29176804.0</td>\n",
       "      <td>4566.0</td>\n",
       "      <td>hm.info/1c9he</td>\n",
       "      <td>2018-05-31 19:33:46.022 -0400</td>\n",
       "      <td>True</td>\n",
       "    </tr>\n",
       "    <tr>\n",
       "      <th>3934581</th>\n",
       "      <td>3615154</td>\n",
       "      <td>2.423993e+07</td>\n",
       "      <td>princessyahrini</td>\n",
       "      <td>Syahrini</td>\n",
       "      <td>NaN</td>\n",
       "      <td>835.0</td>\n",
       "      <td>29042823.0</td>\n",
       "      <td>4719.0</td>\n",
       "      <td>www.youtube.com/c/ThePrincesSyahrini</td>\n",
       "      <td>2019-06-26 15:05:53.411 -0400</td>\n",
       "      <td>True</td>\n",
       "    </tr>\n",
       "    <tr>\n",
       "      <th>1311970</th>\n",
       "      <td>508140</td>\n",
       "      <td>5.041706e+07</td>\n",
       "      <td>danbilzerian</td>\n",
       "      <td>Dan Bilzerian</td>\n",
       "      <td>Snapchat: dbilzerian</td>\n",
       "      <td>252.0</td>\n",
       "      <td>26476004.0</td>\n",
       "      <td>1311.0</td>\n",
       "      <td>www.ignite.co</td>\n",
       "      <td>NaN</td>\n",
       "      <td>True</td>\n",
       "    </tr>\n",
       "    <tr>\n",
       "      <th>1703764</th>\n",
       "      <td>3513205</td>\n",
       "      <td>9.070254e+08</td>\n",
       "      <td>akshaykumar</td>\n",
       "      <td>Akshay Kumar</td>\n",
       "      <td>#AkshayKumar</td>\n",
       "      <td>5.0</td>\n",
       "      <td>26252169.0</td>\n",
       "      <td>1173.0</td>\n",
       "      <td>bit.ly/AliAliBlank</td>\n",
       "      <td>2019-05-14 08:29:29.754 -0400</td>\n",
       "      <td>False</td>\n",
       "    </tr>\n",
       "  </tbody>\n",
       "</table>\n",
       "</div>"
      ],
      "text/plain": [
       "             sid    profile_id     profile_name      firstname_lastname  \\\n",
       "2880218   336492  2.502532e+07        instagram               Instagram   \n",
       "2582507   371414  3.416684e+06  victoriassecret       Victoria's Secret   \n",
       "3820939   337097  2.082449e+07              nba                     NBA   \n",
       "701965    330376  1.876191e+08     louisvuitton  Louis Vuitton Official   \n",
       "2414951   292359  2.125507e+09    buzzfeedtasty                   Tasty   \n",
       "2785241  3437294  4.968651e+08   andresiniesta8          Andres Iniesta   \n",
       "333193    158690  2.341008e+07               hm                     H&M   \n",
       "3934581  3615154  2.423993e+07  princessyahrini                Syahrini   \n",
       "1311970   508140  5.041706e+07     danbilzerian           Dan Bilzerian   \n",
       "1703764  3513205  9.070254e+08      akshaykumar            Akshay Kumar   \n",
       "\n",
       "                                               description  following  \\\n",
       "2880218  Bringing you closer to the people and things y...      226.0   \n",
       "2582507                   Confidence is sexy. #wearitdaily      549.0   \n",
       "3820939  30 teams, 1 🏆\\n👟: @nbakicks \\n📽: @nbahistory \\...      817.0   \n",
       "701965    The official Instagram account of Louis Vuitton.        5.0   \n",
       "2414951  Recipes that will make you say \"oh yes!\"\\n👇 Cl...      298.0   \n",
       "2785241  Andres Iniesta Official Instagram Account, \\nB...      151.0   \n",
       "333193   Welcome to #HM! Follow us at @HM_Man @HM_Kids ...      403.0   \n",
       "3934581                                                NaN      835.0   \n",
       "1311970                               Snapchat: dbilzerian      252.0   \n",
       "1703764                                       #AkshayKumar        5.0   \n",
       "\n",
       "           followers  n_posts                                   url  \\\n",
       "2880218  285457645.0   5760.0                    help.instagram.com   \n",
       "2582507   65269440.0   7355.0             like2b.uy/victoriassecret   \n",
       "3820939   35339708.0  28816.0               nba.app.link/js6X7SVaxT   \n",
       "701965    30689316.0   3352.0          on.louisvuitton.com/Like2Buy   \n",
       "2414951   30246783.0   2791.0                    tasty.co/linkinbio   \n",
       "2785241   29542143.0    990.0                           mikakus.com   \n",
       "333193    29176804.0   4566.0                         hm.info/1c9he   \n",
       "3934581   29042823.0   4719.0  www.youtube.com/c/ThePrincesSyahrini   \n",
       "1311970   26476004.0   1311.0                         www.ignite.co   \n",
       "1703764   26252169.0   1173.0                    bit.ly/AliAliBlank   \n",
       "\n",
       "                                   cts is_business_account  \n",
       "2880218                            NaN               False  \n",
       "2582507                            NaN                True  \n",
       "3820939                            NaN                True  \n",
       "701965                             NaN                True  \n",
       "2414951                            NaN                True  \n",
       "2785241  2019-05-08 23:54:35.377 -0400               False  \n",
       "333193   2018-05-31 19:33:46.022 -0400                True  \n",
       "3934581  2019-06-26 15:05:53.411 -0400                True  \n",
       "1311970                            NaN                True  \n",
       "1703764  2019-05-14 08:29:29.754 -0400               False  "
      ]
     },
     "execution_count": 6,
     "metadata": {},
     "output_type": "execute_result"
    }
   ],
   "source": [
    "#top10 profiles by followers\n",
    "top10=dp[dp.followers >= 26252169.0]\n",
    "top10.sort_values(['followers'],ascending=False)"
   ]
  },
  {
   "cell_type": "code",
   "execution_count": 25,
   "id": "6bc3697e",
   "metadata": {},
   "outputs": [
    {
     "data": {
      "image/png": "[encoded data removed]",
      "text/plain": [
       "<Figure size 432x288 with 1 Axes>"
      ]
     },
     "metadata": {
      "needs_background": "light"
     },
     "output_type": "display_data"
    }
   ],
   "source": [
    "fig = plt.figure()\n",
    "ax = fig.add_axes([0,0,2,2])\n",
    "profiles = list(top10['profile_name'])\n",
    "nfollows = list(top10['followers'])\n",
    "ax.bar(profiles,nfollows,width=1, edgecolor=\"white\", linewidth=5,color='purple')\n",
    "plt.xlabel('Followers',labelpad=10)\n",
    "plt.ylabel('',labelpad=10)\n",
    "plt.title('Count of Followers')\n",
    "plt.show()"
   ]
  },
  {
   "cell_type": "code",
   "execution_count": null,
   "id": "cf6becc7",
   "metadata": {},
   "outputs": [],
   "source": [
    "field=['profile_id','location_id']\n",
    "dpost=pd.read_csv('~/instagram_posts.csv',sep='\\t',usecols=field)"
   ]
  },
  {
   "cell_type": "code",
   "execution_count": 7,
   "id": "795cc7e7",
   "metadata": {},
   "outputs": [
    {
     "data": {
      "text/plain": [
       "[23410080.0,\n",
       " 187619120.0,\n",
       " 50417061.0,\n",
       " 907025384.0,\n",
       " 2125506698.0,\n",
       " 3416684.0,\n",
       " 496865116.0,\n",
       " 25025320.0,\n",
       " 20824486.0,\n",
       " 24239929.0]"
      ]
     },
     "execution_count": 7,
     "metadata": {},
     "output_type": "execute_result"
    }
   ],
   "source": [
    "list(top10['profile_id'])"
   ]
  },
  {
   "cell_type": "code",
   "execution_count": 37,
   "id": "8561cf3e",
   "metadata": {},
   "outputs": [
    {
     "data": {
      "text/html": [
       "<div>\n",
       "<style scoped>\n",
       "    .dataframe tbody tr th:only-of-type {\n",
       "        vertical-align: middle;\n",
       "    }\n",
       "\n",
       "    .dataframe tbody tr th {\n",
       "        vertical-align: top;\n",
       "    }\n",
       "\n",
       "    .dataframe thead th {\n",
       "        text-align: right;\n",
       "    }\n",
       "</style>\n",
       "<table border=\"1\" class=\"dataframe\">\n",
       "  <thead>\n",
       "    <tr style=\"text-align: right;\">\n",
       "      <th></th>\n",
       "      <th>profile_id</th>\n",
       "      <th>location_id</th>\n",
       "    </tr>\n",
       "  </thead>\n",
       "  <tbody>\n",
       "  </tbody>\n",
       "</table>\n",
       "</div>"
      ],
      "text/plain": [
       "Empty DataFrame\n",
       "Columns: [profile_id, location_id]\n",
       "Index: []"
      ]
     },
     "execution_count": 37,
     "metadata": {},
     "output_type": "execute_result"
    }
   ],
   "source": [
    "dd.first()"
   ]
  },
  {
   "cell_type": "code",
   "execution_count": 6,
   "id": "5264b494",
   "metadata": {},
   "outputs": [
    {
     "data": {
      "text/html": [
       "<div>\n",
       "<style scoped>\n",
       "    .dataframe tbody tr th:only-of-type {\n",
       "        vertical-align: middle;\n",
       "    }\n",
       "\n",
       "    .dataframe tbody tr th {\n",
       "        vertical-align: top;\n",
       "    }\n",
       "\n",
       "    .dataframe thead th {\n",
       "        text-align: right;\n",
       "    }\n",
       "</style>\n",
       "<table border=\"1\" class=\"dataframe\">\n",
       "  <thead>\n",
       "    <tr style=\"text-align: right;\">\n",
       "      <th></th>\n",
       "      <th>profile_id</th>\n",
       "      <th>location_id</th>\n",
       "      <th>post_type</th>\n",
       "      <th>numbr_likes</th>\n",
       "      <th>number_comments</th>\n",
       "    </tr>\n",
       "  </thead>\n",
       "  <tbody>\n",
       "    <tr>\n",
       "      <th>26444783</th>\n",
       "      <td>496865116.0</td>\n",
       "      <td>1.793700e+05</td>\n",
       "      <td>1</td>\n",
       "      <td>604503.0</td>\n",
       "      <td>3222.0</td>\n",
       "    </tr>\n",
       "    <tr>\n",
       "      <th>26445883</th>\n",
       "      <td>496865116.0</td>\n",
       "      <td>2.019565e+15</td>\n",
       "      <td>1</td>\n",
       "      <td>244652.0</td>\n",
       "      <td>845.0</td>\n",
       "    </tr>\n",
       "    <tr>\n",
       "      <th>26445884</th>\n",
       "      <td>496865116.0</td>\n",
       "      <td>NaN</td>\n",
       "      <td>1</td>\n",
       "      <td>594776.0</td>\n",
       "      <td>5854.0</td>\n",
       "    </tr>\n",
       "    <tr>\n",
       "      <th>26445885</th>\n",
       "      <td>496865116.0</td>\n",
       "      <td>3.669021e+08</td>\n",
       "      <td>1</td>\n",
       "      <td>163751.0</td>\n",
       "      <td>179.0</td>\n",
       "    </tr>\n",
       "    <tr>\n",
       "      <th>26445886</th>\n",
       "      <td>496865116.0</td>\n",
       "      <td>NaN</td>\n",
       "      <td>1</td>\n",
       "      <td>341799.0</td>\n",
       "      <td>647.0</td>\n",
       "    </tr>\n",
       "    <tr>\n",
       "      <th>26445887</th>\n",
       "      <td>496865116.0</td>\n",
       "      <td>NaN</td>\n",
       "      <td>1</td>\n",
       "      <td>193673.0</td>\n",
       "      <td>228.0</td>\n",
       "    </tr>\n",
       "    <tr>\n",
       "      <th>26445888</th>\n",
       "      <td>496865116.0</td>\n",
       "      <td>3.669021e+08</td>\n",
       "      <td>1</td>\n",
       "      <td>229388.0</td>\n",
       "      <td>655.0</td>\n",
       "    </tr>\n",
       "    <tr>\n",
       "      <th>26445889</th>\n",
       "      <td>496865116.0</td>\n",
       "      <td>NaN</td>\n",
       "      <td>1</td>\n",
       "      <td>1151933.0</td>\n",
       "      <td>3837.0</td>\n",
       "    </tr>\n",
       "    <tr>\n",
       "      <th>26445890</th>\n",
       "      <td>496865116.0</td>\n",
       "      <td>NaN</td>\n",
       "      <td>1</td>\n",
       "      <td>283998.0</td>\n",
       "      <td>847.0</td>\n",
       "    </tr>\n",
       "    <tr>\n",
       "      <th>26445891</th>\n",
       "      <td>496865116.0</td>\n",
       "      <td>3.669021e+08</td>\n",
       "      <td>1</td>\n",
       "      <td>263077.0</td>\n",
       "      <td>389.0</td>\n",
       "    </tr>\n",
       "    <tr>\n",
       "      <th>26445892</th>\n",
       "      <td>496865116.0</td>\n",
       "      <td>NaN</td>\n",
       "      <td>1</td>\n",
       "      <td>635349.0</td>\n",
       "      <td>2484.0</td>\n",
       "    </tr>\n",
       "    <tr>\n",
       "      <th>26445893</th>\n",
       "      <td>496865116.0</td>\n",
       "      <td>NaN</td>\n",
       "      <td>1</td>\n",
       "      <td>969373.0</td>\n",
       "      <td>7658.0</td>\n",
       "    </tr>\n",
       "  </tbody>\n",
       "</table>\n",
       "</div>"
      ],
      "text/plain": [
       "           profile_id   location_id  post_type  numbr_likes  number_comments\n",
       "26444783  496865116.0  1.793700e+05          1     604503.0           3222.0\n",
       "26445883  496865116.0  2.019565e+15          1     244652.0            845.0\n",
       "26445884  496865116.0           NaN          1     594776.0           5854.0\n",
       "26445885  496865116.0  3.669021e+08          1     163751.0            179.0\n",
       "26445886  496865116.0           NaN          1     341799.0            647.0\n",
       "26445887  496865116.0           NaN          1     193673.0            228.0\n",
       "26445888  496865116.0  3.669021e+08          1     229388.0            655.0\n",
       "26445889  496865116.0           NaN          1    1151933.0           3837.0\n",
       "26445890  496865116.0           NaN          1     283998.0            847.0\n",
       "26445891  496865116.0  3.669021e+08          1     263077.0            389.0\n",
       "26445892  496865116.0           NaN          1     635349.0           2484.0\n",
       "26445893  496865116.0           NaN          1     969373.0           7658.0"
      ]
     },
     "execution_count": 6,
     "metadata": {},
     "output_type": "execute_result"
    }
   ],
   "source": [
    "dpost[dpost['profile_id']==496865116]\n"
   ]
  },
  {
   "cell_type": "code",
   "execution_count": 3,
   "id": "a789ceec",
   "metadata": {},
   "outputs": [
    {
     "name": "stdout",
     "output_type": "stream",
     "text": [
      "      profile_id   location_id  post_type  numbr_likes  number_comments\n",
      "0     23410080.0  3.846191e+08          1     116059.0            642.0\n",
      "1     23410080.0  2.293029e+08          1      46368.0             88.0\n",
      "2    187619120.0  5.590714e+06          1     186857.0            867.0\n",
      "3     50417061.0  2.222444e+08          1     266200.0           3290.0\n",
      "4     50417061.0  2.368281e+08          1     268732.0           6402.0\n",
      "..           ...           ...        ...          ...              ...\n",
      "136   24239929.0  2.130118e+08          1      55010.0              0.0\n",
      "137   24239929.0  2.130118e+08          1     114315.0              0.0\n",
      "138   24239929.0  2.130118e+08          1      78974.0              0.0\n",
      "139   24239929.0  1.906910e+15          1     132116.0              0.0\n",
      "140   24239929.0  1.906910e+15          1      66185.0              0.0\n",
      "\n",
      "[141 rows x 5 columns]\n"
     ]
    }
   ],
   "source": [
    "y=pd.DataFrame(columns=['profile_id'])\n",
    "for i in [23410080.0,\n",
    " 187619120.0,\n",
    " 50417061.0,\n",
    " 907025384.0,\n",
    " 2125506698.0,\n",
    " 3416684.0,\n",
    " 496865116.0,\n",
    " 25025320.0,\n",
    " 20824486.0,\n",
    " 24239929.0]:\n",
    "    x=dpost[dpost['profile_id']==int(i)]\n",
    "    y=pd.merge(y,x,how='outer')\n",
    "print(y)\n",
    "               "
   ]
  },
  {
   "cell_type": "code",
   "execution_count": 7,
   "id": "d59f09d3",
   "metadata": {},
   "outputs": [
    {
     "data": {
      "text/plain": [
       "post_type\n",
       "1    128\n",
       "2     13\n",
       "Name: numbr_likes, dtype: int64"
      ]
     },
     "execution_count": 7,
     "metadata": {},
     "output_type": "execute_result"
    }
   ],
   "source": [
    "#1)How many pictures-only posts have they published?\n",
    "#2)How many reels? (only videos) and \n",
    "#3)how many with both contents? Provide the number as percentages and interpret those figures.\n",
    "y.groupby(['profile_id','post_type'])[\"numbr_likes\"].count()\n",
    "#1) \n",
    "ptype=y.groupby(['post_type'])[\"numbr_likes\"].count()\n",
    "ptype\n"
   ]
  },
  {
   "cell_type": "code",
   "execution_count": 49,
   "id": "96dd58f9",
   "metadata": {},
   "outputs": [
    {
     "data": {
      "image/png": "[encoded data removed]",
      "text/plain": [
       "<Figure size 432x288 with 1 Axes>"
      ]
     },
     "metadata": {},
     "output_type": "display_data"
    }
   ],
   "source": [
    "#3) percentages of pictures-only posts, reels and both\n",
    "#pic=ptype[0]/(ptype[0]+ptype[1])\n",
    "pic=128/(128+13)\n",
    "reel=13/(128+13)\n",
    "pic*100,reel*100\n",
    "\n",
    "labels = 'pics', 'reels'\n",
    "sizes = [128,13]\n",
    "explode = (0, 0.1)  # only \"explode\" the 2nd slice (i.e. 'Hogs')\n",
    "\n",
    "fig1, ax1 = plt.subplots()\n",
    "ax1.pie(sizes, explode=explode, labels=labels, autopct='%1.1f%%',\n",
    "        shadow=True, startangle=90)\n",
    "ax1.axis('equal')  # Equal aspect ratio ensures that pie is drawn as a circle.\n",
    "\n",
    "plt.show()"
   ]
  },
  {
   "cell_type": "code",
   "execution_count": 5,
   "id": "84bbfa46",
   "metadata": {},
   "outputs": [
    {
     "data": {
      "text/plain": [
       "post_type\n",
       "1    69285634.0\n",
       "2     3464814.0\n",
       "Name: numbr_likes, dtype: float64"
      ]
     },
     "execution_count": 5,
     "metadata": {},
     "output_type": "execute_result"
    }
   ],
   "source": [
    "#How many \"likes\" and comments did posts with only pictures receive?\n",
    "y.groupby(['post_type'])[\"numbr_likes\"].sum()\n",
    "#How about videos and mixed posts? \n",
    "#Try to provide the average numbers and confront them with their followers amount, explaining what you can say from that comparison."
   ]
  },
  {
   "cell_type": "code",
   "execution_count": 9,
   "id": "1d0e2ed9",
   "metadata": {},
   "outputs": [
    {
     "data": {
      "text/plain": [
       "post_type\n",
       "1    3882.914062\n",
       "2    2019.846154\n",
       "Name: number_comments, dtype: float64"
      ]
     },
     "execution_count": 9,
     "metadata": {},
     "output_type": "execute_result"
    }
   ],
   "source": [
    "y.groupby(['post_type'])[\"number_comments\"].mean()\n"
   ]
  },
  {
   "cell_type": "code",
   "execution_count": 18,
   "id": "589daf72",
   "metadata": {},
   "outputs": [
    {
     "data": {
      "text/plain": [
       "283.50304614866707"
      ]
     },
     "execution_count": 18,
     "metadata": {},
     "output_type": "execute_result"
    }
   ],
   "source": [
    "dpost.numbr_likes.mean()"
   ]
  },
  {
   "cell_type": "code",
   "execution_count": 22,
   "id": "c0ec5cc7",
   "metadata": {},
   "outputs": [
    {
     "data": {
      "text/plain": [
       "post_type\n",
       "1    541294.015625\n",
       "2    266524.153846\n",
       "Name: numbr_likes, dtype: float64"
      ]
     },
     "execution_count": 22,
     "metadata": {},
     "output_type": "execute_result"
    }
   ],
   "source": [
    "#Try to provide the average numbers and confront them with their followers amount, explaining what you can say from that comparison.\n",
    "y.groupby(['post_type'])[\"numbr_likes\"].mean()"
   ]
  },
  {
   "cell_type": "code",
   "execution_count": 6,
   "id": "97554b71",
   "metadata": {},
   "outputs": [
    {
     "data": {
      "text/plain": [
       "post_type\n",
       "1    128\n",
       "2     13\n",
       "Name: numbr_likes, dtype: int64"
      ]
     },
     "execution_count": 6,
     "metadata": {},
     "output_type": "execute_result"
    }
   ],
   "source": [
    "#Try to provide the average numbers and confront them with their followers amount, explaining what you can say from that comparison.\n",
    "y.groupby(['post_type'])[\"numbr_likes\"].count()"
   ]
  },
  {
   "cell_type": "code",
   "execution_count": null,
   "id": "a989371f",
   "metadata": {},
   "outputs": [],
   "source": [
    "y.groupby(['post_type'])[\"numbr_likes\"].count()"
   ]
  },
  {
   "cell_type": "code",
   "execution_count": null,
   "id": "3880f51f",
   "metadata": {},
   "outputs": [],
   "source": []
  }
 ],
 "metadata": {
  "kernelspec": {
   "display_name": "conda_python3",
   "language": "python",
   "name": "conda_python3"
  },
  "language_info": {
   "codemirror_mode": {
    "name": "ipython",
    "version": 3
   },
   "file_extension": ".py",
   "mimetype": "text/x-python",
   "name": "python",
   "nbconvert_exporter": "python",
   "pygments_lexer": "ipython3",
   "version": "3.8.12"
  }
 },
 "nbformat": 4,
 "nbformat_minor": 5
}
