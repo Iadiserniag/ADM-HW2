{
 "cells": [
  {
   "cell_type": "code",
   "execution_count": 53,
   "metadata": {},
   "outputs": [],
   "source": [
    "def maximize_value(n, max_value, k = 1): # n = ribbon length, k = no. of cuts initialized to 1, max_value (initialized at n)\n",
    "    \n",
    "    remainder = n % (k+1)\n",
    "    num_pieces = k + 1\n",
    "    \n",
    "    product = ((n//num_pieces)**(num_pieces - remainder)) * (((n//num_pieces) + 1)**(remainder))\n",
    "\n",
    "        \n",
    "    if product > max_value:\n",
    "        return maximize_value(n, product, k + 1)\n",
    "    else:\n",
    "        return max_value"
   ]
  },
  {
   "cell_type": "code",
   "execution_count": 57,
   "metadata": {},
   "outputs": [
    {
     "data": {
      "text/plain": [
       "108"
      ]
     },
     "execution_count": 57,
     "metadata": {},
     "output_type": "execute_result"
    }
   ],
   "source": [
    "maximize_value(13, 13)"
   ]
  },
  {
   "cell_type": "code",
   "execution_count": 26,
   "metadata": {},
   "outputs": [
    {
     "name": "stdout",
     "output_type": "stream",
     "text": [
      "1.25 µs ± 43.3 ns per loop (mean ± std. dev. of 7 runs, 1000000 loops each)\n",
      "1.74 µs ± 162 ns per loop (mean ± std. dev. of 7 runs, 1000000 loops each)\n",
      "1.43 µs ± 88.3 ns per loop (mean ± std. dev. of 7 runs, 1000000 loops each)\n",
      "3.25 µs ± 277 ns per loop (mean ± std. dev. of 7 runs, 100000 loops each)\n",
      "2.54 µs ± 149 ns per loop (mean ± std. dev. of 7 runs, 100000 loops each)\n",
      "3.14 µs ± 515 ns per loop (mean ± std. dev. of 7 runs, 100000 loops each)\n",
      "4.1 µs ± 276 ns per loop (mean ± std. dev. of 7 runs, 100000 loops each)\n",
      "4.03 µs ± 231 ns per loop (mean ± std. dev. of 7 runs, 100000 loops each)\n",
      "3.99 µs ± 265 ns per loop (mean ± std. dev. of 7 runs, 100000 loops each)\n",
      "6.03 µs ± 260 ns per loop (mean ± std. dev. of 7 runs, 100000 loops each)\n",
      "5.32 µs ± 495 ns per loop (mean ± std. dev. of 7 runs, 100000 loops each)\n",
      "5.58 µs ± 251 ns per loop (mean ± std. dev. of 7 runs, 100000 loops each)\n",
      "6.7 µs ± 214 ns per loop (mean ± std. dev. of 7 runs, 100000 loops each)\n",
      "6.65 µs ± 151 ns per loop (mean ± std. dev. of 7 runs, 100000 loops each)\n",
      "6.71 µs ± 284 ns per loop (mean ± std. dev. of 7 runs, 100000 loops each)\n",
      "9.01 µs ± 485 ns per loop (mean ± std. dev. of 7 runs, 100000 loops each)\n",
      "7.86 µs ± 199 ns per loop (mean ± std. dev. of 7 runs, 100000 loops each)\n",
      "8.74 µs ± 532 ns per loop (mean ± std. dev. of 7 runs, 100000 loops each)\n",
      "9.61 µs ± 397 ns per loop (mean ± std. dev. of 7 runs, 100000 loops each)\n",
      "10.3 µs ± 1.02 µs per loop (mean ± std. dev. of 7 runs, 100000 loops each)\n",
      "9.97 µs ± 240 ns per loop (mean ± std. dev. of 7 runs, 100000 loops each)\n",
      "13 µs ± 776 ns per loop (mean ± std. dev. of 7 runs, 100000 loops each)\n",
      "12.1 µs ± 570 ns per loop (mean ± std. dev. of 7 runs, 100000 loops each)\n",
      "12.6 µs ± 621 ns per loop (mean ± std. dev. of 7 runs, 100000 loops each)\n"
     ]
    }
   ],
   "source": [
    "out = []\n",
    "\n",
    "for i in range(2, 26):\n",
    "    res = %timeit -o maximize_value(i, i)\n",
    "    out.append(str(res))"
   ]
  },
  {
   "cell_type": "code",
   "execution_count": 32,
   "metadata": {},
   "outputs": [
    {
     "name": "stdout",
     "output_type": "stream",
     "text": [
      "[1.25, 1.74, 1.43, 3.25, 2.54, 3.14, 4.1, 4.03, 3.99, 6.03, 5.32, 5.58, 6.7, 6.65, 6.71, 9.01, 7.86, 8.74, 9.61, 10.3, 9.97, 13.0, 12.1, 12.6]\n"
     ]
    }
   ],
   "source": [
    "# get only the times\n",
    "\n",
    "times = []\n",
    "for el in out:\n",
    "    s = el.split(\" \", 1)\n",
    "    times.append(float(s[0]))\n",
    "\n",
    "print(times)"
   ]
  },
  {
   "cell_type": "code",
   "execution_count": 33,
   "metadata": {},
   "outputs": [
    {
     "name": "stdout",
     "output_type": "stream",
     "text": [
      "[2, 3, 4, 5, 6, 7, 8, 9, 10, 11, 12, 13, 14, 15, 16, 17, 18, 19, 20, 21, 22, 23, 24, 25]\n"
     ]
    }
   ],
   "source": [
    "from matplotlib import pyplot as plt\n",
    "\n",
    "num = []\n",
    "for i in range(2, 26):\n",
    "    num.append(i)"
   ]
  },
  {
   "cell_type": "code",
   "execution_count": 52,
   "metadata": {},
   "outputs": [
    {
     "name": "stdout",
     "output_type": "stream",
     "text": [
      "['r' 'b' 'r' 'b' 'r' 'b' 'r' 'b' 'r' 'b' 'r' 'b' 'r' 'b' 'r' 'b' 'r' 'b'\n",
      " 'r' 'b' 'r' 'b' 'r' 'b']\n"
     ]
    },
    {
     "data": {
      "text/plain": [
       "Text(0.5, 1.0, 'Running time of our algorithm')"
      ]
     },
     "execution_count": 52,
     "metadata": {},
     "output_type": "execute_result"
    },
    {
     "data": {
      "image/png": "[encoded data removed]",
      "text/plain": [
       "<Figure size 432x288 with 1 Axes>"
      ]
     },
     "metadata": {
      "needs_background": "light"
     },
     "output_type": "display_data"
    }
   ],
   "source": [
    "import numpy as np\n",
    "\n",
    "arr = np.array(num)\n",
    "cols = np.where(arr%2 == 0,'r', 'b')\n",
    "\n",
    "plt.scatter(num, times, c = cols)\n",
    "plt.xlabel('Length of the ribbon (n)')\n",
    "plt.ylabel('timeit result in μs')\n",
    "plt.title('Running time of our algorithm')\n",
    "\n",
    "# red for even numbers (lengths) and blue for odd"
   ]
  }
 ],
 "metadata": {
  "kernelspec": {
   "display_name": "Python 3",
   "language": "python",
   "name": "python3"
  },
  "language_info": {
   "codemirror_mode": {
    "name": "ipython",
    "version": 3
   },
   "file_extension": ".py",
   "mimetype": "text/x-python",
   "name": "python",
   "nbconvert_exporter": "python",
   "pygments_lexer": "ipython3",
   "version": "3.8.3"
  }
 },
 "nbformat": 4,
 "nbformat_minor": 4
}
