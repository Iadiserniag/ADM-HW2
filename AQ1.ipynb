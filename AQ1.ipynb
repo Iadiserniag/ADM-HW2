{
 "cells": [
  {
   "cell_type": "markdown",
   "metadata": {},
   "source": [
    "# `[AQ1]`"
   ]
  },
  {
   "cell_type": "markdown",
   "metadata": {},
   "source": [
    "##### a) What is the output of this algorithm? Describe the mechanism of the algorithm in detail . We do not want to know only its final result. (Describe one example on your own)"
   ]
  },
  {
   "cell_type": "markdown",
   "metadata": {},
   "source": [
    "###### The algorithm"
   ]
  },
  {
   "cell_type": "code",
   "execution_count": 24,
   "metadata": {},
   "outputs": [],
   "source": [
    "# Let's suppose that end < len(sequence) --> at max end == len(sequence) - 1\n",
    "\n",
    "def f1(sequence, end):\n",
    "    for i in range(0, end + 1):\n",
    "        print(sequence[i])\n",
    "\n",
    "def f2(sequence, start, end):\n",
    "    if start == end:\n",
    "        return f1(sequence, end)\n",
    "    else:\n",
    "        for i in range(start, end):\n",
    "            temp = sequence[start]\n",
    "            sequence[start] = sequence[i]\n",
    "            sequence[i] = temp\n",
    "            return f2(sequence, start + 1, end) # start increases\n",
    "        # call function for every element in range (i increases as start increases)\n",
    "        \n",
    "        # worst case scenario: start = 0 and end = n - 1\n",
    "        # f2 is being called recursively n times before reaching the base case\n",
    "        # f1 is being called once (only when start == end)\n",
    "        # f1 => for loop => n iterations (o to n-1)\n",
    "        # T(n) = O(n) + O(n) = 2*O(n) = O(n)"
   ]
  },
  {
   "cell_type": "code",
   "execution_count": 28,
   "metadata": {},
   "outputs": [
    {
     "name": "stdout",
     "output_type": "stream",
     "text": [
      "1\n",
      "2\n",
      "3\n",
      "4\n",
      "5\n"
     ]
    }
   ],
   "source": [
    "f2([1, 2, 3, 4, 5], 0, 4)"
   ]
  },
  {
   "cell_type": "markdown",
   "metadata": {},
   "source": [
    "#####  Algorithm explanation: an example\n",
    "\n",
    "Function **`f1(sequence, end)`** takes as input:\n",
    "* `sequence`: list of objects.\n",
    "* `end`: an index, where `end` must be smaller than the length of the `sequence`. <br>\n",
    "\n",
    "\n",
    "Function **`f2(sequence, start, end)`** takes as input:\n",
    "* `sequence`\n",
    "* `start`: another index, where `start` must be smaller or equal than `end`.\n",
    "* `end`\n",
    "\n",
    "\n",
    "Let's suppose that `sequence` is equal to **[1, 2, 3, 4, 5]**, `start` is equal to **0** and `end` is equal to **3**. <br>\n",
    "\n",
    "##### Step 1\n",
    "\n",
    "We call `f2([1, 2, 3, 4, 5], 0, 3)`<br>\n",
    "\n",
    "`start < end` so we do NOT satisfy the first if statement. <br>\n",
    "\n",
    "``` for i in range(0, 3):\n",
    "    temp = sequence[0] = 1 => (start = i, 1 = 1)\n",
    "    sequence[0] = sequence[0] = 1\n",
    "    sequence[0] = temp = 1\n",
    "    return f2(sequence, 1, 3) # we call the function again and do not end the for loop```\n",
    "    \n",
    "    \n",
    "##### Step 2\n",
    "\n",
    "We call `f2([1, 2, 3, 4, 5], 1, 3)`<br>\n",
    "\n",
    "`start < end` so we do NOT satisfy the first if statement. <br>\n",
    "\n",
    "``` for i in range(1, 3):\n",
    "    temp = sequence[1] = 2\n",
    "    sequence[1] = sequence[1] = 2\n",
    "    sequence[1] = temp = 2\n",
    "    return f2(sequence, 2, 3) # we call the function again and do not end the for loop ```\n",
    "\n",
    "##### Step 3\n",
    "\n",
    "We call `f2([1, 2, 3, 4, 5], 2, 3)`<br>\n",
    "\n",
    "`start < end` so we do NOT satisfy the first if statement. <br>\n",
    "\n",
    "``` for i in range(2, 3):\n",
    "    temp = sequence[2] = 3\n",
    "    sequence[2] = sequence[2] = 3\n",
    "    sequence[2] = temp = 3\n",
    "    return f2(sequence, 3, 3) # we call the function again and do not end the for loop ```\n",
    "\n",
    "##### Step 4\n",
    "\n",
    "Finally, we call `f2([1, 2, 3, 4, 5], 3, 3)`<br>\n",
    "\n",
    "`start = end` so we satisfy the first if statement. <br>\n",
    "Therefore, we call function `f1([1, 2, 3, 4, 5], 3)` and print all elements of `sequence` having index in `range(3+1)`. <br>\n",
    "The function outputs: <br>\n",
    "`sequence[0]` = 1 <br>\n",
    "`sequence[1]` = 2 <br>\n",
    "`sequence[2]` = 3 <br>\n",
    "`sequence[3]` = 4\n",
    "\n",
    "\n",
    "Everytime we call function `f2`, start is always equal to i. Therefore, we do not need to temporarily create other variables. We might as well just call `f2(sequence, start + 1, end)` until `start == end`."
   ]
  },
  {
   "cell_type": "markdown",
   "metadata": {},
   "source": [
    "##### b) What is asymptotically (i.e., we are asking for big-O complexity) the algorithm's running time as a function of N?"
   ]
  },
  {
   "cell_type": "markdown",
   "metadata": {},
   "source": [
    "#### O(n)\n",
    "\n",
    "**worst case scenario**: `start = 0` and `end = n - 1` <br>\n",
    "`f2` is being called recursively **n times** before reaching the base case <br>\n",
    "`f1` is being called once (only when start == end). `f1` includes a for loop so **n iterations** (0 to n-1) <br>\n",
    "`T(n) = O(n) + O(n) = 2*O(n) = O(n)`"
   ]
  },
  {
   "cell_type": "markdown",
   "metadata": {},
   "source": [
    "##### c) Is this algorithm the optimal one to produce this output? If not, can you suggest a better algorithm to perform the same task?"
   ]
  },
  {
   "cell_type": "markdown",
   "metadata": {},
   "source": [
    "##### A more simple solution\n",
    "\n",
    "The following algorithm has the same output as the previously cited one but it's some simple."
   ]
  },
  {
   "cell_type": "code",
   "execution_count": 31,
   "metadata": {},
   "outputs": [
    {
     "name": "stdout",
     "output_type": "stream",
     "text": [
      "1\n",
      "2\n",
      "3\n",
      "4\n"
     ]
    }
   ],
   "source": [
    "def f3(sequence, start, end): # given that end < len(sequence)\n",
    "    if start == end:\n",
    "        for i in range(0, end + 1):\n",
    "            print(sequence[i]) # O(n)\n",
    "    else:\n",
    "        return f3(sequence, start + 1, end) # O(n)\n",
    "\n",
    "f3([1, 2, 3, 4, 5], 0, 3)"
   ]
  },
  {
   "cell_type": "markdown",
   "metadata": {},
   "source": [
    "##### A solution without recursion"
   ]
  },
  {
   "cell_type": "code",
   "execution_count": 35,
   "metadata": {},
   "outputs": [
    {
     "name": "stdout",
     "output_type": "stream",
     "text": [
      "1\n",
      "2\n",
      "3\n",
      "4\n"
     ]
    }
   ],
   "source": [
    "def f4(sequence, start, end):\n",
    "\n",
    "    for i in range(0, end + 1): # worst case scenario: end = len(sequence) - 1 = n => n iterations\n",
    "        print(sequence[i])\n",
    "        \n",
    "# O(n) + O(n) = 2*O(n) => get rid of constants => O(n)\n",
    "\n",
    "f4([1, 2, 3, 4, 5], 0, 3)"
   ]
  },
  {
   "cell_type": "markdown",
   "metadata": {},
   "source": [
    "**`Conclusions`**\n",
    "\n",
    "Cannot be better than O(n) as we cannot get rid of the for loop for printing the values in sequence."
   ]
  }
 ],
 "metadata": {
  "kernelspec": {
   "display_name": "Python 3",
   "language": "python",
   "name": "python3"
  },
  "language_info": {
   "codemirror_mode": {
    "name": "ipython",
    "version": 3
   },
   "file_extension": ".py",
   "mimetype": "text/x-python",
   "name": "python",
   "nbconvert_exporter": "python",
   "pygments_lexer": "ipython3",
   "version": "3.8.3"
  }
 },
 "nbformat": 4,
 "nbformat_minor": 4
}
