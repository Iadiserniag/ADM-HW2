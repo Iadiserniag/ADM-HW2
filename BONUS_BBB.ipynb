{
 "cells": [
  {
   "cell_type": "markdown",
   "id": "d34d0f9a",
   "metadata": {},
   "source": [
    "##### b) Assume users publish their posts the same day pictures or videos are taken: Are there users that have visited the same location on the same day? How about the same week? Extract the results and explain them."
   ]
  },
  {
   "cell_type": "markdown",
   "id": "8b564750",
   "metadata": {},
   "source": [
    "* We create a new variable called 'date', consisting in the date ( without time) of each post"
   ]
  },
  {
   "cell_type": "code",
   "execution_count": 4,
   "id": "e07a568e",
   "metadata": {},
   "outputs": [],
   "source": [
    "fields = [\"location_id\", \"profile_id\", \"cts\"]\n",
    "df_instagram_posts_BPB= pd.read_csv(\"~/instagram_posts.csv\", sep = \"\\t\" , usecols = fields ,parse_dates=[\"cts\"] )\n",
    "df_instagram_posts_BPB['date']=df_instagram_posts_BPB['cts'].dt.date"
   ]
  },
  {
   "cell_type": "markdown",
   "id": "10a7faec",
   "metadata": {},
   "source": [
    "* We remove all the lines that have a missing value for the 'location_id', since we are not going to use them, and we replace evry missing value for the variable 'profile_id' with the value 0, which is not an already existing profile_id"
   ]
  },
  {
   "cell_type": "code",
   "execution_count": 5,
   "id": "6de115db",
   "metadata": {},
   "outputs": [],
   "source": [
    "df_instagram_posts_BPB.profile_id.fillna(0, inplace = True)\n",
    "df_instagram_posts_BPB.dropna(subset=['location_id'], inplace=True)"
   ]
  },
  {
   "cell_type": "markdown",
   "id": "b1a7caca",
   "metadata": {},
   "source": [
    "* Now we group our datas by 'location_id' and 'date', obtaining, for every location, every day it was posted, and by counting 'profile_id' we see how many people visited that location on that single day"
   ]
  },
  {
   "cell_type": "code",
   "execution_count": 6,
   "id": "e7599084",
   "metadata": {},
   "outputs": [
    {
     "data": {
      "text/plain": [
       "location_id   date      \n",
       "7.000000e+00  2018-02-02    1\n",
       "              2019-03-15    1\n",
       "              2019-03-21    1\n",
       "1.000000e+01  2010-07-19    1\n",
       "              2011-02-16    1\n",
       "                           ..\n",
       "2.402148e+16  2019-06-04    1\n",
       "              2019-06-05    1\n",
       "              2019-07-23    1\n",
       "              2019-07-27    1\n",
       "              2019-08-03    1\n",
       "Name: profile_id, Length: 19492976, dtype: int64"
      ]
     },
     "execution_count": 6,
     "metadata": {},
     "output_type": "execute_result"
    }
   ],
   "source": [
    "data_grouped = df_instagram_posts_BPB.groupby(['location_id','date'])['profile_id'].count()\n",
    "data_grouped"
   ]
  },
  {
   "cell_type": "markdown",
   "id": "ef64376d",
   "metadata": {},
   "source": [
    "* By counting the values of the previous table, we can see how many times users were in the same location of other users in the same day"
   ]
  },
  {
   "cell_type": "code",
   "execution_count": 6,
   "id": "78086f4e",
   "metadata": {},
   "outputs": [
    {
     "data": {
      "text/plain": [
       "1       15547487\n",
       "2        2245184\n",
       "3         764011\n",
       "4         340049\n",
       "5         180645\n",
       "          ...   \n",
       "877            1\n",
       "807            1\n",
       "953            1\n",
       "1049           1\n",
       "419            1\n",
       "Name: profile_id, Length: 663, dtype: int64"
      ]
     },
     "execution_count": 6,
     "metadata": {},
     "output_type": "execute_result"
    }
   ],
   "source": [
    "data_grouped.value_counts()"
   ]
  },
  {
   "cell_type": "markdown",
   "id": "64cf4acd",
   "metadata": {},
   "source": [
    "* In the following output we see how many times a user posted a content on the same location and on the same day of another user or more than one"
   ]
  },
  {
   "cell_type": "code",
   "execution_count": 7,
   "id": "f870407b",
   "metadata": {},
   "outputs": [
    {
     "data": {
      "text/plain": [
       "3945489"
      ]
     },
     "execution_count": 7,
     "metadata": {},
     "output_type": "execute_result"
    }
   ],
   "source": [
    "len(data_grouped)-data_grouped.value_counts()[1]"
   ]
  },
  {
   "cell_type": "markdown",
   "id": "6c3815a3",
   "metadata": {},
   "source": [
    "* In conclusion we can state that yes, there are users that have visited <b>the same location on the same day, this has appened 3.945.489 times</b>. This is easy to imagine in a big city with where a lot of people post contents every day, or also in a place where it occurs a special event, where many people gather all together and share the event on social media"
   ]
  },
  {
   "cell_type": "markdown",
   "id": "015f4c65",
   "metadata": {},
   "source": [
    "##### We now proceed to do the same process for the weeks"
   ]
  },
  {
   "cell_type": "markdown",
   "id": "509fdac8",
   "metadata": {},
   "source": [
    "* We start by analyzing the charateristichs of the variable 'date', to see how many days are in our dataset; we have 3141 different dates, but in a range of 3329 days, so some dates are missing."
   ]
  },
  {
   "cell_type": "code",
   "execution_count": 11,
   "id": "3a32ea20",
   "metadata": {},
   "outputs": [
    {
     "data": {
      "text/plain": [
       "count       29737425\n",
       "unique          3141\n",
       "top       2019-05-05\n",
       "freq          333597\n",
       "Name: date, dtype: object"
      ]
     },
     "execution_count": 11,
     "metadata": {},
     "output_type": "execute_result"
    }
   ],
   "source": [
    "df_instagram_posts_BPB['date'].describe()"
   ]
  },
  {
   "cell_type": "code",
   "execution_count": 14,
   "id": "58bda43f",
   "metadata": {},
   "outputs": [
    {
     "data": {
      "text/plain": [
       "datetime.timedelta(days=3329)"
      ]
     },
     "execution_count": 14,
     "metadata": {},
     "output_type": "execute_result"
    }
   ],
   "source": [
    "df_instagram_posts_BPB['date'].max()-df_instagram_posts_BPB['date'].min()"
   ]
  },
  {
   "cell_type": "markdown",
   "id": "ac270696",
   "metadata": {},
   "source": [
    "* We create a list of every day in the range between the first and the last day of our data"
   ]
  },
  {
   "cell_type": "code",
   "execution_count": 42,
   "id": "9905d203",
   "metadata": {},
   "outputs": [],
   "source": [
    "datelist= pd.date_range(df_instagram_posts_BPB['date'].min(),periods=3329).to_pydatetime().tolist()"
   ]
  },
  {
   "cell_type": "markdown",
   "id": "62f434a4",
   "metadata": {},
   "source": [
    "* In the following output, we show how many weeks are in our range: 475 weeks and 4 days"
   ]
  },
  {
   "cell_type": "code",
   "execution_count": 2,
   "id": "f0309230",
   "metadata": {},
   "outputs": [
    {
     "name": "stdout",
     "output_type": "stream",
     "text": [
      "475\n",
      "4\n"
     ]
    }
   ],
   "source": [
    "print(3329//7)\n",
    "print(3329%7)"
   ]
  },
  {
   "cell_type": "markdown",
   "id": "01b59619",
   "metadata": {},
   "source": [
    "* We create the list 'weeks', which is a list of every day in our range by its week of belonging"
   ]
  },
  {
   "cell_type": "code",
   "execution_count": 67,
   "id": "73a9d6fe",
   "metadata": {},
   "outputs": [],
   "source": [
    "a=[]\n",
    "z=1\n",
    "for i in range(1,476):\n",
    "    a.append([z,z,z,z,z,z,z])\n",
    "    z=z+1\n",
    "a.append([z,z,z,z])\n",
    "weeks = [item for sublist in a for item in sublist]"
   ]
  },
  {
   "cell_type": "markdown",
   "id": "6c65e5af",
   "metadata": {},
   "source": [
    "* We create a new dataframe, 'df_instagram_posts_BPB_2', which will contain every day in our range, also the missing days in the original dataset, each one with its week of belonging"
   ]
  },
  {
   "cell_type": "code",
   "execution_count": 41,
   "id": "95e9713a",
   "metadata": {},
   "outputs": [],
   "source": [
    "df_instagram_posts_BPB_2=pd.DataFrame(columns=['date','week'])\n",
    "df_instagram_posts_BPB_2['date']=datelist\n",
    "df_instagram_posts_BPB_2['date']=df_instagram_posts_BPB_2['date'].dt.date\n",
    "df_instagram_posts_BPB_2['week']=weeks"
   ]
  },
  {
   "cell_type": "markdown",
   "id": "f49dd58a",
   "metadata": {},
   "source": [
    "* After this, we merge the new dataset with the original one, so that every day of it has a week to which it belongs"
   ]
  },
  {
   "cell_type": "code",
   "execution_count": 61,
   "id": "ef34d42e",
   "metadata": {},
   "outputs": [],
   "source": [
    "df_instagram_posts_BPB_with_WEEKS=pd.merge(df_instagram_posts_BPB_2,df_instagram_posts_BPB,on='date')"
   ]
  },
  {
   "cell_type": "markdown",
   "id": "fb38f4eb",
   "metadata": {},
   "source": [
    "* From now on we proceed exactly how we did previously, so we group our posts based on their location and now their week, and we print how many profiles visited that location in that week  "
   ]
  },
  {
   "cell_type": "code",
   "execution_count": 66,
   "id": "1485fabc",
   "metadata": {},
   "outputs": [
    {
     "data": {
      "text/plain": [
       "location_id   week\n",
       "7.000000e+00  394      1\n",
       "              452      1\n",
       "              453      1\n",
       "1.000000e+01  1        1\n",
       "              31       1\n",
       "                      ..\n",
       "2.402148e+16  462     11\n",
       "              463     11\n",
       "              464      2\n",
       "              471      2\n",
       "              472      1\n",
       "Name: profile_id, Length: 12688824, dtype: int64"
      ]
     },
     "execution_count": 66,
     "metadata": {},
     "output_type": "execute_result"
    }
   ],
   "source": [
    "data_grouped_2 = df_instagram_posts_BPB_with_WEEKS.groupby(['location_id','week'])['profile_id'].count()\n",
    "data_grouped_2"
   ]
  },
  {
   "cell_type": "markdown",
   "id": "1ad92c8f",
   "metadata": {},
   "source": [
    "* By counting the values of the previous table with 'value_counts', we can see how many times users were in the same location of other users in the same week"
   ]
  },
  {
   "cell_type": "code",
   "execution_count": 65,
   "id": "d83b39f9",
   "metadata": {},
   "outputs": [
    {
     "data": {
      "text/plain": [
       "1       8567478\n",
       "2       1766574\n",
       "3        767123\n",
       "4        428597\n",
       "5        269298\n",
       "         ...   \n",
       "1104          1\n",
       "1051          1\n",
       "982           1\n",
       "856           1\n",
       "428           1\n",
       "Name: profile_id, Length: 909, dtype: int64"
      ]
     },
     "execution_count": 65,
     "metadata": {},
     "output_type": "execute_result"
    }
   ],
   "source": [
    "data_grouped_2.value_counts()"
   ]
  },
  {
   "cell_type": "markdown",
   "id": "92ebbceb",
   "metadata": {},
   "source": [
    "* In the following output we see that a user posted content <b>4,121,346 times on the same location and in the same week</b> of another user or more than one user. Just like the previous output, it also makes sense this time, and as we could expect this time the number is higher than before, because we are grouping by a longer range of time, a week instead of a day, so the probability of two or more people of posting in the same location will logically increase."
   ]
  },
  {
   "cell_type": "code",
   "execution_count": 71,
   "id": "7c912a7b",
   "metadata": {},
   "outputs": [
    {
     "data": {
      "text/plain": [
       "4121346"
      ]
     },
     "execution_count": 71,
     "metadata": {},
     "output_type": "execute_result"
    }
   ],
   "source": [
    "len(data_grouped_2)-data_grouped_2.value_counts()[1]"
   ]
  }
 ],
 "metadata": {
  "kernelspec": {
   "display_name": "Python 3",
   "language": "python",
   "name": "python3"
  },
  "language_info": {
   "codemirror_mode": {
    "name": "ipython",
    "version": 3
   },
   "file_extension": ".py",
   "mimetype": "text/x-python",
   "name": "python",
   "nbconvert_exporter": "python",
   "pygments_lexer": "ipython3",
   "version": "3.8.8"
  }
 },
 "nbformat": 4,
 "nbformat_minor": 5
}
