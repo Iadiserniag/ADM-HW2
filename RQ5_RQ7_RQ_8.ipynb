{
 "cells": [
  {
   "cell_type": "markdown",
   "id": "21a25489",
   "metadata": {},
   "source": [
    "### <b>[RQ5]</b> The most influential users are the ones with the highest number of “followers\", you can now look more into their activity."
   ]
  },
  {
   "cell_type": "markdown",
   "id": "5568b47b",
   "metadata": {},
   "source": [
    "\n",
    "<b>5.1</b> Plot the top 10 most popular users in terms of followers and their number of posts.\n"
   ]
  },
  {
   "cell_type": "code",
   "execution_count": 35,
   "id": "d51ec73c",
   "metadata": {},
   "outputs": [],
   "source": [
    "# posts dataset\n",
    "fields=['profile_id','location_id','post_type','numbr_likes','number_comments']\n",
    "df_instagram_posts_RQ5=pd.read_csv('~/instagram_posts.csv',sep='\\t',usecols=fields)"
   ]
  },
  {
   "cell_type": "code",
   "execution_count": 36,
   "id": "8ed5dd03",
   "metadata": {},
   "outputs": [],
   "source": [
    "#profiles dataset\n",
    "df_instagram_profiles_RQ5 = pd.read_csv('https://adm2022.s3.amazonaws.com/instagram_profiles.zip', delimiter='\\t')"
   ]
  },
  {
   "cell_type": "code",
   "execution_count": 37,
   "id": "744a5a24",
   "metadata": {},
   "outputs": [],
   "source": [
    "#locations dataset\n",
    "df_instagram_locations_RQ5 = pd.read_csv('https://adm2022.s3.amazonaws.com/instagram_locations.zip', delimiter='\\t')"
   ]
  },
  {
   "cell_type": "markdown",
   "id": "56255b56",
   "metadata": {},
   "source": [
    "* We start by extracting the top 10 most followed accounts"
   ]
  },
  {
   "cell_type": "code",
   "execution_count": 38,
   "id": "abc26251",
   "metadata": {},
   "outputs": [
    {
     "data": {
      "text/plain": [
       "2880218    285457645.0\n",
       "2582507     65269440.0\n",
       "3820939     35339708.0\n",
       "701965      30689316.0\n",
       "2414951     30246783.0\n",
       "2785241     29542143.0\n",
       "333193      29176804.0\n",
       "3934581     29042823.0\n",
       "1311970     26476004.0\n",
       "1703764     26252169.0\n",
       "Name: followers, dtype: float64"
      ]
     },
     "execution_count": 38,
     "metadata": {},
     "output_type": "execute_result"
    }
   ],
   "source": [
    "followers=df_instagram_profiles_RQ5['followers']\n",
    "followers.nlargest(10)"
   ]
  },
  {
   "cell_type": "markdown",
   "id": "80d840fa",
   "metadata": {},
   "source": [
    "* We show the dataset of the top 10 most influential users"
   ]
  },
  {
   "cell_type": "code",
   "execution_count": 39,
   "id": "faf988db",
   "metadata": {},
   "outputs": [
    {
     "data": {
      "text/html": [
       "<div>\n",
       "<style scoped>\n",
       "    .dataframe tbody tr th:only-of-type {\n",
       "        vertical-align: middle;\n",
       "    }\n",
       "\n",
       "    .dataframe tbody tr th {\n",
       "        vertical-align: top;\n",
       "    }\n",
       "\n",
       "    .dataframe thead th {\n",
       "        text-align: right;\n",
       "    }\n",
       "</style>\n",
       "<table border=\"1\" class=\"dataframe\">\n",
       "  <thead>\n",
       "    <tr style=\"text-align: right;\">\n",
       "      <th></th>\n",
       "      <th>sid</th>\n",
       "      <th>profile_id</th>\n",
       "      <th>profile_name</th>\n",
       "      <th>firstname_lastname</th>\n",
       "      <th>description</th>\n",
       "      <th>following</th>\n",
       "      <th>followers</th>\n",
       "      <th>n_posts</th>\n",
       "      <th>url</th>\n",
       "      <th>cts</th>\n",
       "      <th>is_business_account</th>\n",
       "    </tr>\n",
       "  </thead>\n",
       "  <tbody>\n",
       "    <tr>\n",
       "      <th>2880218</th>\n",
       "      <td>336492</td>\n",
       "      <td>2.502532e+07</td>\n",
       "      <td>instagram</td>\n",
       "      <td>Instagram</td>\n",
       "      <td>Bringing you closer to the people and things y...</td>\n",
       "      <td>226.0</td>\n",
       "      <td>285457645.0</td>\n",
       "      <td>5760.0</td>\n",
       "      <td>help.instagram.com</td>\n",
       "      <td>NaN</td>\n",
       "      <td>False</td>\n",
       "    </tr>\n",
       "    <tr>\n",
       "      <th>2582507</th>\n",
       "      <td>371414</td>\n",
       "      <td>3.416684e+06</td>\n",
       "      <td>victoriassecret</td>\n",
       "      <td>Victoria's Secret</td>\n",
       "      <td>Confidence is sexy. #wearitdaily</td>\n",
       "      <td>549.0</td>\n",
       "      <td>65269440.0</td>\n",
       "      <td>7355.0</td>\n",
       "      <td>like2b.uy/victoriassecret</td>\n",
       "      <td>NaN</td>\n",
       "      <td>True</td>\n",
       "    </tr>\n",
       "    <tr>\n",
       "      <th>3820939</th>\n",
       "      <td>337097</td>\n",
       "      <td>2.082449e+07</td>\n",
       "      <td>nba</td>\n",
       "      <td>NBA</td>\n",
       "      <td>30 teams, 1 🏆\\n👟: @nbakicks \\n📽: @nbahistory \\...</td>\n",
       "      <td>817.0</td>\n",
       "      <td>35339708.0</td>\n",
       "      <td>28816.0</td>\n",
       "      <td>nba.app.link/js6X7SVaxT</td>\n",
       "      <td>NaN</td>\n",
       "      <td>True</td>\n",
       "    </tr>\n",
       "    <tr>\n",
       "      <th>701965</th>\n",
       "      <td>330376</td>\n",
       "      <td>1.876191e+08</td>\n",
       "      <td>louisvuitton</td>\n",
       "      <td>Louis Vuitton Official</td>\n",
       "      <td>The official Instagram account of Louis Vuitton.</td>\n",
       "      <td>5.0</td>\n",
       "      <td>30689316.0</td>\n",
       "      <td>3352.0</td>\n",
       "      <td>on.louisvuitton.com/Like2Buy</td>\n",
       "      <td>NaN</td>\n",
       "      <td>True</td>\n",
       "    </tr>\n",
       "    <tr>\n",
       "      <th>2414951</th>\n",
       "      <td>292359</td>\n",
       "      <td>2.125507e+09</td>\n",
       "      <td>buzzfeedtasty</td>\n",
       "      <td>Tasty</td>\n",
       "      <td>Recipes that will make you say \"oh yes!\"\\n👇 Cl...</td>\n",
       "      <td>298.0</td>\n",
       "      <td>30246783.0</td>\n",
       "      <td>2791.0</td>\n",
       "      <td>tasty.co/linkinbio</td>\n",
       "      <td>NaN</td>\n",
       "      <td>True</td>\n",
       "    </tr>\n",
       "    <tr>\n",
       "      <th>2785241</th>\n",
       "      <td>3437294</td>\n",
       "      <td>4.968651e+08</td>\n",
       "      <td>andresiniesta8</td>\n",
       "      <td>Andres Iniesta</td>\n",
       "      <td>Andres Iniesta Official Instagram Account, \\nB...</td>\n",
       "      <td>151.0</td>\n",
       "      <td>29542143.0</td>\n",
       "      <td>990.0</td>\n",
       "      <td>mikakus.com</td>\n",
       "      <td>2019-05-08 23:54:35.377 -0400</td>\n",
       "      <td>False</td>\n",
       "    </tr>\n",
       "    <tr>\n",
       "      <th>333193</th>\n",
       "      <td>158690</td>\n",
       "      <td>2.341008e+07</td>\n",
       "      <td>hm</td>\n",
       "      <td>H&amp;M</td>\n",
       "      <td>Welcome to #HM! Follow us at @HM_Man @HM_Kids ...</td>\n",
       "      <td>403.0</td>\n",
       "      <td>29176804.0</td>\n",
       "      <td>4566.0</td>\n",
       "      <td>hm.info/1c9he</td>\n",
       "      <td>2018-05-31 19:33:46.022 -0400</td>\n",
       "      <td>True</td>\n",
       "    </tr>\n",
       "    <tr>\n",
       "      <th>3934581</th>\n",
       "      <td>3615154</td>\n",
       "      <td>2.423993e+07</td>\n",
       "      <td>princessyahrini</td>\n",
       "      <td>Syahrini</td>\n",
       "      <td>NaN</td>\n",
       "      <td>835.0</td>\n",
       "      <td>29042823.0</td>\n",
       "      <td>4719.0</td>\n",
       "      <td>www.youtube.com/c/ThePrincesSyahrini</td>\n",
       "      <td>2019-06-26 15:05:53.411 -0400</td>\n",
       "      <td>True</td>\n",
       "    </tr>\n",
       "    <tr>\n",
       "      <th>1311970</th>\n",
       "      <td>508140</td>\n",
       "      <td>5.041706e+07</td>\n",
       "      <td>danbilzerian</td>\n",
       "      <td>Dan Bilzerian</td>\n",
       "      <td>Snapchat: dbilzerian</td>\n",
       "      <td>252.0</td>\n",
       "      <td>26476004.0</td>\n",
       "      <td>1311.0</td>\n",
       "      <td>www.ignite.co</td>\n",
       "      <td>NaN</td>\n",
       "      <td>True</td>\n",
       "    </tr>\n",
       "    <tr>\n",
       "      <th>1703764</th>\n",
       "      <td>3513205</td>\n",
       "      <td>9.070254e+08</td>\n",
       "      <td>akshaykumar</td>\n",
       "      <td>Akshay Kumar</td>\n",
       "      <td>#AkshayKumar</td>\n",
       "      <td>5.0</td>\n",
       "      <td>26252169.0</td>\n",
       "      <td>1173.0</td>\n",
       "      <td>bit.ly/AliAliBlank</td>\n",
       "      <td>2019-05-14 08:29:29.754 -0400</td>\n",
       "      <td>False</td>\n",
       "    </tr>\n",
       "  </tbody>\n",
       "</table>\n",
       "</div>"
      ],
      "text/plain": [
       "             sid    profile_id     profile_name      firstname_lastname  \\\n",
       "2880218   336492  2.502532e+07        instagram               Instagram   \n",
       "2582507   371414  3.416684e+06  victoriassecret       Victoria's Secret   \n",
       "3820939   337097  2.082449e+07              nba                     NBA   \n",
       "701965    330376  1.876191e+08     louisvuitton  Louis Vuitton Official   \n",
       "2414951   292359  2.125507e+09    buzzfeedtasty                   Tasty   \n",
       "2785241  3437294  4.968651e+08   andresiniesta8          Andres Iniesta   \n",
       "333193    158690  2.341008e+07               hm                     H&M   \n",
       "3934581  3615154  2.423993e+07  princessyahrini                Syahrini   \n",
       "1311970   508140  5.041706e+07     danbilzerian           Dan Bilzerian   \n",
       "1703764  3513205  9.070254e+08      akshaykumar            Akshay Kumar   \n",
       "\n",
       "                                               description  following  \\\n",
       "2880218  Bringing you closer to the people and things y...      226.0   \n",
       "2582507                   Confidence is sexy. #wearitdaily      549.0   \n",
       "3820939  30 teams, 1 🏆\\n👟: @nbakicks \\n📽: @nbahistory \\...      817.0   \n",
       "701965    The official Instagram account of Louis Vuitton.        5.0   \n",
       "2414951  Recipes that will make you say \"oh yes!\"\\n👇 Cl...      298.0   \n",
       "2785241  Andres Iniesta Official Instagram Account, \\nB...      151.0   \n",
       "333193   Welcome to #HM! Follow us at @HM_Man @HM_Kids ...      403.0   \n",
       "3934581                                                NaN      835.0   \n",
       "1311970                               Snapchat: dbilzerian      252.0   \n",
       "1703764                                       #AkshayKumar        5.0   \n",
       "\n",
       "           followers  n_posts                                   url  \\\n",
       "2880218  285457645.0   5760.0                    help.instagram.com   \n",
       "2582507   65269440.0   7355.0             like2b.uy/victoriassecret   \n",
       "3820939   35339708.0  28816.0               nba.app.link/js6X7SVaxT   \n",
       "701965    30689316.0   3352.0          on.louisvuitton.com/Like2Buy   \n",
       "2414951   30246783.0   2791.0                    tasty.co/linkinbio   \n",
       "2785241   29542143.0    990.0                           mikakus.com   \n",
       "333193    29176804.0   4566.0                         hm.info/1c9he   \n",
       "3934581   29042823.0   4719.0  www.youtube.com/c/ThePrincesSyahrini   \n",
       "1311970   26476004.0   1311.0                         www.ignite.co   \n",
       "1703764   26252169.0   1173.0                    bit.ly/AliAliBlank   \n",
       "\n",
       "                                   cts is_business_account  \n",
       "2880218                            NaN               False  \n",
       "2582507                            NaN                True  \n",
       "3820939                            NaN                True  \n",
       "701965                             NaN                True  \n",
       "2414951                            NaN                True  \n",
       "2785241  2019-05-08 23:54:35.377 -0400               False  \n",
       "333193   2018-05-31 19:33:46.022 -0400                True  \n",
       "3934581  2019-06-26 15:05:53.411 -0400                True  \n",
       "1311970                            NaN                True  \n",
       "1703764  2019-05-14 08:29:29.754 -0400               False  "
      ]
     },
     "execution_count": 39,
     "metadata": {},
     "output_type": "execute_result"
    }
   ],
   "source": [
    "#top10 profiles by followers\n",
    "top10=df_instagram_profiles_RQ5[df_instagram_profiles_RQ5.followers >= 26252169.0]\n",
    "top10.sort_values(['followers'],ascending=False)"
   ]
  },
  {
   "cell_type": "markdown",
   "id": "0543f797",
   "metadata": {},
   "source": [
    "* We now create a barplot showing the number of followers for each one of the most influential users"
   ]
  },
  {
   "cell_type": "code",
   "execution_count": 40,
   "id": "847ecedd",
   "metadata": {},
   "outputs": [
    {
     "data": {
      "image/png": "[encoded data removed]",
      "text/plain": [
       "<Figure size 432x288 with 1 Axes>"
      ]
     },
     "metadata": {
      "needs_background": "light"
     },
     "output_type": "display_data"
    }
   ],
   "source": [
    "fig = plt.figure()\n",
    "ax = fig.add_axes([0,0,2,2])\n",
    "profiles = list(top10['profile_name'])\n",
    "nfollows = list(top10['followers'])\n",
    "ax.bar(profiles,nfollows,width=1, edgecolor=\"white\", linewidth=5,color='purple')\n",
    "plt.xlabel('Followers',labelpad=10)\n",
    "plt.ylabel('',labelpad=10)\n",
    "plt.title('Count of Followers')\n",
    "plt.show()"
   ]
  },
  {
   "cell_type": "markdown",
   "id": "7699a98e",
   "metadata": {},
   "source": [
    "<b>5.2</b> Who is the most influential user?\n"
   ]
  },
  {
   "cell_type": "code",
   "execution_count": 42,
   "id": "c254ecf4",
   "metadata": {},
   "outputs": [
    {
     "data": {
      "text/html": [
       "<div>\n",
       "<style scoped>\n",
       "    .dataframe tbody tr th:only-of-type {\n",
       "        vertical-align: middle;\n",
       "    }\n",
       "\n",
       "    .dataframe tbody tr th {\n",
       "        vertical-align: top;\n",
       "    }\n",
       "\n",
       "    .dataframe thead th {\n",
       "        text-align: right;\n",
       "    }\n",
       "</style>\n",
       "<table border=\"1\" class=\"dataframe\">\n",
       "  <thead>\n",
       "    <tr style=\"text-align: right;\">\n",
       "      <th></th>\n",
       "      <th>sid</th>\n",
       "      <th>profile_id</th>\n",
       "      <th>profile_name</th>\n",
       "      <th>firstname_lastname</th>\n",
       "      <th>description</th>\n",
       "      <th>following</th>\n",
       "      <th>followers</th>\n",
       "      <th>n_posts</th>\n",
       "      <th>url</th>\n",
       "      <th>cts</th>\n",
       "      <th>is_business_account</th>\n",
       "    </tr>\n",
       "  </thead>\n",
       "  <tbody>\n",
       "    <tr>\n",
       "      <th>2880218</th>\n",
       "      <td>336492</td>\n",
       "      <td>25025320.0</td>\n",
       "      <td>instagram</td>\n",
       "      <td>Instagram</td>\n",
       "      <td>Bringing you closer to the people and things y...</td>\n",
       "      <td>226.0</td>\n",
       "      <td>285457645.0</td>\n",
       "      <td>5760.0</td>\n",
       "      <td>help.instagram.com</td>\n",
       "      <td>NaN</td>\n",
       "      <td>False</td>\n",
       "    </tr>\n",
       "  </tbody>\n",
       "</table>\n",
       "</div>"
      ],
      "text/plain": [
       "            sid  profile_id profile_name firstname_lastname  \\\n",
       "2880218  336492  25025320.0    instagram          Instagram   \n",
       "\n",
       "                                               description  following  \\\n",
       "2880218  Bringing you closer to the people and things y...      226.0   \n",
       "\n",
       "           followers  n_posts                 url  cts is_business_account  \n",
       "2880218  285457645.0   5760.0  help.instagram.com  NaN               False  "
      ]
     },
     "execution_count": 42,
     "metadata": {},
     "output_type": "execute_result"
    }
   ],
   "source": [
    "#most influential user\n",
    "df_instagram_profiles_RQ5[df_instagram_profiles_RQ5.followers == 285457645.0] "
   ]
  },
  {
   "cell_type": "markdown",
   "id": "cb9b51bc",
   "metadata": {},
   "source": [
    "* The most influential user is <b>Instagram\n"
   ]
  },
  {
   "cell_type": "markdown",
   "id": "1c184abe",
   "metadata": {},
   "source": [
    "<b>5.3</b> Have they posted anything with tagged locations? Extract the most frequent areas on their posts and plot the number of times each city has been visited."
   ]
  },
  {
   "cell_type": "markdown",
   "id": "8b3513b7",
   "metadata": {},
   "source": [
    "* We create a dataframe containing all the posts by the top 10 most influential users"
   ]
  },
  {
   "cell_type": "code",
   "execution_count": 44,
   "id": "6bd1671f",
   "metadata": {},
   "outputs": [
    {
     "name": "stdout",
     "output_type": "stream",
     "text": [
      "      profile_id   location_id  post_type  numbr_likes  number_comments\n",
      "0     23410080.0  3.846191e+08          1     116059.0            642.0\n",
      "1     23410080.0  2.293029e+08          1      46368.0             88.0\n",
      "2    187619120.0  5.590714e+06          1     186857.0            867.0\n",
      "3     50417061.0  2.222444e+08          1     266200.0           3290.0\n",
      "4     50417061.0  2.368281e+08          1     268732.0           6402.0\n",
      "..           ...           ...        ...          ...              ...\n",
      "136   24239929.0  2.130118e+08          1      55010.0              0.0\n",
      "137   24239929.0  2.130118e+08          1     114315.0              0.0\n",
      "138   24239929.0  2.130118e+08          1      78974.0              0.0\n",
      "139   24239929.0  1.906910e+15          1     132116.0              0.0\n",
      "140   24239929.0  1.906910e+15          1      66185.0              0.0\n",
      "\n",
      "[141 rows x 5 columns]\n"
     ]
    }
   ],
   "source": [
    "top10_posts=pd.DataFrame(columns=['profile_id'])\n",
    "for i in [23410080.0,187619120.0,50417061.0,907025384.0,2125506698.0,3416684.0,496865116.0,25025320.0,20824486.0,24239929.0]:\n",
    "    x=df_instagram_posts_RQ5[df_instagram_posts_RQ5['profile_id']==int(i)]\n",
    "    top10_posts=pd.merge(top10_posts,x,how='outer')\n",
    "print(top10_posts)"
   ]
  },
  {
   "cell_type": "markdown",
   "id": "509de840",
   "metadata": {},
   "source": [
    "* We extract the location_id of each post by top10_posts, then we create a list containing the output.\n",
    "* We then procede to create top10_loc, a dataframe containing all the locations tagged by the top10 users"
   ]
  },
  {
   "cell_type": "code",
   "execution_count": 46,
   "id": "cbb915ee",
   "metadata": {},
   "outputs": [
    {
     "data": {
      "text/plain": [
       "0             384619115.000000\n",
       "1             229302869.000000\n",
       "2               5590714.000000\n",
       "3             222244450.000000\n",
       "4             236828105.000000\n",
       "                ...           \n",
       "136           213011753.000000\n",
       "137           213011753.000000\n",
       "138           213011753.000000\n",
       "139    1906910439594849.000000\n",
       "140    1906910439594849.000000\n",
       "Name: location_id, Length: 141, dtype: object"
      ]
     },
     "execution_count": 46,
     "metadata": {},
     "output_type": "execute_result"
    }
   ],
   "source": [
    "loc_id= top10_posts['location_id']\n",
    "loc_id.apply(lambda x: format(x, 'f'))"
   ]
  },
  {
   "cell_type": "code",
   "execution_count": 51,
   "id": "9074dc6a",
   "metadata": {},
   "outputs": [],
   "source": [
    "cc=[i for i in loc_id]\n",
    "top10_loc=pd.DataFrame(columns=['sid','name','city'])\n",
    "\n",
    "\n",
    "#dataframe containing all the locations tagged by the top10 users\n",
    "\n",
    "for i in range(len(df_instagram_locations_RQ5)):\n",
    "    if df_instagram_locations_RQ5['id'][i] in cc:\n",
    "        x=df_instagram_locations_RQ5[df_instagram_locations_RQ5.id == df_instagram_locations_RQ5['id'][i]]\n",
    "        top10_loc=pd.merge(top10_loc,x,how='outer')"
   ]
  },
  {
   "cell_type": "markdown",
   "id": "d9557518",
   "metadata": {},
   "source": [
    "* We now print the locations visited by the top 10 accounts and we group them by city, then we count how many times wach city was visited."
   ]
  },
  {
   "cell_type": "code",
   "execution_count": 52,
   "id": "2ea27e80",
   "metadata": {},
   "outputs": [],
   "source": [
    "top10_loc_groups=top10_loc.groupby(['city'])['city'].count()"
   ]
  },
  {
   "cell_type": "code",
   "execution_count": 53,
   "id": "ea134f8e",
   "metadata": {},
   "outputs": [
    {
     "data": {
      "text/plain": [
       "city\n",
       "Adelaide, South Australia    1\n",
       "Akron, Ohio                  1\n",
       "Amphoe Pak Chong             1\n",
       "Amsterdam, Netherlands       3\n",
       "Bad Urach                    1\n",
       "                            ..\n",
       "Vail, Colorado               1\n",
       "Vaitape, French Polynesia    1\n",
       "Valencia                     1\n",
       "Valley Park, Missouri        1\n",
       "Xiandu, Zhejiang, China      1\n",
       "Name: city, Length: 63, dtype: int64"
      ]
     },
     "execution_count": 53,
     "metadata": {},
     "output_type": "execute_result"
    }
   ],
   "source": [
    "top10_loc_groups"
   ]
  },
  {
   "cell_type": "markdown",
   "id": "6a467d57",
   "metadata": {},
   "source": [
    "* In the following plot we can observe the number of times each city has been tagged by one of the top 10 most influential users of Instagram;\n",
    "Only the cities visited more than one time are plotted."
   ]
  },
  {
   "cell_type": "code",
   "execution_count": 52,
   "id": "a43b46ec",
   "metadata": {},
   "outputs": [],
   "source": [
    "freq=list(acg)\n",
    "dd=[]\n",
    "for i in freq:\n",
    "    if i != 1:\n",
    "        dd.append(i)\n",
    "city=['Amsterdam, Netherlands','Houston, Texas','Las Vegas, Nevada','London, United Kingdom','Los Angeles, California ','New York, New York','Shanghai, China','Singapore']"
   ]
  },
  {
   "cell_type": "code",
   "execution_count": 53,
   "id": "dfbf61ef",
   "metadata": {},
   "outputs": [
    {
     "data": {
      "image/png": "[encoded data removed]",
      "text/plain": [
       "<Figure size 432x288 with 1 Axes>"
      ]
     },
     "metadata": {
      "needs_background": "light"
     },
     "output_type": "display_data"
    }
   ],
   "source": [
    "fig = plt.figure()\n",
    "ax = fig.add_axes([0,0,2.5,2])\n",
    "ax.bar(city,dd,width=1, edgecolor=\"white\", linewidth=5,color='purple')\n",
    "plt.xlabel('city',labelpad=10)\n",
    "plt.ylabel('count',labelpad=10)\n",
    "plt.title('Most tagged cities')\n",
    "plt.show()"
   ]
  },
  {
   "cell_type": "markdown",
   "id": "3467382f",
   "metadata": {},
   "source": [
    "* The most tagged location by top 10 most influential users is <b>New York</b>, which has been visited 9 times, followed by Los Angeles and Singapore with 4 visits, then Amsterdam,\n",
    "Houston and London 3 times, and finally Las Vegas and Shangai 2 times.\n",
    "\n",
    "All the other cities have been visited only once"
   ]
  },
  {
   "cell_type": "markdown",
   "id": "3fe0e01c",
   "metadata": {},
   "source": [
    "<b>5.4.1</b> How many pictures-only posts have they published? How many reels? (only videos) and how many with both contents?"
   ]
  },
  {
   "cell_type": "markdown",
   "id": "51b1d8af",
   "metadata": {},
   "source": [
    "* After applying the 'groupby' function to the dataframe containing the most influential users, we notice that we have 141 posts made by them in our posts dataset; \n",
    "* Of these posts, <b>128 are pictures-only posts</b>, and <b>13 are reel</b> and <b>0 are with both content</b>."
   ]
  },
  {
   "cell_type": "code",
   "execution_count": 53,
   "id": "e3331f64",
   "metadata": {},
   "outputs": [
    {
     "data": {
      "text/plain": [
       "post_type\n",
       "1    128\n",
       "2     13\n",
       "Name: numbr_likes, dtype: int64"
      ]
     },
     "execution_count": 53,
     "metadata": {},
     "output_type": "execute_result"
    }
   ],
   "source": [
    "top10_posts.groupby(['profile_id','post_type'])[\"numbr_likes\"].count()\n",
    "ptype=top10_posts.groupby(['post_type'])[\"numbr_likes\"].count()\n",
    "ptype"
   ]
  },
  {
   "cell_type": "markdown",
   "id": "80d86f35",
   "metadata": {},
   "source": [
    "<b>5.4.2</b> Provide the number as percentages and interpret those figures."
   ]
  },
  {
   "cell_type": "code",
   "execution_count": 54,
   "id": "e79d4526",
   "metadata": {},
   "outputs": [
    {
     "data": {
      "image/png": "[encoded data removed]",
      "text/plain": [
       "<Figure size 432x288 with 1 Axes>"
      ]
     },
     "metadata": {},
     "output_type": "display_data"
    }
   ],
   "source": [
    "pic=128/141\n",
    "reel=13/141\n",
    "pic*100,reel*100\n",
    "\n",
    "labels = 'pics', 'reels'\n",
    "sizes = [128,13]\n",
    "explode = (0, 0.1)  # only \"explode\" the 2nd slice\n",
    "\n",
    "fig1, ax1 = plt.subplots()\n",
    "ax1.pie(sizes, explode=explode, labels=labels, autopct='%1.1f%%',shadow=True, startangle=90)\n",
    "ax1.axis('equal')  # Equal aspect ratio ensures that pie is drawn as a circle.\n",
    "plt.show()"
   ]
  },
  {
   "cell_type": "markdown",
   "id": "bd89064f",
   "metadata": {},
   "source": [
    "* After observing the plot, we can say that pictures-only posts are the vast majority of the total, being <b>90.8%</b>, and reels appear approximately once every 10 posts (<b>9.2%)"
   ]
  },
  {
   "cell_type": "markdown",
   "id": "e124fdb0",
   "metadata": {},
   "source": [
    "<b>5.5</b> How many \"likes\" and comments did posts with only pictures receive? How about videos and mixed posts? Try to provide the average numbers and confront them with their followers amount, explaining what you can say from that comparison."
   ]
  },
  {
   "cell_type": "markdown",
   "id": "3fea3328",
   "metadata": {},
   "source": [
    "* We start by analizing the posts made by the top 10 most influencial users.\n",
    "* When they post a picture, they get on average 541294 likes and 3883 comments, while when they post reels <b>they get on average 266.524.1 likes and 2.019.8 comments</b>.\n",
    "Since we don't have data regarding their mixed posts, we can't say what is the average number of likes and comments for those types of posts."
   ]
  },
  {
   "cell_type": "code",
   "execution_count": 57,
   "id": "f0b07090",
   "metadata": {},
   "outputs": [
    {
     "data": {
      "text/plain": [
       "post_type\n",
       "1    541294.015625\n",
       "2    266524.153846\n",
       "Name: numbr_likes, dtype: float64"
      ]
     },
     "execution_count": 57,
     "metadata": {},
     "output_type": "execute_result"
    }
   ],
   "source": [
    "top10_posts.groupby(['post_type'])[\"numbr_likes\"].mean()"
   ]
  },
  {
   "cell_type": "code",
   "execution_count": 56,
   "id": "984789e4",
   "metadata": {},
   "outputs": [
    {
     "data": {
      "text/plain": [
       "post_type\n",
       "1    3882.914062\n",
       "2    2019.846154\n",
       "Name: number_comments, dtype: float64"
      ]
     },
     "execution_count": 56,
     "metadata": {},
     "output_type": "execute_result"
    }
   ],
   "source": [
    "top10_posts.groupby(['post_type'])[\"number_comments\"].mean()"
   ]
  },
  {
   "cell_type": "markdown",
   "id": "9531481a",
   "metadata": {},
   "source": [
    "* On the other hand, if we analize all the users, with any number of followers, we obviously get smaller outputs for average likes and comments. \n",
    "* The average number of likes <b>for a picture-only post</b>, considering all the posts we can analize, is <b>280.6, while for comments is 390.8 </b>.\n",
    "* <b>For reels, the average likes and comments are 390.8 and 11.2 respectively</b>.\n",
    "* We can now dispose also of <b>the mixed posts data</b>, and we observe that they receive <b>an average of 194.7 likes and 6.7 comments</b>.\n",
    "* The biggest difference between the most influential users and all the users, is that they receive more likes and comments on average on only_pictures post, while regular users receive more likes and comments on average on the reels."
   ]
  },
  {
   "cell_type": "code",
   "execution_count": 59,
   "id": "ac9d3049",
   "metadata": {},
   "outputs": [
    {
     "data": {
      "text/plain": [
       "post_type\n",
       "1    280.659566\n",
       "2    390.781299\n",
       "3    194.758812\n",
       "Name: numbr_likes, dtype: float64"
      ]
     },
     "execution_count": 59,
     "metadata": {},
     "output_type": "execute_result"
    }
   ],
   "source": [
    "df_instagram_posts_RQ5.groupby(['post_type'])[\"numbr_likes\"].mean()"
   ]
  },
  {
   "cell_type": "code",
   "execution_count": 58,
   "id": "140142ee",
   "metadata": {},
   "outputs": [
    {
     "data": {
      "text/plain": [
       "post_type\n",
       "1     7.498260\n",
       "2    11.179689\n",
       "3     6.701434\n",
       "Name: number_comments, dtype: float64"
      ]
     },
     "execution_count": 58,
     "metadata": {},
     "output_type": "execute_result"
    }
   ],
   "source": [
    "df_instagram_posts_RQ5.groupby(['post_type'])[\"number_comments\"].mean()"
   ]
  },
  {
   "cell_type": "markdown",
   "id": "2ed0ad30",
   "metadata": {},
   "source": [
    "### <b>[RQ7]</b> Of course, calculating probabilities is a job that any Data Scientist must know. So let's compute some engaging figures."
   ]
  },
  {
   "cell_type": "markdown",
   "id": "7eb636aa",
   "metadata": {},
   "source": [
    "<b>7.1</b> What's the probability that a post receives more than 20% \"likes\" of the number of followers a user has?"
   ]
  },
  {
   "cell_type": "markdown",
   "id": "c87d3ec3",
   "metadata": {},
   "source": [
    "* We create two datasets from the starting ones, one containing the profile ids and number of likes of each post\n",
    "and the second one (\"folid\") containing the profile ids and number of followers of each profile.\n",
    "* We delete the lines that have missing values in followers and number of likes "
   ]
  },
  {
   "cell_type": "code",
   "execution_count": 6,
   "id": "e280a708",
   "metadata": {},
   "outputs": [],
   "source": [
    "# posts dataset\n",
    "fields=['profile_id','numbr_likes']\n",
    "df_instagram_posts_RQ7=pd.read_csv('~/instagram_posts.csv',sep='\\t',usecols=fields)\n",
    "df_instagram_posts_RQ7.dropna(subset=['numbr_likes'], inplace=True)"
   ]
  },
  {
   "cell_type": "code",
   "execution_count": 12,
   "id": "711d62fa",
   "metadata": {},
   "outputs": [],
   "source": [
    "df_instagram_profiles_RQ7=df_instagram_profiles_RQ5.copy()\n",
    "folid=df_instagram_profiles_RQ7[['followers','profile_id']]\n",
    "folid.dropna(subset=['followers'], inplace=True)"
   ]
  },
  {
   "cell_type": "markdown",
   "id": "6832e1b4",
   "metadata": {},
   "source": [
    "* We extract those profile_id that are present in both posts dataset and profiles dataset:"
   ]
  },
  {
   "cell_type": "code",
   "execution_count": 42,
   "id": "ae9ebdfa",
   "metadata": {},
   "outputs": [],
   "source": [
    "dp = df_instagram_profiles_RQ7[df_instagram_profiles_RQ7.profile_id.isin(dpost.profile_id.unique())] #2,207.207\n",
    "df_instagram_posts_RQ7 = df_instagram_posts_RQ7[df_instagram_posts_RQ7.profile_id.isin(dp.profile_id)] #27,715.738 rows\n",
    "df_instagram_posts_RQ7 = df_instagram_posts_RQ7.dropna() #25,132.446 rows"
   ]
  },
  {
   "cell_type": "markdown",
   "id": "3e867bcb",
   "metadata": {},
   "source": [
    "* We create a single dataset containing all profiles id with number of likes and followers:"
   ]
  },
  {
   "cell_type": "code",
   "execution_count": 28,
   "id": "3b3debad",
   "metadata": {},
   "outputs": [],
   "source": [
    "followers_likes_RQ7=pd.merge(dpost,folid, on='profile_id') #24,708.644 rows"
   ]
  },
  {
   "cell_type": "markdown",
   "id": "b3fcf8d7",
   "metadata": {},
   "source": [
    "* Now, through a \"mask\" we extract only those values that satisfy our condition, that the number of likes of a post are more than 20% of the profile's follower number:"
   ]
  },
  {
   "cell_type": "code",
   "execution_count": 35,
   "id": "3620ca41",
   "metadata": {},
   "outputs": [
    {
     "data": {
      "text/html": [
       "<div>\n",
       "<style scoped>\n",
       "    .dataframe tbody tr th:only-of-type {\n",
       "        vertical-align: middle;\n",
       "    }\n",
       "\n",
       "    .dataframe tbody tr th {\n",
       "        vertical-align: top;\n",
       "    }\n",
       "\n",
       "    .dataframe thead th {\n",
       "        text-align: right;\n",
       "    }\n",
       "</style>\n",
       "<table border=\"1\" class=\"dataframe\">\n",
       "  <thead>\n",
       "    <tr style=\"text-align: right;\">\n",
       "      <th></th>\n",
       "      <th>profile_id</th>\n",
       "      <th>numbr_likes</th>\n",
       "      <th>followers</th>\n",
       "    </tr>\n",
       "  </thead>\n",
       "  <tbody>\n",
       "    <tr>\n",
       "      <th>24</th>\n",
       "      <td>2.237948e+09</td>\n",
       "      <td>253.0</td>\n",
       "      <td>1204.0</td>\n",
       "    </tr>\n",
       "    <tr>\n",
       "      <th>54</th>\n",
       "      <td>6.027751e+09</td>\n",
       "      <td>46.0</td>\n",
       "      <td>164.0</td>\n",
       "    </tr>\n",
       "    <tr>\n",
       "      <th>55</th>\n",
       "      <td>6.027751e+09</td>\n",
       "      <td>33.0</td>\n",
       "      <td>164.0</td>\n",
       "    </tr>\n",
       "    <tr>\n",
       "      <th>56</th>\n",
       "      <td>6.027751e+09</td>\n",
       "      <td>33.0</td>\n",
       "      <td>164.0</td>\n",
       "    </tr>\n",
       "    <tr>\n",
       "      <th>57</th>\n",
       "      <td>6.027751e+09</td>\n",
       "      <td>51.0</td>\n",
       "      <td>164.0</td>\n",
       "    </tr>\n",
       "    <tr>\n",
       "      <th>...</th>\n",
       "      <td>...</td>\n",
       "      <td>...</td>\n",
       "      <td>...</td>\n",
       "    </tr>\n",
       "    <tr>\n",
       "      <th>24708503</th>\n",
       "      <td>2.297958e+09</td>\n",
       "      <td>407.0</td>\n",
       "      <td>1068.0</td>\n",
       "    </tr>\n",
       "    <tr>\n",
       "      <th>24708518</th>\n",
       "      <td>5.562025e+09</td>\n",
       "      <td>21.0</td>\n",
       "      <td>96.0</td>\n",
       "    </tr>\n",
       "    <tr>\n",
       "      <th>24708522</th>\n",
       "      <td>1.171138e+10</td>\n",
       "      <td>2103.0</td>\n",
       "      <td>13.0</td>\n",
       "    </tr>\n",
       "    <tr>\n",
       "      <th>24708628</th>\n",
       "      <td>3.723950e+09</td>\n",
       "      <td>117.0</td>\n",
       "      <td>377.0</td>\n",
       "    </tr>\n",
       "    <tr>\n",
       "      <th>24708634</th>\n",
       "      <td>3.602873e+08</td>\n",
       "      <td>76.0</td>\n",
       "      <td>252.0</td>\n",
       "    </tr>\n",
       "  </tbody>\n",
       "</table>\n",
       "<p>3883291 rows × 3 columns</p>\n",
       "</div>"
      ],
      "text/plain": [
       "            profile_id  numbr_likes  followers\n",
       "24        2.237948e+09        253.0     1204.0\n",
       "54        6.027751e+09         46.0      164.0\n",
       "55        6.027751e+09         33.0      164.0\n",
       "56        6.027751e+09         33.0      164.0\n",
       "57        6.027751e+09         51.0      164.0\n",
       "...                ...          ...        ...\n",
       "24708503  2.297958e+09        407.0     1068.0\n",
       "24708518  5.562025e+09         21.0       96.0\n",
       "24708522  1.171138e+10       2103.0       13.0\n",
       "24708628  3.723950e+09        117.0      377.0\n",
       "24708634  3.602873e+08         76.0      252.0\n",
       "\n",
       "[3883291 rows x 3 columns]"
      ]
     },
     "execution_count": 35,
     "metadata": {},
     "output_type": "execute_result"
    }
   ],
   "source": [
    "best_followers_likes_RQ7=followers_likes_RQ7[followers_likes_RQ7.numbr_likes>(followers_likes_RQ7.followers/5)]\n",
    "best_followers_likes_RQ7 #3,883.291 rows"
   ]
  },
  {
   "cell_type": "code",
   "execution_count": 32,
   "id": "471da054",
   "metadata": {},
   "outputs": [
    {
     "data": {
      "text/plain": [
       "0.15716325833178058"
      ]
     },
     "execution_count": 32,
     "metadata": {},
     "output_type": "execute_result"
    }
   ],
   "source": [
    "len(best_followers_likes_RQ7)/len(followers_likes_RQ7)"
   ]
  },
  {
   "cell_type": "markdown",
   "id": "7389df11",
   "metadata": {},
   "source": [
    "* After dividing the number of posts that satisfies our condition to the total number of posts considered, <b>we obtain a probability of 15.7%</b> that a post receives more than 20% \"likes\" of the number of followers a user has"
   ]
  },
  {
   "cell_type": "markdown",
   "id": "03e3c5e4",
   "metadata": {},
   "source": [
    "<b>7.2</b> Do users usually return to locations? Extract the probability that a user returns to a site after having posted it in the past. Does that probability make sense to you? Explain why or why not."
   ]
  },
  {
   "cell_type": "markdown",
   "id": "5dbec7de",
   "metadata": {},
   "source": [
    "* We start by grouping by the post dataset by each profile_id and then by location_id, obtaining how many times each user had been to each location."
   ]
  },
  {
   "cell_type": "code",
   "execution_count": 40,
   "id": "e459f7a8",
   "metadata": {},
   "outputs": [
    {
     "data": {
      "text/plain": [
       "profile_id    location_id \n",
       "3.000000e+00  1.000000e+01    1\n",
       "              5.400000e+01    1\n",
       "              8.030000e+02    1\n",
       "              1.526200e+04    1\n",
       "              2.705200e+04    1\n",
       "                             ..\n",
       "9.001013e+13  6.631216e+14    1\n",
       "              2.075964e+14    1\n",
       "              1.855425e+14    2\n",
       "              2.418404e+08    1\n",
       "9.001014e+13  1.077310e+06    1\n",
       "Name: location_id, Length: 21096135, dtype: int64"
      ]
     },
     "execution_count": 40,
     "metadata": {},
     "output_type": "execute_result"
    }
   ],
   "source": [
    "pl=dpost.groupby(['profile_id','location_id'])['location_id'].count()\n",
    "pl"
   ]
  },
  {
   "cell_type": "markdown",
   "id": "7a54d10f",
   "metadata": {},
   "source": [
    "* We count then how many times users have been only once to a location;"
   ]
  },
  {
   "cell_type": "code",
   "execution_count": 41,
   "id": "472bb783",
   "metadata": {},
   "outputs": [
    {
     "data": {
      "text/plain": [
       "1      18134031\n",
       "2       1662813\n",
       "3        538694\n",
       "4        237039\n",
       "5        136753\n",
       "         ...   \n",
       "125           1\n",
       "214           1\n",
       "72            1\n",
       "270           1\n",
       "124           1\n",
       "Name: location_id, Length: 106, dtype: int64"
      ]
     },
     "execution_count": 41,
     "metadata": {},
     "output_type": "execute_result"
    }
   ],
   "source": [
    "pl.value_counts()"
   ]
  },
  {
   "cell_type": "markdown",
   "id": "4f246484",
   "metadata": {},
   "source": [
    "The output above shows how many times users visited a location 1,2,3.. ecc. times"
   ]
  },
  {
   "cell_type": "markdown",
   "id": "8e5a35b5",
   "metadata": {},
   "source": [
    "* By dividing the places visited only once bt each single user by the total number of locations visited we obtain the probability that a user visits once a location, and subtracting that probability from 1 we obtain the final probability of <b>14%</b> that a user returns to a site after having posted it in the past. "
   ]
  },
  {
   "cell_type": "code",
   "execution_count": 23,
   "id": "c09b5823",
   "metadata": {},
   "outputs": [
    {
     "data": {
      "text/plain": [
       "0.1404097954435729"
      ]
     },
     "execution_count": 23,
     "metadata": {},
     "output_type": "execute_result"
    }
   ],
   "source": [
    "1-18134031/21096135"
   ]
  },
  {
   "cell_type": "markdown",
   "id": "4cf254fb",
   "metadata": {},
   "source": [
    "* From our point of view, this is a probability that makes sense, because we assume that users want to have profiles <b>rich of different contents</b>, to give other people the idea of having an interesting lifestyle, according to the tendency that people have on social media of \"showing-off\". That's a possible hypothesis, in our opinion, about <b>why only 14% of the times people post again in the same location."
   ]
  },
  {
   "cell_type": "markdown",
   "id": "4d7a3151",
   "metadata": {},
   "source": [
    "#### <b>[RQ8]</b>Every decision you take in a data-based environment should be reinforced with charts, statistical tests and analysis methods to check whether a hypothesis is correct or not."
   ]
  },
  {
   "cell_type": "code",
   "execution_count": null,
   "id": "51d9c48b",
   "metadata": {},
   "outputs": [],
   "source": []
  },
  {
   "cell_type": "markdown",
   "id": "5d65bd57",
   "metadata": {},
   "source": [
    "<b>8.3</b> What’s the distribution of followers? Plot the empirical distribution of followers amongst all users and extract the mean, mode, and quantiles. Interpret those figures."
   ]
  },
  {
   "cell_type": "markdown",
   "id": "5ecf6935",
   "metadata": {},
   "source": [
    "* We start by plotting the empirical distribution of the followers; we immediatly notice that the distribution is asymmetrical to the right and it resembles an exponential distribution"
   ]
  },
  {
   "cell_type": "code",
   "execution_count": 32,
   "id": "732ac7f3",
   "metadata": {},
   "outputs": [
    {
     "data": {
      "text/plain": [
       "Text(0.5, 1.0, 'count of followers')"
      ]
     },
     "execution_count": 32,
     "metadata": {},
     "output_type": "execute_result"
    },
    {
     "data": {
      "image/png": "[encoded data removed]",
      "text/plain": [
       "<Figure size 432x288 with 1 Axes>"
      ]
     },
     "metadata": {
      "needs_background": "light"
     },
     "output_type": "display_data"
    }
   ],
   "source": [
    "followers.plot(kind='hist',bins=30,logy=True)\n",
    "plt.xlabel('followers',labelpad=15)\n",
    "plt.ylabel('count',labelpad=15)\n",
    "plt.title('count of followers')"
   ]
  },
  {
   "cell_type": "markdown",
   "id": "2503a0a2",
   "metadata": {},
   "source": [
    "* We continue the analysis with a summary of the main characteristics of the distribution. From the table below we can observe that the mean of the followers distribution is 4739.899180, a value that is way closer to the minimun of the distribution (0), than the maximum (285457645), and it's way bigger than the median of the distribution which equals to 406: this indicates as well that the distribution is asymmetrial and that there might be are some big outliers that influence the value of the mean. The first quantile is equal to 159 and the third equals 974, having an inter-quantile range of 815. From the boxplot below we can easily notice the maximum, being a huge outlier. "
   ]
  },
  {
   "cell_type": "code",
   "execution_count": 34,
   "id": "1c4aad69",
   "metadata": {},
   "outputs": [
    {
     "data": {
      "text/plain": [
       "<AxesSubplot:>"
      ]
     },
     "execution_count": 34,
     "metadata": {},
     "output_type": "execute_result"
    },
    {
     "data": {
      "image/png": "[encoded data removed]",
      "text/plain": [
       "<Figure size 432x288 with 1 Axes>"
      ]
     },
     "metadata": {
      "needs_background": "light"
     },
     "output_type": "display_data"
    }
   ],
   "source": [
    "followers.plot(kind='box')"
   ]
  },
  {
   "cell_type": "code",
   "execution_count": 10,
   "id": "951692d3",
   "metadata": {},
   "outputs": [
    {
     "data": {
      "text/plain": [
       "count      3452771.000000\n",
       "mean          4739.899180\n",
       "std         193908.709487\n",
       "min              0.000000\n",
       "25%            159.000000\n",
       "50%            406.000000\n",
       "75%            974.000000\n",
       "max      285457645.000000\n",
       "Name: followers, dtype: object"
      ]
     },
     "execution_count": 10,
     "metadata": {},
     "output_type": "execute_result"
    }
   ],
   "source": [
    "followers.describe().apply(lambda x: format(x, 'f'))"
   ]
  },
  {
   "cell_type": "markdown",
   "id": "35618cbb",
   "metadata": {},
   "source": [
    "<b>8.4</b> What are histograms, bar plots, scatterplots and pie charts used for?"
   ]
  },
  {
   "cell_type": "markdown",
   "id": "1d254d65",
   "metadata": {},
   "source": [
    "* An histogram is a graphical representation of a distribution of continuos numerical datas divided in classes, named bins, that can be of different dimentions. It's used to have a graphic representation of the frequency of each class compared to the others.\n",
    "* The barplot, differently from the histogram, is used to plot cathegorical vriables, and it's used to visualize and compare the frequency of the analyzed phenomenon.\n",
    "* The scatterplot is a plot that uses cartesian coordinates and it is used to visualize the value of two variables for a set of data. Each value is represented as a dot.\n",
    "* The pie chart is a graph used to describe numerical proportion of a variable, similarly to the barplot but with a circular form."
   ]
  },
  {
   "cell_type": "markdown",
   "id": "49393c4f",
   "metadata": {},
   "source": [
    "<b>8.5</b> What insights can you extract from a Box Plot?"
   ]
  },
  {
   "cell_type": "markdown",
   "id": "c5fd12bd",
   "metadata": {},
   "source": [
    "* The box plot is a graph that is used to show the quartiles, max, min, the range, the inter-quantile range, the skeweness and spread of numerical datas. It is also useful to locate outliers that are plotted as dots."
   ]
  }
 ],
 "metadata": {
  "kernelspec": {
   "display_name": "Python 3",
   "language": "python",
   "name": "python3"
  },
  "language_info": {
   "codemirror_mode": {
    "name": "ipython",
    "version": 3
   },
   "file_extension": ".py",
   "mimetype": "text/x-python",
   "name": "python",
   "nbconvert_exporter": "python",
   "pygments_lexer": "ipython3",
   "version": "3.8.8"
  }
 },
 "nbformat": 4,
 "nbformat_minor": 5
}
