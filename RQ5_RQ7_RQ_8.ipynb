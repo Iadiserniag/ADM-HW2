{
 "cells": [
 
  {
   "cell_type": "markdown",
   "id": "2ed0ad30",
   "metadata": {},
   "source": [
    "### <b>[RQ7]</b> Of course, calculating probabilities is a job that any Data Scientist must know. So let's compute some engaging figures."
   ]
  },
  {
   "cell_type": "markdown",
   "id": "7eb636aa",
   "metadata": {},
   "source": [
    "<b>7.1</b> What's the probability that a post receives more than 20% \"likes\" of the number of followers a user has?"
   ]
  },
  {
   "cell_type": "markdown",
   "id": "c87d3ec3",
   "metadata": {},
   "source": [
    "* We create two datasets from the starting ones, one containing the profile ids and number of likes of each post\n",
    "and the second one (\"folid\") containing the profile ids and number of followers of each profile.\n",
    "* We delete the lines that have missing values in followers and number of likes "
   ]
  },
  {
   "cell_type": "code",
   "execution_count": 6,
   "id": "e280a708",
   "metadata": {},
   "outputs": [],
   "source": [
    "# posts dataset\n",
    "fields=['profile_id','numbr_likes']\n",
    "df_instagram_posts_RQ7=pd.read_csv('~/instagram_posts.csv',sep='\\t',usecols=fields)\n",
    "df_instagram_posts_RQ7.dropna(subset=['numbr_likes'], inplace=True)"
   ]
  },
  {
   "cell_type": "code",
   "execution_count": 12,
   "id": "711d62fa",
   "metadata": {},
   "outputs": [],
   "source": [
    "df_instagram_profiles_RQ7=df_instagram_profiles_RQ5.copy()\n",
    "folid=df_instagram_profiles_RQ7[['followers','profile_id']]\n",
    "folid.dropna(subset=['followers'], inplace=True)"
   ]
  },
  {
   "cell_type": "markdown",
   "id": "6832e1b4",
   "metadata": {},
   "source": [
    "* We extract those profile_id that are present in both posts dataset and profiles dataset:"
   ]
  },
  {
   "cell_type": "code",
   "execution_count": 42,
   "id": "ae9ebdfa",
   "metadata": {},
   "outputs": [],
   "source": [
    "dp = df_instagram_profiles_RQ7[df_instagram_profiles_RQ7.profile_id.isin(dpost.profile_id.unique())] #2,207.207\n",
    "df_instagram_posts_RQ7 = df_instagram_posts_RQ7[df_instagram_posts_RQ7.profile_id.isin(dp.profile_id)] #27,715.738 rows\n",
    "df_instagram_posts_RQ7 = df_instagram_posts_RQ7.dropna() #25,132.446 rows"
   ]
  },
  {
   "cell_type": "markdown",
   "id": "3e867bcb",
   "metadata": {},
   "source": [
    "* We create a single dataset containing all profiles id with number of likes and followers:"
   ]
  },
  {
   "cell_type": "code",
   "execution_count": 28,
   "id": "3b3debad",
   "metadata": {},
   "outputs": [],
   "source": [
    "followers_likes_RQ7=pd.merge(dpost,folid, on='profile_id') #24,708.644 rows"
   ]
  },
  {
   "cell_type": "markdown",
   "id": "b3fcf8d7",
   "metadata": {},
   "source": [
    "* Now, through a \"mask\" we extract only those values that satisfy our condition, that the number of likes of a post are more than 20% of the profile's follower number:"
   ]
  },
  {
   "cell_type": "code",
   "execution_count": 35,
   "id": "3620ca41",
   "metadata": {},
   "outputs": [
    {
     "data": {
      "text/html": [
       "<div>\n",
       "<style scoped>\n",
       "    .dataframe tbody tr th:only-of-type {\n",
       "        vertical-align: middle;\n",
       "    }\n",
       "\n",
       "    .dataframe tbody tr th {\n",
       "        vertical-align: top;\n",
       "    }\n",
       "\n",
       "    .dataframe thead th {\n",
       "        text-align: right;\n",
       "    }\n",
       "</style>\n",
       "<table border=\"1\" class=\"dataframe\">\n",
       "  <thead>\n",
       "    <tr style=\"text-align: right;\">\n",
       "      <th></th>\n",
       "      <th>profile_id</th>\n",
       "      <th>numbr_likes</th>\n",
       "      <th>followers</th>\n",
       "    </tr>\n",
       "  </thead>\n",
       "  <tbody>\n",
       "    <tr>\n",
       "      <th>24</th>\n",
       "      <td>2.237948e+09</td>\n",
       "      <td>253.0</td>\n",
       "      <td>1204.0</td>\n",
       "    </tr>\n",
       "    <tr>\n",
       "      <th>54</th>\n",
       "      <td>6.027751e+09</td>\n",
       "      <td>46.0</td>\n",
       "      <td>164.0</td>\n",
       "    </tr>\n",
       "    <tr>\n",
       "      <th>55</th>\n",
       "      <td>6.027751e+09</td>\n",
       "      <td>33.0</td>\n",
       "      <td>164.0</td>\n",
       "    </tr>\n",
       "    <tr>\n",
       "      <th>56</th>\n",
       "      <td>6.027751e+09</td>\n",
       "      <td>33.0</td>\n",
       "      <td>164.0</td>\n",
       "    </tr>\n",
       "    <tr>\n",
       "      <th>57</th>\n",
       "      <td>6.027751e+09</td>\n",
       "      <td>51.0</td>\n",
       "      <td>164.0</td>\n",
       "    </tr>\n",
       "    <tr>\n",
       "      <th>...</th>\n",
       "      <td>...</td>\n",
       "      <td>...</td>\n",
       "      <td>...</td>\n",
       "    </tr>\n",
       "    <tr>\n",
       "      <th>24708503</th>\n",
       "      <td>2.297958e+09</td>\n",
       "      <td>407.0</td>\n",
       "      <td>1068.0</td>\n",
       "    </tr>\n",
       "    <tr>\n",
       "      <th>24708518</th>\n",
       "      <td>5.562025e+09</td>\n",
       "      <td>21.0</td>\n",
       "      <td>96.0</td>\n",
       "    </tr>\n",
       "    <tr>\n",
       "      <th>24708522</th>\n",
       "      <td>1.171138e+10</td>\n",
       "      <td>2103.0</td>\n",
       "      <td>13.0</td>\n",
       "    </tr>\n",
       "    <tr>\n",
       "      <th>24708628</th>\n",
       "      <td>3.723950e+09</td>\n",
       "      <td>117.0</td>\n",
       "      <td>377.0</td>\n",
       "    </tr>\n",
       "    <tr>\n",
       "      <th>24708634</th>\n",
       "      <td>3.602873e+08</td>\n",
       "      <td>76.0</td>\n",
       "      <td>252.0</td>\n",
       "    </tr>\n",
       "  </tbody>\n",
       "</table>\n",
       "<p>3883291 rows × 3 columns</p>\n",
       "</div>"
      ],
      "text/plain": [
       "            profile_id  numbr_likes  followers\n",
       "24        2.237948e+09        253.0     1204.0\n",
       "54        6.027751e+09         46.0      164.0\n",
       "55        6.027751e+09         33.0      164.0\n",
       "56        6.027751e+09         33.0      164.0\n",
       "57        6.027751e+09         51.0      164.0\n",
       "...                ...          ...        ...\n",
       "24708503  2.297958e+09        407.0     1068.0\n",
       "24708518  5.562025e+09         21.0       96.0\n",
       "24708522  1.171138e+10       2103.0       13.0\n",
       "24708628  3.723950e+09        117.0      377.0\n",
       "24708634  3.602873e+08         76.0      252.0\n",
       "\n",
       "[3883291 rows x 3 columns]"
      ]
     },
     "execution_count": 35,
     "metadata": {},
     "output_type": "execute_result"
    }
   ],
   "source": [
    "best_followers_likes_RQ7=followers_likes_RQ7[followers_likes_RQ7.numbr_likes>(followers_likes_RQ7.followers/5)]\n",
    "best_followers_likes_RQ7 #3,883.291 rows"
   ]
  },
  {
   "cell_type": "code",
   "execution_count": 32,
   "id": "471da054",
   "metadata": {},
   "outputs": [
    {
     "data": {
      "text/plain": [
       "0.15716325833178058"
      ]
     },
     "execution_count": 32,
     "metadata": {},
     "output_type": "execute_result"
    }
   ],
   "source": [
    "len(best_followers_likes_RQ7)/len(followers_likes_RQ7)"
   ]
  },
  {
   "cell_type": "markdown",
   "id": "7389df11",
   "metadata": {},
   "source": [
    "* After dividing the number of posts that satisfies our condition to the total number of posts considered, <b>we obtain a probability of 15.7%</b> that a post receives more than 20% \"likes\" of the number of followers a user has"
   ]
  },
  {
   "cell_type": "markdown",
   "id": "03e3c5e4",
   "metadata": {},
   "source": [
    "<b>7.2</b> Do users usually return to locations? Extract the probability that a user returns to a site after having posted it in the past. Does that probability make sense to you? Explain why or why not."
   ]
  },
  {
   "cell_type": "markdown",
   "id": "5dbec7de",
   "metadata": {},
   "source": [
    "* We start by grouping by the post dataset by each profile_id and then by location_id, obtaining how many times each user had been to each location."
   ]
  },
  {
   "cell_type": "code",
   "execution_count": 40,
   "id": "e459f7a8",
   "metadata": {},
   "outputs": [
    {
     "data": {
      "text/plain": [
       "profile_id    location_id \n",
       "3.000000e+00  1.000000e+01    1\n",
       "              5.400000e+01    1\n",
       "              8.030000e+02    1\n",
       "              1.526200e+04    1\n",
       "              2.705200e+04    1\n",
       "                             ..\n",
       "9.001013e+13  6.631216e+14    1\n",
       "              2.075964e+14    1\n",
       "              1.855425e+14    2\n",
       "              2.418404e+08    1\n",
       "9.001014e+13  1.077310e+06    1\n",
       "Name: location_id, Length: 21096135, dtype: int64"
      ]
     },
     "execution_count": 40,
     "metadata": {},
     "output_type": "execute_result"
    }
   ],
   "source": [
    "pl=dpost.groupby(['profile_id','location_id'])['location_id'].count()\n",
    "pl"
   ]
  },
  {
   "cell_type": "markdown",
   "id": "7a54d10f",
   "metadata": {},
   "source": [
    "* We count then how many times users have been only once to a location;"
   ]
  },
  {
   "cell_type": "code",
   "execution_count": 41,
   "id": "472bb783",
   "metadata": {},
   "outputs": [
    {
     "data": {
      "text/plain": [
       "1      18134031\n",
       "2       1662813\n",
       "3        538694\n",
       "4        237039\n",
       "5        136753\n",
       "         ...   \n",
       "125           1\n",
       "214           1\n",
       "72            1\n",
       "270           1\n",
       "124           1\n",
       "Name: location_id, Length: 106, dtype: int64"
      ]
     },
     "execution_count": 41,
     "metadata": {},
     "output_type": "execute_result"
    }
   ],
   "source": [
    "pl.value_counts()"
   ]
  },
  {
   "cell_type": "markdown",
   "id": "4f246484",
   "metadata": {},
   "source": [
    "The output above shows how many times users visited a location 1,2,3.. ecc. times"
   ]
  },
  {
   "cell_type": "markdown",
   "id": "8e5a35b5",
   "metadata": {},
   "source": [
    "* By dividing the places visited only once bt each single user by the total number of locations visited we obtain the probability that a user visits once a location, and subtracting that probability from 1 we obtain the final probability of <b>14%</b> that a user returns to a site after having posted it in the past. "
   ]
  },
  {
   "cell_type": "code",
   "execution_count": 23,
   "id": "c09b5823",
   "metadata": {},
   "outputs": [
    {
     "data": {
      "text/plain": [
       "0.1404097954435729"
      ]
     },
     "execution_count": 23,
     "metadata": {},
     "output_type": "execute_result"
    }
   ],
   "source": [
    "1-18134031/21096135"
   ]
  },
  {
   "cell_type": "markdown",
   "id": "4cf254fb",
   "metadata": {},
   "source": [
    "* From our point of view, this is a probability that makes sense, because we assume that users want to have profiles <b>rich of different contents</b>, to give other people the idea of having an interesting lifestyle, according to the tendency that people have on social media of \"showing-off\". That's a possible hypothesis, in our opinion, about <b>why only 14% of the times people post again in the same location."
   ]
  },
  {
   "cell_type": "markdown",
   "id": "4d7a3151",
   "metadata": {},
   "source": [
    "#### <b>[RQ8]</b>Every decision you take in a data-based environment should be reinforced with charts, statistical tests and analysis methods to check whether a hypothesis is correct or not."
   ]
  },
  {
   "cell_type": "code",
   "execution_count": null,
   "id": "51d9c48b",
   "metadata": {},
   "outputs": [],
   "source": []
  },
  {
   "cell_type": "markdown",
   "id": "5d65bd57",
   "metadata": {},
   "source": [
    "<b>8.3</b> What’s the distribution of followers? Plot the empirical distribution of followers amongst all users and extract the mean, mode, and quantiles. Interpret those figures."
   ]
  },
  {
   "cell_type": "markdown",
   "id": "5ecf6935",
   "metadata": {},
   "source": [
    "* We start by plotting the empirical distribution of the followers; we immediatly notice that the distribution is asymmetrical to the right and it resembles an exponential distribution"
   ]
  },
  {
   "cell_type": "code",
   "execution_count": 32,
   "id": "732ac7f3",
   "metadata": {},
   "outputs": [
    {
     "data": {
      "text/plain": [
       "Text(0.5, 1.0, 'count of followers')"
      ]
     },
     "execution_count": 32,
     "metadata": {},
     "output_type": "execute_result"
    },
    {
     "data": {
      "image/png": "[encoded data removed]",
      "text/plain": [
       "<Figure size 432x288 with 1 Axes>"
      ]
     },
     "metadata": {
      "needs_background": "light"
     },
     "output_type": "display_data"
    }
   ],
   "source": [
    "followers.plot(kind='hist',bins=30,logy=True)\n",
    "plt.xlabel('followers',labelpad=15)\n",
    "plt.ylabel('count',labelpad=15)\n",
    "plt.title('count of followers')"
   ]
  },
  {
   "cell_type": "markdown",
   "id": "2503a0a2",
   "metadata": {},
   "source": [
    "* We continue the analysis with a summary of the main characteristics of the distribution. From the table below we can observe that the mean of the followers distribution is 4739.899180, a value that is way closer to the minimun of the distribution (0), than the maximum (285457645), and it's way bigger than the median of the distribution which equals to 406: this indicates as well that the distribution is asymmetrial and that there might be are some big outliers that influence the value of the mean. The first quantile is equal to 159 and the third equals 974, having an inter-quantile range of 815. From the boxplot below we can easily notice the maximum, being a huge outlier. "
   ]
  },
  {
   "cell_type": "code",
   "execution_count": 34,
   "id": "1c4aad69",
   "metadata": {},
   "outputs": [
    {
     "data": {
      "text/plain": [
       "<AxesSubplot:>"
      ]
     },
     "execution_count": 34,
     "metadata": {},
     "output_type": "execute_result"
    },
    {
     "data": {
      "image/png": "[encoded data removed]",
      "text/plain": [
       "<Figure size 432x288 with 1 Axes>"
      ]
     },
     "metadata": {
      "needs_background": "light"
     },
     "output_type": "display_data"
    }
   ],
   "source": [
    "followers.plot(kind='box')"
   ]
  },
  {
   "cell_type": "code",
   "execution_count": 10,
   "id": "951692d3",
   "metadata": {},
   "outputs": [
    {
     "data": {
      "text/plain": [
       "count      3452771.000000\n",
       "mean          4739.899180\n",
       "std         193908.709487\n",
       "min              0.000000\n",
       "25%            159.000000\n",
       "50%            406.000000\n",
       "75%            974.000000\n",
       "max      285457645.000000\n",
       "Name: followers, dtype: object"
      ]
     },
     "execution_count": 10,
     "metadata": {},
     "output_type": "execute_result"
    }
   ],
   "source": [
    "followers.describe().apply(lambda x: format(x, 'f'))"
   ]
  },
  {
   "cell_type": "markdown",
   "id": "35618cbb",
   "metadata": {},
   "source": [
    "<b>8.4</b> What are histograms, bar plots, scatterplots and pie charts used for?"
   ]
  },
  {
   "cell_type": "markdown",
   "id": "1d254d65",
   "metadata": {},
   "source": [
    "* An histogram is a graphical representation of a distribution of continuos numerical datas divided in classes, named bins, that can be of different dimentions. It's used to have a graphic representation of the frequency of each class compared to the others.\n",
    "* The barplot, differently from the histogram, is used to plot cathegorical vriables, and it's used to visualize and compare the frequency of the analyzed phenomenon.\n",
    "* The scatterplot is a plot that uses cartesian coordinates and it is used to visualize the value of two variables for a set of data. Each value is represented as a dot.\n",
    "* The pie chart is a graph used to describe numerical proportion of a variable, similarly to the barplot but with a circular form."
   ]
  },
  {
   "cell_type": "markdown",
   "id": "49393c4f",
   "metadata": {},
   "source": [
    "<b>8.5</b> What insights can you extract from a Box Plot?"
   ]
  },
  {
   "cell_type": "markdown",
   "id": "c5fd12bd",
   "metadata": {},
   "source": [
    "* The box plot is a graph that is used to show the quartiles, max, min, the range, the inter-quantile range, the skeweness and spread of numerical datas. It is also useful to locate outliers that are plotted as dots."
   ]
  }
 ],
 "metadata": {
  "kernelspec": {
   "display_name": "Python 3",
   "language": "python",
   "name": "python3"
  },
  "language_info": {
   "codemirror_mode": {
    "name": "ipython",
    "version": 3
   },
   "file_extension": ".py",
   "mimetype": "text/x-python",
   "name": "python",
   "nbconvert_exporter": "python",
   "pygments_lexer": "ipython3",
   "version": "3.8.8"
  }
 },
 "nbformat": 4,
 "nbformat_minor": 5
}
