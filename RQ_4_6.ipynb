{
 "cells": [
  {
   "cell_type": "markdown",
   "id": "85d1c459-9e52-4e9e-a6a9-a852a08ec626",
   "metadata": {},
   "source": [
    "### <b>[RQ4]</b> In most cases, we will not have a consistent dataset, and the one we are dealing with is not an exception (ex. in the given datasets, you may not find the information of the profiles for some of the posts). So let’s enhance our analysis."
   ]
  },
  {
   "cell_type": "markdown",
   "id": "e08b3ada-60ed-467e-903d-da73d3d56b1f",
   "metadata": {},
   "source": [
    "<b>4.1</b> Write a function that, given a profile_id, will be able to return the posts that belong to the given profile_id."
   ]
  },
  {
   "cell_type": "code",
   "execution_count": 2,
   "id": "6e102b3a-4ec3-4d1e-b61a-9cb0abdac99a",
   "metadata": {},
   "outputs": [],
   "source": [
    "#Data upload (posts.csv: 42,710.197 rows)\n",
    "columns_posts = [\"post_id\",\"profile_id\", \"numbr_likes\", \"number_comments\", \"cts\"]\n",
    "df_posts_RQ4 = pd.read_csv(\"~/instagram_posts.csv\", sep = \"\\t\" , usecols = columns_posts , parse_dates=[\"cts\"])"
   ]
  },
  {
   "cell_type": "code",
   "execution_count": 3,
   "id": "ecab98d8-4441-4598-af03-290600284ec1",
   "metadata": {},
   "outputs": [],
   "source": [
    "#Data upload (profiles.csv: 4,509.586 rows)\n",
    "columns_profiles = [\"profile_id\",\"following\",\"followers\"]\n",
    "df_profiles_RQ4 = pd.read_csv(\"instagram_profiles.csv\", sep = \"\\t\" , usecols = columns_profiles)"
   ]
  },
  {
   "cell_type": "markdown",
   "id": "4794b3a5-ba55-4089-a300-8f23e3df0e6f",
   "metadata": {},
   "source": [
    "* Due to the multiple exercise requirements that involve combining differents datasets together, we are going to focus our analysis on those profile_id that are present in both posts.csv and profiles.csv. Also, we want to remove all rows containing NaNs:"
   ]
  },
  {
   "cell_type": "code",
   "execution_count": 5,
   "id": "5e6a87f0-f93a-4b2b-b0e7-9c23a13a0ea6",
   "metadata": {},
   "outputs": [],
   "source": [
    "df_profiles_RQ4 = df_profiles_RQ4[df_profiles_RQ4.profile_id.isin(df_posts_RQ4.profile_id.unique())] #2,207.207\n",
    "df_posts_RQ4 = df_posts_RQ4[df_posts_RQ4.profile_id.isin(df_profiles_RQ4.profile_id)] #27,715.738 rows\n",
    "df_posts_RQ4 = df_posts_RQ4.dropna() #25,132.446 rows"
   ]
  },
  {
   "cell_type": "markdown",
   "id": "56c538b5-2d8f-4863-988a-d4a8ce384b6f",
   "metadata": {},
   "source": [
    "* The created function takes as <b>input</b>: the queried profile_id , an array of profile_ids and an array of post_ids. <br> As an <b>output</b>, it returns: a list containing all posts_id of the queried profile_id:"
   ]
  },
  {
   "cell_type": "code",
   "execution_count": 9,
   "id": "ddb76d04-cf84-4a71-8af1-b5ad2bbe7de4",
   "metadata": {},
   "outputs": [],
   "source": [
    "def posts(query_id, profile_id = df_posts_RQ4.profile_id.values , post_id = df_posts_RQ4.post_id.values):\n",
    "    return post_id[profile_id == query_id]"
   ]
  },
  {
   "cell_type": "markdown",
   "id": "a741d5f8-9145-4548-ba64-cee3a5c573bf",
   "metadata": {},
   "source": [
    "<b>4.2</b> Write another function that, given an input n (an integer), will return the posts that belong to the n top posted profiles (top n profiles that have posted the highest number of posts) that their data is available in the profile.csv using the previously written function. <br>"
   ]
  },
  {
   "cell_type": "markdown",
   "id": "e756942a-3909-4ceb-9ab1-03a2f92a6939",
   "metadata": {},
   "source": [
    "* Before defining the function, we leverage <i>np.unique</i> method to create an array with <b>all unique profile_ids</b> that appear in <b>posts.csv</b> and another one containing their <b>frequency of appareance</b>. Then, we create a <b> sorted dataframe by posting frequency</b>."
   ]
  },
  {
   "cell_type": "code",
   "execution_count": 74,
   "id": "d960330e-c809-4594-a9cd-9f59dc0f22a3",
   "metadata": {},
   "outputs": [
    {
     "data": {
      "text/html": [
       "<div>\n",
       "<style scoped>\n",
       "    .dataframe tbody tr th:only-of-type {\n",
       "        vertical-align: middle;\n",
       "    }\n",
       "\n",
       "    .dataframe tbody tr th {\n",
       "        vertical-align: top;\n",
       "    }\n",
       "\n",
       "    .dataframe thead th {\n",
       "        text-align: right;\n",
       "    }\n",
       "</style>\n",
       "<table border=\"1\" class=\"dataframe\">\n",
       "  <thead>\n",
       "    <tr style=\"text-align: right;\">\n",
       "      <th></th>\n",
       "      <th>profile_id</th>\n",
       "      <th>number_of_posts</th>\n",
       "    </tr>\n",
       "  </thead>\n",
       "  <tbody>\n",
       "    <tr>\n",
       "      <th>1588423</th>\n",
       "      <td>5.421037e+09</td>\n",
       "      <td>599</td>\n",
       "    </tr>\n",
       "    <tr>\n",
       "      <th>2165315</th>\n",
       "      <td>1.287812e+10</td>\n",
       "      <td>586</td>\n",
       "    </tr>\n",
       "    <tr>\n",
       "      <th>2172742</th>\n",
       "      <td>1.347814e+10</td>\n",
       "      <td>557</td>\n",
       "    </tr>\n",
       "    <tr>\n",
       "      <th>2165889</th>\n",
       "      <td>1.296135e+10</td>\n",
       "      <td>526</td>\n",
       "    </tr>\n",
       "    <tr>\n",
       "      <th>1603569</th>\n",
       "      <td>5.515448e+09</td>\n",
       "      <td>450</td>\n",
       "    </tr>\n",
       "    <tr>\n",
       "      <th>1222351</th>\n",
       "      <td>2.243212e+09</td>\n",
       "      <td>450</td>\n",
       "    </tr>\n",
       "    <tr>\n",
       "      <th>1525258</th>\n",
       "      <td>4.575459e+09</td>\n",
       "      <td>384</td>\n",
       "    </tr>\n",
       "    <tr>\n",
       "      <th>74789</th>\n",
       "      <td>1.029414e+07</td>\n",
       "      <td>362</td>\n",
       "    </tr>\n",
       "    <tr>\n",
       "      <th>514565</th>\n",
       "      <td>2.682094e+08</td>\n",
       "      <td>357</td>\n",
       "    </tr>\n",
       "    <tr>\n",
       "      <th>160715</th>\n",
       "      <td>2.365051e+07</td>\n",
       "      <td>345</td>\n",
       "    </tr>\n",
       "  </tbody>\n",
       "</table>\n",
       "</div>"
      ],
      "text/plain": [
       "           profile_id  number_of_posts\n",
       "1588423  5.421037e+09              599\n",
       "2165315  1.287812e+10              586\n",
       "2172742  1.347814e+10              557\n",
       "2165889  1.296135e+10              526\n",
       "1603569  5.515448e+09              450\n",
       "1222351  2.243212e+09              450\n",
       "1525258  4.575459e+09              384\n",
       "74789    1.029414e+07              362\n",
       "514565   2.682094e+08              357\n",
       "160715   2.365051e+07              345"
      ]
     },
     "execution_count": 74,
     "metadata": {},
     "output_type": "execute_result"
    }
   ],
   "source": [
    "unique_ids ,number_of_posts = np.unique(df_posts_RQ4.profile_id.values, return_counts=True)\n",
    "post_per_profile = pd.DataFrame({'profile_id': unique_ids, 'number_of_posts': number_of_posts})\n",
    "sorted_posters = post_per_profile.sort_values(by = 'number_of_posts' , ascending = False)\n",
    "sorted_posters.head(10)"
   ]
  },
  {
   "cell_type": "markdown",
   "id": "83754954-f607-43f6-9316-2ae3f3d5ce86",
   "metadata": {},
   "source": [
    "* This function takes as an <b>input</b>: an integer <i>n</i> , which specifies the queried <b>top n most frequent posters</b>, and the <b>sorted array</b> of profile_ids <b>by their number of posts made</b>. It returns as an <b>output</b> a list of arrays containing the post_id of the top n more frequent posters (as we use the previously coded </i>posts()</i> function)."
   ]
  },
  {
   "cell_type": "code",
   "execution_count": 54,
   "id": "b5959a27-9b09-436b-a1f5-64cf74f8c4e9",
   "metadata": {},
   "outputs": [],
   "source": [
    "def top_n_post(n,data = sorted_posters.profile_id.values):\n",
    "    return [posts(i) for i in data[0:n]] "
   ]
  },
  {
   "cell_type": "markdown",
   "id": "d80f35a3-e643-43cc-86c7-3164b19434bb",
   "metadata": {},
   "source": [
    "<b>4.3</b> What is the average number of \"likes\" and comments of the top 10 profiles with the highest number of posts which their information is available in profile.csv?<br>"
   ]
  },
  {
   "cell_type": "markdown",
   "id": "75e4a7e4-69e3-4b38-9cfc-b3b49186e745",
   "metadata": {},
   "source": [
    "* We first create a new dataframe by merging the top 10 ids with their associated data in profiles.csv, but we remove <i>post_id</i> and <i>cts</i> columns as they are not needed now."
   ]
  },
  {
   "cell_type": "code",
   "execution_count": 39,
   "id": "f702b60a-f344-4963-9e8e-cf453f666ba3",
   "metadata": {},
   "outputs": [],
   "source": [
    "profile_ids_likes_comments = pd.merge(sorted_posters[[\"profile_id\"]].head(10), df_posts_RQ4df_posts_RQ4, on= 'profile_id')\n",
    "profile_ids_likes_comments.drop(['post_id', 'cts'], axis=1 , inplace = True)"
   ]
  },
  {
   "cell_type": "markdown",
   "id": "404b091e-3cc6-4928-811a-0c13623dc0e5",
   "metadata": {},
   "source": [
    "* Then, we group this new dataframe by <i>profile_id</i> and aggregate the mean values of both comments and likes for each user. Then we compute the overall mean over both columns in a call to print."
   ]
  },
  {
   "cell_type": "code",
   "execution_count": 68,
   "id": "527346b6-544b-4927-bb44-2b26948778fc",
   "metadata": {},
   "outputs": [
    {
     "name": "stdout",
     "output_type": "stream",
     "text": [
      "The average number of likes of the top 10 profiles with the highest number of posts is 600.1 likes, and their average number of comments is 16.63 . The dataframe below shows their individual average data:\n"
     ]
    },
    {
     "data": {
      "text/html": [
       "<div>\n",
       "<style scoped>\n",
       "    .dataframe tbody tr th:only-of-type {\n",
       "        vertical-align: middle;\n",
       "    }\n",
       "\n",
       "    .dataframe tbody tr th {\n",
       "        vertical-align: top;\n",
       "    }\n",
       "\n",
       "    .dataframe thead th {\n",
       "        text-align: right;\n",
       "    }\n",
       "</style>\n",
       "<table border=\"1\" class=\"dataframe\">\n",
       "  <thead>\n",
       "    <tr style=\"text-align: right;\">\n",
       "      <th></th>\n",
       "      <th>numbr_likes</th>\n",
       "      <th>number_comments</th>\n",
       "    </tr>\n",
       "    <tr>\n",
       "      <th>profile_id</th>\n",
       "      <th></th>\n",
       "      <th></th>\n",
       "    </tr>\n",
       "  </thead>\n",
       "  <tbody>\n",
       "    <tr>\n",
       "      <th>1.029414e+07</th>\n",
       "      <td>3138.977901</td>\n",
       "      <td>111.060773</td>\n",
       "    </tr>\n",
       "    <tr>\n",
       "      <th>2.365051e+07</th>\n",
       "      <td>247.023188</td>\n",
       "      <td>7.959420</td>\n",
       "    </tr>\n",
       "    <tr>\n",
       "      <th>2.682094e+08</th>\n",
       "      <td>1931.731092</td>\n",
       "      <td>31.114846</td>\n",
       "    </tr>\n",
       "    <tr>\n",
       "      <th>2.243212e+09</th>\n",
       "      <td>636.502222</td>\n",
       "      <td>15.488889</td>\n",
       "    </tr>\n",
       "    <tr>\n",
       "      <th>4.575459e+09</th>\n",
       "      <td>19.434896</td>\n",
       "      <td>0.018229</td>\n",
       "    </tr>\n",
       "    <tr>\n",
       "      <th>5.421037e+09</th>\n",
       "      <td>10.373957</td>\n",
       "      <td>0.263773</td>\n",
       "    </tr>\n",
       "    <tr>\n",
       "      <th>5.515448e+09</th>\n",
       "      <td>8.173333</td>\n",
       "      <td>0.073333</td>\n",
       "    </tr>\n",
       "    <tr>\n",
       "      <th>1.287812e+10</th>\n",
       "      <td>2.174061</td>\n",
       "      <td>0.114334</td>\n",
       "    </tr>\n",
       "    <tr>\n",
       "      <th>1.296135e+10</th>\n",
       "      <td>3.091255</td>\n",
       "      <td>0.098859</td>\n",
       "    </tr>\n",
       "    <tr>\n",
       "      <th>1.347814e+10</th>\n",
       "      <td>3.567325</td>\n",
       "      <td>0.147217</td>\n",
       "    </tr>\n",
       "  </tbody>\n",
       "</table>\n",
       "</div>"
      ],
      "text/plain": [
       "              numbr_likes  number_comments\n",
       "profile_id                                \n",
       "1.029414e+07  3138.977901       111.060773\n",
       "2.365051e+07   247.023188         7.959420\n",
       "2.682094e+08  1931.731092        31.114846\n",
       "2.243212e+09   636.502222        15.488889\n",
       "4.575459e+09    19.434896         0.018229\n",
       "5.421037e+09    10.373957         0.263773\n",
       "5.515448e+09     8.173333         0.073333\n",
       "1.287812e+10     2.174061         0.114334\n",
       "1.296135e+10     3.091255         0.098859\n",
       "1.347814e+10     3.567325         0.147217"
      ]
     },
     "execution_count": 68,
     "metadata": {},
     "output_type": "execute_result"
    }
   ],
   "source": [
    "top_average_likes_comments = profile_ids_likes_comments.groupby(\"profile_id\").aggregate(\"mean\")\n",
    "print(\"The average number of likes of the top 10 profiles with the highest number of posts is\", \n",
    "round(top_average_likes_comments.numbr_likes.mean(),2), \"likes, and their average number of comments is\",\n",
    "round(top_average_likes_comments.number_comments.mean(),2),\". The dataframe below shows their individual average data:\")\n",
    "top_average_likes_comments"
   ]
  },
  {
   "cell_type": "markdown",
   "id": "f85cad3d-c341-46b0-ac64-0fa32463c2bf",
   "metadata": {},
   "source": [
    "<b>4.4</b> Plot the number of posts that these top 10 profiles have sent on Instagram in the given interval in question RQ3. Interpret the resulting chart."
   ]
  },
  {
   "cell_type": "markdown",
   "id": "1f8173e5-a7d6-4442-932b-f0ec20bfea88",
   "metadata": {},
   "source": [
    "* We first add an <i>hour</i> column to the posts.csv based on the <i>cts</i> column.\n",
    "* Then we create a new data set that includes only the top 10 highest posters and their hours of posting."
   ]
  },
  {
   "cell_type": "code",
   "execution_count": 88,
   "id": "988de8ba-8588-4228-a17d-01fce56f2c05",
   "metadata": {},
   "outputs": [
    {
     "data": {
      "text/html": [
       "<div>\n",
       "<style scoped>\n",
       "    .dataframe tbody tr th:only-of-type {\n",
       "        vertical-align: middle;\n",
       "    }\n",
       "\n",
       "    .dataframe tbody tr th {\n",
       "        vertical-align: top;\n",
       "    }\n",
       "\n",
       "    .dataframe thead th {\n",
       "        text-align: right;\n",
       "    }\n",
       "</style>\n",
       "<table border=\"1\" class=\"dataframe\">\n",
       "  <thead>\n",
       "    <tr style=\"text-align: right;\">\n",
       "      <th></th>\n",
       "      <th>profile_id</th>\n",
       "      <th>hour</th>\n",
       "    </tr>\n",
       "  </thead>\n",
       "  <tbody>\n",
       "    <tr>\n",
       "      <th>7436</th>\n",
       "      <td>4.575459e+09</td>\n",
       "      <td>9</td>\n",
       "    </tr>\n",
       "    <tr>\n",
       "      <th>28906</th>\n",
       "      <td>2.243212e+09</td>\n",
       "      <td>13</td>\n",
       "    </tr>\n",
       "    <tr>\n",
       "      <th>40126</th>\n",
       "      <td>1.029414e+07</td>\n",
       "      <td>22</td>\n",
       "    </tr>\n",
       "    <tr>\n",
       "      <th>40171</th>\n",
       "      <td>1.029414e+07</td>\n",
       "      <td>22</td>\n",
       "    </tr>\n",
       "    <tr>\n",
       "      <th>40603</th>\n",
       "      <td>2.682094e+08</td>\n",
       "      <td>21</td>\n",
       "    </tr>\n",
       "    <tr>\n",
       "      <th>...</th>\n",
       "      <td>...</td>\n",
       "      <td>...</td>\n",
       "    </tr>\n",
       "    <tr>\n",
       "      <th>42638925</th>\n",
       "      <td>5.515448e+09</td>\n",
       "      <td>7</td>\n",
       "    </tr>\n",
       "    <tr>\n",
       "      <th>42653456</th>\n",
       "      <td>2.243212e+09</td>\n",
       "      <td>15</td>\n",
       "    </tr>\n",
       "    <tr>\n",
       "      <th>42658112</th>\n",
       "      <td>1.296135e+10</td>\n",
       "      <td>10</td>\n",
       "    </tr>\n",
       "    <tr>\n",
       "      <th>42669635</th>\n",
       "      <td>2.365051e+07</td>\n",
       "      <td>14</td>\n",
       "    </tr>\n",
       "    <tr>\n",
       "      <th>42702009</th>\n",
       "      <td>1.029414e+07</td>\n",
       "      <td>1</td>\n",
       "    </tr>\n",
       "  </tbody>\n",
       "</table>\n",
       "<p>4616 rows × 2 columns</p>\n",
       "</div>"
      ],
      "text/plain": [
       "            profile_id  hour\n",
       "7436      4.575459e+09     9\n",
       "28906     2.243212e+09    13\n",
       "40126     1.029414e+07    22\n",
       "40171     1.029414e+07    22\n",
       "40603     2.682094e+08    21\n",
       "...                ...   ...\n",
       "42638925  5.515448e+09     7\n",
       "42653456  2.243212e+09    15\n",
       "42658112  1.296135e+10    10\n",
       "42669635  2.365051e+07    14\n",
       "42702009  1.029414e+07     1\n",
       "\n",
       "[4616 rows x 2 columns]"
      ]
     },
     "execution_count": 88,
     "metadata": {},
     "output_type": "execute_result"
    }
   ],
   "source": [
    "warnings.filterwarnings(\"ignore\")\n",
    "df_posts_RQ4[\"hour\"] = pd.DatetimeIndex(df_posts_RQ4['cts']).hour\n",
    "times_top_users = df_posts_RQ4[df_posts_RQ4.profile_id.isin(top_average_likes_comments.index)]\n",
    "times_top_users.drop(['post_id', 'cts','numbr_likes','number_comments'], axis=1 , inplace = True)\n",
    "times_top_users"
   ]
  },
  {
   "cell_type": "markdown",
   "id": "ed6ee513-793f-43ed-bf24-5d278b6484db",
   "metadata": {},
   "source": [
    "* Finally, we leverage the function created in RQ.3 for plotting the posting times of the 10 top users.\n",
    "* As we can observe in the chart, it is clear that the slot with the highest amount of posts is between 20h and 23h, which intuitevely makes sense, as within these hours people are usually not at work or school anymore, but rather enjoying their free time. On the counterpart, the intervals with less posts are between 0h and 5h, which obviously is when people are already sleeping. "
   ]
  },
  {
   "cell_type": "code",
   "execution_count": 95,
   "id": "3720e974-358c-4e0b-9775-b59ad5e1b8e2",
   "metadata": {},
   "outputs": [
    {
     "name": "stdout",
     "output_type": "stream",
     "text": [
      "The total number of posts of the top 10 \"posters\"  for each given interval\n"
     ]
    },
    {
     "data": {
      "image/png": "[encoded data removed]",
      "text/plain": [
       "<Figure size 432x288 with 1 Axes>"
      ]
     },
     "metadata": {
      "needs_background": "light"
     },
     "output_type": "display_data"
    }
   ],
   "source": [
    "slots = [(6, 10), (11, 13), (14, 16), (17, 19), (20, 23), (0, 2), (3, 5)]\n",
    "time_intervals(times_top_users, times_top_users.hour, slots , \"\"\"posts of the top 10 \"posters\" \"\"\")"
   ]
  },
  
  {
   "cell_type": "markdown",
   "id": "21a25489",
   "metadata": {},
   "source": [
    "### <b>[RQ5]</b> The most influential users are the ones with the highest number of “followers\", you can now look more into their activity."
   ]
  },
  {
   "cell_type": "markdown",
   "id": "5568b47b",
   "metadata": {},
   "source": [
    "\n",
    "<b>5.1</b> Plot the top 10 most popular users in terms of followers and their number of posts.\n"
   ]
  },
  {
   "cell_type": "code",
   "execution_count": 35,
   "id": "d51ec73c",
   "metadata": {},
   "outputs": [],
   "source": [
    "# posts dataset\n",
    "fields=['profile_id','location_id','post_type','numbr_likes','number_comments']\n",
    "df_instagram_posts_RQ5=pd.read_csv('~/instagram_posts.csv',sep='\\t',usecols=fields)"
   ]
  },
  {
   "cell_type": "code",
   "execution_count": 36,
   "id": "8ed5dd03",
   "metadata": {},
   "outputs": [],
   "source": [
    "#profiles dataset\n",
    "df_instagram_profiles_RQ5 = pd.read_csv('https://adm2022.s3.amazonaws.com/instagram_profiles.zip', delimiter='\\t')"
   ]
  },
  {
   "cell_type": "code",
   "execution_count": 37,
   "id": "744a5a24",
   "metadata": {},
   "outputs": [],
   "source": [
    "#locations dataset\n",
    "df_instagram_locations_RQ5 = pd.read_csv('https://adm2022.s3.amazonaws.com/instagram_locations.zip', delimiter='\\t')"
   ]
  },
  {
   "cell_type": "markdown",
   "id": "56255b56",
   "metadata": {},
   "source": [
    "* We start by extracting the top 10 most followed accounts"
   ]
  },
  {
   "cell_type": "code",
   "execution_count": 38,
   "id": "abc26251",
   "metadata": {},
   "outputs": [
    {
     "data": {
      "text/plain": [
       "2880218    285457645.0\n",
       "2582507     65269440.0\n",
       "3820939     35339708.0\n",
       "701965      30689316.0\n",
       "2414951     30246783.0\n",
       "2785241     29542143.0\n",
       "333193      29176804.0\n",
       "3934581     29042823.0\n",
       "1311970     26476004.0\n",
       "1703764     26252169.0\n",
       "Name: followers, dtype: float64"
      ]
     },
     "execution_count": 38,
     "metadata": {},
     "output_type": "execute_result"
    }
   ],
   "source": [
    "followers=df_instagram_profiles_RQ5['followers']\n",
    "followers.nlargest(10)"
   ]
  },
  {
   "cell_type": "markdown",
   "id": "80d840fa",
   "metadata": {},
   "source": [
    "* We show the dataset of the top 10 most influential users"
   ]
  },
  {
   "cell_type": "code",
   "execution_count": 39,
   "id": "faf988db",
   "metadata": {},
   "outputs": [
    {
     "data": {
      "text/html": [
       "<div>\n",
       "<style scoped>\n",
       "    .dataframe tbody tr th:only-of-type {\n",
       "        vertical-align: middle;\n",
       "    }\n",
       "\n",
       "    .dataframe tbody tr th {\n",
       "        vertical-align: top;\n",
       "    }\n",
       "\n",
       "    .dataframe thead th {\n",
       "        text-align: right;\n",
       "    }\n",
       "</style>\n",
       "<table border=\"1\" class=\"dataframe\">\n",
       "  <thead>\n",
       "    <tr style=\"text-align: right;\">\n",
       "      <th></th>\n",
       "      <th>sid</th>\n",
       "      <th>profile_id</th>\n",
       "      <th>profile_name</th>\n",
       "      <th>firstname_lastname</th>\n",
       "      <th>description</th>\n",
       "      <th>following</th>\n",
       "      <th>followers</th>\n",
       "      <th>n_posts</th>\n",
       "      <th>url</th>\n",
       "      <th>cts</th>\n",
       "      <th>is_business_account</th>\n",
       "    </tr>\n",
       "  </thead>\n",
       "  <tbody>\n",
       "    <tr>\n",
       "      <th>2880218</th>\n",
       "      <td>336492</td>\n",
       "      <td>2.502532e+07</td>\n",
       "      <td>instagram</td>\n",
       "      <td>Instagram</td>\n",
       "      <td>Bringing you closer to the people and things y...</td>\n",
       "      <td>226.0</td>\n",
       "      <td>285457645.0</td>\n",
       "      <td>5760.0</td>\n",
       "      <td>help.instagram.com</td>\n",
       "      <td>NaN</td>\n",
       "      <td>False</td>\n",
       "    </tr>\n",
       "    <tr>\n",
       "      <th>2582507</th>\n",
       "      <td>371414</td>\n",
       "      <td>3.416684e+06</td>\n",
       "      <td>victoriassecret</td>\n",
       "      <td>Victoria's Secret</td>\n",
       "      <td>Confidence is sexy. #wearitdaily</td>\n",
       "      <td>549.0</td>\n",
       "      <td>65269440.0</td>\n",
       "      <td>7355.0</td>\n",
       "      <td>like2b.uy/victoriassecret</td>\n",
       "      <td>NaN</td>\n",
       "      <td>True</td>\n",
       "    </tr>\n",
       "    <tr>\n",
       "      <th>3820939</th>\n",
       "      <td>337097</td>\n",
       "      <td>2.082449e+07</td>\n",
       "      <td>nba</td>\n",
       "      <td>NBA</td>\n",
       "      <td>30 teams, 1 🏆\\n👟: @nbakicks \\n📽: @nbahistory \\...</td>\n",
       "      <td>817.0</td>\n",
       "      <td>35339708.0</td>\n",
       "      <td>28816.0</td>\n",
       "      <td>nba.app.link/js6X7SVaxT</td>\n",
       "      <td>NaN</td>\n",
       "      <td>True</td>\n",
       "    </tr>\n",
       "    <tr>\n",
       "      <th>701965</th>\n",
       "      <td>330376</td>\n",
       "      <td>1.876191e+08</td>\n",
       "      <td>louisvuitton</td>\n",
       "      <td>Louis Vuitton Official</td>\n",
       "      <td>The official Instagram account of Louis Vuitton.</td>\n",
       "      <td>5.0</td>\n",
       "      <td>30689316.0</td>\n",
       "      <td>3352.0</td>\n",
       "      <td>on.louisvuitton.com/Like2Buy</td>\n",
       "      <td>NaN</td>\n",
       "      <td>True</td>\n",
       "    </tr>\n",
       "    <tr>\n",
       "      <th>2414951</th>\n",
       "      <td>292359</td>\n",
       "      <td>2.125507e+09</td>\n",
       "      <td>buzzfeedtasty</td>\n",
       "      <td>Tasty</td>\n",
       "      <td>Recipes that will make you say \"oh yes!\"\\n👇 Cl...</td>\n",
       "      <td>298.0</td>\n",
       "      <td>30246783.0</td>\n",
       "      <td>2791.0</td>\n",
       "      <td>tasty.co/linkinbio</td>\n",
       "      <td>NaN</td>\n",
       "      <td>True</td>\n",
       "    </tr>\n",
       "    <tr>\n",
       "      <th>2785241</th>\n",
       "      <td>3437294</td>\n",
       "      <td>4.968651e+08</td>\n",
       "      <td>andresiniesta8</td>\n",
       "      <td>Andres Iniesta</td>\n",
       "      <td>Andres Iniesta Official Instagram Account, \\nB...</td>\n",
       "      <td>151.0</td>\n",
       "      <td>29542143.0</td>\n",
       "      <td>990.0</td>\n",
       "      <td>mikakus.com</td>\n",
       "      <td>2019-05-08 23:54:35.377 -0400</td>\n",
       "      <td>False</td>\n",
       "    </tr>\n",
       "    <tr>\n",
       "      <th>333193</th>\n",
       "      <td>158690</td>\n",
       "      <td>2.341008e+07</td>\n",
       "      <td>hm</td>\n",
       "      <td>H&amp;M</td>\n",
       "      <td>Welcome to #HM! Follow us at @HM_Man @HM_Kids ...</td>\n",
       "      <td>403.0</td>\n",
       "      <td>29176804.0</td>\n",
       "      <td>4566.0</td>\n",
       "      <td>hm.info/1c9he</td>\n",
       "      <td>2018-05-31 19:33:46.022 -0400</td>\n",
       "      <td>True</td>\n",
       "    </tr>\n",
       "    <tr>\n",
       "      <th>3934581</th>\n",
       "      <td>3615154</td>\n",
       "      <td>2.423993e+07</td>\n",
       "      <td>princessyahrini</td>\n",
       "      <td>Syahrini</td>\n",
       "      <td>NaN</td>\n",
       "      <td>835.0</td>\n",
       "      <td>29042823.0</td>\n",
       "      <td>4719.0</td>\n",
       "      <td>www.youtube.com/c/ThePrincesSyahrini</td>\n",
       "      <td>2019-06-26 15:05:53.411 -0400</td>\n",
       "      <td>True</td>\n",
       "    </tr>\n",
       "    <tr>\n",
       "      <th>1311970</th>\n",
       "      <td>508140</td>\n",
       "      <td>5.041706e+07</td>\n",
       "      <td>danbilzerian</td>\n",
       "      <td>Dan Bilzerian</td>\n",
       "      <td>Snapchat: dbilzerian</td>\n",
       "      <td>252.0</td>\n",
       "      <td>26476004.0</td>\n",
       "      <td>1311.0</td>\n",
       "      <td>www.ignite.co</td>\n",
       "      <td>NaN</td>\n",
       "      <td>True</td>\n",
       "    </tr>\n",
       "    <tr>\n",
       "      <th>1703764</th>\n",
       "      <td>3513205</td>\n",
       "      <td>9.070254e+08</td>\n",
       "      <td>akshaykumar</td>\n",
       "      <td>Akshay Kumar</td>\n",
       "      <td>#AkshayKumar</td>\n",
       "      <td>5.0</td>\n",
       "      <td>26252169.0</td>\n",
       "      <td>1173.0</td>\n",
       "      <td>bit.ly/AliAliBlank</td>\n",
       "      <td>2019-05-14 08:29:29.754 -0400</td>\n",
       "      <td>False</td>\n",
       "    </tr>\n",
       "  </tbody>\n",
       "</table>\n",
       "</div>"
      ],
      "text/plain": [
       "             sid    profile_id     profile_name      firstname_lastname  \\\n",
       "2880218   336492  2.502532e+07        instagram               Instagram   \n",
       "2582507   371414  3.416684e+06  victoriassecret       Victoria's Secret   \n",
       "3820939   337097  2.082449e+07              nba                     NBA   \n",
       "701965    330376  1.876191e+08     louisvuitton  Louis Vuitton Official   \n",
       "2414951   292359  2.125507e+09    buzzfeedtasty                   Tasty   \n",
       "2785241  3437294  4.968651e+08   andresiniesta8          Andres Iniesta   \n",
       "333193    158690  2.341008e+07               hm                     H&M   \n",
       "3934581  3615154  2.423993e+07  princessyahrini                Syahrini   \n",
       "1311970   508140  5.041706e+07     danbilzerian           Dan Bilzerian   \n",
       "1703764  3513205  9.070254e+08      akshaykumar            Akshay Kumar   \n",
       "\n",
       "                                               description  following  \\\n",
       "2880218  Bringing you closer to the people and things y...      226.0   \n",
       "2582507                   Confidence is sexy. #wearitdaily      549.0   \n",
       "3820939  30 teams, 1 🏆\\n👟: @nbakicks \\n📽: @nbahistory \\...      817.0   \n",
       "701965    The official Instagram account of Louis Vuitton.        5.0   \n",
       "2414951  Recipes that will make you say \"oh yes!\"\\n👇 Cl...      298.0   \n",
       "2785241  Andres Iniesta Official Instagram Account, \\nB...      151.0   \n",
       "333193   Welcome to #HM! Follow us at @HM_Man @HM_Kids ...      403.0   \n",
       "3934581                                                NaN      835.0   \n",
       "1311970                               Snapchat: dbilzerian      252.0   \n",
       "1703764                                       #AkshayKumar        5.0   \n",
       "\n",
       "           followers  n_posts                                   url  \\\n",
       "2880218  285457645.0   5760.0                    help.instagram.com   \n",
       "2582507   65269440.0   7355.0             like2b.uy/victoriassecret   \n",
       "3820939   35339708.0  28816.0               nba.app.link/js6X7SVaxT   \n",
       "701965    30689316.0   3352.0          on.louisvuitton.com/Like2Buy   \n",
       "2414951   30246783.0   2791.0                    tasty.co/linkinbio   \n",
       "2785241   29542143.0    990.0                           mikakus.com   \n",
       "333193    29176804.0   4566.0                         hm.info/1c9he   \n",
       "3934581   29042823.0   4719.0  www.youtube.com/c/ThePrincesSyahrini   \n",
       "1311970   26476004.0   1311.0                         www.ignite.co   \n",
       "1703764   26252169.0   1173.0                    bit.ly/AliAliBlank   \n",
       "\n",
       "                                   cts is_business_account  \n",
       "2880218                            NaN               False  \n",
       "2582507                            NaN                True  \n",
       "3820939                            NaN                True  \n",
       "701965                             NaN                True  \n",
       "2414951                            NaN                True  \n",
       "2785241  2019-05-08 23:54:35.377 -0400               False  \n",
       "333193   2018-05-31 19:33:46.022 -0400                True  \n",
       "3934581  2019-06-26 15:05:53.411 -0400                True  \n",
       "1311970                            NaN                True  \n",
       "1703764  2019-05-14 08:29:29.754 -0400               False  "
      ]
     },
     "execution_count": 39,
     "metadata": {},
     "output_type": "execute_result"
    }
   ],
   "source": [
    "#top10 profiles by followers\n",
    "top10=df_instagram_profiles_RQ5[df_instagram_profiles_RQ5.followers >= 26252169.0]\n",
    "top10.sort_values(['followers'],ascending=False)"
   ]
  },
  {
   "cell_type": "markdown",
   "id": "0543f797",
   "metadata": {},
   "source": [
    "* We now create a barplot showing the number of followers for each one of the most influential users"
   ]
  },
  {
   "cell_type": "code",
   "execution_count": 40,
   "id": "847ecedd",
   "metadata": {},
   "outputs": [
    {
     "data": {
      "image/png": "[encoded data removed]",
      "text/plain": [
       "<Figure size 432x288 with 1 Axes>"
      ]
     },
     "metadata": {
      "needs_background": "light"
     },
     "output_type": "display_data"
    }
   ],
   "source": [
    "fig = plt.figure()\n",
    "ax = fig.add_axes([0,0,2,2])\n",
    "profiles = list(top10['profile_name'])\n",
    "nfollows = list(top10['followers'])\n",
    "ax.bar(profiles,nfollows,width=1, edgecolor=\"white\", linewidth=5,color='purple')\n",
    "plt.xlabel('Followers',labelpad=10)\n",
    "plt.ylabel('',labelpad=10)\n",
    "plt.title('Count of Followers')\n",
    "plt.show()"
   ]
  },
  {
   "cell_type": "markdown",
   "id": "7699a98e",
   "metadata": {},
   "source": [
    "<b>5.2</b> Who is the most influential user?\n"
   ]
  },
  {
   "cell_type": "code",
   "execution_count": 42,
   "id": "c254ecf4",
   "metadata": {},
   "outputs": [
    {
     "data": {
      "text/html": [
       "<div>\n",
       "<style scoped>\n",
       "    .dataframe tbody tr th:only-of-type {\n",
       "        vertical-align: middle;\n",
       "    }\n",
       "\n",
       "    .dataframe tbody tr th {\n",
       "        vertical-align: top;\n",
       "    }\n",
       "\n",
       "    .dataframe thead th {\n",
       "        text-align: right;\n",
       "    }\n",
       "</style>\n",
       "<table border=\"1\" class=\"dataframe\">\n",
       "  <thead>\n",
       "    <tr style=\"text-align: right;\">\n",
       "      <th></th>\n",
       "      <th>sid</th>\n",
       "      <th>profile_id</th>\n",
       "      <th>profile_name</th>\n",
       "      <th>firstname_lastname</th>\n",
       "      <th>description</th>\n",
       "      <th>following</th>\n",
       "      <th>followers</th>\n",
       "      <th>n_posts</th>\n",
       "      <th>url</th>\n",
       "      <th>cts</th>\n",
       "      <th>is_business_account</th>\n",
       "    </tr>\n",
       "  </thead>\n",
       "  <tbody>\n",
       "    <tr>\n",
       "      <th>2880218</th>\n",
       "      <td>336492</td>\n",
       "      <td>25025320.0</td>\n",
       "      <td>instagram</td>\n",
       "      <td>Instagram</td>\n",
       "      <td>Bringing you closer to the people and things y...</td>\n",
       "      <td>226.0</td>\n",
       "      <td>285457645.0</td>\n",
       "      <td>5760.0</td>\n",
       "      <td>help.instagram.com</td>\n",
       "      <td>NaN</td>\n",
       "      <td>False</td>\n",
       "    </tr>\n",
       "  </tbody>\n",
       "</table>\n",
       "</div>"
      ],
      "text/plain": [
       "            sid  profile_id profile_name firstname_lastname  \\\n",
       "2880218  336492  25025320.0    instagram          Instagram   \n",
       "\n",
       "                                               description  following  \\\n",
       "2880218  Bringing you closer to the people and things y...      226.0   \n",
       "\n",
       "           followers  n_posts                 url  cts is_business_account  \n",
       "2880218  285457645.0   5760.0  help.instagram.com  NaN               False  "
      ]
     },
     "execution_count": 42,
     "metadata": {},
     "output_type": "execute_result"
    }
   ],
   "source": [
    "#most influential user\n",
    "df_instagram_profiles_RQ5[df_instagram_profiles_RQ5.followers == 285457645.0] "
   ]
  },
  {
   "cell_type": "markdown",
   "id": "cb9b51bc",
   "metadata": {},
   "source": [
    "* The most influential user is <b>Instagram\n"
   ]
  },
  {
   "cell_type": "markdown",
   "id": "1c184abe",
   "metadata": {},
   "source": [
    "<b>5.3</b> Have they posted anything with tagged locations? Extract the most frequent areas on their posts and plot the number of times each city has been visited."
   ]
  },
  {
   "cell_type": "markdown",
   "id": "8b3513b7",
   "metadata": {},
   "source": [
    "* We create a dataframe containing all the posts by the top 10 most influential users"
   ]
  },
  {
   "cell_type": "code",
   "execution_count": 44,
   "id": "6bd1671f",
   "metadata": {},
   "outputs": [
    {
     "name": "stdout",
     "output_type": "stream",
     "text": [
      "      profile_id   location_id  post_type  numbr_likes  number_comments\n",
      "0     23410080.0  3.846191e+08          1     116059.0            642.0\n",
      "1     23410080.0  2.293029e+08          1      46368.0             88.0\n",
      "2    187619120.0  5.590714e+06          1     186857.0            867.0\n",
      "3     50417061.0  2.222444e+08          1     266200.0           3290.0\n",
      "4     50417061.0  2.368281e+08          1     268732.0           6402.0\n",
      "..           ...           ...        ...          ...              ...\n",
      "136   24239929.0  2.130118e+08          1      55010.0              0.0\n",
      "137   24239929.0  2.130118e+08          1     114315.0              0.0\n",
      "138   24239929.0  2.130118e+08          1      78974.0              0.0\n",
      "139   24239929.0  1.906910e+15          1     132116.0              0.0\n",
      "140   24239929.0  1.906910e+15          1      66185.0              0.0\n",
      "\n",
      "[141 rows x 5 columns]\n"
     ]
    }
   ],
   "source": [
    "top10_posts=pd.DataFrame(columns=['profile_id'])\n",
    "for i in [23410080.0,187619120.0,50417061.0,907025384.0,2125506698.0,3416684.0,496865116.0,25025320.0,20824486.0,24239929.0]:\n",
    "    x=df_instagram_posts_RQ5[df_instagram_posts_RQ5['profile_id']==int(i)]\n",
    "    top10_posts=pd.merge(top10_posts,x,how='outer')\n",
    "print(top10_posts)"
   ]
  },
  {
   "cell_type": "markdown",
   "id": "509de840",
   "metadata": {},
   "source": [
    "* We extract the location_id of each post by top10_posts, then we create a list containing the output.\n",
    "* We then procede to create top10_loc, a dataframe containing all the locations tagged by the top10 users"
   ]
  },
  {
   "cell_type": "code",
   "execution_count": 46,
   "id": "cbb915ee",
   "metadata": {},
   "outputs": [
    {
     "data": {
      "text/plain": [
       "0             384619115.000000\n",
       "1             229302869.000000\n",
       "2               5590714.000000\n",
       "3             222244450.000000\n",
       "4             236828105.000000\n",
       "                ...           \n",
       "136           213011753.000000\n",
       "137           213011753.000000\n",
       "138           213011753.000000\n",
       "139    1906910439594849.000000\n",
       "140    1906910439594849.000000\n",
       "Name: location_id, Length: 141, dtype: object"
      ]
     },
     "execution_count": 46,
     "metadata": {},
     "output_type": "execute_result"
    }
   ],
   "source": [
    "loc_id= top10_posts['location_id']\n",
    "loc_id.apply(lambda x: format(x, 'f'))"
   ]
  },
  {
   "cell_type": "code",
   "execution_count": 51,
   "id": "9074dc6a",
   "metadata": {},
   "outputs": [],
   "source": [
    "cc=[i for i in loc_id]\n",
    "top10_loc=pd.DataFrame(columns=['sid','name','city'])\n",
    "\n",
    "\n",
    "#dataframe containing all the locations tagged by the top10 users\n",
    "\n",
    "for i in range(len(df_instagram_locations_RQ5)):\n",
    "    if df_instagram_locations_RQ5['id'][i] in cc:\n",
    "        x=df_instagram_locations_RQ5[df_instagram_locations_RQ5.id == df_instagram_locations_RQ5['id'][i]]\n",
    "        top10_loc=pd.merge(top10_loc,x,how='outer')"
   ]
  },
  {
   "cell_type": "markdown",
   "id": "d9557518",
   "metadata": {},
   "source": [
    "* We now print the locations visited by the top 10 accounts and we group them by city, then we count how many times wach city was visited."
   ]
  },
  {
   "cell_type": "code",
   "execution_count": 52,
   "id": "2ea27e80",
   "metadata": {},
   "outputs": [],
   "source": [
    "top10_loc_groups=top10_loc.groupby(['city'])['city'].count()"
   ]
  },
  {
   "cell_type": "code",
   "execution_count": 53,
   "id": "ea134f8e",
   "metadata": {},
   "outputs": [
    {
     "data": {
      "text/plain": [
       "city\n",
       "Adelaide, South Australia    1\n",
       "Akron, Ohio                  1\n",
       "Amphoe Pak Chong             1\n",
       "Amsterdam, Netherlands       3\n",
       "Bad Urach                    1\n",
       "                            ..\n",
       "Vail, Colorado               1\n",
       "Vaitape, French Polynesia    1\n",
       "Valencia                     1\n",
       "Valley Park, Missouri        1\n",
       "Xiandu, Zhejiang, China      1\n",
       "Name: city, Length: 63, dtype: int64"
      ]
     },
     "execution_count": 53,
     "metadata": {},
     "output_type": "execute_result"
    }
   ],
   "source": [
    "top10_loc_groups"
   ]
  },
  {
   "cell_type": "markdown",
   "id": "6a467d57",
   "metadata": {},
   "source": [
    "* In the following plot we can observe the number of times each city has been tagged by one of the top 10 most influential users of Instagram;\n",
    "Only the cities visited more than one time are plotted."
   ]
  },
  {
   "cell_type": "code",
   "execution_count": 52,
   "id": "a43b46ec",
   "metadata": {},
   "outputs": [],
   "source": [
    "freq=list(acg)\n",
    "dd=[]\n",
    "for i in freq:\n",
    "    if i != 1:\n",
    "        dd.append(i)\n",
    "city=['Amsterdam, Netherlands','Houston, Texas','Las Vegas, Nevada','London, United Kingdom','Los Angeles, California ','New York, New York','Shanghai, China','Singapore']"
   ]
  },
  {
   "cell_type": "code",
   "execution_count": 53,
   "id": "dfbf61ef",
   "metadata": {},
   "outputs": [
    {
     "data": {
      "image/png": "[encoded data removed]",
      "text/plain": [
       "<Figure size 432x288 with 1 Axes>"
      ]
     },
     "metadata": {
      "needs_background": "light"
     },
     "output_type": "display_data"
    }
   ],
   "source": [
    "fig = plt.figure()\n",
    "ax = fig.add_axes([0,0,2.5,2])\n",
    "ax.bar(city,dd,width=1, edgecolor=\"white\", linewidth=5,color='purple')\n",
    "plt.xlabel('city',labelpad=10)\n",
    "plt.ylabel('count',labelpad=10)\n",
    "plt.title('Most tagged cities')\n",
    "plt.show()"
   ]
  },
  {
   "cell_type": "markdown",
   "id": "3467382f",
   "metadata": {},
   "source": [
    "* The most tagged location by top 10 most influential users is <b>New York</b>, which has been visited 9 times, followed by Los Angeles and Singapore with 4 visits, then Amsterdam,\n",
    "Houston and London 3 times, and finally Las Vegas and Shangai 2 times.\n",
    "\n",
    "All the other cities have been visited only once"
   ]
  },
  {
   "cell_type": "markdown",
   "id": "3fe0e01c",
   "metadata": {},
   "source": [
    "<b>5.4.1</b> How many pictures-only posts have they published? How many reels? (only videos) and how many with both contents?"
   ]
  },
  {
   "cell_type": "markdown",
   "id": "51b1d8af",
   "metadata": {},
   "source": [
    "* After applying the 'groupby' function to the dataframe containing the most influential users, we notice that we have 141 posts made by them in our posts dataset; \n",
    "* Of these posts, <b>128 are pictures-only posts</b>, and <b>13 are reel</b> and <b>0 are with both content</b>."
   ]
  },
  {
   "cell_type": "code",
   "execution_count": 53,
   "id": "e3331f64",
   "metadata": {},
   "outputs": [
    {
     "data": {
      "text/plain": [
       "post_type\n",
       "1    128\n",
       "2     13\n",
       "Name: numbr_likes, dtype: int64"
      ]
     },
     "execution_count": 53,
     "metadata": {},
     "output_type": "execute_result"
    }
   ],
   "source": [
    "top10_posts.groupby(['profile_id','post_type'])[\"numbr_likes\"].count()\n",
    "ptype=top10_posts.groupby(['post_type'])[\"numbr_likes\"].count()\n",
    "ptype"
   ]
  },
  {
   "cell_type": "markdown",
   "id": "80d86f35",
   "metadata": {},
   "source": [
    "<b>5.4.2</b> Provide the number as percentages and interpret those figures."
   ]
  },
  {
   "cell_type": "code",
   "execution_count": 54,
   "id": "e79d4526",
   "metadata": {},
   "outputs": [
    {
     "data": {
      "image/png": "[encoded data removed]",
      "text/plain": [
       "<Figure size 432x288 with 1 Axes>"
      ]
     },
     "metadata": {},
     "output_type": "display_data"
    }
   ],
   "source": [
    "pic=128/141\n",
    "reel=13/141\n",
    "pic*100,reel*100\n",
    "\n",
    "labels = 'pics', 'reels'\n",
    "sizes = [128,13]\n",
    "explode = (0, 0.1)  # only \"explode\" the 2nd slice\n",
    "\n",
    "fig1, ax1 = plt.subplots()\n",
    "ax1.pie(sizes, explode=explode, labels=labels, autopct='%1.1f%%',shadow=True, startangle=90)\n",
    "ax1.axis('equal')  # Equal aspect ratio ensures that pie is drawn as a circle.\n",
    "plt.show()"
   ]
  },
  {
   "cell_type": "markdown",
   "id": "bd89064f",
   "metadata": {},
   "source": [
    "* After observing the plot, we can say that pictures-only posts are the vast majority of the total, being <b>90.8%</b>, and reels appear approximately once every 10 posts (<b>9.2%)"
   ]
  },
  {
   "cell_type": "markdown",
   "id": "e124fdb0",
   "metadata": {},
   "source": [
    "<b>5.5</b> How many \"likes\" and comments did posts with only pictures receive? How about videos and mixed posts? Try to provide the average numbers and confront them with their followers amount, explaining what you can say from that comparison."
   ]
  },
  {
   "cell_type": "markdown",
   "id": "3fea3328",
   "metadata": {},
   "source": [
    "* We start by analizing the posts made by the top 10 most influencial users.\n",
    "* When they post a picture, they get on average 541294 likes and 3883 comments, while when they post reels <b>they get on average 266.524.1 likes and 2.019.8 comments</b>.\n",
    "Since we don't have data regarding their mixed posts, we can't say what is the average number of likes and comments for those types of posts."
   ]
  },
  {
   "cell_type": "code",
   "execution_count": 57,
   "id": "f0b07090",
   "metadata": {},
   "outputs": [
    {
     "data": {
      "text/plain": [
       "post_type\n",
       "1    541294.015625\n",
       "2    266524.153846\n",
       "Name: numbr_likes, dtype: float64"
      ]
     },
     "execution_count": 57,
     "metadata": {},
     "output_type": "execute_result"
    }
   ],
   "source": [
    "top10_posts.groupby(['post_type'])[\"numbr_likes\"].mean()"
   ]
  },
  {
   "cell_type": "code",
   "execution_count": 56,
   "id": "984789e4",
   "metadata": {},
   "outputs": [
    {
     "data": {
      "text/plain": [
       "post_type\n",
       "1    3882.914062\n",
       "2    2019.846154\n",
       "Name: number_comments, dtype: float64"
      ]
     },
     "execution_count": 56,
     "metadata": {},
     "output_type": "execute_result"
    }
   ],
   "source": [
    "top10_posts.groupby(['post_type'])[\"number_comments\"].mean()"
   ]
  },
  {
   "cell_type": "markdown",
   "id": "9531481a",
   "metadata": {},
   "source": [
    "* On the other hand, if we analize all the users, with any number of followers, we obviously get smaller outputs for average likes and comments. \n",
    "* The average number of likes <b>for a picture-only post</b>, considering all the posts we can analize, is <b>280.6, while for comments is 390.8 </b>.\n",
    "* <b>For reels, the average likes and comments are 390.8 and 11.2 respectively</b>.\n",
    "* We can now dispose also of <b>the mixed posts data</b>, and we observe that they receive <b>an average of 194.7 likes and 6.7 comments</b>.\n",
    "* The biggest difference between the most influential users and all the users, is that they receive more likes and comments on average on only_pictures post, while regular users receive more likes and comments on average on the reels."
   ]
  },
  {
   "cell_type": "code",
   "execution_count": 59,
   "id": "ac9d3049",
   "metadata": {},
   "outputs": [
    {
     "data": {
      "text/plain": [
       "post_type\n",
       "1    280.659566\n",
       "2    390.781299\n",
       "3    194.758812\n",
       "Name: numbr_likes, dtype: float64"
      ]
     },
     "execution_count": 59,
     "metadata": {},
     "output_type": "execute_result"
    }
   ],
   "source": [
    "df_instagram_posts_RQ5.groupby(['post_type'])[\"numbr_likes\"].mean()"
   ]
  },
  {
   "cell_type": "code",
   "execution_count": 58,
   "id": "140142ee",
   "metadata": {},
   "outputs": [
    {
     "data": {
      "text/plain": [
       "post_type\n",
       "1     7.498260\n",
       "2    11.179689\n",
       "3     6.701434\n",
       "Name: number_comments, dtype: float64"
      ]
     },
     "execution_count": 58,
     "metadata": {},
     "output_type": "execute_result"
    }
   ],
   "source": [
    "df_instagram_posts_RQ5.groupby(['post_type'])[\"number_comments\"].mean()"
   ]
  },
  
  
  
  
  
  
  {
   "cell_type": "markdown",
   "id": "eb668cf0-8c5b-4844-a8f3-a2b9e8c7e95d",
   "metadata": {},
   "source": [
    "### [RQ6] It's time to get information from the user posting effectiveness."
   ]
  },
  {
   "cell_type": "markdown",
   "id": "a2f935d8-7d26-4879-844b-95ca7596e5ad",
   "metadata": {},
   "source": [
    "<b>6.1.1</b> What is the average time (days and minutes) a user lets pass before publishing another post?"
   ]
  },
  {
   "cell_type": "markdown",
   "id": "f8076fc6-7404-4871-919b-8ca8f702eb39",
   "metadata": {},
   "source": [
    "* We grouped the data by \"profile_id\" and also add three new columns: cts max, cts min, and cts count per user. Then, we remove those users who only posted one post, as they are not relevant for our analysis (140.762 users). Finally, we create a new column called mean_time that has the average time between posts for each user."
   ]
  },
  {
   "cell_type": "code",
   "execution_count": 100,
   "id": "87cc830b-fca3-4965-9e43-72183710a7b4",
   "metadata": {},
   "outputs": [
    {
     "data": {
      "text/html": [
       "<div>\n",
       "<style scoped>\n",
       "    .dataframe tbody tr th:only-of-type {\n",
       "        vertical-align: middle;\n",
       "    }\n",
       "\n",
       "    .dataframe tbody tr th {\n",
       "        vertical-align: top;\n",
       "    }\n",
       "\n",
       "    .dataframe thead tr th {\n",
       "        text-align: left;\n",
       "    }\n",
       "\n",
       "    .dataframe thead tr:last-of-type th {\n",
       "        text-align: right;\n",
       "    }\n",
       "</style>\n",
       "<table border=\"1\" class=\"dataframe\">\n",
       "  <thead>\n",
       "    <tr>\n",
       "      <th></th>\n",
       "      <th colspan=\"3\" halign=\"left\">cts</th>\n",
       "      <th>average_time_between_posts</th>\n",
       "    </tr>\n",
       "    <tr>\n",
       "      <th></th>\n",
       "      <th>max</th>\n",
       "      <th>min</th>\n",
       "      <th>count</th>\n",
       "      <th></th>\n",
       "    </tr>\n",
       "    <tr>\n",
       "      <th>profile_id</th>\n",
       "      <th></th>\n",
       "      <th></th>\n",
       "      <th></th>\n",
       "      <th></th>\n",
       "    </tr>\n",
       "  </thead>\n",
       "  <tbody>\n",
       "    <tr>\n",
       "      <th>4.000000e+00</th>\n",
       "      <td>2019-05-05 08:03:36</td>\n",
       "      <td>2010-07-22 12:19:51</td>\n",
       "      <td>37</td>\n",
       "      <td>89 days 03:12:52.916666666</td>\n",
       "    </tr>\n",
       "    <tr>\n",
       "      <th>1.900000e+01</th>\n",
       "      <td>2019-04-17 07:44:13</td>\n",
       "      <td>2010-10-23 18:48:33</td>\n",
       "      <td>51</td>\n",
       "      <td>61 days 22:49:06.800000</td>\n",
       "    </tr>\n",
       "    <tr>\n",
       "      <th>2.800000e+01</th>\n",
       "      <td>2019-04-16 05:10:12</td>\n",
       "      <td>2011-02-19 20:16:29</td>\n",
       "      <td>92</td>\n",
       "      <td>32 days 17:14:26.186813186</td>\n",
       "    </tr>\n",
       "    <tr>\n",
       "      <th>3.300000e+01</th>\n",
       "      <td>2013-03-30 22:35:38</td>\n",
       "      <td>2011-04-30 06:13:46</td>\n",
       "      <td>2</td>\n",
       "      <td>700 days 16:21:52</td>\n",
       "    </tr>\n",
       "    <tr>\n",
       "      <th>3.400000e+01</th>\n",
       "      <td>2019-07-01 20:49:50</td>\n",
       "      <td>2011-07-29 06:24:16</td>\n",
       "      <td>20</td>\n",
       "      <td>152 days 08:20:17.578947368</td>\n",
       "    </tr>\n",
       "    <tr>\n",
       "      <th>...</th>\n",
       "      <td>...</td>\n",
       "      <td>...</td>\n",
       "      <td>...</td>\n",
       "      <td>...</td>\n",
       "    </tr>\n",
       "    <tr>\n",
       "      <th>1.499738e+10</th>\n",
       "      <td>2019-07-11 04:25:20</td>\n",
       "      <td>2019-07-09 03:18:33</td>\n",
       "      <td>12</td>\n",
       "      <td>0 days 04:27:53.363636363</td>\n",
       "    </tr>\n",
       "    <tr>\n",
       "      <th>1.501918e+10</th>\n",
       "      <td>2019-07-21 14:05:34</td>\n",
       "      <td>2019-06-19 13:17:00</td>\n",
       "      <td>5</td>\n",
       "      <td>8 days 00:12:08.500000</td>\n",
       "    </tr>\n",
       "    <tr>\n",
       "      <th>1.523330e+10</th>\n",
       "      <td>2019-06-27 00:11:09</td>\n",
       "      <td>2019-06-26 23:56:47</td>\n",
       "      <td>3</td>\n",
       "      <td>0 days 00:07:11</td>\n",
       "    </tr>\n",
       "    <tr>\n",
       "      <th>1.566695e+10</th>\n",
       "      <td>2019-08-06 01:01:31</td>\n",
       "      <td>2019-07-29 21:36:32</td>\n",
       "      <td>11</td>\n",
       "      <td>0 days 17:08:29.900000</td>\n",
       "    </tr>\n",
       "    <tr>\n",
       "      <th>9.001013e+13</th>\n",
       "      <td>2018-04-04 09:53:28</td>\n",
       "      <td>2017-06-22 10:56:54</td>\n",
       "      <td>10</td>\n",
       "      <td>31 days 18:32:57.111111111</td>\n",
       "    </tr>\n",
       "  </tbody>\n",
       "</table>\n",
       "<p>2033081 rows × 4 columns</p>\n",
       "</div>"
      ],
      "text/plain": [
       "                             cts                            \\\n",
       "                             max                 min count   \n",
       "profile_id                                                   \n",
       "4.000000e+00 2019-05-05 08:03:36 2010-07-22 12:19:51    37   \n",
       "1.900000e+01 2019-04-17 07:44:13 2010-10-23 18:48:33    51   \n",
       "2.800000e+01 2019-04-16 05:10:12 2011-02-19 20:16:29    92   \n",
       "3.300000e+01 2013-03-30 22:35:38 2011-04-30 06:13:46     2   \n",
       "3.400000e+01 2019-07-01 20:49:50 2011-07-29 06:24:16    20   \n",
       "...                          ...                 ...   ...   \n",
       "1.499738e+10 2019-07-11 04:25:20 2019-07-09 03:18:33    12   \n",
       "1.501918e+10 2019-07-21 14:05:34 2019-06-19 13:17:00     5   \n",
       "1.523330e+10 2019-06-27 00:11:09 2019-06-26 23:56:47     3   \n",
       "1.566695e+10 2019-08-06 01:01:31 2019-07-29 21:36:32    11   \n",
       "9.001013e+13 2018-04-04 09:53:28 2017-06-22 10:56:54    10   \n",
       "\n",
       "              average_time_between_posts  \n",
       "                                          \n",
       "profile_id                                \n",
       "4.000000e+00  89 days 03:12:52.916666666  \n",
       "1.900000e+01     61 days 22:49:06.800000  \n",
       "2.800000e+01  32 days 17:14:26.186813186  \n",
       "3.300000e+01           700 days 16:21:52  \n",
       "3.400000e+01 152 days 08:20:17.578947368  \n",
       "...                                  ...  \n",
       "1.499738e+10   0 days 04:27:53.363636363  \n",
       "1.501918e+10      8 days 00:12:08.500000  \n",
       "1.523330e+10             0 days 00:07:11  \n",
       "1.566695e+10      0 days 17:08:29.900000  \n",
       "9.001013e+13  31 days 18:32:57.111111111  \n",
       "\n",
       "[2033081 rows x 4 columns]"
      ]
     },
     "execution_count": 100,
     "metadata": {},
     "output_type": "execute_result"
    }
   ],
   "source": [
    "data_grouped = df_posts_RQ4.groupby(\"profile_id\").aggregate({'cts':[\"max\", \"min\", \"count\"]})\n",
    "data_grouped =  data_grouped[data_grouped.cts[\"count\"] > 1]\n",
    "data_grouped[\"average_time_between_posts\"] = (data_grouped.cts['max'] - data_grouped.cts['min']) / (data_grouped.cts['count']-1)\n",
    "data_grouped"
   ]
  },
  {
   "cell_type": "markdown",
   "id": "4cab402a-05ee-498c-bdf2-abc167f471c8",
   "metadata": {},
   "source": [
    "* Then we compute the mean over the <i>average_time_between_posts</i> column\n",
    "* The average time between posts varies depending on which users we consider for the analysis. \n",
    "If we consider all ids from the posts.csv we obtain a mean of 76 days 17 hours and 06 minutes.\n",
    "While if we compute the mean only for those profile_ids who appear in both datasets, the mean is of 30 days 02 hours and 07 minutes."
   ]
  },
  {
   "cell_type": "code",
   "execution_count": 101,
   "id": "7a451c42-86c8-424d-bf42-5c167caea104",
   "metadata": {},
   "outputs": [
    {
     "name": "stdout",
     "output_type": "stream",
     "text": [
      "The average time between posts per user is 30 days 02 hours and 07 minutes.\n"
     ]
    }
   ],
   "source": [
    "average_time_between_posts = data_grouped[\"average_time_between_posts\"].mean()\n",
    "print(\"The average time between posts per user is\" , str(average_time_between_posts)[0:7],str(average_time_between_posts)[8:10],\"hours and\",str(average_time_between_posts)[11:13],\"minutes.\")"
   ]
  },
  {
   "cell_type": "markdown",
   "id": "0a5fd767-f31b-49b3-9446-621e1470d9cd",
   "metadata": {},
   "source": [
    "<b>6.1.2</b> Plot the top 3 users that publish posts more frequently (calculate the average time that passes between posts), including their amount of followers and following. Provide insights from that chart."
   ]
  },
  {
   "cell_type": "markdown",
   "id": "27910ca2-c0d2-416b-9a5e-dcf3068984b6",
   "metadata": {},
   "source": [
    "* By merging the data obtained in 6.1.1 with profiles.csv, we obtain a new dataframe in which we have all the relevant information to our plot (average time between posts, followers and followings), which  we sort (by ascending average_time_between_posts). Also, we remove those rows who have Nan values in their followers and followings(73.531 rows), as we would not be able to plot them as it is required by the exercise."
   ]
  },
  {
   "cell_type": "code",
   "execution_count": 114,
   "id": "5f3fa4b9-934d-49a1-af9f-de5ac8a52df3",
   "metadata": {},
   "outputs": [
    {
     "data": {
      "text/html": [
       "<div>\n",
       "<style scoped>\n",
       "    .dataframe tbody tr th:only-of-type {\n",
       "        vertical-align: middle;\n",
       "    }\n",
       "\n",
       "    .dataframe tbody tr th {\n",
       "        vertical-align: top;\n",
       "    }\n",
       "\n",
       "    .dataframe thead th {\n",
       "        text-align: right;\n",
       "    }\n",
       "</style>\n",
       "<table border=\"1\" class=\"dataframe\">\n",
       "  <thead>\n",
       "    <tr style=\"text-align: right;\">\n",
       "      <th></th>\n",
       "      <th>profile_id</th>\n",
       "      <th>ctscount</th>\n",
       "      <th>average_time_between_posts</th>\n",
       "      <th>following</th>\n",
       "      <th>followers</th>\n",
       "    </tr>\n",
       "  </thead>\n",
       "  <tbody>\n",
       "    <tr>\n",
       "      <th>1039291</th>\n",
       "      <td>1.823732e+09</td>\n",
       "      <td>2</td>\n",
       "      <td>0 days 00:00:00</td>\n",
       "      <td>1009.0</td>\n",
       "      <td>30.0</td>\n",
       "    </tr>\n",
       "    <tr>\n",
       "      <th>1951819</th>\n",
       "      <td>1.036093e+10</td>\n",
       "      <td>2</td>\n",
       "      <td>0 days 00:00:00</td>\n",
       "      <td>5115.0</td>\n",
       "      <td>149.0</td>\n",
       "    </tr>\n",
       "    <tr>\n",
       "      <th>59496</th>\n",
       "      <td>8.801686e+06</td>\n",
       "      <td>2</td>\n",
       "      <td>0 days 00:00:00</td>\n",
       "      <td>1572.0</td>\n",
       "      <td>705.0</td>\n",
       "    </tr>\n",
       "    <tr>\n",
       "      <th>1617198</th>\n",
       "      <td>6.324740e+09</td>\n",
       "      <td>2</td>\n",
       "      <td>0 days 00:00:00</td>\n",
       "      <td>1377.0</td>\n",
       "      <td>288.0</td>\n",
       "    </tr>\n",
       "    <tr>\n",
       "      <th>1900802</th>\n",
       "      <td>9.197905e+09</td>\n",
       "      <td>2</td>\n",
       "      <td>0 days 00:00:00</td>\n",
       "      <td>30.0</td>\n",
       "      <td>37.0</td>\n",
       "    </tr>\n",
       "    <tr>\n",
       "      <th>...</th>\n",
       "      <td>...</td>\n",
       "      <td>...</td>\n",
       "      <td>...</td>\n",
       "      <td>...</td>\n",
       "      <td>...</td>\n",
       "    </tr>\n",
       "    <tr>\n",
       "      <th>1903288</th>\n",
       "      <td>9.224064e+09</td>\n",
       "      <td>12</td>\n",
       "      <td>0 days 00:01:00.454545454</td>\n",
       "      <td>816.0</td>\n",
       "      <td>50.0</td>\n",
       "    </tr>\n",
       "    <tr>\n",
       "      <th>1245612</th>\n",
       "      <td>3.141811e+09</td>\n",
       "      <td>12</td>\n",
       "      <td>0 days 00:01:00.454545454</td>\n",
       "      <td>832.0</td>\n",
       "      <td>92.0</td>\n",
       "    </tr>\n",
       "    <tr>\n",
       "      <th>1834052</th>\n",
       "      <td>8.542995e+09</td>\n",
       "      <td>7</td>\n",
       "      <td>0 days 00:01:00.500000</td>\n",
       "      <td>160.0</td>\n",
       "      <td>112.0</td>\n",
       "    </tr>\n",
       "    <tr>\n",
       "      <th>1772639</th>\n",
       "      <td>8.028836e+09</td>\n",
       "      <td>3</td>\n",
       "      <td>0 days 00:01:00.500000</td>\n",
       "      <td>1196.0</td>\n",
       "      <td>272.0</td>\n",
       "    </tr>\n",
       "    <tr>\n",
       "      <th>1063517</th>\n",
       "      <td>1.968680e+09</td>\n",
       "      <td>3</td>\n",
       "      <td>0 days 00:01:00.500000</td>\n",
       "      <td>77.0</td>\n",
       "      <td>6.0</td>\n",
       "    </tr>\n",
       "  </tbody>\n",
       "</table>\n",
       "<p>9150 rows × 5 columns</p>\n",
       "</div>"
      ],
      "text/plain": [
       "           profile_id  ctscount average_time_between_posts  following  \\\n",
       "1039291  1.823732e+09         2            0 days 00:00:00     1009.0   \n",
       "1951819  1.036093e+10         2            0 days 00:00:00     5115.0   \n",
       "59496    8.801686e+06         2            0 days 00:00:00     1572.0   \n",
       "1617198  6.324740e+09         2            0 days 00:00:00     1377.0   \n",
       "1900802  9.197905e+09         2            0 days 00:00:00       30.0   \n",
       "...               ...       ...                        ...        ...   \n",
       "1903288  9.224064e+09        12  0 days 00:01:00.454545454      816.0   \n",
       "1245612  3.141811e+09        12  0 days 00:01:00.454545454      832.0   \n",
       "1834052  8.542995e+09         7     0 days 00:01:00.500000      160.0   \n",
       "1772639  8.028836e+09         3     0 days 00:01:00.500000     1196.0   \n",
       "1063517  1.968680e+09         3     0 days 00:01:00.500000       77.0   \n",
       "\n",
       "         followers  \n",
       "1039291       30.0  \n",
       "1951819      149.0  \n",
       "59496        705.0  \n",
       "1617198      288.0  \n",
       "1900802       37.0  \n",
       "...            ...  \n",
       "1903288       50.0  \n",
       "1245612       92.0  \n",
       "1834052      112.0  \n",
       "1772639      272.0  \n",
       "1063517        6.0  \n",
       "\n",
       "[9150 rows x 5 columns]"
      ]
     },
     "execution_count": 114,
     "metadata": {},
     "output_type": "execute_result"
    }
   ],
   "source": [
    "warnings.filterwarnings(\"ignore\")\n",
    "average_times = data_grouped.iloc[: , [2,3]]\n",
    "mean_times_followings_followers = pd.merge(average_times, df_profiles_RQ4, on='profile_id')\n",
    "mean_times_followings_followers.rename(columns=''.join, inplace=True)\n",
    "mean_times_followings_followers = mean_times_followings_followers.dropna()\n",
    "mean_times_followings_followers.sort_values(by = 'average_time_between_posts' , ascending = True).head(9150)"
   ]
  },
  {
   "cell_type": "markdown",
   "id": "a045615c-ce48-427f-8f24-15da74ac26a1",
   "metadata": {},
   "source": [
    "* Then, we extract the top 3 users by less average_time_between_posts, with their respective followings and followers."
   ]
  },
  {
   "cell_type": "code",
   "execution_count": 108,
   "id": "b7f3cfb5-d1ea-4e67-9508-604d251f52fe",
   "metadata": {},
   "outputs": [
    {
     "data": {
      "text/html": [
       "<div>\n",
       "<style scoped>\n",
       "    .dataframe tbody tr th:only-of-type {\n",
       "        vertical-align: middle;\n",
       "    }\n",
       "\n",
       "    .dataframe tbody tr th {\n",
       "        vertical-align: top;\n",
       "    }\n",
       "\n",
       "    .dataframe thead th {\n",
       "        text-align: right;\n",
       "    }\n",
       "</style>\n",
       "<table border=\"1\" class=\"dataframe\">\n",
       "  <thead>\n",
       "    <tr style=\"text-align: right;\">\n",
       "      <th></th>\n",
       "      <th>profile_id</th>\n",
       "      <th>ctscount</th>\n",
       "      <th>average_time_between_posts</th>\n",
       "      <th>following</th>\n",
       "      <th>followers</th>\n",
       "    </tr>\n",
       "  </thead>\n",
       "  <tbody>\n",
       "    <tr>\n",
       "      <th>1039291</th>\n",
       "      <td>1.823732e+09</td>\n",
       "      <td>2</td>\n",
       "      <td>0</td>\n",
       "      <td>1009.0</td>\n",
       "      <td>30.0</td>\n",
       "    </tr>\n",
       "    <tr>\n",
       "      <th>1951819</th>\n",
       "      <td>1.036093e+10</td>\n",
       "      <td>2</td>\n",
       "      <td>0</td>\n",
       "      <td>5115.0</td>\n",
       "      <td>149.0</td>\n",
       "    </tr>\n",
       "    <tr>\n",
       "      <th>59496</th>\n",
       "      <td>8.801686e+06</td>\n",
       "      <td>2</td>\n",
       "      <td>0</td>\n",
       "      <td>1572.0</td>\n",
       "      <td>705.0</td>\n",
       "    </tr>\n",
       "  </tbody>\n",
       "</table>\n",
       "</div>"
      ],
      "text/plain": [
       "           profile_id  ctscount  average_time_between_posts  following  \\\n",
       "1039291  1.823732e+09         2                           0     1009.0   \n",
       "1951819  1.036093e+10         2                           0     5115.0   \n",
       "59496    8.801686e+06         2                           0     1572.0   \n",
       "\n",
       "         followers  \n",
       "1039291       30.0  \n",
       "1951819      149.0  \n",
       "59496        705.0  "
      ]
     },
     "execution_count": 108,
     "metadata": {},
     "output_type": "execute_result"
    }
   ],
   "source": [
    "top_3_most_freq = mean_times_followings_followers.sort_values(by = 'average_time_between_posts' , ascending = True).head(3)\n",
    "top_3_most_freq.average_time_between_posts = pd.to_numeric(top_3_most_freq.average_time_between_posts)\n",
    "top_3_most_freq"
   ]
  },
  {
   "cell_type": "markdown",
   "id": "84b90cc2-ecfd-42ae-9448-9875abfaf233",
   "metadata": {},
   "source": [
    "* The top 3 most-frequent posters have an </b>average time between posts</b> of <b>0</b>. This means that they have posted all their posts at the same time, which intuitevely makes no sense. As a matter of fact, up to the 9150 most-frequent posters have an average time between posts of <b>less than a minute</b>, and from there, we can observe in the sorted data a progressive and very <b>smooth increase in the average time</b>. Therefore, as there are not \"sudden\" shifts in the average time right after those users with 0 time, we can't just ommit those profiles for the analysis and \"jump\" to the next ones.\n",
    "* Moreover, as both the followings and the followers don't follow any clear pattern of behaviour among the three users, we conclude that <b>we can't obtain any insighful information from this chart</b>."
   ]
  },
  {
   "cell_type": "code",
   "execution_count": 109,
   "id": "0642d4a5-cd94-41e7-b5e2-db1482c44880",
   "metadata": {},
   "outputs": [
    {
     "data": {
      "text/plain": [
       "<AxesSubplot:xlabel='average_time_between_posts', ylabel='followers'>"
      ]
     },
     "execution_count": 109,
     "metadata": {},
     "output_type": "execute_result"
    },
    {
     "data": {
      "image/png": "[encoded data removed]",
      "text/plain": [
       "<Figure size 432x288 with 1 Axes>"
      ]
     },
     "metadata": {
      "needs_background": "light"
     },
     "output_type": "display_data"
    }
   ],
   "source": [
    "sns.scatterplot(data = top_3_most_freq , x=\"average_time_between_posts\" , y= \"followers\", hue = \"following\",legend = \"full\")"
   ]
  },
  {
   "cell_type": "markdown",
   "id": "6036a53e-9b16-47f7-b14e-eb1dc303111c",
   "metadata": {},
   "source": [
    "<b>6.2</b> Using the function you previously coded, plot the time intervals with the highest average number of “likes” and the ones with the highest average number of comments on posts."
   ]
  },
  {
   "cell_type": "markdown",
   "id": "80184374-bf2f-42ac-a563-3db01b2e78cb",
   "metadata": {},
   "source": [
    "* In order to obtain the average likes and comments, we can use the previously coded function, but adjusting the operation performed over each time interval, in this case we need the mean() instead of the len()."
   ]
  },
  {
   "cell_type": "code",
   "execution_count": 127,
   "id": "178b8914-1a3a-47d9-ae72-1b61c80f88a2",
   "metadata": {},
   "outputs": [],
   "source": [
    "slots = [(6, 10), (11, 13), (14, 16), (17, 19), (20, 23), (0, 2), (3, 5)]\n",
    "\n",
    "def time_intervals_avg(data, time, time_intervals_list, keyword):\n",
    "    \n",
    "    time_results = {}\n",
    "    for slot in time_intervals_list:\n",
    "        result = (data[(time >= slot[0]) & (time < slot[1])]).mean() #there is a mean instead of a count\n",
    "        time_results[str(slot)] = result\n",
    "    \n",
    "    plt.bar(list(time_results.keys()), time_results.values(), color = 'blue', ec = 'black', width = 0.8)\n",
    "    plt.xlabel(\"time slots\", labelpad = 14)\n",
    "    plt.ylabel(keyword, labelpad = 14)\n",
    "    plt.title(print(\"The total number of\", keyword, \"for each given interval\"), y = 1.05)\n",
    "    plt.show() "
   ]
  },
  {
   "cell_type": "markdown",
   "id": "794cdef3-43f1-40fa-bb49-9c7c6340d333",
   "metadata": {},
   "source": [
    "* We can observe similar outputs in both average likes and comments barplots, and also not big differences among the time intervals, in both cases. \n",
    "* As shown in both barplots, from 17h to 19h is when people interact more with other users. We interpret that at these time interval, most people are conducting their <b>last hours of their working or studying obligations</b>, therefore they are <b>more inclined to check social media and interact with other users</b>. This can be related with our extracted insights from RQ4.4: from 20-23 users posts the mosts, because <b>most users are already enjoying their free time</b> and <b>have the time to post</b>, which usually takes more time than just interacting (liking and commenting other users' posts)."
   ]
  },
  {
   "cell_type": "code",
   "execution_count": 129,
   "id": "05976d9d-a2fd-442b-8359-9cc01f18b8b6",
   "metadata": {},
   "outputs": [
    {
     "name": "stdout",
     "output_type": "stream",
     "text": [
      "The total number of likes for each given interval\n"
     ]
    },
    {
     "data": {
      "image/png": "[encoded data removed]",
      "text/plain": [
       "<Figure size 432x288 with 1 Axes>"
      ]
     },
     "metadata": {
      "needs_background": "light"
     },
     "output_type": "display_data"
    },
    {
     "name": "stdout",
     "output_type": "stream",
     "text": [
      "The total number of comments for each given interval\n"
     ]
    },
    {
     "data": {
      "image/png": "[encoded data removed]",
      "text/plain": [
       "<Figure size 432x288 with 1 Axes>"
      ]
     },
     "metadata": {
      "needs_background": "light"
     },
     "output_type": "display_data"
    }
   ],
   "source": [
    "time_intervals_avg(df_posts_RQ4.numbr_likes.values, df_posts_RQ4.hour, slots , \"likes\")\n",
    "time_intervals_avg(df_posts_RQ4.number_comments, df_posts_RQ4.hour, slots, \"comments\")"
   ]
  }
 ],
 "metadata": {
  "kernelspec": {
   "display_name": "Python 3",
   "language": "python",
   "name": "python3"
  },
  "language_info": {
   "codemirror_mode": {
    "name": "ipython",
    "version": 3
   },
   "file_extension": ".py",
   "mimetype": "text/x-python",
   "name": "python",
   "nbconvert_exporter": "python",
   "pygments_lexer": "ipython3",
   "version": "3.8.8"
  }
 },
 "nbformat": 4,
 "nbformat_minor": 5
}
