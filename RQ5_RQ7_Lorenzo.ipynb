{
 "cells": [
  {
   "cell_type": "markdown",
   "id": "13acb0cc",
   "metadata": {},
   "source": [
    "5.[RQ5] The most influential users are the ones with the highest number of “followers\", you can now look more into their activity.\n"
   ]
  },
  {
   "cell_type": "code",
   "execution_count": 2,
   "id": "d0398c99",
   "metadata": {},
   "outputs": [],
   "source": [
    "import numpy as np\n",
    "import pandas as pd\n",
    "import matplotlib.pyplot as plt"
   ]
  },
  {
   "cell_type": "code",
   "execution_count": 3,
   "id": "5ab9029b",
   "metadata": {},
   "outputs": [],
   "source": [
    "# posts dataset\n",
    "fields=['profile_id','location_id','post_type','numbr_likes','number_comments']\n",
    "dpost=pd.read_csv('~/instagram_posts.csv',sep='\\t',usecols=fields)"
   ]
  },
  {
   "cell_type": "code",
   "execution_count": 4,
   "id": "2c2ef294",
   "metadata": {},
   "outputs": [],
   "source": [
    "#profiles dataset\n",
    "dp = pd.read_csv('https://adm2022.s3.amazonaws.com/instagram_profiles.zip', delimiter='\\t')"
   ]
  },
  {
   "cell_type": "code",
   "execution_count": 5,
   "id": "9866a40d",
   "metadata": {},
   "outputs": [],
   "source": [
    "#locations dataset\n",
    "dloc = pd.read_csv('https://adm2022.s3.amazonaws.com/instagram_locations.zip', delimiter='\\t')"
   ]
  },
  {
   "cell_type": "markdown",
   "id": "10bb477c",
   "metadata": {},
   "source": [
    "\n",
    "1) Plot the top 10 most popular users in terms of followers and their number of posts.\n"
   ]
  },
  {
   "cell_type": "code",
   "execution_count": 23,
   "id": "9ca02658",
   "metadata": {},
   "outputs": [
    {
     "data": {
      "text/plain": [
       "2880218    285457645.0\n",
       "2582507     65269440.0\n",
       "3820939     35339708.0\n",
       "701965      30689316.0\n",
       "2414951     30246783.0\n",
       "2785241     29542143.0\n",
       "333193      29176804.0\n",
       "3934581     29042823.0\n",
       "1311970     26476004.0\n",
       "1703764     26252169.0\n",
       "Name: followers, dtype: float64"
      ]
     },
     "execution_count": 23,
     "metadata": {},
     "output_type": "execute_result"
    }
   ],
   "source": [
    "followers=dp['followers']\n",
    "followers.nlargest(10)"
   ]
  },
  {
   "cell_type": "code",
   "execution_count": 7,
   "id": "154cbcfb",
   "metadata": {},
   "outputs": [
    {
     "data": {
      "text/html": [
       "<div>\n",
       "<style scoped>\n",
       "    .dataframe tbody tr th:only-of-type {\n",
       "        vertical-align: middle;\n",
       "    }\n",
       "\n",
       "    .dataframe tbody tr th {\n",
       "        vertical-align: top;\n",
       "    }\n",
       "\n",
       "    .dataframe thead th {\n",
       "        text-align: right;\n",
       "    }\n",
       "</style>\n",
       "<table border=\"1\" class=\"dataframe\">\n",
       "  <thead>\n",
       "    <tr style=\"text-align: right;\">\n",
       "      <th></th>\n",
       "      <th>sid</th>\n",
       "      <th>profile_id</th>\n",
       "      <th>profile_name</th>\n",
       "      <th>firstname_lastname</th>\n",
       "      <th>description</th>\n",
       "      <th>following</th>\n",
       "      <th>followers</th>\n",
       "      <th>n_posts</th>\n",
       "      <th>url</th>\n",
       "      <th>cts</th>\n",
       "      <th>is_business_account</th>\n",
       "    </tr>\n",
       "  </thead>\n",
       "  <tbody>\n",
       "    <tr>\n",
       "      <th>2880218</th>\n",
       "      <td>336492</td>\n",
       "      <td>2.502532e+07</td>\n",
       "      <td>instagram</td>\n",
       "      <td>Instagram</td>\n",
       "      <td>Bringing you closer to the people and things y...</td>\n",
       "      <td>226.0</td>\n",
       "      <td>285457645.0</td>\n",
       "      <td>5760.0</td>\n",
       "      <td>help.instagram.com</td>\n",
       "      <td>NaN</td>\n",
       "      <td>False</td>\n",
       "    </tr>\n",
       "    <tr>\n",
       "      <th>2582507</th>\n",
       "      <td>371414</td>\n",
       "      <td>3.416684e+06</td>\n",
       "      <td>victoriassecret</td>\n",
       "      <td>Victoria's Secret</td>\n",
       "      <td>Confidence is sexy. #wearitdaily</td>\n",
       "      <td>549.0</td>\n",
       "      <td>65269440.0</td>\n",
       "      <td>7355.0</td>\n",
       "      <td>like2b.uy/victoriassecret</td>\n",
       "      <td>NaN</td>\n",
       "      <td>True</td>\n",
       "    </tr>\n",
       "    <tr>\n",
       "      <th>3820939</th>\n",
       "      <td>337097</td>\n",
       "      <td>2.082449e+07</td>\n",
       "      <td>nba</td>\n",
       "      <td>NBA</td>\n",
       "      <td>30 teams, 1 🏆\\n👟: @nbakicks \\n📽: @nbahistory \\...</td>\n",
       "      <td>817.0</td>\n",
       "      <td>35339708.0</td>\n",
       "      <td>28816.0</td>\n",
       "      <td>nba.app.link/js6X7SVaxT</td>\n",
       "      <td>NaN</td>\n",
       "      <td>True</td>\n",
       "    </tr>\n",
       "    <tr>\n",
       "      <th>701965</th>\n",
       "      <td>330376</td>\n",
       "      <td>1.876191e+08</td>\n",
       "      <td>louisvuitton</td>\n",
       "      <td>Louis Vuitton Official</td>\n",
       "      <td>The official Instagram account of Louis Vuitton.</td>\n",
       "      <td>5.0</td>\n",
       "      <td>30689316.0</td>\n",
       "      <td>3352.0</td>\n",
       "      <td>on.louisvuitton.com/Like2Buy</td>\n",
       "      <td>NaN</td>\n",
       "      <td>True</td>\n",
       "    </tr>\n",
       "    <tr>\n",
       "      <th>2414951</th>\n",
       "      <td>292359</td>\n",
       "      <td>2.125507e+09</td>\n",
       "      <td>buzzfeedtasty</td>\n",
       "      <td>Tasty</td>\n",
       "      <td>Recipes that will make you say \"oh yes!\"\\n👇 Cl...</td>\n",
       "      <td>298.0</td>\n",
       "      <td>30246783.0</td>\n",
       "      <td>2791.0</td>\n",
       "      <td>tasty.co/linkinbio</td>\n",
       "      <td>NaN</td>\n",
       "      <td>True</td>\n",
       "    </tr>\n",
       "    <tr>\n",
       "      <th>2785241</th>\n",
       "      <td>3437294</td>\n",
       "      <td>4.968651e+08</td>\n",
       "      <td>andresiniesta8</td>\n",
       "      <td>Andres Iniesta</td>\n",
       "      <td>Andres Iniesta Official Instagram Account, \\nB...</td>\n",
       "      <td>151.0</td>\n",
       "      <td>29542143.0</td>\n",
       "      <td>990.0</td>\n",
       "      <td>mikakus.com</td>\n",
       "      <td>2019-05-08 23:54:35.377 -0400</td>\n",
       "      <td>False</td>\n",
       "    </tr>\n",
       "    <tr>\n",
       "      <th>333193</th>\n",
       "      <td>158690</td>\n",
       "      <td>2.341008e+07</td>\n",
       "      <td>hm</td>\n",
       "      <td>H&amp;M</td>\n",
       "      <td>Welcome to #HM! Follow us at @HM_Man @HM_Kids ...</td>\n",
       "      <td>403.0</td>\n",
       "      <td>29176804.0</td>\n",
       "      <td>4566.0</td>\n",
       "      <td>hm.info/1c9he</td>\n",
       "      <td>2018-05-31 19:33:46.022 -0400</td>\n",
       "      <td>True</td>\n",
       "    </tr>\n",
       "    <tr>\n",
       "      <th>3934581</th>\n",
       "      <td>3615154</td>\n",
       "      <td>2.423993e+07</td>\n",
       "      <td>princessyahrini</td>\n",
       "      <td>Syahrini</td>\n",
       "      <td>NaN</td>\n",
       "      <td>835.0</td>\n",
       "      <td>29042823.0</td>\n",
       "      <td>4719.0</td>\n",
       "      <td>www.youtube.com/c/ThePrincesSyahrini</td>\n",
       "      <td>2019-06-26 15:05:53.411 -0400</td>\n",
       "      <td>True</td>\n",
       "    </tr>\n",
       "    <tr>\n",
       "      <th>1311970</th>\n",
       "      <td>508140</td>\n",
       "      <td>5.041706e+07</td>\n",
       "      <td>danbilzerian</td>\n",
       "      <td>Dan Bilzerian</td>\n",
       "      <td>Snapchat: dbilzerian</td>\n",
       "      <td>252.0</td>\n",
       "      <td>26476004.0</td>\n",
       "      <td>1311.0</td>\n",
       "      <td>www.ignite.co</td>\n",
       "      <td>NaN</td>\n",
       "      <td>True</td>\n",
       "    </tr>\n",
       "    <tr>\n",
       "      <th>1703764</th>\n",
       "      <td>3513205</td>\n",
       "      <td>9.070254e+08</td>\n",
       "      <td>akshaykumar</td>\n",
       "      <td>Akshay Kumar</td>\n",
       "      <td>#AkshayKumar</td>\n",
       "      <td>5.0</td>\n",
       "      <td>26252169.0</td>\n",
       "      <td>1173.0</td>\n",
       "      <td>bit.ly/AliAliBlank</td>\n",
       "      <td>2019-05-14 08:29:29.754 -0400</td>\n",
       "      <td>False</td>\n",
       "    </tr>\n",
       "  </tbody>\n",
       "</table>\n",
       "</div>"
      ],
      "text/plain": [
       "             sid    profile_id     profile_name      firstname_lastname  \\\n",
       "2880218   336492  2.502532e+07        instagram               Instagram   \n",
       "2582507   371414  3.416684e+06  victoriassecret       Victoria's Secret   \n",
       "3820939   337097  2.082449e+07              nba                     NBA   \n",
       "701965    330376  1.876191e+08     louisvuitton  Louis Vuitton Official   \n",
       "2414951   292359  2.125507e+09    buzzfeedtasty                   Tasty   \n",
       "2785241  3437294  4.968651e+08   andresiniesta8          Andres Iniesta   \n",
       "333193    158690  2.341008e+07               hm                     H&M   \n",
       "3934581  3615154  2.423993e+07  princessyahrini                Syahrini   \n",
       "1311970   508140  5.041706e+07     danbilzerian           Dan Bilzerian   \n",
       "1703764  3513205  9.070254e+08      akshaykumar            Akshay Kumar   \n",
       "\n",
       "                                               description  following  \\\n",
       "2880218  Bringing you closer to the people and things y...      226.0   \n",
       "2582507                   Confidence is sexy. #wearitdaily      549.0   \n",
       "3820939  30 teams, 1 🏆\\n👟: @nbakicks \\n📽: @nbahistory \\...      817.0   \n",
       "701965    The official Instagram account of Louis Vuitton.        5.0   \n",
       "2414951  Recipes that will make you say \"oh yes!\"\\n👇 Cl...      298.0   \n",
       "2785241  Andres Iniesta Official Instagram Account, \\nB...      151.0   \n",
       "333193   Welcome to #HM! Follow us at @HM_Man @HM_Kids ...      403.0   \n",
       "3934581                                                NaN      835.0   \n",
       "1311970                               Snapchat: dbilzerian      252.0   \n",
       "1703764                                       #AkshayKumar        5.0   \n",
       "\n",
       "           followers  n_posts                                   url  \\\n",
       "2880218  285457645.0   5760.0                    help.instagram.com   \n",
       "2582507   65269440.0   7355.0             like2b.uy/victoriassecret   \n",
       "3820939   35339708.0  28816.0               nba.app.link/js6X7SVaxT   \n",
       "701965    30689316.0   3352.0          on.louisvuitton.com/Like2Buy   \n",
       "2414951   30246783.0   2791.0                    tasty.co/linkinbio   \n",
       "2785241   29542143.0    990.0                           mikakus.com   \n",
       "333193    29176804.0   4566.0                         hm.info/1c9he   \n",
       "3934581   29042823.0   4719.0  www.youtube.com/c/ThePrincesSyahrini   \n",
       "1311970   26476004.0   1311.0                         www.ignite.co   \n",
       "1703764   26252169.0   1173.0                    bit.ly/AliAliBlank   \n",
       "\n",
       "                                   cts is_business_account  \n",
       "2880218                            NaN               False  \n",
       "2582507                            NaN                True  \n",
       "3820939                            NaN                True  \n",
       "701965                             NaN                True  \n",
       "2414951                            NaN                True  \n",
       "2785241  2019-05-08 23:54:35.377 -0400               False  \n",
       "333193   2018-05-31 19:33:46.022 -0400                True  \n",
       "3934581  2019-06-26 15:05:53.411 -0400                True  \n",
       "1311970                            NaN                True  \n",
       "1703764  2019-05-14 08:29:29.754 -0400               False  "
      ]
     },
     "execution_count": 7,
     "metadata": {},
     "output_type": "execute_result"
    }
   ],
   "source": [
    "#top10 profiles by followers\n",
    "top10=dp[dp.followers >= 26252169.0]\n",
    "top10.sort_values(['followers'],ascending=False)"
   ]
  },
  {
   "cell_type": "code",
   "execution_count": 24,
   "id": "5f1b2148",
   "metadata": {},
   "outputs": [
    {
     "data": {
      "image/png": "[encoded data removed]",
      "text/plain": [
       "<Figure size 432x288 with 1 Axes>"
      ]
     },
     "metadata": {
      "needs_background": "light"
     },
     "output_type": "display_data"
    }
   ],
   "source": [
    "fig = plt.figure()\n",
    "ax = fig.add_axes([0,0,2,2])\n",
    "profiles = list(top10['profile_name'])\n",
    "nfollows = list(top10['followers'])\n",
    "ax.bar(profiles,nfollows,width=1, edgecolor=\"white\", linewidth=5,color='purple')\n",
    "plt.xlabel('Followers',labelpad=10)\n",
    "plt.ylabel('',labelpad=10)\n",
    "plt.title('Count of Followers')\n",
    "plt.show()"
   ]
  },
  {
   "cell_type": "markdown",
   "id": "7b1e0eb8",
   "metadata": {},
   "source": [
    "2) Who is the most influential user?\n"
   ]
  },
  {
   "cell_type": "code",
   "execution_count": 24,
   "id": "a5def5c4",
   "metadata": {},
   "outputs": [
    {
     "data": {
      "text/html": [
       "<div>\n",
       "<style scoped>\n",
       "    .dataframe tbody tr th:only-of-type {\n",
       "        vertical-align: middle;\n",
       "    }\n",
       "\n",
       "    .dataframe tbody tr th {\n",
       "        vertical-align: top;\n",
       "    }\n",
       "\n",
       "    .dataframe thead th {\n",
       "        text-align: right;\n",
       "    }\n",
       "</style>\n",
       "<table border=\"1\" class=\"dataframe\">\n",
       "  <thead>\n",
       "    <tr style=\"text-align: right;\">\n",
       "      <th></th>\n",
       "      <th>sid</th>\n",
       "      <th>profile_id</th>\n",
       "      <th>profile_name</th>\n",
       "      <th>firstname_lastname</th>\n",
       "      <th>description</th>\n",
       "      <th>following</th>\n",
       "      <th>followers</th>\n",
       "      <th>n_posts</th>\n",
       "      <th>url</th>\n",
       "      <th>cts</th>\n",
       "      <th>is_business_account</th>\n",
       "    </tr>\n",
       "  </thead>\n",
       "  <tbody>\n",
       "    <tr>\n",
       "      <th>2880218</th>\n",
       "      <td>336492</td>\n",
       "      <td>25025320.0</td>\n",
       "      <td>instagram</td>\n",
       "      <td>Instagram</td>\n",
       "      <td>Bringing you closer to the people and things y...</td>\n",
       "      <td>226.0</td>\n",
       "      <td>285457645.0</td>\n",
       "      <td>5760.0</td>\n",
       "      <td>help.instagram.com</td>\n",
       "      <td>NaN</td>\n",
       "      <td>False</td>\n",
       "    </tr>\n",
       "  </tbody>\n",
       "</table>\n",
       "</div>"
      ],
      "text/plain": [
       "            sid  profile_id profile_name firstname_lastname  \\\n",
       "2880218  336492  25025320.0    instagram          Instagram   \n",
       "\n",
       "                                               description  following  \\\n",
       "2880218  Bringing you closer to the people and things y...      226.0   \n",
       "\n",
       "           followers  n_posts                 url  cts is_business_account  \n",
       "2880218  285457645.0   5760.0  help.instagram.com  NaN               False  "
      ]
     },
     "execution_count": 24,
     "metadata": {},
     "output_type": "execute_result"
    }
   ],
   "source": [
    "#most influential user\n",
    "dp[dp.followers == 285457645.0] "
   ]
  },
  {
   "cell_type": "markdown",
   "id": "71e0ef01",
   "metadata": {},
   "source": [
    "The most influential user is Instagram\n"
   ]
  },
  {
   "cell_type": "markdown",
   "id": "b9185759",
   "metadata": {},
   "source": [
    "3) Have they posted anything with tagged locations? Extract the most frequent areas on their posts and plot the number of times each city has been visited."
   ]
  },
  {
   "cell_type": "code",
   "execution_count": 9,
   "id": "ef519af2",
   "metadata": {},
   "outputs": [
    {
     "name": "stdout",
     "output_type": "stream",
     "text": [
      "      profile_id   location_id  post_type  numbr_likes  number_comments\n",
      "0     23410080.0  3.846191e+08          1     116059.0            642.0\n",
      "1     23410080.0  2.293029e+08          1      46368.0             88.0\n",
      "2    187619120.0  5.590714e+06          1     186857.0            867.0\n",
      "3     50417061.0  2.222444e+08          1     266200.0           3290.0\n",
      "4     50417061.0  2.368281e+08          1     268732.0           6402.0\n",
      "..           ...           ...        ...          ...              ...\n",
      "136   24239929.0  2.130118e+08          1      55010.0              0.0\n",
      "137   24239929.0  2.130118e+08          1     114315.0              0.0\n",
      "138   24239929.0  2.130118e+08          1      78974.0              0.0\n",
      "139   24239929.0  1.906910e+15          1     132116.0              0.0\n",
      "140   24239929.0  1.906910e+15          1      66185.0              0.0\n",
      "\n",
      "[141 rows x 5 columns]\n"
     ]
    }
   ],
   "source": [
    "#a dataframe containing all the posts by the top 10 most influential users\n",
    "y=pd.DataFrame(columns=['profile_id'])\n",
    "for i in [23410080.0,\n",
    " 187619120.0,\n",
    " 50417061.0,\n",
    " 907025384.0,\n",
    " 2125506698.0,\n",
    " 3416684.0,\n",
    " 496865116.0,\n",
    " 25025320.0,\n",
    " 20824486.0,\n",
    " 24239929.0]:\n",
    "    x=dpost[dpost['profile_id']==int(i)]\n",
    "    y=pd.merge(y,x,how='outer')\n",
    "print(y)"
   ]
  },
  {
   "cell_type": "code",
   "execution_count": 42,
   "id": "6953c2ea",
   "metadata": {},
   "outputs": [
    {
     "data": {
      "text/plain": [
       "0             384619115.000000\n",
       "1             229302869.000000\n",
       "2               5590714.000000\n",
       "3             222244450.000000\n",
       "4             236828105.000000\n",
       "                ...           \n",
       "136           213011753.000000\n",
       "137           213011753.000000\n",
       "138           213011753.000000\n",
       "139    1906910439594849.000000\n",
       "140    1906910439594849.000000\n",
       "Name: location_id, Length: 141, dtype: object"
      ]
     },
     "execution_count": 42,
     "metadata": {},
     "output_type": "execute_result"
    }
   ],
   "source": [
    "loc_id= y['location_id']\n",
    "loc_id.apply(lambda x: format(x, 'f'))"
   ]
  },
  {
   "cell_type": "code",
   "execution_count": 47,
   "id": "60c8cd96",
   "metadata": {},
   "outputs": [],
   "source": [
    "cc=[i for i in loc_id]\n",
    "ac=pd.DataFrame(columns=['sid','name','city'])\n",
    "\n",
    "\n",
    "#dataframe containing all the locations tagged by the top10 users\n",
    "\n",
    "for i in range(len(dloc)):\n",
    "    if dloc['id'][i] in cc:\n",
    "        x=dloc[dloc.id == dloc['id'][i]]\n",
    "        ac=pd.merge(ac,x,how='outer')"
   ]
  },
  {
   "cell_type": "code",
   "execution_count": 48,
   "id": "7b3d89f7",
   "metadata": {},
   "outputs": [],
   "source": [
    "acg=ac.groupby(['city'])['city'].count()"
   ]
  },
  {
   "cell_type": "code",
   "execution_count": 49,
   "id": "40fca744",
   "metadata": {},
   "outputs": [
    {
     "data": {
      "text/plain": [
       "city\n",
       "Adelaide, South Australia             1\n",
       "Akron, Ohio                           1\n",
       "Amphoe Pak Chong                      1\n",
       "Amsterdam, Netherlands                3\n",
       "Bad Urach                             1\n",
       "Barcelona, Spain                      1\n",
       "Bel Air, Los Angeles                  1\n",
       "Blangpidi, Aceh, Indonesia            1\n",
       "Boulder City, Nevada                  1\n",
       "Chawton                               1\n",
       "Chicago, Illinois                     1\n",
       "Crystal Falls, Michigan               1\n",
       "Cusco, Peru                           1\n",
       "Dallas, Texas                         1\n",
       "Detroit, Michigan                     1\n",
       "Eastwick, Pennsylvania                1\n",
       "Forres                                1\n",
       "Hackney, Hackney, United Kingdom      1\n",
       "Hadleigh, Essex                       1\n",
       "Herne Bay, Kent                       1\n",
       "Hong Kong                             1\n",
       "Houston, Texas                        3\n",
       "Jakarta, Indonesia                    1\n",
       "Kirkkonummi                           1\n",
       "Kobe-shi, Hyogo, Japan                1\n",
       "Kosciuszko                            1\n",
       "Kowloon, Hong Kong                    1\n",
       "Krian, Jawa Timur, Indonesia          1\n",
       "La Madrague, Alger, Algeria           1\n",
       "Las Vegas, Nevada                     2\n",
       "Lodi, California                      1\n",
       "Loftus, New South Wales, Australia    1\n",
       "London, United Kingdom                3\n",
       "Lontar, Jawa Timur, Indonesia         1\n",
       "Los Angeles, California               4\n",
       "McLean, Virginia                      1\n",
       "Memphis, Tennessee                    1\n",
       "Milwaukee, Wisconsin                  1\n",
       "New York, New York                    9\n",
       "Novi Sad, Serbia                      1\n",
       "Oakland, California                   1\n",
       "Ota-shi, Gunma, Japan                 1\n",
       "Parks, Arizona                        1\n",
       "Peñablanca, Cagayan                   1\n",
       "Philadelphia, Pennsylvania            1\n",
       "Pierson, Michigan                     1\n",
       "Pune, Maharashtra                     1\n",
       "Pôrto São José, Parana, Brazil        1\n",
       "San Francisco, California             1\n",
       "Santa Barbara, California             1\n",
       "Name: city, dtype: int64"
      ]
     },
     "execution_count": 49,
     "metadata": {},
     "output_type": "execute_result"
    }
   ],
   "source": [
    "acg[:50]\n"
   ]
  },
  {
   "cell_type": "code",
   "execution_count": 50,
   "id": "ce406e71",
   "metadata": {},
   "outputs": [
    {
     "data": {
      "text/plain": [
       "city\n",
       "Santa Monica, California      1\n",
       "Shanghai, China               2\n",
       "Singapore                     4\n",
       "Springfield, Massachusetts    1\n",
       "Stony Plain, Alberta          1\n",
       "Sydney, Australia             1\n",
       "Toronto, Ontario              1\n",
       "Tulum, Quintana Roo           1\n",
       "Vail, Colorado                1\n",
       "Vaitape, French Polynesia     1\n",
       "Valencia                      1\n",
       "Valley Park, Missouri         1\n",
       "Xiandu, Zhejiang, China       1\n",
       "Name: city, dtype: int64"
      ]
     },
     "execution_count": 50,
     "metadata": {},
     "output_type": "execute_result"
    }
   ],
   "source": [
    "acg[50:]"
   ]
  },
  {
   "cell_type": "code",
   "execution_count": 51,
   "id": "1b5e31b6",
   "metadata": {},
   "outputs": [],
   "source": [
    "freq=list(acg)\n",
    "dd=[]\n",
    "for i in freq:\n",
    "    if i != 1:\n",
    "        dd.append(i)\n",
    "city=['Amsterdam, Netherlands','Houston, Texas','Las Vegas, Nevada','London, United Kingdom','Los Angeles, California ','New York, New York','Shanghai, China','Singapore']"
   ]
  },
  {
   "cell_type": "markdown",
   "id": "ad4c7142",
   "metadata": {},
   "source": [
    "In the following plot we can observe the number of times each city has been tagged by one of the top 10 most influential users of Instagram;\n",
    "Only the cities visited more than one time are plotted."
   ]
  },
  {
   "cell_type": "code",
   "execution_count": 52,
   "id": "275d9162",
   "metadata": {},
   "outputs": [
    {
     "data": {
      "image/png": "[encoded data removed]",
      "text/plain": [
       "<Figure size 432x288 with 1 Axes>"
      ]
     },
     "metadata": {
      "needs_background": "light"
     },
     "output_type": "display_data"
    }
   ],
   "source": [
    "fig = plt.figure()\n",
    "ax = fig.add_axes([0,0,2.5,2])\n",
    "ax.bar(city,dd,width=1, edgecolor=\"white\", linewidth=5,color='purple')\n",
    "plt.xlabel('city',labelpad=10)\n",
    "plt.ylabel('count',labelpad=10)\n",
    "plt.title('Most tagged cities')\n",
    "plt.show()"
   ]
  },
  {
   "cell_type": "markdown",
   "id": "db7decce",
   "metadata": {},
   "source": [
    ".\n",
    "\n",
    "\n",
    "\n",
    "\n",
    "4) How many pictures-only posts have they published? How many reels? (only videos) and how many with both contents? Provide the number as percentages and interpret those figures."
   ]
  },
  {
   "cell_type": "code",
   "execution_count": 53,
   "id": "eaaecf96",
   "metadata": {},
   "outputs": [
    {
     "data": {
      "text/plain": [
       "post_type\n",
       "1    128\n",
       "2     13\n",
       "Name: numbr_likes, dtype: int64"
      ]
     },
     "execution_count": 53,
     "metadata": {},
     "output_type": "execute_result"
    }
   ],
   "source": [
    "#1)How many pictures-only posts have they published?\n",
    "#2)How many reels? (only videos) and \n",
    "#3)how many with both contents? Provide the number as percentages and interpret those figures.\n",
    "y.groupby(['profile_id','post_type'])[\"numbr_likes\"].count()\n",
    "#1) \n",
    "ptype=y.groupby(['post_type'])[\"numbr_likes\"].count()\n",
    "ptype\n"
   ]
  },
  {
   "cell_type": "markdown",
   "id": "c659118c",
   "metadata": {},
   "source": [
    "After applying the 'groupby' function to the dataframe containing the most influential users, we notice that we have 141 posts made by them in our posts dataset; \n",
    "Of these posts, 128 are pictures-only posts, 13 are reel and 0 are with both content."
   ]
  },
  {
   "cell_type": "code",
   "execution_count": 54,
   "id": "9ae5e5c1",
   "metadata": {},
   "outputs": [
    {
     "data": {
      "image/png": "[encoded data removed]",
      "text/plain": [
       "<Figure size 432x288 with 1 Axes>"
      ]
     },
     "metadata": {},
     "output_type": "display_data"
    }
   ],
   "source": [
    "#3) percentages of pictures-only posts, reels and both\n",
    "pic=128/(128+13)\n",
    "reel=13/(128+13)\n",
    "pic*100,reel*100\n",
    "\n",
    "labels = 'pics', 'reels'\n",
    "sizes = [128,13]\n",
    "explode = (0, 0.1)  # only \"explode\" the 2nd slice (i.e. 'Hogs')\n",
    "\n",
    "fig1, ax1 = plt.subplots()\n",
    "ax1.pie(sizes, explode=explode, labels=labels, autopct='%1.1f%%',\n",
    "        shadow=True, startangle=90)\n",
    "ax1.axis('equal')  # Equal aspect ratio ensures that pie is drawn as a circle.\n",
    "\n",
    "plt.show()"
   ]
  },
  {
   "cell_type": "markdown",
   "id": "325edcfe",
   "metadata": {},
   "source": [
    "After observing the plot, we can say that pictures-only posts are the vast majority of the total, being 90.8%, and reels appear approximately once every 10 posts(9.2%)"
   ]
  },
  {
   "cell_type": "markdown",
   "id": "297ba855",
   "metadata": {},
   "source": [
    ".\n",
    "\n",
    "\n",
    "\n",
    "\n",
    "5) How many \"likes\" and comments did posts with only pictures receive? How about videos and mixed posts? Try to provide the average numbers and confront them with their followers amount, explaining what you can say from that comparison."
   ]
  },
  {
   "cell_type": "code",
   "execution_count": 57,
   "id": "541dc7f8",
   "metadata": {},
   "outputs": [
    {
     "data": {
      "text/plain": [
       "post_type\n",
       "1    541294.015625\n",
       "2    266524.153846\n",
       "Name: numbr_likes, dtype: float64"
      ]
     },
     "execution_count": 57,
     "metadata": {},
     "output_type": "execute_result"
    }
   ],
   "source": [
    "#How many \"likes\" and comments did posts with only pictures receive?\n",
    "y.groupby(['post_type'])[\"numbr_likes\"].mean()\n",
    "#How about videos and mixed posts? \n",
    "#Try to provide the average numbers and confront them with their followers amount, explaining what you can say from that comparison."
   ]
  },
  {
   "cell_type": "code",
   "execution_count": 56,
   "id": "172de40b",
   "metadata": {},
   "outputs": [
    {
     "data": {
      "text/plain": [
       "post_type\n",
       "1    3882.914062\n",
       "2    2019.846154\n",
       "Name: number_comments, dtype: float64"
      ]
     },
     "execution_count": 56,
     "metadata": {},
     "output_type": "execute_result"
    }
   ],
   "source": [
    "y.groupby(['post_type'])[\"number_comments\"].mean()"
   ]
  },
  {
   "cell_type": "markdown",
   "id": "7fd3f2c9",
   "metadata": {},
   "source": [
    "We start by analizing the posts made by the top 10 most influencial users.\n",
    "When they post a picture, they get on average 541294 likes and 3883 comments, while when they post reels they get on average 266524.1 likes and 2019.8 comments.\n",
    "Since we don't have datas regarding their mixed posts, we can't say what is the average number of likes and comments for those types of posts."
   ]
  },
  {
   "cell_type": "code",
   "execution_count": 59,
   "id": "af2437ec",
   "metadata": {},
   "outputs": [
    {
     "data": {
      "text/plain": [
       "post_type\n",
       "1    280.659566\n",
       "2    390.781299\n",
       "3    194.758812\n",
       "Name: numbr_likes, dtype: float64"
      ]
     },
     "execution_count": 59,
     "metadata": {},
     "output_type": "execute_result"
    }
   ],
   "source": [
    "dpost.groupby(['post_type'])[\"numbr_likes\"].mean()"
   ]
  },
  {
   "cell_type": "code",
   "execution_count": 58,
   "id": "2f138a7f",
   "metadata": {},
   "outputs": [
    {
     "data": {
      "text/plain": [
       "post_type\n",
       "1     7.498260\n",
       "2    11.179689\n",
       "3     6.701434\n",
       "Name: number_comments, dtype: float64"
      ]
     },
     "execution_count": 58,
     "metadata": {},
     "output_type": "execute_result"
    }
   ],
   "source": [
    "dpost.groupby(['post_type'])[\"number_comments\"].mean()"
   ]
  },
  {
   "cell_type": "markdown",
   "id": "d709724d",
   "metadata": {},
   "source": [
    "If we analize all the users, with any number of followers, we obviously get smaller outputs for average likes and comments. \n",
    "The average number of likes for a picture-only post, considering all the posts we can analize, is 280.6, while for comments is 390.8.\n",
    "For reels, the average likes and comments are 390.8 and 11.2.\n",
    "We can now dispose also of the mixed posts datas, and we observe that they receive an average of 194.7 likes and 6.7 comments.\n",
    "The biggest difference between the most influential users and all the users is that on average they receive more likes and comments on average on only_pictures post, while regular users receive more likes and comments on average on the reels."
   ]
  },
  {
   "cell_type": "markdown",
   "id": "8c004fc5",
   "metadata": {},
   "source": [
    ".\n",
    "\n",
    "\n",
    "\n",
    "\n",
    "\n",
    "7.[RQ7] Of course, calculating probabilities is a job that any Data Scientist must know. So let's compute some engaging figures."
   ]
  },
  {
   "cell_type": "code",
   "execution_count": 6,
   "id": "d64de7ed",
   "metadata": {},
   "outputs": [
    {
     "data": {
      "text/html": [
       "<div>\n",
       "<style scoped>\n",
       "    .dataframe tbody tr th:only-of-type {\n",
       "        vertical-align: middle;\n",
       "    }\n",
       "\n",
       "    .dataframe tbody tr th {\n",
       "        vertical-align: top;\n",
       "    }\n",
       "\n",
       "    .dataframe thead th {\n",
       "        text-align: right;\n",
       "    }\n",
       "</style>\n",
       "<table border=\"1\" class=\"dataframe\">\n",
       "  <thead>\n",
       "    <tr style=\"text-align: right;\">\n",
       "      <th></th>\n",
       "      <th>followers</th>\n",
       "      <th>profile_id</th>\n",
       "    </tr>\n",
       "  </thead>\n",
       "  <tbody>\n",
       "    <tr>\n",
       "      <th>0</th>\n",
       "      <td>146.0</td>\n",
       "      <td>4.721050e+09</td>\n",
       "    </tr>\n",
       "    <tr>\n",
       "      <th>1</th>\n",
       "      <td>1145.0</td>\n",
       "      <td>5.905830e+08</td>\n",
       "    </tr>\n",
       "    <tr>\n",
       "      <th>2</th>\n",
       "      <td>324.0</td>\n",
       "      <td>1.074147e+09</td>\n",
       "    </tr>\n",
       "    <tr>\n",
       "      <th>3</th>\n",
       "      <td>NaN</td>\n",
       "      <td>1.472039e+09</td>\n",
       "    </tr>\n",
       "    <tr>\n",
       "      <th>4</th>\n",
       "      <td>NaN</td>\n",
       "      <td>3.531421e+09</td>\n",
       "    </tr>\n",
       "    <tr>\n",
       "      <th>...</th>\n",
       "      <td>...</td>\n",
       "      <td>...</td>\n",
       "    </tr>\n",
       "    <tr>\n",
       "      <th>4509581</th>\n",
       "      <td>481.0</td>\n",
       "      <td>1.418322e+09</td>\n",
       "    </tr>\n",
       "    <tr>\n",
       "      <th>4509582</th>\n",
       "      <td>NaN</td>\n",
       "      <td>1.340704e+07</td>\n",
       "    </tr>\n",
       "    <tr>\n",
       "      <th>4509583</th>\n",
       "      <td>NaN</td>\n",
       "      <td>6.007354e+09</td>\n",
       "    </tr>\n",
       "    <tr>\n",
       "      <th>4509584</th>\n",
       "      <td>153.0</td>\n",
       "      <td>2.338990e+07</td>\n",
       "    </tr>\n",
       "    <tr>\n",
       "      <th>4509585</th>\n",
       "      <td>NaN</td>\n",
       "      <td>2.088094e+09</td>\n",
       "    </tr>\n",
       "  </tbody>\n",
       "</table>\n",
       "<p>4509586 rows × 2 columns</p>\n",
       "</div>"
      ],
      "text/plain": [
       "         followers    profile_id\n",
       "0            146.0  4.721050e+09\n",
       "1           1145.0  5.905830e+08\n",
       "2            324.0  1.074147e+09\n",
       "3              NaN  1.472039e+09\n",
       "4              NaN  3.531421e+09\n",
       "...            ...           ...\n",
       "4509581      481.0  1.418322e+09\n",
       "4509582        NaN  1.340704e+07\n",
       "4509583        NaN  6.007354e+09\n",
       "4509584      153.0  2.338990e+07\n",
       "4509585        NaN  2.088094e+09\n",
       "\n",
       "[4509586 rows x 2 columns]"
      ]
     },
     "execution_count": 6,
     "metadata": {},
     "output_type": "execute_result"
    }
   ],
   "source": [
    "folid=dp[['followers','profile_id']]\n",
    "folid.dropna(subset=['followers'], inplace=True)"
   ]
  },
  {
   "cell_type": "code",
   "execution_count": 8,
   "id": "3b3adc19",
   "metadata": {},
   "outputs": [
    {
     "data": {
      "text/html": [
       "<div>\n",
       "<style scoped>\n",
       "    .dataframe tbody tr th:only-of-type {\n",
       "        vertical-align: middle;\n",
       "    }\n",
       "\n",
       "    .dataframe tbody tr th {\n",
       "        vertical-align: top;\n",
       "    }\n",
       "\n",
       "    .dataframe thead th {\n",
       "        text-align: right;\n",
       "    }\n",
       "</style>\n",
       "<table border=\"1\" class=\"dataframe\">\n",
       "  <thead>\n",
       "    <tr style=\"text-align: right;\">\n",
       "      <th></th>\n",
       "      <th>profile_id</th>\n",
       "      <th>numbr_likes</th>\n",
       "    </tr>\n",
       "  </thead>\n",
       "  <tbody>\n",
       "    <tr>\n",
       "      <th>0</th>\n",
       "      <td>2.237948e+09</td>\n",
       "      <td>80.0</td>\n",
       "    </tr>\n",
       "    <tr>\n",
       "      <th>1</th>\n",
       "      <td>5.579335e+09</td>\n",
       "      <td>25.0</td>\n",
       "    </tr>\n",
       "    <tr>\n",
       "      <th>2</th>\n",
       "      <td>3.134296e+08</td>\n",
       "      <td>9.0</td>\n",
       "    </tr>\n",
       "    <tr>\n",
       "      <th>3</th>\n",
       "      <td>1.837593e+09</td>\n",
       "      <td>4.0</td>\n",
       "    </tr>\n",
       "    <tr>\n",
       "      <th>4</th>\n",
       "      <td>1.131527e+09</td>\n",
       "      <td>8.0</td>\n",
       "    </tr>\n",
       "    <tr>\n",
       "      <th>...</th>\n",
       "      <td>...</td>\n",
       "      <td>...</td>\n",
       "    </tr>\n",
       "    <tr>\n",
       "      <th>42710192</th>\n",
       "      <td>5.556457e+09</td>\n",
       "      <td>74.0</td>\n",
       "    </tr>\n",
       "    <tr>\n",
       "      <th>42710193</th>\n",
       "      <td>3.371865e+08</td>\n",
       "      <td>49.0</td>\n",
       "    </tr>\n",
       "    <tr>\n",
       "      <th>42710194</th>\n",
       "      <td>3.289886e+09</td>\n",
       "      <td>18.0</td>\n",
       "    </tr>\n",
       "    <tr>\n",
       "      <th>42710195</th>\n",
       "      <td>8.536366e+09</td>\n",
       "      <td>27.0</td>\n",
       "    </tr>\n",
       "    <tr>\n",
       "      <th>42710196</th>\n",
       "      <td>2.219100e+09</td>\n",
       "      <td>1824.0</td>\n",
       "    </tr>\n",
       "  </tbody>\n",
       "</table>\n",
       "<p>42710161 rows × 2 columns</p>\n",
       "</div>"
      ],
      "text/plain": [
       "            profile_id  numbr_likes\n",
       "0         2.237948e+09         80.0\n",
       "1         5.579335e+09         25.0\n",
       "2         3.134296e+08          9.0\n",
       "3         1.837593e+09          4.0\n",
       "4         1.131527e+09          8.0\n",
       "...                ...          ...\n",
       "42710192  5.556457e+09         74.0\n",
       "42710193  3.371865e+08         49.0\n",
       "42710194  3.289886e+09         18.0\n",
       "42710195  8.536366e+09         27.0\n",
       "42710196  2.219100e+09       1824.0\n",
       "\n",
       "[42710161 rows x 2 columns]"
      ]
     },
     "execution_count": 8,
     "metadata": {},
     "output_type": "execute_result"
    }
   ],
   "source": [
    "dpost7=dpost[['profile_id','numbr_likes']]\n",
    "dpost7.dropna(subset=['numbr_likes'], inplace=True)"
   ]
  },
  {
   "cell_type": "code",
   "execution_count": 24,
   "id": "7b2590f1",
   "metadata": {},
   "outputs": [],
   "source": [
    "#memoryError\n",
    "#dpost7.merge(folid,how='left',on='profile_id')"
   ]
  },
  {
   "cell_type": "code",
   "execution_count": 9,
   "id": "bf9a62d5",
   "metadata": {},
   "outputs": [],
   "source": [
    "chunk_list = []\n",
    "for i in range(0, len(dpost7), 5000000):\n",
    "    chunk = dpost7[i:i+5000000]\n",
    "    chunk_list.append(chunk)"
   ]
  },
  {
   "cell_type": "code",
   "execution_count": null,
   "id": "0e00c65c",
   "metadata": {},
   "outputs": [],
   "source": [
    "#kernel dies\n",
    "g=0\n",
    "l_data=0\n",
    "for c in range(len(chunk_list)):\n",
    "    a=chunk_list[c].merge(folid,how='left',on='profile_id')\n",
    "    a.dropna(subset=['numbr_likes', 'followers'], inplace=True)\n",
    "    a.reset_index(drop=True,inplace=True)\n",
    "    l_data=l_data+int(len(a))\n",
    "    for i in range(len(a)):\n",
    "        if a['numbr_likes'][i]>(a['followers'][i]):\n",
    "            g+=1\n",
    "g"
   ]
  },
  {
   "cell_type": "code",
   "execution_count": 29,
   "id": "d87dce6a",
   "metadata": {},
   "outputs": [
    {
     "data": {
      "text/plain": [
       "(1115677, 313892, 0.28134666216118104)"
      ]
     },
     "execution_count": 29,
     "metadata": {},
     "output_type": "execute_result"
    }
   ],
   "source": [
    "#kernel works the first time, then dies\n",
    "g=0\n",
    "a=chunk_list[0].merge(folid,how='left',on='profile_id')\n",
    "a.dropna(subset=['numbr_likes', 'followers'], inplace=True)\n",
    "a.reset_index(drop=True,inplace=True)\n",
    "for i in range(len(a)):\n",
    "    if a['numbr_likes'][i]>(a['followers'][i]/5):\n",
    "        g+=1\n",
    "\n",
    "len(a),g,g/len(a)"
   ]
  },
  {
   "cell_type": "code",
   "execution_count": null,
   "id": "4cf935e8",
   "metadata": {},
   "outputs": [],
   "source": [
    "#second time, when it dies\n",
    "g=0\n",
    "a=chunk_list[1].merge(folid,how='left',on='profile_id')\n",
    "a.dropna(subset=['numbr_likes', 'followers'], inplace=True)\n",
    "a.reset_index(drop=True,inplace=True)\n",
    "for i in range(len(a)):\n",
    "    if a['numbr_likes'][i]>(a['followers'][i]/5):\n",
    "        g+=1\n",
    "\n",
    "g/len(a),g,len(a)"
   ]
  },
  {
   "cell_type": "code",
   "execution_count": 80,
   "id": "80f08072",
   "metadata": {},
   "outputs": [],
   "source": [
    "a=chunk_list[0].merge(folid,how='left',on='profile_id')"
   ]
  },
  {
   "cell_type": "code",
   "execution_count": 81,
   "id": "8667bfb9",
   "metadata": {},
   "outputs": [
    {
     "data": {
      "text/plain": [
       "5694979"
      ]
     },
     "execution_count": 81,
     "metadata": {},
     "output_type": "execute_result"
    }
   ],
   "source": [
    "len(a)"
   ]
  },
  {
   "cell_type": "code",
   "execution_count": 82,
   "id": "8e5d8a43",
   "metadata": {},
   "outputs": [],
   "source": [
    "a.dropna(subset=['numbr_likes', 'followers'], inplace=True)"
   ]
  },
  {
   "cell_type": "code",
   "execution_count": 83,
   "id": "e179896b",
   "metadata": {},
   "outputs": [
    {
     "data": {
      "text/plain": [
       "1115677"
      ]
     },
     "execution_count": 83,
     "metadata": {},
     "output_type": "execute_result"
    }
   ],
   "source": [
    "len(a)"
   ]
  },
  {
   "cell_type": "code",
   "execution_count": 105,
   "id": "8549b5f3",
   "metadata": {},
   "outputs": [
    {
     "data": {
      "text/html": [
       "<div>\n",
       "<style scoped>\n",
       "    .dataframe tbody tr th:only-of-type {\n",
       "        vertical-align: middle;\n",
       "    }\n",
       "\n",
       "    .dataframe tbody tr th {\n",
       "        vertical-align: top;\n",
       "    }\n",
       "\n",
       "    .dataframe thead th {\n",
       "        text-align: right;\n",
       "    }\n",
       "</style>\n",
       "<table border=\"1\" class=\"dataframe\">\n",
       "  <thead>\n",
       "    <tr style=\"text-align: right;\">\n",
       "      <th></th>\n",
       "      <th>numbr_likes</th>\n",
       "      <th>followers</th>\n",
       "    </tr>\n",
       "  </thead>\n",
       "  <tbody>\n",
       "    <tr>\n",
       "      <th>0</th>\n",
       "      <td>80.0</td>\n",
       "      <td>1204.0</td>\n",
       "    </tr>\n",
       "    <tr>\n",
       "      <th>10</th>\n",
       "      <td>114.0</td>\n",
       "      <td>3906.0</td>\n",
       "    </tr>\n",
       "    <tr>\n",
       "      <th>26</th>\n",
       "      <td>46.0</td>\n",
       "      <td>164.0</td>\n",
       "    </tr>\n",
       "    <tr>\n",
       "      <th>29</th>\n",
       "      <td>66.0</td>\n",
       "      <td>1640.0</td>\n",
       "    </tr>\n",
       "    <tr>\n",
       "      <th>61</th>\n",
       "      <td>11.0</td>\n",
       "      <td>315.0</td>\n",
       "    </tr>\n",
       "    <tr>\n",
       "      <th>...</th>\n",
       "      <td>...</td>\n",
       "      <td>...</td>\n",
       "    </tr>\n",
       "    <tr>\n",
       "      <th>5694838</th>\n",
       "      <td>163.0</td>\n",
       "      <td>372.0</td>\n",
       "    </tr>\n",
       "    <tr>\n",
       "      <th>5694925</th>\n",
       "      <td>216.0</td>\n",
       "      <td>18245.0</td>\n",
       "    </tr>\n",
       "    <tr>\n",
       "      <th>5694934</th>\n",
       "      <td>1064.0</td>\n",
       "      <td>11493.0</td>\n",
       "    </tr>\n",
       "    <tr>\n",
       "      <th>5694947</th>\n",
       "      <td>16.0</td>\n",
       "      <td>1298.0</td>\n",
       "    </tr>\n",
       "    <tr>\n",
       "      <th>5694957</th>\n",
       "      <td>288.0</td>\n",
       "      <td>3517.0</td>\n",
       "    </tr>\n",
       "  </tbody>\n",
       "</table>\n",
       "<p>1115677 rows × 2 columns</p>\n",
       "</div>"
      ],
      "text/plain": [
       "         numbr_likes  followers\n",
       "0               80.0     1204.0\n",
       "10             114.0     3906.0\n",
       "26              46.0      164.0\n",
       "29              66.0     1640.0\n",
       "61              11.0      315.0\n",
       "...              ...        ...\n",
       "5694838        163.0      372.0\n",
       "5694925        216.0    18245.0\n",
       "5694934       1064.0    11493.0\n",
       "5694947         16.0     1298.0\n",
       "5694957        288.0     3517.0\n",
       "\n",
       "[1115677 rows x 2 columns]"
      ]
     },
     "execution_count": 105,
     "metadata": {},
     "output_type": "execute_result"
    }
   ],
   "source": [
    "a[['numbr_likes','followers']]"
   ]
  },
  {
   "cell_type": "code",
   "execution_count": 111,
   "id": "b5c95688",
   "metadata": {},
   "outputs": [],
   "source": [
    "a.reset_index(drop=True,inplace=True)"
   ]
  },
  {
   "cell_type": "code",
   "execution_count": 119,
   "id": "714900b0",
   "metadata": {},
   "outputs": [
    {
     "data": {
      "text/plain": [
       "313892"
      ]
     },
     "execution_count": 119,
     "metadata": {},
     "output_type": "execute_result"
    }
   ],
   "source": [
    "g=0\n",
    "for i in range(len(a)):\n",
    "    if a['numbr_likes'][i]>(a['followers'][i]/5):\n",
    "        g+=1\n",
    "g\n",
    "    "
   ]
  },
  {
   "cell_type": "code",
   "execution_count": 120,
   "id": "09888680",
   "metadata": {},
   "outputs": [
    {
     "data": {
      "text/plain": [
       "0.28134666216118104"
      ]
     },
     "execution_count": 120,
     "metadata": {},
     "output_type": "execute_result"
    }
   ],
   "source": [
    "g/len(a)"
   ]
  },
  {
   "cell_type": "markdown",
   "id": "739aeaea",
   "metadata": {},
   "source": [
    "Do users usually return to locations? Extract the probability that a user returns to a site after having posted it in the past. Does that probability make sense to you? Explain why or why not."
   ]
  },
  {
   "cell_type": "code",
   "execution_count": 16,
   "id": "1afc07f8",
   "metadata": {},
   "outputs": [],
   "source": [
    "pl=dpost.groupby(['profile_id','location_id'])['location_id'].count()"
   ]
  },
  {
   "cell_type": "code",
   "execution_count": 17,
   "id": "13802a39",
   "metadata": {},
   "outputs": [
    {
     "data": {
      "text/plain": [
       "profile_id    location_id \n",
       "3.000000e+00  1.000000e+01    1\n",
       "              5.400000e+01    1\n",
       "              8.030000e+02    1\n",
       "              1.526200e+04    1\n",
       "              2.705200e+04    1\n",
       "                             ..\n",
       "9.001013e+13  6.631216e+14    1\n",
       "              2.075964e+14    1\n",
       "              1.855425e+14    2\n",
       "              2.418404e+08    1\n",
       "9.001014e+13  1.077310e+06    1\n",
       "Name: location_id, Length: 21096135, dtype: int64"
      ]
     },
     "execution_count": 17,
     "metadata": {},
     "output_type": "execute_result"
    }
   ],
   "source": [
    "pl"
   ]
  },
  {
   "cell_type": "code",
   "execution_count": 21,
   "id": "9ce89611",
   "metadata": {},
   "outputs": [
    {
     "data": {
      "text/plain": [
       "1     18134031\n",
       "2      1662813\n",
       "3       538694\n",
       "4       237039\n",
       "5       136753\n",
       "        ...   \n",
       "76           4\n",
       "64           4\n",
       "69           3\n",
       "84           3\n",
       "74           3\n",
       "Name: location_id, Length: 70, dtype: int64"
      ]
     },
     "execution_count": 21,
     "metadata": {},
     "output_type": "execute_result"
    }
   ],
   "source": [
    "pl.value_counts().head(70)"
   ]
  },
  {
   "cell_type": "markdown",
   "id": "2ae61c5c",
   "metadata": {},
   "source": [
    "Probability that a user visits once a location"
   ]
  },
  {
   "cell_type": "code",
   "execution_count": 22,
   "id": "d07368ee",
   "metadata": {},
   "outputs": [
    {
     "data": {
      "text/plain": [
       "0.8595902045564271"
      ]
     },
     "execution_count": 22,
     "metadata": {},
     "output_type": "execute_result"
    }
   ],
   "source": [
    "#users visit once a location\n",
    "18134031/21096135"
   ]
  },
  {
   "cell_type": "markdown",
   "id": "4f9c5b7f",
   "metadata": {},
   "source": [
    "Probability that a user returns to a site after having posted it in the past"
   ]
  },
  {
   "cell_type": "code",
   "execution_count": 23,
   "id": "ca7855c7",
   "metadata": {},
   "outputs": [
    {
     "data": {
      "text/plain": [
       "0.1404097954435729"
      ]
     },
     "execution_count": 23,
     "metadata": {},
     "output_type": "execute_result"
    }
   ],
   "source": [
    "1-18134031/21096135"
   ]
  },
  {
   "cell_type": "code",
   "execution_count": null,
   "id": "431c19d3",
   "metadata": {},
   "outputs": [],
   "source": []
  }
 ],
 "metadata": {
  "kernelspec": {
   "display_name": "conda_python3",
   "language": "python",
   "name": "conda_python3"
  },
  "language_info": {
   "codemirror_mode": {
    "name": "ipython",
    "version": 3
   },
   "file_extension": ".py",
   "mimetype": "text/x-python",
   "name": "python",
   "nbconvert_exporter": "python",
   "pygments_lexer": "ipython3",
   "version": "3.8.12"
  }
 },
 "nbformat": 4,
 "nbformat_minor": 5
}
