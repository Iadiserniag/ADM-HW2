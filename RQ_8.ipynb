{
 "cells": [
  
  
  
  
  {
   "cell_type": "markdown",
   "id": "1c1045cc-19a0-41cd-a44c-8a2847bd9a3f",
   "metadata": {},
   "source": [
    "## Bonus Points"
   ]
  },
  {
   "cell_type": "markdown",
   "id": "1512cfc6-8e0f-4b54-a9ff-7e5da30163d2",
   "metadata": {},
   "source": [
    "##### a) Sort the users in terms of number of followers and divide them into two groups: for the first group, take only the top 10% regarding \"followers\", and for the second one, take the rest. Now compare the mean of time intervals between posts for the two categories. Do you notice something relevant?"
   ]
  },
  {
   "cell_type": "markdown",
   "id": "f9f734ce-0ddc-460c-8d8b-c1367e27ae34",
   "metadata": {},
   "source": [
    "* First let's divide `instagram_profiles.csv` into two subsets:\n",
    "  1. The first `top10_followers` containing the top 10% regarding the number of followers.\n",
    "  2. The second `rest_followers` containing the remaining 90% of profiles."
   ]
  },
  {
   "cell_type": "code",
   "execution_count": 9,
   "id": "0e2fcccb-3213-4419-aa4a-749718c55a04",
   "metadata": {},
   "outputs": [],
   "source": [
    "# top10_followers\n",
    "\n",
    "df_instagram_profiles_bp = df_instagram_profiles.copy()\n",
    "df_instagram_profiles_bp.sort_values(by = 'followers', ascending = False, inplace = True)"
   ]
  },
  {
   "cell_type": "code",
   "execution_count": 11,
   "id": "e493451c-6bb2-450e-91c9-650d6132badd",
   "metadata": {},
   "outputs": [],
   "source": [
    "top10_followers = df_instagram_profiles_bp.head(int(0.1*len(df_instagram_profiles_bp)))"
   ]
  },
  {
   "cell_type": "code",
   "execution_count": 12,
   "id": "783f1d1c-d141-4fcf-b571-65344d382f3a",
   "metadata": {},
   "outputs": [],
   "source": [
    "rest_followers = df_instagram_profiles_bp.iloc[len(top10_followers):]"
   ]
  },
  {
   "cell_type": "markdown",
   "id": "26f740cd-a5c7-4533-955c-f416dc3b5ed1",
   "metadata": {},
   "source": [
    "Let's do some work on the `instagram_post.csv`."
   ]
  },
  {
   "cell_type": "markdown",
   "id": "d33fa77e-6211-4269-8e57-05d7bff240fb",
   "metadata": {},
   "source": [
    "* We recover the list of dataset chunks `chunk_list_new` used in question RQ3. Then, we group by `profile.id` and sum over `hour` creating a new variable called `hours_sum`. We append the new chunks to a new list called `chunk_list_new3`. Lastly, we concatenate the chunks grouping by `profile_id` and summing across the `hours_sum` column therefore obtaining the `data3` dataframe."
   ]
  },
  {
   "cell_type": "code",
   "execution_count": 13,
   "id": "5851e81a-189c-4f91-be8a-7656a4117109",
   "metadata": {},
   "outputs": [],
   "source": [
    "chunk_list_new3 = []\n",
    "for chunk in chunk_list_new:\n",
    "    chunk = chunk.groupby('profile_id', as_index=False)['hour'].agg({'hours_sum': 'sum'})\n",
    "    chunk_list_new3.append(chunk)\n",
    "    \n",
    "data3 = pd.concat(chunk_list_new3).groupby('profile_id', as_index=False)['hours_sum'].sum()"
   ]
  },
  {
   "cell_type": "markdown",
   "id": "8882fd59-895f-41a6-888a-710f37cd946e",
   "metadata": {},
   "source": [
    "* We group by `profile.id` and count the number of profile ids in each group creating a new column called `profile_id_count`. We append the new chunks to a new list called `chunk_list_new4`. Lastly, we concatenate the chunks grouping them by `profile_id` and summing across the `profile_id_count` column therefore obtaining the `data4` dataframe."
   ]
  },
  {
   "cell_type": "code",
   "execution_count": 14,
   "id": "5c4ab67b-a370-427d-b02a-a94712b71116",
   "metadata": {},
   "outputs": [],
   "source": [
    "# get instagram_posts dataset and group by profile id and average across hour (time)\n",
    "\n",
    "chunk_list_new4 = []\n",
    "for chunk in chunk_list_new:\n",
    "    chunk = chunk.groupby('profile_id', as_index=False)['profile_id'].agg({'profile_id_count': 'count'})\n",
    "    chunk_list_new4.append(chunk)\n",
    "    \n",
    "data4 = pd.concat(chunk_list_new4).groupby('profile_id', as_index=False)['profile_id_count'].sum()"
   ]
  },
  {
   "cell_type": "markdown",
   "id": "30a248a4-fade-45c1-92c4-60c433754f99",
   "metadata": {},
   "source": [
    "* We create a new dataframe `df_bp_1` by concatenating the columns in `data3` and `data4`. "
   ]
  },
  {
   "cell_type": "code",
   "execution_count": 15,
   "id": "b3aca387-5438-4a66-a4bb-904b6efa3b52",
   "metadata": {},
   "outputs": [],
   "source": [
    "# Concatenate the datasets \n",
    "\n",
    "df_bp_1 = pd.concat([data3, data4['profile_id_count']], axis = 1)"
   ]
  },
  {
   "cell_type": "markdown",
   "id": "1491d5a1-2557-44c3-a51f-e9c99daf3861",
   "metadata": {},
   "source": [
    "* Finally, we create a new column `average_hour` that is calculated by dividing the `hours_sum` by the `profile_id_count`."
   ]
  },
  {
   "cell_type": "code",
   "execution_count": 16,
   "id": "fd678726-57aa-402c-9ed2-c284451b986c",
   "metadata": {},
   "outputs": [],
   "source": [
    "# Create a new column containing the average hour \n",
    "\n",
    "df_bp_1['average_hour'] = df_bp_1['hours_sum']/df_bp_1['profile_id_count']"
   ]
  },
  {
   "cell_type": "code",
   "execution_count": 17,
   "id": "f47cdc24-02d0-460e-a668-e1d795f3da7d",
   "metadata": {},
   "outputs": [
    {
     "data": {
      "text/html": [
       "<div>\n",
       "<style scoped>\n",
       "    .dataframe tbody tr th:only-of-type {\n",
       "        vertical-align: middle;\n",
       "    }\n",
       "\n",
       "    .dataframe tbody tr th {\n",
       "        vertical-align: top;\n",
       "    }\n",
       "\n",
       "    .dataframe thead th {\n",
       "        text-align: right;\n",
       "    }\n",
       "</style>\n",
       "<table border=\"1\" class=\"dataframe\">\n",
       "  <thead>\n",
       "    <tr style=\"text-align: right;\">\n",
       "      <th></th>\n",
       "      <th>profile_id</th>\n",
       "      <th>hours_sum</th>\n",
       "      <th>profile_id_count</th>\n",
       "      <th>average_hour</th>\n",
       "    </tr>\n",
       "  </thead>\n",
       "  <tbody>\n",
       "    <tr>\n",
       "      <th>0</th>\n",
       "      <td>3.000000e+00</td>\n",
       "      <td>153.0</td>\n",
       "      <td>14</td>\n",
       "      <td>10.928571</td>\n",
       "    </tr>\n",
       "    <tr>\n",
       "      <th>1</th>\n",
       "      <td>4.000000e+00</td>\n",
       "      <td>404.0</td>\n",
       "      <td>37</td>\n",
       "      <td>10.918919</td>\n",
       "    </tr>\n",
       "    <tr>\n",
       "      <th>2</th>\n",
       "      <td>1.100000e+01</td>\n",
       "      <td>29.0</td>\n",
       "      <td>2</td>\n",
       "      <td>14.500000</td>\n",
       "    </tr>\n",
       "    <tr>\n",
       "      <th>3</th>\n",
       "      <td>1.200000e+01</td>\n",
       "      <td>5.0</td>\n",
       "      <td>1</td>\n",
       "      <td>5.000000</td>\n",
       "    </tr>\n",
       "    <tr>\n",
       "      <th>4</th>\n",
       "      <td>1.400000e+01</td>\n",
       "      <td>17.0</td>\n",
       "      <td>1</td>\n",
       "      <td>17.000000</td>\n",
       "    </tr>\n",
       "    <tr>\n",
       "      <th>...</th>\n",
       "      <td>...</td>\n",
       "      <td>...</td>\n",
       "      <td>...</td>\n",
       "      <td>...</td>\n",
       "    </tr>\n",
       "    <tr>\n",
       "      <th>11833760</th>\n",
       "      <td>9.001013e+13</td>\n",
       "      <td>134.0</td>\n",
       "      <td>10</td>\n",
       "      <td>13.400000</td>\n",
       "    </tr>\n",
       "    <tr>\n",
       "      <th>11833761</th>\n",
       "      <td>9.001013e+13</td>\n",
       "      <td>4.0</td>\n",
       "      <td>1</td>\n",
       "      <td>4.000000</td>\n",
       "    </tr>\n",
       "    <tr>\n",
       "      <th>11833762</th>\n",
       "      <td>9.001013e+13</td>\n",
       "      <td>42.0</td>\n",
       "      <td>2</td>\n",
       "      <td>21.000000</td>\n",
       "    </tr>\n",
       "    <tr>\n",
       "      <th>11833763</th>\n",
       "      <td>9.001013e+13</td>\n",
       "      <td>7.0</td>\n",
       "      <td>1</td>\n",
       "      <td>7.000000</td>\n",
       "    </tr>\n",
       "    <tr>\n",
       "      <th>11833764</th>\n",
       "      <td>9.001014e+13</td>\n",
       "      <td>3.0</td>\n",
       "      <td>1</td>\n",
       "      <td>3.000000</td>\n",
       "    </tr>\n",
       "  </tbody>\n",
       "</table>\n",
       "<p>11833765 rows × 4 columns</p>\n",
       "</div>"
      ],
      "text/plain": [
       "            profile_id  hours_sum  profile_id_count  average_hour\n",
       "0         3.000000e+00      153.0                14     10.928571\n",
       "1         4.000000e+00      404.0                37     10.918919\n",
       "2         1.100000e+01       29.0                 2     14.500000\n",
       "3         1.200000e+01        5.0                 1      5.000000\n",
       "4         1.400000e+01       17.0                 1     17.000000\n",
       "...                ...        ...               ...           ...\n",
       "11833760  9.001013e+13      134.0                10     13.400000\n",
       "11833761  9.001013e+13        4.0                 1      4.000000\n",
       "11833762  9.001013e+13       42.0                 2     21.000000\n",
       "11833763  9.001013e+13        7.0                 1      7.000000\n",
       "11833764  9.001014e+13        3.0                 1      3.000000\n",
       "\n",
       "[11833765 rows x 4 columns]"
      ]
     },
     "execution_count": 17,
     "metadata": {},
     "output_type": "execute_result"
    }
   ],
   "source": [
    "df_bp_1"
   ]
  },
  {
   "cell_type": "markdown",
   "id": "48dd830c-51dc-4f7f-a0d8-8e4d970b4bea",
   "metadata": {},
   "source": [
    "##### **Time interval distribution regarding the top 10% users with the highest number of followers**"
   ]
  },
  {
   "cell_type": "code",
   "execution_count": 36,
   "id": "1c0ea894-cd4d-454a-bbc7-c46667d67871",
   "metadata": {},
   "outputs": [],
   "source": [
    "# Let's start with top10 followers\n",
    "\n",
    "top10_followers.isna().sum()\n",
    "top10_followers_1 = top10_followers.copy()\n",
    "top10_followers_1.dropna(subset = ['profile_id'], inplace = True)"
   ]
  },
  {
   "cell_type": "markdown",
   "id": "96b62c33-a1ef-4f07-a259-e4a614622204",
   "metadata": {},
   "source": [
    "* We perform an inner merge `top10_followers` with `df_bp_1` on `profile_id`. So, we keep only those rows (profiles) that are present in both dataframes."
   ]
  },
  {
   "cell_type": "code",
   "execution_count": 37,
   "id": "64e88feb-fcbb-45ae-9f32-4bd57b667a89",
   "metadata": {},
   "outputs": [],
   "source": [
    "# keep only profile ids that are in both datasets\n",
    "\n",
    "top10_followers_merged = pd.merge(top10_followers_1, df_bp_1, on='profile_id', how='inner')"
   ]
  },
  {
   "cell_type": "markdown",
   "id": "fcc2dfb2-46e8-483b-a4d5-95c6aa4e5e25",
   "metadata": {},
   "source": [
    "* We use the function `time_intervals` defined in question `RQ3` to plot the distribution of the time intervals. Therefore, we count the number of `average_hour` occurrences there are for each time interval and we visualize the results."
   ]
  },
  {
   "cell_type": "code",
   "execution_count": 42,
   "id": "6fec5a8d-0bf6-448d-8d29-c050dcb21527",
   "metadata": {},
   "outputs": [
    {
     "data": {
      "image/png": "[encoded data removed]",
      "text/plain": [
       "<Figure size 432x288 with 1 Axes>"
      ]
     },
     "metadata": {
      "needs_background": "light"
     },
     "output_type": "display_data"
    }
   ],
   "source": [
    "time_intervals(top10_followers_merged, top10_followers_merged.average_hour, slots, title = \"the number of average_hour occcurrences for each time slot\")"
   ]
  },
  {
   "cell_type": "markdown",
   "id": "ca486ffe-33e4-4484-a4a1-b068873a0fa6",
   "metadata": {},
   "source": [
    "* **The mean of time intervals** is"
   ]
  },
  {
   "cell_type": "code",
   "execution_count": 43,
   "id": "dd2fc396-b54a-47dc-943e-8789572abfb4",
   "metadata": {},
   "outputs": [
    {
     "data": {
      "text/plain": [
       "13.236959396872"
      ]
     },
     "execution_count": 43,
     "metadata": {},
     "output_type": "execute_result"
    }
   ],
   "source": [
    "np.mean(top10_followers_merged.average_hour)"
   ]
  },
  {
   "cell_type": "markdown",
   "id": "43d2bb9c-8156-4912-9bd9-448b735a327e",
   "metadata": {},
   "source": [
    "##### **Time interval distribution regarding the remaining 90% of users**"
   ]
  },
  {
   "cell_type": "markdown",
   "id": "f73a09c5-ae21-407a-b733-08888c64b236",
   "metadata": {},
   "source": [
    "* We perform an inner merge `rest_followers` with `df_bp_1` on `profile_id`. So, we keep only those rows (profiles) that are present in both dataframes."
   ]
  },
  {
   "cell_type": "code",
   "execution_count": 20,
   "id": "d07355d9-e2c5-48cf-b6d9-95e3433436e9",
   "metadata": {},
   "outputs": [],
   "source": [
    "# Rest 90% of profile ids\n",
    "\n",
    "rest_followers_1 = rest_followers.copy()\n",
    "rest_followers_1.dropna(subset = ['profile_id'], inplace = True)"
   ]
  },
  {
   "cell_type": "code",
   "execution_count": null,
   "id": "3af55631-0a21-466d-82de-b6ced37336b7",
   "metadata": {},
   "outputs": [],
   "source": [
    "rest_followers_merged = pd.merge(rest_followers_1, df_bp_1, on='profile_id', how='inner')"
   ]
  },
  {
   "cell_type": "code",
   "execution_count": null,
   "id": "8d5d6e7b-18ca-4fac-95b5-5a88488ea969",
   "metadata": {},
   "outputs": [],
   "source": []
  },
  {
   "cell_type": "code",
   "execution_count": 38,
   "id": "7de21908-7ca9-4494-8dc9-ae247ab68bbf",
   "metadata": {},
   "outputs": [
    {
     "data": {
      "image/png": "[encoded data removed]",
      "text/plain": [
       "<Figure size 432x288 with 1 Axes>"
      ]
     },
     "metadata": {
      "needs_background": "light"
     },
     "output_type": "display_data"
    }
   ],
   "source": [
    "time_intervals(rest_followers_merged, rest_followers_merged.average_hour, slots, \"the number of average_hour occcurrences for each time slot\")"
   ]
  },
  {
   "cell_type": "markdown",
   "id": "cdc50bea-dc15-459e-ac0e-6215c544df17",
   "metadata": {},
   "source": [
    "* **The mean of time intervals** is"
   ]
  },
  {
   "cell_type": "code",
   "execution_count": 39,
   "id": "b3cc75d6-d863-47eb-8ca7-31260abfbd34",
   "metadata": {},
   "outputs": [
    {
     "data": {
      "text/plain": [
       "13.102672633361614"
      ]
     },
     "execution_count": 39,
     "metadata": {},
     "output_type": "execute_result"
    }
   ],
   "source": [
    "np.mean(rest_followers_merged.average_hour)"
   ]
  },
  {
   "cell_type": "markdown",
   "id": "00a289b4-8cb7-4acd-9b57-d48b060c9877",
   "metadata": {},
   "source": [
    "##### `Conclusions`\n",
    "\n",
    "It can clearly be seen that the distribution of the time intervals for the bottom 90% Instagram users (`rest_followers`) in terms of number of followers is similar to the one obtained in question `RQ3`. This could be explained by the fact that the majority (90%) of the dataset used in questin RQ3 is also present in rest_followers.\n",
    "\n",
    "While the distribution of the time intervals for the top 10% Instagram users (`top10_followers`) is very different wrt the one obtained in question `RQ3`. The histogram is far more skewed to the left, implying that <b>the most followed users tend to post earlier in the day (6 AM - 4 PM) and especially in the 2PM-4PM slot instead of in the evening (5PM-11PM) like the majority of the sampled Instagram users.</b>\n",
    "So, if you want to be more successful on Instagram, you should post in the morning and early afternoon!"
   ]
  }
 ],
 "metadata": {
  "kernelspec": {
   "display_name": "Python 3",
   "language": "python",
   "name": "python3"
  },
  "language_info": {
   "codemirror_mode": {
    "name": "ipython",
    "version": 3
   },
   "file_extension": ".py",
   "mimetype": "text/x-python",
   "name": "python",
   "nbconvert_exporter": "python",
   "pygments_lexer": "ipython3",
   "version": "3.8.8"
  }
 },
 "nbformat": 4,
 "nbformat_minor": 5
}
