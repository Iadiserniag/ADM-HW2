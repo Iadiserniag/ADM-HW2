{
 "cells": [
  {
   "cell_type": "markdown",
   "id": "7e084dc2-c023-4c4c-80d9-2690f6319105",
   "metadata": {},
   "source": [
    "### <b>[RQ4]</b> Every decision you take in a data-based environment should be reinforced with charts, statistical tests and analysis methods to check whether a hypothesis is correct or not."
   ]
  },
  {
   "cell_type": "markdown",
   "id": "e3b0f7ee-896a-4b62-9a8a-d1a4bc1bc2d7",
   "metadata": {},
   "source": [
    "<b>8.1</b> Does more “likes” also mean more comments? Plot a scatter plot of “likes” vs comments for posts."
   ]
  },
  {
   "cell_type": "markdown",
   "id": "403e4610-d2a7-48a5-9439-a62e4010f326",
   "metadata": {},
   "source": [
    "In order to provide evidence for <b>causality</b> (i.e. \"more likes mean more comments\"), it is <b>not enough to show the correlation between variables</b>.\n",
    "\n",
    "* However, <b>in order to exist causation, there needs to exist correlation</b>. By looking at he data, we can observe that the correlation between `numbr_likes` and `number_comments`, is approximately equal to `37.5%`. Initially, we might have been inclined to predict some positive relationship between the two variables, however the data shows that <b>their correlation is actually quite weak."
   ]
  },
  {
   "cell_type": "code",
   "execution_count": 6,
   "id": "eb1350c7-2228-40f6-a9f9-f3ab347f7623",
   "metadata": {
    "scrolled": true
   },
   "outputs": [
    {
     "name": "stdout",
     "output_type": "stream",
     "text": [
      "                 numbr_likes  number_comments\n",
      "numbr_likes         1.000000         0.374453\n",
      "number_comments     0.374453         1.000000\n"
     ]
    }
   ],
   "source": [
    "# dataset containing the instagram_posts's numbr_likes and number_comments columns\n",
    "df_instagram_posts_RQ8_1 = df_instagram_posts_RQ2_1 #42,710.161 rows\n",
    "print(df_instagram_posts_RQ8_1.corr())"
   ]
  },
  {
   "cell_type": "markdown",
   "id": "b3d0cb36-22aa-44fe-b9f3-4edbdfb55d3b",
   "metadata": {},
   "source": [
    "* Below you can find a scatterplot of the first 1,000,000 observations (we show a reduced sample for computational reasons) of the `df_instagram_posts_RQ8_1` dataframe. Unfortunately, our data is full of outliers that squash the plot to the bottom-left rendering it difficult to interpret the results and study the relationship between `numbr_likes` and `number_comments`."
   ]
  },
  {
   "cell_type": "code",
   "execution_count": 38,
   "id": "d2e5ec5d-39b3-4a26-b614-e72c31c0f14e",
   "metadata": {},
   "outputs": [
    {
     "data": {
      "text/plain": [
       "Text(0.5, 1.05, 'Scatterplot of number of likes against number of comments')"
      ]
     },
     "execution_count": 38,
     "metadata": {},
     "output_type": "execute_result"
    },
    {
     "data": {
      "image/png": "[encoded data removed]",
      "text/plain": [
       "<Figure size 432x288 with 1 Axes>"
      ]
     },
     "metadata": {
      "needs_background": "light"
     },
     "output_type": "display_data"
    }
   ],
   "source": [
    "sample_RQ8 = df_instagram_posts_RQ8_1.head(1000000)\n",
    "plt.scatter(sample_RQ8['numbr_likes'], sample_RQ8['number_comments'])\n",
    "plt.xlabel(\"number of likes\", labelpad = 14)\n",
    "plt.ylabel(\"number of comments\", labelpad = 14)\n",
    "plt.title(\"Scatterplot of number of likes against number of comments\", y = 1.05)\n",
    "#The plot is squashed by the outliers"
   ]
  },
  {
   "cell_type": "markdown",
   "id": "82229a57-9cb4-4878-99ef-acf46b86c0e9",
   "metadata": {},
   "source": [
    "As it can be seen from the boxplots and the summary statistics previously done in the EDA of `numbr_likes` and `number_comments`, the data is **strongly** skewed and contains a lot of outliers. The summary statistics clearly show the presence of outliers as we have already discussed in RQ1. We conclude that, based on the data, <b>we can't assert that more likes means more comments."
   ]
  },
  {
   "cell_type": "markdown",
   "id": "6e2217ff-f608-40ff-93f8-6672bf394af8",
   "metadata": {},
   "source": [
    "<b>8.2</b> Can you find any significant relationship between the time a user publishes a post and the number of comments and “likes”? Use an appropriate statistical test or technique and support your choice"
   ]
  },
  {
   "cell_type": "markdown",
   "id": "532f3b27-7676-4c62-9aeb-569c9699a70a",
   "metadata": {},
   "source": [
    "* We work in chunks for both dataframes `df_instagram_posts_RQ8_1` and `df_instagram_posts_RQ8_2` for computational reasons.\n",
    "* Then we concatenate the columns by chunks and append the chunks to a new list called `chunk_list_RQ8_3`.\n",
    "* We concatenate the chunks in `chunk_list_RQ8_3` and group by the column `hour` aggregating on the mean of `numbr_likes` and `number_comments`. We obtain a new dataframe called `df_instagram_posts_RQ8_grouped` which shows the average likes and commets for each time interval."
   ]
  },
  {
   "cell_type": "code",
   "execution_count": 11,
   "id": "279bd850-3abc-46c2-977c-5525e01033c6",
   "metadata": {},
   "outputs": [],
   "source": [
    "# dataset containing the instagram_posts's \n",
    "df_instagram_posts_RQ8_2 = pd.concat(chunk_list_new)[['hour']]"
   ]
  },
  {
   "cell_type": "code",
   "execution_count": 13,
   "id": "80bbb182-cfa4-49a2-8892-159ba05345e0",
   "metadata": {},
   "outputs": [],
   "source": [
    "chunk_list_RQ8_1 = []\n",
    "for i in range(0, len(df_instagram_posts_RQ8_1), 5000000):\n",
    "    chunk = df_instagram_posts_RQ8_1[i:i+5000000]\n",
    "    chunk_list_RQ8_1.append(chunk)\n",
    "\n",
    "chunk_list_RQ8_2 = []\n",
    "for i in range(0, len(df_instagram_posts_RQ8_2),b 5000000):\n",
    "    chunk = df_instagram_posts_RQ8_2[i:i+5000000]\n",
    "    chunk_list_RQ8_2.append(chunk)\n",
    "\n",
    "chunk_list_RQ8_3 = []\n",
    "for i in range(0, len(df_instagram_posts_RQ8_2), 5000000):\n",
    "    chunk = pd.concat([df_instagram_posts_RQ8_2[i:i+5000000], df_instagram_posts_RQ8_1[i:i+5000000]], axis = 1)\n",
    "    chunk_list_RQ8_3.append(chunk)"
   ]
  },
  {
   "cell_type": "code",
   "execution_count": 25,
   "id": "ad5a517a-d285-48a4-ad3d-abfcdbf4d8db",
   "metadata": {},
   "outputs": [
    {
     "data": {
      "text/html": [
       "<div>\n",
       "<style scoped>\n",
       "    .dataframe tbody tr th:only-of-type {\n",
       "        vertical-align: middle;\n",
       "    }\n",
       "\n",
       "    .dataframe tbody tr th {\n",
       "        vertical-align: top;\n",
       "    }\n",
       "\n",
       "    .dataframe thead th {\n",
       "        text-align: right;\n",
       "    }\n",
       "</style>\n",
       "<table border=\"1\" class=\"dataframe\">\n",
       "  <thead>\n",
       "    <tr style=\"text-align: right;\">\n",
       "      <th></th>\n",
       "      <th>hour</th>\n",
       "      <th>numbr_likes</th>\n",
       "      <th>number_comments</th>\n",
       "    </tr>\n",
       "  </thead>\n",
       "  <tbody>\n",
       "    <tr>\n",
       "      <th>0</th>\n",
       "      <td>0</td>\n",
       "      <td>262.135037</td>\n",
       "      <td>7.384589</td>\n",
       "    </tr>\n",
       "    <tr>\n",
       "      <th>1</th>\n",
       "      <td>1</td>\n",
       "      <td>266.617649</td>\n",
       "      <td>7.683354</td>\n",
       "    </tr>\n",
       "    <tr>\n",
       "      <th>2</th>\n",
       "      <td>2</td>\n",
       "      <td>278.816228</td>\n",
       "      <td>7.772853</td>\n",
       "    </tr>\n",
       "    <tr>\n",
       "      <th>3</th>\n",
       "      <td>3</td>\n",
       "      <td>271.618603</td>\n",
       "      <td>7.325271</td>\n",
       "    </tr>\n",
       "    <tr>\n",
       "      <th>4</th>\n",
       "      <td>4</td>\n",
       "      <td>263.379649</td>\n",
       "      <td>6.930650</td>\n",
       "    </tr>\n",
       "    <tr>\n",
       "      <th>5</th>\n",
       "      <td>5</td>\n",
       "      <td>261.192717</td>\n",
       "      <td>6.683866</td>\n",
       "    </tr>\n",
       "    <tr>\n",
       "      <th>6</th>\n",
       "      <td>6</td>\n",
       "      <td>253.587895</td>\n",
       "      <td>6.723536</td>\n",
       "    </tr>\n",
       "    <tr>\n",
       "      <th>7</th>\n",
       "      <td>7</td>\n",
       "      <td>262.929015</td>\n",
       "      <td>7.026733</td>\n",
       "    </tr>\n",
       "    <tr>\n",
       "      <th>8</th>\n",
       "      <td>8</td>\n",
       "      <td>264.922111</td>\n",
       "      <td>7.710607</td>\n",
       "    </tr>\n",
       "    <tr>\n",
       "      <th>9</th>\n",
       "      <td>9</td>\n",
       "      <td>269.073676</td>\n",
       "      <td>7.393673</td>\n",
       "    </tr>\n",
       "    <tr>\n",
       "      <th>10</th>\n",
       "      <td>10</td>\n",
       "      <td>285.687525</td>\n",
       "      <td>7.585222</td>\n",
       "    </tr>\n",
       "    <tr>\n",
       "      <th>11</th>\n",
       "      <td>11</td>\n",
       "      <td>285.418838</td>\n",
       "      <td>7.773056</td>\n",
       "    </tr>\n",
       "    <tr>\n",
       "      <th>12</th>\n",
       "      <td>12</td>\n",
       "      <td>302.702814</td>\n",
       "      <td>7.928870</td>\n",
       "    </tr>\n",
       "    <tr>\n",
       "      <th>13</th>\n",
       "      <td>13</td>\n",
       "      <td>295.835171</td>\n",
       "      <td>7.684605</td>\n",
       "    </tr>\n",
       "    <tr>\n",
       "      <th>14</th>\n",
       "      <td>14</td>\n",
       "      <td>295.614309</td>\n",
       "      <td>7.914574</td>\n",
       "    </tr>\n",
       "    <tr>\n",
       "      <th>15</th>\n",
       "      <td>15</td>\n",
       "      <td>291.165670</td>\n",
       "      <td>7.558933</td>\n",
       "    </tr>\n",
       "    <tr>\n",
       "      <th>16</th>\n",
       "      <td>16</td>\n",
       "      <td>303.838112</td>\n",
       "      <td>7.640977</td>\n",
       "    </tr>\n",
       "    <tr>\n",
       "      <th>17</th>\n",
       "      <td>17</td>\n",
       "      <td>294.937466</td>\n",
       "      <td>7.902986</td>\n",
       "    </tr>\n",
       "    <tr>\n",
       "      <th>18</th>\n",
       "      <td>18</td>\n",
       "      <td>308.105003</td>\n",
       "      <td>8.177739</td>\n",
       "    </tr>\n",
       "    <tr>\n",
       "      <th>19</th>\n",
       "      <td>19</td>\n",
       "      <td>299.013068</td>\n",
       "      <td>8.020721</td>\n",
       "    </tr>\n",
       "    <tr>\n",
       "      <th>20</th>\n",
       "      <td>20</td>\n",
       "      <td>289.023652</td>\n",
       "      <td>8.118172</td>\n",
       "    </tr>\n",
       "    <tr>\n",
       "      <th>21</th>\n",
       "      <td>21</td>\n",
       "      <td>279.281883</td>\n",
       "      <td>7.562127</td>\n",
       "    </tr>\n",
       "    <tr>\n",
       "      <th>22</th>\n",
       "      <td>22</td>\n",
       "      <td>260.671413</td>\n",
       "      <td>6.919874</td>\n",
       "    </tr>\n",
       "    <tr>\n",
       "      <th>23</th>\n",
       "      <td>23</td>\n",
       "      <td>272.271313</td>\n",
       "      <td>6.955540</td>\n",
       "    </tr>\n",
       "  </tbody>\n",
       "</table>\n",
       "</div>"
      ],
      "text/plain": [
       "    hour  numbr_likes  number_comments\n",
       "0      0   262.135037         7.384589\n",
       "1      1   266.617649         7.683354\n",
       "2      2   278.816228         7.772853\n",
       "3      3   271.618603         7.325271\n",
       "4      4   263.379649         6.930650\n",
       "5      5   261.192717         6.683866\n",
       "6      6   253.587895         6.723536\n",
       "7      7   262.929015         7.026733\n",
       "8      8   264.922111         7.710607\n",
       "9      9   269.073676         7.393673\n",
       "10    10   285.687525         7.585222\n",
       "11    11   285.418838         7.773056\n",
       "12    12   302.702814         7.928870\n",
       "13    13   295.835171         7.684605\n",
       "14    14   295.614309         7.914574\n",
       "15    15   291.165670         7.558933\n",
       "16    16   303.838112         7.640977\n",
       "17    17   294.937466         7.902986\n",
       "18    18   308.105003         8.177739\n",
       "19    19   299.013068         8.020721\n",
       "20    20   289.023652         8.118172\n",
       "21    21   279.281883         7.562127\n",
       "22    22   260.671413         6.919874\n",
       "23    23   272.271313         6.955540"
      ]
     },
     "execution_count": 25,
     "metadata": {},
     "output_type": "execute_result"
    }
   ],
   "source": [
    "df_instagram_posts_RQ8_grouped = pd.concat(chunk_list_RQ8_3).groupby('hour', as_index=False).mean()\n",
    "df_instagram_posts_RQ8_grouped.hour = df_instagram_posts_RQ8_grouped.hour.astype(int)\n",
    "df_instagram_posts_RQ8_grouped"
   ]
  },
  {
   "cell_type": "markdown",
   "id": "336a46b6",
   "metadata": {},
   "source": [
    "Susprisingly if we plot the likes and comments for each time interval, we can observe how highly correlated (80%) this variables become. Meaning that, as we previously mentioned, <b>likes and comments are not correlated on a \"post\" basis, but rather on a time interval basis</b>. For example the likes and comments obtained overall between 7 and 8pm, are correlated with the likes and comments obtained between 8 and 9 and so on."
   ]
  },
  {
   "cell_type": "code",
   "execution_count": 5,
   "id": "76e50d1b",
   "metadata": {},
   "outputs": [
    {
     "data": {
      "text/plain": [
       "<matplotlib.collections.PathCollection at 0x7fa56bbba280>"
      ]
     },
     "execution_count": 5,
     "metadata": {},
     "output_type": "execute_result"
    },
    {
     "data": {
      "image/png": "[encoded data removed]",
      "text/plain": [
       "<Figure size 432x288 with 1 Axes>"
      ]
     },
     "metadata": {
      "needs_background": "light"
     },
     "output_type": "display_data"
    }
   ],
   "source": [
    "plt.scatter(df_instagram_posts_RQ8_grouped[\"numbr_likes\"],df_instagram_posts_RQ8_grouped[\"number_comments\"])"
   ]
  },
  {
   "cell_type": "markdown",
   "id": "30fae2c6-770c-425a-85a9-dd6d7501100f",
   "metadata": {},
   "source": [
    "#### `1st statistics: correlation`"
   ]
  },
  {
   "cell_type": "code",
   "execution_count": 21,
   "id": "fa10136f-be6a-4d92-a816-0df591b526c6",
   "metadata": {},
   "outputs": [
    {
     "name": "stdout",
     "output_type": "stream",
     "text": [
      "                     hour  numbr_likes  number_comments\n",
      "hour             1.000000     0.514339         0.279257\n",
      "numbr_likes      0.514339     1.000000         0.804829\n",
      "number_comments  0.279257     0.804829         1.000000\n"
     ]
    }
   ],
   "source": [
    "# Let's look at the correlation between the three variables\n",
    "\n",
    "print(df_instagram_posts_RQ8_grouped.corr())"
   ]
  },
  {
   "cell_type": "markdown",
   "id": "6c872df4-08bd-4184-a7f1-8474ee4f228b",
   "metadata": {},
   "source": [
    "##### `Correlation results comments`\n",
    "\n",
    "* `hour` and `numbr_likes` have a moderate positive correlation (**51.4%**)\n",
    "* `hour` and `number_comments` have a weak positive correlation (**27.9%**)\n",
    "\n",
    "The time in which you post is more correlated to the number of likes wrt the number of comments a post gets.<br>\n",
    "We can also see that the number of likes and the number of comments are strongly correlated."
   ]
  },
  {
   "cell_type": "markdown",
   "id": "25afd96c-4a1a-439b-a826-983ab518b958",
   "metadata": {},
   "source": [
    "#### `2nd statistics: linear regression (p-value)`"
   ]
  },
  {
   "cell_type": "markdown",
   "id": "7e875e52-28d6-4fc5-8c9a-b19170573081",
   "metadata": {},
   "source": [
    "* The `p-value` for each term tests the null hypothesis H₀ that the coefficient is equal to zero. So, if the p-value is less than a specified `significance level α` (usually 0.05), we can reject the null hypothesis H₀. For small p-values we can state that the predictor variable does give a meaningul addition to the model: **the values of the predictor variable are related to the values of the response variable**."
   ]
  },
  {
   "cell_type": "code",
   "execution_count": 22,
   "id": "33beb152-d364-45f8-92a6-6528f0a1406b",
   "metadata": {},
   "outputs": [],
   "source": [
    "# Simple linear regression\n",
    "# time ~ number_likes\n",
    "# time ~ number_comments\n",
    "\n",
    "number_likes = df_instagram_posts_RQ8_grouped.numbr_likes\n",
    "number_comments = df_instagram_posts_RQ8_grouped.number_comments\n",
    "time = df_instagram_posts_RQ8_grouped.hour\n",
    "\n",
    "result = scipy.stats.linregress(number_likes, time)\n",
    "result2 = scipy.stats.linregress(number_comments, time)"
   ]
  },
  {
   "cell_type": "code",
   "execution_count": 23,
   "id": "b511082d-5b3c-4158-bc92-f0627c97615a",
   "metadata": {},
   "outputs": [
    {
     "name": "stdout",
     "output_type": "stream",
     "text": [
      "The p-value for model 1 is: 0.010129899606811663\n",
      "the p-value for model 2 is: 0.18633045092180706\n"
     ]
    }
   ],
   "source": [
    "print(\"The p-value for model 1 is:\", result.pvalue)\n",
    "print(\"the p-value for model 2 is:\", result2.pvalue) # p-value == 0.0 implying that number_comments is statistically significant in predicting number_likes and viceversa \n",
    "\n",
    "# the number of likes is significant while the number of comments is not"
   ]
  },
  {
   "cell_type": "markdown",
   "id": "1964e4f5-d1cd-444f-8b7b-8a53399b5c59",
   "metadata": {},
   "source": [
    "##### Conclusion (`Linear Regression comments`)\n",
    "\n",
    "According to the **`p-value`** for the two models, there seems to be a <b>significant relationship between the time a user posts and the number of likes the post gets</b>. In fact, the `p-value = 0.01 < 0.05`. On the contrary, <b>there is no significant relationship between the time a user posts and the number of comments</b> as the `p-value = 0.19 > 0.05`. We can also point out that the correlation between `hour` and `numbr_likes` is approximately twice as big as the correlation between `hour` and `number_comments`."
   ]
  },
  {
   "cell_type": "markdown",
   "id": "1c1045cc-19a0-41cd-a44c-8a2847bd9a3f",
   "metadata": {},
   "source": [
    "## Bonus Points"
   ]
  },
  {
   "cell_type": "markdown",
   "id": "1512cfc6-8e0f-4b54-a9ff-7e5da30163d2",
   "metadata": {},
   "source": [
    "##### a) Sort the users in terms of number of followers and divide them into two groups: for the first group, take only the top 10% regarding \"followers\", and for the second one, take the rest. Now compare the mean of time intervals between posts for the two categories. Do you notice something relevant?"
   ]
  },
  {
   "cell_type": "markdown",
   "id": "f9f734ce-0ddc-460c-8d8b-c1367e27ae34",
   "metadata": {},
   "source": [
    "* First let's divide `instagram_profiles.csv` into two subsets:\n",
    "  1. The first `top10_followers` containing the top 10% regarding the number of followers.\n",
    "  2. The second `rest_followers` containing the remaining 90% of profiles."
   ]
  },
  {
   "cell_type": "code",
   "execution_count": 9,
   "id": "0e2fcccb-3213-4419-aa4a-749718c55a04",
   "metadata": {},
   "outputs": [],
   "source": [
    "# top10_followers\n",
    "\n",
    "df_instagram_profiles_bp = df_instagram_profiles.copy()\n",
    "df_instagram_profiles_bp.sort_values(by = 'followers', ascending = False, inplace = True)"
   ]
  },
  {
   "cell_type": "code",
   "execution_count": 11,
   "id": "e493451c-6bb2-450e-91c9-650d6132badd",
   "metadata": {},
   "outputs": [],
   "source": [
    "top10_followers = df_instagram_profiles_bp.head(int(0.1*len(df_instagram_profiles_bp)))"
   ]
  },
  {
   "cell_type": "code",
   "execution_count": 12,
   "id": "783f1d1c-d141-4fcf-b571-65344d382f3a",
   "metadata": {},
   "outputs": [],
   "source": [
    "rest_followers = df_instagram_profiles_bp.iloc[len(top10_followers):]"
   ]
  },
  {
   "cell_type": "markdown",
   "id": "26f740cd-a5c7-4533-955c-f416dc3b5ed1",
   "metadata": {},
   "source": [
    "Let's do some work on the `instagram_post.csv`."
   ]
  },
  {
   "cell_type": "markdown",
   "id": "d33fa77e-6211-4269-8e57-05d7bff240fb",
   "metadata": {},
   "source": [
    "* We recover the list of dataset chunks `chunk_list_new` used in question RQ3. Then, we group by `profile.id` and sum over `hour` creating a new variable called `hours_sum`. We append the new chunks to a new list called `chunk_list_new3`. Lastly, we concatenate the chunks grouping by `profile_id` and summing across the `hours_sum` column therefore obtaining the `data3` dataframe."
   ]
  },
  {
   "cell_type": "code",
   "execution_count": 13,
   "id": "5851e81a-189c-4f91-be8a-7656a4117109",
   "metadata": {},
   "outputs": [],
   "source": [
    "chunk_list_new3 = []\n",
    "for chunk in chunk_list_new:\n",
    "    chunk = chunk.groupby('profile_id', as_index=False)['hour'].agg({'hours_sum': 'sum'})\n",
    "    chunk_list_new3.append(chunk)\n",
    "    \n",
    "data3 = pd.concat(chunk_list_new3).groupby('profile_id', as_index=False)['hours_sum'].sum()"
   ]
  },
  {
   "cell_type": "markdown",
   "id": "8882fd59-895f-41a6-888a-710f37cd946e",
   "metadata": {},
   "source": [
    "* We group by `profile.id` and count the number of profile ids in each group creating a new column called `profile_id_count`. We append the new chunks to a new list called `chunk_list_new4`. Lastly, we concatenate the chunks grouping them by `profile_id` and summing across the `profile_id_count` column therefore obtaining the `data4` dataframe."
   ]
  },
  {
   "cell_type": "code",
   "execution_count": 14,
   "id": "5c4ab67b-a370-427d-b02a-a94712b71116",
   "metadata": {},
   "outputs": [],
   "source": [
    "# get instagram_posts dataset and group by profile id and average across hour (time)\n",
    "\n",
    "chunk_list_new4 = []\n",
    "for chunk in chunk_list_new:\n",
    "    chunk = chunk.groupby('profile_id', as_index=False)['profile_id'].agg({'profile_id_count': 'count'})\n",
    "    chunk_list_new4.append(chunk)\n",
    "    \n",
    "data4 = pd.concat(chunk_list_new4).groupby('profile_id', as_index=False)['profile_id_count'].sum()"
   ]
  },
  {
   "cell_type": "markdown",
   "id": "30a248a4-fade-45c1-92c4-60c433754f99",
   "metadata": {},
   "source": [
    "* We create a new dataframe `df_bp_1` by concatenating the columns in `data3` and `data4`. "
   ]
  },
  {
   "cell_type": "code",
   "execution_count": 15,
   "id": "b3aca387-5438-4a66-a4bb-904b6efa3b52",
   "metadata": {},
   "outputs": [],
   "source": [
    "# Concatenate the datasets \n",
    "\n",
    "df_bp_1 = pd.concat([data3, data4['profile_id_count']], axis = 1)"
   ]
  },
  {
   "cell_type": "markdown",
   "id": "1491d5a1-2557-44c3-a51f-e9c99daf3861",
   "metadata": {},
   "source": [
    "* Finally, we create a new column `average_hour` that is calculated by dividing the `hours_sum` by the `profile_id_count`."
   ]
  },
  {
   "cell_type": "code",
   "execution_count": 16,
   "id": "fd678726-57aa-402c-9ed2-c284451b986c",
   "metadata": {},
   "outputs": [],
   "source": [
    "# Create a new column containing the average hour \n",
    "\n",
    "df_bp_1['average_hour'] = df_bp_1['hours_sum']/df_bp_1['profile_id_count']"
   ]
  },
  {
   "cell_type": "code",
   "execution_count": 17,
   "id": "f47cdc24-02d0-460e-a668-e1d795f3da7d",
   "metadata": {},
   "outputs": [
    {
     "data": {
      "text/html": [
       "<div>\n",
       "<style scoped>\n",
       "    .dataframe tbody tr th:only-of-type {\n",
       "        vertical-align: middle;\n",
       "    }\n",
       "\n",
       "    .dataframe tbody tr th {\n",
       "        vertical-align: top;\n",
       "    }\n",
       "\n",
       "    .dataframe thead th {\n",
       "        text-align: right;\n",
       "    }\n",
       "</style>\n",
       "<table border=\"1\" class=\"dataframe\">\n",
       "  <thead>\n",
       "    <tr style=\"text-align: right;\">\n",
       "      <th></th>\n",
       "      <th>profile_id</th>\n",
       "      <th>hours_sum</th>\n",
       "      <th>profile_id_count</th>\n",
       "      <th>average_hour</th>\n",
       "    </tr>\n",
       "  </thead>\n",
       "  <tbody>\n",
       "    <tr>\n",
       "      <th>0</th>\n",
       "      <td>3.000000e+00</td>\n",
       "      <td>153.0</td>\n",
       "      <td>14</td>\n",
       "      <td>10.928571</td>\n",
       "    </tr>\n",
       "    <tr>\n",
       "      <th>1</th>\n",
       "      <td>4.000000e+00</td>\n",
       "      <td>404.0</td>\n",
       "      <td>37</td>\n",
       "      <td>10.918919</td>\n",
       "    </tr>\n",
       "    <tr>\n",
       "      <th>2</th>\n",
       "      <td>1.100000e+01</td>\n",
       "      <td>29.0</td>\n",
       "      <td>2</td>\n",
       "      <td>14.500000</td>\n",
       "    </tr>\n",
       "    <tr>\n",
       "      <th>3</th>\n",
       "      <td>1.200000e+01</td>\n",
       "      <td>5.0</td>\n",
       "      <td>1</td>\n",
       "      <td>5.000000</td>\n",
       "    </tr>\n",
       "    <tr>\n",
       "      <th>4</th>\n",
       "      <td>1.400000e+01</td>\n",
       "      <td>17.0</td>\n",
       "      <td>1</td>\n",
       "      <td>17.000000</td>\n",
       "    </tr>\n",
       "    <tr>\n",
       "      <th>...</th>\n",
       "      <td>...</td>\n",
       "      <td>...</td>\n",
       "      <td>...</td>\n",
       "      <td>...</td>\n",
       "    </tr>\n",
       "    <tr>\n",
       "      <th>11833760</th>\n",
       "      <td>9.001013e+13</td>\n",
       "      <td>134.0</td>\n",
       "      <td>10</td>\n",
       "      <td>13.400000</td>\n",
       "    </tr>\n",
       "    <tr>\n",
       "      <th>11833761</th>\n",
       "      <td>9.001013e+13</td>\n",
       "      <td>4.0</td>\n",
       "      <td>1</td>\n",
       "      <td>4.000000</td>\n",
       "    </tr>\n",
       "    <tr>\n",
       "      <th>11833762</th>\n",
       "      <td>9.001013e+13</td>\n",
       "      <td>42.0</td>\n",
       "      <td>2</td>\n",
       "      <td>21.000000</td>\n",
       "    </tr>\n",
       "    <tr>\n",
       "      <th>11833763</th>\n",
       "      <td>9.001013e+13</td>\n",
       "      <td>7.0</td>\n",
       "      <td>1</td>\n",
       "      <td>7.000000</td>\n",
       "    </tr>\n",
       "    <tr>\n",
       "      <th>11833764</th>\n",
       "      <td>9.001014e+13</td>\n",
       "      <td>3.0</td>\n",
       "      <td>1</td>\n",
       "      <td>3.000000</td>\n",
       "    </tr>\n",
       "  </tbody>\n",
       "</table>\n",
       "<p>11833765 rows × 4 columns</p>\n",
       "</div>"
      ],
      "text/plain": [
       "            profile_id  hours_sum  profile_id_count  average_hour\n",
       "0         3.000000e+00      153.0                14     10.928571\n",
       "1         4.000000e+00      404.0                37     10.918919\n",
       "2         1.100000e+01       29.0                 2     14.500000\n",
       "3         1.200000e+01        5.0                 1      5.000000\n",
       "4         1.400000e+01       17.0                 1     17.000000\n",
       "...                ...        ...               ...           ...\n",
       "11833760  9.001013e+13      134.0                10     13.400000\n",
       "11833761  9.001013e+13        4.0                 1      4.000000\n",
       "11833762  9.001013e+13       42.0                 2     21.000000\n",
       "11833763  9.001013e+13        7.0                 1      7.000000\n",
       "11833764  9.001014e+13        3.0                 1      3.000000\n",
       "\n",
       "[11833765 rows x 4 columns]"
      ]
     },
     "execution_count": 17,
     "metadata": {},
     "output_type": "execute_result"
    }
   ],
   "source": [
    "df_bp_1"
   ]
  },
  {
   "cell_type": "markdown",
   "id": "48dd830c-51dc-4f7f-a0d8-8e4d970b4bea",
   "metadata": {},
   "source": [
    "##### **Time interval distribution regarding the top 10% users with the highest number of followers**"
   ]
  },
  {
   "cell_type": "code",
   "execution_count": 36,
   "id": "1c0ea894-cd4d-454a-bbc7-c46667d67871",
   "metadata": {},
   "outputs": [],
   "source": [
    "# Let's start with top10 followers\n",
    "\n",
    "top10_followers.isna().sum()\n",
    "top10_followers_1 = top10_followers.copy()\n",
    "top10_followers_1.dropna(subset = ['profile_id'], inplace = True)"
   ]
  },
  {
   "cell_type": "markdown",
   "id": "96b62c33-a1ef-4f07-a259-e4a614622204",
   "metadata": {},
   "source": [
    "* We perform an inner merge `top10_followers` with `df_bp_1` on `profile_id`. So, we keep only those rows (profiles) that are present in both dataframes."
   ]
  },
  {
   "cell_type": "code",
   "execution_count": 37,
   "id": "64e88feb-fcbb-45ae-9f32-4bd57b667a89",
   "metadata": {},
   "outputs": [],
   "source": [
    "# keep only profile ids that are in both datasets\n",
    "\n",
    "top10_followers_merged = pd.merge(top10_followers_1, df_bp_1, on='profile_id', how='inner')"
   ]
  },
  {
   "cell_type": "markdown",
   "id": "fcc2dfb2-46e8-483b-a4d5-95c6aa4e5e25",
   "metadata": {},
   "source": [
    "* We use the function `time_intervals` defined in question `RQ3` to plot the distribution of the time intervals. Therefore, we count the number of `average_hour` occurrences there are for each time interval and we visualize the results."
   ]
  },
  {
   "cell_type": "code",
   "execution_count": 42,
   "id": "6fec5a8d-0bf6-448d-8d29-c050dcb21527",
   "metadata": {},
   "outputs": [
    {
     "data": {
      "image/png": "[encoded data removed]",
      "text/plain": [
       "<Figure size 432x288 with 1 Axes>"
      ]
     },
     "metadata": {
      "needs_background": "light"
     },
     "output_type": "display_data"
    }
   ],
   "source": [
    "time_intervals(top10_followers_merged, top10_followers_merged.average_hour, slots, title = \"the number of average_hour occcurrences for each time slot\")"
   ]
  },
  {
   "cell_type": "markdown",
   "id": "ca486ffe-33e4-4484-a4a1-b068873a0fa6",
   "metadata": {},
   "source": [
    "* **The mean of time intervals** is"
   ]
  },
  {
   "cell_type": "code",
   "execution_count": 43,
   "id": "dd2fc396-b54a-47dc-943e-8789572abfb4",
   "metadata": {},
   "outputs": [
    {
     "data": {
      "text/plain": [
       "13.236959396872"
      ]
     },
     "execution_count": 43,
     "metadata": {},
     "output_type": "execute_result"
    }
   ],
   "source": [
    "np.mean(top10_followers_merged.average_hour)"
   ]
  },
  {
   "cell_type": "markdown",
   "id": "43d2bb9c-8156-4912-9bd9-448b735a327e",
   "metadata": {},
   "source": [
    "##### **Time interval distribution regarding the remaining 90% of users**"
   ]
  },
  {
   "cell_type": "markdown",
   "id": "f73a09c5-ae21-407a-b733-08888c64b236",
   "metadata": {},
   "source": [
    "* We perform an inner merge `rest_followers` with `df_bp_1` on `profile_id`. So, we keep only those rows (profiles) that are present in both dataframes."
   ]
  },
  {
   "cell_type": "code",
   "execution_count": 20,
   "id": "d07355d9-e2c5-48cf-b6d9-95e3433436e9",
   "metadata": {},
   "outputs": [],
   "source": [
    "# Rest 90% of profile ids\n",
    "\n",
    "rest_followers_1 = rest_followers.copy()\n",
    "rest_followers_1.dropna(subset = ['profile_id'], inplace = True)"
   ]
  },
  {
   "cell_type": "code",
   "execution_count": null,
   "id": "3af55631-0a21-466d-82de-b6ced37336b7",
   "metadata": {},
   "outputs": [],
   "source": [
    "rest_followers_merged = pd.merge(rest_followers_1, df_bp_1, on='profile_id', how='inner')"
   ]
  },
  {
   "cell_type": "code",
   "execution_count": null,
   "id": "8d5d6e7b-18ca-4fac-95b5-5a88488ea969",
   "metadata": {},
   "outputs": [],
   "source": []
  },
  {
   "cell_type": "code",
   "execution_count": 38,
   "id": "7de21908-7ca9-4494-8dc9-ae247ab68bbf",
   "metadata": {},
   "outputs": [
    {
     "data": {
      "image/png": "[encoded data removed]",
      "text/plain": [
       "<Figure size 432x288 with 1 Axes>"
      ]
     },
     "metadata": {
      "needs_background": "light"
     },
     "output_type": "display_data"
    }
   ],
   "source": [
    "time_intervals(rest_followers_merged, rest_followers_merged.average_hour, slots, \"the number of average_hour occcurrences for each time slot\")"
   ]
  },
  {
   "cell_type": "markdown",
   "id": "cdc50bea-dc15-459e-ac0e-6215c544df17",
   "metadata": {},
   "source": [
    "* **The mean of time intervals** is"
   ]
  },
  {
   "cell_type": "code",
   "execution_count": 39,
   "id": "b3cc75d6-d863-47eb-8ca7-31260abfbd34",
   "metadata": {},
   "outputs": [
    {
     "data": {
      "text/plain": [
       "13.102672633361614"
      ]
     },
     "execution_count": 39,
     "metadata": {},
     "output_type": "execute_result"
    }
   ],
   "source": [
    "np.mean(rest_followers_merged.average_hour)"
   ]
  },
  {
   "cell_type": "markdown",
   "id": "00a289b4-8cb7-4acd-9b57-d48b060c9877",
   "metadata": {},
   "source": [
    "##### `Conclusions`\n",
    "\n",
    "It can clearly be seen that the distribution of the time intervals for the bottom 90% Instagram users (`rest_followers`) in terms of number of followers is similar to the one obtained in question `RQ3`. This could be explained by the fact that the majority (90%) of the dataset used in questin RQ3 is also present in rest_followers.\n",
    "\n",
    "While the distribution of the time intervals for the top 10% Instagram users (`top10_followers`) is very different wrt the one obtained in question `RQ3`. The histogram is far more skewed to the left, implying that <b>the most followed users tend to post earlier in the day (6 AM - 4 PM) and especially in the 2PM-4PM slot instead of in the evening (5PM-11PM) like the majority of the sampled Instagram users.</b>\n",
    "So, if you want to be more successful on Instagram, you should post in the morning and early afternoon!"
   ]
  }
 ],
 "metadata": {
  "kernelspec": {
   "display_name": "Python 3",
   "language": "python",
   "name": "python3"
  },
  "language_info": {
   "codemirror_mode": {
    "name": "ipython",
    "version": 3
   },
   "file_extension": ".py",
   "mimetype": "text/x-python",
   "name": "python",
   "nbconvert_exporter": "python",
   "pygments_lexer": "ipython3",
   "version": "3.8.8"
  }
 },
 "nbformat": 4,
 "nbformat_minor": 5
}
