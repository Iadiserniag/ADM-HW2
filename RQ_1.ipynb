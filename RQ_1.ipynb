{
 "cells": [
  {
   "attachments": {},
   "cell_type": "markdown",
   "id": "f0eab2d5",
   "metadata": {},
   "source": [
    "# <center>ADM: Homework 2: Instagram Profiles & Posts</center>\n",
    "\n",
    "* <b>Name: </b>Giulia Iadisernia         <b>Matricola</b>: 2065450 <b>Email: </b>iadisernia.2065450@studenti.uniroma.it  <br>\n",
    "* <b>Name: </b>Lorenzo Incoronato       <b>Matricola</b>: 1916863 <b>Email: </b>incoronato.1916863@studenti.uniroma1.it <br>\n",
    "* <b>Name: </b>Javier Martinez Velasco   <b>Matricola</b>: 2058968 <b>Email: </b>martinezvelasco.2058968@studenti.uniroma1.it<br>"
   ]
  },
  {
   "cell_type": "markdown",
   "id": "aa006665",
   "metadata": {},
   "source": [
    "### <b>[RQ1]</b> After collecting information, the Data Scientists have to know what dataset they are dealing with, so let's start with an Exploratory Data Analysis (EDA). What can you say about our datasets? Please summarise its main characteristics with visual and tabular methods"
   ]
  },
  {
   "cell_type": "code",
   "execution_count": 1,
   "id": "58a78733",
   "metadata": {},
   "outputs": [],
   "source": [
    "import warnings\n",
    "warnings.filterwarnings(\"ignore\")\n",
    "import pandas as pd\n",
    "import numpy as np\n",
    "import matplotlib.pyplot as plt\n",
    "import scipy.stats\n",
    "import os"
   ]
  },
  {
   "cell_type": "code",
   "execution_count": 2,
   "id": "d60890e9",
   "metadata": {},
   "outputs": [],
   "source": [
    "#UPLOADING POSTS.CSV\n",
    "fields = [\"post_type\", \"numbr_likes\",\"number_comments\", \"cts\"]\n",
    "df_instagram_posts_RQ1= pd.read_csv(\"~/instagram_posts.csv\", sep = \"\\t\" , usecols = fields ,parse_dates=[\"cts\"] )\n",
    "df_instagram_posts_RQ1_info = pd.read_csv(\"~/instagram_posts.csv\", sep = \"\\t\" ,nrows = 1 ,parse_dates=[\"cts\"])\n",
    "#DATA CLEANING \n",
    "df_instagram_posts_RQ1.numbr_likes.fillna(0, inplace = True)\n",
    "df_instagram_posts_RQ1.number_comments.fillna(0, inplace = True)\n",
    "#ASSIGNING VARIABLES\n",
    "likes = df_instagram_posts_RQ1.numbr_likes\n",
    "post_type = df_instagram_posts_RQ1.post_type\n",
    "comments = df_instagram_posts_RQ1.number_comments\n",
    "date = df_instagram_posts_RQ1.cts"
   ]
  },
  {
   "cell_type": "markdown",
   "id": "fd910538",
   "metadata": {},
   "source": [
    "<h3 style=\"font-size: 22px; color: #00009B\"> RQ1.1 EDA on instagram_posts.csv</h3>"
   ]
  },
  {
   "cell_type": "markdown",
   "id": "5c365459",
   "metadata": {},
   "source": [
    "#### Dataset Variables\n",
    "<b>SID</b>: Sequence ID <br>\n",
    "<b>sid_profile</b>: Sequence ID of the profile from ## Profiles tab key <br>\n",
    "<b>post_id</b>: Instagrams ID <br>\n",
    "<b>profile_id</b>: Instagrams ID may be null <br>\n",
    "<b>location_id</b>: Instagrams ID <br>\n",
    "<b>cts</b>: Timestamp when the Post was created <br>\n",
    "<b>post_type</b>: 1 - Photo, 2 - Video, 3 - multy <br>\n",
    "<b>description</b>: May contain '\\n' <br>\n",
    "<b>numbr_likes</b>: Number of Likes at the moment it was visited <br>\n",
    "<b>number_comments</b>: Number of comments at the moment it was visited <br>\n",
    "\n",
    "#### Which variables will be considered for instagram_post.csv EDA?\n",
    "\n",
    "The original dataset includes 10 variables, 6 of which don't provide any useful information by analyzing them numerically: \"SID\", \"sid_profile\", \"post_id\", \"profile_id\" and \"location_id\". Regarding \"description\", up to this point we don't have the required honwledge and tools to perform text mining and extract insights from this variable. Therefore, the exploratory data analysis will be performed over the remaining 4 variables: \"post_type\", \"numbr_likes\", \"number_comments\" and \"cts\". "
   ]
  },
  {
   "cell_type": "markdown",
   "id": "105a9675",
   "metadata": {
    "tags": []
   },
   "source": [
    "### Variables and data types"
   ]
  },
  {
   "cell_type": "markdown",
   "id": "faa12b70",
   "metadata": {},
   "source": [
    "Here we can observe the different data types of the variables. Since the variables post_type, numbr_likes and number_comments are actually discrete, we could transform them into integer values in a later data cleaning stage. "
   ]
  },
  {
   "cell_type": "code",
   "execution_count": 7,
   "id": "099f5ea9",
   "metadata": {},
   "outputs": [
    {
     "name": "stdout",
     "output_type": "stream",
     "text": [
      "<class 'pandas.core.frame.DataFrame'>\n",
      "RangeIndex: 1 entries, 0 to 0\n",
      "Data columns (total 10 columns):\n",
      " #   Column           Non-Null Count  Dtype \n",
      "---  ------           --------------  ----- \n",
      " 0   sid              1 non-null      int64 \n",
      " 1   sid_profile      1 non-null      int64 \n",
      " 2   post_id          1 non-null      object\n",
      " 3   profile_id       1 non-null      int64 \n",
      " 4   location_id      1 non-null      int64 \n",
      " 5   cts              1 non-null      datetime64[ns]\n",
      " 6   post_type        1 non-null      int64 \n",
      " 7   description      1 non-null      object\n",
      " 8   numbr_likes      1 non-null      int64 \n",
      " 9   number_comments  1 non-null      int64 \n",
      "dtypes: int64(7), object(3)\n",
      "memory usage: 208.0+ bytes\n"
     ]
    }
   ],
   "source": [
    "df_instagram_posts_RQ1_info.info()"
   ]
  },
  {
   "cell_type": "markdown",
   "id": "fe6f1eca",
   "metadata": {},
   "source": [
    "### Numerical Variables"
   ]
  },
  {
   "cell_type": "markdown",
   "id": "e650adea",
   "metadata": {
    "tags": []
   },
   "source": [
    "##### <b>1. NUMBER OF LIKES</b>"
   ]
  },
  {
   "cell_type": "markdown",
   "id": "757ce62b",
   "metadata": {
    "tags": []
   },
   "source": [
    "<i>Summary Statistics</i>",
    "<br>\n",
    "\"numbr_likes\" is a numerical discrete variable that indicates the amount of likes a certain post has obtained. By looking (table below) at the main summary values from the distribution we observe a big range from 0 to near 8M likes. However, 75% of the values lay below 114 likes and the mode is 12 likes. This suggests that the current mean (283) might not the best measure of expection for this distribution (this value is probably too high). Therefore, for a better summary of the distribution, outliers should be identified."
   ]
  },
  {
   "cell_type": "code",
   "execution_count": 23,
   "id": "ce20c3f8",
   "metadata": {},
   "outputs": [
    {
     "name": "stdout",
     "output_type": "stream",
     "text": [
      "mode           12.0\n"
     ]
    },
    {
     "data": {
      "text/plain": [
       "count    42710197.000000\n",
       "mean          283.502807\n",
       "std          6124.608652\n",
       "min             0.000000\n",
       "25%            20.000000\n",
       "50%            46.000000\n",
       "75%           114.000000\n",
       "max       8822952.000000\n",
       "Name: numbr_likes, dtype: object"
      ]
     },
     "execution_count": 23,
     "metadata": {},
     "output_type": "execute_result"
    }
   ],
   "source": [
    "print(\"mode          \", likes.mode()[0])\n",
    "likes.describe().apply(lambda x: format(x, 'f'))"
   ]
  },
  {
   "cell_type": "markdown",
   "id": "8462c93e",
   "metadata": {},
   "source": [
    "<i>Outliers</i>",
    "<br>\n",
    "In the output below, by obtaining the higher quantiles of the distribution we can clearly observe the <b>presence of outliers</b>. The quantile at percentile 0.95 shows that 95% of the total dataset posts(40,574.687) have received less than 471 likes.  \n",
    "By using the Interquartile Rule to Find Outliers we find out that in the right tail of the distribution, around 10% of the population are outliers. **This is an extremely high number of outliers**, which we believe is related to the nature of the distribution (close to an exponential) and the big sample size, which shows a high variation of likes in the population.<br>\n",
    "\n",
    "* IQR * 1.5 + Q3 = (114-20) * 1.5 + 114  = 255 <br>\n",
    "* Percentile 90 = 256 <br>\n",
    "* Therefore, 10% of the right tail of the distribution can be consider outliers"
   ]
  },
  {
   "cell_type": "code",
   "execution_count": 27,
   "id": "0cc4c8d2",
   "metadata": {},
   "outputs": [
    {
     "name": "stdout",
     "output_type": "stream",
     "text": [
      "Percentile       Quantile\n",
      "0.500000         46.000000\n",
      "0.900000        256.000000\n",
      "0.950000        471.000000\n",
      "0.990000       2875.000000\n",
      "0.999000      30636.000000\n",
      "0.999900     181821.941200\n",
      "0.999999    2028103.073639\n",
      "1.000000    8822952.000000\n",
      "Name: numbr_likes, dtype: object\n"
     ]
    },
    {
     "data": {
      "image/png": "[encoded data removed]",
      "text/plain": [
       "<Figure size 432x288 with 1 Axes>"
      ]
     },
     "metadata": {
      "needs_background": "light"
     },
     "output_type": "display_data"
    }
   ],
   "source": [
    "print(\"Percentile       Quantile\")\n",
    "print(likes.quantile([.5, .90, .95 , .99 , .999 , .9999 , .999999 , 1]).apply(lambda x: format(x, 'f')))\n",
    "plt.boxplot(likes)\n",
    "plt.show()"
   ]
  },
  {
   "cell_type": "markdown",
   "id": "12542523",
   "metadata": {},
   "source": [
    "<i>Distribution of the Variable</i>\n",
    "<br>\n",
    "When ploting the distribution we observe its exponential nature, with a highly positive skew and leptokurtosis. In this barplot we \"zoom\" on the 95% left tail of the distribution, because it is more representative of the sample population."
   ]
  },
  {
   "cell_type": "code",
   "execution_count": 63,
   "id": "0da216a9",
   "metadata": {},
   "outputs": [
    {
     "data": {
      "image/png": "[encoded data removed]",
      "text/plain": [
       "<Figure size 432x288 with 1 Axes>"
      ]
     },
     "metadata": {
      "needs_background": "light"
     },
     "output_type": "display_data"
    }
   ],
   "source": [
    "likes = df_instagram_posts_RQ1.numbr_likes\n",
    "new_axis = likes[likes < 471]\n",
    "unique,counts = np.unique(df_instagram_posts_RQ1.numbr_likes.values, return_counts=True)\n",
    "try:\n",
    "    plt.hist(new_axis,  bins='auto', normed=True , color = \"skyblue\")\n",
    "except AttributeError:\n",
    "    pass"
   ]
  },
  {
   "cell_type": "markdown",
   "id": "43b1cf22",
   "metadata": {},
   "source": [
    "##### <b>2. NUMBER OF COMMENTS</b>"
   ]
  },
  {
   "cell_type": "markdown",
   "id": "82af200b",
   "metadata": {},
   "source": [
    "<i>Summary Statistics</i>",
    "<br>\n",
    "We procede similarly with the variable \"number_comments\", which is a numerical discrete variable that indicates the amount of comments a certain post has obtained. We observe a range from 0 to near 488953 comments. We notice that 75% of the values lay below 5 comments and the mode is 0 comments. This suggests that the mean (7.59) might not the best measure of expection for this distribution (this value is probably too high). For a better summary of the distribution we proceed on identifying the outliers."
   ]
  },
  {
   "cell_type": "code",
   "execution_count": 12,
   "id": "a168b9b7",
   "metadata": {},
   "outputs": [
    {
     "name": "stdout",
     "output_type": "stream",
     "text": [
      "mode           0.0\n"
     ]
    },
    {
     "data": {
      "text/plain": [
       "count    42710197.000000\n",
       "mean            7.595301\n",
       "std           194.147559\n",
       "min             0.000000\n",
       "25%             0.000000\n",
       "50%             2.000000\n",
       "75%             5.000000\n",
       "max        488953.000000\n",
       "Name: number_comments, dtype: object"
      ]
     },
     "execution_count": 12,
     "metadata": {},
     "output_type": "execute_result"
    }
   ],
   "source": [
    "print(\"mode          \", comments.mode()[0])\n",
    "comments.describe().apply(lambda x: format(x, 'f'))"
   ]
  },
  {
   "cell_type": "markdown",
   "id": "31ed5e71",
   "metadata": {},
   "source": [
    "<i>Outliers</i>\n",
    "<br>\n",
    "As with the number of likes, in the output below we can clearly observe the <b>presence of outliers</b>. The quantile at percentile 0.99 shows that 99% of the total dataset posts(40,574.687) have received less than 77 comments. Applying the interquartile rule we find out that, as happens with the number of likes, around 10% of the data are outliers:\n",
    "* IQR * 1.5 + Q3 = (5-0) * 1.5 + 5  = 12.5 <br>\n",
    "* Percentile 90 = 13 <br>\n",
    "* Therefore, around 10% of the right tail of the distribution can be consider outliers"
   ]
  },
  {
   "cell_type": "code",
   "execution_count": 5,
   "id": "0ab33b8b",
   "metadata": {},
   "outputs": [
    {
     "name": "stdout",
     "output_type": "stream",
     "text": [
      "Percentile       Quantile\n",
      "0.500000         2.000000\n",
      "0.900000        13.000000\n",
      "0.950000        23.000000\n",
      "0.990000        77.000000\n",
      "0.999000       462.000000\n",
      "0.999900      2859.980400\n",
      "0.999999     73893.938977\n",
      "1.000000    488953.000000\n",
      "Name: number_comments, dtype: object\n"
     ]
    },
    {
     "data": {
      "image/png": "[encoded data removed]",
      "text/plain": [
       "<Figure size 432x288 with 1 Axes>"
      ]
     },
     "metadata": {
      "needs_background": "light"
     },
     "output_type": "display_data"
    }
   ],
   "source": [
    "print(\"Percentile       Quantile\")\n",
    "print(comments.quantile([.5, .90, .95 , .99 , .999 , .9999 , .999999 , 1]).apply(lambda x: format(x, 'f')))\n",
    "plt.boxplot(comments)\n",
    "plt.show()"
   ]
  },
  {
   "cell_type": "markdown",
   "id": "1723cf65",
   "metadata": {},
   "source": [
    "<i>Distribution of the Variable</i>\n",
    "<br>\n",
    "When ploting the distribution we observe it is very similar to the variable <i>number of likes</i> in terms of shape and skewness. "
   ]
  },
  {
   "cell_type": "code",
   "execution_count": 31,
   "id": "f9442658",
   "metadata": {},
   "outputs": [
    {
     "data": {
      "image/png": "[encoded data removed]",
      "text/plain": [
       "<Figure size 432x288 with 1 Axes>"
      ]
     },
     "metadata": {
      "needs_background": "light"
     },
     "output_type": "display_data"
    }
   ],
   "source": [
    "zoom_distro = comments[comments < 23]\n",
    "unique,counts = np.unique(df_instagram_posts_RQ1.number_comments, return_counts=True)\n",
    "try:\n",
    "    plt.hist(zoom_distro,  bins=23 ,normed=True, color = \"skyblue\")\n",
    "except AttributeError:\n",
    "    pass"
   ]
  },
  {
   "cell_type": "markdown",
   "id": "39c86e71",
   "metadata": {},
   "source": [
    "### Categorical Variables"
   ]
  },
  {
   "cell_type": "markdown",
   "id": "3867c6dd",
   "metadata": {},
   "source": [
    "<b>POST TYPES</b> <br>\n",
    "<i>Summary Statistics</i><br>",
    "This is a categorical variable which indicates the kind of post a user has published (1: photo, 2: video, 3: mixed). The mean is very close to 1, which means that photos are the most common type of post. In fact, at least 75% of the users choosed pictures as post type."
   ]
  },
  {
   "cell_type": "code",
   "execution_count": 21,
   "id": "064b4ee3",
   "metadata": {},
   "outputs": [
    {
     "data": {
      "text/plain": [
       "count    42710197.000000\n",
       "mean            1.028486\n",
       "std             0.172023\n",
       "min             1.000000\n",
       "25%             1.000000\n",
       "50%             1.000000\n",
       "75%             1.000000\n",
       "max             3.000000\n",
       "Name: post_type, dtype: object"
      ]
     },
     "execution_count": 21,
     "metadata": {},
     "output_type": "execute_result"
    }
   ],
   "source": [
    "post_type.describe().apply(lambda x: format(x, 'f'))"
   ]
  },
  {
   "cell_type": "markdown",
   "id": "392e2939",
   "metadata": {},
   "source": [
    "<i>Distribution of the Variable</i><br>\n",
    "When plotting the distribution of the variable, we can observe that near to 40 million posts are photos, and videos and mixed content (together) represent about 3% of the total posts."
   ]
  },
  {
   "cell_type": "code",
   "execution_count": 22,
   "id": "95cf8085",
   "metadata": {},
   "outputs": [
    {
     "name": "stdout",
     "output_type": "stream",
     "text": [
      "Photos represent 0.972 % of the dataset.\n",
      "Videos represent 0.027 % of the dataset.\n",
      "Mixed content represent 0.001 % of the dataset.\n"
     ]
    },
    {
     "data": {
      "image/png": "[encoded data removed]",
      "text/plain": [
       "<Figure size 432x288 with 1 Axes>"
      ]
     },
     "metadata": {
      "needs_background": "light"
     },
     "output_type": "display_data"
    }
   ],
   "source": [
    "post,count = np.unique(post_type.values, return_counts=True)\n",
    "postype = [\"Photos\",\"Videos\",\"Mixed content\"]\n",
    "plt.bar(postype,count)\n",
    "perc = count/42710197\n",
    "[print(postype[i], \"represent\" , round(perc[i],3), \"% of the dataset.\") for i in range(len(perc))][0]"
   ]
  },
  {
   "cell_type": "markdown",
   "id": "d052c81b",
   "metadata": {},
   "source": [
    "### Dates"
   ]
  },
  {
   "cell_type": "markdown",
   "id": "15eada98",
   "metadata": {},
   "source": [
    "##### <b>CTS</b>"
   ]
  },
  {
   "cell_type": "markdown",
   "id": "682d0877",
   "metadata": {},
   "source": [
    "<i>Summary Statistics</i>",
    "<br>\n",
    "'cts' is a variable that indicates the date and time a certain post was posted on Instagram. By looking at the table below we can see that the first post in our dataset was uploaded on 2010-07-19 at 01:12:23 while the last one was posted the day 2019-08-30 at 11:36:08.\n",
    "We also observe that the time when most posts were posted in the same second has been the day 2019-05-29 at 23:41:46, when 29 posts were posted in the same moment."
   ]
  },
  {
   "cell_type": "code",
   "execution_count": 32,
   "id": "bac156ef",
   "metadata": {},
   "outputs": [
    {
     "data": {
      "text/plain": [
       "count                42706865\n",
       "unique               24181497\n",
       "top       2019-05-29 23:41:46\n",
       "freq                       29\n",
       "first     2010-07-19 01:12:23\n",
       "last      2019-08-30 11:36:08\n",
       "Name: cts, dtype: object"
      ]
     },
     "execution_count": 32,
     "metadata": {},
     "output_type": "execute_result"
    }
   ],
   "source": [
    "date.describe()"
   ]
  },
  {
   "cell_type": "markdown",
   "id": "aa5e3ecf",
   "metadata": {},
   "source": [
    "In the following table we observe that, starting from 2010 with a minimum of 98 posts, every following year the number of post uploaded on instagram increased, reaching a maximum of 30215310 posts uploaded in 2019."
   ]
  },
  {
   "cell_type": "code",
   "execution_count": 52,
   "id": "711d2983",
   "metadata": {},
   "outputs": [
    {
     "data": {
      "text/plain": [
       "2019.0    30215310\n",
       "2018.0     8403250\n",
       "2017.0     2505120\n",
       "2016.0      986633\n",
       "2015.0      383953\n",
       "2014.0      142552\n",
       "2013.0       51962\n",
       "2012.0       16810\n",
       "2011.0        1177\n",
       "2010.0          98\n",
       "Name: cts, dtype: int64"
      ]
     },
     "execution_count": 52,
     "metadata": {},
     "output_type": "execute_result"
    }
   ],
   "source": [
    "date.dt.year.value_counts()"
   ]
  },
  {
   "cell_type": "markdown",
   "id": "43ed47d5",
   "metadata": {},
   "source": [
    "<i>Distribution of the Variable</i>\n",
    "<br>\n",
    "We plot below the distribution of the posts' years, and we notice its exponential growth, most likely due to the highly increasing relevance that this social network has been acquiring during the last years. Although maybe the reason is just that the data collection method was more focused on 2019 posts."
   ]
  },
  {
   "cell_type": "code",
   "execution_count": 73,
   "id": "e7f76f7e",
   "metadata": {},
   "outputs": [
    {
     "data": {
      "text/plain": [
       "<BarContainer object of 10 artists>"
      ]
     },
     "execution_count": 73,
     "metadata": {},
     "output_type": "execute_result"
    },
    {
     "data": {
      "image/png": "[encoded data removed]",
      "text/plain": [
       "<Figure size 432x288 with 1 Axes>"
      ]
     },
     "metadata": {
      "needs_background": "light"
     },
     "output_type": "display_data"
    }
   ],
   "source": [
    "posts=list(date.dt.year.value_counts())\n",
    "years=[int(i) for i in range(2019,2009,-1)]\n",
    "fig = plt.figure()\n",
    "ax = fig.add_axes([0,0,1,1])\n",
    "plt.bar(years,posts,color='skyblue')"
   ]
  },
  {
   "cell_type": "markdown",
   "id": "6303534d",
   "metadata": {},
   "source": [
    "### Correlation"
   ]
  },
  {
   "cell_type": "markdown",
   "id": "b8f11f8c",
   "metadata": {},
   "source": [
    "When plotting the numerical and categorical variables in a correlation matrix we don't observe any clear relation between the variables."
   ]
  },
  {
   "cell_type": "code",
   "execution_count": 28,
   "id": "08ae72b4",
   "metadata": {},
   "outputs": [
    {
     "data": {
      "text/html": [
       "<div>\n",
       "<style scoped>\n",
       "    .dataframe tbody tr th:only-of-type {\n",
       "        vertical-align: middle;\n",
       "    }\n",
       "\n",
       "    .dataframe tbody tr th {\n",
       "        vertical-align: top;\n",
       "    }\n",
       "\n",
       "    .dataframe thead th {\n",
       "        text-align: right;\n",
       "    }\n",
       "</style>\n",
       "<table border=\"1\" class=\"dataframe\">\n",
       "  <thead>\n",
       "    <tr style=\"text-align: right;\">\n",
       "      <th></th>\n",
       "      <th>post_type</th>\n",
       "      <th>numbr_likes</th>\n",
       "      <th>number_comments</th>\n",
       "    </tr>\n",
       "  </thead>\n",
       "  <tbody>\n",
       "    <tr>\n",
       "      <th>post_type</th>\n",
       "      <td>1.000000</td>\n",
       "      <td>0.002544</td>\n",
       "      <td>0.002800</td>\n",
       "    </tr>\n",
       "    <tr>\n",
       "      <th>numbr_likes</th>\n",
       "      <td>0.002544</td>\n",
       "      <td>1.000000</td>\n",
       "      <td>0.374453</td>\n",
       "    </tr>\n",
       "    <tr>\n",
       "      <th>number_comments</th>\n",
       "      <td>0.002800</td>\n",
       "      <td>0.374453</td>\n",
       "      <td>1.000000</td>\n",
       "    </tr>\n",
       "  </tbody>\n",
       "</table>\n",
       "</div>"
      ],
      "text/plain": [
       "                 post_type  numbr_likes  number_comments\n",
       "post_type         1.000000     0.002544         0.002800\n",
       "numbr_likes       0.002544     1.000000         0.374453\n",
       "number_comments   0.002800     0.374453         1.000000"
      ]
     },
     "execution_count": 28,
     "metadata": {},
     "output_type": "execute_result"
    }
   ],
   "source": [
    "df_instagram_posts_RQ1.corr()"
   ]
  },
  
  {
   "cell_type": "markdown",
   "id": "59f301f2",
   "metadata": {},
   "source": [
    "<h3 style=\"font-size: 22px; color: #00009B\"> RQ1.2 EDA on instagram_profiles.csv</h3>"
   ]
  },
  
  {
   "cell_type": "code",
   "execution_count": 32,
   "id": "6d5e8a09-a1b5-41c8-9441-605b8d14302f",
   "metadata": {},
   "outputs": [],
   "source": [
    "#Import the dataset df_instagram_profiles.csv\n",
    "df_instagram_profiles_RQ1 = pd.read_csv(\"~/instagram_profiles.csv\", delimiter = \"\\t\")"
   ]
  },
  {
   "cell_type": "markdown",
   "id": "ddfe1039-4003-4d51-972d-5e57583968a1",
   "metadata": {
    "tags": []
   },
   "source": [
    "#### Dataset `df_instagram_profiles` description\n",
    "\n",
    "  * `sid`: sequence id `(float)`\n",
    "  * `profile_id`: instagram orofile id `(float)`\n",
    "  * `profile_name`: instagram profile name `(string)`\n",
    "  * `firstname_lastname`: user's firstname and lastname `(string)`\n",
    "  * `description`: user's instagram profile description `(string)`\n",
    "  * `following`: number of following at the moment it was visited `(float)`\n",
    "  * `followers`: number of followers at the moment it was visited `(float)`\n",
    "  * `n_posts`: number of posts at the moment it was visited `(float)`\n",
    "  * `url`: url `(string)`\n",
    "  * `cts`: Timestamp when the profile was visited `(object)`\n",
    "  * `is_business_account`: Boolean variable that indicates whether that profile was makred by the owner as business account or not `{False, True}`"
   ]
  },
  {
   "cell_type": "markdown",
   "id": "4582b748-da87-4819-8eb7-371793dc04da",
   "metadata": {},
   "source": [
    "### Numerical variables"
   ]
  },
  {
   "cell_type": "code",
   "execution_count": 17,
   "id": "aee313d8-bdf2-4da6-a01b-0005bd14c959",
   "metadata": {},
   "outputs": [
    {
     "data": {
      "text/html": [
       "<div>\n",
       "<style scoped>\n",
       "    .dataframe tbody tr th:only-of-type {\n",
       "        vertical-align: middle;\n",
       "    }\n",
       "\n",
       "    .dataframe tbody tr th {\n",
       "        vertical-align: top;\n",
       "    }\n",
       "\n",
       "    .dataframe thead th {\n",
       "        text-align: right;\n",
       "    }\n",
       "</style>\n",
       "<table border=\"1\" class=\"dataframe\">\n",
       "  <thead>\n",
       "    <tr style=\"text-align: right;\">\n",
       "      <th></th>\n",
       "      <th>following</th>\n",
       "      <th>followers</th>\n",
       "      <th>n_posts</th>\n",
       "    </tr>\n",
       "  </thead>\n",
       "  <tbody>\n",
       "    <tr>\n",
       "      <th>count</th>\n",
       "      <td>3452771</td>\n",
       "      <td>3452771</td>\n",
       "      <td>3452771</td>\n",
       "    </tr>\n",
       "    <tr>\n",
       "      <th>mean</th>\n",
       "      <td>1406</td>\n",
       "      <td>4740</td>\n",
       "      <td>410</td>\n",
       "    </tr>\n",
       "    <tr>\n",
       "      <th>std</th>\n",
       "      <td>8113</td>\n",
       "      <td>193909</td>\n",
       "      <td>1042</td>\n",
       "    </tr>\n",
       "    <tr>\n",
       "      <th>min</th>\n",
       "      <td>0</td>\n",
       "      <td>0</td>\n",
       "      <td>0</td>\n",
       "    </tr>\n",
       "    <tr>\n",
       "      <th>25%</th>\n",
       "      <td>356</td>\n",
       "      <td>159</td>\n",
       "      <td>22</td>\n",
       "    </tr>\n",
       "    <tr>\n",
       "      <th>50%</th>\n",
       "      <td>754</td>\n",
       "      <td>406</td>\n",
       "      <td>120</td>\n",
       "    </tr>\n",
       "    <tr>\n",
       "      <th>75%</th>\n",
       "      <td>1573</td>\n",
       "      <td>974</td>\n",
       "      <td>420</td>\n",
       "    </tr>\n",
       "    <tr>\n",
       "      <th>max</th>\n",
       "      <td>4191080</td>\n",
       "      <td>285457645</td>\n",
       "      <td>183730</td>\n",
       "    </tr>\n",
       "  </tbody>\n",
       "</table>\n",
       "</div>"
      ],
      "text/plain": [
       "      following  followers  n_posts\n",
       "count   3452771    3452771  3452771\n",
       "mean       1406       4740      410\n",
       "std        8113     193909     1042\n",
       "min           0          0        0\n",
       "25%         356        159       22\n",
       "50%         754        406      120\n",
       "75%        1573        974      420\n",
       "max     4191080  285457645   183730"
      ]
     },
     "execution_count": 17,
     "metadata": {},
     "output_type": "execute_result"
    }
   ],
   "source": [
    "df_instagram_profiles_RQ1['sid'] = df_instagram_profiles_RQ1['sid'].astype(str)\n",
    "df_instagram_profiles_RQ1['profile_id'] = df_instagram_profiles_RQ1['profile_id'].astype(str)\n",
    "df_instagram_profiles_RQ1 = df_instagram_profiles_RQ1.astype({'following': 'int', 'followers': 'int', 'n_posts': 'int'}, errors = 'ignore')\n",
    "df_instagram_profiles_RQ1.describe().apply(lambda s: s.apply('{0:.0f}'.format))"
   ]
  },
  {
   "cell_type": "markdown",
   "id": "80c0bfa5-72b3-41d6-b618-faa89eb929c7",
   "metadata": {},
   "source": [
    "In order to visualize the distribution of the variables, we have defined the function `Hist(df_var, xlabel, title, col, n_bins, log_trans = False)` which returns an histogram of that specific variable `df_var`.<br>\n",
    "Note: We apply the **log-transformation** when the data is strongly skewed."
   ]
  },
  {
   "cell_type": "code",
   "execution_count": 4,
   "id": "4408b72b-260e-4bc1-9e63-6def45e49fbf",
   "metadata": {},
   "outputs": [],
   "source": [
    "def hist(df_var, xlabel, title, col, n_bins, log_trans = False):\n",
    "    df_var.plot(kind = 'hist', color = col, bins = n_bins, logy = log_trans, ec = 'black')\n",
    "    plt.xlabel(xlabel, labelpad = 14)\n",
    "    plt.ylabel(\"Count\", labelpad = 14)\n",
    "    plt.title(title, y = 1.05)"
   ]
  },
  {
   "cell_type": "markdown",
   "id": "b8184580-4849-4e0a-b09e-02d7751454f5",
   "metadata": {},
   "source": [
    "<b>1. FOLLOWERS</b> <br>\n",
    "<i>Distribution of the variable</i>"
   ]
  },
  {
   "cell_type": "code",
   "execution_count": 14,
   "id": "1373206e-574c-44a7-9230-69d0742af261",
   "metadata": {
    "scrolled": false
   },
   "outputs": [
    {
     "data": {
      "image/png": "[encoded data removed]",
      "text/plain": [
       "<Figure size 432x288 with 1 Axes>"
      ]
     },
     "metadata": {
      "needs_background": "light"
     },
     "output_type": "display_data"
    }
   ],
   "source": [
    "hist(df_instagram_profiles_RQ1['followers'], \"followers\", \"Count of followers\", col = \"red\", n_bins = 30, log_trans = True)"
   ]
  },
  {
   "cell_type": "markdown",
   "id": "50969988-c5fe-4316-853f-2a514a213e0f",
   "metadata": {},
   "source": [
    "In the histogram below we can observe the distribution of the variable when it takes values less than ten thousand (`Followers < 10,000`) which is the interval where lays most of the mass of the distribution."
   ]
  },
  {
   "cell_type": "code",
   "execution_count": 15,
   "id": "70f8268d-6588-447c-8600-54a5b461938b",
   "metadata": {},
   "outputs": [
    {
     "data": {
      "image/png": "[encoded data removed]",
      "text/plain": [
       "<Figure size 432x288 with 1 Axes>"
      ]
     },
     "metadata": {
      "needs_background": "light"
     },
     "output_type": "display_data"
    }
   ],
   "source": [
    "hist(df_instagram_profiles_RQ1.followers[df_instagram_profiles['followers'] < 100000], \"followers\", \"Count of followers\", col = \"skyblue\", n_bins = 30, log_trans = True)"
   ]
  },
  {
   "cell_type": "markdown",
   "id": "aee9579c-a319-4f24-b575-db3df268742d",
   "metadata": {},
   "source": [
    "<b>2. FOLLOWING</b> <br>"
   ]
  },
  {
   "cell_type": "code",
   "execution_count": 47,
   "id": "9e13f6b7-900d-4586-a601-55e26be9eb1c",
   "metadata": {},
   "outputs": [
    {
     "data": {
      "image/png": "[encoded data removed]",
      "text/plain": [
       "<Figure size 432x288 with 1 Axes>"
      ]
     },
     "metadata": {
      "needs_background": "light"
     },
     "output_type": "display_data"
    }
   ],
   "source": [
    "hist(df_instagram_profiles_RQ1['following'], \"following\", \"Count of following\", col = \"orange\", n_bins = 30, log_trans = True)"
   ]
  },
  {
   "cell_type": "markdown",
   "id": "64d37bc3-8122-4a41-99be-a355754cd598",
   "metadata": {},
   "source": [
    "<b>3. NUMBER OF POSTS</b> <br>"
   ]
  },
  {
   "cell_type": "code",
   "execution_count": 48,
   "id": "5ca05e6a-d082-4c7e-8a6f-938d1d2202d6",
   "metadata": {},
   "outputs": [
    {
     "data": {
      "image/png": "[encoded data removed]",
      "text/plain": [
       "<Figure size 432x288 with 1 Axes>"
      ]
     },
     "metadata": {
      "needs_background": "light"
     },
     "output_type": "display_data"
    }
   ],
   "source": [
    "hist(df_instagram_profiles_RQ1['n_posts'], \"n_posts\", \"Count of the number of posts\", col = \"blue\", n_bins = 30, log_trans = True)"
   ]
  },
  {
   "cell_type": "markdown",
   "id": "ef2b4d0a",
   "metadata": {},
   "source": [
    "### Categorical variables"
   ]
  },
  {
   "cell_type": "markdown",
   "id": "36345800",
   "metadata": {},
   "source": [
    "By observing the \"top\" row in the summary below, we learn that the most common name in the dataset is Sarah, or that the most used term in the descriptions is the emoji \"🖤\"."
   ]
  },
  {
   "cell_type": "code",
   "execution_count": 25,
   "id": "6992d9f0-ec7d-4321-9f60-a4ff9cd3385c",
   "metadata": {},
   "outputs": [
    {
     "data": {
      "text/html": [
       "<div>\n",
       "<style scoped>\n",
       "    .dataframe tbody tr th:only-of-type {\n",
       "        vertical-align: middle;\n",
       "    }\n",
       "\n",
       "    .dataframe tbody tr th {\n",
       "        vertical-align: top;\n",
       "    }\n",
       "\n",
       "    .dataframe thead th {\n",
       "        text-align: right;\n",
       "    }\n",
       "</style>\n",
       "<table border=\"1\" class=\"dataframe\">\n",
       "  <thead>\n",
       "    <tr style=\"text-align: right;\">\n",
       "      <th></th>\n",
       "      <th>sid</th>\n",
       "      <th>profile_id</th>\n",
       "      <th>profile_name</th>\n",
       "      <th>firstname_lastname</th>\n",
       "      <th>description</th>\n",
       "      <th>following</th>\n",
       "      <th>followers</th>\n",
       "      <th>n_posts</th>\n",
       "      <th>url</th>\n",
       "      <th>cts</th>\n",
       "      <th>is_business_account</th>\n",
       "    </tr>\n",
       "  </thead>\n",
       "  <tbody>\n",
       "    <tr>\n",
       "      <th>count</th>\n",
       "      <td>4.509586e+06</td>\n",
       "      <td>4.477139e+06</td>\n",
       "      <td>4509586</td>\n",
       "      <td>4221121</td>\n",
       "      <td>2453590</td>\n",
       "      <td>3.452771e+06</td>\n",
       "      <td>3.452771e+06</td>\n",
       "      <td>3.452771e+06</td>\n",
       "      <td>870274</td>\n",
       "      <td>4071098</td>\n",
       "      <td>3445323</td>\n",
       "    </tr>\n",
       "    <tr>\n",
       "      <th>unique</th>\n",
       "      <td>NaN</td>\n",
       "      <td>NaN</td>\n",
       "      <td>4508180</td>\n",
       "      <td>3526944</td>\n",
       "      <td>2376474</td>\n",
       "      <td>NaN</td>\n",
       "      <td>NaN</td>\n",
       "      <td>NaN</td>\n",
       "      <td>841652</td>\n",
       "      <td>4062921</td>\n",
       "      <td>2</td>\n",
       "    </tr>\n",
       "    <tr>\n",
       "      <th>top</th>\n",
       "      <td>NaN</td>\n",
       "      <td>NaN</td>\n",
       "      <td>chkanyc</td>\n",
       "      <td>Sarah</td>\n",
       "      <td>🖤</td>\n",
       "      <td>NaN</td>\n",
       "      <td>NaN</td>\n",
       "      <td>NaN</td>\n",
       "      <td>gmail.com</td>\n",
       "      <td>2019-07-01 02:26:35.268 -0400</td>\n",
       "      <td>False</td>\n",
       "    </tr>\n",
       "    <tr>\n",
       "      <th>freq</th>\n",
       "      <td>NaN</td>\n",
       "      <td>NaN</td>\n",
       "      <td>4</td>\n",
       "      <td>2340</td>\n",
       "      <td>868</td>\n",
       "      <td>NaN</td>\n",
       "      <td>NaN</td>\n",
       "      <td>NaN</td>\n",
       "      <td>3437</td>\n",
       "      <td>6</td>\n",
       "      <td>2590069</td>\n",
       "    </tr>\n",
       "    <tr>\n",
       "      <th>mean</th>\n",
       "      <td>2.255992e+06</td>\n",
       "      <td>3.083302e+09</td>\n",
       "      <td>NaN</td>\n",
       "      <td>NaN</td>\n",
       "      <td>NaN</td>\n",
       "      <td>1.405641e+03</td>\n",
       "      <td>4.739899e+03</td>\n",
       "      <td>4.095414e+02</td>\n",
       "      <td>NaN</td>\n",
       "      <td>NaN</td>\n",
       "      <td>NaN</td>\n",
       "    </tr>\n",
       "    <tr>\n",
       "      <th>std</th>\n",
       "      <td>1.301807e+06</td>\n",
       "      <td>4.266575e+10</td>\n",
       "      <td>NaN</td>\n",
       "      <td>NaN</td>\n",
       "      <td>NaN</td>\n",
       "      <td>8.113473e+03</td>\n",
       "      <td>1.939087e+05</td>\n",
       "      <td>1.041940e+03</td>\n",
       "      <td>NaN</td>\n",
       "      <td>NaN</td>\n",
       "      <td>NaN</td>\n",
       "    </tr>\n",
       "    <tr>\n",
       "      <th>min</th>\n",
       "      <td>1.186000e+03</td>\n",
       "      <td>4.000000e+00</td>\n",
       "      <td>NaN</td>\n",
       "      <td>NaN</td>\n",
       "      <td>NaN</td>\n",
       "      <td>0.000000e+00</td>\n",
       "      <td>0.000000e+00</td>\n",
       "      <td>0.000000e+00</td>\n",
       "      <td>NaN</td>\n",
       "      <td>NaN</td>\n",
       "      <td>NaN</td>\n",
       "    </tr>\n",
       "    <tr>\n",
       "      <th>25%</th>\n",
       "      <td>1.128596e+06</td>\n",
       "      <td>2.735177e+08</td>\n",
       "      <td>NaN</td>\n",
       "      <td>NaN</td>\n",
       "      <td>NaN</td>\n",
       "      <td>3.560000e+02</td>\n",
       "      <td>1.590000e+02</td>\n",
       "      <td>2.200000e+01</td>\n",
       "      <td>NaN</td>\n",
       "      <td>NaN</td>\n",
       "      <td>NaN</td>\n",
       "    </tr>\n",
       "    <tr>\n",
       "      <th>50%</th>\n",
       "      <td>2.255992e+06</td>\n",
       "      <td>1.649248e+09</td>\n",
       "      <td>NaN</td>\n",
       "      <td>NaN</td>\n",
       "      <td>NaN</td>\n",
       "      <td>7.540000e+02</td>\n",
       "      <td>4.060000e+02</td>\n",
       "      <td>1.200000e+02</td>\n",
       "      <td>NaN</td>\n",
       "      <td>NaN</td>\n",
       "      <td>NaN</td>\n",
       "    </tr>\n",
       "    <tr>\n",
       "      <th>75%</th>\n",
       "      <td>3.383389e+06</td>\n",
       "      <td>5.514691e+09</td>\n",
       "      <td>NaN</td>\n",
       "      <td>NaN</td>\n",
       "      <td>NaN</td>\n",
       "      <td>1.573000e+03</td>\n",
       "      <td>9.740000e+02</td>\n",
       "      <td>4.200000e+02</td>\n",
       "      <td>NaN</td>\n",
       "      <td>NaN</td>\n",
       "      <td>NaN</td>\n",
       "    </tr>\n",
       "    <tr>\n",
       "      <th>max</th>\n",
       "      <td>4.510785e+06</td>\n",
       "      <td>9.001013e+13</td>\n",
       "      <td>NaN</td>\n",
       "      <td>NaN</td>\n",
       "      <td>NaN</td>\n",
       "      <td>4.191080e+06</td>\n",
       "      <td>2.854576e+08</td>\n",
       "      <td>1.837300e+05</td>\n",
       "      <td>NaN</td>\n",
       "      <td>NaN</td>\n",
       "      <td>NaN</td>\n",
       "    </tr>\n",
       "  </tbody>\n",
       "</table>\n",
       "</div>"
      ],
      "text/plain": [
       "                 sid    profile_id profile_name firstname_lastname  \\\n",
       "count   4.509586e+06  4.477139e+06      4509586            4221121   \n",
       "unique           NaN           NaN      4508180            3526944   \n",
       "top              NaN           NaN      chkanyc              Sarah   \n",
       "freq             NaN           NaN            4               2340   \n",
       "mean    2.255992e+06  3.083302e+09          NaN                NaN   \n",
       "std     1.301807e+06  4.266575e+10          NaN                NaN   \n",
       "min     1.186000e+03  4.000000e+00          NaN                NaN   \n",
       "25%     1.128596e+06  2.735177e+08          NaN                NaN   \n",
       "50%     2.255992e+06  1.649248e+09          NaN                NaN   \n",
       "75%     3.383389e+06  5.514691e+09          NaN                NaN   \n",
       "max     4.510785e+06  9.001013e+13          NaN                NaN   \n",
       "\n",
       "       description     following     followers       n_posts        url  \\\n",
       "count      2453590  3.452771e+06  3.452771e+06  3.452771e+06     870274   \n",
       "unique     2376474           NaN           NaN           NaN     841652   \n",
       "top              🖤           NaN           NaN           NaN  gmail.com   \n",
       "freq           868           NaN           NaN           NaN       3437   \n",
       "mean           NaN  1.405641e+03  4.739899e+03  4.095414e+02        NaN   \n",
       "std            NaN  8.113473e+03  1.939087e+05  1.041940e+03        NaN   \n",
       "min            NaN  0.000000e+00  0.000000e+00  0.000000e+00        NaN   \n",
       "25%            NaN  3.560000e+02  1.590000e+02  2.200000e+01        NaN   \n",
       "50%            NaN  7.540000e+02  4.060000e+02  1.200000e+02        NaN   \n",
       "75%            NaN  1.573000e+03  9.740000e+02  4.200000e+02        NaN   \n",
       "max            NaN  4.191080e+06  2.854576e+08  1.837300e+05        NaN   \n",
       "\n",
       "                                  cts is_business_account  \n",
       "count                         4071098             3445323  \n",
       "unique                        4062921                   2  \n",
       "top     2019-07-01 02:26:35.268 -0400               False  \n",
       "freq                                6             2590069  \n",
       "mean                              NaN                 NaN  \n",
       "std                               NaN                 NaN  \n",
       "min                               NaN                 NaN  \n",
       "25%                               NaN                 NaN  \n",
       "50%                               NaN                 NaN  \n",
       "75%                               NaN                 NaN  \n",
       "max                               NaN                 NaN  "
      ]
     },
     "execution_count": 25,
     "metadata": {},
     "output_type": "execute_result"
    }
   ],
   "source": [
    "df_instagram_profiles_RQ1.describe(include = 'all')"
   ]
  },
  {
   "cell_type": "markdown",
   "id": "f2dfdb04-b484-4f6b-b88b-b23fb3e7c4c7",
   "metadata": {},
   "source": [
    "In order to plot categorical variables, let's define the function `bar_binary(df_var, xlabel, title, col)` that returns the bar chart of the binary variable `df_var`."
   ]
  },
  {
   "cell_type": "code",
   "execution_count": 28,
   "id": "1b179f31-1cff-4b64-9cec-0249b7c82d9f",
   "metadata": {},
   "outputs": [],
   "source": [
    "def bar_binary(df_var, xlabel, title, col):\n",
    "    count = df_var.value_counts()\n",
    "    count.plot(kind = 'bar', color = col, ec = 'purple')\n",
    "    plt.xlabel(xlabel, labelpad = 14)\n",
    "    plt.ylabel(\"Count\", labelpad = 14)\n",
    "    plt.title(title, y = 1.05)"
   ]
  },
  {
   "cell_type": "markdown",
   "id": "208acc54-6088-434e-9ba4-be5662455219",
   "metadata": {},
   "source": [
    "##### **IS_BUSINESS_ACCOUNT**"
   ]
  },
  {
   "cell_type": "markdown",
   "id": "816e73c4",
   "metadata": {},
   "source": [
    "The main categorical variable in the dataset is <i>is_business_account</i> which takes boolean values. As we observe in the graph below, close to 75% of the accounts are personal, while 25% are business accounts."
   ]
  },
  {
   "cell_type": "code",
   "execution_count": 29,
   "id": "427a3d0d-21e7-49d2-b750-8e80cec5cb74",
   "metadata": {},
   "outputs": [
    {
     "data": {
      "image/png": "[encoded data removed]",
      "text/plain": [
       "<Figure size 432x288 with 1 Axes>"
      ]
     },
     "metadata": {
      "needs_background": "light"
     },
     "output_type": "display_data"
    }
   ],
   "source": [
    "bar_binary(df_instagram_profiles_RQ1['is_business_account'], \"is_business_account\", \"Count of the number of business accounts\", \"purple\")"
   ]
  },
  {
   "cell_type": "markdown",
   "id": "7e446aec",
   "metadata": {},
   "source": [
    "<h3 style=\"font-size: 22px; color: #00009B\"> RQ1.3 EDA on locations.csv</h3>"
   ]
  },
  {
   "cell_type": "code",
   "execution_count": 30,
   "id": "f5407029-cae8-4d9d-bb59-6a339a089227",
   "metadata": {},
   "outputs": [],
   "source": [
    "# import the dataset df_instagram_locations\n",
    "df_instagram_locations = pd.read_csv(\"~/instagram_locations.csv\", delimiter = \"\\t\")"
   ]
  },
  {
   "cell_type": "markdown",
   "id": "13ebd3a2-3648-47bb-b50e-bf588ebdaa2c",
   "metadata": {},
   "source": [
    "#### Dataset `df_instagram_locations` description\n",
    "\n",
    "* `sid`: sequence id `(string)`\n",
    "* `id`: location id `(string)`\n",
    "* `name`: location's name `(string)`\n",
    "* `street`: street `(string)`\n",
    "* `zip`: zip code `(string)`\n",
    "* `city`: city name `(string)`\n",
    "* `region`: region name `(string)`\n",
    "* `cd`: country code `(string)`\n",
    "* `phone`: phone in the same format as on Instagram `(string)`\n",
    "* `aj_exact_city_match`: Instagram's internal key `{False, True}`\n",
    "* `blurb`: description of the location `(string)`\n",
    "* `dir_city_id`: Instagram's internal city id `(string)`\n",
    "* `dir_city_slug`: city tag `(string)`\n",
    "* `dir_country_id`: country id `(string)`\n",
    "* `dir_country_name`: country name `(string)`\n",
    "* `lat`: latitude `(float)`\n",
    "* `lng`: longitute `(float)`\n",
    "* `primary_alias_on_fb`: Boolean flag\n",
    "* `website`: url to the website (it may contain more than one url)\n",
    "* `cts`: timestamp when the location was visited `(pd object)`"
   ]
  },
  {
   "cell_type": "markdown",
   "id": "7ff1ac60-6ee7-488b-b4fb-8eb068cadd30",
   "metadata": {},
   "source": [
    "### Numerical variables"
   ]
  },
  {
   "cell_type": "code",
   "execution_count": 31,
   "id": "81c6b739-d58a-403c-ab88-2f3391e17513",
   "metadata": {},
   "outputs": [
    {
     "data": {
      "text/html": [
       "<div>\n",
       "<style scoped>\n",
       "    .dataframe tbody tr th:only-of-type {\n",
       "        vertical-align: middle;\n",
       "    }\n",
       "\n",
       "    .dataframe tbody tr th {\n",
       "        vertical-align: top;\n",
       "    }\n",
       "\n",
       "    .dataframe thead th {\n",
       "        text-align: right;\n",
       "    }\n",
       "</style>\n",
       "<table border=\"1\" class=\"dataframe\">\n",
       "  <thead>\n",
       "    <tr style=\"text-align: right;\">\n",
       "      <th></th>\n",
       "      <th>lat</th>\n",
       "      <th>lng</th>\n",
       "    </tr>\n",
       "  </thead>\n",
       "  <tbody>\n",
       "    <tr>\n",
       "      <th>count</th>\n",
       "      <td>1016495.00000</td>\n",
       "      <td>1016495.00000</td>\n",
       "    </tr>\n",
       "    <tr>\n",
       "      <th>mean</th>\n",
       "      <td>-15.29215</td>\n",
       "      <td>34.21718</td>\n",
       "    </tr>\n",
       "    <tr>\n",
       "      <th>std</th>\n",
       "      <td>76.15085</td>\n",
       "      <td>22.01081</td>\n",
       "    </tr>\n",
       "    <tr>\n",
       "      <th>min</th>\n",
       "      <td>-179.98300</td>\n",
       "      <td>-90.00000</td>\n",
       "    </tr>\n",
       "    <tr>\n",
       "      <th>25%</th>\n",
       "      <td>-80.15575</td>\n",
       "      <td>29.97555</td>\n",
       "    </tr>\n",
       "    <tr>\n",
       "      <th>50%</th>\n",
       "      <td>-2.45000</td>\n",
       "      <td>40.67820</td>\n",
       "    </tr>\n",
       "    <tr>\n",
       "      <th>75%</th>\n",
       "      <td>30.71740</td>\n",
       "      <td>48.84722</td>\n",
       "    </tr>\n",
       "    <tr>\n",
       "      <th>max</th>\n",
       "      <td>179.99412</td>\n",
       "      <td>89.99870</td>\n",
       "    </tr>\n",
       "  </tbody>\n",
       "</table>\n",
       "</div>"
      ],
      "text/plain": [
       "                lat           lng\n",
       "count 1016495.00000 1016495.00000\n",
       "mean      -15.29215      34.21718\n",
       "std        76.15085      22.01081\n",
       "min      -179.98300     -90.00000\n",
       "25%       -80.15575      29.97555\n",
       "50%        -2.45000      40.67820\n",
       "75%        30.71740      48.84722\n",
       "max       179.99412      89.99870"
      ]
     },
     "execution_count": 31,
     "metadata": {},
     "output_type": "execute_result"
    }
   ],
   "source": [
    "pd.set_option('display.float_format', lambda x: '%.5f' % x)\n",
    "df_instagram_locations['sid'] = df_instagram_locations['sid'].astype(str)\n",
    "df_instagram_locations['id'] = df_instagram_locations['id'].astype(str)\n",
    "df_instagram_locations.describe()"
   ]
  },
  {
   "cell_type": "markdown",
   "id": "6c8abc80-94ec-4804-8be6-970471eb8a73",
   "metadata": {},
   "source": [
    "##### **Latitude**"
   ]
  },
  {
   "cell_type": "code",
   "execution_count": 49,
   "id": "d5b99e87-d85e-452c-aab0-026169a2165c",
   "metadata": {},
   "outputs": [
    {
     "data": {
      "image/png": "[encoded data removed]",
      "text/plain": [
       "<Figure size 432x288 with 1 Axes>"
      ]
     },
     "metadata": {
      "needs_background": "light"
     },
     "output_type": "display_data"
    }
   ],
   "source": [
    "hist(df_instagram_locations['lat'], \"latitude\", \"Latitude distribution\", \"red\", n_bins = 20)"
   ]
  },
  {
   "cell_type": "code",
   "execution_count": 51,
   "id": "b3f0f446-c1f3-4ff0-9b15-12eb02712133",
   "metadata": {},
   "outputs": [
    {
     "data": {
      "text/plain": [
       "37.6156"
      ]
     },
     "execution_count": 51,
     "metadata": {},
     "output_type": "execute_result"
    }
   ],
   "source": [
    "# most common latitude\n",
    "df_instagram_locations['lat'].value_counts().idxmax()"
   ]
  },
  {
   "cell_type": "markdown",
   "id": "4c7da6bc-6adf-4b4c-af13-48069703a375",
   "metadata": {},
   "source": [
    "##### **Longitude**"
   ]
  },
  {
   "cell_type": "code",
   "execution_count": 53,
   "id": "37810f3f-9374-4df2-a701-21800c093a7e",
   "metadata": {},
   "outputs": [
    {
     "data": {
      "image/png": "[encoded data removed]",
      "text/plain": [
       "<Figure size 432x288 with 1 Axes>"
      ]
     },
     "metadata": {
      "needs_background": "light"
     },
     "output_type": "display_data"
    }
   ],
   "source": [
    "hist(df_instagram_locations['lng'], \"longitude\", \"Longitude distribution\", \"blue\", n_bins = 25)"
   ]
  },
  {
   "cell_type": "code",
   "execution_count": 16,
   "id": "7b69e65c-da5d-4141-8357-2d25395d898a",
   "metadata": {},
   "outputs": [
    {
     "data": {
      "text/plain": [
       "55.7522"
      ]
     },
     "execution_count": 16,
     "metadata": {},
     "output_type": "execute_result"
    }
   ],
   "source": [
    "# most common longitude\n",
    "longitude.value_counts().idxmax()"
   ]
  },
  {
   "cell_type": "markdown",
   "id": "a8a35454-8003-4b43-afc4-9e206feeba86",
   "metadata": {},
   "source": [
    "### Categorical variables"
   ]
  },
  {
   "cell_type": "markdown",
   "id": "5821ca9d",
   "metadata": {},
   "source": [
    "By looking at the main summary statistics of the categorical variables we learn that the average instragram user posts from the neighbourhood of <b>Hell's Kitchen, in New York (Eastern Province, US)</b>, most likely from a <b>Starbucks</b> ."
   ]
  },
  {
   "cell_type": "code",
   "execution_count": 55,
   "id": "808d0fe3-5e07-449a-80e4-bb2434b96658",
   "metadata": {},
   "outputs": [
    {
     "data": {
      "text/html": [
       "<div>\n",
       "<style scoped>\n",
       "    .dataframe tbody tr th:only-of-type {\n",
       "        vertical-align: middle;\n",
       "    }\n",
       "\n",
       "    .dataframe tbody tr th {\n",
       "        vertical-align: top;\n",
       "    }\n",
       "\n",
       "    .dataframe thead th {\n",
       "        text-align: right;\n",
       "    }\n",
       "</style>\n",
       "<table border=\"1\" class=\"dataframe\">\n",
       "  <thead>\n",
       "    <tr style=\"text-align: right;\">\n",
       "      <th></th>\n",
       "      <th>sid</th>\n",
       "      <th>id</th>\n",
       "      <th>name</th>\n",
       "      <th>street</th>\n",
       "      <th>zip</th>\n",
       "      <th>city</th>\n",
       "      <th>region</th>\n",
       "      <th>cd</th>\n",
       "      <th>phone</th>\n",
       "      <th>aj_exact_city_match</th>\n",
       "      <th>...</th>\n",
       "      <th>dir_city_name</th>\n",
       "      <th>dir_city_slug</th>\n",
       "      <th>dir_country_id</th>\n",
       "      <th>dir_country_name</th>\n",
       "      <th>lat</th>\n",
       "      <th>lng</th>\n",
       "      <th>primary_alias_on_fb</th>\n",
       "      <th>slug</th>\n",
       "      <th>website</th>\n",
       "      <th>cts</th>\n",
       "    </tr>\n",
       "  </thead>\n",
       "  <tbody>\n",
       "    <tr>\n",
       "      <th>count</th>\n",
       "      <td>1022658</td>\n",
       "      <td>1022658</td>\n",
       "      <td>1022658</td>\n",
       "      <td>715704</td>\n",
       "      <td>715579</td>\n",
       "      <td>937166</td>\n",
       "      <td>1760</td>\n",
       "      <td>939010</td>\n",
       "      <td>601688</td>\n",
       "      <td>1000510</td>\n",
       "      <td>...</td>\n",
       "      <td>495698</td>\n",
       "      <td>495221</td>\n",
       "      <td>495628</td>\n",
       "      <td>495698</td>\n",
       "      <td>1016495.00000</td>\n",
       "      <td>1016495.00000</td>\n",
       "      <td>425531</td>\n",
       "      <td>941668</td>\n",
       "      <td>623262</td>\n",
       "      <td>1022658</td>\n",
       "    </tr>\n",
       "    <tr>\n",
       "      <th>unique</th>\n",
       "      <td>1022658</td>\n",
       "      <td>1022658</td>\n",
       "      <td>935776</td>\n",
       "      <td>656262</td>\n",
       "      <td>181474</td>\n",
       "      <td>118541</td>\n",
       "      <td>1743</td>\n",
       "      <td>245</td>\n",
       "      <td>577305</td>\n",
       "      <td>2</td>\n",
       "      <td>...</td>\n",
       "      <td>114996</td>\n",
       "      <td>114426</td>\n",
       "      <td>234</td>\n",
       "      <td>235</td>\n",
       "      <td>NaN</td>\n",
       "      <td>NaN</td>\n",
       "      <td>425486</td>\n",
       "      <td>833398</td>\n",
       "      <td>583671</td>\n",
       "      <td>1022298</td>\n",
       "    </tr>\n",
       "    <tr>\n",
       "      <th>top</th>\n",
       "      <td>719981</td>\n",
       "      <td>110296492939207</td>\n",
       "      <td>Starbucks</td>\n",
       "      <td></td>\n",
       "      <td>10001</td>\n",
       "      <td>New York, New York</td>\n",
       "      <td>Eastern Province</td>\n",
       "      <td>US</td>\n",
       "      <td>+44 345 748 4950</td>\n",
       "      <td>False</td>\n",
       "      <td>...</td>\n",
       "      <td>Hells Kitchen, Manhattan</td>\n",
       "      <td>hells-kitchen-manhattan</td>\n",
       "      <td>US</td>\n",
       "      <td>United States</td>\n",
       "      <td>NaN</td>\n",
       "      <td>NaN</td>\n",
       "      <td>pandpnewcastle</td>\n",
       "      <td>-</td>\n",
       "      <td>http://www.starbucks.com/</td>\n",
       "      <td>2019-05-25 23:54:48.969</td>\n",
       "    </tr>\n",
       "    <tr>\n",
       "      <th>freq</th>\n",
       "      <td>1</td>\n",
       "      <td>1</td>\n",
       "      <td>1097</td>\n",
       "      <td>1652</td>\n",
       "      <td>1649</td>\n",
       "      <td>29954</td>\n",
       "      <td>4</td>\n",
       "      <td>331424</td>\n",
       "      <td>178</td>\n",
       "      <td>907651</td>\n",
       "      <td>...</td>\n",
       "      <td>1326</td>\n",
       "      <td>1326</td>\n",
       "      <td>170983</td>\n",
       "      <td>170983</td>\n",
       "      <td>NaN</td>\n",
       "      <td>NaN</td>\n",
       "      <td>2</td>\n",
       "      <td>6588</td>\n",
       "      <td>297</td>\n",
       "      <td>2</td>\n",
       "    </tr>\n",
       "    <tr>\n",
       "      <th>mean</th>\n",
       "      <td>NaN</td>\n",
       "      <td>NaN</td>\n",
       "      <td>NaN</td>\n",
       "      <td>NaN</td>\n",
       "      <td>NaN</td>\n",
       "      <td>NaN</td>\n",
       "      <td>NaN</td>\n",
       "      <td>NaN</td>\n",
       "      <td>NaN</td>\n",
       "      <td>NaN</td>\n",
       "      <td>...</td>\n",
       "      <td>NaN</td>\n",
       "      <td>NaN</td>\n",
       "      <td>NaN</td>\n",
       "      <td>NaN</td>\n",
       "      <td>-15.29215</td>\n",
       "      <td>34.21718</td>\n",
       "      <td>NaN</td>\n",
       "      <td>NaN</td>\n",
       "      <td>NaN</td>\n",
       "      <td>NaN</td>\n",
       "    </tr>\n",
       "    <tr>\n",
       "      <th>std</th>\n",
       "      <td>NaN</td>\n",
       "      <td>NaN</td>\n",
       "      <td>NaN</td>\n",
       "      <td>NaN</td>\n",
       "      <td>NaN</td>\n",
       "      <td>NaN</td>\n",
       "      <td>NaN</td>\n",
       "      <td>NaN</td>\n",
       "      <td>NaN</td>\n",
       "      <td>NaN</td>\n",
       "      <td>...</td>\n",
       "      <td>NaN</td>\n",
       "      <td>NaN</td>\n",
       "      <td>NaN</td>\n",
       "      <td>NaN</td>\n",
       "      <td>76.15085</td>\n",
       "      <td>22.01081</td>\n",
       "      <td>NaN</td>\n",
       "      <td>NaN</td>\n",
       "      <td>NaN</td>\n",
       "      <td>NaN</td>\n",
       "    </tr>\n",
       "    <tr>\n",
       "      <th>min</th>\n",
       "      <td>NaN</td>\n",
       "      <td>NaN</td>\n",
       "      <td>NaN</td>\n",
       "      <td>NaN</td>\n",
       "      <td>NaN</td>\n",
       "      <td>NaN</td>\n",
       "      <td>NaN</td>\n",
       "      <td>NaN</td>\n",
       "      <td>NaN</td>\n",
       "      <td>NaN</td>\n",
       "      <td>...</td>\n",
       "      <td>NaN</td>\n",
       "      <td>NaN</td>\n",
       "      <td>NaN</td>\n",
       "      <td>NaN</td>\n",
       "      <td>-179.98300</td>\n",
       "      <td>-90.00000</td>\n",
       "      <td>NaN</td>\n",
       "      <td>NaN</td>\n",
       "      <td>NaN</td>\n",
       "      <td>NaN</td>\n",
       "    </tr>\n",
       "    <tr>\n",
       "      <th>25%</th>\n",
       "      <td>NaN</td>\n",
       "      <td>NaN</td>\n",
       "      <td>NaN</td>\n",
       "      <td>NaN</td>\n",
       "      <td>NaN</td>\n",
       "      <td>NaN</td>\n",
       "      <td>NaN</td>\n",
       "      <td>NaN</td>\n",
       "      <td>NaN</td>\n",
       "      <td>NaN</td>\n",
       "      <td>...</td>\n",
       "      <td>NaN</td>\n",
       "      <td>NaN</td>\n",
       "      <td>NaN</td>\n",
       "      <td>NaN</td>\n",
       "      <td>-80.15575</td>\n",
       "      <td>29.97555</td>\n",
       "      <td>NaN</td>\n",
       "      <td>NaN</td>\n",
       "      <td>NaN</td>\n",
       "      <td>NaN</td>\n",
       "    </tr>\n",
       "    <tr>\n",
       "      <th>50%</th>\n",
       "      <td>NaN</td>\n",
       "      <td>NaN</td>\n",
       "      <td>NaN</td>\n",
       "      <td>NaN</td>\n",
       "      <td>NaN</td>\n",
       "      <td>NaN</td>\n",
       "      <td>NaN</td>\n",
       "      <td>NaN</td>\n",
       "      <td>NaN</td>\n",
       "      <td>NaN</td>\n",
       "      <td>...</td>\n",
       "      <td>NaN</td>\n",
       "      <td>NaN</td>\n",
       "      <td>NaN</td>\n",
       "      <td>NaN</td>\n",
       "      <td>-2.45000</td>\n",
       "      <td>40.67820</td>\n",
       "      <td>NaN</td>\n",
       "      <td>NaN</td>\n",
       "      <td>NaN</td>\n",
       "      <td>NaN</td>\n",
       "    </tr>\n",
       "    <tr>\n",
       "      <th>75%</th>\n",
       "      <td>NaN</td>\n",
       "      <td>NaN</td>\n",
       "      <td>NaN</td>\n",
       "      <td>NaN</td>\n",
       "      <td>NaN</td>\n",
       "      <td>NaN</td>\n",
       "      <td>NaN</td>\n",
       "      <td>NaN</td>\n",
       "      <td>NaN</td>\n",
       "      <td>NaN</td>\n",
       "      <td>...</td>\n",
       "      <td>NaN</td>\n",
       "      <td>NaN</td>\n",
       "      <td>NaN</td>\n",
       "      <td>NaN</td>\n",
       "      <td>30.71740</td>\n",
       "      <td>48.84722</td>\n",
       "      <td>NaN</td>\n",
       "      <td>NaN</td>\n",
       "      <td>NaN</td>\n",
       "      <td>NaN</td>\n",
       "    </tr>\n",
       "    <tr>\n",
       "      <th>max</th>\n",
       "      <td>NaN</td>\n",
       "      <td>NaN</td>\n",
       "      <td>NaN</td>\n",
       "      <td>NaN</td>\n",
       "      <td>NaN</td>\n",
       "      <td>NaN</td>\n",
       "      <td>NaN</td>\n",
       "      <td>NaN</td>\n",
       "      <td>NaN</td>\n",
       "      <td>NaN</td>\n",
       "      <td>...</td>\n",
       "      <td>NaN</td>\n",
       "      <td>NaN</td>\n",
       "      <td>NaN</td>\n",
       "      <td>NaN</td>\n",
       "      <td>179.99412</td>\n",
       "      <td>89.99870</td>\n",
       "      <td>NaN</td>\n",
       "      <td>NaN</td>\n",
       "      <td>NaN</td>\n",
       "      <td>NaN</td>\n",
       "    </tr>\n",
       "  </tbody>\n",
       "</table>\n",
       "<p>11 rows × 23 columns</p>\n",
       "</div>"
      ],
      "text/plain": [
       "            sid               id       name  street     zip  \\\n",
       "count   1022658          1022658    1022658  715704  715579   \n",
       "unique  1022658          1022658     935776  656262  181474   \n",
       "top      719981  110296492939207  Starbucks           10001   \n",
       "freq          1                1       1097    1652    1649   \n",
       "mean        NaN              NaN        NaN     NaN     NaN   \n",
       "std         NaN              NaN        NaN     NaN     NaN   \n",
       "min         NaN              NaN        NaN     NaN     NaN   \n",
       "25%         NaN              NaN        NaN     NaN     NaN   \n",
       "50%         NaN              NaN        NaN     NaN     NaN   \n",
       "75%         NaN              NaN        NaN     NaN     NaN   \n",
       "max         NaN              NaN        NaN     NaN     NaN   \n",
       "\n",
       "                      city            region      cd             phone  \\\n",
       "count               937166              1760  939010            601688   \n",
       "unique              118541              1743     245            577305   \n",
       "top     New York, New York  Eastern Province      US  +44 345 748 4950   \n",
       "freq                 29954                 4  331424               178   \n",
       "mean                   NaN               NaN     NaN               NaN   \n",
       "std                    NaN               NaN     NaN               NaN   \n",
       "min                    NaN               NaN     NaN               NaN   \n",
       "25%                    NaN               NaN     NaN               NaN   \n",
       "50%                    NaN               NaN     NaN               NaN   \n",
       "75%                    NaN               NaN     NaN               NaN   \n",
       "max                    NaN               NaN     NaN               NaN   \n",
       "\n",
       "       aj_exact_city_match  ...             dir_city_name  \\\n",
       "count              1000510  ...                    495698   \n",
       "unique                   2  ...                    114996   \n",
       "top                  False  ...  Hells Kitchen, Manhattan   \n",
       "freq                907651  ...                      1326   \n",
       "mean                   NaN  ...                       NaN   \n",
       "std                    NaN  ...                       NaN   \n",
       "min                    NaN  ...                       NaN   \n",
       "25%                    NaN  ...                       NaN   \n",
       "50%                    NaN  ...                       NaN   \n",
       "75%                    NaN  ...                       NaN   \n",
       "max                    NaN  ...                       NaN   \n",
       "\n",
       "                  dir_city_slug dir_country_id dir_country_name           lat  \\\n",
       "count                    495221         495628           495698 1016495.00000   \n",
       "unique                   114426            234              235           NaN   \n",
       "top     hells-kitchen-manhattan             US    United States           NaN   \n",
       "freq                       1326         170983           170983           NaN   \n",
       "mean                        NaN            NaN              NaN     -15.29215   \n",
       "std                         NaN            NaN              NaN      76.15085   \n",
       "min                         NaN            NaN              NaN    -179.98300   \n",
       "25%                         NaN            NaN              NaN     -80.15575   \n",
       "50%                         NaN            NaN              NaN      -2.45000   \n",
       "75%                         NaN            NaN              NaN      30.71740   \n",
       "max                         NaN            NaN              NaN     179.99412   \n",
       "\n",
       "                 lng primary_alias_on_fb    slug                    website  \\\n",
       "count  1016495.00000              425531  941668                     623262   \n",
       "unique           NaN              425486  833398                     583671   \n",
       "top              NaN      pandpnewcastle       -  http://www.starbucks.com/   \n",
       "freq             NaN                   2    6588                        297   \n",
       "mean        34.21718                 NaN     NaN                        NaN   \n",
       "std         22.01081                 NaN     NaN                        NaN   \n",
       "min        -90.00000                 NaN     NaN                        NaN   \n",
       "25%         29.97555                 NaN     NaN                        NaN   \n",
       "50%         40.67820                 NaN     NaN                        NaN   \n",
       "75%         48.84722                 NaN     NaN                        NaN   \n",
       "max         89.99870                 NaN     NaN                        NaN   \n",
       "\n",
       "                            cts  \n",
       "count                   1022658  \n",
       "unique                  1022298  \n",
       "top     2019-05-25 23:54:48.969  \n",
       "freq                          2  \n",
       "mean                        NaN  \n",
       "std                         NaN  \n",
       "min                         NaN  \n",
       "25%                         NaN  \n",
       "50%                         NaN  \n",
       "75%                         NaN  \n",
       "max                         NaN  \n",
       "\n",
       "[11 rows x 23 columns]"
      ]
     },
     "execution_count": 55,
     "metadata": {},
     "output_type": "execute_result"
    }
   ],
   "source": [
    "df_instagram_locations.describe(include = 'all')"
   ]
  },
  {
   "cell_type": "markdown",
   "id": "2b29da96-f868-4411-8e50-c6a9689c1c02",
   "metadata": {},
   "source": [
    "##### **aj_exact_city_match**"
   ]
  },
  {
   "cell_type": "code",
   "execution_count": 54,
   "id": "78db79d8-7fcf-44fb-aed9-0a9db0ba08ad",
   "metadata": {},
   "outputs": [
    {
     "data": {
      "image/png": "[encoded data removed]",
      "text/plain": [
       "<Figure size 432x288 with 1 Axes>"
      ]
     },
     "metadata": {
      "needs_background": "light"
     },
     "output_type": "display_data"
    }
   ],
   "source": [
    "bar_binary(df_instagram_locations['aj_exact_city_match'], \"aj_exact_city_match\", \"Count of aj_exact_city_match\", \"orange\")"
   ]
  },
  
    
 {
   "cell_type": "markdown",
   "id": "74411db5-2d7e-4565-bb4a-bf6407368707",
   "metadata": {
    "tags": []
   },
   "source": [
    "### <b>[RQ2]</b> Let's explore the dataset by finding simple insights regarding the profile and posts."
   ]
  },
  {
   "cell_type": "markdown",
   "id": "9a440b75-3ab7-4fb0-a90e-1645d458aa75",
   "metadata": {},
   "source": [
    "* **Missing values**\n",
    "Before starting answering the questions, we perform some data cleaning tasks that will make our analysis less prompt to errors."
   ]
  },
  {
   "cell_type": "markdown",
   "id": "f4e2b44a-1559-43f6-99d4-f7d4e59c69b8",
   "metadata": {},
   "source": [
    "* Let's remove the columns that are not useful for our purposes:\n",
    "  * `description` has 2055996 missing values\n",
    "  * `url` has 3639312 missing values\n",
    "* Replace `is_business_account missing` rows with `False` values\n",
    "* Finally, let's remove the remaining rows with missing values"
   ]
  },
  {
   "cell_type": "code",
   "execution_count": 21,
   "id": "3da9cdc1-a39c-42b2-8eed-c41b3154633e",
   "metadata": {},
   "outputs": [
    {
     "data": {
      "text/plain": [
       "sid                          0\n",
       "profile_id               32447\n",
       "profile_name                 0\n",
       "firstname_lastname      288465\n",
       "description            2055996\n",
       "following              1056815\n",
       "followers              1056815\n",
       "n_posts                1056815\n",
       "url                    3639312\n",
       "cts                     438488\n",
       "is_business_account    1064263\n",
       "dtype: int64"
      ]
     },
     "execution_count": 21,
     "metadata": {},
     "output_type": "execute_result"
    }
   ],
   "source": [
    "df_instagram_profiles.shape[0] # no. rows = 4,509,586\n",
    "df_instagram_profiles.isna().sum() "
   ]
  },
  {
   "cell_type": "code",
   "execution_count": 4,
   "id": "c2b53f40-ec97-4301-a52c-5ad1836d39e1",
   "metadata": {},
   "outputs": [],
   "source": [
    "df_instagram_profiles_RQ2 = df_instagram_profiles.drop(['description', 'url'], axis = 1)\n",
    "df_instagram_profiles_RQ2.is_business_account.fillna(False, inplace = True)\n",
    "df_instagram_profiles_RQ2.dropna(axis = 0, how = 'any', inplace = True)\n",
    "df_instagram_profiles_RQ2.shape[0] # no. rows = 3,130,712"
   ]
  },
  {
   "cell_type": "markdown",
   "id": "df20433d",
   "metadata": {},
   "source": [
    "Up to this point, we have removed 1,378.874 rows and 2 columns, obtaining as an output a more consistent dataset."
   ]
  },
  {
   "cell_type": "markdown",
   "id": "7aae84c6-385b-41bb-b5f5-97a84b42db8b",
   "metadata": {
    "tags": []
   },
   "source": [
    "<b>2.1</b> Plot the number of posts for each profile in descending order"
   ]
  },
  {
   "cell_type": "code",
   "execution_count": 27,
   "id": "ab7cbe7a-dffa-4eb6-b6ed-87db0c9ecf92",
   "metadata": {},
   "outputs": [
    {
     "data": {
      "text/plain": [
       "3990313    183730\n",
       "2571453    142428\n",
       "4338921    126340\n",
       "3942129    125220\n",
       "4219642    117262\n",
       "            ...  \n",
       "1786774         0\n",
       "1711929         0\n",
       "1446235         0\n",
       "1446228         0\n",
       "3719054         0\n",
       "Name: n_posts, Length: 3130712, dtype: int64"
      ]
     },
     "execution_count": 27,
     "metadata": {},
     "output_type": "execute_result"
    }
   ],
   "source": [
    "df_instagram_profiles_RQ2.sort_values(by = 'n_posts', ascending = False, inplace = True)\n",
    "df_instagram_profiles_RQ2.n_posts = df_instagram_profiles_RQ2.n_posts.astype(int)\n",
    "df_instagram_profiles_RQ2.n_posts"
   ]
  },
  {
   "cell_type": "code",
   "execution_count": 28,
   "id": "32c35b4a-229e-4a79-b758-2f3731b80c1e",
   "metadata": {},
   "outputs": [
    {
     "data": {
      "image/png": "[encoded data removed]",
      "text/plain": [
       "<Figure size 432x288 with 1 Axes>"
      ]
     },
     "metadata": {
      "needs_background": "light"
     },
     "output_type": "display_data"
    }
   ],
   "source": [
    "hist(df_instagram_profiles_RQ2['n_posts'], \"n_posts\", \"Number of posts sorted\", \"blue\", n_bins = 30, log_trans = True)"
   ]
  },
  {
   "cell_type": "markdown",
   "id": "322d1f26-ff14-4db4-aaa9-3a2a7464e29e",
   "metadata": {},
   "source": [
    "<b>2.2</b> What posts have the highest number of \"likes\"?"
   ]
  },
  {
   "cell_type": "markdown",
   "id": "17f0d1b8-6483-4341-81bb-0e6218e39fc1",
   "metadata": {},
   "source": [
    "* We import the `instagram_posts.csv` dataset (only the columns that we need for this excercise) and, as with profiles.csv, we perform some data cleaning: we remove NaN values and make likes and comments type int, instead of float."
   ]
  },
  {
   "cell_type": "code",
   "execution_count": 31,
   "id": "4ce40ef8-e180-40c0-a4f5-2fae597264f5",
   "metadata": {},
   "outputs": [
    {
     "data": {
      "text/plain": [
       "numbr_likes        36\n",
       "number_comments    36\n",
       "dtype: int64"
      ]
     },
     "execution_count": 31,
     "metadata": {},
     "output_type": "execute_result"
    }
   ],
   "source": [
    "fields = [\"numbr_likes\", \"number_comments\"]\n",
    "df_instagram_posts_RQ2_1 = pd.read_csv(\"~/instagram_posts.csv\", delimiter = \"\\t\", usecols = fields)\n",
    "df_instagram_posts_RQ2_1.shape[0] # no. of rows = 42,710,197\n",
    "df_instagram_posts_RQ2_1.isna().sum()"
   ]
  },
  {
   "cell_type": "code",
   "execution_count": 33,
   "id": "686ac0ca-4a15-4fb0-9180-42ce53bd26b6",
   "metadata": {},
   "outputs": [],
   "source": [
    "# delete the NaN values\n",
    "df_instagram_posts_RQ2_1.dropna(axis = 0, how = 'any', inplace = True)\n",
    "# transform float to integer number\n",
    "df_instagram_posts_RQ2_1 = df_instagram_posts_RQ2_1.astype({'numbr_likes': 'int', 'number_comments': 'int'}, errors = 'ignore')"
   ]
  },
  {
   "cell_type": "markdown",
   "id": "ec8f30d2-ff1e-4040-934f-a87cbff8ccc0",
   "metadata": {},
   "source": [
    "* `most_likes` is obtained by sorting in **descending order** `df_instagram_posts_RQ2_1` according to the `numbr_likes` and then taking the first 10 posts (`.head(10)`) with the most likes."
   ]
  },
  {
   "cell_type": "code",
   "execution_count": 35,
   "id": "9f6cd52b-870c-4a54-9061-d61cab66f271",
   "metadata": {},
   "outputs": [
    {
     "data": {
      "text/html": [
       "<div>\n",
       "<style scoped>\n",
       "    .dataframe tbody tr th:only-of-type {\n",
       "        vertical-align: middle;\n",
       "    }\n",
       "\n",
       "    .dataframe tbody tr th {\n",
       "        vertical-align: top;\n",
       "    }\n",
       "\n",
       "    .dataframe thead th {\n",
       "        text-align: right;\n",
       "    }\n",
       "</style>\n",
       "<table border=\"1\" class=\"dataframe\">\n",
       "  <thead>\n",
       "    <tr style=\"text-align: right;\">\n",
       "      <th></th>\n",
       "      <th>numbr_likes</th>\n",
       "      <th>number_comments</th>\n",
       "    </tr>\n",
       "  </thead>\n",
       "  <tbody>\n",
       "    <tr>\n",
       "      <th>19624085</th>\n",
       "      <td>8822952</td>\n",
       "      <td>165886</td>\n",
       "    </tr>\n",
       "    <tr>\n",
       "      <th>19623988</th>\n",
       "      <td>5447066</td>\n",
       "      <td>25303</td>\n",
       "    </tr>\n",
       "    <tr>\n",
       "      <th>19624082</th>\n",
       "      <td>5116398</td>\n",
       "      <td>40608</td>\n",
       "    </tr>\n",
       "    <tr>\n",
       "      <th>19623986</th>\n",
       "      <td>4271466</td>\n",
       "      <td>30770</td>\n",
       "    </tr>\n",
       "    <tr>\n",
       "      <th>39701024</th>\n",
       "      <td>4264745</td>\n",
       "      <td>18691</td>\n",
       "    </tr>\n",
       "    <tr>\n",
       "      <th>6293907</th>\n",
       "      <td>3586546</td>\n",
       "      <td>15405</td>\n",
       "    </tr>\n",
       "    <tr>\n",
       "      <th>19624086</th>\n",
       "      <td>3558599</td>\n",
       "      <td>15715</td>\n",
       "    </tr>\n",
       "    <tr>\n",
       "      <th>19802016</th>\n",
       "      <td>3533326</td>\n",
       "      <td>59475</td>\n",
       "    </tr>\n",
       "    <tr>\n",
       "      <th>30850564</th>\n",
       "      <td>3340297</td>\n",
       "      <td>149489</td>\n",
       "    </tr>\n",
       "    <tr>\n",
       "      <th>39812576</th>\n",
       "      <td>3311246</td>\n",
       "      <td>64318</td>\n",
       "    </tr>\n",
       "  </tbody>\n",
       "</table>\n",
       "</div>"
      ],
      "text/plain": [
       "          numbr_likes  number_comments\n",
       "19624085      8822952           165886\n",
       "19623988      5447066            25303\n",
       "19624082      5116398            40608\n",
       "19623986      4271466            30770\n",
       "39701024      4264745            18691\n",
       "6293907       3586546            15405\n",
       "19624086      3558599            15715\n",
       "19802016      3533326            59475\n",
       "30850564      3340297           149489\n",
       "39812576      3311246            64318"
      ]
     },
     "execution_count": 35,
     "metadata": {},
     "output_type": "execute_result"
    }
   ],
   "source": [
    "most_likes = df_instagram_posts_RQ2_1.sort_values(by = 'numbr_likes', ascending = False).head(10)\n",
    "most_likes"
   ]
  },
  {
   "cell_type": "markdown",
   "id": "cdb48081-b6e0-43af-b1e5-920ba59fd11c",
   "metadata": {},
   "source": [
    "<b>2.3</b> What posts have the most and the least number of comments?"
   ]
  },
  {
   "cell_type": "markdown",
   "id": "43c3197a-2c6b-4332-88ea-263584cb2f23",
   "metadata": {},
   "source": [
    "* `most_comments` is obtained by sorting in **descending order** `df_instagram_posts_RQ2_1` according to the `number_comments` and then taking the first 10 posts (`.head(10)`) with the most comments."
   ]
  },
  {
   "cell_type": "code",
   "execution_count": 36,
   "id": "f87f7a6c-2bb4-4d7d-98cd-f6c9537f6912",
   "metadata": {},
   "outputs": [
    {
     "data": {
      "text/html": [
       "<div>\n",
       "<style scoped>\n",
       "    .dataframe tbody tr th:only-of-type {\n",
       "        vertical-align: middle;\n",
       "    }\n",
       "\n",
       "    .dataframe tbody tr th {\n",
       "        vertical-align: top;\n",
       "    }\n",
       "\n",
       "    .dataframe thead th {\n",
       "        text-align: right;\n",
       "    }\n",
       "</style>\n",
       "<table border=\"1\" class=\"dataframe\">\n",
       "  <thead>\n",
       "    <tr style=\"text-align: right;\">\n",
       "      <th></th>\n",
       "      <th>numbr_likes</th>\n",
       "      <th>number_comments</th>\n",
       "    </tr>\n",
       "  </thead>\n",
       "  <tbody>\n",
       "    <tr>\n",
       "      <th>41873060</th>\n",
       "      <td>38871</td>\n",
       "      <td>488953</td>\n",
       "    </tr>\n",
       "    <tr>\n",
       "      <th>12164781</th>\n",
       "      <td>81523</td>\n",
       "      <td>313997</td>\n",
       "    </tr>\n",
       "    <tr>\n",
       "      <th>33261751</th>\n",
       "      <td>54507</td>\n",
       "      <td>257488</td>\n",
       "    </tr>\n",
       "    <tr>\n",
       "      <th>11149127</th>\n",
       "      <td>331703</td>\n",
       "      <td>214365</td>\n",
       "    </tr>\n",
       "    <tr>\n",
       "      <th>9383817</th>\n",
       "      <td>23515</td>\n",
       "      <td>189888</td>\n",
       "    </tr>\n",
       "    <tr>\n",
       "      <th>5427268</th>\n",
       "      <td>129258</td>\n",
       "      <td>180635</td>\n",
       "    </tr>\n",
       "    <tr>\n",
       "      <th>25257169</th>\n",
       "      <td>684861</td>\n",
       "      <td>173988</td>\n",
       "    </tr>\n",
       "    <tr>\n",
       "      <th>6220011</th>\n",
       "      <td>2224495</td>\n",
       "      <td>170836</td>\n",
       "    </tr>\n",
       "    <tr>\n",
       "      <th>31689573</th>\n",
       "      <td>226336</td>\n",
       "      <td>166919</td>\n",
       "    </tr>\n",
       "    <tr>\n",
       "      <th>14257307</th>\n",
       "      <td>169791</td>\n",
       "      <td>166198</td>\n",
       "    </tr>\n",
       "  </tbody>\n",
       "</table>\n",
       "</div>"
      ],
      "text/plain": [
       "          numbr_likes  number_comments\n",
       "41873060        38871           488953\n",
       "12164781        81523           313997\n",
       "33261751        54507           257488\n",
       "11149127       331703           214365\n",
       "9383817         23515           189888\n",
       "5427268        129258           180635\n",
       "25257169       684861           173988\n",
       "6220011       2224495           170836\n",
       "31689573       226336           166919\n",
       "14257307       169791           166198"
      ]
     },
     "execution_count": 36,
     "metadata": {},
     "output_type": "execute_result"
    }
   ],
   "source": [
    "most_comments = df_instagram_posts_RQ2_1.sort_values(by = 'number_comments', ascending = False).head(10)\n",
    "most_comments "
   ]
  },
  {
   "cell_type": "markdown",
   "id": "03739a54-e18e-4c74-a6c3-f04871aea8c3",
   "metadata": {},
   "source": [
    "* `least_comments` is obtained by sorting in **ascending order** `df_instagram_posts_RQ2_1` according to the `number_comments` and then taking the first 10 posts (`.head(10)`) with the least comments."
   ]
  },
  {
   "cell_type": "code",
   "execution_count": 15,
   "id": "24b85c87-3b8a-4e89-86d4-25027e5a18bd",
   "metadata": {},
   "outputs": [
    {
     "data": {
      "text/html": [
       "<div>\n",
       "<style scoped>\n",
       "    .dataframe tbody tr th:only-of-type {\n",
       "        vertical-align: middle;\n",
       "    }\n",
       "\n",
       "    .dataframe tbody tr th {\n",
       "        vertical-align: top;\n",
       "    }\n",
       "\n",
       "    .dataframe thead th {\n",
       "        text-align: right;\n",
       "    }\n",
       "</style>\n",
       "<table border=\"1\" class=\"dataframe\">\n",
       "  <thead>\n",
       "    <tr style=\"text-align: right;\">\n",
       "      <th></th>\n",
       "      <th>post_id</th>\n",
       "      <th>numbr_likes</th>\n",
       "      <th>number_comments</th>\n",
       "    </tr>\n",
       "  </thead>\n",
       "  <tbody>\n",
       "    <tr>\n",
       "      <th>0</th>\n",
       "      <td>BXdjjUlgcgq</td>\n",
       "      <td>80</td>\n",
       "      <td>0</td>\n",
       "    </tr>\n",
       "    <tr>\n",
       "      <th>709</th>\n",
       "      <td>Bx-2z8Hhk1j</td>\n",
       "      <td>29</td>\n",
       "      <td>0</td>\n",
       "    </tr>\n",
       "    <tr>\n",
       "      <th>289</th>\n",
       "      <td>Bxr-ibHps7V</td>\n",
       "      <td>25</td>\n",
       "      <td>0</td>\n",
       "    </tr>\n",
       "    <tr>\n",
       "      <th>712</th>\n",
       "      <td>Bx5mknNBLCG</td>\n",
       "      <td>35</td>\n",
       "      <td>0</td>\n",
       "    </tr>\n",
       "    <tr>\n",
       "      <th>713</th>\n",
       "      <td>Bx3TT5TB3Tu</td>\n",
       "      <td>188</td>\n",
       "      <td>0</td>\n",
       "    </tr>\n",
       "    <tr>\n",
       "      <th>286</th>\n",
       "      <td>Bxztf_xlzLh</td>\n",
       "      <td>15</td>\n",
       "      <td>0</td>\n",
       "    </tr>\n",
       "    <tr>\n",
       "      <th>714</th>\n",
       "      <td>Bx0fZxkh-_4</td>\n",
       "      <td>134</td>\n",
       "      <td>0</td>\n",
       "    </tr>\n",
       "    <tr>\n",
       "      <th>284</th>\n",
       "      <td>Bx65tHPJH2S</td>\n",
       "      <td>18</td>\n",
       "      <td>0</td>\n",
       "    </tr>\n",
       "    <tr>\n",
       "      <th>283</th>\n",
       "      <td>ByA02DAl8SZ</td>\n",
       "      <td>19</td>\n",
       "      <td>0</td>\n",
       "    </tr>\n",
       "    <tr>\n",
       "      <th>282</th>\n",
       "      <td>ByCqFD-ASgn</td>\n",
       "      <td>9</td>\n",
       "      <td>0</td>\n",
       "    </tr>\n",
       "  </tbody>\n",
       "</table>\n",
       "</div>"
      ],
      "text/plain": [
       "         post_id  numbr_likes  number_comments\n",
       "0    BXdjjUlgcgq           80                0\n",
       "709  Bx-2z8Hhk1j           29                0\n",
       "289  Bxr-ibHps7V           25                0\n",
       "712  Bx5mknNBLCG           35                0\n",
       "713  Bx3TT5TB3Tu          188                0\n",
       "286  Bxztf_xlzLh           15                0\n",
       "714  Bx0fZxkh-_4          134                0\n",
       "284  Bx65tHPJH2S           18                0\n",
       "283  ByA02DAl8SZ           19                0\n",
       "282  ByCqFD-ASgn            9                0"
      ]
     },
     "execution_count": 15,
     "metadata": {},
     "output_type": "execute_result"
    }
   ],
   "source": [
    "least_comments = df_instagram_posts_RQ2_1.sort_values(by = 'number_comments', ascending = True).head(10)\n",
    "least_comments"
   ]
  },
  {
   "cell_type": "markdown",
   "id": "9daf2878-f844-4226-a5a6-c09683326b7a",
   "metadata": {
    "tags": []
   },
   "source": [
    "<b>2.4</b> How many posts include tagged locations, and how many do not? Show it using an appropriate chart and comment your results."
   ]
  },
  {
   "cell_type": "markdown",
   "id": "ed114c77-9952-4659-8286-42826a87d676",
   "metadata": {},
   "source": [
    "* We import the `instagram_posts.csv` dataset (only the columns that we need for this excercise)"
   ]
  },
  {
   "cell_type": "code",
   "execution_count": 2,
   "id": "ecb7f743-1f30-4c95-8ee0-dcfee3ee97dc",
   "metadata": {},
   "outputs": [],
   "source": [
    "fields = [\"post_id\", \"location_id\"]\n",
    "df_instagram_posts_RQ2_3 = pd.read_csv(\"~/instagram_posts.csv\", delimiter = \"\\t\", usecols = fields)"
   ]
  },
  {
   "cell_type": "code",
   "execution_count": 23,
   "id": "97f70326-c7b0-44aa-abf1-081903c0a53f",
   "metadata": {},
   "outputs": [
    {
     "name": "stdout",
     "output_type": "stream",
     "text": [
      "The number of posts     containing tagged locations is: 29737425\n",
      "The number of posts not containing tagged locations is: 12972772\n"
     ]
    }
   ],
   "source": [
    "# includes tagged locations means location_name not Nan\n",
    "count_tagged_location = df_instagram_posts_RQ2_3.loc[df_instagram_posts_RQ2_3['location_id'].notna()].shape[0] # 29,737,425\n",
    "count_no_tagged_location = len(df_instagram_posts_RQ2_3) - count_tagged_location # 12,972,772\n",
    "\n",
    "print(\"The number of posts     containing tagged locations is:\", count_tagged_location)\n",
    "print(\"The number of posts not containing tagged locations is:\", count_no_tagged_location)"
   ]
  },
  {
   "cell_type": "code",
   "execution_count": 112,
   "id": "4b8c7ea0-8d5e-4304-9f62-b532821d2049",
   "metadata": {},
   "outputs": [
    {
     "data": {
      "text/plain": [
       "Text(0.5, 1.05, 'Count of tagged & no-tagged locations')"
      ]
     },
     "execution_count": 112,
     "metadata": {},
     "output_type": "execute_result"
    },
    {
     "data": {
      "image/png": "[encoded data removed]",
      "text/plain": [
       "<Figure size 432x288 with 1 Axes>"
      ]
     },
     "metadata": {
      "needs_background": "light"
     },
     "output_type": "display_data"
    }
   ],
   "source": [
    "# plot\n",
    "df_instagram_posts_RQ2_3['check'] = np.where(df_instagram_posts_RQ2_3['location_id'].notna(), True, False)\n",
    "check = df_instagram_posts_RQ2_3['check']\n",
    "count = check.value_counts()\n",
    "count.plot(kind = 'bar', color = 'purple', ec = 'black')\n",
    "plt.xlabel(\"check\", labelpad = 14)\n",
    "plt.ylabel(\"Count\", labelpad = 14)\n",
    "plt.title(\"Count of tagged & no-tagged locations\", y = 1.05)"
   ]
  },
  {
   "cell_type": "markdown",
   "id": "da1e1c2b",
   "metadata": {},
   "source": [
    "As it can be observed in the chart, almost 70% of the locations are tagged by users while 30% aren't. This could be interpreted, in the sense that, **most people post pictures on instagram when they are in a place where they want to be seen**, so it is more likely that the user wants its followers to know the location."
   ]
  },
  {
   "cell_type": "markdown",
   "id": "8276991c-3ba3-4922-99e7-52999987d59a",
   "metadata": {},
   "source": [
    "##### 2.5 How many posts include only photos? How many also have videos?"
   ]
  },
  {
   "cell_type": "markdown",
   "id": "82fe4c08-b35e-4167-a046-9e919e98e455",
   "metadata": {},
   "source": [
    "* We import the `instagram_posts.csv` dataset (only the columns that we need for this excercise)"
   ]
  },
  {
   "cell_type": "code",
   "execution_count": 2,
   "id": "391b73bf-5e32-4f62-9f57-d16f42250bf1",
   "metadata": {},
   "outputs": [],
   "source": [
    "fields = [\"post_id\", \"post_type\"]\n",
    "df_instagram_posts_RQ2_2 = pd.read_csv(\"~/instagram_posts.csv\", delimiter = \"\\t\", usecols = fields)"
   ]
  },
  {
   "cell_type": "code",
   "execution_count": 141,
   "id": "e1528e52-716b-4907-aedf-1c18265cdc48",
   "metadata": {},
   "outputs": [
    {
     "name": "stdout",
     "output_type": "stream",
     "text": [
      "The number of posts that include only photos is 41534486\n"
     ]
    }
   ],
   "source": [
    "# l1: list containing only post_type == 1 (only photos)\n",
    "l1 = [1]\n",
    "print(\"The number of posts that include only photos is\", df_instagram_posts_RQ2_2.loc[df_instagram_posts_RQ2_2['post_type'].isin(l1)].shape[0]) # 41,534,486"
   ]
  },
  {
   "cell_type": "code",
   "execution_count": 143,
   "id": "6e5386fb-a08c-45e3-93bb-a2ce695af8fb",
   "metadata": {},
   "outputs": [
    {
     "name": "stdout",
     "output_type": "stream",
     "text": [
      "The number of posts that include both photos and videos is 40943\n"
     ]
    }
   ],
   "source": [
    "# l1: list containing only post_type == 3 (photos and video)\n",
    "l2 = [3]\n",
    "print(\"The number of posts that include both photos and videos is\", df_instagram_posts_RQ2_2.loc[df_instagram_posts_RQ2_2['post_type'].isin(l2)].shape[0]) # 40,943"
   ]
  },
  {
   "cell_type": "markdown",
   "id": "2eb477db-d62b-4548-8ec2-57cb1de57562",
   "metadata": {},
   "source": [
    "##### f) What's the percentage of business accounts vs non-business? What can you interpret regarding that percentage?"
   ]
  },
  {
   "cell_type": "markdown",
   "id": "8911fb45-b6b5-41d0-a0f0-768de95c856c",
   "metadata": {},
   "source": [
    "* **Note**: the missing values of the `is_business_account` variable were substituted with `False`. So, the percentages may be different by just eliminating the missing values for that column."
   ]
  },
  {
   "cell_type": "code",
   "execution_count": 138,
   "id": "e700839e-8cd9-4c65-b952-8580a601d8db",
   "metadata": {},
   "outputs": [
    {
     "name": "stdout",
     "output_type": "stream",
     "text": [
      "Percentage of business accounts: 18.97%\n",
      "Percentage of non-business accounts: 81.03%\n"
     ]
    }
   ],
   "source": [
    "# Percentage of business accounts & non-business accounts\n",
    "\n",
    "count_business_accounts = df_instagram_profiles.loc[df_instagram_profiles['is_business_account'] == True].shape[0]\n",
    "percentage_business_accounts = count_business_accounts/len(df_instagram_profiles)\n",
    "\n",
    "a = \"Percentage of business accounts: \" + '{0:.2%}'.format(percentage_business_accounts)\n",
    "b = \"Percentage of non-business accounts: \" + '{0:.2%}'.format(1 - percentage_business_accounts)\n",
    "\n",
    "print(os.linesep.join([a, b])) # 18.97%"
   ]
  },
  {
   "cell_type": "markdown",
   "id": "97524308",
   "metadata": {},
   "source": [
    "This significant difference between the number of business and non-business accounts could be interpreted from a social perspective: even though instagram is one of the most attractive markets for all kind of brands, at its core is mainly used by regular people that want to interact with their friends and make new ones."
   ]
  },
  {
   "cell_type": "code",
   "execution_count": 77,
   "id": "adb44907-49bf-4304-bc4d-189b029cf8f9",
   "metadata": {},
   "outputs": [
    {
     "data": {
      "image/png": "[encoded data removed]",
      "text/plain": [
       "<Figure size 432x288 with 1 Axes>"
      ]
     },
     "metadata": {
      "needs_background": "light"
     },
     "output_type": "display_data"
    }
   ],
   "source": [
    "# plot of percentage of business & non-business accounts\n",
    "bar_binary(df_instagram_profiles['is_business_account'], \"is_business_account\", \"Count of business accounts\", \"red\")"
   ]
  },
  {
   "cell_type": "markdown",
   "id": "242d585e-92fc-46ac-8605-f69579beba48",
   "metadata": {},
   "source": [
    "### <b>[RQ3]</b> Now it's important to understand the most common times in which users publish their posts"
   ]
  },
  {
   "cell_type": "markdown",
   "id": "171ad3b8-1228-4cee-af65-2521d165fde9",
   "metadata": {},
   "source": [
    "##### 3.1 What is the most common time in which users publish their posts?"
   ]
  },
  {
   "cell_type": "markdown",
   "id": "e67ef95a-837c-4329-9464-aed58052e693",
   "metadata": {},
   "source": [
    "* Let's import the `instagram_posts.csv` dataset (only the columns that we need for this excercise)"
   ]
  },
  {
   "cell_type": "code",
   "execution_count": 2,
   "id": "8b482494-c5a8-4e7f-8dcb-51b2952af6e6",
   "metadata": {},
   "outputs": [],
   "source": [
    "fields = [\"profile_id\", \"cts\"]\n",
    "df_instagram_posts_RQ3 = pd.read_csv(\"~/instagram_posts.csv\", delimiter = \"\\t\", usecols = fields)"
   ]
  },
  {
   "cell_type": "code",
   "execution_count": 3,
   "id": "eb442183-cc57-42ce-827c-619fe1c8ca4c",
   "metadata": {},
   "outputs": [],
   "source": [
    "# For workability reasons, we need to divide dataset into chunks of 5,000,000 rows.\n",
    "chunk_list = []\n",
    "for i in range(0, len(df_instagram_posts_RQ3), 5000000):\n",
    "    chunk = df_instagram_posts_RQ3[i:i+5000000]\n",
    "    chunk_list.append(chunk)"
   ]
  },
  {
   "cell_type": "markdown",
   "id": "a20a20ba-d977-43e3-91ba-6f3bc32756fc",
   "metadata": {},
   "source": [
    "* Then we convert the `cts` column from object type to `datetime`. Then we create two new columns:\n",
    "  * `cts_time`: in the format `hh:mm:ss`. For instance, `20:00:00`\n",
    "  * `hour`: in the format `hh`. For instance, `20`<br>\n",
    "  Finally we append the chunks to a new list named `chunk_list_new`."
   ]
  },
  {
   "cell_type": "code",
   "execution_count": 4,
   "id": "6545df11-f19b-48aa-99be-a4f85d89ea8b",
   "metadata": {},
   "outputs": [],
   "source": [
    "# Convert string (object type) to datetime\n",
    "# Then, get only time from cts (we are not interested in the dates but only in the time)\n",
    "chunk_list_new = []\n",
    "for chunk in chunk_list:\n",
    "    chunk_copy = chunk.copy()\n",
    "    chunk_copy['cts_time'] = pd.to_datetime(chunk['cts']).dt.time\n",
    "    chunk_copy['hour'] = pd.to_datetime(chunk['cts']).dt.hour\n",
    "    chunk_list_new.append(chunk_copy)"
   ]
  },
  {
   "cell_type": "markdown",
   "id": "79970389-5e81-4356-80e0-9c4f31d2d60c",
   "metadata": {},
   "source": [
    "* We group by `cts_time` and `hour` by chunks and obtain two new lists `chunk_list_new1` and `chunk_list_new2`."
   ]
  },
  {
   "cell_type": "code",
   "execution_count": 40,
   "id": "661a9797-bbac-45cb-be35-886130657887",
   "metadata": {},
   "outputs": [],
   "source": [
    "# Group by cts_time\n",
    "\n",
    "chunk_list_new1 = []\n",
    "for chunk in chunk_list_new:\n",
    "    chunk  = chunk.groupby('cts_time').size().reset_index(name='counts')\n",
    "    chunk_list_new1.append(chunk)"
   ]
  },
  {
   "cell_type": "code",
   "execution_count": 42,
   "id": "075773af-a816-4229-97f6-99ba50a9aa18",
   "metadata": {},
   "outputs": [],
   "source": [
    "# Group by hour\n",
    "\n",
    "chunk_list_new2 = []\n",
    "for chunk in chunk_list_new:\n",
    "    chunk  = chunk.groupby('hour').size().reset_index(name='counts')\n",
    "    chunk_list_new2.append(chunk)"
   ]
  },
  {
   "cell_type": "markdown",
   "id": "fc598a91-cda1-45e0-885a-8825e6897bbf",
   "metadata": {},
   "source": [
    "* We concatenate the chunks and obtain two dataframes `data` and `data2`.\n",
    "  * `data` contains `cts_time`.\n",
    "  * `data2` contains `hour`."
   ]
  },
  {
   "cell_type": "code",
   "execution_count": 43,
   "id": "6beb27ad-98de-4a46-89d1-c0f4c8098b8d",
   "metadata": {},
   "outputs": [],
   "source": [
    "# Concatenate chunks, group by cts_time (and hour) and add up counts\n",
    "\n",
    "data  = pd.concat(chunk_list_new1).groupby(['cts_time']).sum().reset_index()\n",
    "data2 = pd.concat(chunk_list_new2).groupby(['hour']).sum().reset_index()\n",
    "data2.hour = data2.hour.astype(int)"
   ]
  },
  {
   "cell_type": "markdown",
   "id": "faad655a-d3d9-41e0-96b2-e2d413718bb5",
   "metadata": {},
   "source": [
    "##### The most common time(s) in which users publish their posts is 21:00:09. People post 47.5% more at this time that other times."
   ]
  },
  {
   "cell_type": "code",
   "execution_count": 44,
   "id": "3fba7418-0c16-4e5a-8a77-36a1031fe9d3",
   "metadata": {},
   "outputs": [
    {
     "data": {
      "text/html": [
       "<div>\n",
       "<style scoped>\n",
       "    .dataframe tbody tr th:only-of-type {\n",
       "        vertical-align: middle;\n",
       "    }\n",
       "\n",
       "    .dataframe tbody tr th {\n",
       "        vertical-align: top;\n",
       "    }\n",
       "\n",
       "    .dataframe thead th {\n",
       "        text-align: right;\n",
       "    }\n",
       "</style>\n",
       "<table border=\"1\" class=\"dataframe\">\n",
       "  <thead>\n",
       "    <tr style=\"text-align: right;\">\n",
       "      <th></th>\n",
       "      <th>cts_time</th>\n",
       "      <th>counts</th>\n",
       "    </tr>\n",
       "  </thead>\n",
       "  <tbody>\n",
       "    <tr>\n",
       "      <th>75609</th>\n",
       "      <td>21:00:09</td>\n",
       "      <td>928</td>\n",
       "    </tr>\n",
       "  </tbody>\n",
       "</table>\n",
       "</div>"
      ],
      "text/plain": [
       "       cts_time  counts\n",
       "75609  21:00:09     928"
      ]
     },
     "execution_count": 44,
     "metadata": {},
     "output_type": "execute_result"
    }
   ],
   "source": [
    "count = data.counts.value_counts(ascending = True).values[0]\n",
    "data.sort_values(by = 'counts', ascending = False).head(count) # 21:00:09"
   ]
  },
  {
   "cell_type": "code",
   "execution_count": 21,
   "id": "779228f0-02f1-4bad-bd81-7733d9e7ef85",
   "metadata": {},
   "outputs": [
    {
     "name": "stdout",
     "output_type": "stream",
     "text": [
      "The average number of times each cts_time is present in the dataset: 487\n",
      "The median  number of times each cts_time is present in the dataset: 494\n",
      "The maximum number of times each cts_time is present in the dataset: 928\n",
      "The minimum number of times each cts_time is present in the dataset: 223\n"
     ]
    }
   ],
   "source": [
    "print(\"The average number of times each cts_time is present in the dataset:\", int(np.mean(data.counts)))\n",
    "print(\"The median  number of times each cts_time is present in the dataset:\", int(np.median(data.counts))) \n",
    "print(\"The maximum number of times each cts_time is present in the dataset:\", int(np.max(data.counts)))\n",
    "print(\"The minimum number of times each cts_time is present in the dataset:\", int(np.min(data.counts)))"
   ]
  },
  {
   "cell_type": "markdown",
   "id": "54c97479-e5a9-4ca8-b9d9-3d8dbdd256c9",
   "metadata": {},
   "source": [
    "##### The most common hour(s) in which users publish their posts"
   ]
  },
  {
   "cell_type": "code",
   "execution_count": 45,
   "id": "47e00fe5-8f23-4888-a5ac-25972fdd0ab3",
   "metadata": {},
   "outputs": [
    {
     "data": {
      "text/html": [
       "<div>\n",
       "<style scoped>\n",
       "    .dataframe tbody tr th:only-of-type {\n",
       "        vertical-align: middle;\n",
       "    }\n",
       "\n",
       "    .dataframe tbody tr th {\n",
       "        vertical-align: top;\n",
       "    }\n",
       "\n",
       "    .dataframe thead th {\n",
       "        text-align: right;\n",
       "    }\n",
       "</style>\n",
       "<table border=\"1\" class=\"dataframe\">\n",
       "  <thead>\n",
       "    <tr style=\"text-align: right;\">\n",
       "      <th></th>\n",
       "      <th>hour</th>\n",
       "      <th>counts</th>\n",
       "    </tr>\n",
       "  </thead>\n",
       "  <tbody>\n",
       "    <tr>\n",
       "      <th>19</th>\n",
       "      <td>19</td>\n",
       "      <td>2499758</td>\n",
       "    </tr>\n",
       "  </tbody>\n",
       "</table>\n",
       "</div>"
      ],
      "text/plain": [
       "    hour   counts\n",
       "19    19  2499758"
      ]
     },
     "execution_count": 45,
     "metadata": {},
     "output_type": "execute_result"
    }
   ],
   "source": [
    "count2 = data2.counts.value_counts(ascending = True).values[0]\n",
    "data2.sort_values(by = 'counts', ascending = False).head(count2) # 21:00:09"
   ]
  },
  {
   "cell_type": "code",
   "execution_count": 25,
   "id": "c673820e-b144-434b-af1b-8e4af42ff30e",
   "metadata": {},
   "outputs": [
    {
     "name": "stdout",
     "output_type": "stream",
     "text": [
      "The average number of times each hour is present in the dataset: 1779452\n",
      "The median  number of times each hour is present in the dataset: 1779408\n",
      "The maximum number of times each hour is present in the dataset: 2499758\n",
      "The minimum number of times each hour is present in the dataset: 1011923\n",
      "People post 29% more in the time slot (19:00-19:59) wrt the other time slots\n"
     ]
    }
   ],
   "source": [
    "print(\"The average number of times each hour is present in the dataset:\", int(np.mean(data2.counts)))\n",
    "print(\"The median  number of times each hour is present in the dataset:\", int(np.median(data2.counts))) \n",
    "print(\"The maximum number of times each hour is present in the dataset:\", int(np.max(data2.counts)))\n",
    "print(\"The minimum number of times each hour is present in the dataset:\", int(np.min(data2.counts)))\n",
    "print(\"People post 29% more in the time slot (19:00-19:59) wrt the other time slots\")"
   ]
  },
  {
   "cell_type": "markdown",
   "id": "b87f57d8-b699-4173-a982-350a4d2e8b03",
   "metadata": {},
   "source": [
    "##### 3.2 Create a function that receives a time intervals list as a parameter and returns a plot with the number of posts for each given interval."
   ]
  },
  {
   "cell_type": "code",
   "execution_count": 18,
   "id": "681e601f-7913-4568-8c27-7b68da3c58ff",
   "metadata": {},
   "outputs": [],
   "source": [
    "def time_intervals(data, time, time_intervals_list, title):\n",
    "    \n",
    "    time_results = {}\n",
    "    for slot in time_intervals_list:\n",
    "        result = len(data[(time >= slot[0]) &\n",
    "                                  (time < slot[1])])\n",
    "        time_results[str(slot)] = result\n",
    "    \n",
    "    plt.bar(list(time_results.keys()), time_results.values(), color = 'blue', ec = 'black', width = 0.8)\n",
    "    plt.xlabel(\"time slots\", labelpad = 14)\n",
    "    plt.ylabel(\"Count\", labelpad = 14)\n",
    "    plt.title(title, y = 1.05)\n",
    "    plt.show() "
   ]
  },
  {
   "cell_type": "markdown",
   "id": "18afc2e7-e5e4-4312-8fd3-a152eb1fb20f",
   "metadata": {},
   "source": [
    "##### 3.3 Use the function that you created in the previous literal to plot the number of posts between the following time intervals."
   ]
  },
  {
   "cell_type": "code",
   "execution_count": 5,
   "id": "d8c5b1b2-5abf-4493-a0d1-66fda3086dff",
   "metadata": {},
   "outputs": [],
   "source": [
    "slots = [(6, 10), (11, 13), (14, 16), (17, 19), (20, 23), (0, 2), (3, 5)]"
   ]
  },
  {
   "cell_type": "code",
   "execution_count": 7,
   "id": "2e37aa0b-561f-43ba-902a-b9c4f3f83f58",
   "metadata": {},
   "outputs": [],
   "source": [
    "# concatenate the chunks\n",
    "\n",
    "data2 = pd.concat(chunk_list_new)"
   ]
  },
  {
   "cell_type": "code",
   "execution_count": 19,
   "id": "a80854fd-4ec9-4d7a-bbb1-53f930105fb6",
   "metadata": {},
   "outputs": [
    {
     "data": {
      "image/png": "[encoded data removed]",
      "text/plain": [
       "<Figure size 432x288 with 1 Axes>"
      ]
     },
     "metadata": {
      "needs_background": "light"
     },
     "output_type": "display_data"
    }
   ],
   "source": [
    "time_intervals(data2, data2.hour, slots, title = \"the number of posts for each given interval\")"
   ]
  } 
  
  
  
  
  
  

 ],
 
 
 "metadata": {
  "kernelspec": {
   "display_name": "Python 3",
   "language": "python",
   "name": "python3"
  },
  "language_info": {
   "codemirror_mode": {
    "name": "ipython",
    "version": 3
   },
   "file_extension": ".py",
   "mimetype": "text/x-python",
   "name": "python",
   "nbconvert_exporter": "python",
   "pygments_lexer": "ipython3",
   "version": "3.8.8"
  }
 },
 "nbformat": 4,
 "nbformat_minor": 5
}
