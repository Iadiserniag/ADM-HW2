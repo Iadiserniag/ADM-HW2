{
 "cells": [
  {
   "cell_type": "markdown",
   "metadata": {},
   "source": [
    "# Algorithmic Questions"
   ]
  },
  {
   "cell_type": "markdown",
   "metadata": {},
   "source": [
    "## [AQ1]"
   ]
  },
  {
   "cell_type": "markdown",
   "metadata": {},
   "source": [
    "### [AQ1.1] What is the output of this algorithm? Describe the mechanism of the algorithm in detail. We do not want to know only its final result. (Describe one example on your own)"
   ]
  },
  {
   "cell_type": "markdown",
   "metadata": {},
   "source": [
    "This algorithm takes as <b>input</b>:\n",
    "- An array of characters of length N <u>without repetition</u> (<i>sequence</i>).\n",
    "- An index that refers to the beggining of the array (0) (<i>start</i>).\n",
    "- An index of the last character of the array (N-1) (<i>end</i>).\n",
    "- The parameter end could be fixed (n-1). However, in this way there is a possibility of choosing a specific subsequence of the string from which we want to obtain all possible permutations.\n",
    "\n",
    "<pre><code>\n",
    "constraints:\n",
    "* start < N = len(sequence)\n",
    "* start <= end\n",
    "\n",
    "The <b>output</b> of this algorithm includes:\n",
    "- N! lines, each one with a <b>different permutation</b> of the sequence of characters provided in the input.\n",
    "\n",
    "<h3>Example</h3>\n",
    "For <b>instance</b>, if we call the function with this input: f2([\"s\",\"e\",\"t\"],0,2] , the ouput would be:\n",
    "\n",
    "1) set\n",
    "2) ste\n",
    "3) est\n",
    "4) ets\n",
    "5) tes\n",
    "6) tse\n",
    "\n",
    "</pre></code>\n",
    "\n",
    "<h3>Detailed Explanation</h3>\n",
    "\n",
    "The algorithm <b>iterates through each of the characters of the string</b>, and <b>recursively provides all possible variations of that specific character within the string</b>.\n",
    "\n",
    "In this way, after each recursive cycle, the algorithm \"moves\" one character to the right within the original string, then \"swaps\" that character first with itself, but then it is swapped with all the other characters coming after it in the string.\n",
    "\n",
    "The <b>base case</b> of this recursive algorithm is <b>when the (iterated) starting character of the string is equal to the last character of the string (start=end) </b>, because this means that we have already go trough each character of the string and have recursevely swapped it throughout all possible positions of the string."
   ]
  },
  {
   "cell_type": "markdown",
   "metadata": {},
   "source": [
    "### [AQ1.2] What is asymptotically (i.e., we are asking for big-O complexity) the algorithm's running time as a function of N?"
   ]
  },
  {
   "cell_type": "markdown",
   "metadata": {},
   "source": [
    "#### Big-O complexity\n",
    "\n",
    "<br>\n",
    "<br>\n",
    "\n",
    "\\begin{equation}\n",
    "    T(n)=\n",
    "    \\begin{cases}\n",
    "      T_1(n) \\\\\n",
    "      T_2(n) \n",
    "    \\end{cases}\n",
    "\\end{equation}\n",
    "\n",
    "<pre><code>\n",
    "\n",
    "Where, T1(n) refers to the time-complexity of function f1 and T2(n) refers to the time-complexity of function f2.\n",
    "\n",
    "Let's focus on T2(n) for now.\n",
    "\n",
    "\n",
    "\n",
    "</code></pre>\n",
    "\n",
    "\n",
    "\\begin{equation}\n",
    "    T_2(n)=\n",
    "    \\begin{cases}\n",
    "      T_1(n) = O(n) + c & \\text{if}\\ start = end \\\\\n",
    "      n*T_2(n-1) + c & \\text{if}\\ start < end \\\\\n",
    "    \\end{cases}\n",
    "\\end{equation}\n",
    "\n",
    "<pre><code>\n",
    "\n",
    "T2(n) becomes T(n) for the sake of simplicity.\n",
    "\n",
    "Let's solve by substitution, where the <u>starting point</u> is:\n",
    "<b>T(n) = <span style=\"color:blue\">n*T(n-1)</span> + c</b>\n",
    "\n",
    "     <span style=\"color:blue\"><u>[1st substitution]</u></span>\n",
    "     \n",
    "     = n*<span style=\"color:blue\">[(n-1)*T(n-2) + c]</span> + c                  \n",
    "     = n*(n-1)*T(n-2) + cn + c\n",
    "     = n*(n-1)*<span style=\"color:red\">T(n-2)</span> + c(n+1)\n",
    "     \n",
    "     <span style=\"color:red\"><u>[2nd substitution]</u></span>\n",
    "     \n",
    "     = n*(n-1)*<span style=\"color:red\">[(n-2)*T(n-3) + c]</span> + c(n+1)    \n",
    "     = n*(n-1)*(n-2)*T(n-3) + n(n-1)c + nc + c\n",
    "     = ...\n",
    "     \n",
    "     <u>[ith substitution]</u>\n",
    "     \n",
    "     = n*(n-1)*(n-2)*...*(n-(i-1))*T(n-i) + n(n-1)(n-2)(n-i-2)c + ... + nc + c\n",
    "     \n",
    "     <u>[i = n]</u>\n",
    "     \n",
    "     = n*(n-1)*(n-2)*...*2*1*T(0) + c + nc + n(n-1)c + ... + c*n*(n-1)*(n-2)*...*4*3\n",
    "     = <b><span style=\"color:blue\">n!*T(0)</span> + <span style=\"color:red\">c(n + n(n-1) + ... + c*n*(n-1)*(n-2)*...*4*3)</span></b>\n",
    "     = <span style=\"color:blue\">Part1</span> + <span style=\"color:red\">Part2</span>, where Part2 is smaller than Part1\n",
    "     ≥ Part 1 = n!T(0), where T(0) is the base case (start=end)\n",
    " \n",
    "</code></pre>\n",
    "  \n",
    "#### <b><u>Conclusion: T(n) = O(N*N!)</u></b>"
   ]
  },
  {
   "cell_type": "markdown",
   "metadata": {},
   "source": [
    "### [AQ1.3] Is this algorithm the optimal one to produce this output? If not, can you suggest a better algorithm to perform the same task?"
   ]
  },
  {
   "cell_type": "markdown",
   "metadata": {},
   "source": [
    "Even though <b>O(N*N!)</b> is one of the worst running-times when it comes to algorithmic time complexity, this particular problem cannot be solved with a more efficient solution because the only way to return <u>all</u> of the possible permutations of a sequence requires computing n! operations."
   ]
  },
  {
   "cell_type": "markdown",
   "metadata": {},
   "source": [
    "## [AQ2]\n",
    "#### Considering the following problem, answer the questions.\n",
    "#### Alex has a ribbon of length N. He wants to cut the ribbon in a way that fulfils the following three conditions:\n",
    "\n",
    "* **[1]** Each piece of the cut should have an integer length <br>\n",
    "* **[2]** He should at least cut the ribbon once <br>\n",
    "* **[3]** The multiplication of the length of all the pieces be the maximum possible <br>"
   ]
  },
  {
   "cell_type": "markdown",
   "metadata": {},
   "source": [
    "### **[AQ2.1] Implement a recursive algorithm to help Alex find the maximum possible value after multiplying the length of the pieces. Explain your algorithm in detail.**"
   ]
  },
  {
   "cell_type": "code",
   "execution_count": 70,
   "metadata": {},
   "outputs": [],
   "source": [
    "def FindMaxProdRec(n):\n",
    "     \n",
    "    # Base cases\n",
    "    if n == 0 or n == 1:\n",
    "        return 0\n",
    "\n",
    "    \n",
    "    max_product = 0\n",
    "    for i in range(1, n): # make the i cut(s) in all possible ways: (1, n-1), (2, n-2), ... (n-1 , 1), (n, 0) \n",
    "        max_product = max(max_product, max(i * (n - i), FindMaxProdRec(n - i) * i))\n",
    "  \n",
    "    \n",
    "    return max_product # Output the maximum product"
   ]
  },
  {
   "cell_type": "code",
   "execution_count": 72,
   "metadata": {},
   "outputs": [
    {
     "data": {
      "text/plain": [
       "18"
      ]
     },
     "execution_count": 72,
     "metadata": {},
     "output_type": "execute_result"
    }
   ],
   "source": [
    "FindMaxProdRec(8)"
   ]
  },
  {
   "cell_type": "markdown",
   "metadata": {},
   "source": [
    "### Explanation\n",
    "\n",
    "<br>\n",
    "\n",
    "`Input: n = length of the ribbon`\n",
    "\n",
    "#### The algorithm must satify all three conditions:\n",
    "\n",
    "**[1]** Each piece of the cut should have an integer length <br>\n",
    "**[2]** He should at least cut the ribbon once <br>\n",
    "**[3]** The multiplication of the length of all the pieces be the maximum possible <br>\n",
    "\n",
    "\n",
    "#### First of all, it must be a recursive function. Therefore it must satisfy the three following conditions:\n",
    "* The function must call itself recursively.\n",
    "* There must exist a base case.\n",
    "* The function must change its state and move towards the base case.\n",
    "\n",
    "\n",
    "#### We want cut the ribbon <u>at least once</u>, the cuts must be of <u> integer length</u> while obtaining the maximum possible product of the pieces' length.\n",
    "* Hence, For ribbons of `length 0 or 1`, the function must `return 0`.\n",
    "* While for `n = 2`, we can <u>cut the ribbon into two pieces of length 1</u>. Therefore, the function must `return 1 (1*1) and not 2`, even though the length of the ribbon is larger than the product of the two pieces.\n",
    "* The same reasoning is applied to the ribbon of `length 3`. We can <u>cut it into two pieces of lengths (1, 2)</u>. The function will `return 2 (1*2) and not 3` as we impose the algorithm to cut the ribbon at least once.\n",
    "* For `n > 3`, there may be multiple ways of cutting a ribbon, one of which gives the maximum product. <br>\n",
    "\n",
    "<pre><code>\n",
    "For instance, given that <u>k is the number of cuts</u> (where k < n) and n = 4, we may have the following possible outcomes:\n",
    "  1) for k = 1: (2, 2), (1, 3), (3, 1), where the respective products are 4, 3, 3\n",
    "  2) for k = 2: (1, 1, 2), (2, 1, 1), (1, 2, 1) where the respective products are 2, 2, 2\n",
    "  3) for k = 3: (1, 1, 1, 1) where the product is equal to 1\n",
    "  \n",
    "We can conclude that for n = 4 there are 7 not unique solutions and 4 unique solutions for cutting the ribbon, where <u>the maximum product is equal to 4</u>.\n",
    "  \n",
    "</code></pre>\n",
    "  \n",
    "  **How does the algorithm work?**\n",
    "  \n",
    "<pre><code>\n",
    "maxVal = 0 # the maximum value (product) is initialized to zero.\n",
    "\n",
    "for i in range(1, 4): \n",
    "      maxVal = max(maxVal, max(i * (n - i), FindMaxProdRec(4 - i) * i))\n",
    "           \n",
    "     <u>for i = 1</u>\n",
    "     maxVal = max(0, max(1 * (4 - 1), FindMaxProdRec(4 - 1) * 1))\n",
    "            = max(0, max(3, FindMaxProdRec(3)))\n",
    "\n",
    "     1) we call function FindMaxProdRec(3):\n",
    "     \n",
    "     for i in range(1, 3): \n",
    "           maxVal = max(0, max(2, FindMaxProdRec(2)))\n",
    "           \n",
    "     2) we call function FindMaxProdRec(2):\n",
    "     \n",
    "     for i in range(1, 2): # only one iteration\n",
    "           maxVal = max(0, max(1, FindMaxProdRec(1))) # base case\n",
    "                  = max(0, max(1, 0))\n",
    "                  = max(0, 1) = 1\n",
    "      \n",
    "Then we go back to the previous function calls and go through <u>all</u> for loops until you reach the top and return the required output.\n",
    "\n",
    "</code></pre> "
   ]
  },
  {
   "cell_type": "markdown",
   "metadata": {},
   "source": [
    "### **[AQ2.2] Show that the algorithm has exponential running time.**"
   ]
  },
  {
   "cell_type": "markdown",
   "metadata": {},
   "source": [
    "This approach is similar to the Fibonacci recursive function: we recursively call the function until we reach the base case. Therefore, everytime we call `FindMaxProdRec(n)`, we form a tree-like recursive structure. \n",
    "\n",
    "\n",
    "### This algorithm runs in `O(2^n)`\n",
    " \n",
    "<pre><code>\n",
    "FindMaxProdRec(n)\n",
    "\n",
    "[1] If statement: O(1) # base case\n",
    "[2] MaxVal = 0: O(1)\n",
    "[2] recursion = call the function recursively n times.\n",
    "Each time we call the function, we call it recursively n times, until we reach the base case where n = 1\n",
    "\n",
    "\n",
    "<u>Conclusions</u>: the number of computations increases exponentially as n increases. Precicely, just like with Fibonacci, the running time complexity is <b>O(2^n)</b> where the latter (big-O notation) denotes an algorithm whose growth doubles with each addition to n. \n",
    "\n",
    "</code></pre>\n",
    "\n",
    "<img src=\"Image1.jpeg\"  width=50% height=50%>"
   ]
  },
  {
   "cell_type": "markdown",
   "metadata": {},
   "source": [
    "### **[AQ2.3/5] Now provide a polynomial solution, based on dynamic programming, and compute its running-time complexity.**"
   ]
  },
  {
   "cell_type": "markdown",
   "metadata": {},
   "source": [
    "### **The Algorithm**"
   ]
  },
  {
   "cell_type": "code",
   "execution_count": 9,
   "metadata": {},
   "outputs": [],
   "source": [
    "def maximize_value(n, max_value, k = 1): # n = ribbon length, k = no. of cuts initialized to 1, max_value (initialized at n)\n",
    "    \n",
    "    if n < 2:\n",
    "        return 0 # base case\n",
    "    \n",
    "    elif n == 2:\n",
    "        return 1\n",
    "    \n",
    "    elif n == 3:\n",
    "        return 2\n",
    "    \n",
    "    else:\n",
    "        \n",
    "        remainder = n % (k+1)\n",
    "        num_pieces = k + 1\n",
    "\n",
    "        product = ((n//num_pieces)**(num_pieces - remainder)) * (((n//num_pieces) + 1)**(remainder))\n",
    "\n",
    "        if product > max_value:\n",
    "            return maximize_value(n, product, k + 1)\n",
    "        else:\n",
    "            return max_value"
   ]
  },
  {
   "cell_type": "code",
   "execution_count": 10,
   "metadata": {},
   "outputs": [
    {
     "data": {
      "text/plain": [
       "18"
      ]
     },
     "execution_count": 10,
     "metadata": {},
     "output_type": "execute_result"
    }
   ],
   "source": [
    "maximize_value(8, 8)"
   ]
  },
  {
   "cell_type": "markdown",
   "metadata": {},
   "source": [
    "### Explanation\n",
    "\n",
    "\n",
    "<pre><code>\n",
    "\n",
    "<b>Inputs: (n, max_value, k = 1)</b>\n",
    "1) n: length of the ribbon\n",
    "2) max_value: the maximum product seen so far (initialized at n)\n",
    "3) k: the number of cuts, where k > 0\n",
    "\n",
    "<h3>Base cases</h3>\n",
    "\n",
    "Just like in AQ2.1, these are the following \"special\" cases:\n",
    "* <u>n = 0 or n = 1</u>: no cuts are possible so max_value = 0\n",
    "* <u>n = 2</u>: only one cut is possible, so max_value = 1 = 1*1\n",
    "* <u>n = 3</u>: only one cut is possible, so max_value = 2 = 1*2\n",
    "\n",
    "<h3>For n greater than or equal to 4</h3>\n",
    "\n",
    "1) <u>remainder = n % (k+1)</u> indicates how much of the ribbon is left once we create pieces of <u>integer</u> size (n/(k+1))+1. For instance, if n = 5 and k = 1, remainder = 5%2 = 1.\n",
    "\n",
    "2) num_pieces = k + 1 is number of pieces given that the number of cuts is equal to k.\n",
    "\n",
    "3) product = ((n//num_pieces)**(num_pieces - remainder)) * (((n//num_pieces) + 1)**(remainder)) where:\n",
    "  a) n//num_pieces is the <u>integer</u> length of the piece\n",
    "  b) (n//num_pieces)**(num_pieces - remainder) returns the product of the pieces of smaller length\n",
    "  c) ((n//num_pieces) + 1)**(remainder) returns the product of the pieces of larger length\n",
    "\n",
    "<h3>Example:</h3>\n",
    "\n",
    "Let's suppose that <b>n = 8 and k = 2</b> then,\n",
    "\n",
    "remainder = 8 % (2+1) = 8 % 3 = 2\n",
    "num_pieces = 2 + 1 = 3\n",
    "\n",
    "<u>product</u> = ((8//3)**(3 - 2)) * (((8//3) + 1)**(2))\n",
    "        = ((2)**(1)) * (((2) + 1)**(2))\n",
    "        = (2 * (3^2)) = (2 * 9) = 18               # we have one piece of length 2 and two pieces of length 3\n",
    "        \n",
    "we can also check that the sum of the lengths of the pieces equals the length of the ribbon.\n",
    "\n",
    "sum = (2*1) + (3*2) = 2 + 6 = 8 = n (correct!) \n",
    "\n",
    "\n",
    "\n",
    "Then we check whether product is greater than the previously stated max_value: if the product is greater than max_value we should recall the function increasing the number of cuts from k to k + 1 => <u>maximize_value(n, product, k + 1)</u>. If instead, the product is smaller than max_value we just return max_value and the algorithm stops.\n",
    "\n",
    "if product > max_value:\n",
    "            return maximize_value(n, product, k + 1)\n",
    "        else:\n",
    "            return max_value\n",
    "\n",
    "Here max_value = 16 # the one given by performing only one cut, where we cut in the middle of the ribbon and obtain two pieces of length equal to 4\n",
    "\n",
    "\n",
    "Since product = 18 > 16 = max_value, we recall the function maximize_value(8, max_value = 18, 3) where now max_value = 18 (and no longer 16) and the number of cuts k has increased by 1 (from 2 to 3).\n",
    "\n",
    "\n",
    "\n",
    "\n",
    "<u>Note 1</u>: we perform the cut(s) in such a way that we obtain pieces of the same integer length (when possible) or of the closest possible integer lengths (like in the previously cited case). Placing the cuts in such a way always returns the maximum product for that specific number of cuts k. Therefore, unlike the recursive case, for each value of k we only have one possible way of cutting the ribbon and not multiple!\n",
    "\n",
    "<u>Note 2</u>: Once you have reached the peak of max_value, by continuing to increase the number of cuts you are only going to decrease the product. So, after the first failure in increasing max_value by increasing the number of cuts we must stop cutting and return max_value.\n",
    "\n",
    "</code></pre>"
   ]
  },
  {
   "cell_type": "markdown",
   "metadata": {},
   "source": [
    "### **Running-time complexity**\n",
    "\n",
    "<pre><code>\n",
    "maximize_value(n, max_value, k = 1)\n",
    "\n",
    "[1] 1st if statement: O(1)\n",
    "[2] 2nd if statement: O(1)\n",
    "[3] 3rd if statement: O(1)\n",
    "[4, 5, 6] variables remainder, num_pieces and product assignment: O(1) each\n",
    "[7] recursion: O(n) => in the worst case scenario k will reach n - 1, meaning that we call the function n - 1 times.\n",
    "\n",
    "T(n) = c*O(1) + O(n) = O(n)\n",
    "\n",
    "<u>Conclusions</u>: the number of computations increases at the same pace as n.\n",
    "\n",
    "</code></pre>"
   ]
  },
  {
   "cell_type": "markdown",
   "metadata": {},
   "source": [
    "### **[AQ2.4] Evaluate the running time of your algorithm for the sizes (Ns) in the range of [2, 25], plot the results, and interpret it (if you have implemented two algorithms, please include both in the plot and compare them).**"
   ]
  },
  {
   "cell_type": "markdown",
   "metadata": {},
   "source": [
    "### Theoretical comparison"
   ]
  },
  {
   "cell_type": "code",
   "execution_count": 51,
   "metadata": {},
   "outputs": [
    {
     "data": {
      "text/plain": [
       "Text(0.5, 1.0, 'Running time complexity of our algorithm')"
      ]
     },
     "execution_count": 51,
     "metadata": {},
     "output_type": "execute_result"
    },
    {
     "data": {
      "image/png": "[encoded data removed]",
      "text/plain": [
       "<Figure size 432x288 with 1 Axes>"
      ]
     },
     "metadata": {
      "needs_background": "light"
     },
     "output_type": "display_data"
    }
   ],
   "source": [
    "from matplotlib import pyplot as plt\n",
    "\n",
    "# maximize_value (O(n))\n",
    "\n",
    "x_values1 = [i for i in range(2, 26)]\n",
    "y_values1 = x_values1\n",
    "\n",
    "\n",
    "# FindMaxProdRec (O(2^n))\n",
    "\n",
    "x_values2 = x_values1\n",
    "y_values2 = [2**i for i in range(2, 26)]\n",
    "\n",
    "fig = plt.figure()\n",
    "ax1 = fig.add_subplot(111)\n",
    "\n",
    "ax1.scatter(x_values1, y_values1, c = 'b', label = 'Linear solution')\n",
    "ax1.scatter(x_values2, y_values2, c = 'r', label = 'Exponential solution')\n",
    "\n",
    "plt.xlabel('Length of the ribbon (n)')\n",
    "plt.ylabel('omplexity')\n",
    "plt.title('Running time complexity of our algorithm')"
   ]
  },
  {
   "cell_type": "markdown",
   "metadata": {},
   "source": [
    "### Timeit comparison"
   ]
  },
  {
   "cell_type": "markdown",
   "metadata": {},
   "source": [
    "#### Maximize_value"
   ]
  },
  {
   "cell_type": "code",
   "execution_count": 39,
   "metadata": {},
   "outputs": [
    {
     "name": "stdout",
     "output_type": "stream",
     "text": [
      "260 ns ± 23.2 ns per loop (mean ± std. dev. of 7 runs, 1000000 loops each)\n",
      "326 ns ± 41.9 ns per loop (mean ± std. dev. of 7 runs, 1000000 loops each)\n",
      "1.28 µs ± 199 ns per loop (mean ± std. dev. of 7 runs, 1000000 loops each)\n",
      "2.91 µs ± 783 ns per loop (mean ± std. dev. of 7 runs, 100000 loops each)\n",
      "2.6 µs ± 802 ns per loop (mean ± std. dev. of 7 runs, 100000 loops each)\n",
      "3.16 µs ± 1.66 µs per loop (mean ± std. dev. of 7 runs, 100000 loops each)\n",
      "3.64 µs ± 960 ns per loop (mean ± std. dev. of 7 runs, 100000 loops each)\n",
      "4.26 µs ± 2.42 µs per loop (mean ± std. dev. of 7 runs, 100000 loops each)\n",
      "4.03 µs ± 706 ns per loop (mean ± std. dev. of 7 runs, 100000 loops each)\n",
      "7.17 µs ± 1.95 µs per loop (mean ± std. dev. of 7 runs, 100000 loops each)\n",
      "6.2 µs ± 2.02 µs per loop (mean ± std. dev. of 7 runs, 100000 loops each)\n",
      "6.65 µs ± 1.62 µs per loop (mean ± std. dev. of 7 runs, 100000 loops each)\n",
      "6.73 µs ± 2.47 µs per loop (mean ± std. dev. of 7 runs, 100000 loops each)\n",
      "6.08 µs ± 930 ns per loop (mean ± std. dev. of 7 runs, 100000 loops each)\n",
      "6.88 µs ± 1.1 µs per loop (mean ± std. dev. of 7 runs, 100000 loops each)\n",
      "7.47 µs ± 1.22 µs per loop (mean ± std. dev. of 7 runs, 100000 loops each)\n",
      "6.91 µs ± 930 ns per loop (mean ± std. dev. of 7 runs, 100000 loops each)\n",
      "8.64 µs ± 2.52 µs per loop (mean ± std. dev. of 7 runs, 100000 loops each)\n",
      "9.59 µs ± 3.3 µs per loop (mean ± std. dev. of 7 runs, 100000 loops each)\n",
      "8.74 µs ± 2.1 µs per loop (mean ± std. dev. of 7 runs, 100000 loops each)\n",
      "8.54 µs ± 1.3 µs per loop (mean ± std. dev. of 7 runs, 100000 loops each)\n",
      "12.7 µs ± 3.97 µs per loop (mean ± std. dev. of 7 runs, 100000 loops each)\n",
      "9.15 µs ± 2.2 µs per loop (mean ± std. dev. of 7 runs, 100000 loops each)\n",
      "10.3 µs ± 2.45 µs per loop (mean ± std. dev. of 7 runs, 100000 loops each)\n"
     ]
    }
   ],
   "source": [
    "out1 = []\n",
    "\n",
    "for i in range(2, 26):\n",
    "    res = %timeit -o maximize_value(i, i)\n",
    "    out1.append(str(res))"
   ]
  },
  {
   "cell_type": "code",
   "execution_count": 44,
   "metadata": {},
   "outputs": [],
   "source": [
    "times1 = []\n",
    "for el in out1:\n",
    "    s = el.split(\" \", 1)\n",
    "    if s[1][0] == \"n\":\n",
    "        times1.append(float(s[0])*0.000001) # nanoseconds => divide by 10^6 to get to milliseconds\n",
    "    elif s[1][0] == \"µ\":\n",
    "        times1.append(float(s[0])*0.001) # microseconds => divide by 10^6 to get to milliseconds"
   ]
  },
  {
   "cell_type": "markdown",
   "metadata": {},
   "source": [
    "#### FindMaxProdRec"
   ]
  },
  {
   "cell_type": "code",
   "execution_count": 32,
   "metadata": {},
   "outputs": [
    {
     "name": "stdout",
     "output_type": "stream",
     "text": [
      "1.63 µs ± 335 ns per loop (mean ± std. dev. of 7 runs, 1000000 loops each)\n",
      "3.1 µs ± 483 ns per loop (mean ± std. dev. of 7 runs, 100000 loops each)\n",
      "8.34 µs ± 3.25 µs per loop (mean ± std. dev. of 7 runs, 100000 loops each)\n",
      "17.6 µs ± 3.49 µs per loop (mean ± std. dev. of 7 runs, 100000 loops each)\n",
      "The slowest run took 4.19 times longer than the fastest. This could mean that an intermediate result is being cached.\n",
      "43.1 µs ± 26.4 µs per loop (mean ± std. dev. of 7 runs, 10000 loops each)\n",
      "93.6 µs ± 26.4 µs per loop (mean ± std. dev. of 7 runs, 10000 loops each)\n",
      "131 µs ± 24.7 µs per loop (mean ± std. dev. of 7 runs, 10000 loops each)\n",
      "241 µs ± 14.5 µs per loop (mean ± std. dev. of 7 runs, 1000 loops each)\n",
      "560 µs ± 101 µs per loop (mean ± std. dev. of 7 runs, 1000 loops each)\n",
      "987 µs ± 97.3 µs per loop (mean ± std. dev. of 7 runs, 1000 loops each)\n",
      "2.41 ms ± 315 µs per loop (mean ± std. dev. of 7 runs, 1000 loops each)\n",
      "3.92 ms ± 98.8 µs per loop (mean ± std. dev. of 7 runs, 100 loops each)\n",
      "8.12 ms ± 553 µs per loop (mean ± std. dev. of 7 runs, 100 loops each)\n",
      "15.9 ms ± 4.78 ms per loop (mean ± std. dev. of 7 runs, 100 loops each)\n",
      "30.8 ms ± 10.5 ms per loop (mean ± std. dev. of 7 runs, 10 loops each)\n",
      "59.5 ms ± 7.48 ms per loop (mean ± std. dev. of 7 runs, 10 loops each)\n",
      "116 ms ± 11.2 ms per loop (mean ± std. dev. of 7 runs, 10 loops each)\n",
      "223 ms ± 17.2 ms per loop (mean ± std. dev. of 7 runs, 1 loop each)\n",
      "448 ms ± 28.6 ms per loop (mean ± std. dev. of 7 runs, 1 loop each)\n",
      "1.18 s ± 379 ms per loop (mean ± std. dev. of 7 runs, 1 loop each)\n",
      "2.66 s ± 516 ms per loop (mean ± std. dev. of 7 runs, 1 loop each)\n",
      "5.05 s ± 801 ms per loop (mean ± std. dev. of 7 runs, 1 loop each)\n",
      "9.37 s ± 888 ms per loop (mean ± std. dev. of 7 runs, 1 loop each)\n",
      "18 s ± 1.19 s per loop (mean ± std. dev. of 7 runs, 1 loop each)\n"
     ]
    }
   ],
   "source": [
    "out2 = []\n",
    "\n",
    "for i in range(2, 26):\n",
    "    res = %timeit -o FindMaxProdRec(i)\n",
    "    out2.append(str(res))"
   ]
  },
  {
   "cell_type": "code",
   "execution_count": 45,
   "metadata": {},
   "outputs": [],
   "source": [
    "times2 = []\n",
    "for el in out2:\n",
    "    s = el.split(\" \", 1)\n",
    "    if s[1][0] == \"µ\":\n",
    "        times2.append(float(s[0])*0.001)\n",
    "    elif s[1][0] == \"m\":\n",
    "        times2.append(float(s[0]))\n",
    "    elif s[1][0] == \"s\":\n",
    "        times2.append(float(s[0])*1000)"
   ]
  },
  {
   "cell_type": "code",
   "execution_count": 43,
   "metadata": {},
   "outputs": [
    {
     "data": {
      "text/plain": [
       "Text(0.5, 1.0, 'Running time of our algorithm')"
      ]
     },
     "execution_count": 43,
     "metadata": {},
     "output_type": "execute_result"
    },
    {
     "data": {
      "image/png": "[encoded data removed]",
      "text/plain": [
       "<Figure size 432x288 with 1 Axes>"
      ]
     },
     "metadata": {
      "needs_background": "light"
     },
     "output_type": "display_data"
    }
   ],
   "source": [
    "fig2 = plt.figure()\n",
    "ax2 = fig2.add_subplot(111)\n",
    "\n",
    "ax2.scatter(x_values1, times1, c = 'b', label = 'Linear solution')\n",
    "ax2.scatter(x_values2, times2, c = 'r', label = 'Exponential solution')\n",
    "\n",
    "plt.xlabel('Length of the ribbon (n)')\n",
    "plt.ylabel('timeit result in μs')\n",
    "plt.title('Running time of our algorithm')"
   ]
  },
  {
   "cell_type": "markdown",
   "metadata": {},
   "source": [
    "### Conclusions\n",
    "\n",
    "Both plots evaluate the running time of both algorithms `maximize_value` and `FindMaxProdRec` in the range of 2 to 25.\n",
    "\n",
    "#### Plot 1\n",
    "\n",
    "The first plot represents a <u>theoretical</u> implementation of what the running times should be according to our intuition.\n",
    "\n",
    "#### Plot 2\n",
    "\n",
    "The second plot captures the running times of the two algorithms as n increases (from 2 to 25) according to the <u>%timeit</u> function that measures the execution time of our code, in this case, the two implemented functions.\n",
    "\n",
    "Comparing the two plots we can clearly see that `maximize_value` (blue line) runs in a linear time and `FindMaxProdRec`(red line) runs in an exponential time. For n > 20, we can really start to see a difference between their execution (running) times: `FindMaxProdRec` becomes unpractical. In fact, for even bigger values of n, our computer is not able to run the function unlike `maximize_value` which returns the expected output instantly."
   ]
  }
 ],
 "metadata": {
  "kernelspec": {
   "display_name": "Python 3",
   "language": "python",
   "name": "python3"
  },
  "language_info": {
   "codemirror_mode": {
    "name": "ipython",
    "version": 3
   },
   "file_extension": ".py",
   "mimetype": "text/x-python",
   "name": "python",
   "nbconvert_exporter": "python",
   "pygments_lexer": "ipython3",
   "version": "3.8.3"
  }
 },
 "nbformat": 4,
 "nbformat_minor": 4
}
