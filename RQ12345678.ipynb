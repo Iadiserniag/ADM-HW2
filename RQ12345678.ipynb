{
 "cells": [
  {
   "attachments": {},
   "cell_type": "markdown",
   "id": "f0eab2d5",
   "metadata": {},
   "source": [
    "# <center>ADM: Homework 2: Instagram Profiles & Posts</center>\n",
    "\n",
    "* <b>Name: </b>Giulia Iadisernia         <b>Matricola</b>: 2065450 <b>Email: </b>iadisernia.2065450@studenti.uniroma1.it  <br>\n",
    "* <b>Name: </b>Lorenzo Incoronato       <b>Matricola</b>: 1916863 <b>Email: </b>incoronato.1916863@studenti.uniroma1.it <br>\n",
    "* <b>Name: </b>Javier Martinez Velasco   <b>Matricola</b>: 2058968 <b>Email: </b>martinezvelasco.2058968@studenti.uniroma1.it<br>"
   ]
  },
  {
   "cell_type": "markdown",
   "id": "aa006665",
   "metadata": {},
   "source": [
    "### <b>[RQ1]</b> After collecting information, the Data Scientists have to know what dataset they are dealing with, so let's start with an Exploratory Data Analysis (EDA). What can you say about our datasets? Please summarise its main characteristics with visual and tabular methods"
   ]
  },
  {
   "cell_type": "code",
   "execution_count": 1,
   "id": "58a78733",
   "metadata": {},
   "outputs": [],
   "source": [
    "import warnings\n",
    "warnings.filterwarnings(\"ignore\")\n",
    "import pandas as pd\n",
    "import numpy as np\n",
    "import matplotlib.pyplot as plt\n",
    "import scipy.stats\n",
    "import seaborn as sns\n",
    "import os"
   ]
  },
  {
   "cell_type": "code",
   "execution_count": 2,
   "id": "d60890e9",
   "metadata": {},
   "outputs": [],
   "source": [
    "#UPLOADING POSTS.CSV\n",
    "fields = [\"post_type\", \"numbr_likes\",\"number_comments\", \"cts\"]\n",
    "df_instagram_posts_RQ1= pd.read_csv(\"~/instagram_posts.csv\", sep = \"\\t\" , usecols = fields ,parse_dates=[\"cts\"] )\n",
    "df_instagram_posts_RQ1_info = pd.read_csv(\"~/instagram_posts.csv\", sep = \"\\t\" ,nrows = 1 ,parse_dates=[\"cts\"])\n",
    "#DATA CLEANING \n",
    "df_instagram_posts_RQ1.numbr_likes.fillna(0, inplace = True)\n",
    "df_instagram_posts_RQ1.number_comments.fillna(0, inplace = True)\n",
    "#ASSIGNING VARIABLES\n",
    "likes = df_instagram_posts_RQ1.numbr_likes\n",
    "post_type = df_instagram_posts_RQ1.post_type\n",
    "comments = df_instagram_posts_RQ1.number_comments\n",
    "date = df_instagram_posts_RQ1.cts"
   ]
  },
  {
   "cell_type": "markdown",
   "id": "fd910538",
   "metadata": {},
   "source": [
    "<h3 style=\"font-size: 22px; color: #00009B\"> RQ1.1 EDA on instagram_posts.csv</h3>"
   ]
  },
  {
   "cell_type": "markdown",
   "id": "5c365459",
   "metadata": {},
   "source": [
    "#### Dataset Variables\n",
    "<b>SID</b>: Sequence ID <br>\n",
    "<b>sid_profile</b>: Sequence ID of the profile from ## Profiles tab key <br>\n",
    "<b>post_id</b>: Instagrams ID <br>\n",
    "<b>profile_id</b>: Instagrams ID may be null <br>\n",
    "<b>location_id</b>: Instagrams ID <br>\n",
    "<b>cts</b>: Timestamp when the Post was created <br>\n",
    "<b>post_type</b>: 1 - Photo, 2 - Video, 3 - multy <br>\n",
    "<b>description</b>: May contain '\\n' <br>\n",
    "<b>numbr_likes</b>: Number of Likes at the moment it was visited <br>\n",
    "<b>number_comments</b>: Number of comments at the moment it was visited <br>\n",
    "\n",
    "#### Which variables will be considered for instagram_post.csv EDA?\n",
    "\n",
    "The original dataset includes 10 variables, 6 of which don't provide any useful information by analyzing them numerically: \"SID\", \"sid_profile\", \"post_id\", \"profile_id\" and \"location_id\". Regarding \"description\", up to this point we don't have the required honwledge and tools to perform text mining and extract insights from this variable. Therefore, the exploratory data analysis will be performed over the remaining 4 variables: \"post_type\", \"numbr_likes\", \"number_comments\" and \"cts\". "
   ]
  },
  {
   "cell_type": "markdown",
   "id": "105a9675",
   "metadata": {
    "tags": []
   },
   "source": [
    "### Variables and data types"
   ]
  },
  {
   "cell_type": "markdown",
   "id": "faa12b70",
   "metadata": {},
   "source": [
    "Here we can observe the different data types of the variables. Since the variables post_type, numbr_likes and number_comments are actually discrete, we could transform them into integer values in a later data cleaning stage. "
   ]
  },
  {
   "cell_type": "code",
   "execution_count": 7,
   "id": "099f5ea9",
   "metadata": {},
   "outputs": [
    {
     "name": "stdout",
     "output_type": "stream",
     "text": [
      "<class 'pandas.core.frame.DataFrame'>\n",
      "RangeIndex: 1 entries, 0 to 0\n",
      "Data columns (total 10 columns):\n",
      " #   Column           Non-Null Count  Dtype \n",
      "---  ------           --------------  ----- \n",
      " 0   sid              1 non-null      int64 \n",
      " 1   sid_profile      1 non-null      int64 \n",
      " 2   post_id          1 non-null      object\n",
      " 3   profile_id       1 non-null      int64 \n",
      " 4   location_id      1 non-null      int64 \n",
      " 5   cts              1 non-null      datetime64[ns]\n",
      " 6   post_type        1 non-null      int64 \n",
      " 7   description      1 non-null      object\n",
      " 8   numbr_likes      1 non-null      int64 \n",
      " 9   number_comments  1 non-null      int64 \n",
      "dtypes: int64(7), object(3)\n",
      "memory usage: 208.0+ bytes\n"
     ]
    }
   ],
   "source": [
    "df_instagram_posts_RQ1_info.info()"
   ]
  },
  {
   "cell_type": "markdown",
   "id": "fe6f1eca",
   "metadata": {},
   "source": [
    "### Numerical Variables"
   ]
  },
  {
   "cell_type": "markdown",
   "id": "e650adea",
   "metadata": {
    "tags": []
   },
   "source": [
    "##### <b>1. NUMBER OF LIKES</b>"
   ]
  },
  {
   "cell_type": "markdown",
   "id": "757ce62b",
   "metadata": {
    "tags": []
   },
   "source": [
    "<i>Summary Statistics</i>",
    "<br>\n",
    "\"numbr_likes\" is a numerical discrete variable that indicates the amount of likes a certain post has obtained. By looking (table below) at the main summary values from the distribution we observe a big range from 0 to near 8M likes. However, 75% of the values lay below 114 likes and the mode is 12 likes. This suggests that the current mean (283) might not the best measure of expection for this distribution (this value is probably too high). Therefore, for a better summary of the distribution, outliers should be identified."
   ]
  },
  {
   "cell_type": "code",
   "execution_count": 23,
   "id": "ce20c3f8",
   "metadata": {},
   "outputs": [
    {
     "name": "stdout",
     "output_type": "stream",
     "text": [
      "mode           12.0\n"
     ]
    },
    {
     "data": {
      "text/plain": [
       "count    42710197.000000\n",
       "mean          283.502807\n",
       "std          6124.608652\n",
       "min             0.000000\n",
       "25%            20.000000\n",
       "50%            46.000000\n",
       "75%           114.000000\n",
       "max       8822952.000000\n",
       "Name: numbr_likes, dtype: object"
      ]
     },
     "execution_count": 23,
     "metadata": {},
     "output_type": "execute_result"
    }
   ],
   "source": [
    "print(\"mode          \", likes.mode()[0])\n",
    "likes.describe().apply(lambda x: format(x, 'f'))"
   ]
  },
  {
   "cell_type": "markdown",
   "id": "8462c93e",
   "metadata": {},
   "source": [
    "<i>Outliers</i>",
    "<br>\n",
    "In the output below, by obtaining the higher quantiles of the distribution we can clearly observe the <b>presence of outliers</b>. The quantile at percentile 0.95 shows that 95% of the total dataset posts(40,574.687) have received less than 471 likes.  \n",
    "By using the Interquartile Rule to Find Outliers we find out that in the right tail of the distribution, around 10% of the population are outliers. **This is an extremely high number of outliers**, which we believe is related to the nature of the distribution (close to an exponential) and the big sample size, which shows a high variation of likes in the population.<br>\n",
    "\n",
    "* IQR * 1.5 + Q3 = (114-20) * 1.5 + 114  = 255 <br>\n",
    "* Percentile 90 = 256 <br>\n",
    "* Therefore, 10% of the right tail of the distribution can be consider outliers"
   ]
  },
  {
   "cell_type": "code",
   "execution_count": 27,
   "id": "0cc4c8d2",
   "metadata": {},
   "outputs": [
    {
     "name": "stdout",
     "output_type": "stream",
     "text": [
      "Percentile       Quantile\n",
      "0.500000         46.000000\n",
      "0.900000        256.000000\n",
      "0.950000        471.000000\n",
      "0.990000       2875.000000\n",
      "0.999000      30636.000000\n",
      "0.999900     181821.941200\n",
      "0.999999    2028103.073639\n",
      "1.000000    8822952.000000\n",
      "Name: numbr_likes, dtype: object\n"
     ]
    },
    {
     "data": {
      "image/png": "[encoded data removed]",
      "text/plain": [
       "<Figure size 432x288 with 1 Axes>"
      ]
     },
     "metadata": {
      "needs_background": "light"
     },
     "output_type": "display_data"
    }
   ],
   "source": [
    "print(\"Percentile       Quantile\")\n",
    "print(likes.quantile([.5, .90, .95 , .99 , .999 , .9999 , .999999 , 1]).apply(lambda x: format(x, 'f')))\n",
    "plt.boxplot(likes)\n",
    "plt.show()"
   ]
  },
  {
   "cell_type": "markdown",
   "id": "12542523",
   "metadata": {},
   "source": [
    "<i>Distribution of the Variable</i>",
    "<br>\n",
    "When ploting the distribution we observe its exponential nature, with a highly positive skew and leptokurtosis. In this barplot we \"zoom\" on the 95% left tail of the distribution, because it is more representative of the sample population."
   ]
  },
  {
   "cell_type": "code",
   "execution_count": 63,
   "id": "0da216a9",
   "metadata": {},
   "outputs": [
    {
     "data": {
      "image/png": "[encoded data removed]",
      "text/plain": [
       "<Figure size 432x288 with 1 Axes>"
      ]
     },
     "metadata": {
      "needs_background": "light"
     },
     "output_type": "display_data"
    }
   ],
   "source": [
    "likes = df_instagram_posts_RQ1.numbr_likes\n",
    "new_axis = likes[likes < 471]\n",
    "unique,counts = np.unique(df_instagram_posts_RQ1.numbr_likes.values, return_counts=True)\n",
    "try:\n",
    "    plt.hist(new_axis,  bins='auto', normed=True , color = \"skyblue\")\n",
    "except AttributeError:\n",
    "    pass"
   ]
  },
  {
   "cell_type": "markdown",
   "id": "43b1cf22",
   "metadata": {},
   "source": [
    "##### <b>2. NUMBER OF COMMENTS</b>"
   ]
  },
  {
   "cell_type": "markdown",
   "id": "82af200b",
   "metadata": {},
   "source": [
    "<i>Summary Statistics</i>",
    "<br>\n",
    "We procede similarly with the variable \"number_comments\", which is a numerical discrete variable that indicates the amount of comments a certain post has obtained. We observe a range from 0 to near 488953 comments. We notice that 75% of the values lay below 5 comments and the mode is 0 comments. This suggests that the mean (7.59) might not the best measure of expection for this distribution (this value is probably too high). For a better summary of the distribution we proceed on identifying the outliers."
   ]
  },
  {
   "cell_type": "code",
   "execution_count": 12,
   "id": "a168b9b7",
   "metadata": {},
   "outputs": [
    {
     "name": "stdout",
     "output_type": "stream",
     "text": [
      "mode           0.0\n"
     ]
    },
    {
     "data": {
      "text/plain": [
       "count    42710197.000000\n",
       "mean            7.595301\n",
       "std           194.147559\n",
       "min             0.000000\n",
       "25%             0.000000\n",
       "50%             2.000000\n",
       "75%             5.000000\n",
       "max        488953.000000\n",
       "Name: number_comments, dtype: object"
      ]
     },
     "execution_count": 12,
     "metadata": {},
     "output_type": "execute_result"
    }
   ],
   "source": [
    "print(\"mode          \", comments.mode()[0])\n",
    "comments.describe().apply(lambda x: format(x, 'f'))"
   ]
  },
  {
   "cell_type": "markdown",
   "id": "31ed5e71",
   "metadata": {},
   "source": [
    "<i>Outliers</i>",
    "<br>\n",
    "As with the number of likes, in the output below we can clearly observe the <b>presence of outliers</b>. The quantile at percentile 0.99 shows that 99% of the total dataset posts(40,574.687) have received less than 77 comments. Applying the interquartile rule we find out that, as happens with the number of likes, around 10% of the data are outliers:\n",
    "* IQR * 1.5 + Q3 = (5-0) * 1.5 + 5  = 12.5 <br>\n",
    "* Percentile 90 = 13 <br>\n",
    "* Therefore, around 10% of the right tail of the distribution can be consider outliers"
   ]
  },
  {
   "cell_type": "code",
   "execution_count": 5,
   "id": "0ab33b8b",
   "metadata": {},
   "outputs": [
    {
     "name": "stdout",
     "output_type": "stream",
     "text": [
      "Percentile       Quantile\n",
      "0.500000         2.000000\n",
      "0.900000        13.000000\n",
      "0.950000        23.000000\n",
      "0.990000        77.000000\n",
      "0.999000       462.000000\n",
      "0.999900      2859.980400\n",
      "0.999999     73893.938977\n",
      "1.000000    488953.000000\n",
      "Name: number_comments, dtype: object\n"
     ]
    },
    {
     "data": {
      "image/png": "[encoded data removed]",
      "text/plain": [
       "<Figure size 432x288 with 1 Axes>"
      ]
     },
     "metadata": {
      "needs_background": "light"
     },
     "output_type": "display_data"
    }
   ],
   "source": [
    "print(\"Percentile       Quantile\")\n",
    "print(comments.quantile([.5, .90, .95 , .99 , .999 , .9999 , .999999 , 1]).apply(lambda x: format(x, 'f')))\n",
    "plt.boxplot(comments)\n",
    "plt.show()"
   ]
  },
  {
   "cell_type": "markdown",
   "id": "1723cf65",
   "metadata": {},
   "source": [
    "<i>Distribution of the Variable</i>",
    "<br>\n",
    "When ploting the distribution we observe it is very similar to the variable <i>number of likes</i> in terms of shape and skewness. "
   ]
  },
  {
   "cell_type": "code",
   "execution_count": 31,
   "id": "f9442658",
   "metadata": {},
   "outputs": [
    {
     "data": {
      "image/png": "[encoded data removed]",
      "text/plain": [
       "<Figure size 432x288 with 1 Axes>"
      ]
     },
     "metadata": {
      "needs_background": "light"
     },
     "output_type": "display_data"
    }
   ],
   "source": [
    "zoom_distro = comments[comments < 23]\n",
    "unique,counts = np.unique(df_instagram_posts_RQ1.number_comments, return_counts=True)\n",
    "try:\n",
    "    plt.hist(zoom_distro,  bins=23 ,normed=True, color = \"skyblue\")\n",
    "except AttributeError:\n",
    "    pass"
   ]
  },
  {
   "cell_type": "markdown",
   "id": "39c86e71",
   "metadata": {},
   "source": [
    "### Categorical Variables"
   ]
  },
  {
   "cell_type": "markdown",
   "id": "3867c6dd",
   "metadata": {},
   "source": [
    "<b>POST TYPES</b> <br>\n",
    "<i>Summary Statistics</i><br>",
    "This is a categorical variable which indicates the kind of post a user has published (1: photo, 2: video, 3: mixed). The mean is very close to 1, which means that photos are the most common type of post. In fact, at least 75% of the users choosed pictures as post type."
   ]
  },
  {
   "cell_type": "code",
   "execution_count": 21,
   "id": "064b4ee3",
   "metadata": {},
   "outputs": [
    {
     "data": {
      "text/plain": [
       "count    42710197.000000\n",
       "mean            1.028486\n",
       "std             0.172023\n",
       "min             1.000000\n",
       "25%             1.000000\n",
       "50%             1.000000\n",
       "75%             1.000000\n",
       "max             3.000000\n",
       "Name: post_type, dtype: object"
      ]
     },
     "execution_count": 21,
     "metadata": {},
     "output_type": "execute_result"
    }
   ],
   "source": [
    "post_type.describe().apply(lambda x: format(x, 'f'))"
   ]
  },
  {
   "cell_type": "markdown",
   "id": "392e2939",
   "metadata": {},
   "source": [
    "<i>Distribution of the Variable</i><br>",
    "When plotting the distribution of the variable, we can observe that near to 40 million posts are photos, and videos and mixed content (together) represent about 3% of the total posts."
   ]
  },
  {
   "cell_type": "code",
   "execution_count": 22,
   "id": "95cf8085",
   "metadata": {},
   "outputs": [
    {
     "name": "stdout",
     "output_type": "stream",
     "text": [
      "Photos represent 0.972 % of the dataset.\n",
      "Videos represent 0.027 % of the dataset.\n",
      "Mixed content represent 0.001 % of the dataset.\n"
     ]
    },
    {
     "data": {
      "image/png": "[encoded data removed]",
      "text/plain": [
       "<Figure size 432x288 with 1 Axes>"
      ]
     },
     "metadata": {
      "needs_background": "light"
     },
     "output_type": "display_data"
    }
   ],
   "source": [
    "post,count = np.unique(post_type.values, return_counts=True)\n",
    "postype = [\"Photos\",\"Videos\",\"Mixed content\"]\n",
    "plt.bar(postype,count)\n",
    "perc = count/42710197\n",
    "[print(postype[i], \"represent\" , round(perc[i],3), \"% of the dataset.\") for i in range(len(perc))][0]"
   ]
  },
  {
   "cell_type": "markdown",
   "id": "d052c81b",
   "metadata": {},
   "source": [
    "### Dates"
   ]
  },
  {
   "cell_type": "markdown",
   "id": "15eada98",
   "metadata": {},
   "source": [
    "##### <b>CTS</b>"
   ]
  },
  {
   "cell_type": "markdown",
   "id": "682d0877",
   "metadata": {},
   "source": [
    "<i>Summary Statistics</i>",
    "<br>\n",
    "'cts' is a variable that indicates the date and time a certain post was posted on Instagram. By looking at the table below we can see that the first post in our dataset was uploaded on 2010-07-19 at 01:12:23 while the last one was posted the day 2019-08-30 at 11:36:08.\n",
    "We also observe that the time when most posts were posted in the same second has been the day 2019-05-29 at 23:41:46, when 29 posts were posted in the same moment."
   ]
  },
  {
   "cell_type": "code",
   "execution_count": 32,
   "id": "bac156ef",
   "metadata": {},
   "outputs": [
    {
     "data": {
      "text/plain": [
       "count                42706865\n",
       "unique               24181497\n",
       "top       2019-05-29 23:41:46\n",
       "freq                       29\n",
       "first     2010-07-19 01:12:23\n",
       "last      2019-08-30 11:36:08\n",
       "Name: cts, dtype: object"
      ]
     },
     "execution_count": 32,
     "metadata": {},
     "output_type": "execute_result"
    }
   ],
   "source": [
    "date.describe()"
   ]
  },
  {
   "cell_type": "markdown",
   "id": "aa5e3ecf",
   "metadata": {},
   "source": [
    "In the following table we observe that, starting from 2010 with a minimum of 98 posts, every following year the number of post uploaded on instagram increased, reaching a maximum of 30215310 posts uploaded in 2019."
   ]
  },
  {
   "cell_type": "code",
   "execution_count": 52,
   "id": "711d2983",
   "metadata": {},
   "outputs": [
    {
     "data": {
      "text/plain": [
       "2019.0    30215310\n",
       "2018.0     8403250\n",
       "2017.0     2505120\n",
       "2016.0      986633\n",
       "2015.0      383953\n",
       "2014.0      142552\n",
       "2013.0       51962\n",
       "2012.0       16810\n",
       "2011.0        1177\n",
       "2010.0          98\n",
       "Name: cts, dtype: int64"
      ]
     },
     "execution_count": 52,
     "metadata": {},
     "output_type": "execute_result"
    }
   ],
   "source": [
    "date.dt.year.value_counts()"
   ]
  },
  {
   "cell_type": "markdown",
   "id": "43ed47d5",
   "metadata": {},
   "source": [
    "<i>Distribution of the Variable</i>",
    "<br>\n",
    "We plot below the distribution of the posts' years, and we notice its exponential growth, most likely due to the highly increasing relevance that this social network has been acquiring during the last years. Although maybe the reason is just that the data collection method was more focused on 2019 posts."
   ]
  },
  {
   "cell_type": "code",
   "execution_count": 73,
   "id": "e7f76f7e",
   "metadata": {},
   "outputs": [
    {
     "data": {
      "text/plain": [
       "<BarContainer object of 10 artists>"
      ]
     },
     "execution_count": 73,
     "metadata": {},
     "output_type": "execute_result"
    },
    {
     "data": {
      "image/png": "[encoded data removed]",
      "text/plain": [
       "<Figure size 432x288 with 1 Axes>"
      ]
     },
     "metadata": {
      "needs_background": "light"
     },
     "output_type": "display_data"
    }
   ],
   "source": [
    "posts=list(date.dt.year.value_counts())\n",
    "years=[int(i) for i in range(2019,2009,-1)]\n",
    "fig = plt.figure()\n",
    "ax = fig.add_axes([0,0,1,1])\n",
    "plt.bar(years,posts,color='skyblue')"
   ]
  },
  {
   "cell_type": "markdown",
   "id": "6303534d",
   "metadata": {},
   "source": [
    "### Correlation"
   ]
  },
  {
   "cell_type": "markdown",
   "id": "b8f11f8c",
   "metadata": {},
   "source": [
    "When plotting the numerical and categorical variables in a correlation matrix we don't observe any clear relation between the variables."
   ]
  },
  {
   "cell_type": "code",
   "execution_count": 28,
   "id": "08ae72b4",
   "metadata": {},
   "outputs": [
    {
     "data": {
      "text/html": [
       "<div>\n",
       "<style scoped>\n",
       "    .dataframe tbody tr th:only-of-type {\n",
       "        vertical-align: middle;\n",
       "    }\n",
       "\n",
       "    .dataframe tbody tr th {\n",
       "        vertical-align: top;\n",
       "    }\n",
       "\n",
       "    .dataframe thead th {\n",
       "        text-align: right;\n",
       "    }\n",
       "</style>\n",
       "<table border=\"1\" class=\"dataframe\">\n",
       "  <thead>\n",
       "    <tr style=\"text-align: right;\">\n",
       "      <th></th>\n",
       "      <th>post_type</th>\n",
       "      <th>numbr_likes</th>\n",
       "      <th>number_comments</th>\n",
       "    </tr>\n",
       "  </thead>\n",
       "  <tbody>\n",
       "    <tr>\n",
       "      <th>post_type</th>\n",
       "      <td>1.000000</td>\n",
       "      <td>0.002544</td>\n",
       "      <td>0.002800</td>\n",
       "    </tr>\n",
       "    <tr>\n",
       "      <th>numbr_likes</th>\n",
       "      <td>0.002544</td>\n",
       "      <td>1.000000</td>\n",
       "      <td>0.374453</td>\n",
       "    </tr>\n",
       "    <tr>\n",
       "      <th>number_comments</th>\n",
       "      <td>0.002800</td>\n",
       "      <td>0.374453</td>\n",
       "      <td>1.000000</td>\n",
       "    </tr>\n",
       "  </tbody>\n",
       "</table>\n",
       "</div>"
      ],
      "text/plain": [
       "                 post_type  numbr_likes  number_comments\n",
       "post_type         1.000000     0.002544         0.002800\n",
       "numbr_likes       0.002544     1.000000         0.374453\n",
       "number_comments   0.002800     0.374453         1.000000"
      ]
     },
     "execution_count": 28,
     "metadata": {},
     "output_type": "execute_result"
    }
   ],
   "source": [
    "df_instagram_posts_RQ1.corr()"
   ]
  },
  
  {
   "cell_type": "markdown",
   "id": "59f301f2",
   "metadata": {},
   "source": [
    "<h3 style=\"font-size: 22px; color: #00009B\"> RQ1.2 EDA on instagram_profiles.csv</h3>"
   ]
  },
  
  {
   "cell_type": "code",
   "execution_count": 32,
   "id": "6d5e8a09-a1b5-41c8-9441-605b8d14302f",
   "metadata": {},
   "outputs": [],
   "source": [
    "#Import the dataset df_instagram_profiles.csv\n",
    "df_instagram_profiles_RQ1 = pd.read_csv(\"~/instagram_profiles.csv\", delimiter = \"\\t\")"
   ]
  },
  {
   "cell_type": "markdown",
   "id": "ddfe1039-4003-4d51-972d-5e57583968a1",
   "metadata": {
    "tags": []
   },
   "source": [
    "#### Dataset `df_instagram_profiles` description\n",
    "\n",
    "  * `sid`: sequence id `(float)`\n",
    "  * `profile_id`: instagram orofile id `(float)`\n",
    "  * `profile_name`: instagram profile name `(string)`\n",
    "  * `firstname_lastname`: user's firstname and lastname `(string)`\n",
    "  * `description`: user's instagram profile description `(string)`\n",
    "  * `following`: number of following at the moment it was visited `(float)`\n",
    "  * `followers`: number of followers at the moment it was visited `(float)`\n",
    "  * `n_posts`: number of posts at the moment it was visited `(float)`\n",
    "  * `url`: url `(string)`\n",
    "  * `cts`: Timestamp when the profile was visited `(object)`\n",
    "  * `is_business_account`: Boolean variable that indicates whether that profile was makred by the owner as business account or not `{False, True}`"
   ]
  },
  {
   "cell_type": "markdown",
   "id": "4582b748-da87-4819-8eb7-371793dc04da",
   "metadata": {},
   "source": [
    "### Numerical variables"
   ]
  },
  {
   "cell_type": "code",
   "execution_count": 17,
   "id": "aee313d8-bdf2-4da6-a01b-0005bd14c959",
   "metadata": {},
   "outputs": [
    {
     "data": {
      "text/html": [
       "<div>\n",
       "<style scoped>\n",
       "    .dataframe tbody tr th:only-of-type {\n",
       "        vertical-align: middle;\n",
       "    }\n",
       "\n",
       "    .dataframe tbody tr th {\n",
       "        vertical-align: top;\n",
       "    }\n",
       "\n",
       "    .dataframe thead th {\n",
       "        text-align: right;\n",
       "    }\n",
       "</style>\n",
       "<table border=\"1\" class=\"dataframe\">\n",
       "  <thead>\n",
       "    <tr style=\"text-align: right;\">\n",
       "      <th></th>\n",
       "      <th>following</th>\n",
       "      <th>followers</th>\n",
       "      <th>n_posts</th>\n",
       "    </tr>\n",
       "  </thead>\n",
       "  <tbody>\n",
       "    <tr>\n",
       "      <th>count</th>\n",
       "      <td>3452771</td>\n",
       "      <td>3452771</td>\n",
       "      <td>3452771</td>\n",
       "    </tr>\n",
       "    <tr>\n",
       "      <th>mean</th>\n",
       "      <td>1406</td>\n",
       "      <td>4740</td>\n",
       "      <td>410</td>\n",
       "    </tr>\n",
       "    <tr>\n",
       "      <th>std</th>\n",
       "      <td>8113</td>\n",
       "      <td>193909</td>\n",
       "      <td>1042</td>\n",
       "    </tr>\n",
       "    <tr>\n",
       "      <th>min</th>\n",
       "      <td>0</td>\n",
       "      <td>0</td>\n",
       "      <td>0</td>\n",
       "    </tr>\n",
       "    <tr>\n",
       "      <th>25%</th>\n",
       "      <td>356</td>\n",
       "      <td>159</td>\n",
       "      <td>22</td>\n",
       "    </tr>\n",
       "    <tr>\n",
       "      <th>50%</th>\n",
       "      <td>754</td>\n",
       "      <td>406</td>\n",
       "      <td>120</td>\n",
       "    </tr>\n",
       "    <tr>\n",
       "      <th>75%</th>\n",
       "      <td>1573</td>\n",
       "      <td>974</td>\n",
       "      <td>420</td>\n",
       "    </tr>\n",
       "    <tr>\n",
       "      <th>max</th>\n",
       "      <td>4191080</td>\n",
       "      <td>285457645</td>\n",
       "      <td>183730</td>\n",
       "    </tr>\n",
       "  </tbody>\n",
       "</table>\n",
       "</div>"
      ],
      "text/plain": [
       "      following  followers  n_posts\n",
       "count   3452771    3452771  3452771\n",
       "mean       1406       4740      410\n",
       "std        8113     193909     1042\n",
       "min           0          0        0\n",
       "25%         356        159       22\n",
       "50%         754        406      120\n",
       "75%        1573        974      420\n",
       "max     4191080  285457645   183730"
      ]
     },
     "execution_count": 17,
     "metadata": {},
     "output_type": "execute_result"
    }
   ],
   "source": [
    "df_instagram_profiles_RQ1['sid'] = df_instagram_profiles_RQ1['sid'].astype(str)\n",
    "df_instagram_profiles_RQ1['profile_id'] = df_instagram_profiles_RQ1['profile_id'].astype(str)\n",
    "df_instagram_profiles_RQ1 = df_instagram_profiles_RQ1.astype({'following': 'int', 'followers': 'int', 'n_posts': 'int'}, errors = 'ignore')\n",
    "df_instagram_profiles_RQ1.describe().apply(lambda s: s.apply('{0:.0f}'.format))"
   ]
  },
  {
   "cell_type": "markdown",
   "id": "80c0bfa5-72b3-41d6-b618-faa89eb929c7",
   "metadata": {},
   "source": [
    "In order to visualize the distribution of the variables, we have defined the function `Hist(df_var, xlabel, title, col, n_bins, log_trans = False)` which returns an histogram of that specific variable `df_var`.<br>\n",
    "Note: We apply the **log-transformation** when the data is strongly skewed."
   ]
  },
  {
   "cell_type": "code",
   "execution_count": 4,
   "id": "4408b72b-260e-4bc1-9e63-6def45e49fbf",
   "metadata": {},
   "outputs": [],
   "source": [
    "def hist(df_var, xlabel, title, col, n_bins, log_trans = False):\n",
    "    df_var.plot(kind = 'hist', color = col, bins = n_bins, logy = log_trans, ec = 'black')\n",
    "    plt.xlabel(xlabel, labelpad = 14)\n",
    "    plt.ylabel(\"Count\", labelpad = 14)\n",
    "    plt.title(title, y = 1.05)"
   ]
  },
  {
   "cell_type": "markdown",
   "id": "b8184580-4849-4e0a-b09e-02d7751454f5",
   "metadata": {},
   "source": [
    "<b>1. FOLLOWERS</b> <br>\n",
    "<i>Distribution of the variable</i>"
   ]
  },
  {
   "cell_type": "code",
   "execution_count": 14,
   "id": "1373206e-574c-44a7-9230-69d0742af261",
   "metadata": {
    "scrolled": false
   },
   "outputs": [
    {
     "data": {
      "image/png": "[encoded data removed]",
      "text/plain": [
       "<Figure size 432x288 with 1 Axes>"
      ]
     },
     "metadata": {
      "needs_background": "light"
     },
     "output_type": "display_data"
    }
   ],
   "source": [
    "hist(df_instagram_profiles_RQ1['followers'], \"followers\", \"Count of followers\", col = \"red\", n_bins = 30, log_trans = True)"
   ]
  },
  {
   "cell_type": "markdown",
   "id": "50969988-c5fe-4316-853f-2a514a213e0f",
   "metadata": {},
   "source": [
    "In the histogram below we can observe the distribution of the variable when it takes values less than ten thousand (`Followers < 10,000`) which is the interval where lays most of the mass of the distribution."
   ]
  },
  {
   "cell_type": "code",
   "execution_count": 15,
   "id": "70f8268d-6588-447c-8600-54a5b461938b",
   "metadata": {},
   "outputs": [
    {
     "data": {
      "image/png": "[encoded data removed]",
      "text/plain": [
       "<Figure size 432x288 with 1 Axes>"
      ]
     },
     "metadata": {
      "needs_background": "light"
     },
     "output_type": "display_data"
    }
   ],
   "source": [
    "hist(df_instagram_profiles_RQ1.followers[df_instagram_profiles['followers'] < 100000], \"followers\", \"Count of followers\", col = \"skyblue\", n_bins = 30, log_trans = True)"
   ]
  },
  {
   "cell_type": "markdown",
   "id": "aee9579c-a319-4f24-b575-db3df268742d",
   "metadata": {},
   "source": [
    "<b>2. FOLLOWING</b> <br>"
   ]
  },
  {
   "cell_type": "code",
   "execution_count": 47,
   "id": "9e13f6b7-900d-4586-a601-55e26be9eb1c",
   "metadata": {},
   "outputs": [
    {
     "data": {
      "image/png": "[encoded data removed]",
      "text/plain": [
       "<Figure size 432x288 with 1 Axes>"
      ]
     },
     "metadata": {
      "needs_background": "light"
     },
     "output_type": "display_data"
    }
   ],
   "source": [
    "hist(df_instagram_profiles_RQ1['following'], \"following\", \"Count of following\", col = \"orange\", n_bins = 30, log_trans = True)"
   ]
  },
  {
   "cell_type": "markdown",
   "id": "64d37bc3-8122-4a41-99be-a355754cd598",
   "metadata": {},
   "source": [
    "<b>3. NUMBER OF POSTS</b> <br>"
   ]
  },
  {
   "cell_type": "code",
   "execution_count": 48,
   "id": "5ca05e6a-d082-4c7e-8a6f-938d1d2202d6",
   "metadata": {},
   "outputs": [
    {
     "data": {
      "image/png": "[encoded data removed]",
      "text/plain": [
       "<Figure size 432x288 with 1 Axes>"
      ]
     },
     "metadata": {
      "needs_background": "light"
     },
     "output_type": "display_data"
    }
   ],
   "source": [
    "hist(df_instagram_profiles_RQ1['n_posts'], \"n_posts\", \"Count of the number of posts\", col = \"blue\", n_bins = 30, log_trans = True)"
   ]
  },
  {
   "cell_type": "markdown",
   "id": "ef2b4d0a",
   "metadata": {},
   "source": [
    "### Categorical variables"
   ]
  },
  {
   "cell_type": "markdown",
   "id": "36345800",
   "metadata": {},
   "source": [
    "By observing the \"top\" row in the summary below, we learn that the most common name in the dataset is Sarah, or that the most used term in the descriptions is the emoji \"🖤\"."
   ]
  },
  {
   "cell_type": "code",
   "execution_count": 25,
   "id": "6992d9f0-ec7d-4321-9f60-a4ff9cd3385c",
   "metadata": {},
   "outputs": [
    {
     "data": {
      "text/html": [
       "<div>\n",
       "<style scoped>\n",
       "    .dataframe tbody tr th:only-of-type {\n",
       "        vertical-align: middle;\n",
       "    }\n",
       "\n",
       "    .dataframe tbody tr th {\n",
       "        vertical-align: top;\n",
       "    }\n",
       "\n",
       "    .dataframe thead th {\n",
       "        text-align: right;\n",
       "    }\n",
       "</style>\n",
       "<table border=\"1\" class=\"dataframe\">\n",
       "  <thead>\n",
       "    <tr style=\"text-align: right;\">\n",
       "      <th></th>\n",
       "      <th>sid</th>\n",
       "      <th>profile_id</th>\n",
       "      <th>profile_name</th>\n",
       "      <th>firstname_lastname</th>\n",
       "      <th>description</th>\n",
       "      <th>following</th>\n",
       "      <th>followers</th>\n",
       "      <th>n_posts</th>\n",
       "      <th>url</th>\n",
       "      <th>cts</th>\n",
       "      <th>is_business_account</th>\n",
       "    </tr>\n",
       "  </thead>\n",
       "  <tbody>\n",
       "    <tr>\n",
       "      <th>count</th>\n",
       "      <td>4.509586e+06</td>\n",
       "      <td>4.477139e+06</td>\n",
       "      <td>4509586</td>\n",
       "      <td>4221121</td>\n",
       "      <td>2453590</td>\n",
       "      <td>3.452771e+06</td>\n",
       "      <td>3.452771e+06</td>\n",
       "      <td>3.452771e+06</td>\n",
       "      <td>870274</td>\n",
       "      <td>4071098</td>\n",
       "      <td>3445323</td>\n",
       "    </tr>\n",
       "    <tr>\n",
       "      <th>unique</th>\n",
       "      <td>NaN</td>\n",
       "      <td>NaN</td>\n",
       "      <td>4508180</td>\n",
       "      <td>3526944</td>\n",
       "      <td>2376474</td>\n",
       "      <td>NaN</td>\n",
       "      <td>NaN</td>\n",
       "      <td>NaN</td>\n",
       "      <td>841652</td>\n",
       "      <td>4062921</td>\n",
       "      <td>2</td>\n",
       "    </tr>\n",
       "    <tr>\n",
       "      <th>top</th>\n",
       "      <td>NaN</td>\n",
       "      <td>NaN</td>\n",
       "      <td>chkanyc</td>\n",
       "      <td>Sarah</td>\n",
       "      <td>🖤</td>\n",
       "      <td>NaN</td>\n",
       "      <td>NaN</td>\n",
       "      <td>NaN</td>\n",
       "      <td>gmail.com</td>\n",
       "      <td>2019-07-01 02:26:35.268 -0400</td>\n",
       "      <td>False</td>\n",
       "    </tr>\n",
       "    <tr>\n",
       "      <th>freq</th>\n",
       "      <td>NaN</td>\n",
       "      <td>NaN</td>\n",
       "      <td>4</td>\n",
       "      <td>2340</td>\n",
       "      <td>868</td>\n",
       "      <td>NaN</td>\n",
       "      <td>NaN</td>\n",
       "      <td>NaN</td>\n",
       "      <td>3437</td>\n",
       "      <td>6</td>\n",
       "      <td>2590069</td>\n",
       "    </tr>\n",
       "    <tr>\n",
       "      <th>mean</th>\n",
       "      <td>2.255992e+06</td>\n",
       "      <td>3.083302e+09</td>\n",
       "      <td>NaN</td>\n",
       "      <td>NaN</td>\n",
       "      <td>NaN</td>\n",
       "      <td>1.405641e+03</td>\n",
       "      <td>4.739899e+03</td>\n",
       "      <td>4.095414e+02</td>\n",
       "      <td>NaN</td>\n",
       "      <td>NaN</td>\n",
       "      <td>NaN</td>\n",
       "    </tr>\n",
       "    <tr>\n",
       "      <th>std</th>\n",
       "      <td>1.301807e+06</td>\n",
       "      <td>4.266575e+10</td>\n",
       "      <td>NaN</td>\n",
       "      <td>NaN</td>\n",
       "      <td>NaN</td>\n",
       "      <td>8.113473e+03</td>\n",
       "      <td>1.939087e+05</td>\n",
       "      <td>1.041940e+03</td>\n",
       "      <td>NaN</td>\n",
       "      <td>NaN</td>\n",
       "      <td>NaN</td>\n",
       "    </tr>\n",
       "    <tr>\n",
       "      <th>min</th>\n",
       "      <td>1.186000e+03</td>\n",
       "      <td>4.000000e+00</td>\n",
       "      <td>NaN</td>\n",
       "      <td>NaN</td>\n",
       "      <td>NaN</td>\n",
       "      <td>0.000000e+00</td>\n",
       "      <td>0.000000e+00</td>\n",
       "      <td>0.000000e+00</td>\n",
       "      <td>NaN</td>\n",
       "      <td>NaN</td>\n",
       "      <td>NaN</td>\n",
       "    </tr>\n",
       "    <tr>\n",
       "      <th>25%</th>\n",
       "      <td>1.128596e+06</td>\n",
       "      <td>2.735177e+08</td>\n",
       "      <td>NaN</td>\n",
       "      <td>NaN</td>\n",
       "      <td>NaN</td>\n",
       "      <td>3.560000e+02</td>\n",
       "      <td>1.590000e+02</td>\n",
       "      <td>2.200000e+01</td>\n",
       "      <td>NaN</td>\n",
       "      <td>NaN</td>\n",
       "      <td>NaN</td>\n",
       "    </tr>\n",
       "    <tr>\n",
       "      <th>50%</th>\n",
       "      <td>2.255992e+06</td>\n",
       "      <td>1.649248e+09</td>\n",
       "      <td>NaN</td>\n",
       "      <td>NaN</td>\n",
       "      <td>NaN</td>\n",
       "      <td>7.540000e+02</td>\n",
       "      <td>4.060000e+02</td>\n",
       "      <td>1.200000e+02</td>\n",
       "      <td>NaN</td>\n",
       "      <td>NaN</td>\n",
       "      <td>NaN</td>\n",
       "    </tr>\n",
       "    <tr>\n",
       "      <th>75%</th>\n",
       "      <td>3.383389e+06</td>\n",
       "      <td>5.514691e+09</td>\n",
       "      <td>NaN</td>\n",
       "      <td>NaN</td>\n",
       "      <td>NaN</td>\n",
       "      <td>1.573000e+03</td>\n",
       "      <td>9.740000e+02</td>\n",
       "      <td>4.200000e+02</td>\n",
       "      <td>NaN</td>\n",
       "      <td>NaN</td>\n",
       "      <td>NaN</td>\n",
       "    </tr>\n",
       "    <tr>\n",
       "      <th>max</th>\n",
       "      <td>4.510785e+06</td>\n",
       "      <td>9.001013e+13</td>\n",
       "      <td>NaN</td>\n",
       "      <td>NaN</td>\n",
       "      <td>NaN</td>\n",
       "      <td>4.191080e+06</td>\n",
       "      <td>2.854576e+08</td>\n",
       "      <td>1.837300e+05</td>\n",
       "      <td>NaN</td>\n",
       "      <td>NaN</td>\n",
       "      <td>NaN</td>\n",
       "    </tr>\n",
       "  </tbody>\n",
       "</table>\n",
       "</div>"
      ],
      "text/plain": [
       "                 sid    profile_id profile_name firstname_lastname  \\\n",
       "count   4.509586e+06  4.477139e+06      4509586            4221121   \n",
       "unique           NaN           NaN      4508180            3526944   \n",
       "top              NaN           NaN      chkanyc              Sarah   \n",
       "freq             NaN           NaN            4               2340   \n",
       "mean    2.255992e+06  3.083302e+09          NaN                NaN   \n",
       "std     1.301807e+06  4.266575e+10          NaN                NaN   \n",
       "min     1.186000e+03  4.000000e+00          NaN                NaN   \n",
       "25%     1.128596e+06  2.735177e+08          NaN                NaN   \n",
       "50%     2.255992e+06  1.649248e+09          NaN                NaN   \n",
       "75%     3.383389e+06  5.514691e+09          NaN                NaN   \n",
       "max     4.510785e+06  9.001013e+13          NaN                NaN   \n",
       "\n",
       "       description     following     followers       n_posts        url  \\\n",
       "count      2453590  3.452771e+06  3.452771e+06  3.452771e+06     870274   \n",
       "unique     2376474           NaN           NaN           NaN     841652   \n",
       "top              🖤           NaN           NaN           NaN  gmail.com   \n",
       "freq           868           NaN           NaN           NaN       3437   \n",
       "mean           NaN  1.405641e+03  4.739899e+03  4.095414e+02        NaN   \n",
       "std            NaN  8.113473e+03  1.939087e+05  1.041940e+03        NaN   \n",
       "min            NaN  0.000000e+00  0.000000e+00  0.000000e+00        NaN   \n",
       "25%            NaN  3.560000e+02  1.590000e+02  2.200000e+01        NaN   \n",
       "50%            NaN  7.540000e+02  4.060000e+02  1.200000e+02        NaN   \n",
       "75%            NaN  1.573000e+03  9.740000e+02  4.200000e+02        NaN   \n",
       "max            NaN  4.191080e+06  2.854576e+08  1.837300e+05        NaN   \n",
       "\n",
       "                                  cts is_business_account  \n",
       "count                         4071098             3445323  \n",
       "unique                        4062921                   2  \n",
       "top     2019-07-01 02:26:35.268 -0400               False  \n",
       "freq                                6             2590069  \n",
       "mean                              NaN                 NaN  \n",
       "std                               NaN                 NaN  \n",
       "min                               NaN                 NaN  \n",
       "25%                               NaN                 NaN  \n",
       "50%                               NaN                 NaN  \n",
       "75%                               NaN                 NaN  \n",
       "max                               NaN                 NaN  "
      ]
     },
     "execution_count": 25,
     "metadata": {},
     "output_type": "execute_result"
    }
   ],
   "source": [
    "df_instagram_profiles_RQ1.describe(include = 'all')"
   ]
  },
  {
   "cell_type": "markdown",
   "id": "f2dfdb04-b484-4f6b-b88b-b23fb3e7c4c7",
   "metadata": {},
   "source": [
    "In order to plot categorical variables, let's define the function `bar_binary(df_var, xlabel, title, col)` that returns the bar chart of the binary variable `df_var`."
   ]
  },
  {
   "cell_type": "code",
   "execution_count": 28,
   "id": "1b179f31-1cff-4b64-9cec-0249b7c82d9f",
   "metadata": {},
   "outputs": [],
   "source": [
    "def bar_binary(df_var, xlabel, title, col):\n",
    "    count = df_var.value_counts()\n",
    "    count.plot(kind = 'bar', color = col, ec = 'purple')\n",
    "    plt.xlabel(xlabel, labelpad = 14)\n",
    "    plt.ylabel(\"Count\", labelpad = 14)\n",
    "    plt.title(title, y = 1.05)"
   ]
  },
  {
   "cell_type": "markdown",
   "id": "208acc54-6088-434e-9ba4-be5662455219",
   "metadata": {},
   "source": [
    "##### **IS_BUSINESS_ACCOUNT**"
   ]
  },
  {
   "cell_type": "markdown",
   "id": "816e73c4",
   "metadata": {},
   "source": [
    "The main categorical variable in the dataset is <i>is_business_account</i> which takes boolean values. As we observe in the graph below, close to 75% of the accounts are personal, while 25% are business accounts."
   ]
  },
  {
   "cell_type": "code",
   "execution_count": 29,
   "id": "427a3d0d-21e7-49d2-b750-8e80cec5cb74",
   "metadata": {},
   "outputs": [
    {
     "data": {
      "image/png": "[encoded data removed]",
      "text/plain": [
       "<Figure size 432x288 with 1 Axes>"
      ]
     },
     "metadata": {
      "needs_background": "light"
     },
     "output_type": "display_data"
    }
   ],
   "source": [
    "bar_binary(df_instagram_profiles_RQ1['is_business_account'], \"is_business_account\", \"Count of the number of business accounts\", \"purple\")"
   ]
  },
  {
   "cell_type": "markdown",
   "id": "7e446aec",
   "metadata": {},
   "source": [
    "<h3 style=\"font-size: 22px; color: #00009B\"> RQ1.3 EDA on locations.csv</h3>"
   ]
  },
  {
   "cell_type": "code",
   "execution_count": 30,
   "id": "f5407029-cae8-4d9d-bb59-6a339a089227",
   "metadata": {},
   "outputs": [],
   "source": [
    "# import the dataset df_instagram_locations\n",
    "df_instagram_locations = pd.read_csv(\"~/instagram_locations.csv\", delimiter = \"\\t\")"
   ]
  },
  {
   "cell_type": "markdown",
   "id": "13ebd3a2-3648-47bb-b50e-bf588ebdaa2c",
   "metadata": {},
   "source": [
    "#### Dataset `df_instagram_locations` description\n",
    "\n",
    "* `sid`: sequence id `(string)`\n",
    "* `id`: location id `(string)`\n",
    "* `name`: location's name `(string)`\n",
    "* `street`: street `(string)`\n",
    "* `zip`: zip code `(string)`\n",
    "* `city`: city name `(string)`\n",
    "* `region`: region name `(string)`\n",
    "* `cd`: country code `(string)`\n",
    "* `phone`: phone in the same format as on Instagram `(string)`\n",
    "* `aj_exact_city_match`: Instagram's internal key `{False, True}`\n",
    "* `blurb`: description of the location `(string)`\n",
    "* `dir_city_id`: Instagram's internal city id `(string)`\n",
    "* `dir_city_slug`: city tag `(string)`\n",
    "* `dir_country_id`: country id `(string)`\n",
    "* `dir_country_name`: country name `(string)`\n",
    "* `lat`: latitude `(float)`\n",
    "* `lng`: longitute `(float)`\n",
    "* `primary_alias_on_fb`: Boolean flag\n",
    "* `website`: url to the website (it may contain more than one url)\n",
    "* `cts`: timestamp when the location was visited `(pd object)`"
   ]
  },
  {
   "cell_type": "markdown",
   "id": "7ff1ac60-6ee7-488b-b4fb-8eb068cadd30",
   "metadata": {},
   "source": [
    "### Numerical variables"
   ]
  },
  {
   "cell_type": "code",
   "execution_count": 31,
   "id": "81c6b739-d58a-403c-ab88-2f3391e17513",
   "metadata": {},
   "outputs": [
    {
     "data": {
      "text/html": [
       "<div>\n",
       "<style scoped>\n",
       "    .dataframe tbody tr th:only-of-type {\n",
       "        vertical-align: middle;\n",
       "    }\n",
       "\n",
       "    .dataframe tbody tr th {\n",
       "        vertical-align: top;\n",
       "    }\n",
       "\n",
       "    .dataframe thead th {\n",
       "        text-align: right;\n",
       "    }\n",
       "</style>\n",
       "<table border=\"1\" class=\"dataframe\">\n",
       "  <thead>\n",
       "    <tr style=\"text-align: right;\">\n",
       "      <th></th>\n",
       "      <th>lat</th>\n",
       "      <th>lng</th>\n",
       "    </tr>\n",
       "  </thead>\n",
       "  <tbody>\n",
       "    <tr>\n",
       "      <th>count</th>\n",
       "      <td>1016495.00000</td>\n",
       "      <td>1016495.00000</td>\n",
       "    </tr>\n",
       "    <tr>\n",
       "      <th>mean</th>\n",
       "      <td>-15.29215</td>\n",
       "      <td>34.21718</td>\n",
       "    </tr>\n",
       "    <tr>\n",
       "      <th>std</th>\n",
       "      <td>76.15085</td>\n",
       "      <td>22.01081</td>\n",
       "    </tr>\n",
       "    <tr>\n",
       "      <th>min</th>\n",
       "      <td>-179.98300</td>\n",
       "      <td>-90.00000</td>\n",
       "    </tr>\n",
       "    <tr>\n",
       "      <th>25%</th>\n",
       "      <td>-80.15575</td>\n",
       "      <td>29.97555</td>\n",
       "    </tr>\n",
       "    <tr>\n",
       "      <th>50%</th>\n",
       "      <td>-2.45000</td>\n",
       "      <td>40.67820</td>\n",
       "    </tr>\n",
       "    <tr>\n",
       "      <th>75%</th>\n",
       "      <td>30.71740</td>\n",
       "      <td>48.84722</td>\n",
       "    </tr>\n",
       "    <tr>\n",
       "      <th>max</th>\n",
       "      <td>179.99412</td>\n",
       "      <td>89.99870</td>\n",
       "    </tr>\n",
       "  </tbody>\n",
       "</table>\n",
       "</div>"
      ],
      "text/plain": [
       "                lat           lng\n",
       "count 1016495.00000 1016495.00000\n",
       "mean      -15.29215      34.21718\n",
       "std        76.15085      22.01081\n",
       "min      -179.98300     -90.00000\n",
       "25%       -80.15575      29.97555\n",
       "50%        -2.45000      40.67820\n",
       "75%        30.71740      48.84722\n",
       "max       179.99412      89.99870"
      ]
     },
     "execution_count": 31,
     "metadata": {},
     "output_type": "execute_result"
    }
   ],
   "source": [
    "pd.set_option('display.float_format', lambda x: '%.5f' % x)\n",
    "df_instagram_locations['sid'] = df_instagram_locations['sid'].astype(str)\n",
    "df_instagram_locations['id'] = df_instagram_locations['id'].astype(str)\n",
    "df_instagram_locations.describe()"
   ]
  },
  {
   "cell_type": "markdown",
   "id": "6c8abc80-94ec-4804-8be6-970471eb8a73",
   "metadata": {},
   "source": [
    "##### **Latitude**"
   ]
  },
  {
   "cell_type": "code",
   "execution_count": 49,
   "id": "d5b99e87-d85e-452c-aab0-026169a2165c",
   "metadata": {},
   "outputs": [
    {
     "data": {
      "image/png": "[encoded data removed]",
      "text/plain": [
       "<Figure size 432x288 with 1 Axes>"
      ]
     },
     "metadata": {
      "needs_background": "light"
     },
     "output_type": "display_data"
    }
   ],
   "source": [
    "hist(df_instagram_locations['lat'], \"latitude\", \"Latitude distribution\", \"red\", n_bins = 20)"
   ]
  },
  {
   "cell_type": "code",
   "execution_count": 51,
   "id": "b3f0f446-c1f3-4ff0-9b15-12eb02712133",
   "metadata": {},
   "outputs": [
    {
     "data": {
      "text/plain": [
       "37.6156"
      ]
     },
     "execution_count": 51,
     "metadata": {},
     "output_type": "execute_result"
    }
   ],
   "source": [
    "# most common latitude\n",
    "df_instagram_locations['lat'].value_counts().idxmax()"
   ]
  },
  {
   "cell_type": "markdown",
   "id": "4c7da6bc-6adf-4b4c-af13-48069703a375",
   "metadata": {},
   "source": [
    "##### **Longitude**"
   ]
  },
  {
   "cell_type": "code",
   "execution_count": 53,
   "id": "37810f3f-9374-4df2-a701-21800c093a7e",
   "metadata": {},
   "outputs": [
    {
     "data": {
      "image/png": "[encoded data removed]",
      "text/plain": [
       "<Figure size 432x288 with 1 Axes>"
      ]
     },
     "metadata": {
      "needs_background": "light"
     },
     "output_type": "display_data"
    }
   ],
   "source": [
    "hist(df_instagram_locations['lng'], \"longitude\", \"Longitude distribution\", \"blue\", n_bins = 25)"
   ]
  },
  {
   "cell_type": "code",
   "execution_count": 16,
   "id": "7b69e65c-da5d-4141-8357-2d25395d898a",
   "metadata": {},
   "outputs": [
    {
     "data": {
      "text/plain": [
       "55.7522"
      ]
     },
     "execution_count": 16,
     "metadata": {},
     "output_type": "execute_result"
    }
   ],
   "source": [
    "# most common longitude\n",
    "longitude.value_counts().idxmax()"
   ]
  },
  {
   "cell_type": "markdown",
   "id": "a8a35454-8003-4b43-afc4-9e206feeba86",
   "metadata": {},
   "source": [
    "### Categorical variables"
   ]
  },
  {
   "cell_type": "markdown",
   "id": "5821ca9d",
   "metadata": {},
   "source": [
    "By looking at the main summary statistics of the categorical variables we learn that the average instragram user posts from the neighbourhood of <b>Hell's Kitchen, in New York (Eastern Province, US)</b>, most likely from a <b>Starbucks</b> ."
   ]
  },
  {
   "cell_type": "code",
   "execution_count": 55,
   "id": "808d0fe3-5e07-449a-80e4-bb2434b96658",
   "metadata": {},
   "outputs": [
    {
     "data": {
      "text/html": [
       "<div>\n",
       "<style scoped>\n",
       "    .dataframe tbody tr th:only-of-type {\n",
       "        vertical-align: middle;\n",
       "    }\n",
       "\n",
       "    .dataframe tbody tr th {\n",
       "        vertical-align: top;\n",
       "    }\n",
       "\n",
       "    .dataframe thead th {\n",
       "        text-align: right;\n",
       "    }\n",
       "</style>\n",
       "<table border=\"1\" class=\"dataframe\">\n",
       "  <thead>\n",
       "    <tr style=\"text-align: right;\">\n",
       "      <th></th>\n",
       "      <th>sid</th>\n",
       "      <th>id</th>\n",
       "      <th>name</th>\n",
       "      <th>street</th>\n",
       "      <th>zip</th>\n",
       "      <th>city</th>\n",
       "      <th>region</th>\n",
       "      <th>cd</th>\n",
       "      <th>phone</th>\n",
       "      <th>aj_exact_city_match</th>\n",
       "      <th>...</th>\n",
       "      <th>dir_city_name</th>\n",
       "      <th>dir_city_slug</th>\n",
       "      <th>dir_country_id</th>\n",
       "      <th>dir_country_name</th>\n",
       "      <th>lat</th>\n",
       "      <th>lng</th>\n",
       "      <th>primary_alias_on_fb</th>\n",
       "      <th>slug</th>\n",
       "      <th>website</th>\n",
       "      <th>cts</th>\n",
       "    </tr>\n",
       "  </thead>\n",
       "  <tbody>\n",
       "    <tr>\n",
       "      <th>count</th>\n",
       "      <td>1022658</td>\n",
       "      <td>1022658</td>\n",
       "      <td>1022658</td>\n",
       "      <td>715704</td>\n",
       "      <td>715579</td>\n",
       "      <td>937166</td>\n",
       "      <td>1760</td>\n",
       "      <td>939010</td>\n",
       "      <td>601688</td>\n",
       "      <td>1000510</td>\n",
       "      <td>...</td>\n",
       "      <td>495698</td>\n",
       "      <td>495221</td>\n",
       "      <td>495628</td>\n",
       "      <td>495698</td>\n",
       "      <td>1016495.00000</td>\n",
       "      <td>1016495.00000</td>\n",
       "      <td>425531</td>\n",
       "      <td>941668</td>\n",
       "      <td>623262</td>\n",
       "      <td>1022658</td>\n",
       "    </tr>\n",
       "    <tr>\n",
       "      <th>unique</th>\n",
       "      <td>1022658</td>\n",
       "      <td>1022658</td>\n",
       "      <td>935776</td>\n",
       "      <td>656262</td>\n",
       "      <td>181474</td>\n",
       "      <td>118541</td>\n",
       "      <td>1743</td>\n",
       "      <td>245</td>\n",
       "      <td>577305</td>\n",
       "      <td>2</td>\n",
       "      <td>...</td>\n",
       "      <td>114996</td>\n",
       "      <td>114426</td>\n",
       "      <td>234</td>\n",
       "      <td>235</td>\n",
       "      <td>NaN</td>\n",
       "      <td>NaN</td>\n",
       "      <td>425486</td>\n",
       "      <td>833398</td>\n",
       "      <td>583671</td>\n",
       "      <td>1022298</td>\n",
       "    </tr>\n",
       "    <tr>\n",
       "      <th>top</th>\n",
       "      <td>719981</td>\n",
       "      <td>110296492939207</td>\n",
       "      <td>Starbucks</td>\n",
       "      <td></td>\n",
       "      <td>10001</td>\n",
       "      <td>New York, New York</td>\n",
       "      <td>Eastern Province</td>\n",
       "      <td>US</td>\n",
       "      <td>+44 345 748 4950</td>\n",
       "      <td>False</td>\n",
       "      <td>...</td>\n",
       "      <td>Hells Kitchen, Manhattan</td>\n",
       "      <td>hells-kitchen-manhattan</td>\n",
       "      <td>US</td>\n",
       "      <td>United States</td>\n",
       "      <td>NaN</td>\n",
       "      <td>NaN</td>\n",
       "      <td>pandpnewcastle</td>\n",
       "      <td>-</td>\n",
       "      <td>http://www.starbucks.com/</td>\n",
       "      <td>2019-05-25 23:54:48.969</td>\n",
       "    </tr>\n",
       "    <tr>\n",
       "      <th>freq</th>\n",
       "      <td>1</td>\n",
       "      <td>1</td>\n",
       "      <td>1097</td>\n",
       "      <td>1652</td>\n",
       "      <td>1649</td>\n",
       "      <td>29954</td>\n",
       "      <td>4</td>\n",
       "      <td>331424</td>\n",
       "      <td>178</td>\n",
       "      <td>907651</td>\n",
       "      <td>...</td>\n",
       "      <td>1326</td>\n",
       "      <td>1326</td>\n",
       "      <td>170983</td>\n",
       "      <td>170983</td>\n",
       "      <td>NaN</td>\n",
       "      <td>NaN</td>\n",
       "      <td>2</td>\n",
       "      <td>6588</td>\n",
       "      <td>297</td>\n",
       "      <td>2</td>\n",
       "    </tr>\n",
       "    <tr>\n",
       "      <th>mean</th>\n",
       "      <td>NaN</td>\n",
       "      <td>NaN</td>\n",
       "      <td>NaN</td>\n",
       "      <td>NaN</td>\n",
       "      <td>NaN</td>\n",
       "      <td>NaN</td>\n",
       "      <td>NaN</td>\n",
       "      <td>NaN</td>\n",
       "      <td>NaN</td>\n",
       "      <td>NaN</td>\n",
       "      <td>...</td>\n",
       "      <td>NaN</td>\n",
       "      <td>NaN</td>\n",
       "      <td>NaN</td>\n",
       "      <td>NaN</td>\n",
       "      <td>-15.29215</td>\n",
       "      <td>34.21718</td>\n",
       "      <td>NaN</td>\n",
       "      <td>NaN</td>\n",
       "      <td>NaN</td>\n",
       "      <td>NaN</td>\n",
       "    </tr>\n",
       "    <tr>\n",
       "      <th>std</th>\n",
       "      <td>NaN</td>\n",
       "      <td>NaN</td>\n",
       "      <td>NaN</td>\n",
       "      <td>NaN</td>\n",
       "      <td>NaN</td>\n",
       "      <td>NaN</td>\n",
       "      <td>NaN</td>\n",
       "      <td>NaN</td>\n",
       "      <td>NaN</td>\n",
       "      <td>NaN</td>\n",
       "      <td>...</td>\n",
       "      <td>NaN</td>\n",
       "      <td>NaN</td>\n",
       "      <td>NaN</td>\n",
       "      <td>NaN</td>\n",
       "      <td>76.15085</td>\n",
       "      <td>22.01081</td>\n",
       "      <td>NaN</td>\n",
       "      <td>NaN</td>\n",
       "      <td>NaN</td>\n",
       "      <td>NaN</td>\n",
       "    </tr>\n",
       "    <tr>\n",
       "      <th>min</th>\n",
       "      <td>NaN</td>\n",
       "      <td>NaN</td>\n",
       "      <td>NaN</td>\n",
       "      <td>NaN</td>\n",
       "      <td>NaN</td>\n",
       "      <td>NaN</td>\n",
       "      <td>NaN</td>\n",
       "      <td>NaN</td>\n",
       "      <td>NaN</td>\n",
       "      <td>NaN</td>\n",
       "      <td>...</td>\n",
       "      <td>NaN</td>\n",
       "      <td>NaN</td>\n",
       "      <td>NaN</td>\n",
       "      <td>NaN</td>\n",
       "      <td>-179.98300</td>\n",
       "      <td>-90.00000</td>\n",
       "      <td>NaN</td>\n",
       "      <td>NaN</td>\n",
       "      <td>NaN</td>\n",
       "      <td>NaN</td>\n",
       "    </tr>\n",
       "    <tr>\n",
       "      <th>25%</th>\n",
       "      <td>NaN</td>\n",
       "      <td>NaN</td>\n",
       "      <td>NaN</td>\n",
       "      <td>NaN</td>\n",
       "      <td>NaN</td>\n",
       "      <td>NaN</td>\n",
       "      <td>NaN</td>\n",
       "      <td>NaN</td>\n",
       "      <td>NaN</td>\n",
       "      <td>NaN</td>\n",
       "      <td>...</td>\n",
       "      <td>NaN</td>\n",
       "      <td>NaN</td>\n",
       "      <td>NaN</td>\n",
       "      <td>NaN</td>\n",
       "      <td>-80.15575</td>\n",
       "      <td>29.97555</td>\n",
       "      <td>NaN</td>\n",
       "      <td>NaN</td>\n",
       "      <td>NaN</td>\n",
       "      <td>NaN</td>\n",
       "    </tr>\n",
       "    <tr>\n",
       "      <th>50%</th>\n",
       "      <td>NaN</td>\n",
       "      <td>NaN</td>\n",
       "      <td>NaN</td>\n",
       "      <td>NaN</td>\n",
       "      <td>NaN</td>\n",
       "      <td>NaN</td>\n",
       "      <td>NaN</td>\n",
       "      <td>NaN</td>\n",
       "      <td>NaN</td>\n",
       "      <td>NaN</td>\n",
       "      <td>...</td>\n",
       "      <td>NaN</td>\n",
       "      <td>NaN</td>\n",
       "      <td>NaN</td>\n",
       "      <td>NaN</td>\n",
       "      <td>-2.45000</td>\n",
       "      <td>40.67820</td>\n",
       "      <td>NaN</td>\n",
       "      <td>NaN</td>\n",
       "      <td>NaN</td>\n",
       "      <td>NaN</td>\n",
       "    </tr>\n",
       "    <tr>\n",
       "      <th>75%</th>\n",
       "      <td>NaN</td>\n",
       "      <td>NaN</td>\n",
       "      <td>NaN</td>\n",
       "      <td>NaN</td>\n",
       "      <td>NaN</td>\n",
       "      <td>NaN</td>\n",
       "      <td>NaN</td>\n",
       "      <td>NaN</td>\n",
       "      <td>NaN</td>\n",
       "      <td>NaN</td>\n",
       "      <td>...</td>\n",
       "      <td>NaN</td>\n",
       "      <td>NaN</td>\n",
       "      <td>NaN</td>\n",
       "      <td>NaN</td>\n",
       "      <td>30.71740</td>\n",
       "      <td>48.84722</td>\n",
       "      <td>NaN</td>\n",
       "      <td>NaN</td>\n",
       "      <td>NaN</td>\n",
       "      <td>NaN</td>\n",
       "    </tr>\n",
       "    <tr>\n",
       "      <th>max</th>\n",
       "      <td>NaN</td>\n",
       "      <td>NaN</td>\n",
       "      <td>NaN</td>\n",
       "      <td>NaN</td>\n",
       "      <td>NaN</td>\n",
       "      <td>NaN</td>\n",
       "      <td>NaN</td>\n",
       "      <td>NaN</td>\n",
       "      <td>NaN</td>\n",
       "      <td>NaN</td>\n",
       "      <td>...</td>\n",
       "      <td>NaN</td>\n",
       "      <td>NaN</td>\n",
       "      <td>NaN</td>\n",
       "      <td>NaN</td>\n",
       "      <td>179.99412</td>\n",
       "      <td>89.99870</td>\n",
       "      <td>NaN</td>\n",
       "      <td>NaN</td>\n",
       "      <td>NaN</td>\n",
       "      <td>NaN</td>\n",
       "    </tr>\n",
       "  </tbody>\n",
       "</table>\n",
       "<p>11 rows × 23 columns</p>\n",
       "</div>"
      ],
      "text/plain": [
       "            sid               id       name  street     zip  \\\n",
       "count   1022658          1022658    1022658  715704  715579   \n",
       "unique  1022658          1022658     935776  656262  181474   \n",
       "top      719981  110296492939207  Starbucks           10001   \n",
       "freq          1                1       1097    1652    1649   \n",
       "mean        NaN              NaN        NaN     NaN     NaN   \n",
       "std         NaN              NaN        NaN     NaN     NaN   \n",
       "min         NaN              NaN        NaN     NaN     NaN   \n",
       "25%         NaN              NaN        NaN     NaN     NaN   \n",
       "50%         NaN              NaN        NaN     NaN     NaN   \n",
       "75%         NaN              NaN        NaN     NaN     NaN   \n",
       "max         NaN              NaN        NaN     NaN     NaN   \n",
       "\n",
       "                      city            region      cd             phone  \\\n",
       "count               937166              1760  939010            601688   \n",
       "unique              118541              1743     245            577305   \n",
       "top     New York, New York  Eastern Province      US  +44 345 748 4950   \n",
       "freq                 29954                 4  331424               178   \n",
       "mean                   NaN               NaN     NaN               NaN   \n",
       "std                    NaN               NaN     NaN               NaN   \n",
       "min                    NaN               NaN     NaN               NaN   \n",
       "25%                    NaN               NaN     NaN               NaN   \n",
       "50%                    NaN               NaN     NaN               NaN   \n",
       "75%                    NaN               NaN     NaN               NaN   \n",
       "max                    NaN               NaN     NaN               NaN   \n",
       "\n",
       "       aj_exact_city_match  ...             dir_city_name  \\\n",
       "count              1000510  ...                    495698   \n",
       "unique                   2  ...                    114996   \n",
       "top                  False  ...  Hells Kitchen, Manhattan   \n",
       "freq                907651  ...                      1326   \n",
       "mean                   NaN  ...                       NaN   \n",
       "std                    NaN  ...                       NaN   \n",
       "min                    NaN  ...                       NaN   \n",
       "25%                    NaN  ...                       NaN   \n",
       "50%                    NaN  ...                       NaN   \n",
       "75%                    NaN  ...                       NaN   \n",
       "max                    NaN  ...                       NaN   \n",
       "\n",
       "                  dir_city_slug dir_country_id dir_country_name           lat  \\\n",
       "count                    495221         495628           495698 1016495.00000   \n",
       "unique                   114426            234              235           NaN   \n",
       "top     hells-kitchen-manhattan             US    United States           NaN   \n",
       "freq                       1326         170983           170983           NaN   \n",
       "mean                        NaN            NaN              NaN     -15.29215   \n",
       "std                         NaN            NaN              NaN      76.15085   \n",
       "min                         NaN            NaN              NaN    -179.98300   \n",
       "25%                         NaN            NaN              NaN     -80.15575   \n",
       "50%                         NaN            NaN              NaN      -2.45000   \n",
       "75%                         NaN            NaN              NaN      30.71740   \n",
       "max                         NaN            NaN              NaN     179.99412   \n",
       "\n",
       "                 lng primary_alias_on_fb    slug                    website  \\\n",
       "count  1016495.00000              425531  941668                     623262   \n",
       "unique           NaN              425486  833398                     583671   \n",
       "top              NaN      pandpnewcastle       -  http://www.starbucks.com/   \n",
       "freq             NaN                   2    6588                        297   \n",
       "mean        34.21718                 NaN     NaN                        NaN   \n",
       "std         22.01081                 NaN     NaN                        NaN   \n",
       "min        -90.00000                 NaN     NaN                        NaN   \n",
       "25%         29.97555                 NaN     NaN                        NaN   \n",
       "50%         40.67820                 NaN     NaN                        NaN   \n",
       "75%         48.84722                 NaN     NaN                        NaN   \n",
       "max         89.99870                 NaN     NaN                        NaN   \n",
       "\n",
       "                            cts  \n",
       "count                   1022658  \n",
       "unique                  1022298  \n",
       "top     2019-05-25 23:54:48.969  \n",
       "freq                          2  \n",
       "mean                        NaN  \n",
       "std                         NaN  \n",
       "min                         NaN  \n",
       "25%                         NaN  \n",
       "50%                         NaN  \n",
       "75%                         NaN  \n",
       "max                         NaN  \n",
       "\n",
       "[11 rows x 23 columns]"
      ]
     },
     "execution_count": 55,
     "metadata": {},
     "output_type": "execute_result"
    }
   ],
   "source": [
    "df_instagram_locations.describe(include = 'all')"
   ]
  },
  {
   "cell_type": "markdown",
   "id": "2b29da96-f868-4411-8e50-c6a9689c1c02",
   "metadata": {},
   "source": [
    "##### **aj_exact_city_match**"
   ]
  },
  {
   "cell_type": "code",
   "execution_count": 54,
   "id": "78db79d8-7fcf-44fb-aed9-0a9db0ba08ad",
   "metadata": {},
   "outputs": [
    {
     "data": {
      "image/png": "[encoded data removed]",
      "text/plain": [
       "<Figure size 432x288 with 1 Axes>"
      ]
     },
     "metadata": {
      "needs_background": "light"
     },
     "output_type": "display_data"
    }
   ],
   "source": [
    "bar_binary(df_instagram_locations['aj_exact_city_match'], \"aj_exact_city_match\", \"Count of aj_exact_city_match\", \"orange\")"
   ]
  },
  
    
 {
   "cell_type": "markdown",
   "id": "74411db5-2d7e-4565-bb4a-bf6407368707",
   "metadata": {
    "tags": []
   },
   "source": [
    "### <b>[RQ2]</b> Let's explore the dataset by finding simple insights regarding the profile and posts."
   ]
  },
  {
   "cell_type": "markdown",
   "id": "9a440b75-3ab7-4fb0-a90e-1645d458aa75",
   "metadata": {},
   "source": [
    "* **Missing values**\n",
    "Before starting answering the questions, we perform some data cleaning tasks that will make our analysis less prompt to errors."
   ]
  },
  {
   "cell_type": "markdown",
   "id": "f4e2b44a-1559-43f6-99d4-f7d4e59c69b8",
   "metadata": {},
   "source": [
    "* Let's remove the columns that are not useful for our purposes:\n",
    "  * `description` has 2055996 missing values\n",
    "  * `url` has 3639312 missing values\n",
    "* Replace `is_business_account missing` rows with `False` values\n",
    "* Finally, let's remove the remaining rows with missing values"
   ]
  },
  {
   "cell_type": "code",
   "execution_count": 21,
   "id": "3da9cdc1-a39c-42b2-8eed-c41b3154633e",
   "metadata": {},
   "outputs": [
    {
     "data": {
      "text/plain": [
       "sid                          0\n",
       "profile_id               32447\n",
       "profile_name                 0\n",
       "firstname_lastname      288465\n",
       "description            2055996\n",
       "following              1056815\n",
       "followers              1056815\n",
       "n_posts                1056815\n",
       "url                    3639312\n",
       "cts                     438488\n",
       "is_business_account    1064263\n",
       "dtype: int64"
      ]
     },
     "execution_count": 21,
     "metadata": {},
     "output_type": "execute_result"
    }
   ],
   "source": [
    "df_instagram_profiles.shape[0] # no. rows = 4,509,586\n",
    "df_instagram_profiles.isna().sum() "
   ]
  },
  {
   "cell_type": "code",
   "execution_count": 4,
   "id": "c2b53f40-ec97-4301-a52c-5ad1836d39e1",
   "metadata": {},
   "outputs": [],
   "source": [
    "df_instagram_profiles_RQ2 = df_instagram_profiles.drop(['description', 'url'], axis = 1)\n",
    "df_instagram_profiles_RQ2.is_business_account.fillna(False, inplace = True)\n",
    "df_instagram_profiles_RQ2.dropna(axis = 0, how = 'any', inplace = True)\n",
    "df_instagram_profiles_RQ2.shape[0] # no. rows = 3,130,712"
   ]
  },
  {
   "cell_type": "markdown",
   "id": "df20433d",
   "metadata": {},
   "source": [
    "Up to this point, we have removed 1,378.874 rows and 2 columns, obtaining as an output a more consistent dataset."
   ]
  },
  {
   "cell_type": "markdown",
   "id": "7aae84c6-385b-41bb-b5f5-97a84b42db8b",
   "metadata": {
    "tags": []
   },
   "source": [
    "<b>2.1</b> Plot the number of posts for each profile in descending order"
   ]
  },
  {
   "cell_type": "code",
   "execution_count": 27,
   "id": "ab7cbe7a-dffa-4eb6-b6ed-87db0c9ecf92",
   "metadata": {},
   "outputs": [
    {
     "data": {
      "text/plain": [
       "3990313    183730\n",
       "2571453    142428\n",
       "4338921    126340\n",
       "3942129    125220\n",
       "4219642    117262\n",
       "            ...  \n",
       "1786774         0\n",
       "1711929         0\n",
       "1446235         0\n",
       "1446228         0\n",
       "3719054         0\n",
       "Name: n_posts, Length: 3130712, dtype: int64"
      ]
     },
     "execution_count": 27,
     "metadata": {},
     "output_type": "execute_result"
    }
   ],
   "source": [
    "df_instagram_profiles_RQ2.sort_values(by = 'n_posts', ascending = False, inplace = True)\n",
    "df_instagram_profiles_RQ2.n_posts = df_instagram_profiles_RQ2.n_posts.astype(int)\n",
    "df_instagram_profiles_RQ2.n_posts"
   ]
  },
  {
   "cell_type": "code",
   "execution_count": 28,
   "id": "32c35b4a-229e-4a79-b758-2f3731b80c1e",
   "metadata": {},
   "outputs": [
    {
     "data": {
      "image/png": "[encoded data removed]",
      "text/plain": [
       "<Figure size 432x288 with 1 Axes>"
      ]
     },
     "metadata": {
      "needs_background": "light"
     },
     "output_type": "display_data"
    }
   ],
   "source": [
    "hist(df_instagram_profiles_RQ2['n_posts'], \"n_posts\", \"Number of posts sorted\", \"blue\", n_bins = 30, log_trans = True)"
   ]
  },
  {
   "cell_type": "markdown",
   "id": "322d1f26-ff14-4db4-aaa9-3a2a7464e29e",
   "metadata": {},
   "source": [
    "<b>2.2</b> What posts have the highest number of \"likes\"?"
   ]
  },
  {
   "cell_type": "markdown",
   "id": "17f0d1b8-6483-4341-81bb-0e6218e39fc1",
   "metadata": {},
   "source": [
    "* We import the `instagram_posts.csv` dataset (only the columns that we need for this excercise) and, as with profiles.csv, we perform some data cleaning: we remove NaN values and make likes and comments type int, instead of float."
   ]
  },
  {
   "cell_type": "code",
   "execution_count": 31,
   "id": "4ce40ef8-e180-40c0-a4f5-2fae597264f5",
   "metadata": {},
   "outputs": [
    {
     "data": {
      "text/plain": [
       "numbr_likes        36\n",
       "number_comments    36\n",
       "dtype: int64"
      ]
     },
     "execution_count": 31,
     "metadata": {},
     "output_type": "execute_result"
    }
   ],
   "source": [
    "fields = [\"numbr_likes\", \"number_comments\"]\n",
    "df_instagram_posts_RQ2_1 = pd.read_csv(\"~/instagram_posts.csv\", delimiter = \"\\t\", usecols = fields)\n",
    "df_instagram_posts_RQ2_1.shape[0] # no. of rows = 42,710,197\n",
    "df_instagram_posts_RQ2_1.isna().sum()"
   ]
  },
  {
   "cell_type": "code",
   "execution_count": 33,
   "id": "686ac0ca-4a15-4fb0-9180-42ce53bd26b6",
   "metadata": {},
   "outputs": [],
   "source": [
    "# delete the NaN values\n",
    "df_instagram_posts_RQ2_1.dropna(axis = 0, how = 'any', inplace = True)\n",
    "# transform float to integer number\n",
    "df_instagram_posts_RQ2_1 = df_instagram_posts_RQ2_1.astype({'numbr_likes': 'int', 'number_comments': 'int'}, errors = 'ignore')"
   ]
  },
  {
   "cell_type": "markdown",
   "id": "ec8f30d2-ff1e-4040-934f-a87cbff8ccc0",
   "metadata": {},
   "source": [
    "* `most_likes` is obtained by sorting in **descending order** `df_instagram_posts_RQ2_1` according to the `numbr_likes` and then taking the first 10 posts (`.head(10)`) with the most likes."
   ]
  },
  {
   "cell_type": "code",
   "execution_count": 35,
   "id": "9f6cd52b-870c-4a54-9061-d61cab66f271",
   "metadata": {},
   "outputs": [
    {
     "data": {
      "text/html": [
       "<div>\n",
       "<style scoped>\n",
       "    .dataframe tbody tr th:only-of-type {\n",
       "        vertical-align: middle;\n",
       "    }\n",
       "\n",
       "    .dataframe tbody tr th {\n",
       "        vertical-align: top;\n",
       "    }\n",
       "\n",
       "    .dataframe thead th {\n",
       "        text-align: right;\n",
       "    }\n",
       "</style>\n",
       "<table border=\"1\" class=\"dataframe\">\n",
       "  <thead>\n",
       "    <tr style=\"text-align: right;\">\n",
       "      <th></th>\n",
       "      <th>numbr_likes</th>\n",
       "      <th>number_comments</th>\n",
       "    </tr>\n",
       "  </thead>\n",
       "  <tbody>\n",
       "    <tr>\n",
       "      <th>19624085</th>\n",
       "      <td>8822952</td>\n",
       "      <td>165886</td>\n",
       "    </tr>\n",
       "    <tr>\n",
       "      <th>19623988</th>\n",
       "      <td>5447066</td>\n",
       "      <td>25303</td>\n",
       "    </tr>\n",
       "    <tr>\n",
       "      <th>19624082</th>\n",
       "      <td>5116398</td>\n",
       "      <td>40608</td>\n",
       "    </tr>\n",
       "    <tr>\n",
       "      <th>19623986</th>\n",
       "      <td>4271466</td>\n",
       "      <td>30770</td>\n",
       "    </tr>\n",
       "    <tr>\n",
       "      <th>39701024</th>\n",
       "      <td>4264745</td>\n",
       "      <td>18691</td>\n",
       "    </tr>\n",
       "    <tr>\n",
       "      <th>6293907</th>\n",
       "      <td>3586546</td>\n",
       "      <td>15405</td>\n",
       "    </tr>\n",
       "    <tr>\n",
       "      <th>19624086</th>\n",
       "      <td>3558599</td>\n",
       "      <td>15715</td>\n",
       "    </tr>\n",
       "    <tr>\n",
       "      <th>19802016</th>\n",
       "      <td>3533326</td>\n",
       "      <td>59475</td>\n",
       "    </tr>\n",
       "    <tr>\n",
       "      <th>30850564</th>\n",
       "      <td>3340297</td>\n",
       "      <td>149489</td>\n",
       "    </tr>\n",
       "    <tr>\n",
       "      <th>39812576</th>\n",
       "      <td>3311246</td>\n",
       "      <td>64318</td>\n",
       "    </tr>\n",
       "  </tbody>\n",
       "</table>\n",
       "</div>"
      ],
      "text/plain": [
       "          numbr_likes  number_comments\n",
       "19624085      8822952           165886\n",
       "19623988      5447066            25303\n",
       "19624082      5116398            40608\n",
       "19623986      4271466            30770\n",
       "39701024      4264745            18691\n",
       "6293907       3586546            15405\n",
       "19624086      3558599            15715\n",
       "19802016      3533326            59475\n",
       "30850564      3340297           149489\n",
       "39812576      3311246            64318"
      ]
     },
     "execution_count": 35,
     "metadata": {},
     "output_type": "execute_result"
    }
   ],
   "source": [
    "most_likes = df_instagram_posts_RQ2_1.sort_values(by = 'numbr_likes', ascending = False).head(10)\n",
    "most_likes"
   ]
  },
  {
   "cell_type": "markdown",
   "id": "cdb48081-b6e0-43af-b1e5-920ba59fd11c",
   "metadata": {},
   "source": [
    "<b>2.3</b> What posts have the most and the least number of comments?"
   ]
  },
  {
   "cell_type": "markdown",
   "id": "43c3197a-2c6b-4332-88ea-263584cb2f23",
   "metadata": {},
   "source": [
    "* `most_comments` is obtained by sorting in **descending order** `df_instagram_posts_RQ2_1` according to the `number_comments` and then taking the first 10 posts (`.head(10)`) with the most comments."
   ]
  },
  {
   "cell_type": "code",
   "execution_count": 36,
   "id": "f87f7a6c-2bb4-4d7d-98cd-f6c9537f6912",
   "metadata": {},
   "outputs": [
    {
     "data": {
      "text/html": [
       "<div>\n",
       "<style scoped>\n",
       "    .dataframe tbody tr th:only-of-type {\n",
       "        vertical-align: middle;\n",
       "    }\n",
       "\n",
       "    .dataframe tbody tr th {\n",
       "        vertical-align: top;\n",
       "    }\n",
       "\n",
       "    .dataframe thead th {\n",
       "        text-align: right;\n",
       "    }\n",
       "</style>\n",
       "<table border=\"1\" class=\"dataframe\">\n",
       "  <thead>\n",
       "    <tr style=\"text-align: right;\">\n",
       "      <th></th>\n",
       "      <th>numbr_likes</th>\n",
       "      <th>number_comments</th>\n",
       "    </tr>\n",
       "  </thead>\n",
       "  <tbody>\n",
       "    <tr>\n",
       "      <th>41873060</th>\n",
       "      <td>38871</td>\n",
       "      <td>488953</td>\n",
       "    </tr>\n",
       "    <tr>\n",
       "      <th>12164781</th>\n",
       "      <td>81523</td>\n",
       "      <td>313997</td>\n",
       "    </tr>\n",
       "    <tr>\n",
       "      <th>33261751</th>\n",
       "      <td>54507</td>\n",
       "      <td>257488</td>\n",
       "    </tr>\n",
       "    <tr>\n",
       "      <th>11149127</th>\n",
       "      <td>331703</td>\n",
       "      <td>214365</td>\n",
       "    </tr>\n",
       "    <tr>\n",
       "      <th>9383817</th>\n",
       "      <td>23515</td>\n",
       "      <td>189888</td>\n",
       "    </tr>\n",
       "    <tr>\n",
       "      <th>5427268</th>\n",
       "      <td>129258</td>\n",
       "      <td>180635</td>\n",
       "    </tr>\n",
       "    <tr>\n",
       "      <th>25257169</th>\n",
       "      <td>684861</td>\n",
       "      <td>173988</td>\n",
       "    </tr>\n",
       "    <tr>\n",
       "      <th>6220011</th>\n",
       "      <td>2224495</td>\n",
       "      <td>170836</td>\n",
       "    </tr>\n",
       "    <tr>\n",
       "      <th>31689573</th>\n",
       "      <td>226336</td>\n",
       "      <td>166919</td>\n",
       "    </tr>\n",
       "    <tr>\n",
       "      <th>14257307</th>\n",
       "      <td>169791</td>\n",
       "      <td>166198</td>\n",
       "    </tr>\n",
       "  </tbody>\n",
       "</table>\n",
       "</div>"
      ],
      "text/plain": [
       "          numbr_likes  number_comments\n",
       "41873060        38871           488953\n",
       "12164781        81523           313997\n",
       "33261751        54507           257488\n",
       "11149127       331703           214365\n",
       "9383817         23515           189888\n",
       "5427268        129258           180635\n",
       "25257169       684861           173988\n",
       "6220011       2224495           170836\n",
       "31689573       226336           166919\n",
       "14257307       169791           166198"
      ]
     },
     "execution_count": 36,
     "metadata": {},
     "output_type": "execute_result"
    }
   ],
   "source": [
    "most_comments = df_instagram_posts_RQ2_1.sort_values(by = 'number_comments', ascending = False).head(10)\n",
    "most_comments "
   ]
  },
  {
   "cell_type": "markdown",
   "id": "03739a54-e18e-4c74-a6c3-f04871aea8c3",
   "metadata": {},
   "source": [
    "* `least_comments` is obtained by sorting in **ascending order** `df_instagram_posts_RQ2_1` according to the `number_comments` and then taking the first 10 posts (`.head(10)`) with the least comments."
   ]
  },
  {
   "cell_type": "code",
   "execution_count": 15,
   "id": "24b85c87-3b8a-4e89-86d4-25027e5a18bd",
   "metadata": {},
   "outputs": [
    {
     "data": {
      "text/html": [
       "<div>\n",
       "<style scoped>\n",
       "    .dataframe tbody tr th:only-of-type {\n",
       "        vertical-align: middle;\n",
       "    }\n",
       "\n",
       "    .dataframe tbody tr th {\n",
       "        vertical-align: top;\n",
       "    }\n",
       "\n",
       "    .dataframe thead th {\n",
       "        text-align: right;\n",
       "    }\n",
       "</style>\n",
       "<table border=\"1\" class=\"dataframe\">\n",
       "  <thead>\n",
       "    <tr style=\"text-align: right;\">\n",
       "      <th></th>\n",
       "      <th>post_id</th>\n",
       "      <th>numbr_likes</th>\n",
       "      <th>number_comments</th>\n",
       "    </tr>\n",
       "  </thead>\n",
       "  <tbody>\n",
       "    <tr>\n",
       "      <th>0</th>\n",
       "      <td>BXdjjUlgcgq</td>\n",
       "      <td>80</td>\n",
       "      <td>0</td>\n",
       "    </tr>\n",
       "    <tr>\n",
       "      <th>709</th>\n",
       "      <td>Bx-2z8Hhk1j</td>\n",
       "      <td>29</td>\n",
       "      <td>0</td>\n",
       "    </tr>\n",
       "    <tr>\n",
       "      <th>289</th>\n",
       "      <td>Bxr-ibHps7V</td>\n",
       "      <td>25</td>\n",
       "      <td>0</td>\n",
       "    </tr>\n",
       "    <tr>\n",
       "      <th>712</th>\n",
       "      <td>Bx5mknNBLCG</td>\n",
       "      <td>35</td>\n",
       "      <td>0</td>\n",
       "    </tr>\n",
       "    <tr>\n",
       "      <th>713</th>\n",
       "      <td>Bx3TT5TB3Tu</td>\n",
       "      <td>188</td>\n",
       "      <td>0</td>\n",
       "    </tr>\n",
       "    <tr>\n",
       "      <th>286</th>\n",
       "      <td>Bxztf_xlzLh</td>\n",
       "      <td>15</td>\n",
       "      <td>0</td>\n",
       "    </tr>\n",
       "    <tr>\n",
       "      <th>714</th>\n",
       "      <td>Bx0fZxkh-_4</td>\n",
       "      <td>134</td>\n",
       "      <td>0</td>\n",
       "    </tr>\n",
       "    <tr>\n",
       "      <th>284</th>\n",
       "      <td>Bx65tHPJH2S</td>\n",
       "      <td>18</td>\n",
       "      <td>0</td>\n",
       "    </tr>\n",
       "    <tr>\n",
       "      <th>283</th>\n",
       "      <td>ByA02DAl8SZ</td>\n",
       "      <td>19</td>\n",
       "      <td>0</td>\n",
       "    </tr>\n",
       "    <tr>\n",
       "      <th>282</th>\n",
       "      <td>ByCqFD-ASgn</td>\n",
       "      <td>9</td>\n",
       "      <td>0</td>\n",
       "    </tr>\n",
       "  </tbody>\n",
       "</table>\n",
       "</div>"
      ],
      "text/plain": [
       "         post_id  numbr_likes  number_comments\n",
       "0    BXdjjUlgcgq           80                0\n",
       "709  Bx-2z8Hhk1j           29                0\n",
       "289  Bxr-ibHps7V           25                0\n",
       "712  Bx5mknNBLCG           35                0\n",
       "713  Bx3TT5TB3Tu          188                0\n",
       "286  Bxztf_xlzLh           15                0\n",
       "714  Bx0fZxkh-_4          134                0\n",
       "284  Bx65tHPJH2S           18                0\n",
       "283  ByA02DAl8SZ           19                0\n",
       "282  ByCqFD-ASgn            9                0"
      ]
     },
     "execution_count": 15,
     "metadata": {},
     "output_type": "execute_result"
    }
   ],
   "source": [
    "least_comments = df_instagram_posts_RQ2_1.sort_values(by = 'number_comments', ascending = True).head(10)\n",
    "least_comments"
   ]
  },
  {
   "cell_type": "markdown",
   "id": "9daf2878-f844-4226-a5a6-c09683326b7a",
   "metadata": {
    "tags": []
   },
   "source": [
    "<b>2.4</b> How many posts include tagged locations, and how many do not? Show it using an appropriate chart and comment your results."
   ]
  },
  {
   "cell_type": "markdown",
   "id": "ed114c77-9952-4659-8286-42826a87d676",
   "metadata": {},
   "source": [
    "* We import the `instagram_posts.csv` dataset (only the columns that we need for this excercise)"
   ]
  },
  {
   "cell_type": "code",
   "execution_count": 2,
   "id": "ecb7f743-1f30-4c95-8ee0-dcfee3ee97dc",
   "metadata": {},
   "outputs": [],
   "source": [
    "fields = [\"post_id\", \"location_id\"]\n",
    "df_instagram_posts_RQ2_3 = pd.read_csv(\"~/instagram_posts.csv\", delimiter = \"\\t\", usecols = fields)"
   ]
  },
  {
   "cell_type": "code",
   "execution_count": 23,
   "id": "97f70326-c7b0-44aa-abf1-081903c0a53f",
   "metadata": {},
   "outputs": [
    {
     "name": "stdout",
     "output_type": "stream",
     "text": [
      "The number of posts     containing tagged locations is: 29737425\n",
      "The number of posts not containing tagged locations is: 12972772\n"
     ]
    }
   ],
   "source": [
    "# includes tagged locations means location_name not Nan\n",
    "count_tagged_location = df_instagram_posts_RQ2_3.loc[df_instagram_posts_RQ2_3['location_id'].notna()].shape[0] # 29,737,425\n",
    "count_no_tagged_location = len(df_instagram_posts_RQ2_3) - count_tagged_location # 12,972,772\n",
    "\n",
    "print(\"The number of posts     containing tagged locations is:\", count_tagged_location)\n",
    "print(\"The number of posts not containing tagged locations is:\", count_no_tagged_location)"
   ]
  },
  {
   "cell_type": "code",
   "execution_count": 112,
   "id": "4b8c7ea0-8d5e-4304-9f62-b532821d2049",
   "metadata": {},
   "outputs": [
    {
     "data": {
      "text/plain": [
       "Text(0.5, 1.05, 'Count of tagged & no-tagged locations')"
      ]
     },
     "execution_count": 112,
     "metadata": {},
     "output_type": "execute_result"
    },
    {
     "data": {
      "image/png": "[encoded data removed]",
      "text/plain": [
       "<Figure size 432x288 with 1 Axes>"
      ]
     },
     "metadata": {
      "needs_background": "light"
     },
     "output_type": "display_data"
    }
   ],
   "source": [
    "# plot\n",
    "df_instagram_posts_RQ2_3['check'] = np.where(df_instagram_posts_RQ2_3['location_id'].notna(), True, False)\n",
    "check = df_instagram_posts_RQ2_3['check']\n",
    "count = check.value_counts()\n",
    "count.plot(kind = 'bar', color = 'purple', ec = 'black')\n",
    "plt.xlabel(\"check\", labelpad = 14)\n",
    "plt.ylabel(\"Count\", labelpad = 14)\n",
    "plt.title(\"Count of tagged & no-tagged locations\", y = 1.05)"
   ]
  },
  {
   "cell_type": "markdown",
   "id": "da1e1c2b",
   "metadata": {},
   "source": [
    "As it can be observed in the chart, almost 70% of the locations are tagged by users while 30% aren't. This could be interpreted, in the sense that, **most people post pictures on instagram when they are in a place where they want to be seen**, so it is more likely that the user wants its followers to know the location."
   ]
  },
  {
   "cell_type": "markdown",
   "id": "8276991c-3ba3-4922-99e7-52999987d59a",
   "metadata": {},
   "source": [
    "##### 2.5 How many posts include only photos? How many also have videos?"
   ]
  },
  {
   "cell_type": "markdown",
   "id": "82fe4c08-b35e-4167-a046-9e919e98e455",
   "metadata": {},
   "source": [
    "* We import the `instagram_posts.csv` dataset (only the columns that we need for this excercise)"
   ]
  },
  {
   "cell_type": "code",
   "execution_count": 2,
   "id": "391b73bf-5e32-4f62-9f57-d16f42250bf1",
   "metadata": {},
   "outputs": [],
   "source": [
    "fields = [\"post_id\", \"post_type\"]\n",
    "df_instagram_posts_RQ2_2 = pd.read_csv(\"~/instagram_posts.csv\", delimiter = \"\\t\", usecols = fields)"
   ]
  },
  {
   "cell_type": "code",
   "execution_count": 141,
   "id": "e1528e52-716b-4907-aedf-1c18265cdc48",
   "metadata": {},
   "outputs": [
    {
     "name": "stdout",
     "output_type": "stream",
     "text": [
      "The number of posts that include only photos is 41534486\n"
     ]
    }
   ],
   "source": [
    "# l1: list containing only post_type == 1 (only photos)\n",
    "l1 = [1]\n",
    "print(\"The number of posts that include only photos is\", df_instagram_posts_RQ2_2.loc[df_instagram_posts_RQ2_2['post_type'].isin(l1)].shape[0]) # 41,534,486"
   ]
  },
  {
   "cell_type": "code",
   "execution_count": 143,
   "id": "6e5386fb-a08c-45e3-93bb-a2ce695af8fb",
   "metadata": {},
   "outputs": [
    {
     "name": "stdout",
     "output_type": "stream",
     "text": [
      "The number of posts that include both photos and videos is 40943\n"
     ]
    }
   ],
   "source": [
    "# l1: list containing only post_type == 3 (photos and video)\n",
    "l2 = [3]\n",
    "print(\"The number of posts that include both photos and videos is\", df_instagram_posts_RQ2_2.loc[df_instagram_posts_RQ2_2['post_type'].isin(l2)].shape[0]) # 40,943"
   ]
  },
  {
   "cell_type": "markdown",
   "id": "2eb477db-d62b-4548-8ec2-57cb1de57562",
   "metadata": {},
   "source": [
    "##### f) What's the percentage of business accounts vs non-business? What can you interpret regarding that percentage?"
   ]
  },
  {
   "cell_type": "markdown",
   "id": "8911fb45-b6b5-41d0-a0f0-768de95c856c",
   "metadata": {},
   "source": [
    "* **Note**: the missing values of the `is_business_account` variable were substituted with `False`. So, the percentages may be different by just eliminating the missing values for that column."
   ]
  },
  {
   "cell_type": "code",
   "execution_count": 138,
   "id": "e700839e-8cd9-4c65-b952-8580a601d8db",
   "metadata": {},
   "outputs": [
    {
     "name": "stdout",
     "output_type": "stream",
     "text": [
      "Percentage of business accounts: 18.97%\n",
      "Percentage of non-business accounts: 81.03%\n"
     ]
    }
   ],
   "source": [
    "# Percentage of business accounts & non-business accounts\n",
    "\n",
    "count_business_accounts = df_instagram_profiles.loc[df_instagram_profiles['is_business_account'] == True].shape[0]\n",
    "percentage_business_accounts = count_business_accounts/len(df_instagram_profiles)\n",
    "\n",
    "a = \"Percentage of business accounts: \" + '{0:.2%}'.format(percentage_business_accounts)\n",
    "b = \"Percentage of non-business accounts: \" + '{0:.2%}'.format(1 - percentage_business_accounts)\n",
    "\n",
    "print(os.linesep.join([a, b])) # 18.97%"
   ]
  },
  {
   "cell_type": "markdown",
   "id": "97524308",
   "metadata": {},
   "source": [
    "This significant difference between the number of business and non-business accounts could be interpreted from a social perspective: even though instagram is one of the most attractive markets for all kind of brands, at its core is mainly used by regular people that want to interact with their friends and make new ones."
   ]
  },
  {
   "cell_type": "code",
   "execution_count": 77,
   "id": "adb44907-49bf-4304-bc4d-189b029cf8f9",
   "metadata": {},
   "outputs": [
    {
     "data": {
      "image/png": "[encoded data removed]",
      "text/plain": [
       "<Figure size 432x288 with 1 Axes>"
      ]
     },
     "metadata": {
      "needs_background": "light"
     },
     "output_type": "display_data"
    }
   ],
   "source": [
    "# plot of percentage of business & non-business accounts\n",
    "bar_binary(df_instagram_profiles['is_business_account'], \"is_business_account\", \"Count of business accounts\", \"red\")"
   ]
  },
  {
   "cell_type": "markdown",
   "id": "242d585e-92fc-46ac-8605-f69579beba48",
   "metadata": {},
   "source": [
    "### <b>[RQ3]</b> Now it's important to understand the most common times in which users publish their posts"
   ]
  },
  {
   "cell_type": "markdown",
   "id": "171ad3b8-1228-4cee-af65-2521d165fde9",
   "metadata": {},
   "source": [
    "##### 3.1 What is the most common time in which users publish their posts?"
   ]
  },
  {
   "cell_type": "markdown",
   "id": "e67ef95a-837c-4329-9464-aed58052e693",
   "metadata": {},
   "source": [
    "* Let's import the `instagram_posts.csv` dataset (only the columns that we need for this excercise)"
   ]
  },
  {
   "cell_type": "code",
   "execution_count": 2,
   "id": "8b482494-c5a8-4e7f-8dcb-51b2952af6e6",
   "metadata": {},
   "outputs": [],
   "source": [
    "fields = [\"profile_id\", \"cts\"]\n",
    "df_instagram_posts_RQ3 = pd.read_csv(\"~/instagram_posts.csv\", delimiter = \"\\t\", usecols = fields)"
   ]
  },
  {
   "cell_type": "code",
   "execution_count": 3,
   "id": "eb442183-cc57-42ce-827c-619fe1c8ca4c",
   "metadata": {},
   "outputs": [],
   "source": [
    "# For workability reasons, we need to divide dataset into chunks of 5,000,000 rows.\n",
    "chunk_list = []\n",
    "for i in range(0, len(df_instagram_posts_RQ3), 5000000):\n",
    "    chunk = df_instagram_posts_RQ3[i:i+5000000]\n",
    "    chunk_list.append(chunk)"
   ]
  },
  {
   "cell_type": "markdown",
   "id": "a20a20ba-d977-43e3-91ba-6f3bc32756fc",
   "metadata": {},
   "source": [
    "* Then we convert the `cts` column from object type to `datetime`. Then we create two new columns:\n",
    "  * `cts_time`: in the format `hh:mm:ss`. For instance, `20:00:00`\n",
    "  * `hour`: in the format `hh`. For instance, `20`<br>\n",
    "  Finally we append the chunks to a new list named `chunk_list_new`."
   ]
  },
  {
   "cell_type": "code",
   "execution_count": 4,
   "id": "6545df11-f19b-48aa-99be-a4f85d89ea8b",
   "metadata": {},
   "outputs": [],
   "source": [
    "# Convert string (object type) to datetime\n",
    "# Then, get only time from cts (we are not interested in the dates but only in the time)\n",
    "chunk_list_new = []\n",
    "for chunk in chunk_list:\n",
    "    chunk_copy = chunk.copy()\n",
    "    chunk_copy['cts_time'] = pd.to_datetime(chunk['cts']).dt.time\n",
    "    chunk_copy['hour'] = pd.to_datetime(chunk['cts']).dt.hour\n",
    "    chunk_list_new.append(chunk_copy)"
   ]
  },
  {
   "cell_type": "markdown",
   "id": "79970389-5e81-4356-80e0-9c4f31d2d60c",
   "metadata": {},
   "source": [
    "* We group by `cts_time` and `hour` by chunks and obtain two new lists `chunk_list_new1` and `chunk_list_new2`."
   ]
  },
  {
   "cell_type": "code",
   "execution_count": 40,
   "id": "661a9797-bbac-45cb-be35-886130657887",
   "metadata": {},
   "outputs": [],
   "source": [
    "# Group by cts_time\n",
    "\n",
    "chunk_list_new1 = []\n",
    "for chunk in chunk_list_new:\n",
    "    chunk  = chunk.groupby('cts_time').size().reset_index(name='counts')\n",
    "    chunk_list_new1.append(chunk)"
   ]
  },
  {
   "cell_type": "code",
   "execution_count": 42,
   "id": "075773af-a816-4229-97f6-99ba50a9aa18",
   "metadata": {},
   "outputs": [],
   "source": [
    "# Group by hour\n",
    "\n",
    "chunk_list_new2 = []\n",
    "for chunk in chunk_list_new:\n",
    "    chunk  = chunk.groupby('hour').size().reset_index(name='counts')\n",
    "    chunk_list_new2.append(chunk)"
   ]
  },
  {
   "cell_type": "markdown",
   "id": "fc598a91-cda1-45e0-885a-8825e6897bbf",
   "metadata": {},
   "source": [
    "* We concatenate the chunks and obtain two dataframes `data` and `data2`.\n",
    "  * `data` contains `cts_time`.\n",
    "  * `data2` contains `hour`."
   ]
  },
  {
   "cell_type": "code",
   "execution_count": 43,
   "id": "6beb27ad-98de-4a46-89d1-c0f4c8098b8d",
   "metadata": {},
   "outputs": [],
   "source": [
    "# Concatenate chunks, group by cts_time (and hour) and add up counts\n",
    "\n",
    "data  = pd.concat(chunk_list_new1).groupby(['cts_time']).sum().reset_index()\n",
    "data2 = pd.concat(chunk_list_new2).groupby(['hour']).sum().reset_index()\n",
    "data2.hour = data2.hour.astype(int)"
   ]
  },
  {
   "cell_type": "markdown",
   "id": "faad655a-d3d9-41e0-96b2-e2d413718bb5",
   "metadata": {},
   "source": [
    "##### The most common time(s) in which users publish their posts is 21:00:09. People post 47.5% more at this time that other times."
   ]
  },
  {
   "cell_type": "code",
   "execution_count": 44,
   "id": "3fba7418-0c16-4e5a-8a77-36a1031fe9d3",
   "metadata": {},
   "outputs": [
    {
     "data": {
      "text/html": [
       "<div>\n",
       "<style scoped>\n",
       "    .dataframe tbody tr th:only-of-type {\n",
       "        vertical-align: middle;\n",
       "    }\n",
       "\n",
       "    .dataframe tbody tr th {\n",
       "        vertical-align: top;\n",
       "    }\n",
       "\n",
       "    .dataframe thead th {\n",
       "        text-align: right;\n",
       "    }\n",
       "</style>\n",
       "<table border=\"1\" class=\"dataframe\">\n",
       "  <thead>\n",
       "    <tr style=\"text-align: right;\">\n",
       "      <th></th>\n",
       "      <th>cts_time</th>\n",
       "      <th>counts</th>\n",
       "    </tr>\n",
       "  </thead>\n",
       "  <tbody>\n",
       "    <tr>\n",
       "      <th>75609</th>\n",
       "      <td>21:00:09</td>\n",
       "      <td>928</td>\n",
       "    </tr>\n",
       "  </tbody>\n",
       "</table>\n",
       "</div>"
      ],
      "text/plain": [
       "       cts_time  counts\n",
       "75609  21:00:09     928"
      ]
     },
     "execution_count": 44,
     "metadata": {},
     "output_type": "execute_result"
    }
   ],
   "source": [
    "count = data.counts.value_counts(ascending = True).values[0]\n",
    "data.sort_values(by = 'counts', ascending = False).head(count) # 21:00:09"
   ]
  },
  {
   "cell_type": "code",
   "execution_count": 21,
   "id": "779228f0-02f1-4bad-bd81-7733d9e7ef85",
   "metadata": {},
   "outputs": [
    {
     "name": "stdout",
     "output_type": "stream",
     "text": [
      "The average number of times each cts_time is present in the dataset: 487\n",
      "The median  number of times each cts_time is present in the dataset: 494\n",
      "The maximum number of times each cts_time is present in the dataset: 928\n",
      "The minimum number of times each cts_time is present in the dataset: 223\n"
     ]
    }
   ],
   "source": [
    "print(\"The average number of times each cts_time is present in the dataset:\", int(np.mean(data.counts)))\n",
    "print(\"The median  number of times each cts_time is present in the dataset:\", int(np.median(data.counts))) \n",
    "print(\"The maximum number of times each cts_time is present in the dataset:\", int(np.max(data.counts)))\n",
    "print(\"The minimum number of times each cts_time is present in the dataset:\", int(np.min(data.counts)))"
   ]
  },
  {
   "cell_type": "markdown",
   "id": "54c97479-e5a9-4ca8-b9d9-3d8dbdd256c9",
   "metadata": {},
   "source": [
    "##### The most common hour(s) in which users publish their posts"
   ]
  },
  {
   "cell_type": "code",
   "execution_count": 45,
   "id": "47e00fe5-8f23-4888-a5ac-25972fdd0ab3",
   "metadata": {},
   "outputs": [
    {
     "data": {
      "text/html": [
       "<div>\n",
       "<style scoped>\n",
       "    .dataframe tbody tr th:only-of-type {\n",
       "        vertical-align: middle;\n",
       "    }\n",
       "\n",
       "    .dataframe tbody tr th {\n",
       "        vertical-align: top;\n",
       "    }\n",
       "\n",
       "    .dataframe thead th {\n",
       "        text-align: right;\n",
       "    }\n",
       "</style>\n",
       "<table border=\"1\" class=\"dataframe\">\n",
       "  <thead>\n",
       "    <tr style=\"text-align: right;\">\n",
       "      <th></th>\n",
       "      <th>hour</th>\n",
       "      <th>counts</th>\n",
       "    </tr>\n",
       "  </thead>\n",
       "  <tbody>\n",
       "    <tr>\n",
       "      <th>19</th>\n",
       "      <td>19</td>\n",
       "      <td>2499758</td>\n",
       "    </tr>\n",
       "  </tbody>\n",
       "</table>\n",
       "</div>"
      ],
      "text/plain": [
       "    hour   counts\n",
       "19    19  2499758"
      ]
     },
     "execution_count": 45,
     "metadata": {},
     "output_type": "execute_result"
    }
   ],
   "source": [
    "count2 = data2.counts.value_counts(ascending = True).values[0]\n",
    "data2.sort_values(by = 'counts', ascending = False).head(count2) # 21:00:09"
   ]
  },
  {
   "cell_type": "code",
   "execution_count": 25,
   "id": "c673820e-b144-434b-af1b-8e4af42ff30e",
   "metadata": {},
   "outputs": [
    {
     "name": "stdout",
     "output_type": "stream",
     "text": [
      "The average number of times each hour is present in the dataset: 1779452\n",
      "The median  number of times each hour is present in the dataset: 1779408\n",
      "The maximum number of times each hour is present in the dataset: 2499758\n",
      "The minimum number of times each hour is present in the dataset: 1011923\n",
      "People post 29% more in the time slot (19:00-19:59) wrt the other time slots\n"
     ]
    }
   ],
   "source": [
    "print(\"The average number of times each hour is present in the dataset:\", int(np.mean(data2.counts)))\n",
    "print(\"The median  number of times each hour is present in the dataset:\", int(np.median(data2.counts))) \n",
    "print(\"The maximum number of times each hour is present in the dataset:\", int(np.max(data2.counts)))\n",
    "print(\"The minimum number of times each hour is present in the dataset:\", int(np.min(data2.counts)))\n",
    "print(\"People post 29% more in the time slot (19:00-19:59) wrt the other time slots\")"
   ]
  },
  {
   "cell_type": "markdown",
   "id": "b87f57d8-b699-4173-a982-350a4d2e8b03",
   "metadata": {},
   "source": [
    "##### 3.2 Create a function that receives a time intervals list as a parameter and returns a plot with the number of posts for each given interval."
   ]
  },
  {
   "cell_type": "code",
   "execution_count": 18,
   "id": "681e601f-7913-4568-8c27-7b68da3c58ff",
   "metadata": {},
   "outputs": [],
   "source": [
    "def time_intervals(data, time, time_intervals_list, keyword):\n",
    "    \n",
    "    time_results = {}\n",
    "    for slot in time_intervals_list:\n",
    "        result = len(data[(time >= slot[0]) &\n",
    "                                  (time < slot[1])])\n",
    "        time_results[str(slot)] = result\n",
    "    \n",
    "    plt.bar(list(time_results.keys()), time_results.values(), color = 'blue', ec = 'black', width = 0.8)\n",
    "    plt.xlabel(\"time slots\", labelpad = 14)\n",
    "    plt.ylabel(\"Count\", labelpad = 14)\n",
    "    plt.title(print(\"The number of\", keyword, \"for each given interval\"), y = 1.05)\n",
    "    plt.show() "
   ]
  },
  {
   "cell_type": "markdown",
   "id": "18afc2e7-e5e4-4312-8fd3-a152eb1fb20f",
   "metadata": {},
   "source": [
    "##### 3.3 Use the function that you created in the previous literal to plot the number of posts between the following time intervals."
   ]
  },
  {
   "cell_type": "code",
   "execution_count": 5,
   "id": "d8c5b1b2-5abf-4493-a0d1-66fda3086dff",
   "metadata": {},
   "outputs": [],
   "source": [
    "slots = [(6, 10), (11, 13), (14, 16), (17, 19), (20, 23), (0, 2), (3, 5)]"
   ]
  },
  {
   "cell_type": "code",
   "execution_count": 7,
   "id": "2e37aa0b-561f-43ba-902a-b9c4f3f83f58",
   "metadata": {},
   "outputs": [],
   "source": [
    "# concatenate the chunks\n",
    "\n",
    "data2 = pd.concat(chunk_list_new)"
   ]
  },
  {
   "cell_type": "code",
   "execution_count": 19,
   "id": "a80854fd-4ec9-4d7a-bbb1-53f930105fb6",
   "metadata": {},
   "outputs": [
    {
     "data": {
      "image/png": "[encoded data removed]",
      "text/plain": [
       "<Figure size 432x288 with 1 Axes>"
      ]
     },
     "metadata": {
      "needs_background": "light"
     },
     "output_type": "display_data"
    }
   ],
   "source": [
    "time_intervals(data2, data2.hour, slots, \"posts\")"
   ]
  },
  
  {
   "cell_type": "markdown",
   "id": "85d1c459-9e52-4e9e-a6a9-a852a08ec626",
   "metadata": {},
   "source": [
    "### <b>[RQ4]</b> In most cases, we will not have a consistent dataset, and the one we are dealing with is not an exception (ex. in the given datasets, you may not find the information of the profiles for some of the posts). So let’s enhance our analysis."
   ]
  },
  {
   "cell_type": "markdown",
   "id": "e08b3ada-60ed-467e-903d-da73d3d56b1f",
   "metadata": {},
   "source": [
    "<b>4.1</b> Write a function that, given a profile_id, will be able to return the posts that belong to the given profile_id."
   ]
  },
  {
   "cell_type": "code",
   "execution_count": 2,
   "id": "6e102b3a-4ec3-4d1e-b61a-9cb0abdac99a",
   "metadata": {},
   "outputs": [],
   "source": [
    "#Data upload (posts.csv: 42,710.197 rows)\n",
    "columns_posts = [\"post_id\",\"profile_id\", \"numbr_likes\", \"number_comments\", \"cts\"]\n",
    "df_posts_RQ4 = pd.read_csv(\"~/instagram_posts.csv\", sep = \"\\t\" , usecols = columns_posts , parse_dates=[\"cts\"])"
   ]
  },
  {
   "cell_type": "code",
   "execution_count": 3,
   "id": "ecab98d8-4441-4598-af03-290600284ec1",
   "metadata": {},
   "outputs": [],
   "source": [
    "#Data upload (profiles.csv: 4,509.586 rows)\n",
    "columns_profiles = [\"profile_id\",\"following\",\"followers\"]\n",
    "df_profiles_RQ4 = pd.read_csv(\"instagram_profiles.csv\", sep = \"\\t\" , usecols = columns_profiles)"
   ]
  },
  {
   "cell_type": "markdown",
   "id": "4794b3a5-ba55-4089-a300-8f23e3df0e6f",
   "metadata": {},
   "source": [
    "* Due to the multiple exercise requirements that involve combining differents datasets together, we are going to focus our analysis on those profile_id that are present in both posts.csv and profiles.csv. Also, we want to remove all rows containing NaNs:"
   ]
  },
  {
   "cell_type": "code",
   "execution_count": 5,
   "id": "5e6a87f0-f93a-4b2b-b0e7-9c23a13a0ea6",
   "metadata": {},
   "outputs": [],
   "source": [
    "df_profiles_RQ4 = df_profiles_RQ4[df_profiles_RQ4.profile_id.isin(df_posts_RQ4.profile_id.unique())] #2,207.207\n",
    "df_posts_RQ4 = df_posts_RQ4[df_posts_RQ4.profile_id.isin(df_profiles_RQ4.profile_id)] #27,715.738 rows\n",
    "df_posts_RQ4 = df_posts_RQ4.dropna() #25,132.446 rows"
   ]
  },
  {
   "cell_type": "markdown",
   "id": "56c538b5-2d8f-4863-988a-d4a8ce384b6f",
   "metadata": {},
   "source": [
    "* The created function takes as <b>input</b>: the queried profile_id , an array of profile_ids and an array of post_ids. <br> As an <b>output</b>, it returns: a list containing all posts_id of the queried profile_id:"
   ]
  },
  {
   "cell_type": "code",
   "execution_count": 9,
   "id": "ddb76d04-cf84-4a71-8af1-b5ad2bbe7de4",
   "metadata": {},
   "outputs": [],
   "source": [
    "def posts(query_id, profile_id = df_posts_RQ4.profile_id.values , post_id = df_posts_RQ4.post_id.values):\n",
    "    return post_id[profile_id == query_id]"
   ]
  },
  {
   "cell_type": "markdown",
   "id": "a741d5f8-9145-4548-ba64-cee3a5c573bf",
   "metadata": {},
   "source": [
    "<b>4.2</b> Write another function that, given an input n (an integer), will return the posts that belong to the n top posted profiles (top n profiles that have posted the highest number of posts) that their data is available in the profile.csv using the previously written function. <br>"
   ]
  },
  {
   "cell_type": "markdown",
   "id": "e756942a-3909-4ceb-9ab1-03a2f92a6939",
   "metadata": {},
   "source": [
    "* Before defining the function, we leverage <i>np.unique</i> method to create an array with <b>all unique profile_ids</b> that appear in <b>posts.csv</b> and another one containing their <b>frequency of appareance</b>. Then, we create a <b> sorted dataframe by posting frequency</b>."
   ]
  },
  {
   "cell_type": "code",
   "execution_count": 74,
   "id": "d960330e-c809-4594-a9cd-9f59dc0f22a3",
   "metadata": {},
   "outputs": [
    {
     "data": {
      "text/html": [
       "<div>\n",
       "<style scoped>\n",
       "    .dataframe tbody tr th:only-of-type {\n",
       "        vertical-align: middle;\n",
       "    }\n",
       "\n",
       "    .dataframe tbody tr th {\n",
       "        vertical-align: top;\n",
       "    }\n",
       "\n",
       "    .dataframe thead th {\n",
       "        text-align: right;\n",
       "    }\n",
       "</style>\n",
       "<table border=\"1\" class=\"dataframe\">\n",
       "  <thead>\n",
       "    <tr style=\"text-align: right;\">\n",
       "      <th></th>\n",
       "      <th>profile_id</th>\n",
       "      <th>number_of_posts</th>\n",
       "    </tr>\n",
       "  </thead>\n",
       "  <tbody>\n",
       "    <tr>\n",
       "      <th>1588423</th>\n",
       "      <td>5.421037e+09</td>\n",
       "      <td>599</td>\n",
       "    </tr>\n",
       "    <tr>\n",
       "      <th>2165315</th>\n",
       "      <td>1.287812e+10</td>\n",
       "      <td>586</td>\n",
       "    </tr>\n",
       "    <tr>\n",
       "      <th>2172742</th>\n",
       "      <td>1.347814e+10</td>\n",
       "      <td>557</td>\n",
       "    </tr>\n",
       "    <tr>\n",
       "      <th>2165889</th>\n",
       "      <td>1.296135e+10</td>\n",
       "      <td>526</td>\n",
       "    </tr>\n",
       "    <tr>\n",
       "      <th>1603569</th>\n",
       "      <td>5.515448e+09</td>\n",
       "      <td>450</td>\n",
       "    </tr>\n",
       "    <tr>\n",
       "      <th>1222351</th>\n",
       "      <td>2.243212e+09</td>\n",
       "      <td>450</td>\n",
       "    </tr>\n",
       "    <tr>\n",
       "      <th>1525258</th>\n",
       "      <td>4.575459e+09</td>\n",
       "      <td>384</td>\n",
       "    </tr>\n",
       "    <tr>\n",
       "      <th>74789</th>\n",
       "      <td>1.029414e+07</td>\n",
       "      <td>362</td>\n",
       "    </tr>\n",
       "    <tr>\n",
       "      <th>514565</th>\n",
       "      <td>2.682094e+08</td>\n",
       "      <td>357</td>\n",
       "    </tr>\n",
       "    <tr>\n",
       "      <th>160715</th>\n",
       "      <td>2.365051e+07</td>\n",
       "      <td>345</td>\n",
       "    </tr>\n",
       "  </tbody>\n",
       "</table>\n",
       "</div>"
      ],
      "text/plain": [
       "           profile_id  number_of_posts\n",
       "1588423  5.421037e+09              599\n",
       "2165315  1.287812e+10              586\n",
       "2172742  1.347814e+10              557\n",
       "2165889  1.296135e+10              526\n",
       "1603569  5.515448e+09              450\n",
       "1222351  2.243212e+09              450\n",
       "1525258  4.575459e+09              384\n",
       "74789    1.029414e+07              362\n",
       "514565   2.682094e+08              357\n",
       "160715   2.365051e+07              345"
      ]
     },
     "execution_count": 74,
     "metadata": {},
     "output_type": "execute_result"
    }
   ],
   "source": [
    "unique_ids ,number_of_posts = np.unique(df_posts_RQ4.profile_id.values, return_counts=True)\n",
    "post_per_profile = pd.DataFrame({'profile_id': unique_ids, 'number_of_posts': number_of_posts})\n",
    "sorted_posters = post_per_profile.sort_values(by = 'number_of_posts' , ascending = False)\n",
    "sorted_posters.head(10)"
   ]
  },
  {
   "cell_type": "markdown",
   "id": "83754954-f607-43f6-9316-2ae3f3d5ce86",
   "metadata": {},
   "source": [
    "* This function takes as an <b>input</b>: an integer <i>n</i> , which specifies the queried <b>top n most frequent posters</b>, and the <b>sorted array</b> of profile_ids <b>by their number of posts made</b>. It returns as an <b>output</b> a list of arrays containing the post_id of the top n more frequent posters (as we use the previously coded </i>posts()</i> function)."
   ]
  },
  {
   "cell_type": "code",
   "execution_count": 54,
   "id": "b5959a27-9b09-436b-a1f5-64cf74f8c4e9",
   "metadata": {},
   "outputs": [],
   "source": [
    "def top_n_post(n,data = sorted_posters.profile_id.values):\n",
    "    return [posts(i) for i in data[0:n]] "
   ]
  },
  {
   "cell_type": "markdown",
   "id": "d80f35a3-e643-43cc-86c7-3164b19434bb",
   "metadata": {},
   "source": [
    "<b>4.3</b> What is the average number of \"likes\" and comments of the top 10 profiles with the highest number of posts which their information is available in profile.csv?<br>"
   ]
  },
  {
   "cell_type": "markdown",
   "id": "75e4a7e4-69e3-4b38-9cfc-b3b49186e745",
   "metadata": {},
   "source": [
    "* We first create a new dataframe by merging the top 10 ids with their associated data in profiles.csv, but we remove <i>post_id</i> and <i>cts</i> columns as they are not needed now."
   ]
  },
  {
   "cell_type": "code",
   "execution_count": 39,
   "id": "f702b60a-f344-4963-9e8e-cf453f666ba3",
   "metadata": {},
   "outputs": [],
   "source": [
    "profile_ids_likes_comments = pd.merge(sorted_posters[[\"profile_id\"]].head(10), df_posts_RQ4df_posts_RQ4, on= 'profile_id')\n",
    "profile_ids_likes_comments.drop(['post_id', 'cts'], axis=1 , inplace = True)"
   ]
  },
  {
   "cell_type": "markdown",
   "id": "404b091e-3cc6-4928-811a-0c13623dc0e5",
   "metadata": {},
   "source": [
    "* Then, we group this new dataframe by <i>profile_id</i> and aggregate the mean values of both comments and likes for each user. Then we compute the overall mean over both columns in a call to print."
   ]
  },
  {
   "cell_type": "code",
   "execution_count": 68,
   "id": "527346b6-544b-4927-bb44-2b26948778fc",
   "metadata": {},
   "outputs": [
    {
     "name": "stdout",
     "output_type": "stream",
     "text": [
      "The average number of likes of the top 10 profiles with the highest number of posts is 600.1 likes, and their average number of comments is 16.63 . The dataframe below shows their individual average data:\n"
     ]
    },
    {
     "data": {
      "text/html": [
       "<div>\n",
       "<style scoped>\n",
       "    .dataframe tbody tr th:only-of-type {\n",
       "        vertical-align: middle;\n",
       "    }\n",
       "\n",
       "    .dataframe tbody tr th {\n",
       "        vertical-align: top;\n",
       "    }\n",
       "\n",
       "    .dataframe thead th {\n",
       "        text-align: right;\n",
       "    }\n",
       "</style>\n",
       "<table border=\"1\" class=\"dataframe\">\n",
       "  <thead>\n",
       "    <tr style=\"text-align: right;\">\n",
       "      <th></th>\n",
       "      <th>numbr_likes</th>\n",
       "      <th>number_comments</th>\n",
       "    </tr>\n",
       "    <tr>\n",
       "      <th>profile_id</th>\n",
       "      <th></th>\n",
       "      <th></th>\n",
       "    </tr>\n",
       "  </thead>\n",
       "  <tbody>\n",
       "    <tr>\n",
       "      <th>1.029414e+07</th>\n",
       "      <td>3138.977901</td>\n",
       "      <td>111.060773</td>\n",
       "    </tr>\n",
       "    <tr>\n",
       "      <th>2.365051e+07</th>\n",
       "      <td>247.023188</td>\n",
       "      <td>7.959420</td>\n",
       "    </tr>\n",
       "    <tr>\n",
       "      <th>2.682094e+08</th>\n",
       "      <td>1931.731092</td>\n",
       "      <td>31.114846</td>\n",
       "    </tr>\n",
       "    <tr>\n",
       "      <th>2.243212e+09</th>\n",
       "      <td>636.502222</td>\n",
       "      <td>15.488889</td>\n",
       "    </tr>\n",
       "    <tr>\n",
       "      <th>4.575459e+09</th>\n",
       "      <td>19.434896</td>\n",
       "      <td>0.018229</td>\n",
       "    </tr>\n",
       "    <tr>\n",
       "      <th>5.421037e+09</th>\n",
       "      <td>10.373957</td>\n",
       "      <td>0.263773</td>\n",
       "    </tr>\n",
       "    <tr>\n",
       "      <th>5.515448e+09</th>\n",
       "      <td>8.173333</td>\n",
       "      <td>0.073333</td>\n",
       "    </tr>\n",
       "    <tr>\n",
       "      <th>1.287812e+10</th>\n",
       "      <td>2.174061</td>\n",
       "      <td>0.114334</td>\n",
       "    </tr>\n",
       "    <tr>\n",
       "      <th>1.296135e+10</th>\n",
       "      <td>3.091255</td>\n",
       "      <td>0.098859</td>\n",
       "    </tr>\n",
       "    <tr>\n",
       "      <th>1.347814e+10</th>\n",
       "      <td>3.567325</td>\n",
       "      <td>0.147217</td>\n",
       "    </tr>\n",
       "  </tbody>\n",
       "</table>\n",
       "</div>"
      ],
      "text/plain": [
       "              numbr_likes  number_comments\n",
       "profile_id                                \n",
       "1.029414e+07  3138.977901       111.060773\n",
       "2.365051e+07   247.023188         7.959420\n",
       "2.682094e+08  1931.731092        31.114846\n",
       "2.243212e+09   636.502222        15.488889\n",
       "4.575459e+09    19.434896         0.018229\n",
       "5.421037e+09    10.373957         0.263773\n",
       "5.515448e+09     8.173333         0.073333\n",
       "1.287812e+10     2.174061         0.114334\n",
       "1.296135e+10     3.091255         0.098859\n",
       "1.347814e+10     3.567325         0.147217"
      ]
     },
     "execution_count": 68,
     "metadata": {},
     "output_type": "execute_result"
    }
   ],
   "source": [
    "top_average_likes_comments = profile_ids_likes_comments.groupby(\"profile_id\").aggregate(\"mean\")\n",
    "print(\"The average number of likes of the top 10 profiles with the highest number of posts is\", \n",
    "round(top_average_likes_comments.numbr_likes.mean(),2), \"likes, and their average number of comments is\",\n",
    "round(top_average_likes_comments.number_comments.mean(),2),\". The dataframe below shows their individual average data:\")\n",
    "top_average_likes_comments"
   ]
  },
  {
   "cell_type": "markdown",
   "id": "f85cad3d-c341-46b0-ac64-0fa32463c2bf",
   "metadata": {},
   "source": [
    "<b>4.4</b> Plot the number of posts that these top 10 profiles have sent on Instagram in the given interval in question RQ3. Interpret the resulting chart."
   ]
  },
  {
   "cell_type": "markdown",
   "id": "1f8173e5-a7d6-4442-932b-f0ec20bfea88",
   "metadata": {},
   "source": [
    "* We first add an <i>hour</i> column to the posts.csv based on the <i>cts</i> column.\n",
    "* Then we create a new data set that includes only the top 10 highest posters and their hours of posting."
   ]
  },
  {
   "cell_type": "code",
   "execution_count": 88,
   "id": "988de8ba-8588-4228-a17d-01fce56f2c05",
   "metadata": {},
   "outputs": [
    {
     "data": {
      "text/html": [
       "<div>\n",
       "<style scoped>\n",
       "    .dataframe tbody tr th:only-of-type {\n",
       "        vertical-align: middle;\n",
       "    }\n",
       "\n",
       "    .dataframe tbody tr th {\n",
       "        vertical-align: top;\n",
       "    }\n",
       "\n",
       "    .dataframe thead th {\n",
       "        text-align: right;\n",
       "    }\n",
       "</style>\n",
       "<table border=\"1\" class=\"dataframe\">\n",
       "  <thead>\n",
       "    <tr style=\"text-align: right;\">\n",
       "      <th></th>\n",
       "      <th>profile_id</th>\n",
       "      <th>hour</th>\n",
       "    </tr>\n",
       "  </thead>\n",
       "  <tbody>\n",
       "    <tr>\n",
       "      <th>7436</th>\n",
       "      <td>4.575459e+09</td>\n",
       "      <td>9</td>\n",
       "    </tr>\n",
       "    <tr>\n",
       "      <th>28906</th>\n",
       "      <td>2.243212e+09</td>\n",
       "      <td>13</td>\n",
       "    </tr>\n",
       "    <tr>\n",
       "      <th>40126</th>\n",
       "      <td>1.029414e+07</td>\n",
       "      <td>22</td>\n",
       "    </tr>\n",
       "    <tr>\n",
       "      <th>40171</th>\n",
       "      <td>1.029414e+07</td>\n",
       "      <td>22</td>\n",
       "    </tr>\n",
       "    <tr>\n",
       "      <th>40603</th>\n",
       "      <td>2.682094e+08</td>\n",
       "      <td>21</td>\n",
       "    </tr>\n",
       "    <tr>\n",
       "      <th>...</th>\n",
       "      <td>...</td>\n",
       "      <td>...</td>\n",
       "    </tr>\n",
       "    <tr>\n",
       "      <th>42638925</th>\n",
       "      <td>5.515448e+09</td>\n",
       "      <td>7</td>\n",
       "    </tr>\n",
       "    <tr>\n",
       "      <th>42653456</th>\n",
       "      <td>2.243212e+09</td>\n",
       "      <td>15</td>\n",
       "    </tr>\n",
       "    <tr>\n",
       "      <th>42658112</th>\n",
       "      <td>1.296135e+10</td>\n",
       "      <td>10</td>\n",
       "    </tr>\n",
       "    <tr>\n",
       "      <th>42669635</th>\n",
       "      <td>2.365051e+07</td>\n",
       "      <td>14</td>\n",
       "    </tr>\n",
       "    <tr>\n",
       "      <th>42702009</th>\n",
       "      <td>1.029414e+07</td>\n",
       "      <td>1</td>\n",
       "    </tr>\n",
       "  </tbody>\n",
       "</table>\n",
       "<p>4616 rows × 2 columns</p>\n",
       "</div>"
      ],
      "text/plain": [
       "            profile_id  hour\n",
       "7436      4.575459e+09     9\n",
       "28906     2.243212e+09    13\n",
       "40126     1.029414e+07    22\n",
       "40171     1.029414e+07    22\n",
       "40603     2.682094e+08    21\n",
       "...                ...   ...\n",
       "42638925  5.515448e+09     7\n",
       "42653456  2.243212e+09    15\n",
       "42658112  1.296135e+10    10\n",
       "42669635  2.365051e+07    14\n",
       "42702009  1.029414e+07     1\n",
       "\n",
       "[4616 rows x 2 columns]"
      ]
     },
     "execution_count": 88,
     "metadata": {},
     "output_type": "execute_result"
    }
   ],
   "source": [
    "warnings.filterwarnings(\"ignore\")\n",
    "df_posts_RQ4[\"hour\"] = pd.DatetimeIndex(df_posts_RQ4['cts']).hour\n",
    "times_top_users = df_posts_RQ4[df_posts_RQ4.profile_id.isin(top_average_likes_comments.index)]\n",
    "times_top_users.drop(['post_id', 'cts','numbr_likes','number_comments'], axis=1 , inplace = True)\n",
    "times_top_users"
   ]
  },
  {
   "cell_type": "markdown",
   "id": "ed6ee513-793f-43ed-bf24-5d278b6484db",
   "metadata": {},
   "source": [
    "* Finally, we leverage the function created in RQ.3 for plotting the posting times of the 10 top users.\n",
    "* As we can observe in the chart, it is clear that the slot with the highest amount of posts is between 20h and 23h, which intuitevely makes sense, as within these hours people are usually not at work or school anymore, but rather enjoying their free time. On the counterpart, the intervals with less posts are between 0h and 5h, which obviously is when people are already sleeping. "
   ]
  },
  {
   "cell_type": "code",
   "execution_count": 95,
   "id": "3720e974-358c-4e0b-9775-b59ad5e1b8e2",
   "metadata": {},
   "outputs": [
    {
     "name": "stdout",
     "output_type": "stream",
     "text": [
      "The total number of posts of the top 10 \"posters\"  for each given interval\n"
     ]
    },
    {
     "data": {
      "image/png": "[encoded data removed]",
      "text/plain": [
       "<Figure size 432x288 with 1 Axes>"
      ]
     },
     "metadata": {
      "needs_background": "light"
     },
     "output_type": "display_data"
    }
   ],
   "source": [
    "slots = [(6, 10), (11, 13), (14, 16), (17, 19), (20, 23), (0, 2), (3, 5)]\n",
    "time_intervals(times_top_users, times_top_users.hour, slots , \"\"\"posts of the top 10 \"posters\" \"\"\")"
   ]
  },
  
  {
   "cell_type": "markdown",
   "id": "21a25489",
   "metadata": {},
   "source": [
    "### <b>[RQ5]</b> The most influential users are the ones with the highest number of “followers\", you can now look more into their activity."
   ]
  },
  {
   "cell_type": "markdown",
   "id": "5568b47b",
   "metadata": {},
   "source": [
    "\n",
    "<b>5.1</b> Plot the top 10 most popular users in terms of followers and their number of posts.\n"
   ]
  },
  {
   "cell_type": "code",
   "execution_count": 35,
   "id": "d51ec73c",
   "metadata": {},
   "outputs": [],
   "source": [
    "# posts dataset\n",
    "fields=['profile_id','location_id','post_type','numbr_likes','number_comments']\n",
    "df_instagram_posts_RQ5=pd.read_csv('~/instagram_posts.csv',sep='\\t',usecols=fields)"
   ]
  },
  {
   "cell_type": "code",
   "execution_count": 36,
   "id": "8ed5dd03",
   "metadata": {},
   "outputs": [],
   "source": [
    "#profiles dataset\n",
    "df_instagram_profiles_RQ5 = pd.read_csv('https://adm2022.s3.amazonaws.com/instagram_profiles.zip', delimiter='\\t')"
   ]
  },
  {
   "cell_type": "code",
   "execution_count": 37,
   "id": "744a5a24",
   "metadata": {},
   "outputs": [],
   "source": [
    "#locations dataset\n",
    "df_instagram_locations_RQ5 = pd.read_csv('https://adm2022.s3.amazonaws.com/instagram_locations.zip', delimiter='\\t')"
   ]
  },
  {
   "cell_type": "markdown",
   "id": "56255b56",
   "metadata": {},
   "source": [
    "* We start by extracting the top 10 most followed accounts"
   ]
  },
  {
   "cell_type": "code",
   "execution_count": 38,
   "id": "abc26251",
   "metadata": {},
   "outputs": [
    {
     "data": {
      "text/plain": [
       "2880218    285457645.0\n",
       "2582507     65269440.0\n",
       "3820939     35339708.0\n",
       "701965      30689316.0\n",
       "2414951     30246783.0\n",
       "2785241     29542143.0\n",
       "333193      29176804.0\n",
       "3934581     29042823.0\n",
       "1311970     26476004.0\n",
       "1703764     26252169.0\n",
       "Name: followers, dtype: float64"
      ]
     },
     "execution_count": 38,
     "metadata": {},
     "output_type": "execute_result"
    }
   ],
   "source": [
    "followers=df_instagram_profiles_RQ5['followers']\n",
    "followers.nlargest(10)"
   ]
  },
  {
   "cell_type": "markdown",
   "id": "80d840fa",
   "metadata": {},
   "source": [
    "* We show the dataset of the top 10 most influential users"
   ]
  },
  {
   "cell_type": "code",
   "execution_count": 39,
   "id": "faf988db",
   "metadata": {},
   "outputs": [
    {
     "data": {
      "text/html": [
       "<div>\n",
       "<style scoped>\n",
       "    .dataframe tbody tr th:only-of-type {\n",
       "        vertical-align: middle;\n",
       "    }\n",
       "\n",
       "    .dataframe tbody tr th {\n",
       "        vertical-align: top;\n",
       "    }\n",
       "\n",
       "    .dataframe thead th {\n",
       "        text-align: right;\n",
       "    }\n",
       "</style>\n",
       "<table border=\"1\" class=\"dataframe\">\n",
       "  <thead>\n",
       "    <tr style=\"text-align: right;\">\n",
       "      <th></th>\n",
       "      <th>sid</th>\n",
       "      <th>profile_id</th>\n",
       "      <th>profile_name</th>\n",
       "      <th>firstname_lastname</th>\n",
       "      <th>description</th>\n",
       "      <th>following</th>\n",
       "      <th>followers</th>\n",
       "      <th>n_posts</th>\n",
       "      <th>url</th>\n",
       "      <th>cts</th>\n",
       "      <th>is_business_account</th>\n",
       "    </tr>\n",
       "  </thead>\n",
       "  <tbody>\n",
       "    <tr>\n",
       "      <th>2880218</th>\n",
       "      <td>336492</td>\n",
       "      <td>2.502532e+07</td>\n",
       "      <td>instagram</td>\n",
       "      <td>Instagram</td>\n",
       "      <td>Bringing you closer to the people and things y...</td>\n",
       "      <td>226.0</td>\n",
       "      <td>285457645.0</td>\n",
       "      <td>5760.0</td>\n",
       "      <td>help.instagram.com</td>\n",
       "      <td>NaN</td>\n",
       "      <td>False</td>\n",
       "    </tr>\n",
       "    <tr>\n",
       "      <th>2582507</th>\n",
       "      <td>371414</td>\n",
       "      <td>3.416684e+06</td>\n",
       "      <td>victoriassecret</td>\n",
       "      <td>Victoria's Secret</td>\n",
       "      <td>Confidence is sexy. #wearitdaily</td>\n",
       "      <td>549.0</td>\n",
       "      <td>65269440.0</td>\n",
       "      <td>7355.0</td>\n",
       "      <td>like2b.uy/victoriassecret</td>\n",
       "      <td>NaN</td>\n",
       "      <td>True</td>\n",
       "    </tr>\n",
       "    <tr>\n",
       "      <th>3820939</th>\n",
       "      <td>337097</td>\n",
       "      <td>2.082449e+07</td>\n",
       "      <td>nba</td>\n",
       "      <td>NBA</td>\n",
       "      <td>30 teams, 1 🏆\\n👟: @nbakicks \\n📽: @nbahistory \\...</td>\n",
       "      <td>817.0</td>\n",
       "      <td>35339708.0</td>\n",
       "      <td>28816.0</td>\n",
       "      <td>nba.app.link/js6X7SVaxT</td>\n",
       "      <td>NaN</td>\n",
       "      <td>True</td>\n",
       "    </tr>\n",
       "    <tr>\n",
       "      <th>701965</th>\n",
       "      <td>330376</td>\n",
       "      <td>1.876191e+08</td>\n",
       "      <td>louisvuitton</td>\n",
       "      <td>Louis Vuitton Official</td>\n",
       "      <td>The official Instagram account of Louis Vuitton.</td>\n",
       "      <td>5.0</td>\n",
       "      <td>30689316.0</td>\n",
       "      <td>3352.0</td>\n",
       "      <td>on.louisvuitton.com/Like2Buy</td>\n",
       "      <td>NaN</td>\n",
       "      <td>True</td>\n",
       "    </tr>\n",
       "    <tr>\n",
       "      <th>2414951</th>\n",
       "      <td>292359</td>\n",
       "      <td>2.125507e+09</td>\n",
       "      <td>buzzfeedtasty</td>\n",
       "      <td>Tasty</td>\n",
       "      <td>Recipes that will make you say \"oh yes!\"\\n👇 Cl...</td>\n",
       "      <td>298.0</td>\n",
       "      <td>30246783.0</td>\n",
       "      <td>2791.0</td>\n",
       "      <td>tasty.co/linkinbio</td>\n",
       "      <td>NaN</td>\n",
       "      <td>True</td>\n",
       "    </tr>\n",
       "    <tr>\n",
       "      <th>2785241</th>\n",
       "      <td>3437294</td>\n",
       "      <td>4.968651e+08</td>\n",
       "      <td>andresiniesta8</td>\n",
       "      <td>Andres Iniesta</td>\n",
       "      <td>Andres Iniesta Official Instagram Account, \\nB...</td>\n",
       "      <td>151.0</td>\n",
       "      <td>29542143.0</td>\n",
       "      <td>990.0</td>\n",
       "      <td>mikakus.com</td>\n",
       "      <td>2019-05-08 23:54:35.377 -0400</td>\n",
       "      <td>False</td>\n",
       "    </tr>\n",
       "    <tr>\n",
       "      <th>333193</th>\n",
       "      <td>158690</td>\n",
       "      <td>2.341008e+07</td>\n",
       "      <td>hm</td>\n",
       "      <td>H&amp;M</td>\n",
       "      <td>Welcome to #HM! Follow us at @HM_Man @HM_Kids ...</td>\n",
       "      <td>403.0</td>\n",
       "      <td>29176804.0</td>\n",
       "      <td>4566.0</td>\n",
       "      <td>hm.info/1c9he</td>\n",
       "      <td>2018-05-31 19:33:46.022 -0400</td>\n",
       "      <td>True</td>\n",
       "    </tr>\n",
       "    <tr>\n",
       "      <th>3934581</th>\n",
       "      <td>3615154</td>\n",
       "      <td>2.423993e+07</td>\n",
       "      <td>princessyahrini</td>\n",
       "      <td>Syahrini</td>\n",
       "      <td>NaN</td>\n",
       "      <td>835.0</td>\n",
       "      <td>29042823.0</td>\n",
       "      <td>4719.0</td>\n",
       "      <td>www.youtube.com/c/ThePrincesSyahrini</td>\n",
       "      <td>2019-06-26 15:05:53.411 -0400</td>\n",
       "      <td>True</td>\n",
       "    </tr>\n",
       "    <tr>\n",
       "      <th>1311970</th>\n",
       "      <td>508140</td>\n",
       "      <td>5.041706e+07</td>\n",
       "      <td>danbilzerian</td>\n",
       "      <td>Dan Bilzerian</td>\n",
       "      <td>Snapchat: dbilzerian</td>\n",
       "      <td>252.0</td>\n",
       "      <td>26476004.0</td>\n",
       "      <td>1311.0</td>\n",
       "      <td>www.ignite.co</td>\n",
       "      <td>NaN</td>\n",
       "      <td>True</td>\n",
       "    </tr>\n",
       "    <tr>\n",
       "      <th>1703764</th>\n",
       "      <td>3513205</td>\n",
       "      <td>9.070254e+08</td>\n",
       "      <td>akshaykumar</td>\n",
       "      <td>Akshay Kumar</td>\n",
       "      <td>#AkshayKumar</td>\n",
       "      <td>5.0</td>\n",
       "      <td>26252169.0</td>\n",
       "      <td>1173.0</td>\n",
       "      <td>bit.ly/AliAliBlank</td>\n",
       "      <td>2019-05-14 08:29:29.754 -0400</td>\n",
       "      <td>False</td>\n",
       "    </tr>\n",
       "  </tbody>\n",
       "</table>\n",
       "</div>"
      ],
      "text/plain": [
       "             sid    profile_id     profile_name      firstname_lastname  \\\n",
       "2880218   336492  2.502532e+07        instagram               Instagram   \n",
       "2582507   371414  3.416684e+06  victoriassecret       Victoria's Secret   \n",
       "3820939   337097  2.082449e+07              nba                     NBA   \n",
       "701965    330376  1.876191e+08     louisvuitton  Louis Vuitton Official   \n",
       "2414951   292359  2.125507e+09    buzzfeedtasty                   Tasty   \n",
       "2785241  3437294  4.968651e+08   andresiniesta8          Andres Iniesta   \n",
       "333193    158690  2.341008e+07               hm                     H&M   \n",
       "3934581  3615154  2.423993e+07  princessyahrini                Syahrini   \n",
       "1311970   508140  5.041706e+07     danbilzerian           Dan Bilzerian   \n",
       "1703764  3513205  9.070254e+08      akshaykumar            Akshay Kumar   \n",
       "\n",
       "                                               description  following  \\\n",
       "2880218  Bringing you closer to the people and things y...      226.0   \n",
       "2582507                   Confidence is sexy. #wearitdaily      549.0   \n",
       "3820939  30 teams, 1 🏆\\n👟: @nbakicks \\n📽: @nbahistory \\...      817.0   \n",
       "701965    The official Instagram account of Louis Vuitton.        5.0   \n",
       "2414951  Recipes that will make you say \"oh yes!\"\\n👇 Cl...      298.0   \n",
       "2785241  Andres Iniesta Official Instagram Account, \\nB...      151.0   \n",
       "333193   Welcome to #HM! Follow us at @HM_Man @HM_Kids ...      403.0   \n",
       "3934581                                                NaN      835.0   \n",
       "1311970                               Snapchat: dbilzerian      252.0   \n",
       "1703764                                       #AkshayKumar        5.0   \n",
       "\n",
       "           followers  n_posts                                   url  \\\n",
       "2880218  285457645.0   5760.0                    help.instagram.com   \n",
       "2582507   65269440.0   7355.0             like2b.uy/victoriassecret   \n",
       "3820939   35339708.0  28816.0               nba.app.link/js6X7SVaxT   \n",
       "701965    30689316.0   3352.0          on.louisvuitton.com/Like2Buy   \n",
       "2414951   30246783.0   2791.0                    tasty.co/linkinbio   \n",
       "2785241   29542143.0    990.0                           mikakus.com   \n",
       "333193    29176804.0   4566.0                         hm.info/1c9he   \n",
       "3934581   29042823.0   4719.0  www.youtube.com/c/ThePrincesSyahrini   \n",
       "1311970   26476004.0   1311.0                         www.ignite.co   \n",
       "1703764   26252169.0   1173.0                    bit.ly/AliAliBlank   \n",
       "\n",
       "                                   cts is_business_account  \n",
       "2880218                            NaN               False  \n",
       "2582507                            NaN                True  \n",
       "3820939                            NaN                True  \n",
       "701965                             NaN                True  \n",
       "2414951                            NaN                True  \n",
       "2785241  2019-05-08 23:54:35.377 -0400               False  \n",
       "333193   2018-05-31 19:33:46.022 -0400                True  \n",
       "3934581  2019-06-26 15:05:53.411 -0400                True  \n",
       "1311970                            NaN                True  \n",
       "1703764  2019-05-14 08:29:29.754 -0400               False  "
      ]
     },
     "execution_count": 39,
     "metadata": {},
     "output_type": "execute_result"
    }
   ],
   "source": [
    "#top10 profiles by followers\n",
    "top10=df_instagram_profiles_RQ5[df_instagram_profiles_RQ5.followers >= 26252169.0]\n",
    "top10.sort_values(['followers'],ascending=False)"
   ]
  },
  {
   "cell_type": "markdown",
   "id": "0543f797",
   "metadata": {},
   "source": [
    "* We now create a barplot showing the number of followers for each one of the most influential users"
   ]
  },
  {
   "cell_type": "code",
   "execution_count": 40,
   "id": "847ecedd",
   "metadata": {},
   "outputs": [
    {
     "data": {
      "image/png": "[encoded data removed]",
      "text/plain": [
       "<Figure size 432x288 with 1 Axes>"
      ]
     },
     "metadata": {
      "needs_background": "light"
     },
     "output_type": "display_data"
    }
   ],
   "source": [
    "fig = plt.figure()\n",
    "ax = fig.add_axes([0,0,2,2])\n",
    "profiles = list(top10['profile_name'])\n",
    "nfollows = list(top10['followers'])\n",
    "ax.bar(profiles,nfollows,width=1, edgecolor=\"white\", linewidth=5,color='purple')\n",
    "plt.xlabel('Followers',labelpad=10)\n",
    "plt.ylabel('',labelpad=10)\n",
    "plt.title('Count of Followers')\n",
    "plt.show()"
   ]
  },
  {
   "cell_type": "markdown",
   "id": "7699a98e",
   "metadata": {},
   "source": [
    "<b>5.2</b> Who is the most influential user?\n"
   ]
  },
  {
   "cell_type": "code",
   "execution_count": 42,
   "id": "c254ecf4",
   "metadata": {},
   "outputs": [
    {
     "data": {
      "text/html": [
       "<div>\n",
       "<style scoped>\n",
       "    .dataframe tbody tr th:only-of-type {\n",
       "        vertical-align: middle;\n",
       "    }\n",
       "\n",
       "    .dataframe tbody tr th {\n",
       "        vertical-align: top;\n",
       "    }\n",
       "\n",
       "    .dataframe thead th {\n",
       "        text-align: right;\n",
       "    }\n",
       "</style>\n",
       "<table border=\"1\" class=\"dataframe\">\n",
       "  <thead>\n",
       "    <tr style=\"text-align: right;\">\n",
       "      <th></th>\n",
       "      <th>sid</th>\n",
       "      <th>profile_id</th>\n",
       "      <th>profile_name</th>\n",
       "      <th>firstname_lastname</th>\n",
       "      <th>description</th>\n",
       "      <th>following</th>\n",
       "      <th>followers</th>\n",
       "      <th>n_posts</th>\n",
       "      <th>url</th>\n",
       "      <th>cts</th>\n",
       "      <th>is_business_account</th>\n",
       "    </tr>\n",
       "  </thead>\n",
       "  <tbody>\n",
       "    <tr>\n",
       "      <th>2880218</th>\n",
       "      <td>336492</td>\n",
       "      <td>25025320.0</td>\n",
       "      <td>instagram</td>\n",
       "      <td>Instagram</td>\n",
       "      <td>Bringing you closer to the people and things y...</td>\n",
       "      <td>226.0</td>\n",
       "      <td>285457645.0</td>\n",
       "      <td>5760.0</td>\n",
       "      <td>help.instagram.com</td>\n",
       "      <td>NaN</td>\n",
       "      <td>False</td>\n",
       "    </tr>\n",
       "  </tbody>\n",
       "</table>\n",
       "</div>"
      ],
      "text/plain": [
       "            sid  profile_id profile_name firstname_lastname  \\\n",
       "2880218  336492  25025320.0    instagram          Instagram   \n",
       "\n",
       "                                               description  following  \\\n",
       "2880218  Bringing you closer to the people and things y...      226.0   \n",
       "\n",
       "           followers  n_posts                 url  cts is_business_account  \n",
       "2880218  285457645.0   5760.0  help.instagram.com  NaN               False  "
      ]
     },
     "execution_count": 42,
     "metadata": {},
     "output_type": "execute_result"
    }
   ],
   "source": [
    "#most influential user\n",
    "df_instagram_profiles_RQ5[df_instagram_profiles_RQ5.followers == 285457645.0] "
   ]
  },
  {
   "cell_type": "markdown",
   "id": "cb9b51bc",
   "metadata": {},
   "source": [
    "* The most influential user is <b>Instagram\n"
   ]
  },
  {
   "cell_type": "markdown",
   "id": "1c184abe",
   "metadata": {},
   "source": [
    "<b>5.3</b> Have they posted anything with tagged locations? Extract the most frequent areas on their posts and plot the number of times each city has been visited."
   ]
  },
  {
   "cell_type": "markdown",
   "id": "8b3513b7",
   "metadata": {},
   "source": [
    "* We create a dataframe containing all the posts by the top 10 most influential users"
   ]
  },
  {
   "cell_type": "code",
   "execution_count": 44,
   "id": "6bd1671f",
   "metadata": {},
   "outputs": [
    {
     "name": "stdout",
     "output_type": "stream",
     "text": [
      "      profile_id   location_id  post_type  numbr_likes  number_comments\n",
      "0     23410080.0  3.846191e+08          1     116059.0            642.0\n",
      "1     23410080.0  2.293029e+08          1      46368.0             88.0\n",
      "2    187619120.0  5.590714e+06          1     186857.0            867.0\n",
      "3     50417061.0  2.222444e+08          1     266200.0           3290.0\n",
      "4     50417061.0  2.368281e+08          1     268732.0           6402.0\n",
      "..           ...           ...        ...          ...              ...\n",
      "136   24239929.0  2.130118e+08          1      55010.0              0.0\n",
      "137   24239929.0  2.130118e+08          1     114315.0              0.0\n",
      "138   24239929.0  2.130118e+08          1      78974.0              0.0\n",
      "139   24239929.0  1.906910e+15          1     132116.0              0.0\n",
      "140   24239929.0  1.906910e+15          1      66185.0              0.0\n",
      "\n",
      "[141 rows x 5 columns]\n"
     ]
    }
   ],
   "source": [
    "top10_posts=pd.DataFrame(columns=['profile_id'])\n",
    "for i in [23410080.0,187619120.0,50417061.0,907025384.0,2125506698.0,3416684.0,496865116.0,25025320.0,20824486.0,24239929.0]:\n",
    "    x=df_instagram_posts_RQ5[df_instagram_posts_RQ5['profile_id']==int(i)]\n",
    "    top10_posts=pd.merge(top10_posts,x,how='outer')\n",
    "print(top10_posts)"
   ]
  },
  {
   "cell_type": "markdown",
   "id": "509de840",
   "metadata": {},
   "source": [
    "* We extract the location_id of each post by top10_posts, then we create a list containing the output.\n",
    "* We then procede to create top10_loc, a dataframe containing all the locations tagged by the top10 users"
   ]
  },
  {
   "cell_type": "code",
   "execution_count": 46,
   "id": "cbb915ee",
   "metadata": {},
   "outputs": [
    {
     "data": {
      "text/plain": [
       "0             384619115.000000\n",
       "1             229302869.000000\n",
       "2               5590714.000000\n",
       "3             222244450.000000\n",
       "4             236828105.000000\n",
       "                ...           \n",
       "136           213011753.000000\n",
       "137           213011753.000000\n",
       "138           213011753.000000\n",
       "139    1906910439594849.000000\n",
       "140    1906910439594849.000000\n",
       "Name: location_id, Length: 141, dtype: object"
      ]
     },
     "execution_count": 46,
     "metadata": {},
     "output_type": "execute_result"
    }
   ],
   "source": [
    "loc_id= top10_posts['location_id']\n",
    "loc_id.apply(lambda x: format(x, 'f'))"
   ]
  },
  {
   "cell_type": "code",
   "execution_count": 51,
   "id": "9074dc6a",
   "metadata": {},
   "outputs": [],
   "source": [
    "cc=[i for i in loc_id]\n",
    "top10_loc=pd.DataFrame(columns=['sid','name','city'])\n",
    "\n",
    "\n",
    "#dataframe containing all the locations tagged by the top10 users\n",
    "\n",
    "for i in range(len(df_instagram_locations_RQ5)):\n",
    "    if df_instagram_locations_RQ5['id'][i] in cc:\n",
    "        x=df_instagram_locations_RQ5[df_instagram_locations_RQ5.id == df_instagram_locations_RQ5['id'][i]]\n",
    "        top10_loc=pd.merge(top10_loc,x,how='outer')"
   ]
  },
  {
   "cell_type": "markdown",
   "id": "d9557518",
   "metadata": {},
   "source": [
    "* We now print the locations visited by the top 10 accounts and we group them by city, then we count how many times wach city was visited."
   ]
  },
  {
   "cell_type": "code",
   "execution_count": 52,
   "id": "2ea27e80",
   "metadata": {},
   "outputs": [],
   "source": [
    "top10_loc_groups=top10_loc.groupby(['city'])['city'].count()"
   ]
  },
  {
   "cell_type": "code",
   "execution_count": 53,
   "id": "ea134f8e",
   "metadata": {},
   "outputs": [
    {
     "data": {
      "text/plain": [
       "city\n",
       "Adelaide, South Australia    1\n",
       "Akron, Ohio                  1\n",
       "Amphoe Pak Chong             1\n",
       "Amsterdam, Netherlands       3\n",
       "Bad Urach                    1\n",
       "                            ..\n",
       "Vail, Colorado               1\n",
       "Vaitape, French Polynesia    1\n",
       "Valencia                     1\n",
       "Valley Park, Missouri        1\n",
       "Xiandu, Zhejiang, China      1\n",
       "Name: city, Length: 63, dtype: int64"
      ]
     },
     "execution_count": 53,
     "metadata": {},
     "output_type": "execute_result"
    }
   ],
   "source": [
    "top10_loc_groups"
   ]
  },
  {
   "cell_type": "markdown",
   "id": "6a467d57",
   "metadata": {},
   "source": [
    "* In the following plot we can observe the number of times each city has been tagged by one of the top 10 most influential users of Instagram;\n",
    "Only the cities visited more than one time are plotted."
   ]
  },
  {
   "cell_type": "code",
   "execution_count": 52,
   "id": "a43b46ec",
   "metadata": {},
   "outputs": [],
   "source": [
    "freq=list(acg)\n",
    "dd=[]\n",
    "for i in freq:\n",
    "    if i != 1:\n",
    "        dd.append(i)\n",
    "city=['Amsterdam, Netherlands','Houston, Texas','Las Vegas, Nevada','London, United Kingdom','Los Angeles, California ','New York, New York','Shanghai, China','Singapore']"
   ]
  },
  {
   "cell_type": "code",
   "execution_count": 53,
   "id": "dfbf61ef",
   "metadata": {},
   "outputs": [
    {
     "data": {
      "image/png": "[encoded data removed]",
      "text/plain": [
       "<Figure size 432x288 with 1 Axes>"
      ]
     },
     "metadata": {
      "needs_background": "light"
     },
     "output_type": "display_data"
    }
   ],
   "source": [
    "fig = plt.figure()\n",
    "ax = fig.add_axes([0,0,2.5,2])\n",
    "ax.bar(city,dd,width=1, edgecolor=\"white\", linewidth=5,color='purple')\n",
    "plt.xlabel('city',labelpad=10)\n",
    "plt.ylabel('count',labelpad=10)\n",
    "plt.title('Most tagged cities')\n",
    "plt.show()"
   ]
  },
  {
   "cell_type": "markdown",
   "id": "3467382f",
   "metadata": {},
   "source": [
    "* The most tagged location by top 10 most influential users is <b>New York</b>, which has been visited 9 times, followed by Los Angeles and Singapore with 4 visits, then Amsterdam,\n",
    "Houston and London 3 times, and finally Las Vegas and Shangai 2 times.\n",
    "\n",
    "All the other cities have been visited only once"
   ]
  },
  {
   "cell_type": "markdown",
   "id": "3fe0e01c",
   "metadata": {},
   "source": [
    "<b>5.4.1</b> How many pictures-only posts have they published? How many reels? (only videos) and how many with both contents?"
   ]
  },
  {
   "cell_type": "markdown",
   "id": "51b1d8af",
   "metadata": {},
   "source": [
    "* After applying the 'groupby' function to the dataframe containing the most influential users, we notice that we have 141 posts made by them in our posts dataset; \n",
    "* Of these posts, <b>128 are pictures-only posts</b>, and <b>13 are reel</b> and <b>0 are with both content</b>."
   ]
  },
  {
   "cell_type": "code",
   "execution_count": 53,
   "id": "e3331f64",
   "metadata": {},
   "outputs": [
    {
     "data": {
      "text/plain": [
       "post_type\n",
       "1    128\n",
       "2     13\n",
       "Name: numbr_likes, dtype: int64"
      ]
     },
     "execution_count": 53,
     "metadata": {},
     "output_type": "execute_result"
    }
   ],
   "source": [
    "top10_posts.groupby(['profile_id','post_type'])[\"numbr_likes\"].count()\n",
    "ptype=top10_posts.groupby(['post_type'])[\"numbr_likes\"].count()\n",
    "ptype"
   ]
  },
  {
   "cell_type": "markdown",
   "id": "80d86f35",
   "metadata": {},
   "source": [
    "<b>5.4.2</b> Provide the number as percentages and interpret those figures."
   ]
  },
  {
   "cell_type": "code",
   "execution_count": 54,
   "id": "e79d4526",
   "metadata": {},
   "outputs": [
    {
     "data": {
      "image/png": "[encoded data removed]",
      "text/plain": [
       "<Figure size 432x288 with 1 Axes>"
      ]
     },
     "metadata": {},
     "output_type": "display_data"
    }
   ],
   "source": [
    "pic=128/141\n",
    "reel=13/141\n",
    "pic*100,reel*100\n",
    "\n",
    "labels = 'pics', 'reels'\n",
    "sizes = [128,13]\n",
    "explode = (0, 0.1)  # only \"explode\" the 2nd slice\n",
    "\n",
    "fig1, ax1 = plt.subplots()\n",
    "ax1.pie(sizes, explode=explode, labels=labels, autopct='%1.1f%%',shadow=True, startangle=90)\n",
    "ax1.axis('equal')  # Equal aspect ratio ensures that pie is drawn as a circle.\n",
    "plt.show()"
   ]
  },
  {
   "cell_type": "markdown",
   "id": "bd89064f",
   "metadata": {},
   "source": [
    "* After observing the plot, we can say that pictures-only posts are the vast majority of the total, being <b>90.8%</b>, and reels appear approximately once every 10 posts (<b>9.2%)"
   ]
  },
  {
   "cell_type": "markdown",
   "id": "e124fdb0",
   "metadata": {},
   "source": [
    "<b>5.5</b> How many \"likes\" and comments did posts with only pictures receive? How about videos and mixed posts? Try to provide the average numbers and confront them with their followers amount, explaining what you can say from that comparison."
   ]
  },
  {
   "cell_type": "markdown",
   "id": "3fea3328",
   "metadata": {},
   "source": [
    "* We start by analizing the posts made by the top 10 most influencial users.\n",
    "* When they post a picture, they get on average 541294 likes and 3883 comments, while when they post reels <b>they get on average 266.524.1 likes and 2.019.8 comments</b>.\n",
    "Since we don't have data regarding their mixed posts, we can't say what is the average number of likes and comments for those types of posts."
   ]
  },
  {
   "cell_type": "code",
   "execution_count": 57,
   "id": "f0b07090",
   "metadata": {},
   "outputs": [
    {
     "data": {
      "text/plain": [
       "post_type\n",
       "1    541294.015625\n",
       "2    266524.153846\n",
       "Name: numbr_likes, dtype: float64"
      ]
     },
     "execution_count": 57,
     "metadata": {},
     "output_type": "execute_result"
    }
   ],
   "source": [
    "top10_posts.groupby(['post_type'])[\"numbr_likes\"].mean()"
   ]
  },
  {
   "cell_type": "code",
   "execution_count": 56,
   "id": "984789e4",
   "metadata": {},
   "outputs": [
    {
     "data": {
      "text/plain": [
       "post_type\n",
       "1    3882.914062\n",
       "2    2019.846154\n",
       "Name: number_comments, dtype: float64"
      ]
     },
     "execution_count": 56,
     "metadata": {},
     "output_type": "execute_result"
    }
   ],
   "source": [
    "top10_posts.groupby(['post_type'])[\"number_comments\"].mean()"
   ]
  },
  {
   "cell_type": "markdown",
   "id": "9531481a",
   "metadata": {},
   "source": [
    "* On the other hand, if we analize all the users, with any number of followers, we obviously get smaller outputs for average likes and comments. \n",
    "* The average number of likes <b>for a picture-only post</b>, considering all the posts we can analize, is <b>280.6, while for comments is 390.8 </b>.\n",
    "* <b>For reels, the average likes and comments are 390.8 and 11.2 respectively</b>.\n",
    "* We can now dispose also of <b>the mixed posts data</b>, and we observe that they receive <b>an average of 194.7 likes and 6.7 comments</b>.\n",
    "* The biggest difference between the most influential users and all the users, is that they receive more likes and comments on average on only_pictures post, while regular users receive more likes and comments on average on the reels."
   ]
  },
  {
   "cell_type": "code",
   "execution_count": 59,
   "id": "ac9d3049",
   "metadata": {},
   "outputs": [
    {
     "data": {
      "text/plain": [
       "post_type\n",
       "1    280.659566\n",
       "2    390.781299\n",
       "3    194.758812\n",
       "Name: numbr_likes, dtype: float64"
      ]
     },
     "execution_count": 59,
     "metadata": {},
     "output_type": "execute_result"
    }
   ],
   "source": [
    "df_instagram_posts_RQ5.groupby(['post_type'])[\"numbr_likes\"].mean()"
   ]
  },
  {
   "cell_type": "code",
   "execution_count": 58,
   "id": "140142ee",
   "metadata": {},
   "outputs": [
    {
     "data": {
      "text/plain": [
       "post_type\n",
       "1     7.498260\n",
       "2    11.179689\n",
       "3     6.701434\n",
       "Name: number_comments, dtype: float64"
      ]
     },
     "execution_count": 58,
     "metadata": {},
     "output_type": "execute_result"
    }
   ],
   "source": [
    "df_instagram_posts_RQ5.groupby(['post_type'])[\"number_comments\"].mean()"
   ]
  },
  
  
  
  
  
  
  {
   "cell_type": "markdown",
   "id": "eb668cf0-8c5b-4844-a8f3-a2b9e8c7e95d",
   "metadata": {},
   "source": [
    "### [RQ6] It's time to get information from the user posting effectiveness."
   ]
  },
  {
   "cell_type": "markdown",
   "id": "a2f935d8-7d26-4879-844b-95ca7596e5ad",
   "metadata": {},
   "source": [
    "<b>6.1.1</b> What is the average time (days and minutes) a user lets pass before publishing another post?"
   ]
  },
  {
   "cell_type": "markdown",
   "id": "f8076fc6-7404-4871-919b-8ca8f702eb39",
   "metadata": {},
   "source": [
    "* We grouped the data by \"profile_id\" and also add three new columns: cts max, cts min, and cts count per user. Then, we remove those users who only posted one post, as they are not relevant for our analysis (140.762 users). Finally, we create a new column called mean_time that has the average time between posts for each user."
   ]
  },
  {
   "cell_type": "code",
   "execution_count": 100,
   "id": "87cc830b-fca3-4965-9e43-72183710a7b4",
   "metadata": {},
   "outputs": [
    {
     "data": {
      "text/html": [
       "<div>\n",
       "<style scoped>\n",
       "    .dataframe tbody tr th:only-of-type {\n",
       "        vertical-align: middle;\n",
       "    }\n",
       "\n",
       "    .dataframe tbody tr th {\n",
       "        vertical-align: top;\n",
       "    }\n",
       "\n",
       "    .dataframe thead tr th {\n",
       "        text-align: left;\n",
       "    }\n",
       "\n",
       "    .dataframe thead tr:last-of-type th {\n",
       "        text-align: right;\n",
       "    }\n",
       "</style>\n",
       "<table border=\"1\" class=\"dataframe\">\n",
       "  <thead>\n",
       "    <tr>\n",
       "      <th></th>\n",
       "      <th colspan=\"3\" halign=\"left\">cts</th>\n",
       "      <th>average_time_between_posts</th>\n",
       "    </tr>\n",
       "    <tr>\n",
       "      <th></th>\n",
       "      <th>max</th>\n",
       "      <th>min</th>\n",
       "      <th>count</th>\n",
       "      <th></th>\n",
       "    </tr>\n",
       "    <tr>\n",
       "      <th>profile_id</th>\n",
       "      <th></th>\n",
       "      <th></th>\n",
       "      <th></th>\n",
       "      <th></th>\n",
       "    </tr>\n",
       "  </thead>\n",
       "  <tbody>\n",
       "    <tr>\n",
       "      <th>4.000000e+00</th>\n",
       "      <td>2019-05-05 08:03:36</td>\n",
       "      <td>2010-07-22 12:19:51</td>\n",
       "      <td>37</td>\n",
       "      <td>89 days 03:12:52.916666666</td>\n",
       "    </tr>\n",
       "    <tr>\n",
       "      <th>1.900000e+01</th>\n",
       "      <td>2019-04-17 07:44:13</td>\n",
       "      <td>2010-10-23 18:48:33</td>\n",
       "      <td>51</td>\n",
       "      <td>61 days 22:49:06.800000</td>\n",
       "    </tr>\n",
       "    <tr>\n",
       "      <th>2.800000e+01</th>\n",
       "      <td>2019-04-16 05:10:12</td>\n",
       "      <td>2011-02-19 20:16:29</td>\n",
       "      <td>92</td>\n",
       "      <td>32 days 17:14:26.186813186</td>\n",
       "    </tr>\n",
       "    <tr>\n",
       "      <th>3.300000e+01</th>\n",
       "      <td>2013-03-30 22:35:38</td>\n",
       "      <td>2011-04-30 06:13:46</td>\n",
       "      <td>2</td>\n",
       "      <td>700 days 16:21:52</td>\n",
       "    </tr>\n",
       "    <tr>\n",
       "      <th>3.400000e+01</th>\n",
       "      <td>2019-07-01 20:49:50</td>\n",
       "      <td>2011-07-29 06:24:16</td>\n",
       "      <td>20</td>\n",
       "      <td>152 days 08:20:17.578947368</td>\n",
       "    </tr>\n",
       "    <tr>\n",
       "      <th>...</th>\n",
       "      <td>...</td>\n",
       "      <td>...</td>\n",
       "      <td>...</td>\n",
       "      <td>...</td>\n",
       "    </tr>\n",
       "    <tr>\n",
       "      <th>1.499738e+10</th>\n",
       "      <td>2019-07-11 04:25:20</td>\n",
       "      <td>2019-07-09 03:18:33</td>\n",
       "      <td>12</td>\n",
       "      <td>0 days 04:27:53.363636363</td>\n",
       "    </tr>\n",
       "    <tr>\n",
       "      <th>1.501918e+10</th>\n",
       "      <td>2019-07-21 14:05:34</td>\n",
       "      <td>2019-06-19 13:17:00</td>\n",
       "      <td>5</td>\n",
       "      <td>8 days 00:12:08.500000</td>\n",
       "    </tr>\n",
       "    <tr>\n",
       "      <th>1.523330e+10</th>\n",
       "      <td>2019-06-27 00:11:09</td>\n",
       "      <td>2019-06-26 23:56:47</td>\n",
       "      <td>3</td>\n",
       "      <td>0 days 00:07:11</td>\n",
       "    </tr>\n",
       "    <tr>\n",
       "      <th>1.566695e+10</th>\n",
       "      <td>2019-08-06 01:01:31</td>\n",
       "      <td>2019-07-29 21:36:32</td>\n",
       "      <td>11</td>\n",
       "      <td>0 days 17:08:29.900000</td>\n",
       "    </tr>\n",
       "    <tr>\n",
       "      <th>9.001013e+13</th>\n",
       "      <td>2018-04-04 09:53:28</td>\n",
       "      <td>2017-06-22 10:56:54</td>\n",
       "      <td>10</td>\n",
       "      <td>31 days 18:32:57.111111111</td>\n",
       "    </tr>\n",
       "  </tbody>\n",
       "</table>\n",
       "<p>2033081 rows × 4 columns</p>\n",
       "</div>"
      ],
      "text/plain": [
       "                             cts                            \\\n",
       "                             max                 min count   \n",
       "profile_id                                                   \n",
       "4.000000e+00 2019-05-05 08:03:36 2010-07-22 12:19:51    37   \n",
       "1.900000e+01 2019-04-17 07:44:13 2010-10-23 18:48:33    51   \n",
       "2.800000e+01 2019-04-16 05:10:12 2011-02-19 20:16:29    92   \n",
       "3.300000e+01 2013-03-30 22:35:38 2011-04-30 06:13:46     2   \n",
       "3.400000e+01 2019-07-01 20:49:50 2011-07-29 06:24:16    20   \n",
       "...                          ...                 ...   ...   \n",
       "1.499738e+10 2019-07-11 04:25:20 2019-07-09 03:18:33    12   \n",
       "1.501918e+10 2019-07-21 14:05:34 2019-06-19 13:17:00     5   \n",
       "1.523330e+10 2019-06-27 00:11:09 2019-06-26 23:56:47     3   \n",
       "1.566695e+10 2019-08-06 01:01:31 2019-07-29 21:36:32    11   \n",
       "9.001013e+13 2018-04-04 09:53:28 2017-06-22 10:56:54    10   \n",
       "\n",
       "              average_time_between_posts  \n",
       "                                          \n",
       "profile_id                                \n",
       "4.000000e+00  89 days 03:12:52.916666666  \n",
       "1.900000e+01     61 days 22:49:06.800000  \n",
       "2.800000e+01  32 days 17:14:26.186813186  \n",
       "3.300000e+01           700 days 16:21:52  \n",
       "3.400000e+01 152 days 08:20:17.578947368  \n",
       "...                                  ...  \n",
       "1.499738e+10   0 days 04:27:53.363636363  \n",
       "1.501918e+10      8 days 00:12:08.500000  \n",
       "1.523330e+10             0 days 00:07:11  \n",
       "1.566695e+10      0 days 17:08:29.900000  \n",
       "9.001013e+13  31 days 18:32:57.111111111  \n",
       "\n",
       "[2033081 rows x 4 columns]"
      ]
     },
     "execution_count": 100,
     "metadata": {},
     "output_type": "execute_result"
    }
   ],
   "source": [
    "data_grouped = df_posts_RQ4.groupby(\"profile_id\").aggregate({'cts':[\"max\", \"min\", \"count\"]})\n",
    "data_grouped =  data_grouped[data_grouped.cts[\"count\"] > 1]\n",
    "data_grouped[\"average_time_between_posts\"] = (data_grouped.cts['max'] - data_grouped.cts['min']) / (data_grouped.cts['count']-1)\n",
    "data_grouped"
   ]
  },
  {
   "cell_type": "markdown",
   "id": "4cab402a-05ee-498c-bdf2-abc167f471c8",
   "metadata": {},
   "source": [
    "* Then we compute the mean over the <i>average_time_between_posts</i> column\n",
    "* The average time between posts varies depending on which users we consider for the analysis. \n",
    "If we consider all ids from the posts.csv we obtain a mean of 76 days 17 hours and 06 minutes.\n",
    "While if we compute the mean only for those profile_ids who appear in both datasets, the mean is of 30 days 02 hours and 07 minutes."
   ]
  },
  {
   "cell_type": "code",
   "execution_count": 101,
   "id": "7a451c42-86c8-424d-bf42-5c167caea104",
   "metadata": {},
   "outputs": [
    {
     "name": "stdout",
     "output_type": "stream",
     "text": [
      "The average time between posts per user is 30 days 02 hours and 07 minutes.\n"
     ]
    }
   ],
   "source": [
    "average_time_between_posts = data_grouped[\"average_time_between_posts\"].mean()\n",
    "print(\"The average time between posts per user is\" , str(average_time_between_posts)[0:7],str(average_time_between_posts)[8:10],\"hours and\",str(average_time_between_posts)[11:13],\"minutes.\")"
   ]
  },
  {
   "cell_type": "markdown",
   "id": "0a5fd767-f31b-49b3-9446-621e1470d9cd",
   "metadata": {},
   "source": [
    "<b>6.1.2</b> Plot the top 3 users that publish posts more frequently (calculate the average time that passes between posts), including their amount of followers and following. Provide insights from that chart."
   ]
  },
  {
   "cell_type": "markdown",
   "id": "27910ca2-c0d2-416b-9a5e-dcf3068984b6",
   "metadata": {},
   "source": [
    "* By merging the data obtained in 6.1.1 with profiles.csv, we obtain a new dataframe in which we have all the relevant information to our plot (average time between posts, followers and followings), which  we sort (by ascending average_time_between_posts). Also, we remove those rows who have Nan values in their followers and followings(73.531 rows), as we would not be able to plot them as it is required by the exercise."
   ]
  },
  {
   "cell_type": "code",
   "execution_count": 114,
   "id": "5f3fa4b9-934d-49a1-af9f-de5ac8a52df3",
   "metadata": {},
   "outputs": [
    {
     "data": {
      "text/html": [
       "<div>\n",
       "<style scoped>\n",
       "    .dataframe tbody tr th:only-of-type {\n",
       "        vertical-align: middle;\n",
       "    }\n",
       "\n",
       "    .dataframe tbody tr th {\n",
       "        vertical-align: top;\n",
       "    }\n",
       "\n",
       "    .dataframe thead th {\n",
       "        text-align: right;\n",
       "    }\n",
       "</style>\n",
       "<table border=\"1\" class=\"dataframe\">\n",
       "  <thead>\n",
       "    <tr style=\"text-align: right;\">\n",
       "      <th></th>\n",
       "      <th>profile_id</th>\n",
       "      <th>ctscount</th>\n",
       "      <th>average_time_between_posts</th>\n",
       "      <th>following</th>\n",
       "      <th>followers</th>\n",
       "    </tr>\n",
       "  </thead>\n",
       "  <tbody>\n",
       "    <tr>\n",
       "      <th>1039291</th>\n",
       "      <td>1.823732e+09</td>\n",
       "      <td>2</td>\n",
       "      <td>0 days 00:00:00</td>\n",
       "      <td>1009.0</td>\n",
       "      <td>30.0</td>\n",
       "    </tr>\n",
       "    <tr>\n",
       "      <th>1951819</th>\n",
       "      <td>1.036093e+10</td>\n",
       "      <td>2</td>\n",
       "      <td>0 days 00:00:00</td>\n",
       "      <td>5115.0</td>\n",
       "      <td>149.0</td>\n",
       "    </tr>\n",
       "    <tr>\n",
       "      <th>59496</th>\n",
       "      <td>8.801686e+06</td>\n",
       "      <td>2</td>\n",
       "      <td>0 days 00:00:00</td>\n",
       "      <td>1572.0</td>\n",
       "      <td>705.0</td>\n",
       "    </tr>\n",
       "    <tr>\n",
       "      <th>1617198</th>\n",
       "      <td>6.324740e+09</td>\n",
       "      <td>2</td>\n",
       "      <td>0 days 00:00:00</td>\n",
       "      <td>1377.0</td>\n",
       "      <td>288.0</td>\n",
       "    </tr>\n",
       "    <tr>\n",
       "      <th>1900802</th>\n",
       "      <td>9.197905e+09</td>\n",
       "      <td>2</td>\n",
       "      <td>0 days 00:00:00</td>\n",
       "      <td>30.0</td>\n",
       "      <td>37.0</td>\n",
       "    </tr>\n",
       "    <tr>\n",
       "      <th>...</th>\n",
       "      <td>...</td>\n",
       "      <td>...</td>\n",
       "      <td>...</td>\n",
       "      <td>...</td>\n",
       "      <td>...</td>\n",
       "    </tr>\n",
       "    <tr>\n",
       "      <th>1903288</th>\n",
       "      <td>9.224064e+09</td>\n",
       "      <td>12</td>\n",
       "      <td>0 days 00:01:00.454545454</td>\n",
       "      <td>816.0</td>\n",
       "      <td>50.0</td>\n",
       "    </tr>\n",
       "    <tr>\n",
       "      <th>1245612</th>\n",
       "      <td>3.141811e+09</td>\n",
       "      <td>12</td>\n",
       "      <td>0 days 00:01:00.454545454</td>\n",
       "      <td>832.0</td>\n",
       "      <td>92.0</td>\n",
       "    </tr>\n",
       "    <tr>\n",
       "      <th>1834052</th>\n",
       "      <td>8.542995e+09</td>\n",
       "      <td>7</td>\n",
       "      <td>0 days 00:01:00.500000</td>\n",
       "      <td>160.0</td>\n",
       "      <td>112.0</td>\n",
       "    </tr>\n",
       "    <tr>\n",
       "      <th>1772639</th>\n",
       "      <td>8.028836e+09</td>\n",
       "      <td>3</td>\n",
       "      <td>0 days 00:01:00.500000</td>\n",
       "      <td>1196.0</td>\n",
       "      <td>272.0</td>\n",
       "    </tr>\n",
       "    <tr>\n",
       "      <th>1063517</th>\n",
       "      <td>1.968680e+09</td>\n",
       "      <td>3</td>\n",
       "      <td>0 days 00:01:00.500000</td>\n",
       "      <td>77.0</td>\n",
       "      <td>6.0</td>\n",
       "    </tr>\n",
       "  </tbody>\n",
       "</table>\n",
       "<p>9150 rows × 5 columns</p>\n",
       "</div>"
      ],
      "text/plain": [
       "           profile_id  ctscount average_time_between_posts  following  \\\n",
       "1039291  1.823732e+09         2            0 days 00:00:00     1009.0   \n",
       "1951819  1.036093e+10         2            0 days 00:00:00     5115.0   \n",
       "59496    8.801686e+06         2            0 days 00:00:00     1572.0   \n",
       "1617198  6.324740e+09         2            0 days 00:00:00     1377.0   \n",
       "1900802  9.197905e+09         2            0 days 00:00:00       30.0   \n",
       "...               ...       ...                        ...        ...   \n",
       "1903288  9.224064e+09        12  0 days 00:01:00.454545454      816.0   \n",
       "1245612  3.141811e+09        12  0 days 00:01:00.454545454      832.0   \n",
       "1834052  8.542995e+09         7     0 days 00:01:00.500000      160.0   \n",
       "1772639  8.028836e+09         3     0 days 00:01:00.500000     1196.0   \n",
       "1063517  1.968680e+09         3     0 days 00:01:00.500000       77.0   \n",
       "\n",
       "         followers  \n",
       "1039291       30.0  \n",
       "1951819      149.0  \n",
       "59496        705.0  \n",
       "1617198      288.0  \n",
       "1900802       37.0  \n",
       "...            ...  \n",
       "1903288       50.0  \n",
       "1245612       92.0  \n",
       "1834052      112.0  \n",
       "1772639      272.0  \n",
       "1063517        6.0  \n",
       "\n",
       "[9150 rows x 5 columns]"
      ]
     },
     "execution_count": 114,
     "metadata": {},
     "output_type": "execute_result"
    }
   ],
   "source": [
    "warnings.filterwarnings(\"ignore\")\n",
    "average_times = data_grouped.iloc[: , [2,3]]\n",
    "mean_times_followings_followers = pd.merge(average_times, df_profiles_RQ4, on='profile_id')\n",
    "mean_times_followings_followers.rename(columns=''.join, inplace=True)\n",
    "mean_times_followings_followers = mean_times_followings_followers.dropna()\n",
    "mean_times_followings_followers.sort_values(by = 'average_time_between_posts' , ascending = True).head(9150)"
   ]
  },
  {
   "cell_type": "markdown",
   "id": "a045615c-ce48-427f-8f24-15da74ac26a1",
   "metadata": {},
   "source": [
    "* Then, we extract the top 3 users by less average_time_between_posts, with their respective followings and followers."
   ]
  },
  {
   "cell_type": "code",
   "execution_count": 108,
   "id": "b7f3cfb5-d1ea-4e67-9508-604d251f52fe",
   "metadata": {},
   "outputs": [
    {
     "data": {
      "text/html": [
       "<div>\n",
       "<style scoped>\n",
       "    .dataframe tbody tr th:only-of-type {\n",
       "        vertical-align: middle;\n",
       "    }\n",
       "\n",
       "    .dataframe tbody tr th {\n",
       "        vertical-align: top;\n",
       "    }\n",
       "\n",
       "    .dataframe thead th {\n",
       "        text-align: right;\n",
       "    }\n",
       "</style>\n",
       "<table border=\"1\" class=\"dataframe\">\n",
       "  <thead>\n",
       "    <tr style=\"text-align: right;\">\n",
       "      <th></th>\n",
       "      <th>profile_id</th>\n",
       "      <th>ctscount</th>\n",
       "      <th>average_time_between_posts</th>\n",
       "      <th>following</th>\n",
       "      <th>followers</th>\n",
       "    </tr>\n",
       "  </thead>\n",
       "  <tbody>\n",
       "    <tr>\n",
       "      <th>1039291</th>\n",
       "      <td>1.823732e+09</td>\n",
       "      <td>2</td>\n",
       "      <td>0</td>\n",
       "      <td>1009.0</td>\n",
       "      <td>30.0</td>\n",
       "    </tr>\n",
       "    <tr>\n",
       "      <th>1951819</th>\n",
       "      <td>1.036093e+10</td>\n",
       "      <td>2</td>\n",
       "      <td>0</td>\n",
       "      <td>5115.0</td>\n",
       "      <td>149.0</td>\n",
       "    </tr>\n",
       "    <tr>\n",
       "      <th>59496</th>\n",
       "      <td>8.801686e+06</td>\n",
       "      <td>2</td>\n",
       "      <td>0</td>\n",
       "      <td>1572.0</td>\n",
       "      <td>705.0</td>\n",
       "    </tr>\n",
       "  </tbody>\n",
       "</table>\n",
       "</div>"
      ],
      "text/plain": [
       "           profile_id  ctscount  average_time_between_posts  following  \\\n",
       "1039291  1.823732e+09         2                           0     1009.0   \n",
       "1951819  1.036093e+10         2                           0     5115.0   \n",
       "59496    8.801686e+06         2                           0     1572.0   \n",
       "\n",
       "         followers  \n",
       "1039291       30.0  \n",
       "1951819      149.0  \n",
       "59496        705.0  "
      ]
     },
     "execution_count": 108,
     "metadata": {},
     "output_type": "execute_result"
    }
   ],
   "source": [
    "top_3_most_freq = mean_times_followings_followers.sort_values(by = 'average_time_between_posts' , ascending = True).head(3)\n",
    "top_3_most_freq.average_time_between_posts = pd.to_numeric(top_3_most_freq.average_time_between_posts)\n",
    "top_3_most_freq"
   ]
  },
  {
   "cell_type": "markdown",
   "id": "84b90cc2-ecfd-42ae-9448-9875abfaf233",
   "metadata": {},
   "source": [
    "* The top 3 most-frequent posters have an </b>average time between posts</b> of <b>0</b>. This means that they have posted all their posts at the same time, which intuitevely makes no sense. As a matter of fact, up to the 9150 most-frequent posters have an average time between posts of <b>less than a minute</b>, and from there, we can observe in the sorted data a progressive and very <b>smooth increase in the average time</b>. Therefore, as there are not \"sudden\" shifts in the average time right after those users with 0 time, we can't just ommit those profiles for the analysis and \"jump\" to the next ones.\n",
    "* Moreover, as both the followings and the followers don't follow any clear pattern of behaviour among the three users, we conclude that <b>we can't obtain any insighful information from this chart</b>."
   ]
  },
  {
   "cell_type": "code",
   "execution_count": 109,
   "id": "0642d4a5-cd94-41e7-b5e2-db1482c44880",
   "metadata": {},
   "outputs": [
    {
     "data": {
      "text/plain": [
       "<AxesSubplot:xlabel='average_time_between_posts', ylabel='followers'>"
      ]
     },
     "execution_count": 109,
     "metadata": {},
     "output_type": "execute_result"
    },
    {
     "data": {
      "image/png": "[encoded data removed]",
      "text/plain": [
       "<Figure size 432x288 with 1 Axes>"
      ]
     },
     "metadata": {
      "needs_background": "light"
     },
     "output_type": "display_data"
    }
   ],
   "source": [
    "sns.scatterplot(data = top_3_most_freq , x=\"average_time_between_posts\" , y= \"followers\", hue = \"following\",legend = \"full\")"
   ]
  },
  {
   "cell_type": "markdown",
   "id": "6036a53e-9b16-47f7-b14e-eb1dc303111c",
   "metadata": {},
   "source": [
    "<b>6.2</b> Using the function you previously coded, plot the time intervals with the highest average number of “likes” and the ones with the highest average number of comments on posts."
   ]
  },
  {
   "cell_type": "markdown",
   "id": "80184374-bf2f-42ac-a563-3db01b2e78cb",
   "metadata": {},
   "source": [
    "* In order to obtain the average likes and comments, we can use the previously coded function, but adjusting the operation performed over each time interval, in this case we need the mean() instead of the len()."
   ]
  },
  {
   "cell_type": "code",
   "execution_count": 127,
   "id": "178b8914-1a3a-47d9-ae72-1b61c80f88a2",
   "metadata": {},
   "outputs": [],
   "source": [
    "slots = [(6, 10), (11, 13), (14, 16), (17, 19), (20, 23), (0, 2), (3, 5)]\n",
    "\n",
    "def time_intervals_avg(data, time, time_intervals_list, keyword):\n",
    "    \n",
    "    time_results = {}\n",
    "    for slot in time_intervals_list:\n",
    "        result = (data[(time >= slot[0]) & (time < slot[1])]).mean() #there is a mean instead of a count\n",
    "        time_results[str(slot)] = result\n",
    "    \n",
    "    plt.bar(list(time_results.keys()), time_results.values(), color = 'blue', ec = 'black', width = 0.8)\n",
    "    plt.xlabel(\"time slots\", labelpad = 14)\n",
    "    plt.ylabel(keyword, labelpad = 14)\n",
    "    plt.title(print(\"The total number of\", keyword, \"for each given interval\"), y = 1.05)\n",
    "    plt.show() "
   ]
  },
  {
   "cell_type": "markdown",
   "id": "794cdef3-43f1-40fa-bb49-9c7c6340d333",
   "metadata": {},
   "source": [
    "* We can observe similar outputs in both average likes and comments barplots, and also not big differences among the time intervals, in both cases. \n",
    "* As shown in both barplots, from 17h to 19h is when people interact more with other users. We interpret that at these time interval, most people are conducting their <b>last hours of their working or studying obligations</b>, therefore they are <b>more inclined to check social media and interact with other users</b>. This can be related with our extracted insights from RQ4.4: from 20-23 users posts the mosts, because <b>most users are already enjoying their free time</b> and <b>have the time to post</b>, which usually takes more time than just interacting (liking and commenting other users' posts)."
   ]
  },
  {
   "cell_type": "code",
   "execution_count": 129,
   "id": "05976d9d-a2fd-442b-8359-9cc01f18b8b6",
   "metadata": {},
   "outputs": [
    {
     "name": "stdout",
     "output_type": "stream",
     "text": [
      "The total number of likes for each given interval\n"
     ]
    },
    {
     "data": {
      "image/png": "[encoded data removed]",
      "text/plain": [
       "<Figure size 432x288 with 1 Axes>"
      ]
     },
     "metadata": {
      "needs_background": "light"
     },
     "output_type": "display_data"
    },
    {
     "name": "stdout",
     "output_type": "stream",
     "text": [
      "The total number of comments for each given interval\n"
     ]
    },
    {
     "data": {
      "image/png": "[encoded data removed]",
      "text/plain": [
       "<Figure size 432x288 with 1 Axes>"
      ]
     },
     "metadata": {
      "needs_background": "light"
     },
     "output_type": "display_data"
    }
   ],
   "source": [
    "time_intervals_avg(df_posts_RQ4.numbr_likes.values, df_posts_RQ4.hour, slots , \"likes\")\n",
    "time_intervals_avg(df_posts_RQ4.number_comments, df_posts_RQ4.hour, slots, \"comments\")"
   ]
  },
  
  {
   "cell_type": "markdown",
   "id": "2ed0ad30",
   "metadata": {},
   "source": [
    "### <b>[RQ7]</b> Of course, calculating probabilities is a job that any Data Scientist must know. So let's compute some engaging figures."
   ]
  },
  {
   "cell_type": "markdown",
   "id": "7eb636aa",
   "metadata": {},
   "source": [
    "<b>7.1</b> What's the probability that a post receives more than 20% \"likes\" of the number of followers a user has?"
   ]
  },
  {
   "cell_type": "markdown",
   "id": "c87d3ec3",
   "metadata": {},
   "source": [
    "* We create two datasets from the starting ones, one containing the profile ids and number of likes of each post\n",
    "and the second one (\"folid\") containing the profile ids and number of followers of each profile.\n",
    "* We delete the lines that have missing values in followers and number of likes "
   ]
  },
  {
   "cell_type": "code",
   "execution_count": 6,
   "id": "e280a708",
   "metadata": {},
   "outputs": [],
   "source": [
    "# posts dataset\n",
    "fields=['profile_id','numbr_likes']\n",
    "df_instagram_posts_RQ7=pd.read_csv('~/instagram_posts.csv',sep='\\t',usecols=fields)\n",
    "df_instagram_posts_RQ7.dropna(subset=['numbr_likes'], inplace=True)"
   ]
  },
  {
   "cell_type": "code",
   "execution_count": 12,
   "id": "711d62fa",
   "metadata": {},
   "outputs": [],
   "source": [
    "df_instagram_profiles_RQ7=df_instagram_profiles_RQ5.copy()\n",
    "folid=df_instagram_profiles_RQ7[['followers','profile_id']]\n",
    "folid.dropna(subset=['followers'], inplace=True)"
   ]
  },
  {
   "cell_type": "markdown",
   "id": "6832e1b4",
   "metadata": {},
   "source": [
    "* We extract those profile_id that are present in both posts dataset and profiles dataset:"
   ]
  },
  {
   "cell_type": "code",
   "execution_count": 42,
   "id": "ae9ebdfa",
   "metadata": {},
   "outputs": [],
   "source": [
    "dp = df_instagram_profiles_RQ7[df_instagram_profiles_RQ7.profile_id.isin(dpost.profile_id.unique())] #2,207.207\n",
    "df_instagram_posts_RQ7 = df_instagram_posts_RQ7[df_instagram_posts_RQ7.profile_id.isin(dp.profile_id)] #27,715.738 rows\n",
    "df_instagram_posts_RQ7 = df_instagram_posts_RQ7.dropna() #25,132.446 rows"
   ]
  },
  {
   "cell_type": "markdown",
   "id": "3e867bcb",
   "metadata": {},
   "source": [
    "* We create a single dataset containing all profiles id with number of likes and followers:"
   ]
  },
  {
   "cell_type": "code",
   "execution_count": 28,
   "id": "3b3debad",
   "metadata": {},
   "outputs": [],
   "source": [
    "followers_likes_RQ7=pd.merge(dpost,folid, on='profile_id') #24,708.644 rows"
   ]
  },
  {
   "cell_type": "markdown",
   "id": "b3fcf8d7",
   "metadata": {},
   "source": [
    "* Now, through a \"mask\" we extract only those values that satisfy our condition, that the number of likes of a post are more than 20% of the profile's follower number:"
   ]
  },
  {
   "cell_type": "code",
   "execution_count": 35,
   "id": "3620ca41",
   "metadata": {},
   "outputs": [
    {
     "data": {
      "text/html": [
       "<div>\n",
       "<style scoped>\n",
       "    .dataframe tbody tr th:only-of-type {\n",
       "        vertical-align: middle;\n",
       "    }\n",
       "\n",
       "    .dataframe tbody tr th {\n",
       "        vertical-align: top;\n",
       "    }\n",
       "\n",
       "    .dataframe thead th {\n",
       "        text-align: right;\n",
       "    }\n",
       "</style>\n",
       "<table border=\"1\" class=\"dataframe\">\n",
       "  <thead>\n",
       "    <tr style=\"text-align: right;\">\n",
       "      <th></th>\n",
       "      <th>profile_id</th>\n",
       "      <th>numbr_likes</th>\n",
       "      <th>followers</th>\n",
       "    </tr>\n",
       "  </thead>\n",
       "  <tbody>\n",
       "    <tr>\n",
       "      <th>24</th>\n",
       "      <td>2.237948e+09</td>\n",
       "      <td>253.0</td>\n",
       "      <td>1204.0</td>\n",
       "    </tr>\n",
       "    <tr>\n",
       "      <th>54</th>\n",
       "      <td>6.027751e+09</td>\n",
       "      <td>46.0</td>\n",
       "      <td>164.0</td>\n",
       "    </tr>\n",
       "    <tr>\n",
       "      <th>55</th>\n",
       "      <td>6.027751e+09</td>\n",
       "      <td>33.0</td>\n",
       "      <td>164.0</td>\n",
       "    </tr>\n",
       "    <tr>\n",
       "      <th>56</th>\n",
       "      <td>6.027751e+09</td>\n",
       "      <td>33.0</td>\n",
       "      <td>164.0</td>\n",
       "    </tr>\n",
       "    <tr>\n",
       "      <th>57</th>\n",
       "      <td>6.027751e+09</td>\n",
       "      <td>51.0</td>\n",
       "      <td>164.0</td>\n",
       "    </tr>\n",
       "    <tr>\n",
       "      <th>...</th>\n",
       "      <td>...</td>\n",
       "      <td>...</td>\n",
       "      <td>...</td>\n",
       "    </tr>\n",
       "    <tr>\n",
       "      <th>24708503</th>\n",
       "      <td>2.297958e+09</td>\n",
       "      <td>407.0</td>\n",
       "      <td>1068.0</td>\n",
       "    </tr>\n",
       "    <tr>\n",
       "      <th>24708518</th>\n",
       "      <td>5.562025e+09</td>\n",
       "      <td>21.0</td>\n",
       "      <td>96.0</td>\n",
       "    </tr>\n",
       "    <tr>\n",
       "      <th>24708522</th>\n",
       "      <td>1.171138e+10</td>\n",
       "      <td>2103.0</td>\n",
       "      <td>13.0</td>\n",
       "    </tr>\n",
       "    <tr>\n",
       "      <th>24708628</th>\n",
       "      <td>3.723950e+09</td>\n",
       "      <td>117.0</td>\n",
       "      <td>377.0</td>\n",
       "    </tr>\n",
       "    <tr>\n",
       "      <th>24708634</th>\n",
       "      <td>3.602873e+08</td>\n",
       "      <td>76.0</td>\n",
       "      <td>252.0</td>\n",
       "    </tr>\n",
       "  </tbody>\n",
       "</table>\n",
       "<p>3883291 rows × 3 columns</p>\n",
       "</div>"
      ],
      "text/plain": [
       "            profile_id  numbr_likes  followers\n",
       "24        2.237948e+09        253.0     1204.0\n",
       "54        6.027751e+09         46.0      164.0\n",
       "55        6.027751e+09         33.0      164.0\n",
       "56        6.027751e+09         33.0      164.0\n",
       "57        6.027751e+09         51.0      164.0\n",
       "...                ...          ...        ...\n",
       "24708503  2.297958e+09        407.0     1068.0\n",
       "24708518  5.562025e+09         21.0       96.0\n",
       "24708522  1.171138e+10       2103.0       13.0\n",
       "24708628  3.723950e+09        117.0      377.0\n",
       "24708634  3.602873e+08         76.0      252.0\n",
       "\n",
       "[3883291 rows x 3 columns]"
      ]
     },
     "execution_count": 35,
     "metadata": {},
     "output_type": "execute_result"
    }
   ],
   "source": [
    "best_followers_likes_RQ7=followers_likes_RQ7[followers_likes_RQ7.numbr_likes>(followers_likes_RQ7.followers/5)]\n",
    "best_followers_likes_RQ7 #3,883.291 rows"
   ]
  },
  {
   "cell_type": "code",
   "execution_count": 32,
   "id": "471da054",
   "metadata": {},
   "outputs": [
    {
     "data": {
      "text/plain": [
       "0.15716325833178058"
      ]
     },
     "execution_count": 32,
     "metadata": {},
     "output_type": "execute_result"
    }
   ],
   "source": [
    "len(best_followers_likes_RQ7)/len(followers_likes_RQ7)"
   ]
  },
  {
   "cell_type": "markdown",
   "id": "7389df11",
   "metadata": {},
   "source": [
    "* After dividing the number of posts that satisfies our condition to the total number of posts considered, <b>we obtain a probability of 15.7%</b> that a post receives more than 20% \"likes\" of the number of followers a user has"
   ]
  },
  {
   "cell_type": "markdown",
   "id": "03e3c5e4",
   "metadata": {},
   "source": [
    "<b>7.2</b> Do users usually return to locations? Extract the probability that a user returns to a site after having posted it in the past. Does that probability make sense to you? Explain why or why not."
   ]
  },
  {
   "cell_type": "markdown",
   "id": "5dbec7de",
   "metadata": {},
   "source": [
    "* We start by grouping by the post dataset by each profile_id and then by location_id, obtaining how many times each user had been to each location."
   ]
  },
  {
   "cell_type": "code",
   "execution_count": 40,
   "id": "e459f7a8",
   "metadata": {},
   "outputs": [
    {
     "data": {
      "text/plain": [
       "profile_id    location_id \n",
       "3.000000e+00  1.000000e+01    1\n",
       "              5.400000e+01    1\n",
       "              8.030000e+02    1\n",
       "              1.526200e+04    1\n",
       "              2.705200e+04    1\n",
       "                             ..\n",
       "9.001013e+13  6.631216e+14    1\n",
       "              2.075964e+14    1\n",
       "              1.855425e+14    2\n",
       "              2.418404e+08    1\n",
       "9.001014e+13  1.077310e+06    1\n",
       "Name: location_id, Length: 21096135, dtype: int64"
      ]
     },
     "execution_count": 40,
     "metadata": {},
     "output_type": "execute_result"
    }
   ],
   "source": [
    "pl=dpost.groupby(['profile_id','location_id'])['location_id'].count()\n",
    "pl"
   ]
  },
  {
   "cell_type": "markdown",
   "id": "7a54d10f",
   "metadata": {},
   "source": [
    "* We count then how many times users have been only once to a location;"
   ]
  },
  {
   "cell_type": "code",
   "execution_count": 41,
   "id": "472bb783",
   "metadata": {},
   "outputs": [
    {
     "data": {
      "text/plain": [
       "1      18134031\n",
       "2       1662813\n",
       "3        538694\n",
       "4        237039\n",
       "5        136753\n",
       "         ...   \n",
       "125           1\n",
       "214           1\n",
       "72            1\n",
       "270           1\n",
       "124           1\n",
       "Name: location_id, Length: 106, dtype: int64"
      ]
     },
     "execution_count": 41,
     "metadata": {},
     "output_type": "execute_result"
    }
   ],
   "source": [
    "pl.value_counts()"
   ]
  },
  {
   "cell_type": "markdown",
   "id": "4f246484",
   "metadata": {},
   "source": [
    "The output above shows how many times users visited a location 1,2,3.. ecc. times"
   ]
  },
  {
   "cell_type": "markdown",
   "id": "8e5a35b5",
   "metadata": {},
   "source": [
    "* By dividing the places visited only once bt each single user by the total number of locations visited we obtain the probability that a user visits once a location, and subtracting that probability from 1 we obtain the final probability of <b>14%</b> that a user returns to a site after having posted it in the past. "
   ]
  },
  {
   "cell_type": "code",
   "execution_count": 23,
   "id": "c09b5823",
   "metadata": {},
   "outputs": [
    {
     "data": {
      "text/plain": [
       "0.1404097954435729"
      ]
     },
     "execution_count": 23,
     "metadata": {},
     "output_type": "execute_result"
    }
   ],
   "source": [
    "1-18134031/21096135"
   ]
  },
  {
   "cell_type": "markdown",
   "id": "4cf254fb",
   "metadata": {},
   "source": [
    "* From our point of view, this is a probability that makes sense, because we assume that users want to have profiles <b>rich of different contents</b>, to give other people the idea of having an interesting lifestyle, according to the tendency that people have on social media of \"showing-off\". That's a possible hypothesis, in our opinion, about <b>why only 14% of the times people post again in the same location."
   ]
  },
  
  
  {
   "cell_type": "markdown",
   "id": "7e084dc2-c023-4c4c-80d9-2690f6319105",
   "metadata": {},
   "source": [
    "### <b>[RQ8]</b> Every decision you take in a data-based environment should be reinforced with charts, statistical tests and analysis methods to check whether a hypothesis is correct or not."
   ]
  },
  {
   "cell_type": "markdown",
   "id": "e3b0f7ee-896a-4b62-9a8a-d1a4bc1bc2d7",
   "metadata": {},
   "source": [
    "<b>8.1</b> Does more “likes” also mean more comments? Plot a scatter plot of “likes” vs comments for posts."
   ]
  },
  {
   "cell_type": "markdown",
   "id": "403e4610-d2a7-48a5-9439-a62e4010f326",
   "metadata": {},
   "source": [
    "In order to provide evidence for <b>causality</b> (i.e. \"more likes mean more comments\"), it is <b>not enough to show the correlation between variables</b>.\n",
    "\n",
    "* However, <b>in order to exist causation, there needs to exist correlation</b>. By looking at he data, we can observe that the correlation between `numbr_likes` and `number_comments`, is approximately equal to `37.5%`. Initially, we might have been inclined to predict some positive relationship between the two variables, however the data shows that <b>their correlation is actually quite weak."
   ]
  },
  {
   "cell_type": "code",
   "execution_count": 6,
   "id": "eb1350c7-2228-40f6-a9f9-f3ab347f7623",
   "metadata": {
    "scrolled": true
   },
   "outputs": [
    {
     "name": "stdout",
     "output_type": "stream",
     "text": [
      "                 numbr_likes  number_comments\n",
      "numbr_likes         1.000000         0.374453\n",
      "number_comments     0.374453         1.000000\n"
     ]
    }
   ],
   "source": [
    "# dataset containing the instagram_posts's numbr_likes and number_comments columns\n",
    "df_instagram_posts_RQ8_1 = df_instagram_posts_RQ2_1 #42,710.161 rows\n",
    "print(df_instagram_posts_RQ8_1.corr())"
   ]
  },
  {
   "cell_type": "markdown",
   "id": "b3d0cb36-22aa-44fe-b9f3-4edbdfb55d3b",
   "metadata": {},
   "source": [
    "* Below you can find a scatterplot of the first 1,000,000 observations (we show a reduced sample for computational reasons) of the `df_instagram_posts_RQ8_1` dataframe. Unfortunately, our data is full of outliers that squash the plot to the bottom-left rendering it difficult to interpret the results and study the relationship between `numbr_likes` and `number_comments`."
   ]
  },
  {
   "cell_type": "code",
   "execution_count": 38,
   "id": "d2e5ec5d-39b3-4a26-b614-e72c31c0f14e",
   "metadata": {},
   "outputs": [
    {
     "data": {
      "text/plain": [
       "Text(0.5, 1.05, 'Scatterplot of number of likes against number of comments')"
      ]
     },
     "execution_count": 38,
     "metadata": {},
     "output_type": "execute_result"
    },
    {
     "data": {
      "image/png": "[encoded data removed]",
      "text/plain": [
       "<Figure size 432x288 with 1 Axes>"
      ]
     },
     "metadata": {
      "needs_background": "light"
     },
     "output_type": "display_data"
    }
   ],
   "source": [
    "sample_RQ8 = df_instagram_posts_RQ8_1.head(1000000)\n",
    "plt.scatter(sample_RQ8['numbr_likes'], sample_RQ8['number_comments'])\n",
    "plt.xlabel(\"number of likes\", labelpad = 14)\n",
    "plt.ylabel(\"number of comments\", labelpad = 14)\n",
    "plt.title(\"Scatterplot of number of likes against number of comments\", y = 1.05)\n",
    "#The plot is squashed by the outliers"
   ]
  },
  {
   "cell_type": "markdown",
   "id": "82229a57-9cb4-4878-99ef-acf46b86c0e9",
   "metadata": {},
   "source": [
    "As it can be seen from the boxplots and the summary statistics previously done in the EDA of `numbr_likes` and `number_comments`, the data is **strongly** skewed and contains a lot of outliers. The summary statistics clearly show the presence of outliers as we have already discussed in RQ1. We conclude that, based on the data, <b>we can't assert that more likes means more comments."
   ]
  },
  {
   "cell_type": "markdown",
   "id": "6e2217ff-f608-40ff-93f8-6672bf394af8",
   "metadata": {},
   "source": [
    "<b>8.2</b> Can you find any significant relationship between the time a user publishes a post and the number of comments and “likes”? Use an appropriate statistical test or technique and support your choice"
   ]
  },
  {
   "cell_type": "markdown",
   "id": "532f3b27-7676-4c62-9aeb-569c9699a70a",
   "metadata": {},
   "source": [
    "* We work in chunks for both dataframes `df_instagram_posts_RQ8_1` and `df_instagram_posts_RQ8_2` for computational reasons.\n",
    "* Then we concatenate the columns by chunks and append the chunks to a new list called `chunk_list_RQ8_3`.\n",
    "* We concatenate the chunks in `chunk_list_RQ8_3` and group by the column `hour` aggregating on the mean of `numbr_likes` and `number_comments`. We obtain a new dataframe called `df_instagram_posts_RQ8_grouped` which shows the average likes and commets for each time interval."
   ]
  },
  {
   "cell_type": "code",
   "execution_count": 11,
   "id": "279bd850-3abc-46c2-977c-5525e01033c6",
   "metadata": {},
   "outputs": [],
   "source": [
    "# dataset containing the instagram_posts's \n",
    "df_instagram_posts_RQ8_2 = pd.concat(chunk_list_new)[['hour']]"
   ]
  },
  {
   "cell_type": "code",
   "execution_count": 13,
   "id": "80bbb182-cfa4-49a2-8892-159ba05345e0",
   "metadata": {},
   "outputs": [],
   "source": [
    "chunk_list_RQ8_1 = []\n",
    "for i in range(0, len(df_instagram_posts_RQ8_1), 5000000):\n",
    "    chunk = df_instagram_posts_RQ8_1[i:i+5000000]\n",
    "    chunk_list_RQ8_1.append(chunk)\n",
    "\n",
    "chunk_list_RQ8_2 = []\n",
    "for i in range(0, len(df_instagram_posts_RQ8_2),b 5000000):\n",
    "    chunk = df_instagram_posts_RQ8_2[i:i+5000000]\n",
    "    chunk_list_RQ8_2.append(chunk)\n",
    "\n",
    "chunk_list_RQ8_3 = []\n",
    "for i in range(0, len(df_instagram_posts_RQ8_2), 5000000):\n",
    "    chunk = pd.concat([df_instagram_posts_RQ8_2[i:i+5000000], df_instagram_posts_RQ8_1[i:i+5000000]], axis = 1)\n",
    "    chunk_list_RQ8_3.append(chunk)"
   ]
  },
  {
   "cell_type": "code",
   "execution_count": 25,
   "id": "ad5a517a-d285-48a4-ad3d-abfcdbf4d8db",
   "metadata": {},
   "outputs": [
    {
     "data": {
      "text/html": [
       "<div>\n",
       "<style scoped>\n",
       "    .dataframe tbody tr th:only-of-type {\n",
       "        vertical-align: middle;\n",
       "    }\n",
       "\n",
       "    .dataframe tbody tr th {\n",
       "        vertical-align: top;\n",
       "    }\n",
       "\n",
       "    .dataframe thead th {\n",
       "        text-align: right;\n",
       "    }\n",
       "</style>\n",
       "<table border=\"1\" class=\"dataframe\">\n",
       "  <thead>\n",
       "    <tr style=\"text-align: right;\">\n",
       "      <th></th>\n",
       "      <th>hour</th>\n",
       "      <th>numbr_likes</th>\n",
       "      <th>number_comments</th>\n",
       "    </tr>\n",
       "  </thead>\n",
       "  <tbody>\n",
       "    <tr>\n",
       "      <th>0</th>\n",
       "      <td>0</td>\n",
       "      <td>262.135037</td>\n",
       "      <td>7.384589</td>\n",
       "    </tr>\n",
       "    <tr>\n",
       "      <th>1</th>\n",
       "      <td>1</td>\n",
       "      <td>266.617649</td>\n",
       "      <td>7.683354</td>\n",
       "    </tr>\n",
       "    <tr>\n",
       "      <th>2</th>\n",
       "      <td>2</td>\n",
       "      <td>278.816228</td>\n",
       "      <td>7.772853</td>\n",
       "    </tr>\n",
       "    <tr>\n",
       "      <th>3</th>\n",
       "      <td>3</td>\n",
       "      <td>271.618603</td>\n",
       "      <td>7.325271</td>\n",
       "    </tr>\n",
       "    <tr>\n",
       "      <th>4</th>\n",
       "      <td>4</td>\n",
       "      <td>263.379649</td>\n",
       "      <td>6.930650</td>\n",
       "    </tr>\n",
       "    <tr>\n",
       "      <th>5</th>\n",
       "      <td>5</td>\n",
       "      <td>261.192717</td>\n",
       "      <td>6.683866</td>\n",
       "    </tr>\n",
       "    <tr>\n",
       "      <th>6</th>\n",
       "      <td>6</td>\n",
       "      <td>253.587895</td>\n",
       "      <td>6.723536</td>\n",
       "    </tr>\n",
       "    <tr>\n",
       "      <th>7</th>\n",
       "      <td>7</td>\n",
       "      <td>262.929015</td>\n",
       "      <td>7.026733</td>\n",
       "    </tr>\n",
       "    <tr>\n",
       "      <th>8</th>\n",
       "      <td>8</td>\n",
       "      <td>264.922111</td>\n",
       "      <td>7.710607</td>\n",
       "    </tr>\n",
       "    <tr>\n",
       "      <th>9</th>\n",
       "      <td>9</td>\n",
       "      <td>269.073676</td>\n",
       "      <td>7.393673</td>\n",
       "    </tr>\n",
       "    <tr>\n",
       "      <th>10</th>\n",
       "      <td>10</td>\n",
       "      <td>285.687525</td>\n",
       "      <td>7.585222</td>\n",
       "    </tr>\n",
       "    <tr>\n",
       "      <th>11</th>\n",
       "      <td>11</td>\n",
       "      <td>285.418838</td>\n",
       "      <td>7.773056</td>\n",
       "    </tr>\n",
       "    <tr>\n",
       "      <th>12</th>\n",
       "      <td>12</td>\n",
       "      <td>302.702814</td>\n",
       "      <td>7.928870</td>\n",
       "    </tr>\n",
       "    <tr>\n",
       "      <th>13</th>\n",
       "      <td>13</td>\n",
       "      <td>295.835171</td>\n",
       "      <td>7.684605</td>\n",
       "    </tr>\n",
       "    <tr>\n",
       "      <th>14</th>\n",
       "      <td>14</td>\n",
       "      <td>295.614309</td>\n",
       "      <td>7.914574</td>\n",
       "    </tr>\n",
       "    <tr>\n",
       "      <th>15</th>\n",
       "      <td>15</td>\n",
       "      <td>291.165670</td>\n",
       "      <td>7.558933</td>\n",
       "    </tr>\n",
       "    <tr>\n",
       "      <th>16</th>\n",
       "      <td>16</td>\n",
       "      <td>303.838112</td>\n",
       "      <td>7.640977</td>\n",
       "    </tr>\n",
       "    <tr>\n",
       "      <th>17</th>\n",
       "      <td>17</td>\n",
       "      <td>294.937466</td>\n",
       "      <td>7.902986</td>\n",
       "    </tr>\n",
       "    <tr>\n",
       "      <th>18</th>\n",
       "      <td>18</td>\n",
       "      <td>308.105003</td>\n",
       "      <td>8.177739</td>\n",
       "    </tr>\n",
       "    <tr>\n",
       "      <th>19</th>\n",
       "      <td>19</td>\n",
       "      <td>299.013068</td>\n",
       "      <td>8.020721</td>\n",
       "    </tr>\n",
       "    <tr>\n",
       "      <th>20</th>\n",
       "      <td>20</td>\n",
       "      <td>289.023652</td>\n",
       "      <td>8.118172</td>\n",
       "    </tr>\n",
       "    <tr>\n",
       "      <th>21</th>\n",
       "      <td>21</td>\n",
       "      <td>279.281883</td>\n",
       "      <td>7.562127</td>\n",
       "    </tr>\n",
       "    <tr>\n",
       "      <th>22</th>\n",
       "      <td>22</td>\n",
       "      <td>260.671413</td>\n",
       "      <td>6.919874</td>\n",
       "    </tr>\n",
       "    <tr>\n",
       "      <th>23</th>\n",
       "      <td>23</td>\n",
       "      <td>272.271313</td>\n",
       "      <td>6.955540</td>\n",
       "    </tr>\n",
       "  </tbody>\n",
       "</table>\n",
       "</div>"
      ],
      "text/plain": [
       "    hour  numbr_likes  number_comments\n",
       "0      0   262.135037         7.384589\n",
       "1      1   266.617649         7.683354\n",
       "2      2   278.816228         7.772853\n",
       "3      3   271.618603         7.325271\n",
       "4      4   263.379649         6.930650\n",
       "5      5   261.192717         6.683866\n",
       "6      6   253.587895         6.723536\n",
       "7      7   262.929015         7.026733\n",
       "8      8   264.922111         7.710607\n",
       "9      9   269.073676         7.393673\n",
       "10    10   285.687525         7.585222\n",
       "11    11   285.418838         7.773056\n",
       "12    12   302.702814         7.928870\n",
       "13    13   295.835171         7.684605\n",
       "14    14   295.614309         7.914574\n",
       "15    15   291.165670         7.558933\n",
       "16    16   303.838112         7.640977\n",
       "17    17   294.937466         7.902986\n",
       "18    18   308.105003         8.177739\n",
       "19    19   299.013068         8.020721\n",
       "20    20   289.023652         8.118172\n",
       "21    21   279.281883         7.562127\n",
       "22    22   260.671413         6.919874\n",
       "23    23   272.271313         6.955540"
      ]
     },
     "execution_count": 25,
     "metadata": {},
     "output_type": "execute_result"
    }
   ],
   "source": [
    "df_instagram_posts_RQ8_grouped = pd.concat(chunk_list_RQ8_3).groupby('hour', as_index=False).mean()\n",
    "df_instagram_posts_RQ8_grouped.hour = df_instagram_posts_RQ8_grouped.hour.astype(int)\n",
    "df_instagram_posts_RQ8_grouped"
   ]
  },
  {
   "cell_type": "markdown",
   "id": "336a46b6",
   "metadata": {},
   "source": [
    "Susprisingly if we plot the likes and comments for each time interval, we can observe how highly correlated (80%) this variables become. Meaning that, as we previously mentioned, <b>likes and comments are not correlated on a \"post\" basis, but rather on a time interval basis</b>. For example the likes and comments obtained overall between 7 and 8pm, are correlated with the likes and comments obtained between 8 and 9 and so on."
   ]
  },
  {
   "cell_type": "code",
   "execution_count": 5,
   "id": "76e50d1b",
   "metadata": {},
   "outputs": [
    {
     "data": {
      "text/plain": [
       "<matplotlib.collections.PathCollection at 0x7fa56bbba280>"
      ]
     },
     "execution_count": 5,
     "metadata": {},
     "output_type": "execute_result"
    },
    {
     "data": {
      "image/png": "[encoded data removed]",
      "text/plain": [
       "<Figure size 432x288 with 1 Axes>"
      ]
     },
     "metadata": {
      "needs_background": "light"
     },
     "output_type": "display_data"
    }
   ],
   "source": [
    "plt.scatter(df_instagram_posts_RQ8_grouped[\"numbr_likes\"],df_instagram_posts_RQ8_grouped[\"number_comments\"])"
   ]
  },
  {
   "cell_type": "markdown",
   "id": "30fae2c6-770c-425a-85a9-dd6d7501100f",
   "metadata": {},
   "source": [
    "#### `1st statistics: correlation`"
   ]
  },
  {
   "cell_type": "code",
   "execution_count": 21,
   "id": "fa10136f-be6a-4d92-a816-0df591b526c6",
   "metadata": {},
   "outputs": [
    {
     "name": "stdout",
     "output_type": "stream",
     "text": [
      "                     hour  numbr_likes  number_comments\n",
      "hour             1.000000     0.514339         0.279257\n",
      "numbr_likes      0.514339     1.000000         0.804829\n",
      "number_comments  0.279257     0.804829         1.000000\n"
     ]
    }
   ],
   "source": [
    "# Let's look at the correlation between the three variables\n",
    "\n",
    "print(df_instagram_posts_RQ8_grouped.corr())"
   ]
  },
  {
   "cell_type": "markdown",
   "id": "6c872df4-08bd-4184-a7f1-8474ee4f228b",
   "metadata": {},
   "source": [
    "##### `Correlation results comments`\n",
    "\n",
    "* `hour` and `numbr_likes` have a moderate positive correlation (**51.4%**)\n",
    "* `hour` and `number_comments` have a weak positive correlation (**27.9%**)\n",
    "\n",
    "The time in which you post is more correlated to the number of likes wrt the number of comments a post gets.<br>\n",
    "We can also see that the number of likes and the number of comments are strongly correlated."
   ]
  },
  {
   "cell_type": "markdown",
   "id": "25afd96c-4a1a-439b-a826-983ab518b958",
   "metadata": {},
   "source": [
    "#### `2nd statistics: linear regression (p-value)`"
   ]
  },
  {
   "cell_type": "markdown",
   "id": "7e875e52-28d6-4fc5-8c9a-b19170573081",
   "metadata": {},
   "source": [
    "* The `p-value` for each term tests the null hypothesis H₀ that the coefficient is equal to zero. So, if the p-value is less than a specified `significance level α` (usually 0.05), we can reject the null hypothesis H₀. For small p-values we can state that the predictor variable does give a meaningul addition to the model: **the values of the predictor variable are related to the values of the response variable**."
   ]
  },
  {
   "cell_type": "code",
   "execution_count": 22,
   "id": "33beb152-d364-45f8-92a6-6528f0a1406b",
   "metadata": {},
   "outputs": [],
   "source": [
    "# Simple linear regression\n",
    "# time ~ number_likes\n",
    "# time ~ number_comments\n",
    "\n",
    "number_likes = df_instagram_posts_RQ8_grouped.numbr_likes\n",
    "number_comments = df_instagram_posts_RQ8_grouped.number_comments\n",
    "time = df_instagram_posts_RQ8_grouped.hour\n",
    "\n",
    "result = scipy.stats.linregress(number_likes, time)\n",
    "result2 = scipy.stats.linregress(number_comments, time)"
   ]
  },
  {
   "cell_type": "code",
   "execution_count": 23,
   "id": "b511082d-5b3c-4158-bc92-f0627c97615a",
   "metadata": {},
   "outputs": [
    {
     "name": "stdout",
     "output_type": "stream",
     "text": [
      "The p-value for model 1 is: 0.010129899606811663\n",
      "the p-value for model 2 is: 0.18633045092180706\n"
     ]
    }
   ],
   "source": [
    "print(\"The p-value for model 1 is:\", result.pvalue)\n",
    "print(\"the p-value for model 2 is:\", result2.pvalue) # p-value == 0.0 implying that number_comments is statistically significant in predicting number_likes and viceversa \n",
    "\n",
    "# the number of likes is significant while the number of comments is not"
   ]
  },
  {
   "cell_type": "markdown",
   "id": "1964e4f5-d1cd-444f-8b7b-8a53399b5c59",
   "metadata": {},
   "source": [
    "##### Conclusion (`Linear Regression comments`)\n",
    "\n",
    "According to the **`p-value`** for the two models, there seems to be a <b>significant relationship between the time a user posts and the number of likes the post gets</b>. In fact, the `p-value = 0.01 < 0.05`. On the contrary, <b>there is no significant relationship between the time a user posts and the number of comments</b> as the `p-value = 0.19 > 0.05`. We can also point out that the correlation between `hour` and `numbr_likes` is approximately twice as big as the correlation between `hour` and `number_comments`."
   ]
  },
  
  
  
  
  
  {
   "cell_type": "markdown",
   "id": "5d65bd57",
   "metadata": {},
   "source": [
    "<b>8.3</b> What’s the distribution of followers? Plot the empirical distribution of followers amongst all users and extract the mean, mode, and quantiles. Interpret those figures."
   ]
  },
  {
   "cell_type": "markdown",
   "id": "5ecf6935",
   "metadata": {},
   "source": [
    "* We start by plotting the empirical distribution of the followers; we immediatly notice that the distribution is asymmetrical to the right and it resembles an exponential distribution"
   ]
  },
  {
   "cell_type": "code",
   "execution_count": 32,
   "id": "732ac7f3",
   "metadata": {},
   "outputs": [
    {
     "data": {
      "text/plain": [
       "Text(0.5, 1.0, 'count of followers')"
      ]
     },
     "execution_count": 32,
     "metadata": {},
     "output_type": "execute_result"
    },
    {
     "data": {
      "image/png": "[encoded data removed]",
      "text/plain": [
       "<Figure size 432x288 with 1 Axes>"
      ]
     },
     "metadata": {
      "needs_background": "light"
     },
     "output_type": "display_data"
    }
   ],
   "source": [
    "followers.plot(kind='hist',bins=30,logy=True)\n",
    "plt.xlabel('followers',labelpad=15)\n",
    "plt.ylabel('count',labelpad=15)\n",
    "plt.title('count of followers')"
   ]
  },
  {
   "cell_type": "markdown",
   "id": "2503a0a2",
   "metadata": {},
   "source": [
    "* We continue the analysis with a summary of the main characteristics of the distribution. From the table below we can observe that the mean of the followers distribution is 4739.899180, a value that is way closer to the minimun of the distribution (0), than the maximum (285457645), and it's way bigger than the median of the distribution which equals to 406: this indicates as well that the distribution is asymmetrial and that there might be are some big outliers that influence the value of the mean. The first quantile is equal to 159 and the third equals 974, having an inter-quantile range of 815. From the boxplot below we can easily notice the maximum, being a huge outlier. "
   ]
  },
  {
   "cell_type": "code",
   "execution_count": 34,
   "id": "1c4aad69",
   "metadata": {},
   "outputs": [
    {
     "data": {
      "text/plain": [
       "<AxesSubplot:>"
      ]
     },
     "execution_count": 34,
     "metadata": {},
     "output_type": "execute_result"
    },
    {
     "data": {
      "image/png": "[encoded data removed]",
      "text/plain": [
       "<Figure size 432x288 with 1 Axes>"
      ]
     },
     "metadata": {
      "needs_background": "light"
     },
     "output_type": "display_data"
    }
   ],
   "source": [
    "followers.plot(kind='box')"
   ]
  },
  {
   "cell_type": "code",
   "execution_count": 10,
   "id": "951692d3",
   "metadata": {},
   "outputs": [
    {
     "data": {
      "text/plain": [
       "count      3452771.000000\n",
       "mean          4739.899180\n",
       "std         193908.709487\n",
       "min              0.000000\n",
       "25%            159.000000\n",
       "50%            406.000000\n",
       "75%            974.000000\n",
       "max      285457645.000000\n",
       "Name: followers, dtype: object"
      ]
     },
     "execution_count": 10,
     "metadata": {},
     "output_type": "execute_result"
    }
   ],
   "source": [
    "followers.describe().apply(lambda x: format(x, 'f'))"
   ]
  },
  {
   "cell_type": "markdown",
   "id": "35618cbb",
   "metadata": {},
   "source": [
    "<b>8.4</b> What are histograms, bar plots, scatterplots and pie charts used for?"
   ]
  },
  {
   "cell_type": "markdown",
   "id": "1d254d65",
   "metadata": {},
   "source": [
    "* An histogram is a graphical representation of a distribution of continuos numerical datas divided in classes, named bins, that can be of different dimentions. It's used to have a graphic representation of the frequency of each class compared to the others.\n",
    "* The barplot, differently from the histogram, is used to plot cathegorical vriables, and it's used to visualize and compare the frequency of the analyzed phenomenon.\n",
    "* The scatterplot is a plot that uses cartesian coordinates and it is used to visualize the value of two variables for a set of data. Each value is represented as a dot.\n",
    "* The pie chart is a graph used to describe numerical proportion of a variable, similarly to the barplot but with a circular form."
   ]
  },
  {
   "cell_type": "markdown",
   "id": "49393c4f",
   "metadata": {},
   "source": [
    "<b>8.5</b> What insights can you extract from a Box Plot?"
   ]
  },
  {
   "cell_type": "markdown",
   "id": "c5fd12bd",
   "metadata": {},
   "source": [
    "* The box plot is a graph that is used to show the quartiles, max, min, the range, the inter-quantile range, the skeweness and spread of numerical datas. It is also useful to locate outliers that are plotted as dots."
   ]
  },
  
  {
   "cell_type": "markdown",
   "id": "1c1045cc-19a0-41cd-a44c-8a2847bd9a3f",
   "metadata": {},
   "source": [
    "## Bonus Points"
   ]
  },
  {
   "cell_type": "markdown",
   "id": "1512cfc6-8e0f-4b54-a9ff-7e5da30163d2",
   "metadata": {},
   "source": [
    "##### a) Sort the users in terms of number of followers and divide them into two groups: for the first group, take only the top 10% regarding \"followers\", and for the second one, take the rest. Now compare the mean of time intervals between posts for the two categories. Do you notice something relevant?"
   ]
  },
  {
   "cell_type": "code",
   "execution_count": 3,
   "id": "7b9639dd-4cd8-434e-9831-7069b28db670",
   "metadata": {},
   "outputs": [],
   "source": [
    "#Data upload (posts.csv: 42,710.197 rows)\n",
    "columns_posts = [\"profile_id\",\"cts\"]\n",
    "data_posts= pd.read_csv(\"~/instagram_posts.csv\", sep = \"\\t\" , usecols = columns_posts , parse_dates=[\"cts\"])"
   ]
  },
  {
   "cell_type": "code",
   "execution_count": 2,
   "id": "2ddf7f35-a275-40b0-a613-36917423ffa5",
   "metadata": {},
   "outputs": [],
   "source": [
    "#Data upload (profiles.csv: 4,509.586 rows)\n",
    "columns_profiles = [\"profile_id\",\"followers\"]\n",
    "data_profiles = pd.read_csv(\"instagram_profiles.csv\", sep = \"\\t\" , usecols = columns_profiles)"
   ]
  },
  {
   "cell_type": "markdown",
   "id": "f420b72a-0112-43d0-a5e0-b7414e66b940",
   "metadata": {},
   "source": [
    "1. In profiles.csv, we remove those rows that have missing values in \"followers\" and then we sort the data in ascending order by followers. "
   ]
  },
  {
   "cell_type": "code",
   "execution_count": 19,
   "id": "330c5bc6-ba8c-4abe-b897-9ed3af5e6c24",
   "metadata": {},
   "outputs": [
    {
     "data": {
      "text/html": [
       "<div>\n",
       "<style scoped>\n",
       "    .dataframe tbody tr th:only-of-type {\n",
       "        vertical-align: middle;\n",
       "    }\n",
       "\n",
       "    .dataframe tbody tr th {\n",
       "        vertical-align: top;\n",
       "    }\n",
       "\n",
       "    .dataframe thead th {\n",
       "        text-align: right;\n",
       "    }\n",
       "</style>\n",
       "<table border=\"1\" class=\"dataframe\">\n",
       "  <thead>\n",
       "    <tr style=\"text-align: right;\">\n",
       "      <th></th>\n",
       "      <th>profile_id</th>\n",
       "      <th>followers</th>\n",
       "    </tr>\n",
       "  </thead>\n",
       "  <tbody>\n",
       "    <tr>\n",
       "      <th>3045705</th>\n",
       "      <td>1.524120e+07</td>\n",
       "      <td>2505.0</td>\n",
       "    </tr>\n",
       "    <tr>\n",
       "      <th>1793602</th>\n",
       "      <td>1.485528e+09</td>\n",
       "      <td>2505.0</td>\n",
       "    </tr>\n",
       "    <tr>\n",
       "      <th>2635421</th>\n",
       "      <td>2.087735e+08</td>\n",
       "      <td>2505.0</td>\n",
       "    </tr>\n",
       "    <tr>\n",
       "      <th>345129</th>\n",
       "      <td>1.237176e+09</td>\n",
       "      <td>2504.0</td>\n",
       "    </tr>\n",
       "    <tr>\n",
       "      <th>334101</th>\n",
       "      <td>6.864995e+09</td>\n",
       "      <td>2504.0</td>\n",
       "    </tr>\n",
       "    <tr>\n",
       "      <th>...</th>\n",
       "      <td>...</td>\n",
       "      <td>...</td>\n",
       "    </tr>\n",
       "    <tr>\n",
       "      <th>2125632</th>\n",
       "      <td>5.001772e+09</td>\n",
       "      <td>0.0</td>\n",
       "    </tr>\n",
       "    <tr>\n",
       "      <th>3435370</th>\n",
       "      <td>5.477267e+09</td>\n",
       "      <td>0.0</td>\n",
       "    </tr>\n",
       "    <tr>\n",
       "      <th>1323180</th>\n",
       "      <td>1.010826e+09</td>\n",
       "      <td>0.0</td>\n",
       "    </tr>\n",
       "    <tr>\n",
       "      <th>1902380</th>\n",
       "      <td>4.205987e+09</td>\n",
       "      <td>0.0</td>\n",
       "    </tr>\n",
       "    <tr>\n",
       "      <th>1161517</th>\n",
       "      <td>1.042533e+09</td>\n",
       "      <td>0.0</td>\n",
       "    </tr>\n",
       "  </tbody>\n",
       "</table>\n",
       "<p>3102928 rows × 2 columns</p>\n",
       "</div>"
      ],
      "text/plain": [
       "           profile_id  followers\n",
       "3045705  1.524120e+07     2505.0\n",
       "1793602  1.485528e+09     2505.0\n",
       "2635421  2.087735e+08     2505.0\n",
       "345129   1.237176e+09     2504.0\n",
       "334101   6.864995e+09     2504.0\n",
       "...               ...        ...\n",
       "2125632  5.001772e+09        0.0\n",
       "3435370  5.477267e+09        0.0\n",
       "1323180  1.010826e+09        0.0\n",
       "1902380  4.205987e+09        0.0\n",
       "1161517  1.042533e+09        0.0\n",
       "\n",
       "[3102928 rows x 2 columns]"
      ]
     },
     "execution_count": 19,
     "metadata": {},
     "output_type": "execute_result"
    }
   ],
   "source": [
    "data_profiles = data_profiles.dropna()\n",
    "sorted_profiles = data_profiles.sort_values(by = \"followers\",ascending = False)"
   ]
  },
  {
   "cell_type": "markdown",
   "id": "a1e6170f-e9e9-49bc-8151-3492a231c9ce",
   "metadata": {},
   "source": [
    "2. We create 2 new dataframes: one containing the top 10 percent of the sorted dataframe and the second with the remainig 90%."
   ]
  },
  {
   "cell_type": "code",
   "execution_count": null,
   "id": "a86e1e67-385c-47a4-8c00-5998223ef532",
   "metadata": {},
   "outputs": [],
   "source": [
    "sorted_profiles_1 = sorted_profiles[0:int(len(sorted_profiles)*0.1+1)]\n",
    "sorted_profiles_2 = sorted_profiles[int(len(sorted_profiles)*0.1+1):]"
   ]
  },
  {
   "cell_type": "markdown",
   "id": "d098cb4a-8ac5-4ca2-892a-b5026235b703",
   "metadata": {},
   "source": [
    "3. We <b>merge independently both datasets with posts.csv by profile_id</b>. As an output we have 2 new dataframes:\n",
    "the first one contains all posts of the top_10 and the other contains all posts of the bottom 90 users (based on followers)."
   ]
  },
  {
   "cell_type": "code",
   "execution_count": 37,
   "id": "796685ea-ce11-4336-98d9-d96299d130c3",
   "metadata": {},
   "outputs": [
    {
     "data": {
      "text/html": [
       "<div>\n",
       "<style scoped>\n",
       "    .dataframe tbody tr th:only-of-type {\n",
       "        vertical-align: middle;\n",
       "    }\n",
       "\n",
       "    .dataframe tbody tr th {\n",
       "        vertical-align: top;\n",
       "    }\n",
       "\n",
       "    .dataframe thead th {\n",
       "        text-align: right;\n",
       "    }\n",
       "</style>\n",
       "<table border=\"1\" class=\"dataframe\">\n",
       "  <thead>\n",
       "    <tr style=\"text-align: right;\">\n",
       "      <th></th>\n",
       "      <th>profile_id</th>\n",
       "      <th>followers</th>\n",
       "      <th>cts</th>\n",
       "    </tr>\n",
       "  </thead>\n",
       "  <tbody>\n",
       "    <tr>\n",
       "      <th>0</th>\n",
       "      <td>2.502532e+07</td>\n",
       "      <td>285457645.0</td>\n",
       "      <td>2012-12-01 17:42:03</td>\n",
       "    </tr>\n",
       "    <tr>\n",
       "      <th>1</th>\n",
       "      <td>2.502532e+07</td>\n",
       "      <td>285457645.0</td>\n",
       "      <td>2018-01-17 20:59:30</td>\n",
       "    </tr>\n",
       "    <tr>\n",
       "      <th>2</th>\n",
       "      <td>2.502532e+07</td>\n",
       "      <td>285457645.0</td>\n",
       "      <td>2018-12-20 03:03:13</td>\n",
       "    </tr>\n",
       "    <tr>\n",
       "      <th>3</th>\n",
       "      <td>2.502532e+07</td>\n",
       "      <td>285457645.0</td>\n",
       "      <td>2017-09-19 03:56:12</td>\n",
       "    </tr>\n",
       "    <tr>\n",
       "      <th>4</th>\n",
       "      <td>2.502532e+07</td>\n",
       "      <td>285457645.0</td>\n",
       "      <td>2014-10-29 14:21:30</td>\n",
       "    </tr>\n",
       "    <tr>\n",
       "      <th>...</th>\n",
       "      <td>...</td>\n",
       "      <td>...</td>\n",
       "      <td>...</td>\n",
       "    </tr>\n",
       "    <tr>\n",
       "      <th>3981521</th>\n",
       "      <td>7.186242e+09</td>\n",
       "      <td>2505.0</td>\n",
       "      <td>2019-08-13 08:39:16</td>\n",
       "    </tr>\n",
       "    <tr>\n",
       "      <th>3981522</th>\n",
       "      <td>7.186242e+09</td>\n",
       "      <td>2505.0</td>\n",
       "      <td>2019-08-13 08:36:35</td>\n",
       "    </tr>\n",
       "    <tr>\n",
       "      <th>3981523</th>\n",
       "      <td>7.186242e+09</td>\n",
       "      <td>2505.0</td>\n",
       "      <td>2019-08-13 08:34:27</td>\n",
       "    </tr>\n",
       "    <tr>\n",
       "      <th>3981524</th>\n",
       "      <td>7.186242e+09</td>\n",
       "      <td>2505.0</td>\n",
       "      <td>2019-08-09 12:01:49</td>\n",
       "    </tr>\n",
       "    <tr>\n",
       "      <th>3981525</th>\n",
       "      <td>7.186242e+09</td>\n",
       "      <td>2505.0</td>\n",
       "      <td>2019-08-09 11:58:57</td>\n",
       "    </tr>\n",
       "  </tbody>\n",
       "</table>\n",
       "<p>3981526 rows × 3 columns</p>\n",
       "</div>"
      ],
      "text/plain": [
       "           profile_id    followers                 cts\n",
       "0        2.502532e+07  285457645.0 2012-12-01 17:42:03\n",
       "1        2.502532e+07  285457645.0 2018-01-17 20:59:30\n",
       "2        2.502532e+07  285457645.0 2018-12-20 03:03:13\n",
       "3        2.502532e+07  285457645.0 2017-09-19 03:56:12\n",
       "4        2.502532e+07  285457645.0 2014-10-29 14:21:30\n",
       "...               ...          ...                 ...\n",
       "3981521  7.186242e+09       2505.0 2019-08-13 08:39:16\n",
       "3981522  7.186242e+09       2505.0 2019-08-13 08:36:35\n",
       "3981523  7.186242e+09       2505.0 2019-08-13 08:34:27\n",
       "3981524  7.186242e+09       2505.0 2019-08-09 12:01:49\n",
       "3981525  7.186242e+09       2505.0 2019-08-09 11:58:57\n",
       "\n",
       "[3981526 rows x 3 columns]"
      ]
     },
     "execution_count": 37,
     "metadata": {},
     "output_type": "execute_result"
    }
   ],
   "source": [
    "top_10_followers = pd.merge(sorted_profiles_1, data_posts, on='profile_id')\n",
    "bottom_90_follow = pd.merge(sorted_profiles_2, data_posts, on='profile_id')\n",
    "top_10_followers"
   ]
  },
  {
   "cell_type": "markdown",
   "id": "b5c1743c-c1ca-4d7d-9d9c-2ff7dcd779b2",
   "metadata": {},
   "source": [
    "4. We <b>group by profile_id</b> both datasets and <b>aggregate a new column containing the average time bettwen post per each user. We also remove those users who only made one post, as they are not relevant for our analysis. Below we can see both outputs:"
   ]
  },
  {
   "cell_type": "code",
   "execution_count": 67,
   "id": "c4e381fc-0ad8-4c7a-9205-2afc08a220a2",
   "metadata": {},
   "outputs": [
    {
     "data": {
      "text/html": [
       "<div>\n",
       "<style scoped>\n",
       "    .dataframe tbody tr th:only-of-type {\n",
       "        vertical-align: middle;\n",
       "    }\n",
       "\n",
       "    .dataframe tbody tr th {\n",
       "        vertical-align: top;\n",
       "    }\n",
       "\n",
       "    .dataframe thead tr th {\n",
       "        text-align: left;\n",
       "    }\n",
       "\n",
       "    .dataframe thead tr:last-of-type th {\n",
       "        text-align: right;\n",
       "    }\n",
       "</style>\n",
       "<table border=\"1\" class=\"dataframe\">\n",
       "  <thead>\n",
       "    <tr>\n",
       "      <th></th>\n",
       "      <th>followers</th>\n",
       "      <th colspan=\"3\" halign=\"left\">cts</th>\n",
       "      <th>average_time_between_posts</th>\n",
       "    </tr>\n",
       "    <tr>\n",
       "      <th></th>\n",
       "      <th>max</th>\n",
       "      <th>max</th>\n",
       "      <th>min</th>\n",
       "      <th>count</th>\n",
       "      <th></th>\n",
       "    </tr>\n",
       "    <tr>\n",
       "      <th>profile_id</th>\n",
       "      <th></th>\n",
       "      <th></th>\n",
       "      <th></th>\n",
       "      <th></th>\n",
       "      <th></th>\n",
       "    </tr>\n",
       "  </thead>\n",
       "  <tbody>\n",
       "    <tr>\n",
       "      <th>4.000000e+00</th>\n",
       "      <td>4937112.0</td>\n",
       "      <td>2019-05-05 08:03:36</td>\n",
       "      <td>2010-07-22 12:19:51</td>\n",
       "      <td>37</td>\n",
       "      <td>89 days 03:12:52.916666666</td>\n",
       "    </tr>\n",
       "    <tr>\n",
       "      <th>1.900000e+01</th>\n",
       "      <td>119775.0</td>\n",
       "      <td>2019-04-17 07:44:13</td>\n",
       "      <td>2010-10-23 18:48:33</td>\n",
       "      <td>51</td>\n",
       "      <td>61 days 22:49:06.800000</td>\n",
       "    </tr>\n",
       "    <tr>\n",
       "      <th>2.800000e+01</th>\n",
       "      <td>113310.0</td>\n",
       "      <td>2019-04-16 05:10:12</td>\n",
       "      <td>2011-02-19 20:16:29</td>\n",
       "      <td>92</td>\n",
       "      <td>32 days 17:14:26.186813186</td>\n",
       "    </tr>\n",
       "    <tr>\n",
       "      <th>3.400000e+01</th>\n",
       "      <td>83915.0</td>\n",
       "      <td>2019-07-01 20:49:50</td>\n",
       "      <td>2011-07-29 06:24:16</td>\n",
       "      <td>20</td>\n",
       "      <td>152 days 08:20:17.578947368</td>\n",
       "    </tr>\n",
       "    <tr>\n",
       "      <th>5.600000e+01</th>\n",
       "      <td>40587.0</td>\n",
       "      <td>2016-07-25 05:36:50</td>\n",
       "      <td>2015-01-18 03:38:06</td>\n",
       "      <td>3</td>\n",
       "      <td>277 days 00:59:22</td>\n",
       "    </tr>\n",
       "    <tr>\n",
       "      <th>...</th>\n",
       "      <td>...</td>\n",
       "      <td>...</td>\n",
       "      <td>...</td>\n",
       "      <td>...</td>\n",
       "      <td>...</td>\n",
       "    </tr>\n",
       "    <tr>\n",
       "      <th>1.349627e+10</th>\n",
       "      <td>5123.0</td>\n",
       "      <td>2019-07-05 16:11:17</td>\n",
       "      <td>2019-05-10 06:29:52</td>\n",
       "      <td>13</td>\n",
       "      <td>4 days 16:48:27.083333333</td>\n",
       "    </tr>\n",
       "    <tr>\n",
       "      <th>1.350481e+10</th>\n",
       "      <td>2646.0</td>\n",
       "      <td>2019-07-07 19:58:19</td>\n",
       "      <td>2019-05-08 14:33:27</td>\n",
       "      <td>18</td>\n",
       "      <td>3 days 13:01:27.764705882</td>\n",
       "    </tr>\n",
       "    <tr>\n",
       "      <th>1.351643e+10</th>\n",
       "      <td>4771.0</td>\n",
       "      <td>2019-08-12 13:17:36</td>\n",
       "      <td>2019-05-10 16:15:26</td>\n",
       "      <td>14</td>\n",
       "      <td>7 days 05:18:37.692307692</td>\n",
       "    </tr>\n",
       "    <tr>\n",
       "      <th>1.370178e+10</th>\n",
       "      <td>2555.0</td>\n",
       "      <td>2019-07-17 18:34:39</td>\n",
       "      <td>2019-05-17 10:15:10</td>\n",
       "      <td>13</td>\n",
       "      <td>5 days 02:41:37.416666666</td>\n",
       "    </tr>\n",
       "    <tr>\n",
       "      <th>1.418136e+10</th>\n",
       "      <td>9175.0</td>\n",
       "      <td>2019-06-20 16:06:28</td>\n",
       "      <td>2019-06-06 23:46:14</td>\n",
       "      <td>15</td>\n",
       "      <td>0 days 23:27:09.571428571</td>\n",
       "    </tr>\n",
       "  </tbody>\n",
       "</table>\n",
       "<p>269112 rows × 5 columns</p>\n",
       "</div>"
      ],
      "text/plain": [
       "              followers                 cts                            \\\n",
       "                    max                 max                 min count   \n",
       "profile_id                                                              \n",
       "4.000000e+00  4937112.0 2019-05-05 08:03:36 2010-07-22 12:19:51    37   \n",
       "1.900000e+01   119775.0 2019-04-17 07:44:13 2010-10-23 18:48:33    51   \n",
       "2.800000e+01   113310.0 2019-04-16 05:10:12 2011-02-19 20:16:29    92   \n",
       "3.400000e+01    83915.0 2019-07-01 20:49:50 2011-07-29 06:24:16    20   \n",
       "5.600000e+01    40587.0 2016-07-25 05:36:50 2015-01-18 03:38:06     3   \n",
       "...                 ...                 ...                 ...   ...   \n",
       "1.349627e+10     5123.0 2019-07-05 16:11:17 2019-05-10 06:29:52    13   \n",
       "1.350481e+10     2646.0 2019-07-07 19:58:19 2019-05-08 14:33:27    18   \n",
       "1.351643e+10     4771.0 2019-08-12 13:17:36 2019-05-10 16:15:26    14   \n",
       "1.370178e+10     2555.0 2019-07-17 18:34:39 2019-05-17 10:15:10    13   \n",
       "1.418136e+10     9175.0 2019-06-20 16:06:28 2019-06-06 23:46:14    15   \n",
       "\n",
       "              average_time_between_posts  \n",
       "                                          \n",
       "profile_id                                \n",
       "4.000000e+00  89 days 03:12:52.916666666  \n",
       "1.900000e+01     61 days 22:49:06.800000  \n",
       "2.800000e+01  32 days 17:14:26.186813186  \n",
       "3.400000e+01 152 days 08:20:17.578947368  \n",
       "5.600000e+01           277 days 00:59:22  \n",
       "...                                  ...  \n",
       "1.349627e+10   4 days 16:48:27.083333333  \n",
       "1.350481e+10   3 days 13:01:27.764705882  \n",
       "1.351643e+10   7 days 05:18:37.692307692  \n",
       "1.370178e+10   5 days 02:41:37.416666666  \n",
       "1.418136e+10   0 days 23:27:09.571428571  \n",
       "\n",
       "[269112 rows x 5 columns]"
      ]
     },
     "execution_count": 67,
     "metadata": {},
     "output_type": "execute_result"
    }
   ],
   "source": [
    "top_10_grouped = top_10_followers.groupby(\"profile_id\").aggregate({'followers': \"max\",'cts':[\"max\", \"min\", \"count\"]})\n",
    "top_10_grouped =  top_10_grouped[top_10_grouped.cts[\"count\"] > 1]\n",
    "top_10_grouped[\"average_time_between_posts\"] = (top_10_grouped.cts['max'] - top_10_grouped.cts['min']) / (top_10_grouped.cts['count']-1)\n",
    "\n",
    "bot_90_grouped = bottom_90_follow.groupby(\"profile_id\").aggregate({'followers': \"max\",'cts':[\"max\", \"min\", \"count\"]},\"followers\")\n",
    "bot_90_grouped =  bot_90_grouped[bot_90_grouped.cts[\"count\"] > 1]\n",
    "bot_90_grouped[\"average_time_between_posts\"] = (bot_90_grouped.cts['max'] - bot_90_grouped.cts['min']) / (bot_90_grouped.cts['count']-1)\n",
    "\n",
    "#TOP 10% OF USERS DATAFRAME WITH AVERAGE TIME BETWEEN POSTS PER USER\n",
    "top_10_grouped"
   ]
  },
  {
   "cell_type": "code",
   "execution_count": 68,
   "id": "a6b0cb30-cf76-41e3-9080-12629d0b006e",
   "metadata": {},
   "outputs": [
    {
     "data": {
      "text/html": [
       "<div>\n",
       "<style scoped>\n",
       "    .dataframe tbody tr th:only-of-type {\n",
       "        vertical-align: middle;\n",
       "    }\n",
       "\n",
       "    .dataframe tbody tr th {\n",
       "        vertical-align: top;\n",
       "    }\n",
       "\n",
       "    .dataframe thead tr th {\n",
       "        text-align: left;\n",
       "    }\n",
       "\n",
       "    .dataframe thead tr:last-of-type th {\n",
       "        text-align: right;\n",
       "    }\n",
       "</style>\n",
       "<table border=\"1\" class=\"dataframe\">\n",
       "  <thead>\n",
       "    <tr>\n",
       "      <th></th>\n",
       "      <th>followers</th>\n",
       "      <th colspan=\"3\" halign=\"left\">cts</th>\n",
       "      <th>average_time_between_posts</th>\n",
       "    </tr>\n",
       "    <tr>\n",
       "      <th></th>\n",
       "      <th>max</th>\n",
       "      <th>max</th>\n",
       "      <th>min</th>\n",
       "      <th>count</th>\n",
       "      <th></th>\n",
       "    </tr>\n",
       "    <tr>\n",
       "      <th>profile_id</th>\n",
       "      <th></th>\n",
       "      <th></th>\n",
       "      <th></th>\n",
       "      <th></th>\n",
       "      <th></th>\n",
       "    </tr>\n",
       "  </thead>\n",
       "  <tbody>\n",
       "    <tr>\n",
       "      <th>1.640000e+02</th>\n",
       "      <td>1582.0</td>\n",
       "      <td>2019-06-22 20:05:06</td>\n",
       "      <td>2019-02-11 11:47:46</td>\n",
       "      <td>13</td>\n",
       "      <td>10 days 22:41:26.666666666</td>\n",
       "    </tr>\n",
       "    <tr>\n",
       "      <th>2.080000e+02</th>\n",
       "      <td>381.0</td>\n",
       "      <td>2019-03-27 04:55:36</td>\n",
       "      <td>2019-03-14 04:37:46</td>\n",
       "      <td>12</td>\n",
       "      <td>1 days 04:23:26.363636363</td>\n",
       "    </tr>\n",
       "    <tr>\n",
       "      <th>2.660000e+02</th>\n",
       "      <td>845.0</td>\n",
       "      <td>2019-02-05 16:06:02</td>\n",
       "      <td>2018-09-20 03:51:13</td>\n",
       "      <td>12</td>\n",
       "      <td>12 days 14:12:15.363636363</td>\n",
       "    </tr>\n",
       "    <tr>\n",
       "      <th>4.920000e+02</th>\n",
       "      <td>671.0</td>\n",
       "      <td>2019-05-19 15:13:40</td>\n",
       "      <td>2019-03-10 12:37:20</td>\n",
       "      <td>14</td>\n",
       "      <td>5 days 09:25:52.307692307</td>\n",
       "    </tr>\n",
       "    <tr>\n",
       "      <th>5.600000e+02</th>\n",
       "      <td>132.0</td>\n",
       "      <td>2019-08-05 22:52:00</td>\n",
       "      <td>2019-04-29 08:52:41</td>\n",
       "      <td>13</td>\n",
       "      <td>8 days 05:09:56.583333333</td>\n",
       "    </tr>\n",
       "    <tr>\n",
       "      <th>...</th>\n",
       "      <td>...</td>\n",
       "      <td>...</td>\n",
       "      <td>...</td>\n",
       "      <td>...</td>\n",
       "      <td>...</td>\n",
       "    </tr>\n",
       "    <tr>\n",
       "      <th>1.499738e+10</th>\n",
       "      <td>786.0</td>\n",
       "      <td>2019-07-11 04:25:20</td>\n",
       "      <td>2019-07-09 03:18:33</td>\n",
       "      <td>12</td>\n",
       "      <td>0 days 04:27:53.363636363</td>\n",
       "    </tr>\n",
       "    <tr>\n",
       "      <th>1.501918e+10</th>\n",
       "      <td>516.0</td>\n",
       "      <td>2019-07-21 14:05:34</td>\n",
       "      <td>2019-06-19 13:17:00</td>\n",
       "      <td>5</td>\n",
       "      <td>8 days 00:12:08.500000</td>\n",
       "    </tr>\n",
       "    <tr>\n",
       "      <th>1.523330e+10</th>\n",
       "      <td>4.0</td>\n",
       "      <td>2019-06-27 00:11:09</td>\n",
       "      <td>2019-06-26 23:56:47</td>\n",
       "      <td>3</td>\n",
       "      <td>0 days 00:07:11</td>\n",
       "    </tr>\n",
       "    <tr>\n",
       "      <th>1.566695e+10</th>\n",
       "      <td>49.0</td>\n",
       "      <td>2019-08-06 01:01:31</td>\n",
       "      <td>2019-07-29 21:36:32</td>\n",
       "      <td>11</td>\n",
       "      <td>0 days 17:08:29.900000</td>\n",
       "    </tr>\n",
       "    <tr>\n",
       "      <th>9.001013e+13</th>\n",
       "      <td>46.0</td>\n",
       "      <td>2018-04-04 09:53:28</td>\n",
       "      <td>2017-06-22 10:56:54</td>\n",
       "      <td>10</td>\n",
       "      <td>31 days 18:32:57.111111111</td>\n",
       "    </tr>\n",
       "  </tbody>\n",
       "</table>\n",
       "<p>1690690 rows × 5 columns</p>\n",
       "</div>"
      ],
      "text/plain": [
       "             followers                 cts                            \\\n",
       "                   max                 max                 min count   \n",
       "profile_id                                                             \n",
       "1.640000e+02    1582.0 2019-06-22 20:05:06 2019-02-11 11:47:46    13   \n",
       "2.080000e+02     381.0 2019-03-27 04:55:36 2019-03-14 04:37:46    12   \n",
       "2.660000e+02     845.0 2019-02-05 16:06:02 2018-09-20 03:51:13    12   \n",
       "4.920000e+02     671.0 2019-05-19 15:13:40 2019-03-10 12:37:20    14   \n",
       "5.600000e+02     132.0 2019-08-05 22:52:00 2019-04-29 08:52:41    13   \n",
       "...                ...                 ...                 ...   ...   \n",
       "1.499738e+10     786.0 2019-07-11 04:25:20 2019-07-09 03:18:33    12   \n",
       "1.501918e+10     516.0 2019-07-21 14:05:34 2019-06-19 13:17:00     5   \n",
       "1.523330e+10       4.0 2019-06-27 00:11:09 2019-06-26 23:56:47     3   \n",
       "1.566695e+10      49.0 2019-08-06 01:01:31 2019-07-29 21:36:32    11   \n",
       "9.001013e+13      46.0 2018-04-04 09:53:28 2017-06-22 10:56:54    10   \n",
       "\n",
       "             average_time_between_posts  \n",
       "                                         \n",
       "profile_id                               \n",
       "1.640000e+02 10 days 22:41:26.666666666  \n",
       "2.080000e+02  1 days 04:23:26.363636363  \n",
       "2.660000e+02 12 days 14:12:15.363636363  \n",
       "4.920000e+02  5 days 09:25:52.307692307  \n",
       "5.600000e+02  8 days 05:09:56.583333333  \n",
       "...                                 ...  \n",
       "1.499738e+10  0 days 04:27:53.363636363  \n",
       "1.501918e+10     8 days 00:12:08.500000  \n",
       "1.523330e+10            0 days 00:07:11  \n",
       "1.566695e+10     0 days 17:08:29.900000  \n",
       "9.001013e+13 31 days 18:32:57.111111111  \n",
       "\n",
       "[1690690 rows x 5 columns]"
      ]
     },
     "execution_count": 68,
     "metadata": {},
     "output_type": "execute_result"
    }
   ],
   "source": [
    "#BOTTOM 90% OF USERS DATAFRAME WITH AVERAGE TIME BETWEEN POSTS PER USER\n",
    "bot_90_grouped"
   ]
  },
  {
   "cell_type": "markdown",
   "id": "0681d7ed-4371-46fa-9d32-2f08bf2ff189",
   "metadata": {},
   "source": [
    "5. We <b>compute the mean of the \"average time between posts\" per user, for each one of the datasets:"
   ]
  },
  {
   "cell_type": "code",
   "execution_count": 69,
   "id": "9ff7927a-5f0a-4fcf-825e-2c16cf6deae2",
   "metadata": {},
   "outputs": [
    {
     "name": "stdout",
     "output_type": "stream",
     "text": [
      "Top 10% of users in terms of followers post on average every 28 days 17:43:41.810042290\n",
      "Bottom 90% of users in terms of followers post on average every  23 days 17:58:06.043257518\n"
     ]
    }
   ],
   "source": [
    "print(\"Top 10% of users in terms of followers post on average every\",top_10_grouped[\"average_time_between_posts\"].mean())\n",
    "print(\"Bottom 90% of users in terms of followers post on average every \",bot_90_grouped[\"average_time_between_posts\"].mean())"
   ]
  },
  {
   "cell_type": "markdown",
   "id": "f6aa10af-3e04-4f6f-b695-56bd979be8b1",
   "metadata": {},
   "source": [
    "Surprisingly, <b>users with more followers post on average less often</b> (around every 28 days) <b>than the users with less followers</b> (around every 23 days). As this result was strange to us (one would expect the opposite, thinking of \"influencers\" for instance), <b>we decided to further investigate the distributions of average times</b> to find if maybe there could be outliers that would overestimate the means of both distributions:"
   ]
  },
  {
   "cell_type": "code",
   "execution_count": 86,
   "id": "61d2ada5-3ff4-4105-a265-aa41e96f4fdf",
   "metadata": {},
   "outputs": [
    {
     "name": "stdout",
     "output_type": "stream",
     "text": [
      "Summary Statistics: Top 10%\n",
      "\n",
      "count                        269112\n",
      "mean     28 days 17:43:41.810042290\n",
      "std      64 days 10:14:36.071104174\n",
      "min          0 days 00:00:02.800000\n",
      "25%       3 days 18:16:40.458333333\n",
      "50%       9 days 23:27:35.572192513\n",
      "75%      34 days 10:33:53.113636363\n",
      "max              2400 days 03:24:34\n",
      "Name: average_time_between_posts, dtype: object\n",
      "\n",
      "Percentile       Quantile\n",
      "0.500000      9 days 23:27:35.572192513\n",
      "0.900000     71 days 14:39:54.128571429\n",
      "0.950000     97 days 22:09:17.752424242\n",
      "0.990000    210 days 16:56:36.748333388\n",
      "0.999000    917 days 21:21:00.513500704\n",
      "0.999900   1623 days 20:30:52.706580512\n",
      "0.999999   2375 days 22:38:54.763439872\n",
      "1.000000             2400 days 03:24:34\n",
      "Name: average_time_between_posts, dtype: timedelta64[ns]\n"
     ]
    }
   ],
   "source": [
    "print(\"Summary Statistics: Top 10%\")\n",
    "print(\"\")\n",
    "print(top_10_grouped.average_time_between_posts.describe())\n",
    "print(\"\")\n",
    "print(\"Percentile       Quantile\")\n",
    "print(top_10_grouped.average_time_between_posts.quantile([.5, .90, .95 , .99 , .999 , .9999 , .999999 , 1]))"
   ]
  },
  {
   "cell_type": "code",
   "execution_count": 85,
   "id": "41a815c5-1da4-42ff-aaab-880679960d1b",
   "metadata": {},
   "outputs": [
    {
     "name": "stdout",
     "output_type": "stream",
     "text": [
      "Summary Statistics: Bottom 90%\n",
      "\n",
      "count                       1690690\n",
      "mean     23 days 17:58:06.043257518\n",
      "std      47 days 21:17:47.545413374\n",
      "min                 0 days 00:00:00\n",
      "25%       4 days 17:02:26.464285713\n",
      "50%      10 days 14:25:28.909090908\n",
      "75%      26 days 13:20:57.545454545\n",
      "max              2890 days 18:18:06\n",
      "Name: average_time_between_posts, dtype: object\n",
      "\n",
      "Percentile       Quantile\n",
      "0.500000     10 days 14:25:28.909090908\n",
      "0.900000     57 days 02:39:14.327272737\n",
      "0.950000     81 days 12:06:46.249999992\n",
      "0.990000    173 days 18:33:42.128285628\n",
      "0.999000    612 days 16:58:03.135010288\n",
      "0.999900   1406 days 14:17:49.103562336\n",
      "0.999999   2541 days 22:37:41.516439776\n",
      "1.000000             2890 days 18:18:06\n",
      "Name: average_time_between_posts, dtype: timedelta64[ns]\n"
     ]
    }
   ],
   "source": [
    "print(\"Summary Statistics: Bottom 90%\")\n",
    "print(\"\")\n",
    "print(bot_90_grouped.average_time_between_posts.describe())\n",
    "print(\"\")\n",
    "print(\"Percentile       Quantile\")\n",
    "print(bot_90_grouped.average_time_between_posts.quantile([.5, .90, .95 , .99 , .999 , .9999 , .999999 , 1]))"
   ]
  },
  {
   "cell_type": "markdown",
   "id": "ac68c904-4c6e-4658-bb13-b62b5b7fe650",
   "metadata": {},
   "source": [
    " We can observe outliers i both distributions that if we remove, we will obtain a more realistic average time between posts for each group. For example if we exclude the top 1% of users in terms of average time between post for each group we obtain more representative mean values:"
   ]
  },
  {
   "cell_type": "code",
   "execution_count": 89,
   "id": "150835cb-4c5a-4704-aa56-e8fad0401087",
   "metadata": {},
   "outputs": [
    {
     "name": "stdout",
     "output_type": "stream",
     "text": [
      "Top 10% of users in terms of followers post on average every 23 days 17:58:06.043257518\n",
      "Bottom 90% of users in terms of followers post on average every 20 days 12:14:17.387364731\n"
     ]
    }
   ],
   "source": [
    "top_10_grouped_reduced =  top_10_grouped[top_10_grouped.average_time_between_posts <= \"210 days 16:56:36.748333388\"]\n",
    "bot_90_grouped_reduced =  bot_90_grouped[bot_90_grouped.average_time_between_posts <= \"173 days 18:33:42.128285628\"]\n",
    "\n",
    "print(\"Top 10% of users in terms of followers post on average every\",bot_90_grouped[\"average_time_between_posts\"].mean())\n",
    "print(\"Bottom 90% of users in terms of followers post on average every\",bot_90_grouped_reduced[\"average_time_between_posts\"].mean())"
   ]
  },
  {
   "cell_type": "markdown",
   "id": "c72b3888-78e7-4fe2-aa5b-96e9b06dd660",
   "metadata": {},
   "source": [
    "After comparing both distributions witouth outliers, they actually show that <b>users with less followers on average post more often</b>. So we could have as a plausible hypothesis to test, that on average, people who have less followers might feel less pressured to post only \"top content\" and might actually post more frequently, not being so concious about what to post (i.e. having a \"small but close\" circle of friends, might make users to post more regularly). Also, in regard of influencers and users with lots of followers, they might actually don't need to post too often as they already have an engaged fan base."
   ]
  },
  
  {
   "cell_type": "markdown",
   "metadata": {},
   "source": [
    "## [AQ1]"
   ]
  },
  {
   "cell_type": "markdown",
   "metadata": {},
   "source": [
    "### [AQ1.1] What is the output of this algorithm? Describe the mechanism of the algorithm in detail. We do not want to know only its final result. (Describe one example on your own)"
   ]
  },
  {
   "cell_type": "markdown",
   "metadata": {},
   "source": [
    "This algorithm takes as <b>input</b>:\n",
    "- An array of characters of length N <u>without repetition</u> (<i>sequence</i>).\n",
    "- An index that refers to the beggining of the array (0) (<i>start</i>).\n",
    "- An index of the last character of the array (N-1) (<i>end</i>).\n",
    "- The parameter end could be fixed (n-1). However, in this way there is a possibility of choosing a specific subsequence of the string from which we want to obtain all possible permutations.\n",
    "\n",
    "<pre><code>\n",
    "constraints:\n",
    "* start < N = len(sequence)\n",
    "* start <= end\n",
    "\n",
    "The <b>output</b> of this algorithm includes:\n",
    "- N! lines, each one with a <b>different permutation</b> of the sequence of characters provided in the input.\n",
    "\n",
    "<h3>Example</h3>\n",
    "For <b>instance</b>, if we call the function with this input: f2([\"s\",\"e\",\"t\"],0,2] , the ouput would be:\n",
    "\n",
    "1) set\n",
    "2) ste\n",
    "3) est\n",
    "4) ets\n",
    "5) tes\n",
    "6) tse\n",
    "\n",
    "</pre></code>\n",
    "\n",
    "<h3>Detailed Explanation</h3>\n",
    "\n",
    "The algorithm <b>iterates through each of the characters of the string</b>, and <b>recursively provides all possible variations of that specific character within the string</b>.\n",
    "\n",
    "In this way, after each recursive cycle, the algorithm \"moves\" one character to the right within the original string, then \"swaps\" that character first with itself, but then it is swapped with all the other characters coming after it in the string.\n",
    "\n",
    "The <b>base case</b> of this recursive algorithm is <b>when the (iterated) starting character of the string is equal to the last character of the string (start=end) </b>, because this means that we have already go trough each character of the string and have recursevely swapped it throughout all possible positions of the string."
   ]
  },
  {
   "cell_type": "markdown",
   "metadata": {},
   "source": [
    "### [AQ1.2] What is asymptotically (i.e., we are asking for big-O complexity) the algorithm's running time as a function of N?"
   ]
  },
  {
   "cell_type": "markdown",
   "metadata": {},
   "source": [
    "#### Big-O complexity\n",
    "\n",
    "<br>\n",
    "<br>\n",
    "\n",
    "\\begin{equation}\n",
    "    T(n)=\n",
    "    \\begin{cases}\n",
    "      T_1(n) \\\\\n",
    "      T_2(n) \n",
    "    \\end{cases}\n",
    "\\end{equation}\n",
    "\n",
    "<pre><code>\n",
    "\n",
    "Where, T1(n) refers to the time-complexity of function f1 and T2(n) refers to the time-complexity of function f2.\n",
    "\n",
    "Let's focus on T2(n) for now.\n",
    "\n",
    "\n",
    "\n",
    "</code></pre>\n",
    "\n",
    "\n",
    "\\begin{equation}\n",
    "    T_2(n)=\n",
    "    \\begin{cases}\n",
    "      T_1(n) = O(n) + c & \\text{if}\\ start = end \\\\\n",
    "      n*T_2(n-1) + c & \\text{if}\\ start < end \\\\\n",
    "    \\end{cases}\n",
    "\\end{equation}\n",
    "\n",
    "<pre><code>\n",
    "\n",
    "T2(n) becomes T(n) for the sake of simplicity.\n",
    "\n",
    "Let's solve by substitution, where the <u>starting point</u> is:\n",
    "<b>T(n) = <span style=\"color:blue\">n*T(n-1)</span> + c</b>\n",
    "\n",
    "     <span style=\"color:blue\"><u>[1st substitution]</u></span>\n",
    "     \n",
    "     = n*<span style=\"color:blue\">[(n-1)*T(n-2) + c]</span> + c                  \n",
    "     = n*(n-1)*T(n-2) + cn + c\n",
    "     = n*(n-1)*<span style=\"color:red\">T(n-2)</span> + c(n+1)\n",
    "     \n",
    "     <span style=\"color:red\"><u>[2nd substitution]</u></span>\n",
    "     \n",
    "     = n*(n-1)*<span style=\"color:red\">[(n-2)*T(n-3) + c]</span> + c(n+1)    \n",
    "     = n*(n-1)*(n-2)*T(n-3) + n(n-1)c + nc + c\n",
    "     = ...\n",
    "     \n",
    "     <u>[ith substitution]</u>\n",
    "     \n",
    "     = n*(n-1)*(n-2)*...*(n-(i-1))*T(n-i) + n(n-1)(n-2)(n-i-2)c + ... + nc + c\n",
    "     \n",
    "     <u>[i = n]</u>\n",
    "     \n",
    "     = n*(n-1)*(n-2)*...*2*1*T(0) + c + nc + n(n-1)c + ... + c*n*(n-1)*(n-2)*...*4*3\n",
    "     = <b><span style=\"color:blue\">n!*T(0)</span> + <span style=\"color:red\">c(n + n(n-1) + ... + c*n*(n-1)*(n-2)*...*4*3)</span></b>\n",
    "     = <span style=\"color:blue\">Part1</span> + <span style=\"color:red\">Part2</span>, where Part2 is smaller than Part1\n",
    "     ≥ Part 1 = n!T(0), where T(0) is the base case (start=end)\n",
    " \n",
    "</code></pre>\n",
    "  \n",
    "#### <b><u>Conclusion: T(n) = O(N*N!)</u></b>"
   ]
  },
  {
   "cell_type": "markdown",
   "metadata": {},
   "source": [
    "### [AQ1.3] Is this algorithm the optimal one to produce this output? If not, can you suggest a better algorithm to perform the same task?"
   ]
  },
  {
   "cell_type": "markdown",
   "metadata": {},
   "source": [
    "Even though <b>O(N*N!)</b> is one of the worst running-times when it comes to algorithmic time complexity, this particular problem cannot be solved with a more efficient solution because the only way to return <u>all</u> of the possible permutations of a sequence requires computing n! operations."
   ]
  },
  {
   "cell_type": "markdown",
   "metadata": {},
   "source": [
    "## [AQ2]\n",
    "#### Considering the following problem, answer the questions.\n",
    "#### Alex has a ribbon of length N. He wants to cut the ribbon in a way that fulfils the following three conditions:\n",
    "\n",
    "* **[1]** Each piece of the cut should have an integer length <br>\n",
    "* **[2]** He should at least cut the ribbon once <br>\n",
    "* **[3]** The multiplication of the length of all the pieces be the maximum possible <br>"
   ]
  },
  {
   "cell_type": "markdown",
   "metadata": {},
   "source": [
    "### **[AQ2.1] Implement a recursive algorithm to help Alex find the maximum possible value after multiplying the length of the pieces. Explain your algorithm in detail.**"
   ]
  },
  {
   "cell_type": "code",
   "execution_count": 70,
   "metadata": {},
   "outputs": [],
   "source": [
    "def FindMaxProdRec(n):\n",
    "     \n",
    "    # Base cases\n",
    "    if n == 0 or n == 1:\n",
    "        return 0\n",
    "\n",
    "    \n",
    "    max_product = 0\n",
    "    for i in range(1, n): # make the i cut(s) in all possible ways: (1, n-1), (2, n-2), ... (n-1 , 1), (n, 0) \n",
    "        max_product = max(max_product, max(i * (n - i), FindMaxProdRec(n - i) * i))\n",
    "  \n",
    "    \n",
    "    return max_product # Output the maximum product"
   ]
  },
  {
   "cell_type": "code",
   "execution_count": 72,
   "metadata": {},
   "outputs": [
    {
     "data": {
      "text/plain": [
       "18"
      ]
     },
     "execution_count": 72,
     "metadata": {},
     "output_type": "execute_result"
    }
   ],
   "source": [
    "FindMaxProdRec(8)"
   ]
  },
  {
   "cell_type": "markdown",
   "metadata": {},
   "source": [
    "### Explanation\n",
    "\n",
    "<br>\n",
    "\n",
    "`Input: n = length of the ribbon`\n",
    "\n",
    "#### The algorithm must satify all three conditions:\n",
    "\n",
    "**[1]** Each piece of the cut should have an integer length <br>\n",
    "**[2]** He should at least cut the ribbon once <br>\n",
    "**[3]** The multiplication of the length of all the pieces be the maximum possible <br>\n",
    "\n",
    "\n",
    "#### First of all, it must be a recursive function. Therefore it must satisfy the three following conditions:\n",
    "* The function must call itself recursively.\n",
    "* There must exist a base case.\n",
    "* The function must change its state and move towards the base case.\n",
    "\n",
    "\n",
    "#### We want cut the ribbon <u>at least once</u>, the cuts must be of <u> integer length</u> while obtaining the maximum possible product of the pieces' length.\n",
    "* Hence, For ribbons of `length 0 or 1`, the function must `return 0`.\n",
    "* While for `n = 2`, we can <u>cut the ribbon into two pieces of length 1</u>. Therefore, the function must `return 1 (1*1) and not 2`, even though the length of the ribbon is larger than the product of the two pieces.\n",
    "* The same reasoning is applied to the ribbon of `length 3`. We can <u>cut it into two pieces of lengths (1, 2)</u>. The function will `return 2 (1*2) and not 3` as we impose the algorithm to cut the ribbon at least once.\n",
    "* For `n > 3`, there may be multiple ways of cutting a ribbon, one of which gives the maximum product. <br>\n",
    "\n",
    "<pre><code>\n",
    "For instance, given that <u>k is the number of cuts</u> (where k < n) and n = 4, we may have the following possible outcomes:\n",
    "  1) for k = 1: (2, 2), (1, 3), (3, 1), where the respective products are 4, 3, 3\n",
    "  2) for k = 2: (1, 1, 2), (2, 1, 1), (1, 2, 1) where the respective products are 2, 2, 2\n",
    "  3) for k = 3: (1, 1, 1, 1) where the product is equal to 1\n",
    "  \n",
    "We can conclude that for n = 4 there are 7 not unique solutions and 4 unique solutions for cutting the ribbon, where <u>the maximum product is equal to 4</u>.\n",
    "  \n",
    "</code></pre>\n",
    "  \n",
    "  **How does the algorithm work?**\n",
    "  \n",
    "<pre><code>\n",
    "maxVal = 0 # the maximum value (product) is initialized to zero.\n",
    "\n",
    "for i in range(1, 4): \n",
    "      maxVal = max(maxVal, max(i * (n - i), FindMaxProdRec(4 - i) * i))\n",
    "           \n",
    "     <u>for i = 1</u>\n",
    "     maxVal = max(0, max(1 * (4 - 1), FindMaxProdRec(4 - 1) * 1))\n",
    "            = max(0, max(3, FindMaxProdRec(3)))\n",
    "\n",
    "     1) we call function FindMaxProdRec(3):\n",
    "     \n",
    "     for i in range(1, 3): \n",
    "           maxVal = max(0, max(2, FindMaxProdRec(2)))\n",
    "           \n",
    "     2) we call function FindMaxProdRec(2):\n",
    "     \n",
    "     for i in range(1, 2): # only one iteration\n",
    "           maxVal = max(0, max(1, FindMaxProdRec(1))) # base case\n",
    "                  = max(0, max(1, 0))\n",
    "                  = max(0, 1) = 1\n",
    "      \n",
    "Then we go back to the previous function calls and go through <u>all</u> for loops until you reach the top and return the required output.\n",
    "\n",
    "</code></pre> "
   ]
  },
  {
   "cell_type": "markdown",
   "metadata": {},
   "source": [
    "### **[AQ2.2] Show that the algorithm has exponential running time.**"
   ]
  },
  {
   "cell_type": "markdown",
   "metadata": {},
   "source": [
    "This approach is similar to the Fibonacci recursive function: we recursively call the function until we reach the base case. Therefore, everytime we call `FindMaxProdRec(n)`, we form a tree-like recursive structure. \n",
    "\n",
    "\n",
    "### This algorithm runs in `O(2^n)`\n",
    " \n",
    "<pre><code>\n",
    "FindMaxProdRec(n)\n",
    "\n",
    "[1] If statement: O(1) # base case\n",
    "[2] MaxVal = 0: O(1)\n",
    "[2] recursion = call the function recursively n times.\n",
    "Each time we call the function, we call it recursively n times, until we reach the base case where n = 1\n",
    "\n",
    "\n",
    "<u>Conclusions</u>: the number of computations increases exponentially as n increases. Precicely, just like with Fibonacci, the running time complexity is <b>O(2^n)</b> where the latter (big-O notation) denotes an algorithm whose growth doubles with each addition to n. \n",
    "\n",
    "</code></pre>\n",
    "\n",
    "<img src=\"Image1.jpeg\"  width=50% height=50%>"
   ]
  },
  {
   "cell_type": "markdown",
   "metadata": {},
   "source": [
    "### **[AQ2.3/5] Now provide a polynomial solution, based on dynamic programming, and compute its running-time complexity.**"
   ]
  },
  {
   "cell_type": "markdown",
   "metadata": {},
   "source": [
    "### **The Algorithm**"
   ]
  },
  {
   "cell_type": "code",
   "execution_count": 9,
   "metadata": {},
   "outputs": [],
   "source": [
    "def maximize_value(n, max_value, k = 1): # n = ribbon length, k = no. of cuts initialized to 1, max_value (initialized at n)\n",
    "    \n",
    "    if n < 2:\n",
    "        return 0 # base case\n",
    "    \n",
    "    elif n == 2:\n",
    "        return 1\n",
    "    \n",
    "    elif n == 3:\n",
    "        return 2\n",
    "    \n",
    "    else:\n",
    "        \n",
    "        remainder = n % (k+1)\n",
    "        num_pieces = k + 1\n",
    "\n",
    "        product = ((n//num_pieces)**(num_pieces - remainder)) * (((n//num_pieces) + 1)**(remainder))\n",
    "\n",
    "        if product > max_value:\n",
    "            return maximize_value(n, product, k + 1)\n",
    "        else:\n",
    "            return max_value"
   ]
  },
  {
   "cell_type": "code",
   "execution_count": 10,
   "metadata": {},
   "outputs": [
    {
     "data": {
      "text/plain": [
       "18"
      ]
     },
     "execution_count": 10,
     "metadata": {},
     "output_type": "execute_result"
    }
   ],
   "source": [
    "maximize_value(8, 8)"
   ]
  },
  {
   "cell_type": "markdown",
   "metadata": {},
   "source": [
    "### Explanation\n",
    "\n",
    "\n",
    "<pre><code>\n",
    "\n",
    "<b>Inputs: (n, max_value, k = 1)</b>\n",
    "1) n: length of the ribbon\n",
    "2) max_value: the maximum product seen so far (initialized at n)\n",
    "3) k: the number of cuts, where k > 0\n",
    "\n",
    "<h3>Base cases</h3>\n",
    "\n",
    "Just like in AQ2.1, these are the following \"special\" cases:\n",
    "* <u>n = 0 or n = 1</u>: no cuts are possible so max_value = 0\n",
    "* <u>n = 2</u>: only one cut is possible, so max_value = 1 = 1*1\n",
    "* <u>n = 3</u>: only one cut is possible, so max_value = 2 = 1*2\n",
    "\n",
    "<h3>For n greater than or equal to 4</h3>\n",
    "\n",
    "1) <u>remainder = n % (k+1)</u> indicates how much of the ribbon is left once we create pieces of <u>integer</u> size (n/(k+1))+1. For instance, if n = 5 and k = 1, remainder = 5%2 = 1.\n",
    "\n",
    "2) num_pieces = k + 1 is number of pieces given that the number of cuts is equal to k.\n",
    "\n",
    "3) product = ((n//num_pieces)**(num_pieces - remainder)) * (((n//num_pieces) + 1)**(remainder)) where:\n",
    "  a) n//num_pieces is the <u>integer</u> length of the piece\n",
    "  b) (n//num_pieces)**(num_pieces - remainder) returns the product of the pieces of smaller length\n",
    "  c) ((n//num_pieces) + 1)**(remainder) returns the product of the pieces of larger length\n",
    "\n",
    "<h3>Example:</h3>\n",
    "\n",
    "Let's suppose that <b>n = 8 and k = 2</b> then,\n",
    "\n",
    "remainder = 8 % (2+1) = 8 % 3 = 2\n",
    "num_pieces = 2 + 1 = 3\n",
    "\n",
    "<u>product</u> = ((8//3)**(3 - 2)) * (((8//3) + 1)**(2))\n",
    "        = ((2)**(1)) * (((2) + 1)**(2))\n",
    "        = (2 * (3^2)) = (2 * 9) = 18               # we have one piece of length 2 and two pieces of length 3\n",
    "        \n",
    "we can also check that the sum of the lengths of the pieces equals the length of the ribbon.\n",
    "\n",
    "sum = (2*1) + (3*2) = 2 + 6 = 8 = n (correct!) \n",
    "\n",
    "\n",
    "\n",
    "Then we check whether product is greater than the previously stated max_value: if the product is greater than max_value we should recall the function increasing the number of cuts from k to k + 1 => <u>maximize_value(n, product, k + 1)</u>. If instead, the product is smaller than max_value we just return max_value and the algorithm stops.\n",
    "\n",
    "if product > max_value:\n",
    "            return maximize_value(n, product, k + 1)\n",
    "        else:\n",
    "            return max_value\n",
    "\n",
    "Here max_value = 16 # the one given by performing only one cut, where we cut in the middle of the ribbon and obtain two pieces of length equal to 4\n",
    "\n",
    "\n",
    "Since product = 18 > 16 = max_value, we recall the function maximize_value(8, max_value = 18, 3) where now max_value = 18 (and no longer 16) and the number of cuts k has increased by 1 (from 2 to 3).\n",
    "\n",
    "\n",
    "\n",
    "\n",
    "<u>Note 1</u>: we perform the cut(s) in such a way that we obtain pieces of the same integer length (when possible) or of the closest possible integer lengths (like in the previously cited case). Placing the cuts in such a way always returns the maximum product for that specific number of cuts k. Therefore, unlike the recursive case, for each value of k we only have one possible way of cutting the ribbon and not multiple!\n",
    "\n",
    "<u>Note 2</u>: Once you have reached the peak of max_value, by continuing to increase the number of cuts you are only going to decrease the product. So, after the first failure in increasing max_value by increasing the number of cuts we must stop cutting and return max_value.\n",
    "\n",
    "</code></pre>"
   ]
  },
  {
   "cell_type": "markdown",
   "metadata": {},
   "source": [
    "### **Running-time complexity**\n",
    "\n",
    "<pre><code>\n",
    "maximize_value(n, max_value, k = 1)\n",
    "\n",
    "[1] 1st if statement: O(1)\n",
    "[2] 2nd if statement: O(1)\n",
    "[3] 3rd if statement: O(1)\n",
    "[4, 5, 6] variables remainder, num_pieces and product assignment: O(1) each\n",
    "[7] recursion: O(n) => in the worst case scenario k will reach n - 1, meaning that we call the function n - 1 times.\n",
    "\n",
    "T(n) = c*O(1) + O(n) = O(n)\n",
    "\n",
    "<u>Conclusions</u>: the number of computations increases at the same pace as n.\n",
    "\n",
    "</code></pre>"
   ]
  },
  {
   "cell_type": "markdown",
   "metadata": {},
   "source": [
    "### **[AQ2.4] Evaluate the running time of your algorithm for the sizes (Ns) in the range of [2, 25], plot the results, and interpret it (if you have implemented two algorithms, please include both in the plot and compare them).**"
   ]
  },
  {
   "cell_type": "markdown",
   "metadata": {},
   "source": [
    "### Theoretical comparison"
   ]
  },
  {
   "cell_type": "code",
   "execution_count": 51,
   "metadata": {},
   "outputs": [
    {
     "data": {
      "text/plain": [
       "Text(0.5, 1.0, 'Running time complexity of our algorithm')"
      ]
     },
     "execution_count": 51,
     "metadata": {},
     "output_type": "execute_result"
    },
    {
     "data": {
      "image/png": "[encoded data removed]",
      "text/plain": [
       "<Figure size 432x288 with 1 Axes>"
      ]
     },
     "metadata": {
      "needs_background": "light"
     },
     "output_type": "display_data"
    }
   ],
   "source": [
    "from matplotlib import pyplot as plt\n",
    "\n",
    "# maximize_value (O(n))\n",
    "\n",
    "x_values1 = [i for i in range(2, 26)]\n",
    "y_values1 = x_values1\n",
    "\n",
    "\n",
    "# FindMaxProdRec (O(2^n))\n",
    "\n",
    "x_values2 = x_values1\n",
    "y_values2 = [2**i for i in range(2, 26)]\n",
    "\n",
    "fig = plt.figure()\n",
    "ax1 = fig.add_subplot(111)\n",
    "\n",
    "ax1.scatter(x_values1, y_values1, c = 'b', label = 'Linear solution')\n",
    "ax1.scatter(x_values2, y_values2, c = 'r', label = 'Exponential solution')\n",
    "\n",
    "plt.xlabel('Length of the ribbon (n)')\n",
    "plt.ylabel('omplexity')\n",
    "plt.title('Running time complexity of our algorithm')"
   ]
  },
  {
   "cell_type": "markdown",
   "metadata": {},
   "source": [
    "### Timeit comparison"
   ]
  },
  {
   "cell_type": "markdown",
   "metadata": {},
   "source": [
    "#### Maximize_value"
   ]
  },
  {
   "cell_type": "code",
   "execution_count": 39,
   "metadata": {},
   "outputs": [
    {
     "name": "stdout",
     "output_type": "stream",
     "text": [
      "260 ns ± 23.2 ns per loop (mean ± std. dev. of 7 runs, 1000000 loops each)\n",
      "326 ns ± 41.9 ns per loop (mean ± std. dev. of 7 runs, 1000000 loops each)\n",
      "1.28 µs ± 199 ns per loop (mean ± std. dev. of 7 runs, 1000000 loops each)\n",
      "2.91 µs ± 783 ns per loop (mean ± std. dev. of 7 runs, 100000 loops each)\n",
      "2.6 µs ± 802 ns per loop (mean ± std. dev. of 7 runs, 100000 loops each)\n",
      "3.16 µs ± 1.66 µs per loop (mean ± std. dev. of 7 runs, 100000 loops each)\n",
      "3.64 µs ± 960 ns per loop (mean ± std. dev. of 7 runs, 100000 loops each)\n",
      "4.26 µs ± 2.42 µs per loop (mean ± std. dev. of 7 runs, 100000 loops each)\n",
      "4.03 µs ± 706 ns per loop (mean ± std. dev. of 7 runs, 100000 loops each)\n",
      "7.17 µs ± 1.95 µs per loop (mean ± std. dev. of 7 runs, 100000 loops each)\n",
      "6.2 µs ± 2.02 µs per loop (mean ± std. dev. of 7 runs, 100000 loops each)\n",
      "6.65 µs ± 1.62 µs per loop (mean ± std. dev. of 7 runs, 100000 loops each)\n",
      "6.73 µs ± 2.47 µs per loop (mean ± std. dev. of 7 runs, 100000 loops each)\n",
      "6.08 µs ± 930 ns per loop (mean ± std. dev. of 7 runs, 100000 loops each)\n",
      "6.88 µs ± 1.1 µs per loop (mean ± std. dev. of 7 runs, 100000 loops each)\n",
      "7.47 µs ± 1.22 µs per loop (mean ± std. dev. of 7 runs, 100000 loops each)\n",
      "6.91 µs ± 930 ns per loop (mean ± std. dev. of 7 runs, 100000 loops each)\n",
      "8.64 µs ± 2.52 µs per loop (mean ± std. dev. of 7 runs, 100000 loops each)\n",
      "9.59 µs ± 3.3 µs per loop (mean ± std. dev. of 7 runs, 100000 loops each)\n",
      "8.74 µs ± 2.1 µs per loop (mean ± std. dev. of 7 runs, 100000 loops each)\n",
      "8.54 µs ± 1.3 µs per loop (mean ± std. dev. of 7 runs, 100000 loops each)\n",
      "12.7 µs ± 3.97 µs per loop (mean ± std. dev. of 7 runs, 100000 loops each)\n",
      "9.15 µs ± 2.2 µs per loop (mean ± std. dev. of 7 runs, 100000 loops each)\n",
      "10.3 µs ± 2.45 µs per loop (mean ± std. dev. of 7 runs, 100000 loops each)\n"
     ]
    }
   ],
   "source": [
    "out1 = []\n",
    "\n",
    "for i in range(2, 26):\n",
    "    res = %timeit -o maximize_value(i, i)\n",
    "    out1.append(str(res))"
   ]
  },
  {
   "cell_type": "code",
   "execution_count": 44,
   "metadata": {},
   "outputs": [],
   "source": [
    "times1 = []\n",
    "for el in out1:\n",
    "    s = el.split(\" \", 1)\n",
    "    if s[1][0] == \"n\":\n",
    "        times1.append(float(s[0])*0.000001) # nanoseconds => divide by 10^6 to get to milliseconds\n",
    "    elif s[1][0] == \"µ\":\n",
    "        times1.append(float(s[0])*0.001) # microseconds => divide by 10^6 to get to milliseconds"
   ]
  },
  {
   "cell_type": "markdown",
   "metadata": {},
   "source": [
    "#### FindMaxProdRec"
   ]
  },
  {
   "cell_type": "code",
   "execution_count": 32,
   "metadata": {},
   "outputs": [
    {
     "name": "stdout",
     "output_type": "stream",
     "text": [
      "1.63 µs ± 335 ns per loop (mean ± std. dev. of 7 runs, 1000000 loops each)\n",
      "3.1 µs ± 483 ns per loop (mean ± std. dev. of 7 runs, 100000 loops each)\n",
      "8.34 µs ± 3.25 µs per loop (mean ± std. dev. of 7 runs, 100000 loops each)\n",
      "17.6 µs ± 3.49 µs per loop (mean ± std. dev. of 7 runs, 100000 loops each)\n",
      "The slowest run took 4.19 times longer than the fastest. This could mean that an intermediate result is being cached.\n",
      "43.1 µs ± 26.4 µs per loop (mean ± std. dev. of 7 runs, 10000 loops each)\n",
      "93.6 µs ± 26.4 µs per loop (mean ± std. dev. of 7 runs, 10000 loops each)\n",
      "131 µs ± 24.7 µs per loop (mean ± std. dev. of 7 runs, 10000 loops each)\n",
      "241 µs ± 14.5 µs per loop (mean ± std. dev. of 7 runs, 1000 loops each)\n",
      "560 µs ± 101 µs per loop (mean ± std. dev. of 7 runs, 1000 loops each)\n",
      "987 µs ± 97.3 µs per loop (mean ± std. dev. of 7 runs, 1000 loops each)\n",
      "2.41 ms ± 315 µs per loop (mean ± std. dev. of 7 runs, 1000 loops each)\n",
      "3.92 ms ± 98.8 µs per loop (mean ± std. dev. of 7 runs, 100 loops each)\n",
      "8.12 ms ± 553 µs per loop (mean ± std. dev. of 7 runs, 100 loops each)\n",
      "15.9 ms ± 4.78 ms per loop (mean ± std. dev. of 7 runs, 100 loops each)\n",
      "30.8 ms ± 10.5 ms per loop (mean ± std. dev. of 7 runs, 10 loops each)\n",
      "59.5 ms ± 7.48 ms per loop (mean ± std. dev. of 7 runs, 10 loops each)\n",
      "116 ms ± 11.2 ms per loop (mean ± std. dev. of 7 runs, 10 loops each)\n",
      "223 ms ± 17.2 ms per loop (mean ± std. dev. of 7 runs, 1 loop each)\n",
      "448 ms ± 28.6 ms per loop (mean ± std. dev. of 7 runs, 1 loop each)\n",
      "1.18 s ± 379 ms per loop (mean ± std. dev. of 7 runs, 1 loop each)\n",
      "2.66 s ± 516 ms per loop (mean ± std. dev. of 7 runs, 1 loop each)\n",
      "5.05 s ± 801 ms per loop (mean ± std. dev. of 7 runs, 1 loop each)\n",
      "9.37 s ± 888 ms per loop (mean ± std. dev. of 7 runs, 1 loop each)\n",
      "18 s ± 1.19 s per loop (mean ± std. dev. of 7 runs, 1 loop each)\n"
     ]
    }
   ],
   "source": [
    "out2 = []\n",
    "\n",
    "for i in range(2, 26):\n",
    "    res = %timeit -o FindMaxProdRec(i)\n",
    "    out2.append(str(res))"
   ]
  },
  {
   "cell_type": "code",
   "execution_count": 45,
   "metadata": {},
   "outputs": [],
   "source": [
    "times2 = []\n",
    "for el in out2:\n",
    "    s = el.split(\" \", 1)\n",
    "    if s[1][0] == \"µ\":\n",
    "        times2.append(float(s[0])*0.001)\n",
    "    elif s[1][0] == \"m\":\n",
    "        times2.append(float(s[0]))\n",
    "    elif s[1][0] == \"s\":\n",
    "        times2.append(float(s[0])*1000)"
   ]
  },
  {
   "cell_type": "code",
   "execution_count": 43,
   "metadata": {},
   "outputs": [
    {
     "data": {
      "text/plain": [
       "Text(0.5, 1.0, 'Running time of our algorithm')"
      ]
     },
     "execution_count": 43,
     "metadata": {},
     "output_type": "execute_result"
    },
    {
     "data": {
      "image/png": "[encoded data removed]",
      "text/plain": [
       "<Figure size 432x288 with 1 Axes>"
      ]
     },
     "metadata": {
      "needs_background": "light"
     },
     "output_type": "display_data"
    }
   ],
   "source": [
    "fig2 = plt.figure()\n",
    "ax2 = fig2.add_subplot(111)\n",
    "\n",
    "ax2.scatter(x_values1, times1, c = 'b', label = 'Linear solution')\n",
    "ax2.scatter(x_values2, times2, c = 'r', label = 'Exponential solution')\n",
    "\n",
    "plt.xlabel('Length of the ribbon (n)')\n",
    "plt.ylabel('timeit result in μs')\n",
    "plt.title('Running time of our algorithm')"
   ]
  },
  {
   "cell_type": "markdown",
   "metadata": {},
   "source": [
    "### Conclusions\n",
    "\n",
    "Both plots evaluate the running time of both algorithms `maximize_value` and `FindMaxProdRec` in the range of 2 to 25.\n",
    "\n",
    "#### Plot 1\n",
    "\n",
    "The first plot represents a <u>theoretical</u> implementation of what the running times should be according to our intuition.\n",
    "\n",
    "#### Plot 2\n",
    "\n",
    "The second plot captures the running times of the two algorithms as n increases (from 2 to 25) according to the <u>%timeit</u> function that measures the execution time of our code, in this case, the two implemented functions.\n",
    "\n",
    "Comparing the two plots we can clearly see that `maximize_value` (blue line) runs in a linear time and `FindMaxProdRec`(red line) runs in an exponential time. For n > 20, we can really start to see a difference between their execution (running) times: `FindMaxProdRec` becomes unpractical. In fact, for even bigger values of n, our computer is not able to run the function unlike `maximize_value` which returns the expected output instantly."
   ]
  }
  
  

 ],
 
 
 "metadata": {
  "kernelspec": {
   "display_name": "Python 3",
   "language": "python",
   "name": "python3"
  },
  "language_info": {
   "codemirror_mode": {
    "name": "ipython",
    "version": 3
   },
   "file_extension": ".py",
   "mimetype": "text/x-python",
   "name": "python",
   "nbconvert_exporter": "python",
   "pygments_lexer": "ipython3",
   "version": "3.8.8"
  }
 },
 "nbformat": 4,
 "nbformat_minor": 5
}
