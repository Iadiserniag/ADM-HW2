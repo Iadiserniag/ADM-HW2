{
 "cells": [
 
  {
   "cell_type": "markdown",
   "id": "74411db5-2d7e-4565-bb4a-bf6407368707",
   "metadata": {
    "tags": []
   },
   "source": [
    "## [RQ2]\n",
    "#### Let's explore the dataset by finding simple insights regarding the profile and posts."
   ]
  },
  {
   "cell_type": "code",
   "execution_count": 18,
   "id": "78fa9af4-0392-4e0d-ae0a-d48045496fd0",
   "metadata": {},
   "outputs": [
    {
     "data": {
      "text/plain": [
       "4509586"
      ]
     },
     "execution_count": 18,
     "metadata": {},
     "output_type": "execute_result"
    }
   ],
   "source": [
    "df_instagram_profiles.shape[0] # no. rows = 4,509,586"
   ]
  },
  {
   "cell_type": "markdown",
   "id": "9a440b75-3ab7-4fb0-a90e-1645d458aa75",
   "metadata": {},
   "source": [
    "* **Missing values**"
   ]
  },
  {
   "cell_type": "code",
   "execution_count": 21,
   "id": "3da9cdc1-a39c-42b2-8eed-c41b3154633e",
   "metadata": {},
   "outputs": [
    {
     "data": {
      "text/plain": [
       "sid                          0\n",
       "profile_id               32447\n",
       "profile_name                 0\n",
       "firstname_lastname      288465\n",
       "description            2055996\n",
       "following              1056815\n",
       "followers              1056815\n",
       "n_posts                1056815\n",
       "url                    3639312\n",
       "cts                     438488\n",
       "is_business_account    1064263\n",
       "dtype: int64"
      ]
     },
     "execution_count": 21,
     "metadata": {},
     "output_type": "execute_result"
    }
   ],
   "source": [
    "df_instagram_profiles.isna().sum() \n",
    "\n",
    "# firstname_lastname,\n",
    "# description,\n",
    "# following,\n",
    "# followers,\n",
    "# n_posts,\n",
    "# url and\n",
    "# is_business_account have missing values NaN"
   ]
  },
  {
   "cell_type": "markdown",
   "id": "f4e2b44a-1559-43f6-99d4-f7d4e59c69b8",
   "metadata": {},
   "source": [
    "* Let's remove the columns that are not useful for our purposes:\n",
    "  * `description` has 2055996 missing values\n",
    "  * `url` has 3639312 missing values"
   ]
  },
  {
   "cell_type": "code",
   "execution_count": 3,
   "id": "09d9e0ee-f8d5-4448-a963-396c8189659c",
   "metadata": {},
   "outputs": [
    {
     "data": {
      "text/plain": [
       "9"
      ]
     },
     "execution_count": 3,
     "metadata": {},
     "output_type": "execute_result"
    }
   ],
   "source": [
    "df_instagram_profiles_RQ2 = df_instagram_profiles.drop(['description', 'url'], axis = 1)\n",
    "df_instagram_profiles_RQ2.shape[1]"
   ]
  },
  {
   "cell_type": "markdown",
   "id": "43e5312a-f142-40d6-a7cb-dae067ac33be",
   "metadata": {},
   "source": [
    "* Replace `is_business_account missing` rows with `False` values"
   ]
  },
  {
   "cell_type": "code",
   "execution_count": 4,
   "id": "c2b53f40-ec97-4301-a52c-5ad1836d39e1",
   "metadata": {},
   "outputs": [],
   "source": [
    "df_instagram_profiles_RQ2.is_business_account.fillna(False, inplace = True)"
   ]
  },
  {
   "cell_type": "markdown",
   "id": "458159b7-28ab-4067-ad94-67f0f5c40991",
   "metadata": {},
   "source": [
    "* Finally, let's remove the remaining rows with missing values"
   ]
  },
  {
   "cell_type": "code",
   "execution_count": 5,
   "id": "5881bb4d-ed6f-40aa-9b08-c340467776d5",
   "metadata": {},
   "outputs": [
    {
     "data": {
      "text/plain": [
       "3130712"
      ]
     },
     "execution_count": 5,
     "metadata": {},
     "output_type": "execute_result"
    }
   ],
   "source": [
    "df_instagram_profiles_RQ2.dropna(axis = 0, how = 'any', inplace = True)\n",
    "df_instagram_profiles_RQ2.shape[0] # no. rows = 3,130,712"
   ]
  },
  {
   "cell_type": "code",
   "execution_count": 25,
   "id": "e31c1f92-5479-4050-8a01-63b7abddefd1",
   "metadata": {},
   "outputs": [
    {
     "data": {
      "text/plain": [
       "sid                    0\n",
       "profile_id             0\n",
       "profile_name           0\n",
       "firstname_lastname     0\n",
       "following              0\n",
       "followers              0\n",
       "n_posts                0\n",
       "cts                    0\n",
       "is_business_account    0\n",
       "dtype: int64"
      ]
     },
     "execution_count": 25,
     "metadata": {},
     "output_type": "execute_result"
    }
   ],
   "source": [
    "df_instagram_profiles_RQ2.isna().sum()"
   ]
  },
  {
   "cell_type": "markdown",
   "id": "7aae84c6-385b-41bb-b5f5-97a84b42db8b",
   "metadata": {
    "tags": []
   },
   "source": [
    "##### 2.1 Plot the number of posts for each profile in descending order"
   ]
  },
  {
   "cell_type": "code",
   "execution_count": 6,
   "id": "e43d49d9-153b-4017-a08b-68f6cd8606c0",
   "metadata": {},
   "outputs": [],
   "source": [
    "df_instagram_profiles_RQ2.sort_values(by = 'n_posts', ascending = False, inplace = True)"
   ]
  },
  {
   "cell_type": "code",
   "execution_count": 27,
   "id": "ab7cbe7a-dffa-4eb6-b6ed-87db0c9ecf92",
   "metadata": {},
   "outputs": [
    {
     "data": {
      "text/plain": [
       "3990313    183730\n",
       "2571453    142428\n",
       "4338921    126340\n",
       "3942129    125220\n",
       "4219642    117262\n",
       "            ...  \n",
       "1786774         0\n",
       "1711929         0\n",
       "1446235         0\n",
       "1446228         0\n",
       "3719054         0\n",
       "Name: n_posts, Length: 3130712, dtype: int64"
      ]
     },
     "execution_count": 27,
     "metadata": {},
     "output_type": "execute_result"
    }
   ],
   "source": [
    "df_instagram_profiles_RQ2.n_posts = df_instagram_profiles_RQ2.n_posts.astype(int)\n",
    "df_instagram_profiles_RQ2.n_posts"
   ]
  },
  {
   "cell_type": "code",
   "execution_count": 28,
   "id": "32c35b4a-229e-4a79-b758-2f3731b80c1e",
   "metadata": {},
   "outputs": [
    {
     "data": {
      "image/png": "[encoded data removed]",
      "text/plain": [
       "<Figure size 432x288 with 1 Axes>"
      ]
     },
     "metadata": {
      "needs_background": "light"
     },
     "output_type": "display_data"
    }
   ],
   "source": [
    "hist(df_instagram_profiles_RQ2['n_posts'], \"n_posts\", \"Number of posts sorted\", \"blue\", n_bins = 30, log_trans = True)"
   ]
  },
  {
   "cell_type": "markdown",
   "id": "322d1f26-ff14-4db4-aaa9-3a2a7464e29e",
   "metadata": {},
   "source": [
    "##### 2.2 What posts have the highest number of \"likes\"?"
   ]
  },
  {
   "cell_type": "markdown",
   "id": "17f0d1b8-6483-4341-81bb-0e6218e39fc1",
   "metadata": {},
   "source": [
    "* We import the `instagram_posts.csv` dataset (only the columns that we need for this excercise)"
   ]
  },
  {
   "cell_type": "code",
   "execution_count": 29,
   "id": "0d870a62-2064-49b1-830b-cbb3c3457d44",
   "metadata": {},
   "outputs": [],
   "source": [
    "fields = [\"numbr_likes\", \"number_comments\"]\n",
    "df_instagram_posts_RQ2_1 = pd.read_csv(\"~/instagram_posts.csv\", delimiter = \"\\t\", usecols = fields)"
   ]
  },
  {
   "cell_type": "code",
   "execution_count": 30,
   "id": "11406e4b-558e-4905-baa9-91ba27f072cf",
   "metadata": {},
   "outputs": [
    {
     "data": {
      "text/plain": [
       "42710197"
      ]
     },
     "execution_count": 30,
     "metadata": {},
     "output_type": "execute_result"
    }
   ],
   "source": [
    "df_instagram_posts_RQ2_1.shape[0] # no. of rows = 42,710,197"
   ]
  },
  {
   "cell_type": "code",
   "execution_count": 31,
   "id": "4ce40ef8-e180-40c0-a4f5-2fae597264f5",
   "metadata": {},
   "outputs": [
    {
     "data": {
      "text/plain": [
       "numbr_likes        36\n",
       "number_comments    36\n",
       "dtype: int64"
      ]
     },
     "execution_count": 31,
     "metadata": {},
     "output_type": "execute_result"
    }
   ],
   "source": [
    "df_instagram_posts_RQ2_1.isna().sum() # only 36 posts have NaN values (we can ignore them)"
   ]
  },
  {
   "cell_type": "code",
   "execution_count": 32,
   "id": "d334f6d9-94b0-491b-897c-4ba033c76aae",
   "metadata": {},
   "outputs": [],
   "source": [
    "# delete the NaN values\n",
    "\n",
    "df_instagram_posts_RQ2_1.dropna(axis = 0, how = 'any', inplace = True)"
   ]
  },
  {
   "cell_type": "code",
   "execution_count": 33,
   "id": "686ac0ca-4a15-4fb0-9180-42ce53bd26b6",
   "metadata": {},
   "outputs": [],
   "source": [
    "# transform float to integer number\n",
    "\n",
    "df_instagram_posts_RQ2_1 = df_instagram_posts_RQ2_1.astype({'numbr_likes': 'int', 'number_comments': 'int'}, errors = 'ignore')"
   ]
  },
  {
   "cell_type": "markdown",
   "id": "ec8f30d2-ff1e-4040-934f-a87cbff8ccc0",
   "metadata": {},
   "source": [
    "* `most_likes` is obtained by sorting in **descending order** `df_instagram_posts_RQ2_1` according to the `numbr_likes` and then taking the first 10 posts (`.head(10)`) with the most likes."
   ]
  },
  {
   "cell_type": "code",
   "execution_count": 34,
   "id": "27389727-5729-4389-bf87-a496429c7962",
   "metadata": {},
   "outputs": [],
   "source": [
    "most_likes = df_instagram_posts_RQ2_1.sort_values(by = 'numbr_likes', ascending = False).head(10)"
   ]
  },
  {
   "cell_type": "code",
   "execution_count": 35,
   "id": "9f6cd52b-870c-4a54-9061-d61cab66f271",
   "metadata": {},
   "outputs": [
    {
     "data": {
      "text/html": [
       "<div>\n",
       "<style scoped>\n",
       "    .dataframe tbody tr th:only-of-type {\n",
       "        vertical-align: middle;\n",
       "    }\n",
       "\n",
       "    .dataframe tbody tr th {\n",
       "        vertical-align: top;\n",
       "    }\n",
       "\n",
       "    .dataframe thead th {\n",
       "        text-align: right;\n",
       "    }\n",
       "</style>\n",
       "<table border=\"1\" class=\"dataframe\">\n",
       "  <thead>\n",
       "    <tr style=\"text-align: right;\">\n",
       "      <th></th>\n",
       "      <th>numbr_likes</th>\n",
       "      <th>number_comments</th>\n",
       "    </tr>\n",
       "  </thead>\n",
       "  <tbody>\n",
       "    <tr>\n",
       "      <th>19624085</th>\n",
       "      <td>8822952</td>\n",
       "      <td>165886</td>\n",
       "    </tr>\n",
       "    <tr>\n",
       "      <th>19623988</th>\n",
       "      <td>5447066</td>\n",
       "      <td>25303</td>\n",
       "    </tr>\n",
       "    <tr>\n",
       "      <th>19624082</th>\n",
       "      <td>5116398</td>\n",
       "      <td>40608</td>\n",
       "    </tr>\n",
       "    <tr>\n",
       "      <th>19623986</th>\n",
       "      <td>4271466</td>\n",
       "      <td>30770</td>\n",
       "    </tr>\n",
       "    <tr>\n",
       "      <th>39701024</th>\n",
       "      <td>4264745</td>\n",
       "      <td>18691</td>\n",
       "    </tr>\n",
       "    <tr>\n",
       "      <th>6293907</th>\n",
       "      <td>3586546</td>\n",
       "      <td>15405</td>\n",
       "    </tr>\n",
       "    <tr>\n",
       "      <th>19624086</th>\n",
       "      <td>3558599</td>\n",
       "      <td>15715</td>\n",
       "    </tr>\n",
       "    <tr>\n",
       "      <th>19802016</th>\n",
       "      <td>3533326</td>\n",
       "      <td>59475</td>\n",
       "    </tr>\n",
       "    <tr>\n",
       "      <th>30850564</th>\n",
       "      <td>3340297</td>\n",
       "      <td>149489</td>\n",
       "    </tr>\n",
       "    <tr>\n",
       "      <th>39812576</th>\n",
       "      <td>3311246</td>\n",
       "      <td>64318</td>\n",
       "    </tr>\n",
       "  </tbody>\n",
       "</table>\n",
       "</div>"
      ],
      "text/plain": [
       "          numbr_likes  number_comments\n",
       "19624085      8822952           165886\n",
       "19623988      5447066            25303\n",
       "19624082      5116398            40608\n",
       "19623986      4271466            30770\n",
       "39701024      4264745            18691\n",
       "6293907       3586546            15405\n",
       "19624086      3558599            15715\n",
       "19802016      3533326            59475\n",
       "30850564      3340297           149489\n",
       "39812576      3311246            64318"
      ]
     },
     "execution_count": 35,
     "metadata": {},
     "output_type": "execute_result"
    }
   ],
   "source": [
    "most_likes"
   ]
  },
  {
   "cell_type": "markdown",
   "id": "cdb48081-b6e0-43af-b1e5-920ba59fd11c",
   "metadata": {},
   "source": [
    "##### 2.3 What posts have the most and the least number of comments?"
   ]
  },
  {
   "cell_type": "markdown",
   "id": "43c3197a-2c6b-4332-88ea-263584cb2f23",
   "metadata": {},
   "source": [
    "* `most_comments` is obtained by sorting in **descending order** `df_instagram_posts_RQ2_1` according to the `number_comments` and then taking the first 10 posts (`.head(10)`) with the most comments."
   ]
  },
  {
   "cell_type": "code",
   "execution_count": 36,
   "id": "f87f7a6c-2bb4-4d7d-98cd-f6c9537f6912",
   "metadata": {},
   "outputs": [
    {
     "data": {
      "text/html": [
       "<div>\n",
       "<style scoped>\n",
       "    .dataframe tbody tr th:only-of-type {\n",
       "        vertical-align: middle;\n",
       "    }\n",
       "\n",
       "    .dataframe tbody tr th {\n",
       "        vertical-align: top;\n",
       "    }\n",
       "\n",
       "    .dataframe thead th {\n",
       "        text-align: right;\n",
       "    }\n",
       "</style>\n",
       "<table border=\"1\" class=\"dataframe\">\n",
       "  <thead>\n",
       "    <tr style=\"text-align: right;\">\n",
       "      <th></th>\n",
       "      <th>numbr_likes</th>\n",
       "      <th>number_comments</th>\n",
       "    </tr>\n",
       "  </thead>\n",
       "  <tbody>\n",
       "    <tr>\n",
       "      <th>41873060</th>\n",
       "      <td>38871</td>\n",
       "      <td>488953</td>\n",
       "    </tr>\n",
       "    <tr>\n",
       "      <th>12164781</th>\n",
       "      <td>81523</td>\n",
       "      <td>313997</td>\n",
       "    </tr>\n",
       "    <tr>\n",
       "      <th>33261751</th>\n",
       "      <td>54507</td>\n",
       "      <td>257488</td>\n",
       "    </tr>\n",
       "    <tr>\n",
       "      <th>11149127</th>\n",
       "      <td>331703</td>\n",
       "      <td>214365</td>\n",
       "    </tr>\n",
       "    <tr>\n",
       "      <th>9383817</th>\n",
       "      <td>23515</td>\n",
       "      <td>189888</td>\n",
       "    </tr>\n",
       "    <tr>\n",
       "      <th>5427268</th>\n",
       "      <td>129258</td>\n",
       "      <td>180635</td>\n",
       "    </tr>\n",
       "    <tr>\n",
       "      <th>25257169</th>\n",
       "      <td>684861</td>\n",
       "      <td>173988</td>\n",
       "    </tr>\n",
       "    <tr>\n",
       "      <th>6220011</th>\n",
       "      <td>2224495</td>\n",
       "      <td>170836</td>\n",
       "    </tr>\n",
       "    <tr>\n",
       "      <th>31689573</th>\n",
       "      <td>226336</td>\n",
       "      <td>166919</td>\n",
       "    </tr>\n",
       "    <tr>\n",
       "      <th>14257307</th>\n",
       "      <td>169791</td>\n",
       "      <td>166198</td>\n",
       "    </tr>\n",
       "  </tbody>\n",
       "</table>\n",
       "</div>"
      ],
      "text/plain": [
       "          numbr_likes  number_comments\n",
       "41873060        38871           488953\n",
       "12164781        81523           313997\n",
       "33261751        54507           257488\n",
       "11149127       331703           214365\n",
       "9383817         23515           189888\n",
       "5427268        129258           180635\n",
       "25257169       684861           173988\n",
       "6220011       2224495           170836\n",
       "31689573       226336           166919\n",
       "14257307       169791           166198"
      ]
     },
     "execution_count": 36,
     "metadata": {},
     "output_type": "execute_result"
    }
   ],
   "source": [
    "most_comments = df_instagram_posts_RQ2_1.sort_values(by = 'number_comments', ascending = False).head(10)\n",
    "most_comments "
   ]
  },
  {
   "cell_type": "markdown",
   "id": "03739a54-e18e-4c74-a6c3-f04871aea8c3",
   "metadata": {},
   "source": [
    "* `least_comments` is obtained by sorting in **ascending order** `df_instagram_posts_RQ2_1` according to the `number_comments` and then taking the first 10 posts (`.head(10)`) with the least comments."
   ]
  },
  {
   "cell_type": "code",
   "execution_count": 15,
   "id": "24b85c87-3b8a-4e89-86d4-25027e5a18bd",
   "metadata": {},
   "outputs": [
    {
     "data": {
      "text/html": [
       "<div>\n",
       "<style scoped>\n",
       "    .dataframe tbody tr th:only-of-type {\n",
       "        vertical-align: middle;\n",
       "    }\n",
       "\n",
       "    .dataframe tbody tr th {\n",
       "        vertical-align: top;\n",
       "    }\n",
       "\n",
       "    .dataframe thead th {\n",
       "        text-align: right;\n",
       "    }\n",
       "</style>\n",
       "<table border=\"1\" class=\"dataframe\">\n",
       "  <thead>\n",
       "    <tr style=\"text-align: right;\">\n",
       "      <th></th>\n",
       "      <th>post_id</th>\n",
       "      <th>numbr_likes</th>\n",
       "      <th>number_comments</th>\n",
       "    </tr>\n",
       "  </thead>\n",
       "  <tbody>\n",
       "    <tr>\n",
       "      <th>0</th>\n",
       "      <td>BXdjjUlgcgq</td>\n",
       "      <td>80</td>\n",
       "      <td>0</td>\n",
       "    </tr>\n",
       "    <tr>\n",
       "      <th>709</th>\n",
       "      <td>Bx-2z8Hhk1j</td>\n",
       "      <td>29</td>\n",
       "      <td>0</td>\n",
       "    </tr>\n",
       "    <tr>\n",
       "      <th>289</th>\n",
       "      <td>Bxr-ibHps7V</td>\n",
       "      <td>25</td>\n",
       "      <td>0</td>\n",
       "    </tr>\n",
       "    <tr>\n",
       "      <th>712</th>\n",
       "      <td>Bx5mknNBLCG</td>\n",
       "      <td>35</td>\n",
       "      <td>0</td>\n",
       "    </tr>\n",
       "    <tr>\n",
       "      <th>713</th>\n",
       "      <td>Bx3TT5TB3Tu</td>\n",
       "      <td>188</td>\n",
       "      <td>0</td>\n",
       "    </tr>\n",
       "    <tr>\n",
       "      <th>286</th>\n",
       "      <td>Bxztf_xlzLh</td>\n",
       "      <td>15</td>\n",
       "      <td>0</td>\n",
       "    </tr>\n",
       "    <tr>\n",
       "      <th>714</th>\n",
       "      <td>Bx0fZxkh-_4</td>\n",
       "      <td>134</td>\n",
       "      <td>0</td>\n",
       "    </tr>\n",
       "    <tr>\n",
       "      <th>284</th>\n",
       "      <td>Bx65tHPJH2S</td>\n",
       "      <td>18</td>\n",
       "      <td>0</td>\n",
       "    </tr>\n",
       "    <tr>\n",
       "      <th>283</th>\n",
       "      <td>ByA02DAl8SZ</td>\n",
       "      <td>19</td>\n",
       "      <td>0</td>\n",
       "    </tr>\n",
       "    <tr>\n",
       "      <th>282</th>\n",
       "      <td>ByCqFD-ASgn</td>\n",
       "      <td>9</td>\n",
       "      <td>0</td>\n",
       "    </tr>\n",
       "  </tbody>\n",
       "</table>\n",
       "</div>"
      ],
      "text/plain": [
       "         post_id  numbr_likes  number_comments\n",
       "0    BXdjjUlgcgq           80                0\n",
       "709  Bx-2z8Hhk1j           29                0\n",
       "289  Bxr-ibHps7V           25                0\n",
       "712  Bx5mknNBLCG           35                0\n",
       "713  Bx3TT5TB3Tu          188                0\n",
       "286  Bxztf_xlzLh           15                0\n",
       "714  Bx0fZxkh-_4          134                0\n",
       "284  Bx65tHPJH2S           18                0\n",
       "283  ByA02DAl8SZ           19                0\n",
       "282  ByCqFD-ASgn            9                0"
      ]
     },
     "execution_count": 15,
     "metadata": {},
     "output_type": "execute_result"
    }
   ],
   "source": [
    "least_comments = df_instagram_posts_RQ2_1.sort_values(by = 'number_comments', ascending = True).head(10)\n",
    "least_comments"
   ]
  },
  {
   "cell_type": "markdown",
   "id": "9daf2878-f844-4226-a5a6-c09683326b7a",
   "metadata": {
    "tags": []
   },
   "source": [
    "##### 2.4 How many posts include tagged locations, and how many do not? Show it using an appropriate chart and comment your results."
   ]
  },
  {
   "cell_type": "markdown",
   "id": "ed114c77-9952-4659-8286-42826a87d676",
   "metadata": {},
   "source": [
    "* We import the `instagram_posts.csv` dataset (only the columns that we need for this excercise)"
   ]
  },
  {
   "cell_type": "code",
   "execution_count": 2,
   "id": "ecb7f743-1f30-4c95-8ee0-dcfee3ee97dc",
   "metadata": {},
   "outputs": [],
   "source": [
    "fields = [\"post_id\", \"location_id\"]\n",
    "df_instagram_posts_RQ2_3 = pd.read_csv(\"~/instagram_posts.csv\", delimiter = \"\\t\", usecols = fields)"
   ]
  },
  {
   "cell_type": "code",
   "execution_count": 23,
   "id": "97f70326-c7b0-44aa-abf1-081903c0a53f",
   "metadata": {},
   "outputs": [
    {
     "name": "stdout",
     "output_type": "stream",
     "text": [
      "The number of posts     containing tagged locations is: 29737425\n",
      "The number of posts not containing tagged locations is: 12972772\n"
     ]
    }
   ],
   "source": [
    "# includes tagged locations means location_name not Nan\n",
    "\n",
    "count_tagged_location = df_instagram_posts_RQ2_3.loc[df_instagram_posts_RQ2_3['location_id'].notna()].shape[0] # 29,737,425\n",
    "count_no_tagged_location = len(df_instagram_posts_RQ2_3) - count_tagged_location # 12,972,772\n",
    "\n",
    "print(\"The number of posts     containing tagged locations is:\", count_tagged_location)\n",
    "print(\"The number of posts not containing tagged locations is:\", count_no_tagged_location)"
   ]
  },
  {
   "cell_type": "code",
   "execution_count": 112,
   "id": "4b8c7ea0-8d5e-4304-9f62-b532821d2049",
   "metadata": {},
   "outputs": [
    {
     "data": {
      "text/plain": [
       "Text(0.5, 1.05, 'Count of tagged & no-tagged locations')"
      ]
     },
     "execution_count": 112,
     "metadata": {},
     "output_type": "execute_result"
    },
    {
     "data": {
      "image/png": "[encoded data removed]",
      "text/plain": [
       "<Figure size 432x288 with 1 Axes>"
      ]
     },
     "metadata": {
      "needs_background": "light"
     },
     "output_type": "display_data"
    }
   ],
   "source": [
    "# plot\n",
    "\n",
    "df_instagram_posts_RQ2_3['check'] = np.where(df_instagram_posts_RQ2_3['location_id'].notna(), True, False)\n",
    "\n",
    "check = df_instagram_posts_RQ2_3['check']\n",
    "count = check.value_counts()\n",
    "\n",
    "count.plot(kind = 'bar', color = 'purple', ec = 'black')\n",
    "plt.xlabel(\"check\", labelpad = 14)\n",
    "plt.ylabel(\"Count\", labelpad = 14)\n",
    "plt.title(\"Count of tagged & no-tagged locations\", y = 1.05)"
   ]
  },
  {
   "cell_type": "markdown",
   "id": "8276991c-3ba3-4922-99e7-52999987d59a",
   "metadata": {},
   "source": [
    "##### 2.5 How many posts include only photos? How many also have videos?"
   ]
  },
  {
   "cell_type": "markdown",
   "id": "82fe4c08-b35e-4167-a046-9e919e98e455",
   "metadata": {},
   "source": [
    "* We import the `instagram_posts.csv` dataset (only the columns that we need for this excercise)"
   ]
  },
  {
   "cell_type": "code",
   "execution_count": 2,
   "id": "391b73bf-5e32-4f62-9f57-d16f42250bf1",
   "metadata": {},
   "outputs": [],
   "source": [
    "fields = [\"post_id\", \"post_type\"]\n",
    "df_instagram_posts_RQ2_2 = pd.read_csv(\"~/instagram_posts.csv\", delimiter = \"\\t\", usecols = fields)"
   ]
  },
  {
   "cell_type": "code",
   "execution_count": 141,
   "id": "e1528e52-716b-4907-aedf-1c18265cdc48",
   "metadata": {},
   "outputs": [
    {
     "name": "stdout",
     "output_type": "stream",
     "text": [
      "The number of posts that include only photos is 41534486\n"
     ]
    }
   ],
   "source": [
    "# l1: list containing only post_type == 1 (only photos)\n",
    "l1 = [1]\n",
    "\n",
    "print(\"The number of posts that include only photos is\", df_instagram_posts_RQ2_2.loc[df_instagram_posts_RQ2_2['post_type'].isin(l1)].shape[0]) # 41,534,486"
   ]
  },
  {
   "cell_type": "code",
   "execution_count": 143,
   "id": "6e5386fb-a08c-45e3-93bb-a2ce695af8fb",
   "metadata": {},
   "outputs": [
    {
     "name": "stdout",
     "output_type": "stream",
     "text": [
      "The number of posts that include both photos and videos is 40943\n"
     ]
    }
   ],
   "source": [
    "# l1: list containing only post_type == 3 (photos and video)\n",
    "l2 = [3]\n",
    "\n",
    "print(\"The number of posts that include both photos and videos is\", df_instagram_posts_RQ2_2.loc[df_instagram_posts_RQ2_2['post_type'].isin(l2)].shape[0]) # 40,943"
   ]
  },
  {
   "cell_type": "markdown",
   "id": "2eb477db-d62b-4548-8ec2-57cb1de57562",
   "metadata": {},
   "source": [
    "##### f) What's the percentage of business accounts vs non-business? What can you interpret regarding that percentage?"
   ]
  },
  {
   "cell_type": "markdown",
   "id": "8911fb45-b6b5-41d0-a0f0-768de95c856c",
   "metadata": {},
   "source": [
    "* **Note**: the missing values of the `is_business_account` variable were substituted with `False`. So, the percentages may be different wrt just eliminating the missing values for that column."
   ]
  },
  {
   "cell_type": "code",
   "execution_count": 138,
   "id": "e700839e-8cd9-4c65-b952-8580a601d8db",
   "metadata": {},
   "outputs": [
    {
     "name": "stdout",
     "output_type": "stream",
     "text": [
      "Percentage of business accounts: 18.97%\n",
      "Percentage of non-business accounts: 81.03%\n"
     ]
    }
   ],
   "source": [
    "# Percentage of business accounts & non-business accounts\n",
    "\n",
    "import os\n",
    "\n",
    "count_business_accounts = df_instagram_profiles.loc[df_instagram_profiles['is_business_account'] == True].shape[0]\n",
    "percentage_business_accounts = count_business_accounts/len(df_instagram_profiles)\n",
    "\n",
    "a = \"Percentage of business accounts: \" + '{0:.2%}'.format(percentage_business_accounts)\n",
    "b = \"Percentage of non-business accounts: \" + '{0:.2%}'.format(1 - percentage_business_accounts)\n",
    "\n",
    "print(os.linesep.join([a, b])) # 18.97%"
   ]
  },
  {
   "cell_type": "code",
   "execution_count": 77,
   "id": "adb44907-49bf-4304-bc4d-189b029cf8f9",
   "metadata": {},
   "outputs": [
    {
     "data": {
      "image/png": "[encoded data removed]",
      "text/plain": [
       "<Figure size 432x288 with 1 Axes>"
      ]
     },
     "metadata": {
      "needs_background": "light"
     },
     "output_type": "display_data"
    }
   ],
   "source": [
    "# plot of percentage of business & non-business accounts\n",
    "\n",
    "bar_binary(df_instagram_profiles['is_business_account'], \"is_business_account\", \"Count of business accounts\", \"red\")"
   ]
  },
  {
   "cell_type": "markdown",
   "id": "242d585e-92fc-46ac-8605-f69579beba48",
   "metadata": {},
   "source": [
    "## [RQ3]\n",
    "#### Now it's important to understand the most common times in which users publish their posts"
   ]
  },
  {
   "cell_type": "markdown",
   "id": "171ad3b8-1228-4cee-af65-2521d165fde9",
   "metadata": {},
   "source": [
    "##### 3.1 What is the most common time in which users publish their posts?"
   ]
  },
  {
   "cell_type": "markdown",
   "id": "e67ef95a-837c-4329-9464-aed58052e693",
   "metadata": {},
   "source": [
    "* Let's import the `instagram_posts.csv` dataset (only the columns that we need for this excercise)"
   ]
  },
  {
   "cell_type": "code",
   "execution_count": 2,
   "id": "8b482494-c5a8-4e7f-8dcb-51b2952af6e6",
   "metadata": {},
   "outputs": [],
   "source": [
    "fields = [\"profile_id\", \"cts\"]\n",
    "df_instagram_posts_RQ3 = pd.read_csv(\"~/instagram_posts.csv\", delimiter = \"\\t\", usecols = fields)"
   ]
  },
  {
   "cell_type": "code",
   "execution_count": 3,
   "id": "eb442183-cc57-42ce-827c-619fe1c8ca4c",
   "metadata": {},
   "outputs": [],
   "source": [
    "# Divide dataset into chunks of 5,000,000 rows\n",
    "\n",
    "chunk_list = []\n",
    "for i in range(0, len(df_instagram_posts_RQ3), 5000000):\n",
    "    chunk = df_instagram_posts_RQ3[i:i+5000000]\n",
    "    chunk_list.append(chunk)"
   ]
  },
  {
   "cell_type": "markdown",
   "id": "a20a20ba-d977-43e3-91ba-6f3bc32756fc",
   "metadata": {},
   "source": [
    "* Then we convert the `cts` column from object type to `datetime`. Then we create two new columns:\n",
    "  * `cts_time`: in the format `hh:mm:ss`. For instance, `20:00:00`\n",
    "  * `hour`: in the format `hh`. For instance, `20`<br>\n",
    "  Finally we append the chunks to a new list named `chunk_list_new`."
   ]
  },
  {
   "cell_type": "code",
   "execution_count": 4,
   "id": "6545df11-f19b-48aa-99be-a4f85d89ea8b",
   "metadata": {},
   "outputs": [],
   "source": [
    "# convert string (object type) to datetime\n",
    "# Then, get only time from cts (we are not interested in the dates but only in the time)\n",
    "\n",
    "chunk_list_new = []\n",
    "for chunk in chunk_list:\n",
    "    chunk_copy = chunk.copy()\n",
    "    chunk_copy['cts_time'] = pd.to_datetime(chunk['cts']).dt.time\n",
    "    chunk_copy['hour'] = pd.to_datetime(chunk['cts']).dt.hour\n",
    "    chunk_list_new.append(chunk_copy)"
   ]
  },
  {
   "cell_type": "markdown",
   "id": "79970389-5e81-4356-80e0-9c4f31d2d60c",
   "metadata": {},
   "source": [
    "* We group by `cts_time` and `hour` by chunks and obtain two new lists `chunk_list_new1` and `chunk_list_new2`."
   ]
  },
  {
   "cell_type": "code",
   "execution_count": 40,
   "id": "661a9797-bbac-45cb-be35-886130657887",
   "metadata": {},
   "outputs": [],
   "source": [
    "# group by cts_time\n",
    "\n",
    "chunk_list_new1 = []\n",
    "for chunk in chunk_list_new:\n",
    "    chunk  = chunk.groupby('cts_time').size().reset_index(name='counts')\n",
    "    chunk_list_new1.append(chunk)"
   ]
  },
  {
   "cell_type": "code",
   "execution_count": 42,
   "id": "075773af-a816-4229-97f6-99ba50a9aa18",
   "metadata": {},
   "outputs": [],
   "source": [
    "# group by hour\n",
    "\n",
    "chunk_list_new2 = []\n",
    "for chunk in chunk_list_new:\n",
    "    chunk  = chunk.groupby('hour').size().reset_index(name='counts')\n",
    "    chunk_list_new2.append(chunk)"
   ]
  },
  {
   "cell_type": "markdown",
   "id": "fc598a91-cda1-45e0-885a-8825e6897bbf",
   "metadata": {},
   "source": [
    "* We concatenate the chunks and obtain two dataframes `data` and `data2`.\n",
    "  * `data` contains `cts_time`.\n",
    "  * `data2` contains `hour`."
   ]
  },
  {
   "cell_type": "code",
   "execution_count": 43,
   "id": "6beb27ad-98de-4a46-89d1-c0f4c8098b8d",
   "metadata": {},
   "outputs": [],
   "source": [
    "# Concatenate chunks, group by cts_time (and hour) and add up counts\n",
    "\n",
    "data  = pd.concat(chunk_list_new1).groupby(['cts_time']).sum().reset_index()\n",
    "data2 = pd.concat(chunk_list_new2).groupby(['hour']).sum().reset_index()\n",
    "data2.hour = data2.hour.astype(int)"
   ]
  },
  {
   "cell_type": "markdown",
   "id": "faad655a-d3d9-41e0-96b2-e2d413718bb5",
   "metadata": {},
   "source": [
    "##### The most common time(s) in which users publish their posts"
   ]
  },
  {
   "cell_type": "code",
   "execution_count": 44,
   "id": "3fba7418-0c16-4e5a-8a77-36a1031fe9d3",
   "metadata": {},
   "outputs": [
    {
     "data": {
      "text/html": [
       "<div>\n",
       "<style scoped>\n",
       "    .dataframe tbody tr th:only-of-type {\n",
       "        vertical-align: middle;\n",
       "    }\n",
       "\n",
       "    .dataframe tbody tr th {\n",
       "        vertical-align: top;\n",
       "    }\n",
       "\n",
       "    .dataframe thead th {\n",
       "        text-align: right;\n",
       "    }\n",
       "</style>\n",
       "<table border=\"1\" class=\"dataframe\">\n",
       "  <thead>\n",
       "    <tr style=\"text-align: right;\">\n",
       "      <th></th>\n",
       "      <th>cts_time</th>\n",
       "      <th>counts</th>\n",
       "    </tr>\n",
       "  </thead>\n",
       "  <tbody>\n",
       "    <tr>\n",
       "      <th>75609</th>\n",
       "      <td>21:00:09</td>\n",
       "      <td>928</td>\n",
       "    </tr>\n",
       "  </tbody>\n",
       "</table>\n",
       "</div>"
      ],
      "text/plain": [
       "       cts_time  counts\n",
       "75609  21:00:09     928"
      ]
     },
     "execution_count": 44,
     "metadata": {},
     "output_type": "execute_result"
    }
   ],
   "source": [
    "count = data.counts.value_counts(ascending = True).values[0]\n",
    "data.sort_values(by = 'counts', ascending = False).head(count) # 21:00:09"
   ]
  },
  {
   "cell_type": "code",
   "execution_count": 21,
   "id": "779228f0-02f1-4bad-bd81-7733d9e7ef85",
   "metadata": {},
   "outputs": [
    {
     "name": "stdout",
     "output_type": "stream",
     "text": [
      "The average number of times each cts_time is present in the dataset: 487\n",
      "The median  number of times each cts_time is present in the dataset: 494\n",
      "The maximum number of times each cts_time is present in the dataset: 928\n",
      "The minimum number of times each cts_time is present in the dataset: 223\n"
     ]
    }
   ],
   "source": [
    "print(\"The average number of times each cts_time is present in the dataset:\", int(np.mean(data.counts)))\n",
    "print(\"The median  number of times each cts_time is present in the dataset:\", int(np.median(data.counts))) \n",
    "print(\"The maximum number of times each cts_time is present in the dataset:\", int(np.max(data.counts)))\n",
    "print(\"The minimum number of times each cts_time is present in the dataset:\", int(np.min(data.counts)))\n",
    "print(\"People post 47.5% more often at 21:00:09 wrt the other times\")"
   ]
  },
  {
   "cell_type": "markdown",
   "id": "54c97479-e5a9-4ca8-b9d9-3d8dbdd256c9",
   "metadata": {},
   "source": [
    "##### The most common hour(s) in which users publish their posts"
   ]
  },
  {
   "cell_type": "code",
   "execution_count": 45,
   "id": "47e00fe5-8f23-4888-a5ac-25972fdd0ab3",
   "metadata": {},
   "outputs": [
    {
     "data": {
      "text/html": [
       "<div>\n",
       "<style scoped>\n",
       "    .dataframe tbody tr th:only-of-type {\n",
       "        vertical-align: middle;\n",
       "    }\n",
       "\n",
       "    .dataframe tbody tr th {\n",
       "        vertical-align: top;\n",
       "    }\n",
       "\n",
       "    .dataframe thead th {\n",
       "        text-align: right;\n",
       "    }\n",
       "</style>\n",
       "<table border=\"1\" class=\"dataframe\">\n",
       "  <thead>\n",
       "    <tr style=\"text-align: right;\">\n",
       "      <th></th>\n",
       "      <th>hour</th>\n",
       "      <th>counts</th>\n",
       "    </tr>\n",
       "  </thead>\n",
       "  <tbody>\n",
       "    <tr>\n",
       "      <th>19</th>\n",
       "      <td>19</td>\n",
       "      <td>2499758</td>\n",
       "    </tr>\n",
       "  </tbody>\n",
       "</table>\n",
       "</div>"
      ],
      "text/plain": [
       "    hour   counts\n",
       "19    19  2499758"
      ]
     },
     "execution_count": 45,
     "metadata": {},
     "output_type": "execute_result"
    }
   ],
   "source": [
    "count2 = data2.counts.value_counts(ascending = True).values[0]\n",
    "data2.sort_values(by = 'counts', ascending = False).head(count2) # 21:00:09"
   ]
  },
  {
   "cell_type": "code",
   "execution_count": 25,
   "id": "c673820e-b144-434b-af1b-8e4af42ff30e",
   "metadata": {},
   "outputs": [
    {
     "name": "stdout",
     "output_type": "stream",
     "text": [
      "The average number of times each hour is present in the dataset: 1779452\n",
      "The median  number of times each hour is present in the dataset: 1779408\n",
      "The maximum number of times each hour is present in the dataset: 2499758\n",
      "The minimum number of times each hour is present in the dataset: 1011923\n",
      "People post 29% more in the time slot (19:00-19:59) wrt the other time slots\n"
     ]
    }
   ],
   "source": [
    "print(\"The average number of times each hour is present in the dataset:\", int(np.mean(data2.counts)))\n",
    "print(\"The median  number of times each hour is present in the dataset:\", int(np.median(data2.counts))) \n",
    "print(\"The maximum number of times each hour is present in the dataset:\", int(np.max(data2.counts)))\n",
    "print(\"The minimum number of times each hour is present in the dataset:\", int(np.min(data2.counts)))\n",
    "print(\"People post 29% more in the time slot (19:00-19:59) wrt the other time slots\")"
   ]
  },
  {
   "cell_type": "markdown",
   "id": "b87f57d8-b699-4173-a982-350a4d2e8b03",
   "metadata": {},
   "source": [
    "##### 3.2 Create a function that receives a time intervals list as a parameter and returns a plot with the number of posts for each given interval."
   ]
  },
  {
   "cell_type": "code",
   "execution_count": 18,
   "id": "681e601f-7913-4568-8c27-7b68da3c58ff",
   "metadata": {},
   "outputs": [],
   "source": [
    "def time_intervals(data, time, time_intervals_list, title):\n",
    "    \n",
    "    time_results = {}\n",
    "    for slot in time_intervals_list:\n",
    "        result = len(data[(time >= slot[0]) &\n",
    "                                  (time < slot[1])])\n",
    "        time_results[str(slot)] = result\n",
    "    \n",
    "    plt.bar(list(time_results.keys()), time_results.values(), color = 'blue', ec = 'black', width = 0.8)\n",
    "    plt.xlabel(\"time slots\", labelpad = 14)\n",
    "    plt.ylabel(\"Count\", labelpad = 14)\n",
    "    plt.title(title, y = 1.05)\n",
    "    plt.show() "
   ]
  },
  {
   "cell_type": "markdown",
   "id": "18afc2e7-e5e4-4312-8fd3-a152eb1fb20f",
   "metadata": {},
   "source": [
    "##### 3.3 Use the function that you created in the previous literal to plot the number of posts between the following time intervals."
   ]
  },
  {
   "cell_type": "code",
   "execution_count": 5,
   "id": "d8c5b1b2-5abf-4493-a0d1-66fda3086dff",
   "metadata": {},
   "outputs": [],
   "source": [
    "slots = [(6, 10), (11, 13), (14, 16), (17, 19), (20, 23), (0, 2), (3, 5)]"
   ]
  },
  {
   "cell_type": "code",
   "execution_count": 7,
   "id": "2e37aa0b-561f-43ba-902a-b9c4f3f83f58",
   "metadata": {},
   "outputs": [],
   "source": [
    "# concatenate the chunks\n",
    "\n",
    "data2 = pd.concat(chunk_list_new)"
   ]
  },
  {
   "cell_type": "code",
   "execution_count": 19,
   "id": "a80854fd-4ec9-4d7a-bbb1-53f930105fb6",
   "metadata": {},
   "outputs": [
    {
     "data": {
      "image/png": "[encoded data removed]",
      "text/plain": [
       "<Figure size 432x288 with 1 Axes>"
      ]
     },
     "metadata": {
      "needs_background": "light"
     },
     "output_type": "display_data"
    }
   ],
   "source": [
    "time_intervals(data2, data2.hour, slots, title = \"the number of posts for each given interval\")"
   ]
  },
  {
   "cell_type": "markdown",
   "id": "7e084dc2-c023-4c4c-80d9-2690f6319105",
   "metadata": {},
   "source": [
    "## [RQ8]\n",
    "\n",
    "#### Every decision you take in a data-based environment should be reinforced with charts, statistical tests and analysis methods to check whether a hypothesis is correct or not."
   ]
  },
  {
   "cell_type": "markdown",
   "id": "e3b0f7ee-896a-4b62-9a8a-d1a4bc1bc2d7",
   "metadata": {},
   "source": [
    "##### 8.1 Does more “likes” also mean more comments? Plot a scatter plot of “likes” vs comments for posts."
   ]
  },
  {
   "cell_type": "code",
   "execution_count": 20,
   "id": "0c9a0dc9-ad23-403d-891b-e7c2bc0454e9",
   "metadata": {
    "tags": []
   },
   "outputs": [
    {
     "ename": "NameError",
     "evalue": "name 'df_instagram_posts_RQ2_1' is not defined",
     "output_type": "error",
     "traceback": [
      "\u001b[0;31m---------------------------------------------------------------------------\u001b[0m",
      "\u001b[0;31mNameError\u001b[0m                                 Traceback (most recent call last)",
      "\u001b[0;32m/tmp/ipykernel_5352/1894450141.py\u001b[0m in \u001b[0;36m<cell line: 3>\u001b[0;34m()\u001b[0m\n\u001b[1;32m      1\u001b[0m \u001b[0;31m# dataset containing the instagram_posts's numbr_likes and number_comments columns\u001b[0m\u001b[0;34m\u001b[0m\u001b[0;34m\u001b[0m\u001b[0;34m\u001b[0m\u001b[0m\n\u001b[1;32m      2\u001b[0m \u001b[0;34m\u001b[0m\u001b[0m\n\u001b[0;32m----> 3\u001b[0;31m \u001b[0mdf_instagram_posts_RQ8_1\u001b[0m \u001b[0;34m=\u001b[0m \u001b[0mdf_instagram_posts_RQ2_1\u001b[0m\u001b[0;34m\u001b[0m\u001b[0;34m\u001b[0m\u001b[0m\n\u001b[0m\u001b[1;32m      4\u001b[0m \u001b[0mlen\u001b[0m\u001b[0;34m(\u001b[0m\u001b[0mdf_instagram_posts_RQ8_1\u001b[0m\u001b[0;34m)\u001b[0m\u001b[0;34m\u001b[0m\u001b[0;34m\u001b[0m\u001b[0m\n",
      "\u001b[0;31mNameError\u001b[0m: name 'df_instagram_posts_RQ2_1' is not defined"
     ]
    }
   ],
   "source": [
    "# dataset containing the instagram_posts's numbr_likes and number_comments columns\n",
    "\n",
    "df_instagram_posts_RQ8_1 = df_instagram_posts_RQ2_1\n",
    "len(df_instagram_posts_RQ8_1)"
   ]
  },
  {
   "cell_type": "markdown",
   "id": "b3d0cb36-22aa-44fe-b9f3-4edbdfb55d3b",
   "metadata": {},
   "source": [
    "* Below you can find a scatterplot of the first 1,000,000 observations (for computational reasons) of the `df_instagram_posts_RQ8_1` dataframe. Unfortunately, our data is full of outliers that squash the plot to the bottom-left rendering it difficult to interpret the results and study the relationship between `numbr_likes` and `number_comments`."
   ]
  },
  {
   "cell_type": "code",
   "execution_count": 38,
   "id": "d2e5ec5d-39b3-4a26-b614-e72c31c0f14e",
   "metadata": {},
   "outputs": [
    {
     "data": {
      "text/plain": [
       "Text(0.5, 1.05, 'Scatterplot of number of likes against number of comments')"
      ]
     },
     "execution_count": 38,
     "metadata": {},
     "output_type": "execute_result"
    },
    {
     "data": {
      "image/png": "[encoded data removed]",
      "text/plain": [
       "<Figure size 432x288 with 1 Axes>"
      ]
     },
     "metadata": {
      "needs_background": "light"
     },
     "output_type": "display_data"
    }
   ],
   "source": [
    "# sample scatterplot \n",
    "\n",
    "sample_RQ8 = df_instagram_posts_RQ8_1.head(1000000)\n",
    "\n",
    "plt.scatter(sample_RQ8['numbr_likes'], sample_RQ8['number_comments'])\n",
    "plt.xlabel(\"number of likes\", labelpad = 14)\n",
    "plt.ylabel(\"number of comments\", labelpad = 14)\n",
    "plt.title(\"Scatterplot of number of likes against number of comments\", y = 1.05)\n",
    "\n",
    "# the plot is squashed by the outliers"
   ]
  },
  {
   "cell_type": "markdown",
   "id": "403e4610-d2a7-48a5-9439-a62e4010f326",
   "metadata": {},
   "source": [
    "* However, it can be seen that the correlation between `numbr_likes` and `number_comments` is approximately equal to `37.5%` indicating a moderate positive association between the two variables. Therefore we can deduce that, generally, a higher number of likes implies also a higher number of comments."
   ]
  },
  {
   "cell_type": "code",
   "execution_count": 44,
   "id": "eb1350c7-2228-40f6-a9f9-f3ab347f7623",
   "metadata": {},
   "outputs": [
    {
     "name": "stdout",
     "output_type": "stream",
     "text": [
      "                 numbr_likes  number_comments\n",
      "numbr_likes         1.000000         0.374453\n",
      "number_comments     0.374453         1.000000\n"
     ]
    }
   ],
   "source": [
    "print(df_instagram_posts_RQ8_1.corr())"
   ]
  },
  {
   "cell_type": "markdown",
   "id": "81cc58d4-f041-4fbf-8a46-3cf453ff9ec7",
   "metadata": {},
   "source": [
    "##### **Some additional statistics**"
   ]
  },
  {
   "cell_type": "code",
   "execution_count": 46,
   "id": "a666defc-bd92-4be2-b8e3-f733b313a8e2",
   "metadata": {},
   "outputs": [
    {
     "name": "stdout",
     "output_type": "stream",
     "text": [
      "The maximum number of likes is: 8822952\n",
      "The minimum number of likes is: 0\n",
      "The mean    number of likes is: 283\n",
      "The median  number of likes is: 46\n"
     ]
    }
   ],
   "source": [
    "print(\"The maximum number of likes is:\", int(max(df_instagram_posts_RQ8_1['numbr_likes'])))\n",
    "print(\"The minimum number of likes is:\", int(min(df_instagram_posts_RQ8_1['numbr_likes'])))\n",
    "print(\"The mean    number of likes is:\", int(np.mean(df_instagram_posts_RQ8_1['numbr_likes']))) # mean is influenced\n",
    "print(\"The median  number of likes is:\", int(np.median(df_instagram_posts_RQ8_1['numbr_likes'])))"
   ]
  },
  {
   "cell_type": "code",
   "execution_count": 68,
   "id": "416c00de-ebdd-46ce-9d0f-df8eeb80ec81",
   "metadata": {},
   "outputs": [
    {
     "data": {
      "image/png": "[encoded data removed]",
      "text/plain": [
       "<Figure size 432x288 with 1 Axes>"
      ]
     },
     "metadata": {
      "needs_background": "light"
     },
     "output_type": "display_data"
    }
   ],
   "source": [
    "plt.boxplot(df_instagram_posts_RQ8_1['numbr_likes']);"
   ]
  },
  {
   "cell_type": "code",
   "execution_count": 42,
   "id": "1ca2d292-c4a7-4a64-bccc-6774fc3d518d",
   "metadata": {},
   "outputs": [
    {
     "name": "stdout",
     "output_type": "stream",
     "text": [
      "The maximum number of comments is: 488953\n",
      "The minimum number of comments is: 0\n",
      "The mean    number of comments is: 7\n",
      "The median  number of comments is: 2\n"
     ]
    }
   ],
   "source": [
    "print(\"The maximum number of comments is:\", int(max(df_instagram_posts_RQ8_1['number_comments'])))\n",
    "print(\"The minimum number of comments is:\", int(min(df_instagram_posts_RQ8_1['number_comments'])))\n",
    "print(\"The mean    number of comments is:\", int(np.mean(df_instagram_posts_RQ8_1['number_comments']))) # mean is influenced\n",
    "print(\"The median  number of comments is:\", int(np.median(df_instagram_posts_RQ8_1['number_comments'])))"
   ]
  },
  {
   "cell_type": "code",
   "execution_count": 66,
   "id": "33df492f-dc6b-494f-b547-bab7f3af26c0",
   "metadata": {},
   "outputs": [
    {
     "data": {
      "image/png": "[encoded data removed]",
      "text/plain": [
       "<Figure size 432x288 with 1 Axes>"
      ]
     },
     "metadata": {
      "needs_background": "light"
     },
     "output_type": "display_data"
    }
   ],
   "source": [
    "plt.boxplot(df_instagram_posts_RQ8_1['number_comments']); # the box plots are very squashed => there are many outliers"
   ]
  },
  {
   "cell_type": "markdown",
   "id": "82229a57-9cb4-4878-99ef-acf46b86c0e9",
   "metadata": {},
   "source": [
    "As can be seen from the boxplots and the summary statistics on the `numbr_likes` and `number_comments`, the data is **strongly** skewed and contains a lot of outliers.\n",
    "* The black circles in the `boxplots` show the number of outliers.\n",
    "* The summary statistics show the divergences between maximum (number of likes and comments) and their mean value."
   ]
  },
  {
   "cell_type": "markdown",
   "id": "6e2217ff-f608-40ff-93f8-6672bf394af8",
   "metadata": {},
   "source": [
    "##### 8.2 Can you find any significant relationship between the time a user publishes a post and the number of comments and “likes”? Use an appropriate statistical test or technique and support your choice"
   ]
  },
  {
   "cell_type": "code",
   "execution_count": 14,
   "id": "279bd850-3abc-46c2-977c-5525e01033c6",
   "metadata": {},
   "outputs": [],
   "source": [
    "# dataset containing the instagram_posts's \n",
    "\n",
    "df_instagram_posts_RQ8_2 = pd.concat(chunk_list_new)[['hour']]"
   ]
  },
  {
   "cell_type": "markdown",
   "id": "532f3b27-7676-4c62-9aeb-569c9699a70a",
   "metadata": {},
   "source": [
    "* We work in chunks for both dataframes `df_instagram_posts_RQ8_1` and `df_instagram_posts_RQ8_2`."
   ]
  },
  {
   "cell_type": "code",
   "execution_count": 16,
   "id": "80bbb182-cfa4-49a2-8892-159ba05345e0",
   "metadata": {},
   "outputs": [
    {
     "ename": "NameError",
     "evalue": "name 'df_instagram_posts_RQ8_1' is not defined",
     "output_type": "error",
     "traceback": [
      "\u001b[0;31m---------------------------------------------------------------------------\u001b[0m",
      "\u001b[0;31mNameError\u001b[0m                                 Traceback (most recent call last)",
      "\u001b[0;32m/tmp/ipykernel_9608/3740902953.py\u001b[0m in \u001b[0;36m<cell line: 4>\u001b[0;34m()\u001b[0m\n\u001b[1;32m      2\u001b[0m \u001b[0;34m\u001b[0m\u001b[0m\n\u001b[1;32m      3\u001b[0m \u001b[0mchunk_list_RQ8_1\u001b[0m \u001b[0;34m=\u001b[0m \u001b[0;34m[\u001b[0m\u001b[0;34m]\u001b[0m\u001b[0;34m\u001b[0m\u001b[0;34m\u001b[0m\u001b[0m\n\u001b[0;32m----> 4\u001b[0;31m \u001b[0;32mfor\u001b[0m \u001b[0mi\u001b[0m \u001b[0;32min\u001b[0m \u001b[0mrange\u001b[0m\u001b[0;34m(\u001b[0m\u001b[0;36m0\u001b[0m\u001b[0;34m,\u001b[0m \u001b[0mlen\u001b[0m\u001b[0;34m(\u001b[0m\u001b[0mdf_instagram_posts_RQ8_1\u001b[0m\u001b[0;34m)\u001b[0m\u001b[0;34m,\u001b[0m \u001b[0;36m5000000\u001b[0m\u001b[0;34m)\u001b[0m\u001b[0;34m:\u001b[0m\u001b[0;34m\u001b[0m\u001b[0;34m\u001b[0m\u001b[0m\n\u001b[0m\u001b[1;32m      5\u001b[0m     \u001b[0mchunk\u001b[0m \u001b[0;34m=\u001b[0m \u001b[0mdf_instagram_posts_RQ8_1\u001b[0m\u001b[0;34m[\u001b[0m\u001b[0mi\u001b[0m\u001b[0;34m:\u001b[0m\u001b[0mi\u001b[0m\u001b[0;34m+\u001b[0m\u001b[0;36m5000000\u001b[0m\u001b[0;34m]\u001b[0m\u001b[0;34m\u001b[0m\u001b[0;34m\u001b[0m\u001b[0m\n\u001b[1;32m      6\u001b[0m     \u001b[0mchunk_list_RQ8_1\u001b[0m\u001b[0;34m.\u001b[0m\u001b[0mappend\u001b[0m\u001b[0;34m(\u001b[0m\u001b[0mchunk\u001b[0m\u001b[0;34m)\u001b[0m\u001b[0;34m\u001b[0m\u001b[0;34m\u001b[0m\u001b[0m\n",
      "\u001b[0;31mNameError\u001b[0m: name 'df_instagram_posts_RQ8_1' is not defined"
     ]
    }
   ],
   "source": [
    "# Let's work in chunks\n",
    "\n",
    "chunk_list_RQ8_1 = []\n",
    "for i in range(0, len(df_instagram_posts_RQ8_1), 5000000):\n",
    "    chunk = df_instagram_posts_RQ8_1[i:i+5000000]\n",
    "    chunk_list_RQ8_1.append(chunk)\n",
    "    \n",
    "chunk_list_RQ8_2 = []\n",
    "for i in range(0, len(df_instagram_posts_RQ8_2), 5000000):\n",
    "    chunk = df_instagram_posts_RQ8_2[i:i+5000000]\n",
    "    chunk_list_RQ8_2.append(chunk)"
   ]
  },
  {
   "cell_type": "markdown",
   "id": "d13e251f-6e4d-4a27-9af2-9d72d8dcfc74",
   "metadata": {},
   "source": [
    "* Then we concatenate the columns by chunks and append the chunks to a new list called `chunk_list_RQ8_3`."
   ]
  },
  {
   "cell_type": "code",
   "execution_count": 20,
   "id": "b6decd46-1484-41e5-a62a-2af898e6ac76",
   "metadata": {},
   "outputs": [],
   "source": [
    "chunk_list_RQ8_3 = []\n",
    "for i in range(0, len(df_instagram_posts_RQ8_2), 5000000):\n",
    "    chunk = pd.concat([df_instagram_posts_RQ8_2[i:i+5000000], df_instagram_posts_RQ8_1[i:i+5000000]], axis = 1)\n",
    "    chunk_list_RQ8_3.append(chunk)"
   ]
  },
  {
   "cell_type": "markdown",
   "id": "da22e174-ca0d-400c-a741-5f973a5acafe",
   "metadata": {},
   "source": [
    "* We concatenate the chunks in `chunk_list_RQ8_3` and group by the column `hour` aggregating on the mean of `numbr_likes` and `number_comments`. We obtain a new dataframe called `df_instagram_posts_RQ8_grouped`."
   ]
  },
  {
   "cell_type": "markdown",
   "id": "30fae2c6-770c-425a-85a9-dd6d7501100f",
   "metadata": {},
   "source": [
    "#### `1st statistics: correlation`"
   ]
  },
  {
   "cell_type": "code",
   "execution_count": null,
   "id": "fa10136f-be6a-4d92-a816-0df591b526c6",
   "metadata": {},
   "outputs": [
    {
     "name": "stdout",
     "output_type": "stream",
     "text": [
      "The correlation coefficient is:                      hour  numbr_likes  number_comments\n",
      "hour             1.000000     0.514339         0.279257\n",
      "numbr_likes      0.514339     1.000000         0.804829\n",
      "number_comments  0.279257     0.804829         1.000000\n"
     ]
    }
   ],
   "source": [
    "# Let's look at the correlation between the three variables\n",
    "\n",
    "print(df_instagram_posts_RQ8_grouped.corr())"
   ]
  },
  {
   "cell_type": "markdown",
   "id": "6c872df4-08bd-4184-a7f1-8474ee4f228b",
   "metadata": {},
   "source": [
    "##### `Correlation results comments`\n",
    "\n",
    "* `hour` and `numbr_likes` have a moderate-strong positive correlation (**51.4%**)\n",
    "* `hour` and `number_comments` have a weak-moderate positive correlation (**27.9%**)\n",
    "\n",
    "The time in which you post is more correlated to the number of likes wrt the number of comments a post gets.<br>\n",
    "We can also see that the number of likes and the number of comments are strongly correlated."
   ]
  },
  {
   "cell_type": "markdown",
   "id": "25afd96c-4a1a-439b-a826-983ab518b958",
   "metadata": {},
   "source": [
    "#### `2nd statistics: linear regression (p-value)`"
   ]
  },
  {
   "cell_type": "markdown",
   "id": "7e875e52-28d6-4fc5-8c9a-b19170573081",
   "metadata": {},
   "source": [
    "* The `p-value` for each term tests the null hypothesis H₀ that the coefficient is equal to zero. So, if the p-value is less than a specified `significance level α` (usually 0.05), we can reject the null hypothesis H₀. For small p-values we can state that the predictor variable does give a meaningul addition to the model: **the values of the predictor variable are related to the values of the response variable**."
   ]
  },
  {
   "cell_type": "code",
   "execution_count": 29,
   "id": "33beb152-d364-45f8-92a6-6528f0a1406b",
   "metadata": {},
   "outputs": [],
   "source": [
    "# Simple linear regression\n",
    "# time ~ number_likes\n",
    "# time ~ number_comments\n",
    "\n",
    "number_likes = df_instagram_posts_RQ8_grouped.numbr_likes\n",
    "number_comments = df_instagram_posts_RQ8_grouped.number_comments\n",
    "time = df_instagram_posts_RQ8_grouped.hour\n",
    "\n",
    "result = scipy.stats.linregress(number_likes, time)\n",
    "result2 = scipy.stats.linregress(number_comments, time)"
   ]
  },
  {
   "cell_type": "code",
   "execution_count": 30,
   "id": "b511082d-5b3c-4158-bc92-f0627c97615a",
   "metadata": {},
   "outputs": [
    {
     "name": "stdout",
     "output_type": "stream",
     "text": [
      "The p-value for model 1 is: 0.010129899606811663\n",
      "the p-value for model 2 is: 0.18633045092180706\n"
     ]
    }
   ],
   "source": [
    "print(\"The p-value for model 1 is:\", result.pvalue)\n",
    "print(\"the p-value for model 2 is:\", result2.pvalue) # p-value == 0.0 implying that number_comments is statistically significant in predicting number_likes and viceversa \n",
    "\n",
    "# the number of likes is significant while the number of comments is not"
   ]
  },
  {
   "cell_type": "markdown",
   "id": "1964e4f5-d1cd-444f-8b7b-8a53399b5c59",
   "metadata": {},
   "source": [
    "##### `Linear Regression comments`\n",
    "\n",
    "According to the **`p-value`** for the two models, there seems to be a <b>significant relationship between the time a user posts and the number of likes the post gets</b>. In fact, the `p-value = 0.01 < 0.05`. On the contrary, there is no significant relationship between the time a user posts and the number of comments as the `p-value = 0.19 > 0.05`. We can also point out that the correlation between `hour` and `numbr_likes` is approximately twice as big as the correlation between `hour` and `number_comments`."
   ]
  },
  {
   "cell_type": "markdown",
   "id": "1c1045cc-19a0-41cd-a44c-8a2847bd9a3f",
   "metadata": {},
   "source": [
    "## Bonus Points"
   ]
  },
  {
   "cell_type": "markdown",
   "id": "1512cfc6-8e0f-4b54-a9ff-7e5da30163d2",
   "metadata": {},
   "source": [
    "##### a) Sort the users in terms of number of followers and divide them into two groups: for the first group, take only the top 10% regarding \"followers\", and for the second one, take the rest. Now compare the mean of time intervals between posts for the two categories. Do you notice something relevant?"
   ]
  },
  {
   "cell_type": "markdown",
   "id": "f9f734ce-0ddc-460c-8d8b-c1367e27ae34",
   "metadata": {},
   "source": [
    "* First let's divide `instagram_profiles.csv` into two subsets:\n",
    "  1. The first `top10_followers` containing the top 10% regarding the number of followers.\n",
    "  2. The second `rest_followers` containing the remaining 90% of profiles."
   ]
  },
  {
   "cell_type": "code",
   "execution_count": 39,
   "id": "0e2fcccb-3213-4419-aa4a-749718c55a04",
   "metadata": {},
   "outputs": [],
   "source": [
    "# top10_followers\n",
    "\n",
    "df_instagram_profiles_bp = df_instagram_profiles.copy()\n",
    "df_instagram_profiles_bp.sort_values(by = 'followers', ascending = False, inplace = True)"
   ]
  },
  {
   "cell_type": "code",
   "execution_count": 42,
   "id": "e493451c-6bb2-450e-91c9-650d6132badd",
   "metadata": {},
   "outputs": [],
   "source": [
    "top10_followers = df_instagram_profiles_bp.head(int(0.1*len(df_instagram_profiles_bp)))"
   ]
  },
  {
   "cell_type": "code",
   "execution_count": 45,
   "id": "783f1d1c-d141-4fcf-b571-65344d382f3a",
   "metadata": {},
   "outputs": [],
   "source": [
    "rest_followers = df_instagram_profiles_bp.iloc[len(top10_followers):]"
   ]
  },
  {
   "cell_type": "markdown",
   "id": "26f740cd-a5c7-4533-955c-f416dc3b5ed1",
   "metadata": {},
   "source": [
    "Let's do some work on the `instagram_post.csv`."
   ]
  },
  {
   "cell_type": "markdown",
   "id": "d33fa77e-6211-4269-8e57-05d7bff240fb",
   "metadata": {},
   "source": [
    "* We recover the list of dataset chunks `chunk_list_new` used in question RQ3. Then, we group by `profile.id` and sum over `hour` creating a new variable called `hours_sum`. We append the new chunks to a new list called `chunk_list_new3`. Lastly, we concatenate the chunks grouping by `profile_id` and summing across the `hours_sum` column therefore obtaining the `data3` dataframe."
   ]
  },
  {
   "cell_type": "code",
   "execution_count": 24,
   "id": "5851e81a-189c-4f91-be8a-7656a4117109",
   "metadata": {},
   "outputs": [],
   "source": [
    "chunk_list_new3 = []\n",
    "for chunk in chunk_list_new:\n",
    "    chunk = chunk.groupby('profile_id', as_index=False)['hour'].agg({'hours_sum': 'sum'})\n",
    "    chunk_list_new3.append(chunk)\n",
    "    \n",
    "data3 = pd.concat(chunk_list_new3).groupby('profile_id', as_index=False)['hours_sum'].sum()"
   ]
  },
  {
   "cell_type": "markdown",
   "id": "8882fd59-895f-41a6-888a-710f37cd946e",
   "metadata": {},
   "source": [
    "* We group by `profile.id` and count the number of profile ids in each group creating a new column called `profile_id_count`. We append the new chunks to a new list called `chunk_list_new4`. Lastly, we concatenate the chunks grouping them by `profile_id` and summing across the `profile_id_count` column therefore obtaining the `data4` dataframe."
   ]
  },
  {
   "cell_type": "code",
   "execution_count": 26,
   "id": "5c4ab67b-a370-427d-b02a-a94712b71116",
   "metadata": {},
   "outputs": [],
   "source": [
    "# get instagram_posts dataset and group by profile id and average across hour (time)\n",
    "\n",
    "chunk_list_new4 = []\n",
    "for chunk in chunk_list_new:\n",
    "    chunk = chunk.groupby('profile_id', as_index=False)['profile_id'].agg({'profile_id_count': 'count'})\n",
    "    chunk_list_new4.append(chunk)\n",
    "    \n",
    "data4 = pd.concat(chunk_list_new4).groupby('profile_id', as_index=False)['profile_id_count'].sum()"
   ]
  },
  {
   "cell_type": "markdown",
   "id": "30a248a4-fade-45c1-92c4-60c433754f99",
   "metadata": {},
   "source": [
    "* We create a new dataframe `df_bp_1` by concatenating the columns in `data3` and `data4`. "
   ]
  },
  {
   "cell_type": "code",
   "execution_count": 28,
   "id": "b3aca387-5438-4a66-a4bb-904b6efa3b52",
   "metadata": {},
   "outputs": [],
   "source": [
    "# Concatenate the datasets \n",
    "\n",
    "df_bp_1 = pd.concat([data3, data4['profile_id_count']], axis = 1)"
   ]
  },
  {
   "cell_type": "markdown",
   "id": "1491d5a1-2557-44c3-a51f-e9c99daf3861",
   "metadata": {},
   "source": [
    "* Finally, we create a new column `average_hour` that is calculated by dividing the `hours_sum` by the `profile_id_count`."
   ]
  },
  {
   "cell_type": "code",
   "execution_count": 30,
   "id": "fd678726-57aa-402c-9ed2-c284451b986c",
   "metadata": {},
   "outputs": [],
   "source": [
    "# Create a new column containing the average hour \n",
    "\n",
    "df_bp_1['average_hour'] = df_bp_1['hours_sum']/df_bp_1['profile_id_count']"
   ]
  },
  {
   "cell_type": "code",
   "execution_count": 31,
   "id": "f47cdc24-02d0-460e-a668-e1d795f3da7d",
   "metadata": {},
   "outputs": [
    {
     "data": {
      "text/html": [
       "<div>\n",
       "<style scoped>\n",
       "    .dataframe tbody tr th:only-of-type {\n",
       "        vertical-align: middle;\n",
       "    }\n",
       "\n",
       "    .dataframe tbody tr th {\n",
       "        vertical-align: top;\n",
       "    }\n",
       "\n",
       "    .dataframe thead th {\n",
       "        text-align: right;\n",
       "    }\n",
       "</style>\n",
       "<table border=\"1\" class=\"dataframe\">\n",
       "  <thead>\n",
       "    <tr style=\"text-align: right;\">\n",
       "      <th></th>\n",
       "      <th>profile_id</th>\n",
       "      <th>hours_sum</th>\n",
       "      <th>profile_id_count</th>\n",
       "      <th>average_hour</th>\n",
       "    </tr>\n",
       "  </thead>\n",
       "  <tbody>\n",
       "    <tr>\n",
       "      <th>0</th>\n",
       "      <td>3.000000e+00</td>\n",
       "      <td>153.0</td>\n",
       "      <td>14</td>\n",
       "      <td>10.928571</td>\n",
       "    </tr>\n",
       "    <tr>\n",
       "      <th>1</th>\n",
       "      <td>4.000000e+00</td>\n",
       "      <td>404.0</td>\n",
       "      <td>37</td>\n",
       "      <td>10.918919</td>\n",
       "    </tr>\n",
       "    <tr>\n",
       "      <th>2</th>\n",
       "      <td>1.100000e+01</td>\n",
       "      <td>29.0</td>\n",
       "      <td>2</td>\n",
       "      <td>14.500000</td>\n",
       "    </tr>\n",
       "    <tr>\n",
       "      <th>3</th>\n",
       "      <td>1.200000e+01</td>\n",
       "      <td>5.0</td>\n",
       "      <td>1</td>\n",
       "      <td>5.000000</td>\n",
       "    </tr>\n",
       "    <tr>\n",
       "      <th>4</th>\n",
       "      <td>1.400000e+01</td>\n",
       "      <td>17.0</td>\n",
       "      <td>1</td>\n",
       "      <td>17.000000</td>\n",
       "    </tr>\n",
       "    <tr>\n",
       "      <th>...</th>\n",
       "      <td>...</td>\n",
       "      <td>...</td>\n",
       "      <td>...</td>\n",
       "      <td>...</td>\n",
       "    </tr>\n",
       "    <tr>\n",
       "      <th>11833760</th>\n",
       "      <td>9.001013e+13</td>\n",
       "      <td>134.0</td>\n",
       "      <td>10</td>\n",
       "      <td>13.400000</td>\n",
       "    </tr>\n",
       "    <tr>\n",
       "      <th>11833761</th>\n",
       "      <td>9.001013e+13</td>\n",
       "      <td>4.0</td>\n",
       "      <td>1</td>\n",
       "      <td>4.000000</td>\n",
       "    </tr>\n",
       "    <tr>\n",
       "      <th>11833762</th>\n",
       "      <td>9.001013e+13</td>\n",
       "      <td>42.0</td>\n",
       "      <td>2</td>\n",
       "      <td>21.000000</td>\n",
       "    </tr>\n",
       "    <tr>\n",
       "      <th>11833763</th>\n",
       "      <td>9.001013e+13</td>\n",
       "      <td>7.0</td>\n",
       "      <td>1</td>\n",
       "      <td>7.000000</td>\n",
       "    </tr>\n",
       "    <tr>\n",
       "      <th>11833764</th>\n",
       "      <td>9.001014e+13</td>\n",
       "      <td>3.0</td>\n",
       "      <td>1</td>\n",
       "      <td>3.000000</td>\n",
       "    </tr>\n",
       "  </tbody>\n",
       "</table>\n",
       "<p>11833765 rows × 4 columns</p>\n",
       "</div>"
      ],
      "text/plain": [
       "            profile_id  hours_sum  profile_id_count  average_hour\n",
       "0         3.000000e+00      153.0                14     10.928571\n",
       "1         4.000000e+00      404.0                37     10.918919\n",
       "2         1.100000e+01       29.0                 2     14.500000\n",
       "3         1.200000e+01        5.0                 1      5.000000\n",
       "4         1.400000e+01       17.0                 1     17.000000\n",
       "...                ...        ...               ...           ...\n",
       "11833760  9.001013e+13      134.0                10     13.400000\n",
       "11833761  9.001013e+13        4.0                 1      4.000000\n",
       "11833762  9.001013e+13       42.0                 2     21.000000\n",
       "11833763  9.001013e+13        7.0                 1      7.000000\n",
       "11833764  9.001014e+13        3.0                 1      3.000000\n",
       "\n",
       "[11833765 rows x 4 columns]"
      ]
     },
     "execution_count": 31,
     "metadata": {},
     "output_type": "execute_result"
    }
   ],
   "source": [
    "df_bp_1"
   ]
  },
  {
   "cell_type": "markdown",
   "id": "48dd830c-51dc-4f7f-a0d8-8e4d970b4bea",
   "metadata": {},
   "source": [
    "##### **Time interval distribution regarding the top 10% users with the highest number of followers**"
   ]
  },
  {
   "cell_type": "code",
   "execution_count": 49,
   "id": "1c0ea894-cd4d-454a-bbc7-c46667d67871",
   "metadata": {},
   "outputs": [],
   "source": [
    "# Let's start with top10 followers\n",
    "\n",
    "top10_followers.isna().sum()\n",
    "top10_followers_1 = top10_followers.copy()\n",
    "top10_followers_1.dropna(subset = ['profile_id'], inplace = True)"
   ]
  },
  {
   "cell_type": "markdown",
   "id": "96b62c33-a1ef-4f07-a259-e4a614622204",
   "metadata": {},
   "source": [
    "* We perform an inner merge `top10_followers` with `df_bp_1` on `profile_id`. So, we keep only those rows (profiles) that are present in both dataframes."
   ]
  },
  {
   "cell_type": "code",
   "execution_count": null,
   "id": "64e88feb-fcbb-45ae-9f32-4bd57b667a89",
   "metadata": {},
   "outputs": [],
   "source": [
    "# keep only profile ids that are in both datasets\n",
    "\n",
    "top10_followers_merged = pd.merge(top10_followers_1, df_bp_1, on='profile_id', how='inner')"
   ]
  },
  {
   "cell_type": "code",
   "execution_count": null,
   "id": "9f29c40d-e2b6-4921-9933-711ff95c276d",
   "metadata": {},
   "outputs": [],
   "source": [
    "top10_followers_merged"
   ]
  },
  {
   "cell_type": "markdown",
   "id": "fcc2dfb2-46e8-483b-a4d5-95c6aa4e5e25",
   "metadata": {},
   "source": [
    "* We use the function `time_intervals` defined in question `RQ3` to plot the distribution of the time intervals. Therefore, we count the number of `average_hour` occurrences there are for each time interval and we visualize the results."
   ]
  },
  {
   "cell_type": "code",
   "execution_count": 35,
   "id": "6fec5a8d-0bf6-448d-8d29-c050dcb21527",
   "metadata": {},
   "outputs": [
    {
     "data": {
      "image/png": "[encoded data removed]",
      "text/plain": [
       "<Figure size 432x288 with 1 Axes>"
      ]
     },
     "metadata": {
      "needs_background": "light"
     },
     "output_type": "display_data"
    }
   ],
   "source": [
    "time_intervals(top10_followers_merged, top10_followers_merged.average_hour, slots, title = \"the number of average_hour occcurrences for each time slot\")"
   ]
  },
  {
   "cell_type": "markdown",
   "id": "ca486ffe-33e4-4484-a4a1-b068873a0fa6",
   "metadata": {},
   "source": [
    "* **The mean of time intervals** is"
   ]
  },
  {
   "cell_type": "code",
   "execution_count": 26,
   "id": "dd2fc396-b54a-47dc-943e-8789572abfb4",
   "metadata": {},
   "outputs": [
    {
     "data": {
      "text/plain": [
       "13.236959396872"
      ]
     },
     "execution_count": 26,
     "metadata": {},
     "output_type": "execute_result"
    }
   ],
   "source": [
    "np.mean(top10_followers_merged.average_hour)"
   ]
  },
  {
   "cell_type": "markdown",
   "id": "43d2bb9c-8156-4912-9bd9-448b735a327e",
   "metadata": {},
   "source": [
    "##### **Time interval distribution regarding the remaining 90% of users**"
   ]
  },
  {
   "cell_type": "markdown",
   "id": "f73a09c5-ae21-407a-b733-08888c64b236",
   "metadata": {},
   "source": [
    "* We perform an inner merge `rest_followers` with `df_bp_1` on `profile_id`. So, we keep only those rows (profiles) that are present in both dataframes."
   ]
  },
  {
   "cell_type": "code",
   "execution_count": 37,
   "id": "d07355d9-e2c5-48cf-b6d9-95e3433436e9",
   "metadata": {},
   "outputs": [],
   "source": [
    "# Rest 90% of profile ids\n",
    "\n",
    "rest_followers.dropna(subset = ['profile_id'], inplace = True)\n",
    "rest_followers_merged = pd.merge(rest_followers, df_bp_1, on='profile_id', how='inner')"
   ]
  },
  {
   "cell_type": "code",
   "execution_count": 38,
   "id": "7de21908-7ca9-4494-8dc9-ae247ab68bbf",
   "metadata": {},
   "outputs": [
    {
     "data": {
      "image/png": "[encoded data removed]",
      "text/plain": [
       "<Figure size 432x288 with 1 Axes>"
      ]
     },
     "metadata": {
      "needs_background": "light"
     },
     "output_type": "display_data"
    }
   ],
   "source": [
    "time_intervals(rest_followers_merged, rest_followers_merged.average_hour, slots, \"the number of average_hour occcurrences for each time slot\")"
   ]
  },
  {
   "cell_type": "markdown",
   "id": "cdc50bea-dc15-459e-ac0e-6215c544df17",
   "metadata": {},
   "source": [
    "* **The mean of time intervals** is"
   ]
  },
  {
   "cell_type": "code",
   "execution_count": 39,
   "id": "b3cc75d6-d863-47eb-8ca7-31260abfbd34",
   "metadata": {},
   "outputs": [
    {
     "data": {
      "text/plain": [
       "13.102672633361614"
      ]
     },
     "execution_count": 39,
     "metadata": {},
     "output_type": "execute_result"
    }
   ],
   "source": [
    "np.mean(rest_followers_merged.average_hour)"
   ]
  },
  {
   "cell_type": "markdown",
   "id": "00a289b4-8cb7-4acd-9b57-d48b060c9877",
   "metadata": {},
   "source": [
    "##### `Conclusions`\n",
    "\n",
    "It can clearly be seen that the distribution of the time intervals for the bottom 90% Instagram users (`rest_followers`) in terms of number of followers is similar to the one obtained in question `RQ3`. This could be explained by the fact that the majority (90%) of the dataset used in questin RQ3 is also present in rest_followers.\n",
    "\n",
    "While the distribution of the time intervals for the top 10% Instagram users (`top10_followers`) is very different wrt the one obtained in question `RQ3`. The histogram is far more skewed to the left, implying that <b>the most followed users tend to post earlier in the day (6 AM - 4 PM) and especially in the 2PM-4PM slot instead of in the evening (5PM-11PM) like the majority of the sampled Instagram users.</b>\n",
    "So, if you want to be more successful on Instagram, you should post in the morning and early afternoon!"
   ]
  }
 ],
 "metadata": {
  "kernelspec": {
   "display_name": "Python 3",
   "language": "python",
   "name": "python3"
  },
  "language_info": {
   "codemirror_mode": {
    "name": "ipython",
    "version": 3
   },
   "file_extension": ".py",
   "mimetype": "text/x-python",
   "name": "python",
   "nbconvert_exporter": "python",
   "pygments_lexer": "ipython3",
   "version": "3.8.8"
  }
 },
 "nbformat": 4,
 "nbformat_minor": 5
}
