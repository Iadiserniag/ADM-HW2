{
 "cells": [
  {
   "attachments": {},
   "cell_type": "markdown",
   "id": "f0eab2d5",
   "metadata": {},
   "source": [
    "# <center>ADM: Homework 2</center>\n",
    "\n",
    "* <b>Name: </b>Giulia Iadisernia         <b>Matricola</b>: 2065450 <b>Email: </b>iadisernia.2065450@studenti.uniroma.it  <br>\n",
    "* <b>Name: </b>Lorenzo Incoronato       <b>Matricola</b>: 1916863 <b>Email: </b>incoronato.1916863@studenti.uniroma1.it <br>\n",
    "* <b>Name: </b>Javier Martinez Velasco   <b>Matricola</b>: 2058968 <b>Email: </b>martinezvelasco.2058968@studenti.uniroma1.it<br>"
   ]
  },
  {
   "cell_type": "markdown",
   "id": "aa006665",
   "metadata": {},
   "source": [
    "### <b>[RQ1]</b>After collecting information, the Data Scientists have to know what dataset they are dealing with, so let's start with an Exploratory Data Analysis (EDA). What can you say about our datasets? Please summarise its main characteristics with visual and tabular methods"
   ]
  },
  {
   "cell_type": "code",
   "execution_count": 1,
   "id": "58a78733",
   "metadata": {},
   "outputs": [],
   "source": [
    "import warnings\n",
    "warnings.filterwarnings(\"ignore\")\n",
    "import pandas as pd\n",
    "import numpy as np\n",
    "import matplotlib.pyplot as plt\n",
    "import scipy.stats"
   ]
  },
  {
   "cell_type": "code",
   "execution_count": 2,
   "id": "d60890e9",
   "metadata": {},
   "outputs": [],
   "source": [
    "#UPLOADING POSTS.CSV\n",
    "fields = [\"post_type\", \"numbr_likes\",\"number_comments\", \"cts\"]\n",
    "df_instagram_posts_RQ1= pd.read_csv(\"~/instagram_posts.csv\", sep = \"\\t\" , usecols = fields ,parse_dates=[\"cts\"] )\n",
    "df_instagram_posts_RQ1_info = pd.read_csv(\"~/instagram_posts.csv\", sep = \"\\t\" ,nrows = 1)\n",
    "#DATA CLEANING \n",
    "df_instagram_posts_RQ1.numbr_likes.fillna(0, inplace = True)\n",
    "df_instagram_posts_RQ1.number_comments.fillna(0, inplace = True)\n",
    "#ASSIGNING VARIABLES\n",
    "likes = df_instagram_posts_RQ1.numbr_likes\n",
    "post_type = df_instagram_posts_RQ1.post_type\n",
    "comments = df_instagram_posts_RQ1.number_comments\n",
    "date = df_instagram_posts_RQ1.cts"
   ]
  },
  {
   "cell_type": "markdown",
   "id": "fd910538",
   "metadata": {},
   "source": [
    "<h3 style=\"font-size: 2rem; color: #00009B\"> RQ1.1 EDA on instagram_posts.csv</h3>"
   ]
  },
  {
   "cell_type": "markdown",
   "id": "5c365459",
   "metadata": {},
   "source": [
    "#### Dataset Variables\n",
    "<b>SID</b>: Sequence ID <br>\n",
    "<b>sid_profile</b>: Sequence ID of the profile from ## Profiles tab key <br>\n",
    "<b>post_id</b>: Instagrams ID <br>\n",
    "<b>profile_id</b>: Instagrams ID may be null <br>\n",
    "<b>location_id</b>: Instagrams ID <br>\n",
    "<b>cts</b>: Timestamp when the Post was created <br>\n",
    "<b>post_type</b>: 1 - Photo, 2 - Video, 3 - multy <br>\n",
    "<b>description</b>: May contain '\\n' <br>\n",
    "<b>numbr_likes</b>: Number of Likes at the moment it was visited <br>\n",
    "<b>number_comments</b>: Number of comments at the moment it was visited <br>\n",
    "\n",
    "#### Which variables will be considered for instagram_post.csv EDA?\n",
    "\n",
    "The original dataset includes 10 variables, 6 of which don't provide any useful information by analyzing them numerically: \"SID\", \"sid_profile\", \"post_id\", \"profile_id\" and \"location_id\". Regarding \"description\", up to this point we don't have the required honwledge and tools to perform text mining and extract insights from this variable. Therefore, the exploratory data analysis will be performed over the remaining 4 variables: \"post_type\", \"numbr_likes\", \"number_comments\" and \"cts\". "
   ]
  },
  {
   "cell_type": "markdown",
   "id": "105a9675",
   "metadata": {
    "tags": []
   },
   "source": [
    "### Variables and data types"
   ]
  },
  {
   "cell_type": "markdown",
   "id": "faa12b70",
   "metadata": {},
   "source": [
    "Here we can observe the different data types of the variables. Since the variables post_type, numbr_likes and number_comments are actually discrete, we could transform them into integer values in a later data cleaning stage. "
   ]
  },
  {
   "cell_type": "code",
   "execution_count": 7,
   "id": "099f5ea9",
   "metadata": {},
   "outputs": [
    {
     "name": "stdout",
     "output_type": "stream",
     "text": [
      "<class 'pandas.core.frame.DataFrame'>\n",
      "RangeIndex: 1 entries, 0 to 0\n",
      "Data columns (total 10 columns):\n",
      " #   Column           Non-Null Count  Dtype \n",
      "---  ------           --------------  ----- \n",
      " 0   sid              1 non-null      int64 \n",
      " 1   sid_profile      1 non-null      int64 \n",
      " 2   post_id          1 non-null      object\n",
      " 3   profile_id       1 non-null      int64 \n",
      " 4   location_id      1 non-null      int64 \n",
      " 5   cts              1 non-null      object\n",
      " 6   post_type        1 non-null      int64 \n",
      " 7   description      1 non-null      object\n",
      " 8   numbr_likes      1 non-null      int64 \n",
      " 9   number_comments  1 non-null      int64 \n",
      "dtypes: int64(7), object(3)\n",
      "memory usage: 208.0+ bytes\n"
     ]
    }
   ],
   "source": [
    "df_instagram_posts_RQ1_info.info()"
   ]
  },
  {
   "cell_type": "markdown",
   "id": "fe6f1eca",
   "metadata": {},
   "source": [
    "### Numerical Variables"
   ]
  },
  {
   "cell_type": "markdown",
   "id": "e650adea",
   "metadata": {
    "tags": []
   },
   "source": [
    "##### <b>1. NUMBER OF LIKES</b>"
   ]
  },
  {
   "cell_type": "markdown",
   "id": "757ce62b",
   "metadata": {
    "tags": []
   },
   "source": [
    "<i>Summary Statistics</i>\n",
    "<br>\n",
    "\"numbr_likes\" is a numerical discrete variable that indicates the amount of likes a certain post has obtained. By looking (table below) at the main summary values from the distribution we observe a big range from 0 to near 8M likes. However, 75% of the values lay below 114 likes and the mode is 12 likes. This suggests that the current mean (283) might not the best measure of expection for this distribution (this value is probably too high). Therefore, for a better summary of the distribution, outliers should be identified."
   ]
  },
  {
   "cell_type": "code",
   "execution_count": 23,
   "id": "ce20c3f8",
   "metadata": {},
   "outputs": [
    {
     "name": "stdout",
     "output_type": "stream",
     "text": [
      "mode           12.0\n"
     ]
    },
    {
     "data": {
      "text/plain": [
       "count    42710197.000000\n",
       "mean          283.502807\n",
       "std          6124.608652\n",
       "min             0.000000\n",
       "25%            20.000000\n",
       "50%            46.000000\n",
       "75%           114.000000\n",
       "max       8822952.000000\n",
       "Name: numbr_likes, dtype: object"
      ]
     },
     "execution_count": 23,
     "metadata": {},
     "output_type": "execute_result"
    }
   ],
   "source": [
    "print(\"mode          \", likes.mode()[0])\n",
    "likes.describe().apply(lambda x: format(x, 'f'))"
   ]
  },
  {
   "cell_type": "markdown",
   "id": "8462c93e",
   "metadata": {},
   "source": [
    "<i>Outliers</i>\n",
    "<br>\n",
    "In the output below, by obtaining the higher quantiles of the distribution we can clearly observe the <b>presence of outliers</b>. The quantile at percentile 0.95 shows that 95% of the total dataset posts(40,574.687) have received less than 471 likes.  \n",
    "By using the Interquartile Rule to Find Outliers we find out that in the right tail of the distribution, around 10% of the population are outliers. **This is an extremely high number of outliers**, which we believe is related to the nature of the distribution (close to an exponential) and the big sample size, which shows a high variation of likes in the population.<br>\n",
    "\n",
    "* IQR * 1.5 + Q3 = (114-20) * 1.5 + 114  = 255 <br>\n",
    "* Percentile 90 = 256 <br>\n",
    "* Therefore, 10% of the right tail of the distribution can be consider outliers"
   ]
  },
  {
   "cell_type": "code",
   "execution_count": 27,
   "id": "0cc4c8d2",
   "metadata": {},
   "outputs": [
    {
     "name": "stdout",
     "output_type": "stream",
     "text": [
      "Percentile       Quantile\n",
      "0.500000         46.000000\n",
      "0.900000        256.000000\n",
      "0.950000        471.000000\n",
      "0.990000       2875.000000\n",
      "0.999000      30636.000000\n",
      "0.999900     181821.941200\n",
      "0.999999    2028103.073639\n",
      "1.000000    8822952.000000\n",
      "Name: numbr_likes, dtype: object\n"
     ]
    },
    {
     "data": {
      "image/png": "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\n",
      "text/plain": [
       "<Figure size 432x288 with 1 Axes>"
      ]
     },
     "metadata": {
      "needs_background": "light"
     },
     "output_type": "display_data"
    }
   ],
   "source": [
    "print(\"Percentile       Quantile\")\n",
    "print(likes.quantile([.5, .90, .95 , .99 , .999 , .9999 , .999999 , 1]).apply(lambda x: format(x, 'f')))\n",
    "plt.boxplot(likes)\n",
    "plt.show()"
   ]
  },
  {
   "cell_type": "markdown",
   "id": "12542523",
   "metadata": {},
   "source": [
    "<i>Distribution of the Variable</i>\n",
    "<br>\n",
    "When ploting the distribution we observe its exponential nature, with a highly positive skew and leptokurtosis. In this barplot we \"zoom\" on the 95% left tail of the distribution, because it is more representative of the sample population."
   ]
  },
  {
   "cell_type": "code",
   "execution_count": 63,
   "id": "0da216a9",
   "metadata": {},
   "outputs": [
    {
     "data": {
      "image/png": "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\n",
      "text/plain": [
       "<Figure size 432x288 with 1 Axes>"
      ]
     },
     "metadata": {
      "needs_background": "light"
     },
     "output_type": "display_data"
    }
   ],
   "source": [
    "likes = df_instagram_posts_RQ1.numbr_likes\n",
    "new_axis = likes[likes < 471]\n",
    "unique,counts = np.unique(df_instagram_posts_RQ1.numbr_likes.values, return_counts=True)\n",
    "try:\n",
    "    plt.hist(new_axis,  bins='auto', normed=True , color = \"skyblue\")\n",
    "except AttributeError:\n",
    "    pass"
   ]
  },
  {
   "cell_type": "markdown",
   "id": "43b1cf22",
   "metadata": {},
   "source": [
    "##### <b>2. NUMBER OF COMMENTS</b>"
   ]
  },
  {
   "cell_type": "markdown",
   "id": "82af200b",
   "metadata": {},
   "source": [
    "<i>Summary Statistics</i>\n",
    "<br>\n",
    "We procede similarly with the variable \"number_comments\", which is a numerical discrete variable that indicates the amount of comments a certain post has obtained. We observe a range from 0 to near 488953 comments. We notice that 75% of the values lay below 5 comments and the mode is 0 comments. This suggests that the mean (7.59) might not the best measure of expection for this distribution (this value is probably too high). For a better summary of the distribution we proceed on identifying the outliers."
   ]
  },
  {
   "cell_type": "code",
   "execution_count": 12,
   "id": "a168b9b7",
   "metadata": {},
   "outputs": [
    {
     "name": "stdout",
     "output_type": "stream",
     "text": [
      "mode           0.0\n"
     ]
    },
    {
     "data": {
      "text/plain": [
       "count    42710197.000000\n",
       "mean            7.595301\n",
       "std           194.147559\n",
       "min             0.000000\n",
       "25%             0.000000\n",
       "50%             2.000000\n",
       "75%             5.000000\n",
       "max        488953.000000\n",
       "Name: number_comments, dtype: object"
      ]
     },
     "execution_count": 12,
     "metadata": {},
     "output_type": "execute_result"
    }
   ],
   "source": [
    "print(\"mode          \", comments.mode()[0])\n",
    "comments.describe().apply(lambda x: format(x, 'f'))"
   ]
  },
  {
   "cell_type": "markdown",
   "id": "31ed5e71",
   "metadata": {},
   "source": [
    "<i>Outliers</i>\n",
    "<br>\n",
    "As with the number of likes, in the output below we can clearly observe the <b>presence of outliers</b>. The quantile at percentile 0.99 shows that 99% of the total dataset posts(40,574.687) have received less than 77 comments. Applying the interquartile rule we find out that, as happens with the number of likes, around 10% of the data are outliers:\n",
    "* IQR * 1.5 + Q3 = (5-0) * 1.5 + 5  = 12.5 <br>\n",
    "* Percentile 90 = 13 <br>\n",
    "* Therefore, around 10% of the right tail of the distribution can be consider outliers"
   ]
  },
  {
   "cell_type": "code",
   "execution_count": 5,
   "id": "0ab33b8b",
   "metadata": {},
   "outputs": [
    {
     "name": "stdout",
     "output_type": "stream",
     "text": [
      "Percentile       Quantile\n",
      "0.500000         2.000000\n",
      "0.900000        13.000000\n",
      "0.950000        23.000000\n",
      "0.990000        77.000000\n",
      "0.999000       462.000000\n",
      "0.999900      2859.980400\n",
      "0.999999     73893.938977\n",
      "1.000000    488953.000000\n",
      "Name: number_comments, dtype: object\n"
     ]
    },
    {
     "data": {
      "image/png": "iVBORw0KGgoAAAANSUhEUgAAAYoAAAD4CAYAAADy46FuAAAAOXRFWHRTb2Z0d2FyZQBNYXRwbG90bGliIHZlcnNpb24zLjUuMCwgaHR0cHM6Ly9tYXRwbG90bGliLm9yZy8/fFQqAAAACXBIWXMAAAsTAAALEwEAmpwYAAAWeklEQVR4nO3df2xddZrf8fcTx8QQIAmQQSEJBGmyyIzVLmAxIzaq6g0KRK0KrQZtIlWkikXEdGqmf/Gj/oPtjCwNSHQqrM5IqE7JTLeGiHZn0GpSmk1cbS3xy6FbEcZFCTO7ECAhg9PAhglxkqd/+OtwnTEnNwH75ob3S7Luvc893+99LjL5+JzvuedGZiJJ0ueZ0+gGJEnnN4NCklTJoJAkVTIoJEmVDApJUqW5jW7gy3bVVVflihUrGt2GJDWVXbt2/TYzF0/33AUXFCtWrGBkZKTRbUhSU4mIv/285zz0JEmqVFdQRMTfRMTrEfHXETFSaldExPaI2FNuF9Vs/0hE7I2INyPijpr6LWWevRHxZEREqc+LiGdL/eWIWFEzZkN5jT0RseFLe+eSpLqczR5FV2b+YWZ2lscPAzsycyWwozwmIm4E1gHfAO4EfhwRLWXMT4BNwMryc2epdwOHMvPrwI+Ax8pcVwCPAt8EbgUerQ0kSdLM+yKHnu4CtpT7W4C7a+rPZOanmfkbYC9wa0QsAS7PzBdz4rohPz1tzORczwGry97GHcD2zBzLzEPAdj4LF0nSLKg3KBL4HxGxKyI2ldrVmfk+QLn9WqkvBd6pGbuv1JaW+6fXp4zJzOPAYeDKirmmiIhNETESESMHDx6s8y1JkupRb1D8UWbeDKwFvhsR/6Bi25imlhX1cx3zWSHzqczszMzOxYunPbtLaqjBwUE6OjpoaWmho6ODwcHBRrck1a2uoMjM98rtB8CfM7FecKAcTqLcflA23wcsrxm+DHiv1JdNU58yJiLmAguAsYq5pKYxODhIb28v/f39HD16lP7+fnp7ew0LNY0zBkVEzI+IyybvA2uA3cDzwORZSBuAX5T7zwPryplM1zOxaP1KOTz1cUR8q6w/3HvamMm5vg3sLOsYLwBrImJRWcReU2pS0+jr62NgYICuri5aW1vp6upiYGCAvr6+Rrcm1aWeD9xdDfx5OZN1LvBfMvO/R8SrwNaI6AbeBu4ByMw3ImIr8CvgOPDdzDxR5voO8DRwMbCt/AAMAD+LiL1M7EmsK3ONRcQPgFfLdt/PzLEv8H6lWTc6OsqqVaum1FatWsXo6GiDOpLOzhmDIjN/Dfz9aeofAqs/Z0wf8Ht/LmXmCNAxTf0oJWimeW4zsPlMfUrnq/b2doaHh+nq6jpVGx4epr29vYFdSfXzk9nSDOvt7aW7u5uhoSHGx8cZGhqiu7ub3t7eRrcm1eWCu9aTdL5Zv349AD09PYyOjtLe3k5fX9+punS+iwvtO7M7OzvTiwJK0tmJiF01V96YwkNPkqRKBoUkqZJBIUmqZFBIkioZFJKkSgaFJKmSQSFJqmRQSJIqGRSSpEoGhSSpkkEhSapkUEiSKhkUkqRKBoUkqZJBIUmqZFBIkioZFJKkSgaFJKmSQSFJqmRQSJIqGRSSpEoGhSSpkkEhSapkUEiSKhkUkqRKBoUkqZJBIUmqZFBIkirVHRQR0RIR/zsi/qI8viIitkfEnnK7qGbbRyJib0S8GRF31NRviYjXy3NPRkSU+ryIeLbUX46IFTVjNpTX2BMRG76Udy1JqtvZ7FF8DxitefwwsCMzVwI7ymMi4kZgHfAN4E7gxxHRUsb8BNgErCw/d5Z6N3AoM78O/Ah4rMx1BfAo8E3gVuDR2kCSJM28uoIiIpYB/wj4jzXlu4At5f4W4O6a+jOZ+Wlm/gbYC9waEUuAyzPzxcxM4KenjZmc6zlgddnbuAPYnpljmXkI2M5n4SJJmgX17lH8e+BB4GRN7erMfB+g3H6t1JcC79Rst6/Ulpb7p9enjMnM48Bh4MqKuaaIiE0RMRIRIwcPHqzzLUmS6nHGoIiIfwx8kJm76pwzpqllRf1cx3xWyHwqMzszs3Px4sV1tilJqkc9exR/BPyTiPgb4BngjyPiPwMHyuEkyu0HZft9wPKa8cuA90p92TT1KWMiYi6wABirmEuSNEvOGBSZ+UhmLsvMFUwsUu/MzH8OPA9MnoW0AfhFuf88sK6cyXQ9E4vWr5TDUx9HxLfK+sO9p42ZnOvb5TUSeAFYExGLyiL2mlKTJM2SuV9g7A+BrRHRDbwN3AOQmW9ExFbgV8Bx4LuZeaKM+Q7wNHAxsK38AAwAP4uIvUzsSawrc41FxA+AV8t238/MsS/QsyTpLMXEH+4Xjs7OzhwZGWl0G5LUVCJiV2Z2Tvecn8yWJFUyKCRJlQwKSVIlg0KSVMmgkCRVMigkSZUMCklSJYNCklTJoJAkVTIoJEmVDApJUiWDQpJUyaCQJFUyKCRJlQwKSVIlg0KSVMmgkCRVMigkSZUMCklSJYNCklTJoJAkVTIoJEmVDApJUiWDQpJUyaCQJFUyKCRJlQwKaRYMDg7S0dFBS0sLHR0dDA4ONrolqW5zG92AdKEbHBykt7eXgYEBVq1axfDwMN3d3QCsX7++wd1JZxaZ2egevlSdnZ05MjLS6DakUzo6Oujv76erq+tUbWhoiJ6eHnbv3t3AzqTPRMSuzOyc9jmDQppZLS0tHD16lNbW1lO18fFx2traOHHiRAM7kz5TFRSuUUgzrL29neHh4Sm14eFh2tvbG9SRdHbOGBQR0RYRr0TE/4mINyLi35b6FRGxPSL2lNtFNWMeiYi9EfFmRNxRU78lIl4vzz0ZEVHq8yLi2VJ/OSJW1IzZUF5jT0Rs+FLfvTQLent76e7uZmhoiPHxcYaGhuju7qa3t7fRrUl1qWcx+1PgjzPz7yKiFRiOiG3APwN2ZOYPI+Jh4GHgoYi4EVgHfAO4BvjLiPiDzDwB/ATYBLwE/BK4E9gGdAOHMvPrEbEOeAz4k4i4AngU6AQS2BURz2fmoS/tv4A0wyYXrHt6ehgdHaW9vZ2+vj4XstU0zrhHkRP+rjxsLT8J3AVsKfUtwN3l/l3AM5n5aWb+BtgL3BoRS4DLM/PFnFgY+elpYybneg5YXfY27gC2Z+ZYCYftTISL1FTWr1/P7t27OXHiBLt37zYk1FTqWqOIiJaI+GvgAyb+4X4ZuDoz3wcot18rmy8F3qkZvq/Ulpb7p9enjMnM48Bh4MqKuSRJs6SuoMjME5n5h8AyJvYOOio2j+mmqKif65jPXjBiU0SMRMTIwYMHK1qTJJ2tszrrKTP/H/A/mTj8c6AcTqLcflA22wcsrxm2DHiv1JdNU58yJiLmAguAsYq5Tu/rqczszMzOxYsXn81bkiSdQT1nPS2OiIXl/sXA7cD/BZ4HJs9C2gD8otx/HlhXzmS6HlgJvFIOT30cEd8q6w/3njZmcq5vAzvLOsYLwJqIWFTOqlpTapKkWVLPWU9LgC0R0cJEsGzNzL+IiBeBrRHRDbwN3AOQmW9ExFbgV8Bx4LvljCeA7wBPAxczcbbTtlIfAH4WEXuZ2JNYV+Yai4gfAK+W7b6fmWNf5A1Lks6On8yWJPnJbEnSuTMoJEmVDApJUiWDQpJUyaCQJFUyKCRJlQwKSVIlg0KSVMmgkCRVMiikWTA4OEhHRwctLS10dHQwODjY6JakutVzrSdJX8Dg4CC9vb0MDAywatUqhoeH6e7uBvALjNQUvNaTNMM6Ojro7++nq6vrVG1oaIienh52797dwM6kz1Rd68mgkGZYS0sLR48epbW19VRtfHyctrY2Tpw4UTFSmj1eFFBqoPb2doaHh6fUhoeHaW9vb1BH0tkxKKQZ1tvbS3d3N0NDQ4yPjzM0NER3dze9vb2Nbk2qi4vZ0gybXLDu6elhdHSU9vZ2+vr6XMhW03CNQpLkGoUk6dwZFJKkSgaFJKmSQSFJqmRQSJIqGRSSpEoGhSSpkkEhSapkUEiSKhkU0izwi4vUzLzWkzTD/OIiNTuv9STNML+4SM3ALy6SGsgvLlIz8KKAUgP5xUVqdgaFNMP84iI1uzMGRUQsj4ihiBiNiDci4nulfkVEbI+IPeV2Uc2YRyJib0S8GRF31NRviYjXy3NPRkSU+ryIeLbUX46IFTVjNpTX2BMRG77Udy/NgvXr19PX10dPTw9tbW309PT4xUVqKmdco4iIJcCSzHwtIi4DdgF3A/8CGMvMH0bEw8CizHwoIm4EBoFbgWuAvwT+IDNPRMQrwPeAl4BfAk9m5raI+JfA38vM+yNiHfBPM/NPIuIKYAToBLK89i2Zeejz+nWNQpLO3hdao8jM9zPztXL/Y2AUWArcBWwpm21hIjwo9Wcy89PM/A2wF7i1BM7lmfliTqTTT08bMznXc8DqsrdxB7A9M8dKOGwH7qz7nUuSvrCzWqMoh4RuAl4Grs7M92EiTICvlc2WAu/UDNtXakvL/dPrU8Zk5nHgMHBlxVyn97UpIkYiYuTgwYNn85YkSWdQd1BExKXAfwX+dWZ+VLXpNLWsqJ/rmM8KmU9lZmdmdi5evLiiNakx/GS2mlldQRERrUyExJ9l5n8r5QPlcNLkOsYHpb4PWF4zfBnwXqkvm6Y+ZUxEzAUWAGMVc0lNY/KT2f39/Rw9epT+/n56e3sNCzWNes56CmAAGM3Mf1fz1PPA5FlIG4Bf1NTXlTOZrgdWAq+Uw1MfR8S3ypz3njZmcq5vAzvLOsYLwJqIWFTOqlpTalLT6OvrY2BggK6uLlpbW+nq6mJgYIC+vr5GtybVpZ6znlYB/wt4HThZyv+GiXWKrcC1wNvAPZk5Vsb0AhuB40wcqtpW6p3A08DFwDagJzMzItqAnzGx/jEGrMvMX5cxG8vrAfRl5n+q6teznnS+8ZPZagZewkNqoI6ODu6++25+/vOfMzo6Snt7+6nHXutJ5wsv4SE1UFdXF4899hgbN27k448/ZuPGjTz22GNTLhIonc8MCmmGDQ0N8dBDD7F582Yuu+wyNm/ezEMPPcTQ0FCjW5PqYlBIM2x0dJQbbrhhSu2GG25gdHS0QR1JZ8egkGbYNddcwwMPPMCRI0fITI4cOcIDDzzANddc0+jWpLr4DXfSDPvkk084fPgwbW1tRARHjx7l8OHDzJnj32lqDv6mSjNsbGyM1tZW9u/fz8mTJ9m/fz+tra2MjY01ujWpLgaFNAvGx8d54oknOHLkCE888QTj4+ONbkmqm0EhzYL58+dz00030drayk033cT8+fMb3ZJUN9copFkwZ84cNm7cyNtvv821117r+oSair+t0gybO3cuJ09OXP1m8koIJ0+eZO5c/05TczAopBl2//3388knn3D06NFTZz198skn3H///Y1uTaqLQSHNsP7+fm6//XYOHDjAyZMnOXDgALfffjv9/f2Nbk2qi0EhzbDBwUH27NnDjh07OHbsGDt27GDPnj1+H4WahlePlWZYR0cHK1euZNu2bXz66afMmzePtWvXsmfPHq8eq/OGlxmXGmjOnDlkJi0tLZw4ceLUbUScWuSWGs3LjEsNlJlEBI8//jhHjhzh8ccfJyK40P5I04XLoJBmwcKFC6d84G7hwoWNbkmqm0EhzYIbbriBtWvXctFFF7F27drfu+y4dD4zKKQZFhG89NJLXHLJJQBccsklvPTSS0REgzuT6mNQSDNsMiAOHz485XayLp3vDApphh05coSbb7751OJ1ZnLzzTdz5MiRBncm1cegkGbBW2+9xXXXXcecOXO47rrreOuttxrdklQ3r0omzbA5c+bw0Ucf0dbWRmbyu9/9jo8++sgryKppGBTSDJv8UN1vf/tbMvPUrZ+jULPwTxppFsyfP5/ly5cTESxfvtwvLlJTcY9CmgXj4+O8++67ZCbvvvuup8aqqbhHIc2CY8eOcemllxIRXHrppRw7dqzRLUl1MyikWdDW1saCBQuICBYsWEBbW1ujW5LqZlBIs+Cyyy4DPvsq1MnHUjMwKKQZNm/ePNasWcP8+fOJCObPn8+aNWuYN29eo1uT6mJQSDPsvvvuY3BwkA8//BCADz/8kMHBQe67774GdybV54xBERGbI+KDiNhdU7siIrZHxJ5yu6jmuUciYm9EvBkRd9TUb4mI18tzT0Y57SMi5kXEs6X+ckSsqBmzobzGnojY8KW9a2kW3XbbbcybN4/9+/dz8uRJ9u/fz7x587jtttsa3ZpUl3r2KJ4G7jyt9jCwIzNXAjvKYyLiRmAd8I0y5scR0VLG/ATYBKwsP5NzdgOHMvPrwI+Ax8pcVwCPAt8EbgUerQ0kqVk8+OCDLFy4kJ07d3Ls2DF27tzJwoULefDBBxvdmlSXMwZFZv4VMHZa+S5gS7m/Bbi7pv5MZn6amb8B9gK3RsQS4PLMfDEnVvN+etqYybmeA1aXvY07gO2ZOZaZh4Dt/H5gSee9ffv2sWTJElavXs1FF13E6tWrWbJkCfv27Wt0a1JdznWN4urMfB+g3H6t1JcC79Rst6/Ulpb7p9enjMnM48Bh4MqKuX5PRGyKiJGIGDl48OA5viVp5rz22mssXLiQOXPmsHDhQl577bVGtyTV7ctezJ7u46ZZUT/XMVOLmU9lZmdmdi5evLiuRqXZdujQIU6ePMmhQ4ca3Yp0Vs41KA6Uw0mU2w9KfR+wvGa7ZcB7pb5smvqUMRExF1jAxKGuz5tLakqTl+3w8h1qNucaFM8Dk2chbQB+UVNfV85kup6JRetXyuGpjyPiW2X94d7TxkzO9W1gZ1nHeAFYExGLyiL2mlKTmk5EMHfuxKXV5s6da1ioqZzxooARMQj8Q+CqiNjHxJlIPwS2RkQ38DZwD0BmvhERW4FfAceB72bmiTLVd5g4g+piYFv5ARgAfhYRe5nYk1hX5hqLiB8Ar5btvp+Zpy+qS00hMzl+/DgAx48f9xLjaipxof3CdnZ25sjISKPbkE6p2nu40P7/U/OKiF2Z2Tndc34yW5olrlGoWRkU0iyZ3HtwL0LNxqCQZol7FGpWBoU0S9yjULMyKCRJlQwKSVIlg0KSVMmgkCRVMigkSZUMCklSJYNCklTJoJAkVTIoJEmVDApJUiWDQpJUyaCQJFUyKCRJlQwKSVIlg0KSVMmgkCRVMigkSZUMCklSJYNCklTJoJAkVTIoJEmVDApJUiWDQpJUyaCQJFUyKCRJlQwKSVIlg0KSVMmgkCRVaoqgiIg7I+LNiNgbEQ83uh9J+io574MiIlqA/wCsBW4E1kfEjY3tSpK+Os77oABuBfZm5q8z8xjwDHBXg3uSpK+MuY1uoA5LgXdqHu8Dvlm7QURsAjYBXHvttbPXmS4sf7pgRqbNRy+f9dfkTw/PzLz6SmqGoIhpajnlQeZTwFMAnZ2dOc320pnN0D+uEdP9Ck/I9NdV579mOPS0D1he83gZ8F6DepGkr5xmCIpXgZURcX1EXASsA55vcE9S3T5vr8G9CTWL8/7QU2Yej4h/BbwAtACbM/ONBrclnRVDQc3svA8KgMz8JfDLRvchSV9FzXDoSZLUQAaFJKmSQSFJqmRQSJIqxYV2NkZEHAT+ttF9SJ/jKuC3jW5CmsZ1mbl4uicuuKCQzmcRMZKZnY3uQzobHnqSJFUyKCRJlQwKaXY91egGpLPlGoUkqZJ7FJKkSgaFJKmSQSHNgojYHBEfRMTuRvcinS2DQpodTwN3NroJ6VwYFNIsyMy/AsYa3Yd0LgwKSVIlg0KSVMmgkCRVMigkSZUMCmkWRMQg8CJwQ0Tsi4juRvck1ctLeEiSKrlHIUmqZFBIkioZFJKkSgaFJKmSQSFJqmRQSJIqGRSSpEr/HyU5grddwengAAAAAElFTkSuQmCC\n",
      "text/plain": [
       "<Figure size 432x288 with 1 Axes>"
      ]
     },
     "metadata": {
      "needs_background": "light"
     },
     "output_type": "display_data"
    }
   ],
   "source": [
    "print(\"Percentile       Quantile\")\n",
    "print(comments.quantile([.5, .90, .95 , .99 , .999 , .9999 , .999999 , 1]).apply(lambda x: format(x, 'f')))\n",
    "plt.boxplot(comments)\n",
    "plt.show()"
   ]
  },
  {
   "cell_type": "markdown",
   "id": "1723cf65",
   "metadata": {},
   "source": [
    "<i>Distribution of the Variable</i>\n",
    "<br>\n",
    "When ploting the distribution we observe it is very similar to the variable <i>number of likes</i> in terms of shape and skewness. "
   ]
  },
  {
   "cell_type": "code",
   "execution_count": 31,
   "id": "f9442658",
   "metadata": {},
   "outputs": [
    {
     "data": {
      "image/png": "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\n",
      "text/plain": [
       "<Figure size 432x288 with 1 Axes>"
      ]
     },
     "metadata": {
      "needs_background": "light"
     },
     "output_type": "display_data"
    }
   ],
   "source": [
    "zoom_distro = comments[comments < 23]\n",
    "unique,counts = np.unique(df_instagram_posts_RQ1.number_comments, return_counts=True)\n",
    "try:\n",
    "    plt.hist(zoom_distro,  bins=23 ,normed=True, color = \"skyblue\")\n",
    "except AttributeError:\n",
    "    pass"
   ]
  },
  {
   "cell_type": "markdown",
   "id": "39c86e71",
   "metadata": {},
   "source": [
    "### Categorical Variables"
   ]
  },
  {
   "cell_type": "markdown",
   "id": "3867c6dd",
   "metadata": {},
   "source": [
    "<b>POST TYPES</b> <br>\n",
    "<i>Summary Statistics</i><br>\n",
    "This is a categorical variable which indicates the kind of post a user has published (1: photo, 2: video, 3: mixed). The mean is very close to 1, which means that photos are the most common type of post. In fact, at least 75% of the users choosed pictures as post type."
   ]
  },
  {
   "cell_type": "code",
   "execution_count": 21,
   "id": "064b4ee3",
   "metadata": {},
   "outputs": [
    {
     "data": {
      "text/plain": [
       "count    42710197.000000\n",
       "mean            1.028486\n",
       "std             0.172023\n",
       "min             1.000000\n",
       "25%             1.000000\n",
       "50%             1.000000\n",
       "75%             1.000000\n",
       "max             3.000000\n",
       "Name: post_type, dtype: object"
      ]
     },
     "execution_count": 21,
     "metadata": {},
     "output_type": "execute_result"
    }
   ],
   "source": [
    "post_type.describe().apply(lambda x: format(x, 'f'))"
   ]
  },
  {
   "cell_type": "markdown",
   "id": "392e2939",
   "metadata": {},
   "source": [
    "<i>Distribution of the Variable</i><br>\n",
    "When plotting the distribution of the variable, we can observe that near to 40 million posts are photos, and videos and mixed content (together) represent about 3% of the total posts."
   ]
  },
  {
   "cell_type": "code",
   "execution_count": 22,
   "id": "95cf8085",
   "metadata": {},
   "outputs": [
    {
     "name": "stdout",
     "output_type": "stream",
     "text": [
      "Photos represent 0.972 % of the dataset.\n",
      "Videos represent 0.027 % of the dataset.\n",
      "Mixed content represent 0.001 % of the dataset.\n"
     ]
    },
    {
     "data": {
      "image/png": "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\n",
      "text/plain": [
       "<Figure size 432x288 with 1 Axes>"
      ]
     },
     "metadata": {
      "needs_background": "light"
     },
     "output_type": "display_data"
    }
   ],
   "source": [
    "post,count = np.unique(post_type.values, return_counts=True)\n",
    "postype = [\"Photos\",\"Videos\",\"Mixed content\"]\n",
    "plt.bar(postype,count)\n",
    "perc = count/42710197\n",
    "[print(postype[i], \"represent\" , round(perc[i],3), \"% of the dataset.\") for i in range(len(perc))][0]"
   ]
  },
  {
   "cell_type": "markdown",
   "id": "d052c81b",
   "metadata": {},
   "source": [
    "### Dates"
   ]
  },
  {
   "cell_type": "markdown",
   "id": "15eada98",
   "metadata": {},
   "source": [
    "##### <b>CTS</b>"
   ]
  },
  {
   "cell_type": "markdown",
   "id": "682d0877",
   "metadata": {},
   "source": [
    "<i>Summary Statistics</i>\n",
    "<br>\n",
    "'cts' is a variable that indicates the date and time a certain post was posted on Instagram. By looking at the table below we can see that the first post in our dataset was uploaded on 2010-07-19 at 01:12:23 while the last one was posted the day 2019-08-30 at 11:36:08.\n",
    "We also observe that the time when most posts were posted in the same second has been the day 2019-05-29 at 23:41:46, when 29 posts were posted in the same moment."
   ]
  },
  {
   "cell_type": "code",
   "execution_count": 32,
   "id": "bac156ef",
   "metadata": {},
   "outputs": [
    {
     "data": {
      "text/plain": [
       "count                42706865\n",
       "unique               24181497\n",
       "top       2019-05-29 23:41:46\n",
       "freq                       29\n",
       "first     2010-07-19 01:12:23\n",
       "last      2019-08-30 11:36:08\n",
       "Name: cts, dtype: object"
      ]
     },
     "execution_count": 32,
     "metadata": {},
     "output_type": "execute_result"
    }
   ],
   "source": [
    "date.describe()"
   ]
  },
  {
   "cell_type": "markdown",
   "id": "aa5e3ecf",
   "metadata": {},
   "source": [
    "In the following table we observe that, starting from 2010 with a minimum of 98 posts, every following year the number of post uploaded on instagram increased, reaching a maximum of 30215310 posts uploaded in 2019."
   ]
  },
  {
   "cell_type": "code",
   "execution_count": 52,
   "id": "711d2983",
   "metadata": {},
   "outputs": [
    {
     "data": {
      "text/plain": [
       "2019.0    30215310\n",
       "2018.0     8403250\n",
       "2017.0     2505120\n",
       "2016.0      986633\n",
       "2015.0      383953\n",
       "2014.0      142552\n",
       "2013.0       51962\n",
       "2012.0       16810\n",
       "2011.0        1177\n",
       "2010.0          98\n",
       "Name: cts, dtype: int64"
      ]
     },
     "execution_count": 52,
     "metadata": {},
     "output_type": "execute_result"
    }
   ],
   "source": [
    "date.dt.year.value_counts()"
   ]
  },
  {
   "cell_type": "markdown",
   "id": "43ed47d5",
   "metadata": {},
   "source": [
    "<i>Distribution of the Variable</i>\n",
    "<br>\n",
    "We plot below the distribution of the posts' years, and we notice its exponential growth, most likely due to the highly increasing relevance that this social network has been acquiring during the last years. Although maybe the reason is just that the data collection method was more focused on 2019 posts."
   ]
  },
  {
   "cell_type": "code",
   "execution_count": 73,
   "id": "e7f76f7e",
   "metadata": {},
   "outputs": [
    {
     "data": {
      "text/plain": [
       "<BarContainer object of 10 artists>"
      ]
     },
     "execution_count": 73,
     "metadata": {},
     "output_type": "execute_result"
    },
    {
     "data": {
      "image/png": "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\n",
      "text/plain": [
       "<Figure size 432x288 with 1 Axes>"
      ]
     },
     "metadata": {
      "needs_background": "light"
     },
     "output_type": "display_data"
    }
   ],
   "source": [
    "posts=list(date.dt.year.value_counts())\n",
    "years=[int(i) for i in range(2019,2009,-1)]\n",
    "fig = plt.figure()\n",
    "ax = fig.add_axes([0,0,1,1])\n",
    "plt.bar(years,posts,color='skyblue')"
   ]
  },
  {
   "cell_type": "markdown",
   "id": "6303534d",
   "metadata": {},
   "source": [
    "### Correlation"
   ]
  },
  {
   "cell_type": "markdown",
   "id": "b8f11f8c",
   "metadata": {},
   "source": [
    "When plotting the numerical and categorical variables in a correlation matrix we don't observe any clear relation between the variables."
   ]
  },
  {
   "cell_type": "code",
   "execution_count": 28,
   "id": "08ae72b4",
   "metadata": {},
   "outputs": [
    {
     "data": {
      "text/html": [
       "<div>\n",
       "<style scoped>\n",
       "    .dataframe tbody tr th:only-of-type {\n",
       "        vertical-align: middle;\n",
       "    }\n",
       "\n",
       "    .dataframe tbody tr th {\n",
       "        vertical-align: top;\n",
       "    }\n",
       "\n",
       "    .dataframe thead th {\n",
       "        text-align: right;\n",
       "    }\n",
       "</style>\n",
       "<table border=\"1\" class=\"dataframe\">\n",
       "  <thead>\n",
       "    <tr style=\"text-align: right;\">\n",
       "      <th></th>\n",
       "      <th>post_type</th>\n",
       "      <th>numbr_likes</th>\n",
       "      <th>number_comments</th>\n",
       "    </tr>\n",
       "  </thead>\n",
       "  <tbody>\n",
       "    <tr>\n",
       "      <th>post_type</th>\n",
       "      <td>1.000000</td>\n",
       "      <td>0.002544</td>\n",
       "      <td>0.002800</td>\n",
       "    </tr>\n",
       "    <tr>\n",
       "      <th>numbr_likes</th>\n",
       "      <td>0.002544</td>\n",
       "      <td>1.000000</td>\n",
       "      <td>0.374453</td>\n",
       "    </tr>\n",
       "    <tr>\n",
       "      <th>number_comments</th>\n",
       "      <td>0.002800</td>\n",
       "      <td>0.374453</td>\n",
       "      <td>1.000000</td>\n",
       "    </tr>\n",
       "  </tbody>\n",
       "</table>\n",
       "</div>"
      ],
      "text/plain": [
       "                 post_type  numbr_likes  number_comments\n",
       "post_type         1.000000     0.002544         0.002800\n",
       "numbr_likes       0.002544     1.000000         0.374453\n",
       "number_comments   0.002800     0.374453         1.000000"
      ]
     },
     "execution_count": 28,
     "metadata": {},
     "output_type": "execute_result"
    }
   ],
   "source": [
    "df_instagram_posts_RQ1.corr()"
   ]
  }

  {
   "cell_type": "markdown",
   "id": "59f301f2",
   "metadata": {},
   "source": [
    "<h3 style=\"font-size: 2rem; color: #00009B\"> RQ1.2 EDA on instagram_profiles.csv</h3>"
   ]
  },
  
  
  
 ],
 "metadata": {
  "kernelspec": {
   "display_name": "Python 3",
   "language": "python",
   "name": "python3"
  },
  "language_info": {
   "codemirror_mode": {
    "name": "ipython",
    "version": 3
   },
   "file_extension": ".py",
   "mimetype": "text/x-python",
   "name": "python",
   "nbconvert_exporter": "python",
   "pygments_lexer": "ipython3",
   "version": "3.8.8"
  }
 },
 "nbformat": 4,
 "nbformat_minor": 5
}
