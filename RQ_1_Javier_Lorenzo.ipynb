{
 "cells": [
  {
   "attachments": {},
   "cell_type": "markdown",
   "id": "f0eab2d5",
   "metadata": {},
   "source": [
    "# <center>ADM: Homework 2</center>\n",
    "\n",
    "* <b>Name: </b>Giulia Iadisernia         <b>Matricola</b>: 2065450 <b>Email: </b>iadisernia.2065450@studenti.uniroma.it  <br>\n",
    "* <b>Name: </b>Lorenzo Incoronato       <b>Matricola</b>: 1916863 <b>Email: </b>incoronato.1916863@studenti.uniroma1.it <br>\n",
    "* <b>Name: </b>Javier Martinez Velasco   <b>Matricola</b>: 2058968 <b>Email: </b>martinezvelasco.2058968@studenti.uniroma1.it<br>"
   ]
  },
  {
   "cell_type": "markdown",
   "id": "aa006665",
   "metadata": {},
   "source": [
    "### <b>[RQ1]</b>After collecting information, the Data Scientists have to know what dataset they are dealing with, so let's start with an Exploratory Data Analysis (EDA). What can you say about our datasets? Please summarise its main characteristics with visual and tabular methods"
   ]
  },
  {
   "cell_type": "code",
   "execution_count": 1,
   "id": "58a78733",
   "metadata": {},
   "outputs": [],
   "source": [
    "import warnings\n",
    "warnings.filterwarnings(\"ignore\")\n",
    "import pandas as pd\n",
    "import numpy as np\n",
    "import matplotlib.pyplot as plt\n",
    "import scipy.stats"
   ]
  },
  {
   "cell_type": "code",
   "execution_count": 2,
   "id": "d60890e9",
   "metadata": {},
   "outputs": [],
   "source": [
    "#UPLOADING POSTS.CSV\n",
    "fields = [\"post_type\", \"numbr_likes\",\"number_comments\", \"cts\"]\n",
    "df_instagram_posts_RQ1= pd.read_csv(\"~/instagram_posts.csv\", sep = \"\\t\" , usecols = fields ,parse_dates=[\"cts\"] )\n",
    "df_instagram_posts_RQ1_info = pd.read_csv(\"~/instagram_posts.csv\", sep = \"\\t\" ,nrows = 1)\n",
    "#DATA CLEANING \n",
    "df_instagram_posts_RQ1.numbr_likes.fillna(0, inplace = True)\n",
    "df_instagram_posts_RQ1.number_comments.fillna(0, inplace = True)\n",
    "#ASSIGNING VARIABLES\n",
    "likes = df_instagram_posts_RQ1.numbr_likes\n",
    "post_type = df_instagram_posts_RQ1.post_type\n",
    "comments = df_instagram_posts_RQ1.number_comments\n",
    "date = df_instagram_posts_RQ1.cts"
   ]
  },
  {
   "cell_type": "markdown",
   "id": "fd910538",
   "metadata": {},
   "source": [
    "<h3 style=\"font-size: 2rem; color: #00009B\"> RQ1.1 EDA on instagram_posts.csv</h3>"
   ]
  },
  {
   "cell_type": "markdown",
   "id": "5c365459",
   "metadata": {},
   "source": [
    "#### Dataset Variables\n",
    "<b>SID</b>: Sequence ID <br>\n",
    "<b>sid_profile</b>: Sequence ID of the profile from ## Profiles tab key <br>\n",
    "<b>post_id</b>: Instagrams ID <br>\n",
    "<b>profile_id</b>: Instagrams ID may be null <br>\n",
    "<b>location_id</b>: Instagrams ID <br>\n",
    "<b>cts</b>: Timestamp when the Post was created <br>\n",
    "<b>post_type</b>: 1 - Photo, 2 - Video, 3 - multy <br>\n",
    "<b>description</b>: May contain '\\n' <br>\n",
    "<b>numbr_likes</b>: Number of Likes at the moment it was visited <br>\n",
    "<b>number_comments</b>: Number of comments at the moment it was visited <br>\n",
    "\n",
    "#### Which variables will be considered for instagram_post.csv EDA?\n",
    "\n",
    "The original dataset includes 10 variables, 6 of which don't provide any useful information by analyzing them numerically: \"SID\", \"sid_profile\", \"post_id\", \"profile_id\" and \"location_id\". Regarding \"description\", up to this point we don't have the required honwledge and tools to perform text mining and extract insights from this variable. Therefore, the exploratory data analysis will be performed over the remaining 4 variables: \"post_type\", \"numbr_likes\", \"number_comments\" and \"cts\". "
   ]
  },
  {
   "cell_type": "markdown",
   "id": "105a9675",
   "metadata": {
    "tags": []
   },
   "source": [
    "### Variables and data types"
   ]
  },
  {
   "cell_type": "markdown",
   "id": "faa12b70",
   "metadata": {},
   "source": [
    "Here we can observe the different data types of the variables. Since the variables post_type, numbr_likes and number_comments are actually discrete, we could transform them into integer values in a later data cleaning stage. "
   ]
  },
  {
   "cell_type": "code",
   "execution_count": 7,
   "id": "099f5ea9",
   "metadata": {},
   "outputs": [
    {
     "name": "stdout",
     "output_type": "stream",
     "text": [
      "<class 'pandas.core.frame.DataFrame'>\n",
      "RangeIndex: 1 entries, 0 to 0\n",
      "Data columns (total 10 columns):\n",
      " #   Column           Non-Null Count  Dtype \n",
      "---  ------           --------------  ----- \n",
      " 0   sid              1 non-null      int64 \n",
      " 1   sid_profile      1 non-null      int64 \n",
      " 2   post_id          1 non-null      object\n",
      " 3   profile_id       1 non-null      int64 \n",
      " 4   location_id      1 non-null      int64 \n",
      " 5   cts              1 non-null      object\n",
      " 6   post_type        1 non-null      int64 \n",
      " 7   description      1 non-null      object\n",
      " 8   numbr_likes      1 non-null      int64 \n",
      " 9   number_comments  1 non-null      int64 \n",
      "dtypes: int64(7), object(3)\n",
      "memory usage: 208.0+ bytes\n"
     ]
    }
   ],
   "source": [
    "df_instagram_posts_RQ1_info.info()"
   ]
  },
  {
   "cell_type": "markdown",
   "id": "fe6f1eca",
   "metadata": {},
   "source": [
    "### Numerical Variables"
   ]
  },
  {
   "cell_type": "markdown",
   "id": "e650adea",
   "metadata": {
    "tags": []
   },
   "source": [
    "##### <b>1. NUMBER OF LIKES</b>"
   ]
  },
  {
   "cell_type": "markdown",
   "id": "757ce62b",
   "metadata": {
    "tags": []
   },
   "source": [
    "<i>Summary Statistics</i>\n",
    "<br>\n",
    "\"numbr_likes\" is a numerical discrete variable that indicates the amount of likes a certain post has obtained. By looking (table below) at the main summary values from the distribution we observe a big range from 0 to near 8M likes. However, 75% of the values lay below 114 likes and the mode is 12 likes. This suggests that the current mean (283) might not the best measure of expection for this distribution (this value is probably too high). Therefore, for a better summary of the distribution, outliers should be identified."
   ]
  },
  {
   "cell_type": "code",
   "execution_count": 23,
   "id": "ce20c3f8",
   "metadata": {},
   "outputs": [
    {
     "name": "stdout",
     "output_type": "stream",
     "text": [
      "mode           12.0\n"
     ]
    },
    {
     "data": {
      "text/plain": [
       "count    42710197.000000\n",
       "mean          283.502807\n",
       "std          6124.608652\n",
       "min             0.000000\n",
       "25%            20.000000\n",
       "50%            46.000000\n",
       "75%           114.000000\n",
       "max       8822952.000000\n",
       "Name: numbr_likes, dtype: object"
      ]
     },
     "execution_count": 23,
     "metadata": {},
     "output_type": "execute_result"
    }
   ],
   "source": [
    "print(\"mode          \", likes.mode()[0])\n",
    "likes.describe().apply(lambda x: format(x, 'f'))"
   ]
  },
  {
   "cell_type": "markdown",
   "id": "8462c93e",
   "metadata": {},
   "source": [
    "<i>Outliers</i>\n",
    "<br>\n",
    "In the output below, by obtaining the higher quantiles of the distribution we can clearly observe the <b>presence of outliers</b>. The quantile at percentile 0.95 shows that 95% of the total dataset posts(40,574.687) have received less than 471 likes.  \n",
    "By using the Interquartile Rule to Find Outliers we find out that in the right tail of the distribution, around 10% of the population are outliers. **This is an extremely high number of outliers**, which we believe is related to the nature of the distribution (close to an exponential) and the big sample size, which shows a high variation of likes in the population.<br>\n",
    "\n",
    "* IQR * 1.5 + Q3 = (114-20) * 1.5 + 114  = 255 <br>\n",
    "* Percentile 90 = 256 <br>\n",
    "* Therefore, 10% of the right tail of the distribution can be consider outliers"
   ]
  },
  {
   "cell_type": "code",
   "execution_count": 27,
   "id": "0cc4c8d2",
   "metadata": {},
   "outputs": [
    {
     "name": "stdout",
     "output_type": "stream",
     "text": [
      "Percentile       Quantile\n",
      "0.500000         46.000000\n",
      "0.900000        256.000000\n",
      "0.950000        471.000000\n",
      "0.990000       2875.000000\n",
      "0.999000      30636.000000\n",
      "0.999900     181821.941200\n",
      "0.999999    2028103.073639\n",
      "1.000000    8822952.000000\n",
      "Name: numbr_likes, dtype: object\n"
     ]
    },
    {
     "data": {
      "image/png": "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\n",
      "text/plain": [
       "<Figure size 432x288 with 1 Axes>"
      ]
     },
     "metadata": {
      "needs_background": "light"
     },
     "output_type": "display_data"
    }
   ],
   "source": [
    "print(\"Percentile       Quantile\")\n",
    "print(likes.quantile([.5, .90, .95 , .99 , .999 , .9999 , .999999 , 1]).apply(lambda x: format(x, 'f')))\n",
    "plt.boxplot(likes)\n",
    "plt.show()"
   ]
  },
  {
   "cell_type": "markdown",
   "id": "12542523",
   "metadata": {},
   "source": [
    "<i>Distribution of the Variable</i>\n",
    "<br>\n",
    "When ploting the distribution we observe its exponential nature, with a highly positive skew and leptokurtosis. In this barplot we \"zoom\" on the 95% left tail of the distribution, because it is more representative of the sample population."
   ]
  },
  {
   "cell_type": "code",
   "execution_count": 63,
   "id": "0da216a9",
   "metadata": {},
   "outputs": [
    {
     "data": {
      "image/png": "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\n",
      "text/plain": [
       "<Figure size 432x288 with 1 Axes>"
      ]
     },
     "metadata": {
      "needs_background": "light"
     },
     "output_type": "display_data"
    }
   ],
   "source": [
    "likes = df_instagram_posts_RQ1.numbr_likes\n",
    "new_axis = likes[likes < 471]\n",
    "unique,counts = np.unique(df_instagram_posts_RQ1.numbr_likes.values, return_counts=True)\n",
    "try:\n",
    "    plt.hist(new_axis,  bins='auto', normed=True , color = \"skyblue\")\n",
    "except AttributeError:\n",
    "    pass"
   ]
  },
  {
   "cell_type": "markdown",
   "id": "43b1cf22",
   "metadata": {},
   "source": [
    "##### <b>2. NUMBER OF COMMENTS</b>"
   ]
  },
  {
   "cell_type": "markdown",
   "id": "82af200b",
   "metadata": {},
   "source": [
    "<i>Summary Statistics</i>\n",
    "<br>\n",
    "We procede similarly with the variable \"number_comments\", which is a numerical discrete variable that indicates the amount of comments a certain post has obtained. We observe a range from 0 to near 488953 comments. We notice that 75% of the values lay below 5 comments and the mode is 0 comments. This suggests that the mean (7.59) might not the best measure of expection for this distribution (this value is probably too high). For a better summary of the distribution we proceed on identifying the outliers."
   ]
  },
  {
   "cell_type": "code",
   "execution_count": 12,
   "id": "a168b9b7",
   "metadata": {},
   "outputs": [
    {
     "name": "stdout",
     "output_type": "stream",
     "text": [
      "mode           0.0\n"
     ]
    },
    {
     "data": {
      "text/plain": [
       "count    42710197.000000\n",
       "mean            7.595301\n",
       "std           194.147559\n",
       "min             0.000000\n",
       "25%             0.000000\n",
       "50%             2.000000\n",
       "75%             5.000000\n",
       "max        488953.000000\n",
       "Name: number_comments, dtype: object"
      ]
     },
     "execution_count": 12,
     "metadata": {},
     "output_type": "execute_result"
    }
   ],
   "source": [
    "print(\"mode          \", comments.mode()[0])\n",
    "comments.describe().apply(lambda x: format(x, 'f'))"
   ]
  },
  {
   "cell_type": "markdown",
   "id": "31ed5e71",
   "metadata": {},
   "source": [
    "<i>Outliers</i>\n",
    "<br>\n",
    "As with the number of likes, in the output below we can clearly observe the <b>presence of outliers</b>. The quantile at percentile 0.99 shows that 99% of the total dataset posts(40,574.687) have received less than 77 comments. Applying the interquartile rule we find out that, as happens with the number of likes, around 10% of the data are outliers:\n",
    "* IQR * 1.5 + Q3 = (5-0) * 1.5 + 5  = 12.5 <br>\n",
    "* Percentile 90 = 13 <br>\n",
    "* Therefore, around 10% of the right tail of the distribution can be consider outliers"
   ]
  },
  {
   "cell_type": "code",
   "execution_count": 5,
   "id": "0ab33b8b",
   "metadata": {},
   "outputs": [
    {
     "name": "stdout",
     "output_type": "stream",
     "text": [
      "Percentile       Quantile\n",
      "0.500000         2.000000\n",
      "0.900000        13.000000\n",
      "0.950000        23.000000\n",
      "0.990000        77.000000\n",
      "0.999000       462.000000\n",
      "0.999900      2859.980400\n",
      "0.999999     73893.938977\n",
      "1.000000    488953.000000\n",
      "Name: number_comments, dtype: object\n"
     ]
    },
    {
     "data": {
      "image/png": "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\n",
      "text/plain": [
       "<Figure size 432x288 with 1 Axes>"
      ]
     },
     "metadata": {
      "needs_background": "light"
     },
     "output_type": "display_data"
    }
   ],
   "source": [
    "print(\"Percentile       Quantile\")\n",
    "print(comments.quantile([.5, .90, .95 , .99 , .999 , .9999 , .999999 , 1]).apply(lambda x: format(x, 'f')))\n",
    "plt.boxplot(comments)\n",
    "plt.show()"
   ]
  },
  {
   "cell_type": "markdown",
   "id": "1723cf65",
   "metadata": {},
   "source": [
    "<i>Distribution of the Variable</i>\n",
    "<br>\n",
    "When ploting the distribution we observe it is very similar to the variable <i>number of likes</i> in terms of shape and skewness. "
   ]
  },
  {
   "cell_type": "code",
   "execution_count": 31,
   "id": "f9442658",
   "metadata": {},
   "outputs": [
    {
     "data": {
      "image/png": "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\n",
      "text/plain": [
       "<Figure size 432x288 with 1 Axes>"
      ]
     },
     "metadata": {
      "needs_background": "light"
     },
     "output_type": "display_data"
    }
   ],
   "source": [
    "zoom_distro = comments[comments < 23]\n",
    "unique,counts = np.unique(df_instagram_posts_RQ1.number_comments, return_counts=True)\n",
    "try:\n",
    "    plt.hist(zoom_distro,  bins=23 ,normed=True, color = \"skyblue\")\n",
    "except AttributeError:\n",
    "    pass"
   ]
  },
  {
   "cell_type": "markdown",
   "id": "39c86e71",
   "metadata": {},
   "source": [
    "### Categorical Variables"
   ]
  },
  {
   "cell_type": "markdown",
   "id": "3867c6dd",
   "metadata": {},
   "source": [
    "<b>POST TYPES</b> <br>\n",
    "<i>Summary Statistics</i><br>\n",
    "This is a categorical variable which indicates the kind of post a user has published (1: photo, 2: video, 3: mixed). The mean is very close to 1, which means that photos are the most common type of post. In fact, at least 75% of the users choosed pictures as post type."
   ]
  },
  {
   "cell_type": "code",
   "execution_count": 21,
   "id": "064b4ee3",
   "metadata": {},
   "outputs": [
    {
     "data": {
      "text/plain": [
       "count    42710197.000000\n",
       "mean            1.028486\n",
       "std             0.172023\n",
       "min             1.000000\n",
       "25%             1.000000\n",
       "50%             1.000000\n",
       "75%             1.000000\n",
       "max             3.000000\n",
       "Name: post_type, dtype: object"
      ]
     },
     "execution_count": 21,
     "metadata": {},
     "output_type": "execute_result"
    }
   ],
   "source": [
    "post_type.describe().apply(lambda x: format(x, 'f'))"
   ]
  },
  {
   "cell_type": "markdown",
   "id": "392e2939",
   "metadata": {},
   "source": [
    "<i>Distribution of the Variable</i><br>\n",
    "When plotting the distribution of the variable, we can observe that near to 40 million posts are photos, and videos and mixed content (together) represent about 3% of the total posts."
   ]
  },
  {
   "cell_type": "code",
   "execution_count": 22,
   "id": "95cf8085",
   "metadata": {},
   "outputs": [
    {
     "name": "stdout",
     "output_type": "stream",
     "text": [
      "Photos represent 0.972 % of the dataset.\n",
      "Videos represent 0.027 % of the dataset.\n",
      "Mixed content represent 0.001 % of the dataset.\n"
     ]
    },
    {
     "data": {
      "image/png": "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\n",
      "text/plain": [
       "<Figure size 432x288 with 1 Axes>"
      ]
     },
     "metadata": {
      "needs_background": "light"
     },
     "output_type": "display_data"
    }
   ],
   "source": [
    "post,count = np.unique(post_type.values, return_counts=True)\n",
    "postype = [\"Photos\",\"Videos\",\"Mixed content\"]\n",
    "plt.bar(postype,count)\n",
    "perc = count/42710197\n",
    "[print(postype[i], \"represent\" , round(perc[i],3), \"% of the dataset.\") for i in range(len(perc))][0]"
   ]
  },
  {
   "cell_type": "markdown",
   "id": "d052c81b",
   "metadata": {},
   "source": [
    "### Dates"
   ]
  },
  {
   "cell_type": "markdown",
   "id": "15eada98",
   "metadata": {},
   "source": [
    "##### <b>CTS</b>"
   ]
  },
  {
   "cell_type": "markdown",
   "id": "682d0877",
   "metadata": {},
   "source": [
    "<i>Summary Statistics</i>\n",
    "<br>\n",
    "'cts' is a variable that indicates the date and time a certain post was posted on Instagram. By looking at the table below we can see that the first post in our dataset was uploaded on 2010-07-19 at 01:12:23 while the last one was posted the day 2019-08-30 at 11:36:08.\n",
    "We also observe that the time when most posts were posted in the same second has been the day 2019-05-29 at 23:41:46, when 29 posts were posted in the same moment."
   ]
  },
  {
   "cell_type": "code",
   "execution_count": 32,
   "id": "bac156ef",
   "metadata": {},
   "outputs": [
    {
     "data": {
      "text/plain": [
       "count                42706865\n",
       "unique               24181497\n",
       "top       2019-05-29 23:41:46\n",
       "freq                       29\n",
       "first     2010-07-19 01:12:23\n",
       "last      2019-08-30 11:36:08\n",
       "Name: cts, dtype: object"
      ]
     },
     "execution_count": 32,
     "metadata": {},
     "output_type": "execute_result"
    }
   ],
   "source": [
    "date.describe()"
   ]
  },
  {
   "cell_type": "markdown",
   "id": "aa5e3ecf",
   "metadata": {},
   "source": [
    "In the following table we observe that, starting from 2010 with a minimum of 98 posts, every following year the number of post uploaded on instagram increased, reaching a maximum of 30215310 posts uploaded in 2019."
   ]
  },
  {
   "cell_type": "code",
   "execution_count": 52,
   "id": "711d2983",
   "metadata": {},
   "outputs": [
    {
     "data": {
      "text/plain": [
       "2019.0    30215310\n",
       "2018.0     8403250\n",
       "2017.0     2505120\n",
       "2016.0      986633\n",
       "2015.0      383953\n",
       "2014.0      142552\n",
       "2013.0       51962\n",
       "2012.0       16810\n",
       "2011.0        1177\n",
       "2010.0          98\n",
       "Name: cts, dtype: int64"
      ]
     },
     "execution_count": 52,
     "metadata": {},
     "output_type": "execute_result"
    }
   ],
   "source": [
    "date.dt.year.value_counts()"
   ]
  },
  {
   "cell_type": "markdown",
   "id": "43ed47d5",
   "metadata": {},
   "source": [
    "<i>Distribution of the Variable</i>\n",
    "<br>\n",
    "We plot below the distribution of the posts' years, and we notice its exponential growth, most likely due to the highly increasing relevance that this social network has been acquiring during the last years. Although maybe the reason is just that the data collection method was more focused on 2019 posts."
   ]
  },
  {
   "cell_type": "code",
   "execution_count": 73,
   "id": "e7f76f7e",
   "metadata": {},
   "outputs": [
    {
     "data": {
      "text/plain": [
       "<BarContainer object of 10 artists>"
      ]
     },
     "execution_count": 73,
     "metadata": {},
     "output_type": "execute_result"
    },
    {
     "data": {
      "image/png": "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\n",
      "text/plain": [
       "<Figure size 432x288 with 1 Axes>"
      ]
     },
     "metadata": {
      "needs_background": "light"
     },
     "output_type": "display_data"
    }
   ],
   "source": [
    "posts=list(date.dt.year.value_counts())\n",
    "years=[int(i) for i in range(2019,2009,-1)]\n",
    "fig = plt.figure()\n",
    "ax = fig.add_axes([0,0,1,1])\n",
    "plt.bar(years,posts,color='skyblue')"
   ]
  },
  {
   "cell_type": "markdown",
   "id": "6303534d",
   "metadata": {},
   "source": [
    "### Correlation"
   ]
  },
  {
   "cell_type": "markdown",
   "id": "b8f11f8c",
   "metadata": {},
   "source": [
    "When plotting the numerical and categorical variables in a correlation matrix we don't observe any clear relation between the variables."
   ]
  },
  {
   "cell_type": "code",
   "execution_count": 28,
   "id": "08ae72b4",
   "metadata": {},
   "outputs": [
    {
     "data": {
      "text/html": [
       "<div>\n",
       "<style scoped>\n",
       "    .dataframe tbody tr th:only-of-type {\n",
       "        vertical-align: middle;\n",
       "    }\n",
       "\n",
       "    .dataframe tbody tr th {\n",
       "        vertical-align: top;\n",
       "    }\n",
       "\n",
       "    .dataframe thead th {\n",
       "        text-align: right;\n",
       "    }\n",
       "</style>\n",
       "<table border=\"1\" class=\"dataframe\">\n",
       "  <thead>\n",
       "    <tr style=\"text-align: right;\">\n",
       "      <th></th>\n",
       "      <th>post_type</th>\n",
       "      <th>numbr_likes</th>\n",
       "      <th>number_comments</th>\n",
       "    </tr>\n",
       "  </thead>\n",
       "  <tbody>\n",
       "    <tr>\n",
       "      <th>post_type</th>\n",
       "      <td>1.000000</td>\n",
       "      <td>0.002544</td>\n",
       "      <td>0.002800</td>\n",
       "    </tr>\n",
       "    <tr>\n",
       "      <th>numbr_likes</th>\n",
       "      <td>0.002544</td>\n",
       "      <td>1.000000</td>\n",
       "      <td>0.374453</td>\n",
       "    </tr>\n",
       "    <tr>\n",
       "      <th>number_comments</th>\n",
       "      <td>0.002800</td>\n",
       "      <td>0.374453</td>\n",
       "      <td>1.000000</td>\n",
       "    </tr>\n",
       "  </tbody>\n",
       "</table>\n",
       "</div>"
      ],
      "text/plain": [
       "                 post_type  numbr_likes  number_comments\n",
       "post_type         1.000000     0.002544         0.002800\n",
       "numbr_likes       0.002544     1.000000         0.374453\n",
       "number_comments   0.002800     0.374453         1.000000"
      ]
     },
     "execution_count": 28,
     "metadata": {},
     "output_type": "execute_result"
    }
   ],
   "source": [
    "df_instagram_posts_RQ1.corr()"
   ]
  },
  
  {
   "cell_type": "markdown",
   "id": "59f301f2",
   "metadata": {},
   "source": [
    "<h3 style=\"font-size: 2rem; color: #00009B\"> RQ1.2 EDA on instagram_profiles.csv</h3>"
   ]
  },
  
  {
   "cell_type": "code",
   "execution_count": 32,
   "id": "6d5e8a09-a1b5-41c8-9441-605b8d14302f",
   "metadata": {},
   "outputs": [],
   "source": [
    "#Import the dataset df_instagram_profiles.csv\n",
    "df_instagram_profiles_RQ1 = pd.read_csv(\"~/instagram_profiles.csv\", delimiter = \"\\t\")"
   ]
  },
  {
   "cell_type": "markdown",
   "id": "ddfe1039-4003-4d51-972d-5e57583968a1",
   "metadata": {
    "tags": []
   },
   "source": [
    "#### Dataset `df_instagram_profiles` description\n",
    "\n",
    "  * `sid`: sequence id `(float)`\n",
    "  * `profile_id`: instagram orofile id `(float)`\n",
    "  * `profile_name`: instagram profile name `(string)`\n",
    "  * `firstname_lastname`: user's firstname and lastname `(string)`\n",
    "  * `description`: user's instagram profile description `(string)`\n",
    "  * `following`: number of following at the moment it was visited `(float)`\n",
    "  * `followers`: number of followers at the moment it was visited `(float)`\n",
    "  * `n_posts`: number of posts at the moment it was visited `(float)`\n",
    "  * `url`: url `(string)`\n",
    "  * `cts`: Timestamp when the profile was visited `(object)`\n",
    "  * `is_business_account`: Boolean variable that indicates whether that profile was makred by the owner as business account or not `{False, True}`"
   ]
  },
  {
   "cell_type": "markdown",
   "id": "4582b748-da87-4819-8eb7-371793dc04da",
   "metadata": {},
   "source": [
    "### Numerical variables"
   ]
  },
  {
   "cell_type": "code",
   "execution_count": 17,
   "id": "aee313d8-bdf2-4da6-a01b-0005bd14c959",
   "metadata": {},
   "outputs": [
    {
     "data": {
      "text/html": [
       "<div>\n",
       "<style scoped>\n",
       "    .dataframe tbody tr th:only-of-type {\n",
       "        vertical-align: middle;\n",
       "    }\n",
       "\n",
       "    .dataframe tbody tr th {\n",
       "        vertical-align: top;\n",
       "    }\n",
       "\n",
       "    .dataframe thead th {\n",
       "        text-align: right;\n",
       "    }\n",
       "</style>\n",
       "<table border=\"1\" class=\"dataframe\">\n",
       "  <thead>\n",
       "    <tr style=\"text-align: right;\">\n",
       "      <th></th>\n",
       "      <th>following</th>\n",
       "      <th>followers</th>\n",
       "      <th>n_posts</th>\n",
       "    </tr>\n",
       "  </thead>\n",
       "  <tbody>\n",
       "    <tr>\n",
       "      <th>count</th>\n",
       "      <td>3452771</td>\n",
       "      <td>3452771</td>\n",
       "      <td>3452771</td>\n",
       "    </tr>\n",
       "    <tr>\n",
       "      <th>mean</th>\n",
       "      <td>1406</td>\n",
       "      <td>4740</td>\n",
       "      <td>410</td>\n",
       "    </tr>\n",
       "    <tr>\n",
       "      <th>std</th>\n",
       "      <td>8113</td>\n",
       "      <td>193909</td>\n",
       "      <td>1042</td>\n",
       "    </tr>\n",
       "    <tr>\n",
       "      <th>min</th>\n",
       "      <td>0</td>\n",
       "      <td>0</td>\n",
       "      <td>0</td>\n",
       "    </tr>\n",
       "    <tr>\n",
       "      <th>25%</th>\n",
       "      <td>356</td>\n",
       "      <td>159</td>\n",
       "      <td>22</td>\n",
       "    </tr>\n",
       "    <tr>\n",
       "      <th>50%</th>\n",
       "      <td>754</td>\n",
       "      <td>406</td>\n",
       "      <td>120</td>\n",
       "    </tr>\n",
       "    <tr>\n",
       "      <th>75%</th>\n",
       "      <td>1573</td>\n",
       "      <td>974</td>\n",
       "      <td>420</td>\n",
       "    </tr>\n",
       "    <tr>\n",
       "      <th>max</th>\n",
       "      <td>4191080</td>\n",
       "      <td>285457645</td>\n",
       "      <td>183730</td>\n",
       "    </tr>\n",
       "  </tbody>\n",
       "</table>\n",
       "</div>"
      ],
      "text/plain": [
       "      following  followers  n_posts\n",
       "count   3452771    3452771  3452771\n",
       "mean       1406       4740      410\n",
       "std        8113     193909     1042\n",
       "min           0          0        0\n",
       "25%         356        159       22\n",
       "50%         754        406      120\n",
       "75%        1573        974      420\n",
       "max     4191080  285457645   183730"
      ]
     },
     "execution_count": 17,
     "metadata": {},
     "output_type": "execute_result"
    }
   ],
   "source": [
    "df_instagram_profiles_RQ1['sid'] = df_instagram_profiles_RQ1['sid'].astype(str)\n",
    "df_instagram_profiles_RQ1['profile_id'] = df_instagram_profiles_RQ1['profile_id'].astype(str)\n",
    "df_instagram_profiles_RQ1 = df_instagram_profiles_RQ1.astype({'following': 'int', 'followers': 'int', 'n_posts': 'int'}, errors = 'ignore')\n",
    "df_instagram_profiles_RQ1.describe().apply(lambda s: s.apply('{0:.0f}'.format))"
   ]
  },
  {
   "cell_type": "markdown",
   "id": "80c0bfa5-72b3-41d6-b618-faa89eb929c7",
   "metadata": {},
   "source": [
    "In order to visualize the distribution of the variables, we have defined the function `Hist(df_var, xlabel, title, col, n_bins, log_trans = False)` which returns an histogram of that specific variable `df_var`.<br>\n",
    "Note: We apply the **log-transformation** when the data is strongly skewed."
   ]
  },
  {
   "cell_type": "code",
   "execution_count": 4,
   "id": "4408b72b-260e-4bc1-9e63-6def45e49fbf",
   "metadata": {},
   "outputs": [],
   "source": [
    "def hist(df_var, xlabel, title, col, n_bins, log_trans = False):\n",
    "    df_var.plot(kind = 'hist', color = col, bins = n_bins, logy = log_trans, ec = 'black')\n",
    "    plt.xlabel(xlabel, labelpad = 14)\n",
    "    plt.ylabel(\"Count\", labelpad = 14)\n",
    "    plt.title(title, y = 1.05)"
   ]
  },
  {
   "cell_type": "markdown",
   "id": "b8184580-4849-4e0a-b09e-02d7751454f5",
   "metadata": {},
   "source": [
    "<b>1. FOLLOWERS</b> <br>\n",
    "<i>Distribution of the variable</i>"
   ]
  },
  {
   "cell_type": "code",
   "execution_count": 14,
   "id": "1373206e-574c-44a7-9230-69d0742af261",
   "metadata": {
    "scrolled": false
   },
   "outputs": [
    {
     "data": {
      "image/png": "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\n",
      "text/plain": [
       "<Figure size 432x288 with 1 Axes>"
      ]
     },
     "metadata": {
      "needs_background": "light"
     },
     "output_type": "display_data"
    }
   ],
   "source": [
    "hist(df_instagram_profiles_RQ1['followers'], \"followers\", \"Count of followers\", col = \"red\", n_bins = 30, log_trans = True)"
   ]
  },
  {
   "cell_type": "markdown",
   "id": "50969988-c5fe-4316-853f-2a514a213e0f",
   "metadata": {},
   "source": [
    "In the histogram below we can observe the distribution of the variable when it takes values less than ten thousand (`Followers < 10,000`) which is the interval where lays most of the mass of the distribution."
   ]
  },
  {
   "cell_type": "code",
   "execution_count": 15,
   "id": "70f8268d-6588-447c-8600-54a5b461938b",
   "metadata": {},
   "outputs": [
    {
     "data": {
      "image/png": "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\n",
      "text/plain": [
       "<Figure size 432x288 with 1 Axes>"
      ]
     },
     "metadata": {
      "needs_background": "light"
     },
     "output_type": "display_data"
    }
   ],
   "source": [
    "hist(df_instagram_profiles_RQ1.followers[df_instagram_profiles['followers'] < 100000], \"followers\", \"Count of followers\", col = \"skyblue\", n_bins = 30, log_trans = True)"
   ]
  },
  {
   "cell_type": "markdown",
   "id": "aee9579c-a319-4f24-b575-db3df268742d",
   "metadata": {},
   "source": [
    "<b>2. FOLLOWING</b> <br>"
   ]
  },
  {
   "cell_type": "code",
   "execution_count": 47,
   "id": "9e13f6b7-900d-4586-a601-55e26be9eb1c",
   "metadata": {},
   "outputs": [
    {
     "data": {
      "image/png": "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\n",
      "text/plain": [
       "<Figure size 432x288 with 1 Axes>"
      ]
     },
     "metadata": {
      "needs_background": "light"
     },
     "output_type": "display_data"
    }
   ],
   "source": [
    "hist(df_instagram_profiles_RQ1['following'], \"following\", \"Count of following\", col = \"orange\", n_bins = 30, log_trans = True)"
   ]
  },
  {
   "cell_type": "markdown",
   "id": "64d37bc3-8122-4a41-99be-a355754cd598",
   "metadata": {},
   "source": [
    "<b>3. NUMBER OF POSTS</b> <br>"
   ]
  },
  {
   "cell_type": "code",
   "execution_count": 48,
   "id": "5ca05e6a-d082-4c7e-8a6f-938d1d2202d6",
   "metadata": {},
   "outputs": [
    {
     "data": {
      "image/png": "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\n",
      "text/plain": [
       "<Figure size 432x288 with 1 Axes>"
      ]
     },
     "metadata": {
      "needs_background": "light"
     },
     "output_type": "display_data"
    }
   ],
   "source": [
    "hist(df_instagram_profiles_RQ1['n_posts'], \"n_posts\", \"Count of the number of posts\", col = \"blue\", n_bins = 30, log_trans = True)"
   ]
  },
  {
   "cell_type": "markdown",
   "id": "ef2b4d0a",
   "metadata": {},
   "source": [
    "### Categorical variables"
   ]
  },
  {
   "cell_type": "markdown",
   "id": "36345800",
   "metadata": {},
   "source": [
    "By observing the \"top\" row in the summary below, we learn that the most common name in the dataset is Sarah, or that the most used term in the descriptions is the emoji \"🖤\"."
   ]
  },
  {
   "cell_type": "code",
   "execution_count": 25,
   "id": "6992d9f0-ec7d-4321-9f60-a4ff9cd3385c",
   "metadata": {},
   "outputs": [
    {
     "data": {
      "text/html": [
       "<div>\n",
       "<style scoped>\n",
       "    .dataframe tbody tr th:only-of-type {\n",
       "        vertical-align: middle;\n",
       "    }\n",
       "\n",
       "    .dataframe tbody tr th {\n",
       "        vertical-align: top;\n",
       "    }\n",
       "\n",
       "    .dataframe thead th {\n",
       "        text-align: right;\n",
       "    }\n",
       "</style>\n",
       "<table border=\"1\" class=\"dataframe\">\n",
       "  <thead>\n",
       "    <tr style=\"text-align: right;\">\n",
       "      <th></th>\n",
       "      <th>sid</th>\n",
       "      <th>profile_id</th>\n",
       "      <th>profile_name</th>\n",
       "      <th>firstname_lastname</th>\n",
       "      <th>description</th>\n",
       "      <th>following</th>\n",
       "      <th>followers</th>\n",
       "      <th>n_posts</th>\n",
       "      <th>url</th>\n",
       "      <th>cts</th>\n",
       "      <th>is_business_account</th>\n",
       "    </tr>\n",
       "  </thead>\n",
       "  <tbody>\n",
       "    <tr>\n",
       "      <th>count</th>\n",
       "      <td>4.509586e+06</td>\n",
       "      <td>4.477139e+06</td>\n",
       "      <td>4509586</td>\n",
       "      <td>4221121</td>\n",
       "      <td>2453590</td>\n",
       "      <td>3.452771e+06</td>\n",
       "      <td>3.452771e+06</td>\n",
       "      <td>3.452771e+06</td>\n",
       "      <td>870274</td>\n",
       "      <td>4071098</td>\n",
       "      <td>3445323</td>\n",
       "    </tr>\n",
       "    <tr>\n",
       "      <th>unique</th>\n",
       "      <td>NaN</td>\n",
       "      <td>NaN</td>\n",
       "      <td>4508180</td>\n",
       "      <td>3526944</td>\n",
       "      <td>2376474</td>\n",
       "      <td>NaN</td>\n",
       "      <td>NaN</td>\n",
       "      <td>NaN</td>\n",
       "      <td>841652</td>\n",
       "      <td>4062921</td>\n",
       "      <td>2</td>\n",
       "    </tr>\n",
       "    <tr>\n",
       "      <th>top</th>\n",
       "      <td>NaN</td>\n",
       "      <td>NaN</td>\n",
       "      <td>chkanyc</td>\n",
       "      <td>Sarah</td>\n",
       "      <td>🖤</td>\n",
       "      <td>NaN</td>\n",
       "      <td>NaN</td>\n",
       "      <td>NaN</td>\n",
       "      <td>gmail.com</td>\n",
       "      <td>2019-07-01 02:26:35.268 -0400</td>\n",
       "      <td>False</td>\n",
       "    </tr>\n",
       "    <tr>\n",
       "      <th>freq</th>\n",
       "      <td>NaN</td>\n",
       "      <td>NaN</td>\n",
       "      <td>4</td>\n",
       "      <td>2340</td>\n",
       "      <td>868</td>\n",
       "      <td>NaN</td>\n",
       "      <td>NaN</td>\n",
       "      <td>NaN</td>\n",
       "      <td>3437</td>\n",
       "      <td>6</td>\n",
       "      <td>2590069</td>\n",
       "    </tr>\n",
       "    <tr>\n",
       "      <th>mean</th>\n",
       "      <td>2.255992e+06</td>\n",
       "      <td>3.083302e+09</td>\n",
       "      <td>NaN</td>\n",
       "      <td>NaN</td>\n",
       "      <td>NaN</td>\n",
       "      <td>1.405641e+03</td>\n",
       "      <td>4.739899e+03</td>\n",
       "      <td>4.095414e+02</td>\n",
       "      <td>NaN</td>\n",
       "      <td>NaN</td>\n",
       "      <td>NaN</td>\n",
       "    </tr>\n",
       "    <tr>\n",
       "      <th>std</th>\n",
       "      <td>1.301807e+06</td>\n",
       "      <td>4.266575e+10</td>\n",
       "      <td>NaN</td>\n",
       "      <td>NaN</td>\n",
       "      <td>NaN</td>\n",
       "      <td>8.113473e+03</td>\n",
       "      <td>1.939087e+05</td>\n",
       "      <td>1.041940e+03</td>\n",
       "      <td>NaN</td>\n",
       "      <td>NaN</td>\n",
       "      <td>NaN</td>\n",
       "    </tr>\n",
       "    <tr>\n",
       "      <th>min</th>\n",
       "      <td>1.186000e+03</td>\n",
       "      <td>4.000000e+00</td>\n",
       "      <td>NaN</td>\n",
       "      <td>NaN</td>\n",
       "      <td>NaN</td>\n",
       "      <td>0.000000e+00</td>\n",
       "      <td>0.000000e+00</td>\n",
       "      <td>0.000000e+00</td>\n",
       "      <td>NaN</td>\n",
       "      <td>NaN</td>\n",
       "      <td>NaN</td>\n",
       "    </tr>\n",
       "    <tr>\n",
       "      <th>25%</th>\n",
       "      <td>1.128596e+06</td>\n",
       "      <td>2.735177e+08</td>\n",
       "      <td>NaN</td>\n",
       "      <td>NaN</td>\n",
       "      <td>NaN</td>\n",
       "      <td>3.560000e+02</td>\n",
       "      <td>1.590000e+02</td>\n",
       "      <td>2.200000e+01</td>\n",
       "      <td>NaN</td>\n",
       "      <td>NaN</td>\n",
       "      <td>NaN</td>\n",
       "    </tr>\n",
       "    <tr>\n",
       "      <th>50%</th>\n",
       "      <td>2.255992e+06</td>\n",
       "      <td>1.649248e+09</td>\n",
       "      <td>NaN</td>\n",
       "      <td>NaN</td>\n",
       "      <td>NaN</td>\n",
       "      <td>7.540000e+02</td>\n",
       "      <td>4.060000e+02</td>\n",
       "      <td>1.200000e+02</td>\n",
       "      <td>NaN</td>\n",
       "      <td>NaN</td>\n",
       "      <td>NaN</td>\n",
       "    </tr>\n",
       "    <tr>\n",
       "      <th>75%</th>\n",
       "      <td>3.383389e+06</td>\n",
       "      <td>5.514691e+09</td>\n",
       "      <td>NaN</td>\n",
       "      <td>NaN</td>\n",
       "      <td>NaN</td>\n",
       "      <td>1.573000e+03</td>\n",
       "      <td>9.740000e+02</td>\n",
       "      <td>4.200000e+02</td>\n",
       "      <td>NaN</td>\n",
       "      <td>NaN</td>\n",
       "      <td>NaN</td>\n",
       "    </tr>\n",
       "    <tr>\n",
       "      <th>max</th>\n",
       "      <td>4.510785e+06</td>\n",
       "      <td>9.001013e+13</td>\n",
       "      <td>NaN</td>\n",
       "      <td>NaN</td>\n",
       "      <td>NaN</td>\n",
       "      <td>4.191080e+06</td>\n",
       "      <td>2.854576e+08</td>\n",
       "      <td>1.837300e+05</td>\n",
       "      <td>NaN</td>\n",
       "      <td>NaN</td>\n",
       "      <td>NaN</td>\n",
       "    </tr>\n",
       "  </tbody>\n",
       "</table>\n",
       "</div>"
      ],
      "text/plain": [
       "                 sid    profile_id profile_name firstname_lastname  \\\n",
       "count   4.509586e+06  4.477139e+06      4509586            4221121   \n",
       "unique           NaN           NaN      4508180            3526944   \n",
       "top              NaN           NaN      chkanyc              Sarah   \n",
       "freq             NaN           NaN            4               2340   \n",
       "mean    2.255992e+06  3.083302e+09          NaN                NaN   \n",
       "std     1.301807e+06  4.266575e+10          NaN                NaN   \n",
       "min     1.186000e+03  4.000000e+00          NaN                NaN   \n",
       "25%     1.128596e+06  2.735177e+08          NaN                NaN   \n",
       "50%     2.255992e+06  1.649248e+09          NaN                NaN   \n",
       "75%     3.383389e+06  5.514691e+09          NaN                NaN   \n",
       "max     4.510785e+06  9.001013e+13          NaN                NaN   \n",
       "\n",
       "       description     following     followers       n_posts        url  \\\n",
       "count      2453590  3.452771e+06  3.452771e+06  3.452771e+06     870274   \n",
       "unique     2376474           NaN           NaN           NaN     841652   \n",
       "top              🖤           NaN           NaN           NaN  gmail.com   \n",
       "freq           868           NaN           NaN           NaN       3437   \n",
       "mean           NaN  1.405641e+03  4.739899e+03  4.095414e+02        NaN   \n",
       "std            NaN  8.113473e+03  1.939087e+05  1.041940e+03        NaN   \n",
       "min            NaN  0.000000e+00  0.000000e+00  0.000000e+00        NaN   \n",
       "25%            NaN  3.560000e+02  1.590000e+02  2.200000e+01        NaN   \n",
       "50%            NaN  7.540000e+02  4.060000e+02  1.200000e+02        NaN   \n",
       "75%            NaN  1.573000e+03  9.740000e+02  4.200000e+02        NaN   \n",
       "max            NaN  4.191080e+06  2.854576e+08  1.837300e+05        NaN   \n",
       "\n",
       "                                  cts is_business_account  \n",
       "count                         4071098             3445323  \n",
       "unique                        4062921                   2  \n",
       "top     2019-07-01 02:26:35.268 -0400               False  \n",
       "freq                                6             2590069  \n",
       "mean                              NaN                 NaN  \n",
       "std                               NaN                 NaN  \n",
       "min                               NaN                 NaN  \n",
       "25%                               NaN                 NaN  \n",
       "50%                               NaN                 NaN  \n",
       "75%                               NaN                 NaN  \n",
       "max                               NaN                 NaN  "
      ]
     },
     "execution_count": 25,
     "metadata": {},
     "output_type": "execute_result"
    }
   ],
   "source": [
    "df_instagram_profiles_RQ1.describe(include = 'all')"
   ]
  },
  {
   "cell_type": "markdown",
   "id": "f2dfdb04-b484-4f6b-b88b-b23fb3e7c4c7",
   "metadata": {},
   "source": [
    "In order to plot categorical variables, let's define the function `bar_binary(df_var, xlabel, title, col)` that returns the bar chart of the binary variable `df_var`."
   ]
  },
  {
   "cell_type": "code",
   "execution_count": 28,
   "id": "1b179f31-1cff-4b64-9cec-0249b7c82d9f",
   "metadata": {},
   "outputs": [],
   "source": [
    "def bar_binary(df_var, xlabel, title, col):\n",
    "    count = df_var.value_counts()\n",
    "    count.plot(kind = 'bar', color = col, ec = 'purple')\n",
    "    plt.xlabel(xlabel, labelpad = 14)\n",
    "    plt.ylabel(\"Count\", labelpad = 14)\n",
    "    plt.title(title, y = 1.05)"
   ]
  },
  {
   "cell_type": "markdown",
   "id": "208acc54-6088-434e-9ba4-be5662455219",
   "metadata": {},
   "source": [
    "##### **IS_BUSINESS_ACCOUNT**"
   ]
  },
  {
   "cell_type": "markdown",
   "id": "816e73c4",
   "metadata": {},
   "source": [
    "The main categorical variable in the dataset is <i>is_business_account</i> which takes boolean values. As we observe in the graph below, close to 75% of the accounts are personal, while 25% are business accounts."
   ]
  },
  {
   "cell_type": "code",
   "execution_count": 29,
   "id": "427a3d0d-21e7-49d2-b750-8e80cec5cb74",
   "metadata": {},
   "outputs": [
    {
     "data": {
      "image/png": "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\n",
      "text/plain": [
       "<Figure size 432x288 with 1 Axes>"
      ]
     },
     "metadata": {
      "needs_background": "light"
     },
     "output_type": "display_data"
    }
   ],
   "source": [
    "bar_binary(df_instagram_profiles_RQ1['is_business_account'], \"is_business_account\", \"Count of the number of business accounts\", \"purple\")"
   ]
  },
  {
   "cell_type": "markdown",
   "id": "7e446aec",
   "metadata": {},
   "source": [
    "<h3 style=\"font-size: 18px; color: #00009B\"> RQ1.3 EDA on locations.csv</h3>"
   ]
  },
  {
   "cell_type": "code",
   "execution_count": 30,
   "id": "f5407029-cae8-4d9d-bb59-6a339a089227",
   "metadata": {},
   "outputs": [],
   "source": [
    "# import the dataset df_instagram_locations\n",
    "df_instagram_locations = pd.read_csv(\"~/instagram_locations.csv\", delimiter = \"\\t\")"
   ]
  },
  {
   "cell_type": "markdown",
   "id": "13ebd3a2-3648-47bb-b50e-bf588ebdaa2c",
   "metadata": {},
   "source": [
    "#### Dataset `df_instagram_locations` description\n",
    "\n",
    "* `sid`: sequence id `(string)`\n",
    "* `id`: location id `(string)`\n",
    "* `name`: location's name `(string)`\n",
    "* `street`: street `(string)`\n",
    "* `zip`: zip code `(string)`\n",
    "* `city`: city name `(string)`\n",
    "* `region`: region name `(string)`\n",
    "* `cd`: country code `(string)`\n",
    "* `phone`: phone in the same format as on Instagram `(string)`\n",
    "* `aj_exact_city_match`: Instagram's internal key `{False, True}`\n",
    "* `blurb`: description of the location `(string)`\n",
    "* `dir_city_id`: Instagram's internal city id `(string)`\n",
    "* `dir_city_slug`: city tag `(string)`\n",
    "* `dir_country_id`: country id `(string)`\n",
    "* `dir_country_name`: country name `(string)`\n",
    "* `lat`: latitude `(float)`\n",
    "* `lng`: longitute `(float)`\n",
    "* `primary_alias_on_fb`: Boolean flag\n",
    "* `website`: url to the website (it may contain more than one url)\n",
    "* `cts`: timestamp when the location was visited `(pd object)`"
   ]
  },
  {
   "cell_type": "markdown",
   "id": "7ff1ac60-6ee7-488b-b4fb-8eb068cadd30",
   "metadata": {},
   "source": [
    "### Numerical variables"
   ]
  },
  {
   "cell_type": "code",
   "execution_count": 31,
   "id": "81c6b739-d58a-403c-ab88-2f3391e17513",
   "metadata": {},
   "outputs": [
    {
     "data": {
      "text/html": [
       "<div>\n",
       "<style scoped>\n",
       "    .dataframe tbody tr th:only-of-type {\n",
       "        vertical-align: middle;\n",
       "    }\n",
       "\n",
       "    .dataframe tbody tr th {\n",
       "        vertical-align: top;\n",
       "    }\n",
       "\n",
       "    .dataframe thead th {\n",
       "        text-align: right;\n",
       "    }\n",
       "</style>\n",
       "<table border=\"1\" class=\"dataframe\">\n",
       "  <thead>\n",
       "    <tr style=\"text-align: right;\">\n",
       "      <th></th>\n",
       "      <th>lat</th>\n",
       "      <th>lng</th>\n",
       "    </tr>\n",
       "  </thead>\n",
       "  <tbody>\n",
       "    <tr>\n",
       "      <th>count</th>\n",
       "      <td>1016495.00000</td>\n",
       "      <td>1016495.00000</td>\n",
       "    </tr>\n",
       "    <tr>\n",
       "      <th>mean</th>\n",
       "      <td>-15.29215</td>\n",
       "      <td>34.21718</td>\n",
       "    </tr>\n",
       "    <tr>\n",
       "      <th>std</th>\n",
       "      <td>76.15085</td>\n",
       "      <td>22.01081</td>\n",
       "    </tr>\n",
       "    <tr>\n",
       "      <th>min</th>\n",
       "      <td>-179.98300</td>\n",
       "      <td>-90.00000</td>\n",
       "    </tr>\n",
       "    <tr>\n",
       "      <th>25%</th>\n",
       "      <td>-80.15575</td>\n",
       "      <td>29.97555</td>\n",
       "    </tr>\n",
       "    <tr>\n",
       "      <th>50%</th>\n",
       "      <td>-2.45000</td>\n",
       "      <td>40.67820</td>\n",
       "    </tr>\n",
       "    <tr>\n",
       "      <th>75%</th>\n",
       "      <td>30.71740</td>\n",
       "      <td>48.84722</td>\n",
       "    </tr>\n",
       "    <tr>\n",
       "      <th>max</th>\n",
       "      <td>179.99412</td>\n",
       "      <td>89.99870</td>\n",
       "    </tr>\n",
       "  </tbody>\n",
       "</table>\n",
       "</div>"
      ],
      "text/plain": [
       "                lat           lng\n",
       "count 1016495.00000 1016495.00000\n",
       "mean      -15.29215      34.21718\n",
       "std        76.15085      22.01081\n",
       "min      -179.98300     -90.00000\n",
       "25%       -80.15575      29.97555\n",
       "50%        -2.45000      40.67820\n",
       "75%        30.71740      48.84722\n",
       "max       179.99412      89.99870"
      ]
     },
     "execution_count": 31,
     "metadata": {},
     "output_type": "execute_result"
    }
   ],
   "source": [
    "pd.set_option('display.float_format', lambda x: '%.5f' % x)\n",
    "df_instagram_locations['sid'] = df_instagram_locations['sid'].astype(str)\n",
    "df_instagram_locations['id'] = df_instagram_locations['id'].astype(str)\n",
    "df_instagram_locations.describe()"
   ]
  },
  {
   "cell_type": "markdown",
   "id": "6c8abc80-94ec-4804-8be6-970471eb8a73",
   "metadata": {},
   "source": [
    "##### **Latitude**"
   ]
  },
  {
   "cell_type": "code",
   "execution_count": 49,
   "id": "d5b99e87-d85e-452c-aab0-026169a2165c",
   "metadata": {},
   "outputs": [
    {
     "data": {
      "image/png": "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\n",
      "text/plain": [
       "<Figure size 432x288 with 1 Axes>"
      ]
     },
     "metadata": {
      "needs_background": "light"
     },
     "output_type": "display_data"
    }
   ],
   "source": [
    "hist(df_instagram_locations['lat'], \"latitude\", \"Latitude distribution\", \"red\", n_bins = 20)"
   ]
  },
  {
   "cell_type": "code",
   "execution_count": 51,
   "id": "b3f0f446-c1f3-4ff0-9b15-12eb02712133",
   "metadata": {},
   "outputs": [
    {
     "data": {
      "text/plain": [
       "37.6156"
      ]
     },
     "execution_count": 51,
     "metadata": {},
     "output_type": "execute_result"
    }
   ],
   "source": [
    "# most common latitude\n",
    "df_instagram_locations['lat'].value_counts().idxmax()"
   ]
  },
  {
   "cell_type": "markdown",
   "id": "4c7da6bc-6adf-4b4c-af13-48069703a375",
   "metadata": {},
   "source": [
    "##### **Longitude**"
   ]
  },
  {
   "cell_type": "code",
   "execution_count": 53,
   "id": "37810f3f-9374-4df2-a701-21800c093a7e",
   "metadata": {},
   "outputs": [
    {
     "data": {
      "image/png": "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\n",
      "text/plain": [
       "<Figure size 432x288 with 1 Axes>"
      ]
     },
     "metadata": {
      "needs_background": "light"
     },
     "output_type": "display_data"
    }
   ],
   "source": [
    "hist(df_instagram_locations['lng'], \"longitude\", \"Longitude distribution\", \"blue\", n_bins = 25)"
   ]
  },
  {
   "cell_type": "code",
   "execution_count": 16,
   "id": "7b69e65c-da5d-4141-8357-2d25395d898a",
   "metadata": {},
   "outputs": [
    {
     "data": {
      "text/plain": [
       "55.7522"
      ]
     },
     "execution_count": 16,
     "metadata": {},
     "output_type": "execute_result"
    }
   ],
   "source": [
    "# most common longitude\n",
    "longitude.value_counts().idxmax()"
   ]
  },
  {
   "cell_type": "markdown",
   "id": "a8a35454-8003-4b43-afc4-9e206feeba86",
   "metadata": {},
   "source": [
    "### Categorical variables"
   ]
  },
  {
   "cell_type": "markdown",
   "id": "5821ca9d",
   "metadata": {},
   "source": [
    "By looking at the main summary statistics of the categorical variables we learn that the average instragram user posts from the neighbourhood of <b>Hell's Kitchen, in New York (Eastern Province, US)</b>, most likely from a <b>Starbucks</b> ."
   ]
  },
  {
   "cell_type": "code",
   "execution_count": 55,
   "id": "808d0fe3-5e07-449a-80e4-bb2434b96658",
   "metadata": {},
   "outputs": [
    {
     "data": {
      "text/html": [
       "<div>\n",
       "<style scoped>\n",
       "    .dataframe tbody tr th:only-of-type {\n",
       "        vertical-align: middle;\n",
       "    }\n",
       "\n",
       "    .dataframe tbody tr th {\n",
       "        vertical-align: top;\n",
       "    }\n",
       "\n",
       "    .dataframe thead th {\n",
       "        text-align: right;\n",
       "    }\n",
       "</style>\n",
       "<table border=\"1\" class=\"dataframe\">\n",
       "  <thead>\n",
       "    <tr style=\"text-align: right;\">\n",
       "      <th></th>\n",
       "      <th>sid</th>\n",
       "      <th>id</th>\n",
       "      <th>name</th>\n",
       "      <th>street</th>\n",
       "      <th>zip</th>\n",
       "      <th>city</th>\n",
       "      <th>region</th>\n",
       "      <th>cd</th>\n",
       "      <th>phone</th>\n",
       "      <th>aj_exact_city_match</th>\n",
       "      <th>...</th>\n",
       "      <th>dir_city_name</th>\n",
       "      <th>dir_city_slug</th>\n",
       "      <th>dir_country_id</th>\n",
       "      <th>dir_country_name</th>\n",
       "      <th>lat</th>\n",
       "      <th>lng</th>\n",
       "      <th>primary_alias_on_fb</th>\n",
       "      <th>slug</th>\n",
       "      <th>website</th>\n",
       "      <th>cts</th>\n",
       "    </tr>\n",
       "  </thead>\n",
       "  <tbody>\n",
       "    <tr>\n",
       "      <th>count</th>\n",
       "      <td>1022658</td>\n",
       "      <td>1022658</td>\n",
       "      <td>1022658</td>\n",
       "      <td>715704</td>\n",
       "      <td>715579</td>\n",
       "      <td>937166</td>\n",
       "      <td>1760</td>\n",
       "      <td>939010</td>\n",
       "      <td>601688</td>\n",
       "      <td>1000510</td>\n",
       "      <td>...</td>\n",
       "      <td>495698</td>\n",
       "      <td>495221</td>\n",
       "      <td>495628</td>\n",
       "      <td>495698</td>\n",
       "      <td>1016495.00000</td>\n",
       "      <td>1016495.00000</td>\n",
       "      <td>425531</td>\n",
       "      <td>941668</td>\n",
       "      <td>623262</td>\n",
       "      <td>1022658</td>\n",
       "    </tr>\n",
       "    <tr>\n",
       "      <th>unique</th>\n",
       "      <td>1022658</td>\n",
       "      <td>1022658</td>\n",
       "      <td>935776</td>\n",
       "      <td>656262</td>\n",
       "      <td>181474</td>\n",
       "      <td>118541</td>\n",
       "      <td>1743</td>\n",
       "      <td>245</td>\n",
       "      <td>577305</td>\n",
       "      <td>2</td>\n",
       "      <td>...</td>\n",
       "      <td>114996</td>\n",
       "      <td>114426</td>\n",
       "      <td>234</td>\n",
       "      <td>235</td>\n",
       "      <td>NaN</td>\n",
       "      <td>NaN</td>\n",
       "      <td>425486</td>\n",
       "      <td>833398</td>\n",
       "      <td>583671</td>\n",
       "      <td>1022298</td>\n",
       "    </tr>\n",
       "    <tr>\n",
       "      <th>top</th>\n",
       "      <td>719981</td>\n",
       "      <td>110296492939207</td>\n",
       "      <td>Starbucks</td>\n",
       "      <td></td>\n",
       "      <td>10001</td>\n",
       "      <td>New York, New York</td>\n",
       "      <td>Eastern Province</td>\n",
       "      <td>US</td>\n",
       "      <td>+44 345 748 4950</td>\n",
       "      <td>False</td>\n",
       "      <td>...</td>\n",
       "      <td>Hells Kitchen, Manhattan</td>\n",
       "      <td>hells-kitchen-manhattan</td>\n",
       "      <td>US</td>\n",
       "      <td>United States</td>\n",
       "      <td>NaN</td>\n",
       "      <td>NaN</td>\n",
       "      <td>pandpnewcastle</td>\n",
       "      <td>-</td>\n",
       "      <td>http://www.starbucks.com/</td>\n",
       "      <td>2019-05-25 23:54:48.969</td>\n",
       "    </tr>\n",
       "    <tr>\n",
       "      <th>freq</th>\n",
       "      <td>1</td>\n",
       "      <td>1</td>\n",
       "      <td>1097</td>\n",
       "      <td>1652</td>\n",
       "      <td>1649</td>\n",
       "      <td>29954</td>\n",
       "      <td>4</td>\n",
       "      <td>331424</td>\n",
       "      <td>178</td>\n",
       "      <td>907651</td>\n",
       "      <td>...</td>\n",
       "      <td>1326</td>\n",
       "      <td>1326</td>\n",
       "      <td>170983</td>\n",
       "      <td>170983</td>\n",
       "      <td>NaN</td>\n",
       "      <td>NaN</td>\n",
       "      <td>2</td>\n",
       "      <td>6588</td>\n",
       "      <td>297</td>\n",
       "      <td>2</td>\n",
       "    </tr>\n",
       "    <tr>\n",
       "      <th>mean</th>\n",
       "      <td>NaN</td>\n",
       "      <td>NaN</td>\n",
       "      <td>NaN</td>\n",
       "      <td>NaN</td>\n",
       "      <td>NaN</td>\n",
       "      <td>NaN</td>\n",
       "      <td>NaN</td>\n",
       "      <td>NaN</td>\n",
       "      <td>NaN</td>\n",
       "      <td>NaN</td>\n",
       "      <td>...</td>\n",
       "      <td>NaN</td>\n",
       "      <td>NaN</td>\n",
       "      <td>NaN</td>\n",
       "      <td>NaN</td>\n",
       "      <td>-15.29215</td>\n",
       "      <td>34.21718</td>\n",
       "      <td>NaN</td>\n",
       "      <td>NaN</td>\n",
       "      <td>NaN</td>\n",
       "      <td>NaN</td>\n",
       "    </tr>\n",
       "    <tr>\n",
       "      <th>std</th>\n",
       "      <td>NaN</td>\n",
       "      <td>NaN</td>\n",
       "      <td>NaN</td>\n",
       "      <td>NaN</td>\n",
       "      <td>NaN</td>\n",
       "      <td>NaN</td>\n",
       "      <td>NaN</td>\n",
       "      <td>NaN</td>\n",
       "      <td>NaN</td>\n",
       "      <td>NaN</td>\n",
       "      <td>...</td>\n",
       "      <td>NaN</td>\n",
       "      <td>NaN</td>\n",
       "      <td>NaN</td>\n",
       "      <td>NaN</td>\n",
       "      <td>76.15085</td>\n",
       "      <td>22.01081</td>\n",
       "      <td>NaN</td>\n",
       "      <td>NaN</td>\n",
       "      <td>NaN</td>\n",
       "      <td>NaN</td>\n",
       "    </tr>\n",
       "    <tr>\n",
       "      <th>min</th>\n",
       "      <td>NaN</td>\n",
       "      <td>NaN</td>\n",
       "      <td>NaN</td>\n",
       "      <td>NaN</td>\n",
       "      <td>NaN</td>\n",
       "      <td>NaN</td>\n",
       "      <td>NaN</td>\n",
       "      <td>NaN</td>\n",
       "      <td>NaN</td>\n",
       "      <td>NaN</td>\n",
       "      <td>...</td>\n",
       "      <td>NaN</td>\n",
       "      <td>NaN</td>\n",
       "      <td>NaN</td>\n",
       "      <td>NaN</td>\n",
       "      <td>-179.98300</td>\n",
       "      <td>-90.00000</td>\n",
       "      <td>NaN</td>\n",
       "      <td>NaN</td>\n",
       "      <td>NaN</td>\n",
       "      <td>NaN</td>\n",
       "    </tr>\n",
       "    <tr>\n",
       "      <th>25%</th>\n",
       "      <td>NaN</td>\n",
       "      <td>NaN</td>\n",
       "      <td>NaN</td>\n",
       "      <td>NaN</td>\n",
       "      <td>NaN</td>\n",
       "      <td>NaN</td>\n",
       "      <td>NaN</td>\n",
       "      <td>NaN</td>\n",
       "      <td>NaN</td>\n",
       "      <td>NaN</td>\n",
       "      <td>...</td>\n",
       "      <td>NaN</td>\n",
       "      <td>NaN</td>\n",
       "      <td>NaN</td>\n",
       "      <td>NaN</td>\n",
       "      <td>-80.15575</td>\n",
       "      <td>29.97555</td>\n",
       "      <td>NaN</td>\n",
       "      <td>NaN</td>\n",
       "      <td>NaN</td>\n",
       "      <td>NaN</td>\n",
       "    </tr>\n",
       "    <tr>\n",
       "      <th>50%</th>\n",
       "      <td>NaN</td>\n",
       "      <td>NaN</td>\n",
       "      <td>NaN</td>\n",
       "      <td>NaN</td>\n",
       "      <td>NaN</td>\n",
       "      <td>NaN</td>\n",
       "      <td>NaN</td>\n",
       "      <td>NaN</td>\n",
       "      <td>NaN</td>\n",
       "      <td>NaN</td>\n",
       "      <td>...</td>\n",
       "      <td>NaN</td>\n",
       "      <td>NaN</td>\n",
       "      <td>NaN</td>\n",
       "      <td>NaN</td>\n",
       "      <td>-2.45000</td>\n",
       "      <td>40.67820</td>\n",
       "      <td>NaN</td>\n",
       "      <td>NaN</td>\n",
       "      <td>NaN</td>\n",
       "      <td>NaN</td>\n",
       "    </tr>\n",
       "    <tr>\n",
       "      <th>75%</th>\n",
       "      <td>NaN</td>\n",
       "      <td>NaN</td>\n",
       "      <td>NaN</td>\n",
       "      <td>NaN</td>\n",
       "      <td>NaN</td>\n",
       "      <td>NaN</td>\n",
       "      <td>NaN</td>\n",
       "      <td>NaN</td>\n",
       "      <td>NaN</td>\n",
       "      <td>NaN</td>\n",
       "      <td>...</td>\n",
       "      <td>NaN</td>\n",
       "      <td>NaN</td>\n",
       "      <td>NaN</td>\n",
       "      <td>NaN</td>\n",
       "      <td>30.71740</td>\n",
       "      <td>48.84722</td>\n",
       "      <td>NaN</td>\n",
       "      <td>NaN</td>\n",
       "      <td>NaN</td>\n",
       "      <td>NaN</td>\n",
       "    </tr>\n",
       "    <tr>\n",
       "      <th>max</th>\n",
       "      <td>NaN</td>\n",
       "      <td>NaN</td>\n",
       "      <td>NaN</td>\n",
       "      <td>NaN</td>\n",
       "      <td>NaN</td>\n",
       "      <td>NaN</td>\n",
       "      <td>NaN</td>\n",
       "      <td>NaN</td>\n",
       "      <td>NaN</td>\n",
       "      <td>NaN</td>\n",
       "      <td>...</td>\n",
       "      <td>NaN</td>\n",
       "      <td>NaN</td>\n",
       "      <td>NaN</td>\n",
       "      <td>NaN</td>\n",
       "      <td>179.99412</td>\n",
       "      <td>89.99870</td>\n",
       "      <td>NaN</td>\n",
       "      <td>NaN</td>\n",
       "      <td>NaN</td>\n",
       "      <td>NaN</td>\n",
       "    </tr>\n",
       "  </tbody>\n",
       "</table>\n",
       "<p>11 rows × 23 columns</p>\n",
       "</div>"
      ],
      "text/plain": [
       "            sid               id       name  street     zip  \\\n",
       "count   1022658          1022658    1022658  715704  715579   \n",
       "unique  1022658          1022658     935776  656262  181474   \n",
       "top      719981  110296492939207  Starbucks           10001   \n",
       "freq          1                1       1097    1652    1649   \n",
       "mean        NaN              NaN        NaN     NaN     NaN   \n",
       "std         NaN              NaN        NaN     NaN     NaN   \n",
       "min         NaN              NaN        NaN     NaN     NaN   \n",
       "25%         NaN              NaN        NaN     NaN     NaN   \n",
       "50%         NaN              NaN        NaN     NaN     NaN   \n",
       "75%         NaN              NaN        NaN     NaN     NaN   \n",
       "max         NaN              NaN        NaN     NaN     NaN   \n",
       "\n",
       "                      city            region      cd             phone  \\\n",
       "count               937166              1760  939010            601688   \n",
       "unique              118541              1743     245            577305   \n",
       "top     New York, New York  Eastern Province      US  +44 345 748 4950   \n",
       "freq                 29954                 4  331424               178   \n",
       "mean                   NaN               NaN     NaN               NaN   \n",
       "std                    NaN               NaN     NaN               NaN   \n",
       "min                    NaN               NaN     NaN               NaN   \n",
       "25%                    NaN               NaN     NaN               NaN   \n",
       "50%                    NaN               NaN     NaN               NaN   \n",
       "75%                    NaN               NaN     NaN               NaN   \n",
       "max                    NaN               NaN     NaN               NaN   \n",
       "\n",
       "       aj_exact_city_match  ...             dir_city_name  \\\n",
       "count              1000510  ...                    495698   \n",
       "unique                   2  ...                    114996   \n",
       "top                  False  ...  Hells Kitchen, Manhattan   \n",
       "freq                907651  ...                      1326   \n",
       "mean                   NaN  ...                       NaN   \n",
       "std                    NaN  ...                       NaN   \n",
       "min                    NaN  ...                       NaN   \n",
       "25%                    NaN  ...                       NaN   \n",
       "50%                    NaN  ...                       NaN   \n",
       "75%                    NaN  ...                       NaN   \n",
       "max                    NaN  ...                       NaN   \n",
       "\n",
       "                  dir_city_slug dir_country_id dir_country_name           lat  \\\n",
       "count                    495221         495628           495698 1016495.00000   \n",
       "unique                   114426            234              235           NaN   \n",
       "top     hells-kitchen-manhattan             US    United States           NaN   \n",
       "freq                       1326         170983           170983           NaN   \n",
       "mean                        NaN            NaN              NaN     -15.29215   \n",
       "std                         NaN            NaN              NaN      76.15085   \n",
       "min                         NaN            NaN              NaN    -179.98300   \n",
       "25%                         NaN            NaN              NaN     -80.15575   \n",
       "50%                         NaN            NaN              NaN      -2.45000   \n",
       "75%                         NaN            NaN              NaN      30.71740   \n",
       "max                         NaN            NaN              NaN     179.99412   \n",
       "\n",
       "                 lng primary_alias_on_fb    slug                    website  \\\n",
       "count  1016495.00000              425531  941668                     623262   \n",
       "unique           NaN              425486  833398                     583671   \n",
       "top              NaN      pandpnewcastle       -  http://www.starbucks.com/   \n",
       "freq             NaN                   2    6588                        297   \n",
       "mean        34.21718                 NaN     NaN                        NaN   \n",
       "std         22.01081                 NaN     NaN                        NaN   \n",
       "min        -90.00000                 NaN     NaN                        NaN   \n",
       "25%         29.97555                 NaN     NaN                        NaN   \n",
       "50%         40.67820                 NaN     NaN                        NaN   \n",
       "75%         48.84722                 NaN     NaN                        NaN   \n",
       "max         89.99870                 NaN     NaN                        NaN   \n",
       "\n",
       "                            cts  \n",
       "count                   1022658  \n",
       "unique                  1022298  \n",
       "top     2019-05-25 23:54:48.969  \n",
       "freq                          2  \n",
       "mean                        NaN  \n",
       "std                         NaN  \n",
       "min                         NaN  \n",
       "25%                         NaN  \n",
       "50%                         NaN  \n",
       "75%                         NaN  \n",
       "max                         NaN  \n",
       "\n",
       "[11 rows x 23 columns]"
      ]
     },
     "execution_count": 55,
     "metadata": {},
     "output_type": "execute_result"
    }
   ],
   "source": [
    "df_instagram_locations.describe(include = 'all')"
   ]
  },
  {
   "cell_type": "markdown",
   "id": "2b29da96-f868-4411-8e50-c6a9689c1c02",
   "metadata": {},
   "source": [
    "##### **aj_exact_city_match**"
   ]
  },
  {
   "cell_type": "code",
   "execution_count": 54,
   "id": "78db79d8-7fcf-44fb-aed9-0a9db0ba08ad",
   "metadata": {},
   "outputs": [
    {
     "data": {
      "image/png": "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\n",
      "text/plain": [
       "<Figure size 432x288 with 1 Axes>"
      ]
     },
     "metadata": {
      "needs_background": "light"
     },
     "output_type": "display_data"
    }
   ],
   "source": [
    "bar_binary(df_instagram_locations['aj_exact_city_match'], \"aj_exact_city_match\", \"Count of aj_exact_city_match\", \"orange\")"
   ]
  },
  {
   "cell_type": "markdown",
   "id": "74411db5-2d7e-4565-bb4a-bf6407368707",
   "metadata": {
    "tags": []
   }
    
  
  
  
  
  
  
  

 ],
 
 
 "metadata": {
  "kernelspec": {
   "display_name": "Python 3",
   "language": "python",
   "name": "python3"
  },
  "language_info": {
   "codemirror_mode": {
    "name": "ipython",
    "version": 3
   },
   "file_extension": ".py",
   "mimetype": "text/x-python",
   "name": "python",
   "nbconvert_exporter": "python",
   "pygments_lexer": "ipython3",
   "version": "3.8.8"
  }
 },
 "nbformat": 4,
 "nbformat_minor": 5
}
